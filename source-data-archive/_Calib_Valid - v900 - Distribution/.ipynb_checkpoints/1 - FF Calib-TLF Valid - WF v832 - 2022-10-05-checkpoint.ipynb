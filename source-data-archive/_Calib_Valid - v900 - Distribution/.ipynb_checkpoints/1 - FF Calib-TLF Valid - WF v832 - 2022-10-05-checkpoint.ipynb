{
 "cells": [
  {
   "cell_type": "code",
   "execution_count": 49,
   "metadata": {},
   "outputs": [],
   "source": [
    "#import chart_studio.plotly as py\n",
    "#import plotly.figure_factory as ff\n",
    "#import plotly.graph_objects as go\n",
    "import pandas as pd\n",
    "import plotly.express as px"
   ]
  },
  {
   "cell_type": "code",
   "execution_count": 50,
   "metadata": {},
   "outputs": [],
   "source": [
    "#dfTLF_Obs = pd.DataFrame(columns=['TRIPPURP','XTRIPTYPE','TLFTYPE','BIN_MIN','FREQ'])\n",
    "#dfTLF_Obs"
   ]
  },
  {
   "cell_type": "code",
   "execution_count": 51,
   "metadata": {},
   "outputs": [
    {
     "data": {
      "text/html": [
       "<div>\n",
       "<style scoped>\n",
       "    .dataframe tbody tr th:only-of-type {\n",
       "        vertical-align: middle;\n",
       "    }\n",
       "\n",
       "    .dataframe tbody tr th {\n",
       "        vertical-align: top;\n",
       "    }\n",
       "\n",
       "    .dataframe thead th {\n",
       "        text-align: right;\n",
       "    }\n",
       "</style>\n",
       "<table border=\"1\" class=\"dataframe\">\n",
       "  <thead>\n",
       "    <tr style=\"text-align: right;\">\n",
       "      <th></th>\n",
       "      <th>VERSION</th>\n",
       "      <th>TRIPPURP</th>\n",
       "      <th>XTRIPTYPE</th>\n",
       "      <th>TLFTYPE</th>\n",
       "      <th>BIN_MIN</th>\n",
       "      <th>FREQ</th>\n",
       "    </tr>\n",
       "  </thead>\n",
       "  <tbody>\n",
       "    <tr>\n",
       "      <th>0</th>\n",
       "      <td>v832</td>\n",
       "      <td>HBW</td>\n",
       "      <td>II</td>\n",
       "      <td>GC</td>\n",
       "      <td>0.0</td>\n",
       "      <td>0.000000</td>\n",
       "    </tr>\n",
       "    <tr>\n",
       "      <th>1</th>\n",
       "      <td>v832</td>\n",
       "      <td>HBW</td>\n",
       "      <td>II</td>\n",
       "      <td>GC</td>\n",
       "      <td>2.0</td>\n",
       "      <td>0.021127</td>\n",
       "    </tr>\n",
       "    <tr>\n",
       "      <th>2</th>\n",
       "      <td>v832</td>\n",
       "      <td>HBW</td>\n",
       "      <td>II</td>\n",
       "      <td>GC</td>\n",
       "      <td>4.0</td>\n",
       "      <td>0.042734</td>\n",
       "    </tr>\n",
       "    <tr>\n",
       "      <th>3</th>\n",
       "      <td>v832</td>\n",
       "      <td>HBW</td>\n",
       "      <td>II</td>\n",
       "      <td>GC</td>\n",
       "      <td>6.0</td>\n",
       "      <td>0.062426</td>\n",
       "    </tr>\n",
       "    <tr>\n",
       "      <th>4</th>\n",
       "      <td>v832</td>\n",
       "      <td>HBW</td>\n",
       "      <td>II</td>\n",
       "      <td>GC</td>\n",
       "      <td>8.0</td>\n",
       "      <td>0.080958</td>\n",
       "    </tr>\n",
       "    <tr>\n",
       "      <th>...</th>\n",
       "      <td>...</td>\n",
       "      <td>...</td>\n",
       "      <td>...</td>\n",
       "      <td>...</td>\n",
       "      <td>...</td>\n",
       "      <td>...</td>\n",
       "    </tr>\n",
       "    <tr>\n",
       "      <th>6418</th>\n",
       "      <td>v9a</td>\n",
       "      <td>HV</td>\n",
       "      <td>XI</td>\n",
       "      <td>GC</td>\n",
       "      <td>402.0</td>\n",
       "      <td>0.000000</td>\n",
       "    </tr>\n",
       "    <tr>\n",
       "      <th>6419</th>\n",
       "      <td>v9a</td>\n",
       "      <td>HV</td>\n",
       "      <td>XI</td>\n",
       "      <td>GC</td>\n",
       "      <td>404.0</td>\n",
       "      <td>0.000000</td>\n",
       "    </tr>\n",
       "    <tr>\n",
       "      <th>6420</th>\n",
       "      <td>v9a</td>\n",
       "      <td>HV</td>\n",
       "      <td>XI</td>\n",
       "      <td>GC</td>\n",
       "      <td>406.0</td>\n",
       "      <td>0.000000</td>\n",
       "    </tr>\n",
       "    <tr>\n",
       "      <th>6421</th>\n",
       "      <td>v9a</td>\n",
       "      <td>HV</td>\n",
       "      <td>XI</td>\n",
       "      <td>GC</td>\n",
       "      <td>408.0</td>\n",
       "      <td>0.000000</td>\n",
       "    </tr>\n",
       "    <tr>\n",
       "      <th>6422</th>\n",
       "      <td>v9a</td>\n",
       "      <td>HV</td>\n",
       "      <td>XI</td>\n",
       "      <td>GC</td>\n",
       "      <td>410.0</td>\n",
       "      <td>0.000000</td>\n",
       "    </tr>\n",
       "  </tbody>\n",
       "</table>\n",
       "<p>6423 rows × 6 columns</p>\n",
       "</div>"
      ],
      "text/plain": [
       "     VERSION TRIPPURP XTRIPTYPE TLFTYPE  BIN_MIN      FREQ\n",
       "0       v832      HBW        II      GC      0.0  0.000000\n",
       "1       v832      HBW        II      GC      2.0  0.021127\n",
       "2       v832      HBW        II      GC      4.0  0.042734\n",
       "3       v832      HBW        II      GC      6.0  0.062426\n",
       "4       v832      HBW        II      GC      8.0  0.080958\n",
       "...      ...      ...       ...     ...      ...       ...\n",
       "6418     v9a       HV        XI      GC    402.0  0.000000\n",
       "6419     v9a       HV        XI      GC    404.0  0.000000\n",
       "6420     v9a       HV        XI      GC    406.0  0.000000\n",
       "6421     v9a       HV        XI      GC    408.0  0.000000\n",
       "6422     v9a       HV        XI      GC    410.0  0.000000\n",
       "\n",
       "[6423 rows x 6 columns]"
      ]
     },
     "execution_count": 51,
     "metadata": {},
     "output_type": "execute_result"
    }
   ],
   "source": [
    "dfTLF_Obs = pd.read_csv('_TLF_Observed_v832_2022-09-21.csv')\n",
    "dfTLF_Obs"
   ]
  },
  {
   "cell_type": "code",
   "execution_count": 52,
   "metadata": {},
   "outputs": [
    {
     "data": {
      "text/html": [
       "<div>\n",
       "<style scoped>\n",
       "    .dataframe tbody tr th:only-of-type {\n",
       "        vertical-align: middle;\n",
       "    }\n",
       "\n",
       "    .dataframe tbody tr th {\n",
       "        vertical-align: top;\n",
       "    }\n",
       "\n",
       "    .dataframe thead th {\n",
       "        text-align: right;\n",
       "    }\n",
       "</style>\n",
       "<table border=\"1\" class=\"dataframe\">\n",
       "  <thead>\n",
       "    <tr style=\"text-align: right;\">\n",
       "      <th></th>\n",
       "      <th></th>\n",
       "      <th></th>\n",
       "      <th></th>\n",
       "      <th>FREQ_SUM</th>\n",
       "    </tr>\n",
       "    <tr>\n",
       "      <th>VERSION</th>\n",
       "      <th>TRIPPURP</th>\n",
       "      <th>XTRIPTYPE</th>\n",
       "      <th>TLFTYPE</th>\n",
       "      <th></th>\n",
       "    </tr>\n",
       "  </thead>\n",
       "  <tbody>\n",
       "    <tr>\n",
       "      <th rowspan=\"33\" valign=\"top\">v832</th>\n",
       "      <th rowspan=\"6\" valign=\"top\">ALL_PURP</th>\n",
       "      <th rowspan=\"3\" valign=\"top\">IX</th>\n",
       "      <th>Dist</th>\n",
       "      <td>1.000000</td>\n",
       "    </tr>\n",
       "    <tr>\n",
       "      <th>GC</th>\n",
       "      <td>1.000000</td>\n",
       "    </tr>\n",
       "    <tr>\n",
       "      <th>Time</th>\n",
       "      <td>1.000000</td>\n",
       "    </tr>\n",
       "    <tr>\n",
       "      <th rowspan=\"3\" valign=\"top\">XI</th>\n",
       "      <th>Dist</th>\n",
       "      <td>1.000000</td>\n",
       "    </tr>\n",
       "    <tr>\n",
       "      <th>GC</th>\n",
       "      <td>1.000000</td>\n",
       "    </tr>\n",
       "    <tr>\n",
       "      <th>Time</th>\n",
       "      <td>1.000000</td>\n",
       "    </tr>\n",
       "    <tr>\n",
       "      <th rowspan=\"3\" valign=\"top\">HBOth</th>\n",
       "      <th rowspan=\"3\" valign=\"top\">II</th>\n",
       "      <th>Dist</th>\n",
       "      <td>1.000000</td>\n",
       "    </tr>\n",
       "    <tr>\n",
       "      <th>GC</th>\n",
       "      <td>1.000000</td>\n",
       "    </tr>\n",
       "    <tr>\n",
       "      <th>Time</th>\n",
       "      <td>1.000000</td>\n",
       "    </tr>\n",
       "    <tr>\n",
       "      <th rowspan=\"3\" valign=\"top\">HBSchPr</th>\n",
       "      <th rowspan=\"3\" valign=\"top\">II</th>\n",
       "      <th>Dist</th>\n",
       "      <td>1.000000</td>\n",
       "    </tr>\n",
       "    <tr>\n",
       "      <th>GC</th>\n",
       "      <td>1.000000</td>\n",
       "    </tr>\n",
       "    <tr>\n",
       "      <th>Time</th>\n",
       "      <td>1.000000</td>\n",
       "    </tr>\n",
       "    <tr>\n",
       "      <th rowspan=\"3\" valign=\"top\">HBSchSc</th>\n",
       "      <th rowspan=\"3\" valign=\"top\">II</th>\n",
       "      <th>Dist</th>\n",
       "      <td>1.000000</td>\n",
       "    </tr>\n",
       "    <tr>\n",
       "      <th>GC</th>\n",
       "      <td>1.000000</td>\n",
       "    </tr>\n",
       "    <tr>\n",
       "      <th>Time</th>\n",
       "      <td>1.000000</td>\n",
       "    </tr>\n",
       "    <tr>\n",
       "      <th rowspan=\"3\" valign=\"top\">HBShp</th>\n",
       "      <th rowspan=\"3\" valign=\"top\">II</th>\n",
       "      <th>Dist</th>\n",
       "      <td>1.000000</td>\n",
       "    </tr>\n",
       "    <tr>\n",
       "      <th>GC</th>\n",
       "      <td>1.000000</td>\n",
       "    </tr>\n",
       "    <tr>\n",
       "      <th>Time</th>\n",
       "      <td>1.000000</td>\n",
       "    </tr>\n",
       "    <tr>\n",
       "      <th rowspan=\"3\" valign=\"top\">HBW</th>\n",
       "      <th rowspan=\"3\" valign=\"top\">II</th>\n",
       "      <th>Dist</th>\n",
       "      <td>1.000000</td>\n",
       "    </tr>\n",
       "    <tr>\n",
       "      <th>GC</th>\n",
       "      <td>1.000000</td>\n",
       "    </tr>\n",
       "    <tr>\n",
       "      <th>Time</th>\n",
       "      <td>1.000000</td>\n",
       "    </tr>\n",
       "    <tr>\n",
       "      <th rowspan=\"3\" valign=\"top\">NHBNW_Res</th>\n",
       "      <th rowspan=\"3\" valign=\"top\">II</th>\n",
       "      <th>Dist</th>\n",
       "      <td>1.000000</td>\n",
       "    </tr>\n",
       "    <tr>\n",
       "      <th>GC</th>\n",
       "      <td>1.000000</td>\n",
       "    </tr>\n",
       "    <tr>\n",
       "      <th>Time</th>\n",
       "      <td>1.000000</td>\n",
       "    </tr>\n",
       "    <tr>\n",
       "      <th rowspan=\"3\" valign=\"top\">NHBNW_Vis</th>\n",
       "      <th rowspan=\"3\" valign=\"top\">II</th>\n",
       "      <th>Dist</th>\n",
       "      <td>1.000000</td>\n",
       "    </tr>\n",
       "    <tr>\n",
       "      <th>GC</th>\n",
       "      <td>1.000000</td>\n",
       "    </tr>\n",
       "    <tr>\n",
       "      <th>Time</th>\n",
       "      <td>1.000000</td>\n",
       "    </tr>\n",
       "    <tr>\n",
       "      <th rowspan=\"3\" valign=\"top\">NHBW_Res</th>\n",
       "      <th rowspan=\"3\" valign=\"top\">II</th>\n",
       "      <th>Dist</th>\n",
       "      <td>1.000000</td>\n",
       "    </tr>\n",
       "    <tr>\n",
       "      <th>GC</th>\n",
       "      <td>1.000000</td>\n",
       "    </tr>\n",
       "    <tr>\n",
       "      <th>Time</th>\n",
       "      <td>1.000000</td>\n",
       "    </tr>\n",
       "    <tr>\n",
       "      <th rowspan=\"3\" valign=\"top\">NHBW_Vis</th>\n",
       "      <th rowspan=\"3\" valign=\"top\">II</th>\n",
       "      <th>Dist</th>\n",
       "      <td>1.000000</td>\n",
       "    </tr>\n",
       "    <tr>\n",
       "      <th>GC</th>\n",
       "      <td>1.000000</td>\n",
       "    </tr>\n",
       "    <tr>\n",
       "      <th>Time</th>\n",
       "      <td>1.000000</td>\n",
       "    </tr>\n",
       "    <tr>\n",
       "      <th rowspan=\"15\" valign=\"top\">v9a</th>\n",
       "      <th>HBOth</th>\n",
       "      <th>II</th>\n",
       "      <th>GC</th>\n",
       "      <td>1.000001</td>\n",
       "    </tr>\n",
       "    <tr>\n",
       "      <th>HBSchPr</th>\n",
       "      <th>II</th>\n",
       "      <th>GC</th>\n",
       "      <td>1.000000</td>\n",
       "    </tr>\n",
       "    <tr>\n",
       "      <th>HBSchSc</th>\n",
       "      <th>II</th>\n",
       "      <th>GC</th>\n",
       "      <td>1.000000</td>\n",
       "    </tr>\n",
       "    <tr>\n",
       "      <th>HBShp</th>\n",
       "      <th>II</th>\n",
       "      <th>GC</th>\n",
       "      <td>1.000000</td>\n",
       "    </tr>\n",
       "    <tr>\n",
       "      <th>HBW</th>\n",
       "      <th>II</th>\n",
       "      <th>GC</th>\n",
       "      <td>1.000001</td>\n",
       "    </tr>\n",
       "    <tr>\n",
       "      <th rowspan=\"3\" valign=\"top\">HV</th>\n",
       "      <th>II</th>\n",
       "      <th>GC</th>\n",
       "      <td>0.999999</td>\n",
       "    </tr>\n",
       "    <tr>\n",
       "      <th>IX</th>\n",
       "      <th>GC</th>\n",
       "      <td>1.000000</td>\n",
       "    </tr>\n",
       "    <tr>\n",
       "      <th>XI</th>\n",
       "      <th>GC</th>\n",
       "      <td>1.000000</td>\n",
       "    </tr>\n",
       "    <tr>\n",
       "      <th>IX</th>\n",
       "      <th>IX</th>\n",
       "      <th>GC</th>\n",
       "      <td>1.000000</td>\n",
       "    </tr>\n",
       "    <tr>\n",
       "      <th rowspan=\"3\" valign=\"top\">MD</th>\n",
       "      <th>II</th>\n",
       "      <th>GC</th>\n",
       "      <td>1.000000</td>\n",
       "    </tr>\n",
       "    <tr>\n",
       "      <th>IX</th>\n",
       "      <th>GC</th>\n",
       "      <td>1.000000</td>\n",
       "    </tr>\n",
       "    <tr>\n",
       "      <th>XI</th>\n",
       "      <th>GC</th>\n",
       "      <td>1.000000</td>\n",
       "    </tr>\n",
       "    <tr>\n",
       "      <th>NHBNW</th>\n",
       "      <th>II</th>\n",
       "      <th>GC</th>\n",
       "      <td>1.000000</td>\n",
       "    </tr>\n",
       "    <tr>\n",
       "      <th>NHBW</th>\n",
       "      <th>II</th>\n",
       "      <th>GC</th>\n",
       "      <td>1.000001</td>\n",
       "    </tr>\n",
       "    <tr>\n",
       "      <th>XI</th>\n",
       "      <th>XI</th>\n",
       "      <th>GC</th>\n",
       "      <td>1.000000</td>\n",
       "    </tr>\n",
       "  </tbody>\n",
       "</table>\n",
       "</div>"
      ],
      "text/plain": [
       "                                     FREQ_SUM\n",
       "VERSION TRIPPURP  XTRIPTYPE TLFTYPE          \n",
       "v832    ALL_PURP  IX        Dist     1.000000\n",
       "                            GC       1.000000\n",
       "                            Time     1.000000\n",
       "                  XI        Dist     1.000000\n",
       "                            GC       1.000000\n",
       "                            Time     1.000000\n",
       "        HBOth     II        Dist     1.000000\n",
       "                            GC       1.000000\n",
       "                            Time     1.000000\n",
       "        HBSchPr   II        Dist     1.000000\n",
       "                            GC       1.000000\n",
       "                            Time     1.000000\n",
       "        HBSchSc   II        Dist     1.000000\n",
       "                            GC       1.000000\n",
       "                            Time     1.000000\n",
       "        HBShp     II        Dist     1.000000\n",
       "                            GC       1.000000\n",
       "                            Time     1.000000\n",
       "        HBW       II        Dist     1.000000\n",
       "                            GC       1.000000\n",
       "                            Time     1.000000\n",
       "        NHBNW_Res II        Dist     1.000000\n",
       "                            GC       1.000000\n",
       "                            Time     1.000000\n",
       "        NHBNW_Vis II        Dist     1.000000\n",
       "                            GC       1.000000\n",
       "                            Time     1.000000\n",
       "        NHBW_Res  II        Dist     1.000000\n",
       "                            GC       1.000000\n",
       "                            Time     1.000000\n",
       "        NHBW_Vis  II        Dist     1.000000\n",
       "                            GC       1.000000\n",
       "                            Time     1.000000\n",
       "v9a     HBOth     II        GC       1.000001\n",
       "        HBSchPr   II        GC       1.000000\n",
       "        HBSchSc   II        GC       1.000000\n",
       "        HBShp     II        GC       1.000000\n",
       "        HBW       II        GC       1.000001\n",
       "        HV        II        GC       0.999999\n",
       "                  IX        GC       1.000000\n",
       "                  XI        GC       1.000000\n",
       "        IX        IX        GC       1.000000\n",
       "        MD        II        GC       1.000000\n",
       "                  IX        GC       1.000000\n",
       "                  XI        GC       1.000000\n",
       "        NHBNW     II        GC       1.000000\n",
       "        NHBW      II        GC       1.000001\n",
       "        XI        XI        GC       1.000000"
      ]
     },
     "execution_count": 52,
     "metadata": {},
     "output_type": "execute_result"
    }
   ],
   "source": [
    "# check TLF Observed. They should all sum to 1!\n",
    "dfTLF_Obs.groupby(['VERSION','TRIPPURP','XTRIPTYPE','TLFTYPE']).agg(FREQ_SUM=('FREQ','sum'))"
   ]
  },
  {
   "cell_type": "code",
   "execution_count": 53,
   "metadata": {},
   "outputs": [
    {
     "data": {
      "text/html": [
       "<div>\n",
       "<style scoped>\n",
       "    .dataframe tbody tr th:only-of-type {\n",
       "        vertical-align: middle;\n",
       "    }\n",
       "\n",
       "    .dataframe tbody tr th {\n",
       "        vertical-align: top;\n",
       "    }\n",
       "\n",
       "    .dataframe thead th {\n",
       "        text-align: right;\n",
       "    }\n",
       "</style>\n",
       "<table border=\"1\" class=\"dataframe\">\n",
       "  <thead>\n",
       "    <tr style=\"text-align: right;\">\n",
       "      <th></th>\n",
       "      <th>;MINUTE</th>\n",
       "      <th>HBW</th>\n",
       "      <th>HBSHP</th>\n",
       "      <th>HBOTH</th>\n",
       "      <th>HBSCH_PR</th>\n",
       "      <th>HBSCH_SC</th>\n",
       "      <th>NHBW</th>\n",
       "      <th>NHBNW</th>\n",
       "      <th>LT</th>\n",
       "      <th>MD</th>\n",
       "      <th>HV</th>\n",
       "      <th>IX</th>\n",
       "      <th>IX_LT</th>\n",
       "      <th>IX_MD</th>\n",
       "      <th>IX_HV</th>\n",
       "      <th>XI</th>\n",
       "      <th>XI_LT</th>\n",
       "      <th>XI_MD</th>\n",
       "      <th>XI_HV</th>\n",
       "      <th>version</th>\n",
       "    </tr>\n",
       "  </thead>\n",
       "  <tbody>\n",
       "    <tr>\n",
       "      <th>0</th>\n",
       "      <td>0</td>\n",
       "      <td>1.000000</td>\n",
       "      <td>1.0000</td>\n",
       "      <td>1.000000</td>\n",
       "      <td>1.000000</td>\n",
       "      <td>1.000000</td>\n",
       "      <td>1.000000</td>\n",
       "      <td>1.000000</td>\n",
       "      <td>1.000000</td>\n",
       "      <td>1.000000</td>\n",
       "      <td>1.000000</td>\n",
       "      <td>1.000000</td>\n",
       "      <td>1.000000</td>\n",
       "      <td>1.000000</td>\n",
       "      <td>1.000000</td>\n",
       "      <td>1.000</td>\n",
       "      <td>1.000</td>\n",
       "      <td>1.000</td>\n",
       "      <td>1.000</td>\n",
       "      <td>v832</td>\n",
       "    </tr>\n",
       "    <tr>\n",
       "      <th>1</th>\n",
       "      <td>2</td>\n",
       "      <td>0.999800</td>\n",
       "      <td>0.9998</td>\n",
       "      <td>0.851671</td>\n",
       "      <td>1.000000</td>\n",
       "      <td>0.919248</td>\n",
       "      <td>0.956306</td>\n",
       "      <td>0.999800</td>\n",
       "      <td>0.999800</td>\n",
       "      <td>0.333173</td>\n",
       "      <td>0.306585</td>\n",
       "      <td>0.930000</td>\n",
       "      <td>0.930000</td>\n",
       "      <td>0.930000</td>\n",
       "      <td>0.930000</td>\n",
       "      <td>0.900</td>\n",
       "      <td>0.900</td>\n",
       "      <td>0.900</td>\n",
       "      <td>0.900</td>\n",
       "      <td>v832</td>\n",
       "    </tr>\n",
       "    <tr>\n",
       "      <th>2</th>\n",
       "      <td>4</td>\n",
       "      <td>0.609169</td>\n",
       "      <td>0.9100</td>\n",
       "      <td>0.558931</td>\n",
       "      <td>1.000000</td>\n",
       "      <td>0.190806</td>\n",
       "      <td>0.788500</td>\n",
       "      <td>0.566057</td>\n",
       "      <td>0.609169</td>\n",
       "      <td>0.132144</td>\n",
       "      <td>0.112851</td>\n",
       "      <td>0.860000</td>\n",
       "      <td>0.860000</td>\n",
       "      <td>0.860000</td>\n",
       "      <td>0.860000</td>\n",
       "      <td>0.675</td>\n",
       "      <td>0.675</td>\n",
       "      <td>0.675</td>\n",
       "      <td>0.675</td>\n",
       "      <td>v832</td>\n",
       "    </tr>\n",
       "    <tr>\n",
       "      <th>3</th>\n",
       "      <td>6</td>\n",
       "      <td>0.190323</td>\n",
       "      <td>0.7425</td>\n",
       "      <td>0.209489</td>\n",
       "      <td>0.269530</td>\n",
       "      <td>0.017583</td>\n",
       "      <td>0.597200</td>\n",
       "      <td>0.353702</td>\n",
       "      <td>0.190323</td>\n",
       "      <td>0.076693</td>\n",
       "      <td>0.062572</td>\n",
       "      <td>0.790000</td>\n",
       "      <td>0.790000</td>\n",
       "      <td>0.790000</td>\n",
       "      <td>0.790000</td>\n",
       "      <td>0.375</td>\n",
       "      <td>0.375</td>\n",
       "      <td>0.375</td>\n",
       "      <td>0.375</td>\n",
       "      <td>v832</td>\n",
       "    </tr>\n",
       "    <tr>\n",
       "      <th>4</th>\n",
       "      <td>8</td>\n",
       "      <td>0.098000</td>\n",
       "      <td>0.3650</td>\n",
       "      <td>0.076413</td>\n",
       "      <td>0.014603</td>\n",
       "      <td>0.003498</td>\n",
       "      <td>0.376449</td>\n",
       "      <td>0.187339</td>\n",
       "      <td>0.098000</td>\n",
       "      <td>0.052069</td>\n",
       "      <td>0.041099</td>\n",
       "      <td>0.720000</td>\n",
       "      <td>0.720000</td>\n",
       "      <td>0.720000</td>\n",
       "      <td>0.720000</td>\n",
       "      <td>0.200</td>\n",
       "      <td>0.200</td>\n",
       "      <td>0.200</td>\n",
       "      <td>0.200</td>\n",
       "      <td>v832</td>\n",
       "    </tr>\n",
       "    <tr>\n",
       "      <th>...</th>\n",
       "      <td>...</td>\n",
       "      <td>...</td>\n",
       "      <td>...</td>\n",
       "      <td>...</td>\n",
       "      <td>...</td>\n",
       "      <td>...</td>\n",
       "      <td>...</td>\n",
       "      <td>...</td>\n",
       "      <td>...</td>\n",
       "      <td>...</td>\n",
       "      <td>...</td>\n",
       "      <td>...</td>\n",
       "      <td>...</td>\n",
       "      <td>...</td>\n",
       "      <td>...</td>\n",
       "      <td>...</td>\n",
       "      <td>...</td>\n",
       "      <td>...</td>\n",
       "      <td>...</td>\n",
       "      <td>...</td>\n",
       "    </tr>\n",
       "    <tr>\n",
       "      <th>146</th>\n",
       "      <td>292</td>\n",
       "      <td>0.000000</td>\n",
       "      <td>0.0000</td>\n",
       "      <td>0.000000</td>\n",
       "      <td>0.000000</td>\n",
       "      <td>0.000000</td>\n",
       "      <td>0.000000</td>\n",
       "      <td>0.000000</td>\n",
       "      <td>0.000000</td>\n",
       "      <td>0.000000</td>\n",
       "      <td>0.000000</td>\n",
       "      <td>0.004117</td>\n",
       "      <td>0.004117</td>\n",
       "      <td>0.004117</td>\n",
       "      <td>0.004117</td>\n",
       "      <td>0.000</td>\n",
       "      <td>0.000</td>\n",
       "      <td>0.000</td>\n",
       "      <td>0.000</td>\n",
       "      <td>v832</td>\n",
       "    </tr>\n",
       "    <tr>\n",
       "      <th>147</th>\n",
       "      <td>294</td>\n",
       "      <td>0.000000</td>\n",
       "      <td>0.0000</td>\n",
       "      <td>0.000000</td>\n",
       "      <td>0.000000</td>\n",
       "      <td>0.000000</td>\n",
       "      <td>0.000000</td>\n",
       "      <td>0.000000</td>\n",
       "      <td>0.000000</td>\n",
       "      <td>0.000000</td>\n",
       "      <td>0.000000</td>\n",
       "      <td>0.003500</td>\n",
       "      <td>0.003500</td>\n",
       "      <td>0.003500</td>\n",
       "      <td>0.003500</td>\n",
       "      <td>0.000</td>\n",
       "      <td>0.000</td>\n",
       "      <td>0.000</td>\n",
       "      <td>0.000</td>\n",
       "      <td>v832</td>\n",
       "    </tr>\n",
       "    <tr>\n",
       "      <th>148</th>\n",
       "      <td>296</td>\n",
       "      <td>0.000000</td>\n",
       "      <td>0.0000</td>\n",
       "      <td>0.000000</td>\n",
       "      <td>0.000000</td>\n",
       "      <td>0.000000</td>\n",
       "      <td>0.000000</td>\n",
       "      <td>0.000000</td>\n",
       "      <td>0.000000</td>\n",
       "      <td>0.000000</td>\n",
       "      <td>0.000000</td>\n",
       "      <td>0.001750</td>\n",
       "      <td>0.001750</td>\n",
       "      <td>0.001750</td>\n",
       "      <td>0.001750</td>\n",
       "      <td>0.000</td>\n",
       "      <td>0.000</td>\n",
       "      <td>0.000</td>\n",
       "      <td>0.000</td>\n",
       "      <td>v832</td>\n",
       "    </tr>\n",
       "    <tr>\n",
       "      <th>149</th>\n",
       "      <td>298</td>\n",
       "      <td>0.000000</td>\n",
       "      <td>0.0000</td>\n",
       "      <td>0.000000</td>\n",
       "      <td>0.000000</td>\n",
       "      <td>0.000000</td>\n",
       "      <td>0.000000</td>\n",
       "      <td>0.000000</td>\n",
       "      <td>0.000000</td>\n",
       "      <td>0.000000</td>\n",
       "      <td>0.000000</td>\n",
       "      <td>0.000000</td>\n",
       "      <td>0.000000</td>\n",
       "      <td>0.000000</td>\n",
       "      <td>0.000000</td>\n",
       "      <td>0.000</td>\n",
       "      <td>0.000</td>\n",
       "      <td>0.000</td>\n",
       "      <td>0.000</td>\n",
       "      <td>v832</td>\n",
       "    </tr>\n",
       "    <tr>\n",
       "      <th>150</th>\n",
       "      <td>300</td>\n",
       "      <td>0.000000</td>\n",
       "      <td>0.0000</td>\n",
       "      <td>0.000000</td>\n",
       "      <td>0.000000</td>\n",
       "      <td>0.000000</td>\n",
       "      <td>0.000000</td>\n",
       "      <td>0.000000</td>\n",
       "      <td>0.000000</td>\n",
       "      <td>0.000000</td>\n",
       "      <td>0.000000</td>\n",
       "      <td>0.000000</td>\n",
       "      <td>0.000000</td>\n",
       "      <td>0.000000</td>\n",
       "      <td>0.000000</td>\n",
       "      <td>0.000</td>\n",
       "      <td>0.000</td>\n",
       "      <td>0.000</td>\n",
       "      <td>0.000</td>\n",
       "      <td>v832</td>\n",
       "    </tr>\n",
       "  </tbody>\n",
       "</table>\n",
       "<p>151 rows × 20 columns</p>\n",
       "</div>"
      ],
      "text/plain": [
       "     ;MINUTE       HBW   HBSHP     HBOTH  HBSCH_PR  HBSCH_SC      NHBW  \\\n",
       "0          0  1.000000  1.0000  1.000000  1.000000  1.000000  1.000000   \n",
       "1          2  0.999800  0.9998  0.851671  1.000000  0.919248  0.956306   \n",
       "2          4  0.609169  0.9100  0.558931  1.000000  0.190806  0.788500   \n",
       "3          6  0.190323  0.7425  0.209489  0.269530  0.017583  0.597200   \n",
       "4          8  0.098000  0.3650  0.076413  0.014603  0.003498  0.376449   \n",
       "..       ...       ...     ...       ...       ...       ...       ...   \n",
       "146      292  0.000000  0.0000  0.000000  0.000000  0.000000  0.000000   \n",
       "147      294  0.000000  0.0000  0.000000  0.000000  0.000000  0.000000   \n",
       "148      296  0.000000  0.0000  0.000000  0.000000  0.000000  0.000000   \n",
       "149      298  0.000000  0.0000  0.000000  0.000000  0.000000  0.000000   \n",
       "150      300  0.000000  0.0000  0.000000  0.000000  0.000000  0.000000   \n",
       "\n",
       "        NHBNW        LT        MD        HV        IX     IX_LT     IX_MD  \\\n",
       "0    1.000000  1.000000  1.000000  1.000000  1.000000  1.000000  1.000000   \n",
       "1    0.999800  0.999800  0.333173  0.306585  0.930000  0.930000  0.930000   \n",
       "2    0.566057  0.609169  0.132144  0.112851  0.860000  0.860000  0.860000   \n",
       "3    0.353702  0.190323  0.076693  0.062572  0.790000  0.790000  0.790000   \n",
       "4    0.187339  0.098000  0.052069  0.041099  0.720000  0.720000  0.720000   \n",
       "..        ...       ...       ...       ...       ...       ...       ...   \n",
       "146  0.000000  0.000000  0.000000  0.000000  0.004117  0.004117  0.004117   \n",
       "147  0.000000  0.000000  0.000000  0.000000  0.003500  0.003500  0.003500   \n",
       "148  0.000000  0.000000  0.000000  0.000000  0.001750  0.001750  0.001750   \n",
       "149  0.000000  0.000000  0.000000  0.000000  0.000000  0.000000  0.000000   \n",
       "150  0.000000  0.000000  0.000000  0.000000  0.000000  0.000000  0.000000   \n",
       "\n",
       "        IX_HV     XI  XI_LT  XI_MD  XI_HV version  \n",
       "0    1.000000  1.000  1.000  1.000  1.000    v832  \n",
       "1    0.930000  0.900  0.900  0.900  0.900    v832  \n",
       "2    0.860000  0.675  0.675  0.675  0.675    v832  \n",
       "3    0.790000  0.375  0.375  0.375  0.375    v832  \n",
       "4    0.720000  0.200  0.200  0.200  0.200    v832  \n",
       "..        ...    ...    ...    ...    ...     ...  \n",
       "146  0.004117  0.000  0.000  0.000  0.000    v832  \n",
       "147  0.003500  0.000  0.000  0.000  0.000    v832  \n",
       "148  0.001750  0.000  0.000  0.000  0.000    v832  \n",
       "149  0.000000  0.000  0.000  0.000  0.000    v832  \n",
       "150  0.000000  0.000  0.000  0.000  0.000    v832  \n",
       "\n",
       "[151 rows x 20 columns]"
      ]
     },
     "execution_count": 53,
     "metadata": {},
     "output_type": "execute_result"
    }
   ],
   "source": [
    "# read in Friction Factors\n",
    "dfsFF=[]\n",
    "\n",
    "dfFF = pd.read_csv(r'_Friction_Factors\\FricFactor_AllPurp.csv')\n",
    "dfFF['version']='v832'\n",
    "\n",
    "dfsFF.append(dfFF)\n",
    "\n",
    "dfsFF[0]"
   ]
  },
  {
   "cell_type": "code",
   "execution_count": 20,
   "metadata": {},
   "outputs": [
    {
     "data": {
      "application/vnd.plotly.v1+json": {
       "config": {
        "plotlyServerURL": "https://plot.ly"
       },
       "data": [
        {
         "hovertemplate": "x=%{x}<br>y=%{y}<extra></extra>",
         "legendgroup": "",
         "line": {
          "color": "#636efa",
          "dash": "solid"
         },
         "marker": {
          "symbol": "circle"
         },
         "mode": "lines",
         "name": "",
         "orientation": "v",
         "showlegend": false,
         "type": "scatter",
         "x": [
          0,
          2,
          4,
          6,
          8,
          10,
          12,
          14,
          16,
          18,
          20,
          22,
          24,
          26,
          28,
          30,
          32,
          34,
          36,
          38,
          40,
          42,
          44,
          46,
          48,
          50,
          52,
          54,
          56,
          58,
          60,
          62,
          64,
          66,
          68,
          70,
          72,
          74,
          76,
          78,
          80,
          82,
          84,
          86,
          88,
          90,
          92,
          94,
          96,
          98,
          100,
          102,
          104,
          106,
          108,
          110,
          112,
          114,
          116,
          118,
          120,
          122,
          124,
          126,
          128,
          130,
          132,
          134,
          136,
          138,
          140,
          142,
          144,
          146,
          148,
          150,
          152,
          154,
          156,
          158,
          160,
          162,
          164,
          166,
          168,
          170,
          172,
          174,
          176,
          178,
          180,
          182,
          184,
          186,
          188,
          190,
          192,
          194,
          196,
          198,
          200
         ],
         "xaxis": "x",
         "y": [
          0,
          0.0211272,
          0.0427343,
          0.0624259,
          0.0809578,
          0.0849926,
          0.0837982,
          0.0788459,
          0.0731954,
          0.0665581,
          0.0592976,
          0.0508705,
          0.0425814,
          0.0353677,
          0.029406,
          0.0248883,
          0.021158,
          0.0183313,
          0.0157014,
          0.0136739,
          0.0117295,
          0.0100129,
          0.0084453,
          0.0070404,
          0.0059673,
          0.0051056,
          0.0046137,
          0.0041218,
          0.0038162,
          0.0034887,
          0.0031612,
          0.0028624,
          0.0025636,
          0.0022845,
          0.0019767,
          0.0017108,
          0.0015254,
          0.0013687,
          0.0012144,
          0.0011183,
          0.0010221,
          0.0009589,
          0.0008957,
          0.0008357,
          0.0007757,
          0.0007198,
          0.0006639,
          0.0006159,
          0.0005466,
          0.0004939,
          0.0004291,
          0.0003624,
          0.0002997,
          0.0002551,
          0.0001961,
          0.000137,
          0.0001135,
          7.96e-05,
          6.2e-05,
          5.66e-05,
          5.38e-05,
          4.62e-05,
          3.97e-05,
          3.19e-05,
          2.99e-05,
          2.68e-05,
          2.24e-05,
          1.81e-05,
          1.81e-05,
          1.81e-05,
          1.81e-05,
          1.81e-05,
          1.81e-05,
          1.65e-05,
          1.65e-05,
          1.65e-05,
          1.65e-05,
          1.65e-05,
          0,
          0,
          0,
          0,
          0,
          0,
          0,
          0,
          0,
          0,
          0,
          0,
          0,
          0,
          0,
          0,
          0,
          0,
          0,
          0,
          0,
          0,
          0
         ],
         "yaxis": "y"
        }
       ],
       "layout": {
        "autosize": true,
        "legend": {
         "tracegroupgap": 0
        },
        "margin": {
         "t": 60
        },
        "template": {
         "data": {
          "bar": [
           {
            "error_x": {
             "color": "#2a3f5f"
            },
            "error_y": {
             "color": "#2a3f5f"
            },
            "marker": {
             "line": {
              "color": "#E5ECF6",
              "width": 0.5
             },
             "pattern": {
              "fillmode": "overlay",
              "size": 10,
              "solidity": 0.2
             }
            },
            "type": "bar"
           }
          ],
          "barpolar": [
           {
            "marker": {
             "line": {
              "color": "#E5ECF6",
              "width": 0.5
             },
             "pattern": {
              "fillmode": "overlay",
              "size": 10,
              "solidity": 0.2
             }
            },
            "type": "barpolar"
           }
          ],
          "carpet": [
           {
            "aaxis": {
             "endlinecolor": "#2a3f5f",
             "gridcolor": "white",
             "linecolor": "white",
             "minorgridcolor": "white",
             "startlinecolor": "#2a3f5f"
            },
            "baxis": {
             "endlinecolor": "#2a3f5f",
             "gridcolor": "white",
             "linecolor": "white",
             "minorgridcolor": "white",
             "startlinecolor": "#2a3f5f"
            },
            "type": "carpet"
           }
          ],
          "choropleth": [
           {
            "colorbar": {
             "outlinewidth": 0,
             "ticks": ""
            },
            "type": "choropleth"
           }
          ],
          "contour": [
           {
            "colorbar": {
             "outlinewidth": 0,
             "ticks": ""
            },
            "colorscale": [
             [
              0,
              "#0d0887"
             ],
             [
              0.1111111111111111,
              "#46039f"
             ],
             [
              0.2222222222222222,
              "#7201a8"
             ],
             [
              0.3333333333333333,
              "#9c179e"
             ],
             [
              0.4444444444444444,
              "#bd3786"
             ],
             [
              0.5555555555555556,
              "#d8576b"
             ],
             [
              0.6666666666666666,
              "#ed7953"
             ],
             [
              0.7777777777777778,
              "#fb9f3a"
             ],
             [
              0.8888888888888888,
              "#fdca26"
             ],
             [
              1,
              "#f0f921"
             ]
            ],
            "type": "contour"
           }
          ],
          "contourcarpet": [
           {
            "colorbar": {
             "outlinewidth": 0,
             "ticks": ""
            },
            "type": "contourcarpet"
           }
          ],
          "heatmap": [
           {
            "colorbar": {
             "outlinewidth": 0,
             "ticks": ""
            },
            "colorscale": [
             [
              0,
              "#0d0887"
             ],
             [
              0.1111111111111111,
              "#46039f"
             ],
             [
              0.2222222222222222,
              "#7201a8"
             ],
             [
              0.3333333333333333,
              "#9c179e"
             ],
             [
              0.4444444444444444,
              "#bd3786"
             ],
             [
              0.5555555555555556,
              "#d8576b"
             ],
             [
              0.6666666666666666,
              "#ed7953"
             ],
             [
              0.7777777777777778,
              "#fb9f3a"
             ],
             [
              0.8888888888888888,
              "#fdca26"
             ],
             [
              1,
              "#f0f921"
             ]
            ],
            "type": "heatmap"
           }
          ],
          "heatmapgl": [
           {
            "colorbar": {
             "outlinewidth": 0,
             "ticks": ""
            },
            "colorscale": [
             [
              0,
              "#0d0887"
             ],
             [
              0.1111111111111111,
              "#46039f"
             ],
             [
              0.2222222222222222,
              "#7201a8"
             ],
             [
              0.3333333333333333,
              "#9c179e"
             ],
             [
              0.4444444444444444,
              "#bd3786"
             ],
             [
              0.5555555555555556,
              "#d8576b"
             ],
             [
              0.6666666666666666,
              "#ed7953"
             ],
             [
              0.7777777777777778,
              "#fb9f3a"
             ],
             [
              0.8888888888888888,
              "#fdca26"
             ],
             [
              1,
              "#f0f921"
             ]
            ],
            "type": "heatmapgl"
           }
          ],
          "histogram": [
           {
            "marker": {
             "pattern": {
              "fillmode": "overlay",
              "size": 10,
              "solidity": 0.2
             }
            },
            "type": "histogram"
           }
          ],
          "histogram2d": [
           {
            "colorbar": {
             "outlinewidth": 0,
             "ticks": ""
            },
            "colorscale": [
             [
              0,
              "#0d0887"
             ],
             [
              0.1111111111111111,
              "#46039f"
             ],
             [
              0.2222222222222222,
              "#7201a8"
             ],
             [
              0.3333333333333333,
              "#9c179e"
             ],
             [
              0.4444444444444444,
              "#bd3786"
             ],
             [
              0.5555555555555556,
              "#d8576b"
             ],
             [
              0.6666666666666666,
              "#ed7953"
             ],
             [
              0.7777777777777778,
              "#fb9f3a"
             ],
             [
              0.8888888888888888,
              "#fdca26"
             ],
             [
              1,
              "#f0f921"
             ]
            ],
            "type": "histogram2d"
           }
          ],
          "histogram2dcontour": [
           {
            "colorbar": {
             "outlinewidth": 0,
             "ticks": ""
            },
            "colorscale": [
             [
              0,
              "#0d0887"
             ],
             [
              0.1111111111111111,
              "#46039f"
             ],
             [
              0.2222222222222222,
              "#7201a8"
             ],
             [
              0.3333333333333333,
              "#9c179e"
             ],
             [
              0.4444444444444444,
              "#bd3786"
             ],
             [
              0.5555555555555556,
              "#d8576b"
             ],
             [
              0.6666666666666666,
              "#ed7953"
             ],
             [
              0.7777777777777778,
              "#fb9f3a"
             ],
             [
              0.8888888888888888,
              "#fdca26"
             ],
             [
              1,
              "#f0f921"
             ]
            ],
            "type": "histogram2dcontour"
           }
          ],
          "mesh3d": [
           {
            "colorbar": {
             "outlinewidth": 0,
             "ticks": ""
            },
            "type": "mesh3d"
           }
          ],
          "parcoords": [
           {
            "line": {
             "colorbar": {
              "outlinewidth": 0,
              "ticks": ""
             }
            },
            "type": "parcoords"
           }
          ],
          "pie": [
           {
            "automargin": true,
            "type": "pie"
           }
          ],
          "scatter": [
           {
            "fillpattern": {
             "fillmode": "overlay",
             "size": 10,
             "solidity": 0.2
            },
            "type": "scatter"
           }
          ],
          "scatter3d": [
           {
            "line": {
             "colorbar": {
              "outlinewidth": 0,
              "ticks": ""
             }
            },
            "marker": {
             "colorbar": {
              "outlinewidth": 0,
              "ticks": ""
             }
            },
            "type": "scatter3d"
           }
          ],
          "scattercarpet": [
           {
            "marker": {
             "colorbar": {
              "outlinewidth": 0,
              "ticks": ""
             }
            },
            "type": "scattercarpet"
           }
          ],
          "scattergeo": [
           {
            "marker": {
             "colorbar": {
              "outlinewidth": 0,
              "ticks": ""
             }
            },
            "type": "scattergeo"
           }
          ],
          "scattergl": [
           {
            "marker": {
             "colorbar": {
              "outlinewidth": 0,
              "ticks": ""
             }
            },
            "type": "scattergl"
           }
          ],
          "scattermapbox": [
           {
            "marker": {
             "colorbar": {
              "outlinewidth": 0,
              "ticks": ""
             }
            },
            "type": "scattermapbox"
           }
          ],
          "scatterpolar": [
           {
            "marker": {
             "colorbar": {
              "outlinewidth": 0,
              "ticks": ""
             }
            },
            "type": "scatterpolar"
           }
          ],
          "scatterpolargl": [
           {
            "marker": {
             "colorbar": {
              "outlinewidth": 0,
              "ticks": ""
             }
            },
            "type": "scatterpolargl"
           }
          ],
          "scatterternary": [
           {
            "marker": {
             "colorbar": {
              "outlinewidth": 0,
              "ticks": ""
             }
            },
            "type": "scatterternary"
           }
          ],
          "surface": [
           {
            "colorbar": {
             "outlinewidth": 0,
             "ticks": ""
            },
            "colorscale": [
             [
              0,
              "#0d0887"
             ],
             [
              0.1111111111111111,
              "#46039f"
             ],
             [
              0.2222222222222222,
              "#7201a8"
             ],
             [
              0.3333333333333333,
              "#9c179e"
             ],
             [
              0.4444444444444444,
              "#bd3786"
             ],
             [
              0.5555555555555556,
              "#d8576b"
             ],
             [
              0.6666666666666666,
              "#ed7953"
             ],
             [
              0.7777777777777778,
              "#fb9f3a"
             ],
             [
              0.8888888888888888,
              "#fdca26"
             ],
             [
              1,
              "#f0f921"
             ]
            ],
            "type": "surface"
           }
          ],
          "table": [
           {
            "cells": {
             "fill": {
              "color": "#EBF0F8"
             },
             "line": {
              "color": "white"
             }
            },
            "header": {
             "fill": {
              "color": "#C8D4E3"
             },
             "line": {
              "color": "white"
             }
            },
            "type": "table"
           }
          ]
         },
         "layout": {
          "annotationdefaults": {
           "arrowcolor": "#2a3f5f",
           "arrowhead": 0,
           "arrowwidth": 1
          },
          "autotypenumbers": "strict",
          "coloraxis": {
           "colorbar": {
            "outlinewidth": 0,
            "ticks": ""
           }
          },
          "colorscale": {
           "diverging": [
            [
             0,
             "#8e0152"
            ],
            [
             0.1,
             "#c51b7d"
            ],
            [
             0.2,
             "#de77ae"
            ],
            [
             0.3,
             "#f1b6da"
            ],
            [
             0.4,
             "#fde0ef"
            ],
            [
             0.5,
             "#f7f7f7"
            ],
            [
             0.6,
             "#e6f5d0"
            ],
            [
             0.7,
             "#b8e186"
            ],
            [
             0.8,
             "#7fbc41"
            ],
            [
             0.9,
             "#4d9221"
            ],
            [
             1,
             "#276419"
            ]
           ],
           "sequential": [
            [
             0,
             "#0d0887"
            ],
            [
             0.1111111111111111,
             "#46039f"
            ],
            [
             0.2222222222222222,
             "#7201a8"
            ],
            [
             0.3333333333333333,
             "#9c179e"
            ],
            [
             0.4444444444444444,
             "#bd3786"
            ],
            [
             0.5555555555555556,
             "#d8576b"
            ],
            [
             0.6666666666666666,
             "#ed7953"
            ],
            [
             0.7777777777777778,
             "#fb9f3a"
            ],
            [
             0.8888888888888888,
             "#fdca26"
            ],
            [
             1,
             "#f0f921"
            ]
           ],
           "sequentialminus": [
            [
             0,
             "#0d0887"
            ],
            [
             0.1111111111111111,
             "#46039f"
            ],
            [
             0.2222222222222222,
             "#7201a8"
            ],
            [
             0.3333333333333333,
             "#9c179e"
            ],
            [
             0.4444444444444444,
             "#bd3786"
            ],
            [
             0.5555555555555556,
             "#d8576b"
            ],
            [
             0.6666666666666666,
             "#ed7953"
            ],
            [
             0.7777777777777778,
             "#fb9f3a"
            ],
            [
             0.8888888888888888,
             "#fdca26"
            ],
            [
             1,
             "#f0f921"
            ]
           ]
          },
          "colorway": [
           "#636efa",
           "#EF553B",
           "#00cc96",
           "#ab63fa",
           "#FFA15A",
           "#19d3f3",
           "#FF6692",
           "#B6E880",
           "#FF97FF",
           "#FECB52"
          ],
          "font": {
           "color": "#2a3f5f"
          },
          "geo": {
           "bgcolor": "white",
           "lakecolor": "white",
           "landcolor": "#E5ECF6",
           "showlakes": true,
           "showland": true,
           "subunitcolor": "white"
          },
          "hoverlabel": {
           "align": "left"
          },
          "hovermode": "closest",
          "mapbox": {
           "style": "light"
          },
          "paper_bgcolor": "white",
          "plot_bgcolor": "#E5ECF6",
          "polar": {
           "angularaxis": {
            "gridcolor": "white",
            "linecolor": "white",
            "ticks": ""
           },
           "bgcolor": "#E5ECF6",
           "radialaxis": {
            "gridcolor": "white",
            "linecolor": "white",
            "ticks": ""
           }
          },
          "scene": {
           "xaxis": {
            "backgroundcolor": "#E5ECF6",
            "gridcolor": "white",
            "gridwidth": 2,
            "linecolor": "white",
            "showbackground": true,
            "ticks": "",
            "zerolinecolor": "white"
           },
           "yaxis": {
            "backgroundcolor": "#E5ECF6",
            "gridcolor": "white",
            "gridwidth": 2,
            "linecolor": "white",
            "showbackground": true,
            "ticks": "",
            "zerolinecolor": "white"
           },
           "zaxis": {
            "backgroundcolor": "#E5ECF6",
            "gridcolor": "white",
            "gridwidth": 2,
            "linecolor": "white",
            "showbackground": true,
            "ticks": "",
            "zerolinecolor": "white"
           }
          },
          "shapedefaults": {
           "line": {
            "color": "#2a3f5f"
           }
          },
          "ternary": {
           "aaxis": {
            "gridcolor": "white",
            "linecolor": "white",
            "ticks": ""
           },
           "baxis": {
            "gridcolor": "white",
            "linecolor": "white",
            "ticks": ""
           },
           "bgcolor": "#E5ECF6",
           "caxis": {
            "gridcolor": "white",
            "linecolor": "white",
            "ticks": ""
           }
          },
          "title": {
           "x": 0.05
          },
          "xaxis": {
           "automargin": true,
           "gridcolor": "white",
           "linecolor": "white",
           "ticks": "",
           "title": {
            "standoff": 15
           },
           "zerolinecolor": "white",
           "zerolinewidth": 2
          },
          "yaxis": {
           "automargin": true,
           "gridcolor": "white",
           "linecolor": "white",
           "ticks": "",
           "title": {
            "standoff": 15
           },
           "zerolinecolor": "white",
           "zerolinewidth": 2
          }
         }
        },
        "xaxis": {
         "anchor": "y",
         "autorange": true,
         "domain": [
          0,
          1
         ],
         "range": [
          0,
          200
         ],
         "title": {
          "text": "x"
         },
         "type": "linear"
        },
        "yaxis": {
         "anchor": "x",
         "autorange": true,
         "domain": [
          0,
          1
         ],
         "range": [
          -0.004721811111111111,
          0.08971441111111111
         ],
         "title": {
          "text": "y"
         },
         "type": "linear"
        }
       }
      },
      "image/png": "[encoded data removed]",
      "text/html": [
       "<div>                            <div id=\"539dfa95-ff9e-451b-852e-242a66fa4596\" class=\"plotly-graph-div\" style=\"height:525px; width:100%;\"></div>            <script type=\"text/javascript\">                require([\"plotly\"], function(Plotly) {                    window.PLOTLYENV=window.PLOTLYENV || {};                                    if (document.getElementById(\"539dfa95-ff9e-451b-852e-242a66fa4596\")) {                    Plotly.newPlot(                        \"539dfa95-ff9e-451b-852e-242a66fa4596\",                        [{\"hovertemplate\":\"x=%{x}<br>y=%{y}<extra></extra>\",\"legendgroup\":\"\",\"line\":{\"color\":\"#636efa\",\"dash\":\"solid\"},\"marker\":{\"symbol\":\"circle\"},\"mode\":\"lines\",\"name\":\"\",\"orientation\":\"v\",\"showlegend\":false,\"x\":[0.0,2.0,4.0,6.0,8.0,10.0,12.0,14.0,16.0,18.0,20.0,22.0,24.0,26.0,28.0,30.0,32.0,34.0,36.0,38.0,40.0,42.0,44.0,46.0,48.0,50.0,52.0,54.0,56.0,58.0,60.0,62.0,64.0,66.0,68.0,70.0,72.0,74.0,76.0,78.0,80.0,82.0,84.0,86.0,88.0,90.0,92.0,94.0,96.0,98.0,100.0,102.0,104.0,106.0,108.0,110.0,112.0,114.0,116.0,118.0,120.0,122.0,124.0,126.0,128.0,130.0,132.0,134.0,136.0,138.0,140.0,142.0,144.0,146.0,148.0,150.0,152.0,154.0,156.0,158.0,160.0,162.0,164.0,166.0,168.0,170.0,172.0,174.0,176.0,178.0,180.0,182.0,184.0,186.0,188.0,190.0,192.0,194.0,196.0,198.0,200.0],\"xaxis\":\"x\",\"y\":[0.0,0.0211272,0.0427343,0.0624259,0.0809578,0.0849926,0.0837982,0.0788459,0.0731954,0.0665581,0.0592976,0.0508705,0.0425814,0.0353677,0.029406,0.0248883,0.021158,0.0183313,0.0157014,0.0136739,0.0117295,0.0100129,0.0084453,0.0070404,0.0059673,0.0051056,0.0046137,0.0041218,0.0038162,0.0034887,0.0031612,0.0028624,0.0025636,0.0022845,0.0019767,0.0017108,0.0015254,0.0013687,0.0012144,0.0011183,0.0010221,0.0009589,0.0008957,0.0008357,0.0007757,0.0007198,0.0006639,0.0006159,0.0005466,0.0004939,0.0004291,0.0003624,0.0002997,0.0002551,0.0001961,0.000137,0.0001135,7.96e-05,6.2e-05,5.66e-05,5.38e-05,4.62e-05,3.97e-05,3.19e-05,2.99e-05,2.68e-05,2.24e-05,1.81e-05,1.81e-05,1.81e-05,1.81e-05,1.81e-05,1.81e-05,1.65e-05,1.65e-05,1.65e-05,1.65e-05,1.65e-05,0.0,0.0,0.0,0.0,0.0,0.0,0.0,0.0,0.0,0.0,0.0,0.0,0.0,0.0,0.0,0.0,0.0,0.0,0.0,0.0,0.0,0.0,0.0],\"yaxis\":\"y\",\"type\":\"scatter\"}],                        {\"template\":{\"data\":{\"histogram2dcontour\":[{\"type\":\"histogram2dcontour\",\"colorbar\":{\"outlinewidth\":0,\"ticks\":\"\"},\"colorscale\":[[0.0,\"#0d0887\"],[0.1111111111111111,\"#46039f\"],[0.2222222222222222,\"#7201a8\"],[0.3333333333333333,\"#9c179e\"],[0.4444444444444444,\"#bd3786\"],[0.5555555555555556,\"#d8576b\"],[0.6666666666666666,\"#ed7953\"],[0.7777777777777778,\"#fb9f3a\"],[0.8888888888888888,\"#fdca26\"],[1.0,\"#f0f921\"]]}],\"choropleth\":[{\"type\":\"choropleth\",\"colorbar\":{\"outlinewidth\":0,\"ticks\":\"\"}}],\"histogram2d\":[{\"type\":\"histogram2d\",\"colorbar\":{\"outlinewidth\":0,\"ticks\":\"\"},\"colorscale\":[[0.0,\"#0d0887\"],[0.1111111111111111,\"#46039f\"],[0.2222222222222222,\"#7201a8\"],[0.3333333333333333,\"#9c179e\"],[0.4444444444444444,\"#bd3786\"],[0.5555555555555556,\"#d8576b\"],[0.6666666666666666,\"#ed7953\"],[0.7777777777777778,\"#fb9f3a\"],[0.8888888888888888,\"#fdca26\"],[1.0,\"#f0f921\"]]}],\"heatmap\":[{\"type\":\"heatmap\",\"colorbar\":{\"outlinewidth\":0,\"ticks\":\"\"},\"colorscale\":[[0.0,\"#0d0887\"],[0.1111111111111111,\"#46039f\"],[0.2222222222222222,\"#7201a8\"],[0.3333333333333333,\"#9c179e\"],[0.4444444444444444,\"#bd3786\"],[0.5555555555555556,\"#d8576b\"],[0.6666666666666666,\"#ed7953\"],[0.7777777777777778,\"#fb9f3a\"],[0.8888888888888888,\"#fdca26\"],[1.0,\"#f0f921\"]]}],\"heatmapgl\":[{\"type\":\"heatmapgl\",\"colorbar\":{\"outlinewidth\":0,\"ticks\":\"\"},\"colorscale\":[[0.0,\"#0d0887\"],[0.1111111111111111,\"#46039f\"],[0.2222222222222222,\"#7201a8\"],[0.3333333333333333,\"#9c179e\"],[0.4444444444444444,\"#bd3786\"],[0.5555555555555556,\"#d8576b\"],[0.6666666666666666,\"#ed7953\"],[0.7777777777777778,\"#fb9f3a\"],[0.8888888888888888,\"#fdca26\"],[1.0,\"#f0f921\"]]}],\"contourcarpet\":[{\"type\":\"contourcarpet\",\"colorbar\":{\"outlinewidth\":0,\"ticks\":\"\"}}],\"contour\":[{\"type\":\"contour\",\"colorbar\":{\"outlinewidth\":0,\"ticks\":\"\"},\"colorscale\":[[0.0,\"#0d0887\"],[0.1111111111111111,\"#46039f\"],[0.2222222222222222,\"#7201a8\"],[0.3333333333333333,\"#9c179e\"],[0.4444444444444444,\"#bd3786\"],[0.5555555555555556,\"#d8576b\"],[0.6666666666666666,\"#ed7953\"],[0.7777777777777778,\"#fb9f3a\"],[0.8888888888888888,\"#fdca26\"],[1.0,\"#f0f921\"]]}],\"surface\":[{\"type\":\"surface\",\"colorbar\":{\"outlinewidth\":0,\"ticks\":\"\"},\"colorscale\":[[0.0,\"#0d0887\"],[0.1111111111111111,\"#46039f\"],[0.2222222222222222,\"#7201a8\"],[0.3333333333333333,\"#9c179e\"],[0.4444444444444444,\"#bd3786\"],[0.5555555555555556,\"#d8576b\"],[0.6666666666666666,\"#ed7953\"],[0.7777777777777778,\"#fb9f3a\"],[0.8888888888888888,\"#fdca26\"],[1.0,\"#f0f921\"]]}],\"mesh3d\":[{\"type\":\"mesh3d\",\"colorbar\":{\"outlinewidth\":0,\"ticks\":\"\"}}],\"scatter\":[{\"fillpattern\":{\"fillmode\":\"overlay\",\"size\":10,\"solidity\":0.2},\"type\":\"scatter\"}],\"parcoords\":[{\"type\":\"parcoords\",\"line\":{\"colorbar\":{\"outlinewidth\":0,\"ticks\":\"\"}}}],\"scatterpolargl\":[{\"type\":\"scatterpolargl\",\"marker\":{\"colorbar\":{\"outlinewidth\":0,\"ticks\":\"\"}}}],\"bar\":[{\"error_x\":{\"color\":\"#2a3f5f\"},\"error_y\":{\"color\":\"#2a3f5f\"},\"marker\":{\"line\":{\"color\":\"#E5ECF6\",\"width\":0.5},\"pattern\":{\"fillmode\":\"overlay\",\"size\":10,\"solidity\":0.2}},\"type\":\"bar\"}],\"scattergeo\":[{\"type\":\"scattergeo\",\"marker\":{\"colorbar\":{\"outlinewidth\":0,\"ticks\":\"\"}}}],\"scatterpolar\":[{\"type\":\"scatterpolar\",\"marker\":{\"colorbar\":{\"outlinewidth\":0,\"ticks\":\"\"}}}],\"histogram\":[{\"marker\":{\"pattern\":{\"fillmode\":\"overlay\",\"size\":10,\"solidity\":0.2}},\"type\":\"histogram\"}],\"scattergl\":[{\"type\":\"scattergl\",\"marker\":{\"colorbar\":{\"outlinewidth\":0,\"ticks\":\"\"}}}],\"scatter3d\":[{\"type\":\"scatter3d\",\"line\":{\"colorbar\":{\"outlinewidth\":0,\"ticks\":\"\"}},\"marker\":{\"colorbar\":{\"outlinewidth\":0,\"ticks\":\"\"}}}],\"scattermapbox\":[{\"type\":\"scattermapbox\",\"marker\":{\"colorbar\":{\"outlinewidth\":0,\"ticks\":\"\"}}}],\"scatterternary\":[{\"type\":\"scatterternary\",\"marker\":{\"colorbar\":{\"outlinewidth\":0,\"ticks\":\"\"}}}],\"scattercarpet\":[{\"type\":\"scattercarpet\",\"marker\":{\"colorbar\":{\"outlinewidth\":0,\"ticks\":\"\"}}}],\"carpet\":[{\"aaxis\":{\"endlinecolor\":\"#2a3f5f\",\"gridcolor\":\"white\",\"linecolor\":\"white\",\"minorgridcolor\":\"white\",\"startlinecolor\":\"#2a3f5f\"},\"baxis\":{\"endlinecolor\":\"#2a3f5f\",\"gridcolor\":\"white\",\"linecolor\":\"white\",\"minorgridcolor\":\"white\",\"startlinecolor\":\"#2a3f5f\"},\"type\":\"carpet\"}],\"table\":[{\"cells\":{\"fill\":{\"color\":\"#EBF0F8\"},\"line\":{\"color\":\"white\"}},\"header\":{\"fill\":{\"color\":\"#C8D4E3\"},\"line\":{\"color\":\"white\"}},\"type\":\"table\"}],\"barpolar\":[{\"marker\":{\"line\":{\"color\":\"#E5ECF6\",\"width\":0.5},\"pattern\":{\"fillmode\":\"overlay\",\"size\":10,\"solidity\":0.2}},\"type\":\"barpolar\"}],\"pie\":[{\"automargin\":true,\"type\":\"pie\"}]},\"layout\":{\"autotypenumbers\":\"strict\",\"colorway\":[\"#636efa\",\"#EF553B\",\"#00cc96\",\"#ab63fa\",\"#FFA15A\",\"#19d3f3\",\"#FF6692\",\"#B6E880\",\"#FF97FF\",\"#FECB52\"],\"font\":{\"color\":\"#2a3f5f\"},\"hovermode\":\"closest\",\"hoverlabel\":{\"align\":\"left\"},\"paper_bgcolor\":\"white\",\"plot_bgcolor\":\"#E5ECF6\",\"polar\":{\"bgcolor\":\"#E5ECF6\",\"angularaxis\":{\"gridcolor\":\"white\",\"linecolor\":\"white\",\"ticks\":\"\"},\"radialaxis\":{\"gridcolor\":\"white\",\"linecolor\":\"white\",\"ticks\":\"\"}},\"ternary\":{\"bgcolor\":\"#E5ECF6\",\"aaxis\":{\"gridcolor\":\"white\",\"linecolor\":\"white\",\"ticks\":\"\"},\"baxis\":{\"gridcolor\":\"white\",\"linecolor\":\"white\",\"ticks\":\"\"},\"caxis\":{\"gridcolor\":\"white\",\"linecolor\":\"white\",\"ticks\":\"\"}},\"coloraxis\":{\"colorbar\":{\"outlinewidth\":0,\"ticks\":\"\"}},\"colorscale\":{\"sequential\":[[0.0,\"#0d0887\"],[0.1111111111111111,\"#46039f\"],[0.2222222222222222,\"#7201a8\"],[0.3333333333333333,\"#9c179e\"],[0.4444444444444444,\"#bd3786\"],[0.5555555555555556,\"#d8576b\"],[0.6666666666666666,\"#ed7953\"],[0.7777777777777778,\"#fb9f3a\"],[0.8888888888888888,\"#fdca26\"],[1.0,\"#f0f921\"]],\"sequentialminus\":[[0.0,\"#0d0887\"],[0.1111111111111111,\"#46039f\"],[0.2222222222222222,\"#7201a8\"],[0.3333333333333333,\"#9c179e\"],[0.4444444444444444,\"#bd3786\"],[0.5555555555555556,\"#d8576b\"],[0.6666666666666666,\"#ed7953\"],[0.7777777777777778,\"#fb9f3a\"],[0.8888888888888888,\"#fdca26\"],[1.0,\"#f0f921\"]],\"diverging\":[[0,\"#8e0152\"],[0.1,\"#c51b7d\"],[0.2,\"#de77ae\"],[0.3,\"#f1b6da\"],[0.4,\"#fde0ef\"],[0.5,\"#f7f7f7\"],[0.6,\"#e6f5d0\"],[0.7,\"#b8e186\"],[0.8,\"#7fbc41\"],[0.9,\"#4d9221\"],[1,\"#276419\"]]},\"xaxis\":{\"gridcolor\":\"white\",\"linecolor\":\"white\",\"ticks\":\"\",\"title\":{\"standoff\":15},\"zerolinecolor\":\"white\",\"automargin\":true,\"zerolinewidth\":2},\"yaxis\":{\"gridcolor\":\"white\",\"linecolor\":\"white\",\"ticks\":\"\",\"title\":{\"standoff\":15},\"zerolinecolor\":\"white\",\"automargin\":true,\"zerolinewidth\":2},\"scene\":{\"xaxis\":{\"backgroundcolor\":\"#E5ECF6\",\"gridcolor\":\"white\",\"linecolor\":\"white\",\"showbackground\":true,\"ticks\":\"\",\"zerolinecolor\":\"white\",\"gridwidth\":2},\"yaxis\":{\"backgroundcolor\":\"#E5ECF6\",\"gridcolor\":\"white\",\"linecolor\":\"white\",\"showbackground\":true,\"ticks\":\"\",\"zerolinecolor\":\"white\",\"gridwidth\":2},\"zaxis\":{\"backgroundcolor\":\"#E5ECF6\",\"gridcolor\":\"white\",\"linecolor\":\"white\",\"showbackground\":true,\"ticks\":\"\",\"zerolinecolor\":\"white\",\"gridwidth\":2}},\"shapedefaults\":{\"line\":{\"color\":\"#2a3f5f\"}},\"annotationdefaults\":{\"arrowcolor\":\"#2a3f5f\",\"arrowhead\":0,\"arrowwidth\":1},\"geo\":{\"bgcolor\":\"white\",\"landcolor\":\"#E5ECF6\",\"subunitcolor\":\"white\",\"showland\":true,\"showlakes\":true,\"lakecolor\":\"white\"},\"title\":{\"x\":0.05},\"mapbox\":{\"style\":\"light\"}}},\"xaxis\":{\"anchor\":\"y\",\"domain\":[0.0,1.0],\"title\":{\"text\":\"x\"}},\"yaxis\":{\"anchor\":\"x\",\"domain\":[0.0,1.0],\"title\":{\"text\":\"y\"}},\"legend\":{\"tracegroupgap\":0},\"margin\":{\"t\":60}},                        {\"responsive\": true}                    ).then(function(){\n",
       "                            \n",
       "var gd = document.getElementById('539dfa95-ff9e-451b-852e-242a66fa4596');\n",
       "var x = new MutationObserver(function (mutations, observer) {{\n",
       "        var display = window.getComputedStyle(gd).display;\n",
       "        if (!display || display === 'none') {{\n",
       "            console.log([gd, 'removed!']);\n",
       "            Plotly.purge(gd);\n",
       "            observer.disconnect();\n",
       "        }}\n",
       "}});\n",
       "\n",
       "// Listen for the removal of the full notebook cells\n",
       "var notebookContainer = gd.closest('#notebook-container');\n",
       "if (notebookContainer) {{\n",
       "    x.observe(notebookContainer, {childList: true});\n",
       "}}\n",
       "\n",
       "// Listen for the clearing of the current output cell\n",
       "var outputEl = gd.closest('.output');\n",
       "if (outputEl) {{\n",
       "    x.observe(outputEl, {childList: true});\n",
       "}}\n",
       "\n",
       "                        })                };                });            </script>        </div>"
      ]
     },
     "metadata": {},
     "output_type": "display_data"
    }
   ],
   "source": [
    "plotdata = dfTLF_Obs[(dfTLF_Obs['TRIPPURP']=='HBW') & (dfTLF_Obs['XTRIPTYPE']=='II') & (dfTLF_Obs['TLFTYPE']=='GC')]\n",
    "\n",
    "xplot = plotdata['BIN_MIN']\n",
    "yplot = plotdata['FREQ']\n",
    "\n",
    "fig = px.line(x=xplot, y=yplot)\n",
    "fig.show()"
   ]
  },
  {
   "cell_type": "code",
   "execution_count": 16,
   "metadata": {},
   "outputs": [
    {
     "data": {
      "text/plain": [
       "0         0.0\n",
       "1         2.0\n",
       "2         4.0\n",
       "3         6.0\n",
       "4         8.0\n",
       "        ...  \n",
       "2318    192.0\n",
       "2319    194.0\n",
       "2320    196.0\n",
       "2321    198.0\n",
       "2322    200.0\n",
       "Name: BIN_MIN, Length: 303, dtype: float64"
      ]
     },
     "execution_count": 16,
     "metadata": {},
     "output_type": "execute_result"
    }
   ],
   "source": [
    "dfTLF_Obs[dfTLF_Obs['TRIPPURP']=='HBW']['BIN_MIN']"
   ]
  },
  {
   "cell_type": "code",
   "execution_count": 24,
   "metadata": {},
   "outputs": [
    {
     "data": {
      "text/html": [
       "<div>\n",
       "<style scoped>\n",
       "    .dataframe tbody tr th:only-of-type {\n",
       "        vertical-align: middle;\n",
       "    }\n",
       "\n",
       "    .dataframe tbody tr th {\n",
       "        vertical-align: top;\n",
       "    }\n",
       "\n",
       "    .dataframe thead th {\n",
       "        text-align: right;\n",
       "    }\n",
       "</style>\n",
       "<table border=\"1\" class=\"dataframe\">\n",
       "  <thead>\n",
       "    <tr style=\"text-align: right;\">\n",
       "      <th></th>\n",
       "      <th>TRIPPURP</th>\n",
       "      <th>XTRIPTYPE</th>\n",
       "      <th>TLFTYPE</th>\n",
       "      <th>BIN_MIN</th>\n",
       "      <th>FREQ</th>\n",
       "    </tr>\n",
       "  </thead>\n",
       "  <tbody>\n",
       "    <tr>\n",
       "      <th>1111</th>\n",
       "      <td>HBW</td>\n",
       "      <td>II</td>\n",
       "      <td>Dist</td>\n",
       "      <td>0.0</td>\n",
       "      <td>0.136561</td>\n",
       "    </tr>\n",
       "    <tr>\n",
       "      <th>1112</th>\n",
       "      <td>HBW</td>\n",
       "      <td>II</td>\n",
       "      <td>Dist</td>\n",
       "      <td>2.0</td>\n",
       "      <td>0.157834</td>\n",
       "    </tr>\n",
       "    <tr>\n",
       "      <th>1113</th>\n",
       "      <td>HBW</td>\n",
       "      <td>II</td>\n",
       "      <td>Dist</td>\n",
       "      <td>4.0</td>\n",
       "      <td>0.132683</td>\n",
       "    </tr>\n",
       "    <tr>\n",
       "      <th>1114</th>\n",
       "      <td>HBW</td>\n",
       "      <td>II</td>\n",
       "      <td>Dist</td>\n",
       "      <td>6.0</td>\n",
       "      <td>0.108805</td>\n",
       "    </tr>\n",
       "    <tr>\n",
       "      <th>1115</th>\n",
       "      <td>HBW</td>\n",
       "      <td>II</td>\n",
       "      <td>Dist</td>\n",
       "      <td>8.0</td>\n",
       "      <td>0.090215</td>\n",
       "    </tr>\n",
       "    <tr>\n",
       "      <th>...</th>\n",
       "      <td>...</td>\n",
       "      <td>...</td>\n",
       "      <td>...</td>\n",
       "      <td>...</td>\n",
       "      <td>...</td>\n",
       "    </tr>\n",
       "    <tr>\n",
       "      <th>1207</th>\n",
       "      <td>HBW</td>\n",
       "      <td>II</td>\n",
       "      <td>Dist</td>\n",
       "      <td>192.0</td>\n",
       "      <td>0.000000</td>\n",
       "    </tr>\n",
       "    <tr>\n",
       "      <th>1208</th>\n",
       "      <td>HBW</td>\n",
       "      <td>II</td>\n",
       "      <td>Dist</td>\n",
       "      <td>194.0</td>\n",
       "      <td>0.000000</td>\n",
       "    </tr>\n",
       "    <tr>\n",
       "      <th>1209</th>\n",
       "      <td>HBW</td>\n",
       "      <td>II</td>\n",
       "      <td>Dist</td>\n",
       "      <td>196.0</td>\n",
       "      <td>0.000000</td>\n",
       "    </tr>\n",
       "    <tr>\n",
       "      <th>1210</th>\n",
       "      <td>HBW</td>\n",
       "      <td>II</td>\n",
       "      <td>Dist</td>\n",
       "      <td>198.0</td>\n",
       "      <td>0.000000</td>\n",
       "    </tr>\n",
       "    <tr>\n",
       "      <th>1211</th>\n",
       "      <td>HBW</td>\n",
       "      <td>II</td>\n",
       "      <td>Dist</td>\n",
       "      <td>200.0</td>\n",
       "      <td>0.000000</td>\n",
       "    </tr>\n",
       "  </tbody>\n",
       "</table>\n",
       "<p>101 rows × 5 columns</p>\n",
       "</div>"
      ],
      "text/plain": [
       "     TRIPPURP XTRIPTYPE TLFTYPE  BIN_MIN      FREQ\n",
       "1111      HBW        II    Dist      0.0  0.136561\n",
       "1112      HBW        II    Dist      2.0  0.157834\n",
       "1113      HBW        II    Dist      4.0  0.132683\n",
       "1114      HBW        II    Dist      6.0  0.108805\n",
       "1115      HBW        II    Dist      8.0  0.090215\n",
       "...       ...       ...     ...      ...       ...\n",
       "1207      HBW        II    Dist    192.0  0.000000\n",
       "1208      HBW        II    Dist    194.0  0.000000\n",
       "1209      HBW        II    Dist    196.0  0.000000\n",
       "1210      HBW        II    Dist    198.0  0.000000\n",
       "1211      HBW        II    Dist    200.0  0.000000\n",
       "\n",
       "[101 rows x 5 columns]"
      ]
     },
     "execution_count": 24,
     "metadata": {},
     "output_type": "execute_result"
    }
   ],
   "source": [
    "dfTLF_Obs[(dfTLF_Obs['TRIPPURP']=='HBW') & (dfTLF_Obs['XTRIPTYPE']=='II') & (dfTLF_Obs['TLFTYPE']=='Dist')]"
   ]
  },
  {
   "cell_type": "code",
   "execution_count": 38,
   "metadata": {},
   "outputs": [
    {
     "data": {
      "text/html": [
       "        <script type=\"text/javascript\">\n",
       "        window.PlotlyConfig = {MathJaxConfig: 'local'};\n",
       "        if (window.MathJax && window.MathJax.Hub && window.MathJax.Hub.Config) {window.MathJax.Hub.Config({SVG: {font: \"STIX-Web\"}});}\n",
       "        if (typeof require !== 'undefined') {\n",
       "        require.undef(\"plotly\");\n",
       "        requirejs.config({\n",
       "            paths: {\n",
       "                'plotly': ['https://cdn.plot.ly/plotly-2.12.1.min']\n",
       "            }\n",
       "        });\n",
       "        require(['plotly'], function(Plotly) {\n",
       "            window._Plotly = Plotly;\n",
       "        });\n",
       "        }\n",
       "        </script>\n",
       "        "
      ]
     },
     "metadata": {},
     "output_type": "display_data"
    }
   ],
   "source": [
    "import plotly as py\n",
    "import plotly.graph_objects as go\n",
    "import ipywidgets as widgets\n",
    "import numpy as np\n",
    "from scipy import special\n",
    "\n",
    "py.offline.init_notebook_mode(connected=True)"
   ]
  },
  {
   "cell_type": "code",
   "execution_count": 36,
   "metadata": {},
   "outputs": [
    {
     "data": {
      "application/vnd.plotly.v1+json": {
       "config": {
        "linkText": "Export to plot.ly",
        "plotlyServerURL": "https://plot.ly",
        "showLink": false
       },
       "data": [
        {
         "line": {
          "shape": "spline"
         },
         "mode": "lines",
         "name": "sin(x)",
         "type": "scatter",
         "x": [
          0,
          0.0031447373909807737,
          0.006289474781961547,
          0.009434212172942321,
          0.012578949563923095,
          0.01572368695490387,
          0.018868424345884642,
          0.022013161736865416,
          0.02515789912784619,
          0.028302636518826963,
          0.03144737390980774,
          0.034592111300788514,
          0.037736848691769284,
          0.040881586082750054,
          0.04402632347373083,
          0.04717106086471161,
          0.05031579825569238,
          0.05346053564667315,
          0.056605273037653926,
          0.0597500104286347,
          0.06289474781961547,
          0.06603948521059624,
          0.06918422260157703,
          0.0723289599925578,
          0.07547369738353857,
          0.07861843477451934,
          0.08176317216550011,
          0.08490790955648089,
          0.08805264694746166,
          0.09119738433844243,
          0.09434212172942322,
          0.09748685912040399,
          0.10063159651138476,
          0.10377633390236553,
          0.1069210712933463,
          0.11006580868432708,
          0.11321054607530785,
          0.11635528346628862,
          0.1195000208572694,
          0.12264475824825018,
          0.12578949563923095,
          0.12893423303021173,
          0.1320789704211925,
          0.13522370781217327,
          0.13836844520315406,
          0.1415131825941348,
          0.1446579199851156,
          0.14780265737609635,
          0.15094739476707714,
          0.15409213215805792,
          0.15723686954903868,
          0.16038160694001946,
          0.16352634433100022,
          0.166671081721981,
          0.16981581911296179,
          0.17296055650394254,
          0.17610529389492333,
          0.1792500312859041,
          0.18239476867688487,
          0.18553950606786565,
          0.18868424345884643,
          0.1918289808498272,
          0.19497371824080797,
          0.19811845563178873,
          0.20126319302276952,
          0.2044079304137503,
          0.20755266780473106,
          0.21069740519571184,
          0.2138421425866926,
          0.21698687997767338,
          0.22013161736865416,
          0.22327635475963492,
          0.2264210921506157,
          0.2295658295415965,
          0.23271056693257725,
          0.23585530432355803,
          0.2390000417145388,
          0.24214477910551957,
          0.24528951649650035,
          0.2484342538874811,
          0.2515789912784619,
          0.25472372866944265,
          0.25786846606042346,
          0.2610132034514042,
          0.264157940842385,
          0.2673026782333658,
          0.27044741562434654,
          0.2735921530153273,
          0.2767368904063081,
          0.27988162779728887,
          0.2830263651882696,
          0.2861711025792504,
          0.2893158399702312,
          0.29246057736121195,
          0.2956053147521927,
          0.2987500521431735,
          0.3018947895341543,
          0.30503952692513503,
          0.30818426431611584,
          0.3113290017070966,
          0.31447373909807735,
          0.31761847648905817,
          0.3207632138800389,
          0.3239079512710197,
          0.32705268866200043,
          0.33019742605298125,
          0.333342163443962,
          0.33648690083494276,
          0.33963163822592357,
          0.3427763756169043,
          0.3459211130078851,
          0.3490658503988659,
          0.35221058778984665,
          0.3553553251808274,
          0.3585000625718082,
          0.361644799962789,
          0.36478953735376973,
          0.36793427474475054,
          0.3710790121357313,
          0.37422374952671206,
          0.37736848691769287,
          0.3805132243086736,
          0.3836579616996544,
          0.38680269909063514,
          0.38994743648161595,
          0.3930921738725967,
          0.39623691126357746,
          0.3993816486545583,
          0.40252638604553903,
          0.4056711234365198,
          0.4088158608275006,
          0.41196059821848136,
          0.4151053356094621,
          0.4182500730004429,
          0.4213948103914237,
          0.42453954778240444,
          0.4276842851733852,
          0.430829022564366,
          0.43397375995534676,
          0.4371184973463275,
          0.44026323473730833,
          0.4434079721282891,
          0.44655270951926984,
          0.44969744691025065,
          0.4528421843012314,
          0.45598692169221217,
          0.459131659083193,
          0.46227639647417373,
          0.4654211338651545,
          0.4685658712561353,
          0.47171060864711606,
          0.4748553460380968,
          0.4780000834290776,
          0.4811448208200584,
          0.48428955821103914,
          0.4874342956020199,
          0.4905790329930007,
          0.49372377038398146,
          0.4968685077749622,
          0.500013245165943,
          0.5031579825569238,
          0.5063027199479045,
          0.5094474573388853,
          0.5125921947298661,
          0.5157369321208469,
          0.5188816695118277,
          0.5220264069028084,
          0.5251711442937892,
          0.52831588168477,
          0.5314606190757507,
          0.5346053564667316,
          0.5377500938577123,
          0.5408948312486931,
          0.5440395686396738,
          0.5471843060306546,
          0.5503290434216354,
          0.5534737808126162,
          0.556618518203597,
          0.5597632555945777,
          0.5629079929855585,
          0.5660527303765392,
          0.56919746776752,
          0.5723422051585008,
          0.5754869425494816,
          0.5786316799404624,
          0.5817764173314431,
          0.5849211547224239,
          0.5880658921134047,
          0.5912106295043854,
          0.5943553668953663,
          0.597500104286347,
          0.6006448416773278,
          0.6037895790683085,
          0.6069343164592893,
          0.6100790538502701,
          0.6132237912412508,
          0.6163685286322317,
          0.6195132660232124,
          0.6226580034141932,
          0.625802740805174,
          0.6289474781961547,
          0.6320922155871355,
          0.6352369529781163,
          0.6383816903690971,
          0.6415264277600778,
          0.6446711651510586,
          0.6478159025420394,
          0.6509606399330201,
          0.6541053773240009,
          0.6572501147149817,
          0.6603948521059625,
          0.6635395894969432,
          0.666684326887924,
          0.6698290642789048,
          0.6729738016698855,
          0.6761185390608664,
          0.6792632764518471,
          0.6824080138428279,
          0.6855527512338087,
          0.6886974886247894,
          0.6918422260157702,
          0.694986963406751,
          0.6981317007977318,
          0.7012764381887125,
          0.7044211755796933,
          0.7075659129706741,
          0.7107106503616548,
          0.7138553877526356,
          0.7170001251436164,
          0.7201448625345972,
          0.723289599925578,
          0.7264343373165587,
          0.7295790747075395,
          0.7327238120985202,
          0.7358685494895011,
          0.7390132868804818,
          0.7421580242714626,
          0.7453027616624434,
          0.7484474990534241,
          0.7515922364444049,
          0.7547369738353857,
          0.7578817112263665,
          0.7610264486173473,
          0.764171186008328,
          0.7673159233993088,
          0.7704606607902895,
          0.7736053981812703,
          0.7767501355722511,
          0.7798948729632319,
          0.7830396103542127,
          0.7861843477451934,
          0.7893290851361742,
          0.7924738225271549,
          0.7956185599181358,
          0.7987632973091165,
          0.8019080347000973,
          0.8050527720910781,
          0.8081975094820588,
          0.8113422468730396,
          0.8144869842640203,
          0.8176317216550012,
          0.820776459045982,
          0.8239211964369627,
          0.8270659338279435,
          0.8302106712189242,
          0.833355408609905,
          0.8365001460008858,
          0.8396448833918666,
          0.8427896207828474,
          0.8459343581738281,
          0.8490790955648089,
          0.8522238329557896,
          0.8553685703467704,
          0.8585133077377513,
          0.861658045128732,
          0.8648027825197128,
          0.8679475199106935,
          0.8710922573016743,
          0.874236994692655,
          0.8773817320836359,
          0.8805264694746167,
          0.8836712068655974,
          0.8868159442565782,
          0.8899606816475589,
          0.8931054190385397,
          0.8962501564295206,
          0.8993948938205013,
          0.9025396312114821,
          0.9056843686024628,
          0.9088291059934436,
          0.9119738433844243,
          0.9151185807754051,
          0.918263318166386,
          0.9214080555573667,
          0.9245527929483475,
          0.9276975303393282,
          0.930842267730309,
          0.9339870051212897,
          0.9371317425122706,
          0.9402764799032514,
          0.9434212172942321,
          0.9465659546852129,
          0.9497106920761936,
          0.9528554294671744,
          0.9560001668581553,
          0.959144904249136,
          0.9622896416401168,
          0.9654343790310975,
          0.9685791164220783,
          0.971723853813059,
          0.9748685912040398,
          0.9780133285950207,
          0.9811580659860014,
          0.9843028033769822,
          0.9874475407679629,
          0.9905922781589437,
          0.9937370155499244,
          0.9968817529409053,
          1.000026490331886,
          1.0031712277228668,
          1.0063159651138476,
          1.0094607025048283,
          1.012605439895809,
          1.0157501772867898,
          1.0188949146777706,
          1.0220396520687514,
          1.0251843894597321,
          1.028329126850713,
          1.0314738642416938,
          1.0346186016326746,
          1.0377633390236554,
          1.0409080764146361,
          1.0440528138056169,
          1.0471975511965976,
          1.0503422885875784,
          1.0534870259785591,
          1.05663176336954,
          1.0597765007605207,
          1.0629212381515014,
          1.0660659755424822,
          1.0692107129334631,
          1.072355450324444,
          1.0755001877154247,
          1.0786449251064054,
          1.0817896624973862,
          1.084934399888367,
          1.0880791372793477,
          1.0912238746703284,
          1.0943686120613092,
          1.09751334945229,
          1.1006580868432707,
          1.1038028242342515,
          1.1069475616252324,
          1.1100922990162132,
          1.113237036407194,
          1.1163817737981747,
          1.1195265111891555,
          1.1226712485801362,
          1.125815985971117,
          1.1289607233620977,
          1.1321054607530785,
          1.1352501981440593,
          1.13839493553504,
          1.1415396729260208,
          1.1446844103170015,
          1.1478291477079825,
          1.1509738850989633,
          1.154118622489944,
          1.1572633598809248,
          1.1604080972719055,
          1.1635528346628863,
          1.166697572053867,
          1.1698423094448478,
          1.1729870468358286,
          1.1761317842268093,
          1.17927652161779,
          1.1824212590087708,
          1.1855659963997516,
          1.1887107337907326,
          1.1918554711817133,
          1.195000208572694,
          1.1981449459636748,
          1.2012896833546556,
          1.2044344207456363,
          1.207579158136617,
          1.2107238955275978,
          1.2138686329185786,
          1.2170133703095594,
          1.2201581077005401,
          1.2233028450915209,
          1.2264475824825016,
          1.2295923198734826,
          1.2327370572644634,
          1.2358817946554441,
          1.2390265320464249,
          1.2421712694374056,
          1.2453160068283864,
          1.2484607442193671,
          1.251605481610348,
          1.2547502190013287,
          1.2578949563923094,
          1.2610396937832902,
          1.264184431174271,
          1.2673291685652517,
          1.2704739059562327,
          1.2736186433472134,
          1.2767633807381942,
          1.279908118129175,
          1.2830528555201557,
          1.2861975929111364,
          1.2893423303021172,
          1.292487067693098,
          1.2956318050840787,
          1.2987765424750595,
          1.3019212798660402,
          1.305066017257021,
          1.3082107546480017,
          1.3113554920389827,
          1.3145002294299635,
          1.3176449668209442,
          1.320789704211925,
          1.3239344416029057,
          1.3270791789938865,
          1.3302239163848673,
          1.333368653775848,
          1.3365133911668288,
          1.3396581285578095,
          1.3428028659487903,
          1.345947603339771,
          1.349092340730752,
          1.3522370781217328,
          1.3553818155127135,
          1.3585265529036943,
          1.361671290294675,
          1.3648160276856558,
          1.3679607650766366,
          1.3711055024676173,
          1.374250239858598,
          1.3773949772495788,
          1.3805397146405596,
          1.3836844520315403,
          1.386829189422521,
          1.389973926813502,
          1.3931186642044828,
          1.3962634015954636,
          1.3994081389864443,
          1.402552876377425,
          1.4056976137684059,
          1.4088423511593866,
          1.4119870885503674,
          1.4151318259413481,
          1.4182765633323289,
          1.4214213007233096,
          1.4245660381142904,
          1.4277107755052711,
          1.4308555128962521,
          1.4340002502872329,
          1.4371449876782136,
          1.4402897250691944,
          1.4434344624601751,
          1.446579199851156,
          1.4497239372421367,
          1.4528686746331174,
          1.4560134120240982,
          1.459158149415079,
          1.4623028868060597,
          1.4654476241970404,
          1.4685923615880212,
          1.4717370989790022,
          1.474881836369983,
          1.4780265737609637,
          1.4811713111519444,
          1.4843160485429252,
          1.487460785933906,
          1.4906055233248867,
          1.4937502607158675,
          1.4968949981068482,
          1.500039735497829,
          1.5031844728888097,
          1.5063292102797905,
          1.5094739476707715,
          1.5126186850617522,
          1.515763422452733,
          1.5189081598437137,
          1.5220528972346945,
          1.5251976346256753,
          1.528342372016656,
          1.5314871094076368,
          1.5346318467986175,
          1.5377765841895983,
          1.540921321580579,
          1.5440660589715598,
          1.5472107963625406,
          1.5503555337535215,
          1.5535002711445023,
          1.556645008535483,
          1.5597897459264638,
          1.5629344833174446,
          1.5660792207084253,
          1.569223958099406,
          1.5723686954903868,
          1.5755134328813676,
          1.5786581702723483,
          1.581802907663329,
          1.5849476450543099,
          1.5880923824452906,
          1.5912371198362716,
          1.5943818572272523,
          1.597526594618233,
          1.6006713320092139,
          1.6038160694001946,
          1.6069608067911754,
          1.6101055441821561,
          1.6132502815731369,
          1.6163950189641176,
          1.6195397563550984,
          1.6226844937460791,
          1.62582923113706,
          1.6289739685280407,
          1.6321187059190216,
          1.6352634433100024,
          1.6384081807009832,
          1.641552918091964,
          1.6446976554829447,
          1.6478423928739254,
          1.6509871302649062,
          1.654131867655887,
          1.6572766050468677,
          1.6604213424378484,
          1.6635660798288292,
          1.66671081721981,
          1.6698555546107907,
          1.6730002920017717,
          1.6761450293927525,
          1.6792897667837332,
          1.682434504174714,
          1.6855792415656947,
          1.6887239789566755,
          1.6918687163476562,
          1.695013453738637,
          1.6981581911296177,
          1.7013029285205985,
          1.7044476659115793,
          1.70759240330256,
          1.7107371406935408,
          1.7138818780845217,
          1.7170266154755025,
          1.7201713528664833,
          1.723316090257464,
          1.7264608276484448,
          1.7296055650394255,
          1.7327503024304063,
          1.735895039821387,
          1.7390397772123678,
          1.7421845146033486,
          1.7453292519943293,
          1.74847398938531,
          1.751618726776291,
          1.7547634641672718,
          1.7579082015582526,
          1.7610529389492333,
          1.764197676340214,
          1.7673424137311948,
          1.7704871511221756,
          1.7736318885131563,
          1.776776625904137,
          1.7799213632951179,
          1.7830661006860986,
          1.7862108380770794,
          1.7893555754680601,
          1.792500312859041,
          1.7956450502500219,
          1.7987897876410026,
          1.8019345250319834,
          1.8050792624229641,
          1.8082239998139449,
          1.8113687372049256,
          1.8145134745959064,
          1.8176582119868872,
          1.820802949377868,
          1.8239476867688487,
          1.8270924241598294,
          1.8302371615508102,
          1.8333818989417912,
          1.836526636332772,
          1.8396713737237527,
          1.8428161111147334,
          1.8459608485057142,
          1.849105585896695,
          1.8522503232876757,
          1.8553950606786564,
          1.8585397980696372,
          1.861684535460618,
          1.8648292728515987,
          1.8679740102425795,
          1.8711187476335602,
          1.8742634850245412,
          1.877408222415522,
          1.8805529598065027,
          1.8836976971974835,
          1.8868424345884642,
          1.889987171979445,
          1.8931319093704257,
          1.8962766467614065,
          1.8994213841523873,
          1.902566121543368,
          1.9057108589343488,
          1.9088555963253295,
          1.9120003337163105,
          1.9151450711072913,
          1.918289808498272,
          1.9214345458892528,
          1.9245792832802335,
          1.9277240206712143,
          1.930868758062195,
          1.9340134954531758,
          1.9371582328441566,
          1.9403029702351373,
          1.943447707626118,
          1.9465924450170988,
          1.9497371824080796,
          1.9528819197990606,
          1.9560266571900413,
          1.959171394581022,
          1.9623161319720028,
          1.9654608693629836,
          1.9686056067539643,
          1.971750344144945,
          1.9748950815359259,
          1.9780398189269066,
          1.9811845563178874,
          1.9843292937088681,
          1.9874740310998489,
          1.9906187684908296,
          1.9937635058818106,
          1.9969082432727914,
          2.000052980663772,
          2.0031977180547527,
          2.0063424554457336,
          2.009487192836714,
          2.012631930227695,
          2.015776667618676,
          2.0189214050096567,
          2.0220661424006376,
          2.025210879791618,
          2.028355617182599,
          2.0315003545735797,
          2.0346450919645607,
          2.037789829355541,
          2.040934566746522,
          2.0440793041375027,
          2.0472240415284837,
          2.0503687789194642,
          2.053513516310445,
          2.056658253701426,
          2.0598029910924067,
          2.0629477284833877,
          2.0660924658743682,
          2.069237203265349,
          2.0723819406563297,
          2.0755266780473107,
          2.0786714154382913,
          2.0818161528292722,
          2.0849608902202528,
          2.0881056276112337,
          2.0912503650022143,
          2.0943951023931953,
          2.0975398397841762,
          2.1006845771751568,
          2.1038293145661378,
          2.1069740519571183,
          2.1101187893480993,
          2.11326352673908,
          2.116408264130061,
          2.1195530015210413,
          2.1226977389120223,
          2.125842476303003,
          2.128987213693984,
          2.1321319510849643,
          2.1352766884759453,
          2.1384214258669263,
          2.141566163257907,
          2.144710900648888,
          2.1478556380398683,
          2.1510003754308493,
          2.15414511282183,
          2.157289850212811,
          2.1604345876037914,
          2.1635793249947723,
          2.166724062385753,
          2.169868799776734,
          2.1730135371677144,
          2.1761582745586954,
          2.1793030119496763,
          2.182447749340657,
          2.185592486731638,
          2.1887372241226184,
          2.1918819615135994,
          2.19502669890458,
          2.198171436295561,
          2.2013161736865414,
          2.2044609110775224,
          2.207605648468503,
          2.210750385859484,
          2.213895123250465,
          2.2170398606414454,
          2.2201845980324264,
          2.223329335423407,
          2.226474072814388,
          2.2296188102053685,
          2.2327635475963494,
          2.23590828498733,
          2.239053022378311,
          2.2421977597692915,
          2.2453424971602725,
          2.248487234551253,
          2.251631971942234,
          2.254776709333215,
          2.2579214467241955,
          2.2610661841151765,
          2.264210921506157,
          2.267355658897138,
          2.2705003962881185,
          2.2736451336790995,
          2.27678987107008,
          2.279934608461061,
          2.2830793458520415,
          2.2862240832430225,
          2.289368820634003,
          2.292513558024984,
          2.295658295415965,
          2.2988030328069455,
          2.3019477701979265,
          2.305092507588907,
          2.308237244979888,
          2.3113819823708686,
          2.3145267197618495,
          2.31767145715283,
          2.320816194543811,
          2.3239609319347916,
          2.3271056693257726,
          2.330250406716753,
          2.333395144107734,
          2.336539881498715,
          2.3396846188896956,
          2.3428293562806766,
          2.345974093671657,
          2.349118831062638,
          2.3522635684536186,
          2.3554083058445996,
          2.35855304323558,
          2.361697780626561,
          2.3648425180175416,
          2.3679872554085226,
          2.371131992799503,
          2.374276730190484,
          2.377421467581465,
          2.3805662049724456,
          2.3837109423634266,
          2.386855679754407,
          2.390000417145388,
          2.3931451545363687,
          2.3962898919273496,
          2.39943462931833,
          2.402579366709311,
          2.4057241041002917,
          2.4088688414912727,
          2.412013578882253,
          2.415158316273234,
          2.418303053664215,
          2.4214477910551957,
          2.4245925284461767,
          2.427737265837157,
          2.430882003228138,
          2.4340267406191187,
          2.4371714780100997,
          2.4403162154010802,
          2.443460952792061,
          2.4466056901830417,
          2.4497504275740227,
          2.4528951649650033,
          2.4560399023559842,
          2.459184639746965,
          2.4623293771379458,
          2.4654741145289267,
          2.4686188519199073,
          2.4717635893108882,
          2.4749083267018688,
          2.4780530640928498,
          2.4811978014838303,
          2.4843425388748113,
          2.487487276265792,
          2.490632013656773,
          2.4937767510477533,
          2.4969214884387343,
          2.5000662258297153,
          2.503210963220696,
          2.506355700611677,
          2.5095004380026573,
          2.5126451753936383,
          2.515789912784619,
          2.5189346501756,
          2.5220793875665803,
          2.5252241249575613,
          2.528368862348542,
          2.531513599739523,
          2.5346583371305034,
          2.5378030745214843,
          2.5409478119124653,
          2.544092549303446,
          2.547237286694427,
          2.5503820240854074,
          2.5535267614763884,
          2.556671498867369,
          2.55981623625835,
          2.5629609736493304,
          2.5661057110403114,
          2.569250448431292,
          2.572395185822273,
          2.5755399232132534,
          2.5786846606042344,
          2.5818293979952154,
          2.584974135386196,
          2.588118872777177,
          2.5912636101681574,
          2.5944083475591384,
          2.597553084950119,
          2.6006978223411,
          2.6038425597320805,
          2.6069872971230614,
          2.610132034514042,
          2.613276771905023,
          2.6164215092960035,
          2.6195662466869845,
          2.6227109840779654,
          2.625855721468946,
          2.629000458859927,
          2.6321451962509075,
          2.6352899336418885,
          2.638434671032869,
          2.64157940842385,
          2.6447241458148305,
          2.6478688832058115,
          2.651013620596792,
          2.654158357987773,
          2.657303095378754,
          2.6604478327697345,
          2.6635925701607155,
          2.666737307551696,
          2.669882044942677,
          2.6730267823336575,
          2.6761715197246385,
          2.679316257115619,
          2.6824609945066,
          2.6856057318975806,
          2.6887504692885615,
          2.691895206679542,
          2.695039944070523,
          2.698184681461504,
          2.7013294188524846,
          2.7044741562434655,
          2.707618893634446,
          2.710763631025427,
          2.7139083684164076,
          2.7170531058073886,
          2.720197843198369,
          2.72334258058935,
          2.7264873179803306,
          2.7296320553713116,
          2.732776792762292,
          2.735921530153273,
          2.739066267544254,
          2.7422110049352346,
          2.7453557423262156,
          2.748500479717196,
          2.751645217108177,
          2.7547899544991576,
          2.7579346918901386,
          2.761079429281119,
          2.7642241666721,
          2.7673689040630807,
          2.7705136414540616,
          2.773658378845042,
          2.776803116236023,
          2.779947853627004,
          2.7830925910179847,
          2.7862373284089657,
          2.789382065799946,
          2.792526803190927,
          2.7956715405819077,
          2.7988162779728887,
          2.801961015363869,
          2.80510575275485,
          2.8082504901458307,
          2.8113952275368117,
          2.8145399649277922,
          2.817684702318773,
          2.820829439709754,
          2.8239741771007347,
          2.8271189144917157,
          2.8302636518826962,
          2.833408389273677,
          2.8365531266646578,
          2.8396978640556387,
          2.8428426014466193,
          2.8459873388376002,
          2.849132076228581,
          2.8522768136195618,
          2.8554215510105423,
          2.8585662884015233,
          2.8617110257925042,
          2.864855763183485,
          2.8680005005744658,
          2.8711452379654463,
          2.8742899753564273,
          2.877434712747408,
          2.880579450138389,
          2.8837241875293693,
          2.8868689249203503,
          2.890013662311331,
          2.893158399702312,
          2.8963031370932923,
          2.8994478744842733,
          2.9025926118752543,
          2.905737349266235,
          2.908882086657216,
          2.9120268240481963,
          2.9151715614391773,
          2.918316298830158,
          2.921461036221139,
          2.9246057736121194,
          2.9277505110031004,
          2.930895248394081,
          2.934039985785062,
          2.9371847231760424,
          2.9403294605670234,
          2.9434741979580044,
          2.946618935348985,
          2.949763672739966,
          2.9529084101309464,
          2.9560531475219274,
          2.959197884912908,
          2.962342622303889,
          2.9654873596948694,
          2.9686320970858504,
          2.971776834476831,
          2.974921571867812,
          2.9780663092587925,
          2.9812110466497734,
          2.9843557840407544,
          2.987500521431735,
          2.990645258822716,
          2.9937899962136965,
          2.9969347336046774,
          3.000079470995658,
          3.003224208386639,
          3.0063689457776195,
          3.0095136831686005,
          3.012658420559581,
          3.015803157950562,
          3.018947895341543,
          3.0220926327325235,
          3.0252373701235045,
          3.028382107514485,
          3.031526844905466,
          3.0346715822964465,
          3.0378163196874275,
          3.040961057078408,
          3.044105794469389,
          3.0472505318603695,
          3.0503952692513505,
          3.053540006642331,
          3.056684744033312,
          3.059829481424293,
          3.0629742188152735,
          3.0661189562062545,
          3.069263693597235,
          3.072408430988216,
          3.0755531683791966,
          3.0786979057701775,
          3.081842643161158,
          3.084987380552139,
          3.0881321179431196,
          3.0912768553341006,
          3.094421592725081,
          3.097566330116062,
          3.100711067507043,
          3.1038558048980236,
          3.1070005422890046,
          3.110145279679985,
          3.113290017070966,
          3.1164347544619466,
          3.1195794918529276,
          3.122724229243908,
          3.125868966634889,
          3.1290137040258696,
          3.1321584414168506,
          3.135303178807831,
          3.138447916198812,
          3.141592653589793
         ],
         "y": [
          0,
          0.00314473220773636,
          0.006289433316067751,
          0.009434072225896754,
          0.012578617838741058,
          0.015723039057040998,
          0.01886730478446709,
          0.022011383926227562,
          0.025155245389375847,
          0.02829885808311809,
          0.0314421909191206,
          0.03458521281181731,
          0.03772789267871718,
          0.040870199440711574,
          0.04401210202238166,
          0.04715356935230567,
          0.05029457036336618,
          0.053435073993057414,
          0.056575049183792345,
          0.05971446488320988,
          0.06285329004448194,
          0.06599149362662049,
          0.06912904459478454,
          0.072265911920587,
          0.07540206458240159,
          0.0785374715656696,
          0.08167210186320663,
          0.08480592447550919,
          0.08793890841106125,
          0.0910710226866408,
          0.09420223632762625,
          0.09733251836830262,
          0.10046183785216795,
          0.10359016383223929,
          0.10671746537135889,
          0.10984371154250001,
          0.11296887142907283,
          0.11609291412523022,
          0.11921580873617335,
          0.1223375243784572,
          0.12545803018029603,
          0.12857729528186868,
          0.1316952888356236,
          0.1348119800065842,
          0.13792733797265358,
          0.1410413319249193,
          0.1441539310679583,
          0.14726510462014114,
          0.1503748218139367,
          0.15348305189621625,
          0.15658976412855766,
          0.1596949277875494,
          0.1627985121650943,
          0.16590048656871334,
          0.16900082032184907,
          0.172099482764169,
          0.17519644325186898,
          0.17829167115797595,
          0.18138513587265107,
          0.18447680680349232,
          0.18756665337583714,
          0.19065464503306453,
          0.19374075123689763,
          0.19682494146770538,
          0.19990718522480458,
          0.20298745202676133,
          0.20606571141169255,
          0.20914193293756736,
          0.21221608618250787,
          0.2152881407450903,
          0.21835806624464543,
          0.2214258323215591,
          0.22449140863757258,
          0.22755476487608237,
          0.23061587074244014,
          0.23367469596425242,
          0.23673121029167973,
          0.23978538349773595,
          0.24283718537858714,
          0.24588658575385022,
          0.2489335544668916,
          0.25197806138512513,
          0.25502007640031044,
          0.2580595694288502,
          0.2610965104120882,
          0.2641308693166063,
          0.2671626161345213,
          0.27019172088378207,
          0.27321815360846585,
          0.2762418843790744,
          0.27926288329283006,
          0.28228112047397164,
          0.28529656607404974,
          0.2883091902722218,
          0.2913189632755472,
          0.2943258553192818,
          0.2973298366671723,
          0.3003308776117504,
          0.30332894847462666,
          0.3063240196067834,
          0.30931606138886886,
          0.31230504423148947,
          0.31529093857550244,
          0.3182737148923085,
          0.32125334368414366,
          0.3242297954843709,
          0.3272030408577716,
          0.3301730504008367,
          0.33313979474205757,
          0.336103244542216,
          0.33906337049467516,
          0.3420201433256687,
          0.34497353379459045,
          0.34792351269428384,
          0.3508700508513305,
          0.35381311912633867,
          0.3567526884142317,
          0.3596887296445357,
          0.3626212137816669,
          0.36555011182521896,
          0.3684753948102499,
          0.3713970338075681,
          0.37431499992401884,
          0.3772292643027699,
          0.38013979812359666,
          0.38304657260316766,
          0.3859495589953287,
          0.38884872859138747,
          0.3917440527203973,
          0.39463550274944076,
          0.3975230500839129,
          0.40040666616780385,
          0.4032863224839812,
          0.4061619905544724,
          0.4090336419407459,
          0.4119012482439926,
          0.41476478110540693,
          0.4176242122064669,
          0.4204795132692143,
          0.42333065605653436,
          0.4261776123724353,
          0.4290203540623264,
          0.4318588530132973,
          0.4346930811543956,
          0.4375230104569043,
          0.44034861293461924,
          0.4431698606441261,
          0.44598672568507597,
          0.4487991802004621,
          0.451607196376895,
          0.4544107464448774,
          0.45720980267907907,
          0.46000433739861096,
          0.46279432296729894,
          0.46557973179395706,
          0.46836053633266045,
          0.4711367090830178,
          0.47390822259044313,
          0.47667504944642736,
          0.4794371622888097,
          0.4821945338020477,
          0.4849471367174877,
          0.4876949438136345,
          0.49043792791642044,
          0.4931760618994744,
          0.4959093186843894,
          0.49863767124099145,
          0.5013610925876059,
          0.5040795557913246,
          0.5067930339682725,
          0.5095015002838732,
          0.5122049279531143,
          0.5149032902408126,
          0.5175965604618784,
          0.5202847119815789,
          0.5229677182158023,
          0.5256455526313207,
          0.5283181887460514,
          0.5309856001293203,
          0.5336477604021223,
          0.5363046432373824,
          0.5389562223602163,
          0.54160247154819,
          0.544243364631579,
          0.5468788754936273,
          0.549508978070806,
          0.5521336463530702,
          0.554752854384117,
          0.5573665762616421,
          0.5599747861375953,
          0.5625774582184371,
          0.5651745667653928,
          0.5677660860947078,
          0.5703519905779013,
          0.5729322546420199,
          0.5755068527698899,
          0.5780757595003707,
          0.5806389494286055,
          0.5831963972062733,
          0.5857480775418393,
          0.588293965200805,
          0.5908340350059579,
          0.5933682618376204,
          0.5958966206338977,
          0.5984190863909268,
          0.6009356341631229,
          0.6034462390634261,
          0.605950876263548,
          0.608449520994217,
          0.610942148545423,
          0.6134287342666618,
          0.6159092535671796,
          0.6183836819162153,
          0.6208519948432435,
          0.6233141679382166,
          0.6257701768518059,
          0.6282199972956423,
          0.6306636050425571,
          0.6331009759268212,
          0.635532085844384,
          0.6379569107531118,
          0.6403754266730259,
          0.6427876096865393,
          0.6451934359386934,
          0.647592881637394,
          0.6499859230536466,
          0.652372536521791,
          0.6547526984397349,
          0.6571263852691885,
          0.6594935735358959,
          0.661854239829868,
          0.664208360805614,
          0.666555913182372,
          0.6688968737443394,
          0.6712312193409027,
          0.6735589268868658,
          0.675879973362679,
          0.6781943358146663,
          0.6805019913552524,
          0.682802917163189,
          0.6850970904837809,
          0.6873844886291103,
          0.6896650889782618,
          0.6919388689775461,
          0.6942058061407225,
          0.6964658780492217,
          0.6987190623523674,
          0.7009653367675974,
          0.7032046790806838,
          0.7054370671459531,
          0.7076624788865044,
          0.7098808922944285,
          0.7120922854310253,
          0.7142966364270209,
          0.7164939234827832,
          0.7186841248685383,
          0.720867218924585,
          0.7230431840615092,
          0.7252119987603972,
          0.7273736415730486,
          0.7295280911221884,
          0.7316753261016783,
          0.7338153252767277,
          0.7359480674841034,
          0.7380735316323389,
          0.7401916967019435,
          0.7423025417456093,
          0.744406045888419,
          0.7465021883280519,
          0.7485909483349905,
          0.7506723052527243,
          0.7527462384979547,
          0.7548127275607988,
          0.7568717520049917,
          0.7589232914680888,
          0.7609673256616675,
          0.7630038343715273,
          0.7650327974578899,
          0.7670541948555987,
          0.7690680065743167,
          0.7710742126987247,
          0.7730727933887177,
          0.7750637288796015,
          0.7770469994822884,
          0.7790225855834911,
          0.7809904676459174,
          0.7829506262084631,
          0.7849030418864045,
          0.7868476953715899,
          0.7887845674326314,
          0.7907136389150937,
          0.7926348907416847,
          0.7945483039124437,
          0.796453859504929,
          0.7983515386744059,
          0.800241322654032,
          0.8021231927550437,
          0.8039971303669404,
          0.8058631169576691,
          0.8077211340738067,
          0.809571163340744,
          0.8114131864628658,
          0.8132471852237328,
          0.8150731414862622,
          0.8168910371929053,
          0.8187008543658281,
          0.8205025751070875,
          0.8222961815988094,
          0.8240816561033644,
          0.825858980963543,
          0.8276281386027311,
          0.8293891115250827,
          0.8311418823156935,
          0.8328864336407734,
          0.8346227482478172,
          0.8363508089657761,
          0.8380705987052264,
          0.8397821004585397,
          0.8414852973000502,
          0.8431801723862223,
          0.8448667089558177,
          0.8465448903300605,
          0.8482146999128022,
          0.8498761211906863,
          0.8515291377333112,
          0.8531737331933927,
          0.8548098913069259,
          0.8564375958933459,
          0.8580568308556875,
          0.8596675801807452,
          0.8612698279392308,
          0.8628635582859311,
          0.8644487554598649,
          0.8660254037844386,
          0.8675934876676012,
          0.8691529916019988,
          0.8707039001651274,
          0.8722461980194862,
          0.8737798699127284,
          0.8753049006778129,
          0.8768212752331536,
          0.8783289785827686,
          0.8798279958164293,
          0.881318312109807,
          0.8827999127246196,
          0.8842727830087777,
          0.8857369083965293,
          0.8871922744086039,
          0.8886388666523558,
          0.8900766708219059,
          0.8915056726982838,
          0.8929258581495684,
          0.8943372131310272,
          0.8957397236852553,
          0.897133375942314,
          0.8985181561198672,
          0.8998940505233182,
          0.9012610455459447,
          0.902619127669034,
          0.903968283462016,
          0.9053084995825966,
          0.9066397627768893,
          0.9079620598795461,
          0.9092753778138883,
          0.9105797035920355,
          0.9118750243150338,
          0.9131613271729833,
          0.9144385994451657,
          0.9157068285001692,
          0.9169660017960134,
          0.918216106880274,
          0.9194571313902054,
          0.920689063052863,
          0.9219118896852251,
          0.9231255991943123,
          0.9243301795773083,
          0.9255256189216778,
          0.9267119054052849,
          0.9278890272965093,
          0.9290569729543627,
          0.9302157308286042,
          0.9313652894598542,
          0.9325056374797074,
          0.9336367636108461,
          0.934758656667151,
          0.935871305553812,
          0.936974699267438,
          0.9380688268961658,
          0.9391536776197676,
          0.9402292407097589,
          0.9412955055295031,
          0.9423524615343186,
          0.9434000982715812,
          0.9444384053808289,
          0.9454673725938634,
          0.9464869897348525,
          0.9474972467204298,
          0.9484981335597952,
          0.9494896403548133,
          0.9504717573001115,
          0.9514444746831766,
          0.9524077828844514,
          0.9533616723774293,
          0.9543061337287487,
          0.9552411575982869,
          0.956166734739251,
          0.9570828559982708,
          0.9579895123154889,
          0.9588866947246497,
          0.959774394353189,
          0.960652602422321,
          0.9615213102471254,
          0.9623805092366334,
          0.9632301908939126,
          0.9640703468161506,
          0.964900968694739,
          0.9657220483153546,
          0.9665335775580414,
          0.9673355483972902,
          0.9681279529021187,
          0.9689107832361495,
          0.9696840316576876,
          0.970447690519797,
          0.9712017522703762,
          0.9719462094522335,
          0.97268105470316,
          0.9734062807560027,
          0.9741218804387362,
          0.9748278466745341,
          0.9755241724818386,
          0.9762108509744296,
          0.9768878753614925,
          0.9775552389476861,
          0.9782129351332084,
          0.9788609574138615,
          0.9794992993811165,
          0.9801279547221765,
          0.9807469172200396,
          0.9813561807535595,
          0.9819557392975066,
          0.9825455869226277,
          0.9831257177957042,
          0.9836961261796101,
          0.9842568064333687,
          0.984807753012208,
          0.9853489604676164,
          0.9858804234473958,
          0.9864021366957145,
          0.98691409505316,
          0.9874162934567889,
          0.9879087269401781,
          0.9883913906334728,
          0.9888642797634357,
          0.9893273896534935,
          0.9897807157237835,
          0.9902242534911985,
          0.9906579985694317,
          0.9910819466690196,
          0.9914960935973848,
          0.9919004352588768,
          0.9922949676548136,
          0.9926796868835203,
          0.9930545891403677,
          0.9934196707178107,
          0.9937749280054242,
          0.9941203574899392,
          0.9944559557552776,
          0.9947817194825852,
          0.995097645450266,
          0.9954037305340125,
          0.9956999717068377,
          0.9959863660391043,
          0.9962629106985543,
          0.9965296029503367,
          0.9967864401570342,
          0.9970334197786902,
          0.9972705393728327,
          0.9974977965944997,
          0.9977151891962615,
          0.9979227150282433,
          0.9981203720381463,
          0.9983081582712682,
          0.9984860718705224,
          0.9986541110764564,
          0.9988122742272691,
          0.9989605597588274,
          0.9990989662046814,
          0.9992274921960794,
          0.9993461364619809,
          0.9994548978290693,
          0.9995537752217638,
          0.9996427676622299,
          0.9997218742703887,
          0.9997910942639262,
          0.9998504269583004,
          0.9998998717667489,
          0.9999394282002937,
          0.9999690958677468,
          0.999988874475714,
          0.9999987638285974,
          0.9999987638285974,
          0.999988874475714,
          0.9999690958677468,
          0.9999394282002937,
          0.9998998717667489,
          0.9998504269583004,
          0.9997910942639262,
          0.9997218742703887,
          0.9996427676622299,
          0.9995537752217639,
          0.9994548978290693,
          0.9993461364619809,
          0.9992274921960794,
          0.9990989662046815,
          0.9989605597588275,
          0.9988122742272691,
          0.9986541110764565,
          0.9984860718705225,
          0.9983081582712682,
          0.9981203720381463,
          0.9979227150282433,
          0.9977151891962615,
          0.9974977965944997,
          0.9972705393728327,
          0.9970334197786902,
          0.9967864401570343,
          0.9965296029503368,
          0.9962629106985544,
          0.9959863660391044,
          0.9956999717068378,
          0.9954037305340125,
          0.995097645450266,
          0.9947817194825853,
          0.9944559557552776,
          0.9941203574899393,
          0.9937749280054242,
          0.9934196707178107,
          0.9930545891403677,
          0.9926796868835203,
          0.9922949676548137,
          0.991900435258877,
          0.9914960935973848,
          0.9910819466690197,
          0.9906579985694317,
          0.9902242534911986,
          0.9897807157237835,
          0.9893273896534935,
          0.9888642797634357,
          0.9883913906334728,
          0.9879087269401781,
          0.9874162934567889,
          0.98691409505316,
          0.9864021366957146,
          0.9858804234473959,
          0.9853489604676166,
          0.9848077530122081,
          0.9842568064333687,
          0.9836961261796101,
          0.9831257177957042,
          0.9825455869226277,
          0.9819557392975067,
          0.9813561807535596,
          0.9807469172200397,
          0.9801279547221766,
          0.9794992993811165,
          0.9788609574138615,
          0.9782129351332085,
          0.9775552389476863,
          0.9768878753614926,
          0.9762108509744296,
          0.9755241724818388,
          0.9748278466745343,
          0.9741218804387363,
          0.9734062807560028,
          0.9726810547031601,
          0.9719462094522336,
          0.9712017522703763,
          0.970447690519797,
          0.9696840316576877,
          0.9689107832361497,
          0.9681279529021188,
          0.9673355483972903,
          0.9665335775580415,
          0.9657220483153547,
          0.9649009686947391,
          0.9640703468161507,
          0.9632301908939126,
          0.9623805092366335,
          0.9615213102471255,
          0.9606526024223211,
          0.9597743943531891,
          0.9588866947246498,
          0.9579895123154889,
          0.9570828559982709,
          0.9561667347392511,
          0.955241157598287,
          0.9543061337287488,
          0.9533616723774293,
          0.9524077828844515,
          0.9514444746831767,
          0.9504717573001116,
          0.9494896403548134,
          0.9484981335597953,
          0.9474972467204299,
          0.9464869897348526,
          0.9454673725938635,
          0.944438405380829,
          0.9434000982715813,
          0.9423524615343186,
          0.9412955055295033,
          0.940229240709759,
          0.9391536776197678,
          0.9380688268961659,
          0.9369746992674381,
          0.9358713055538121,
          0.9347586566671511,
          0.9336367636108462,
          0.9325056374797075,
          0.9313652894598543,
          0.9302157308286044,
          0.9290569729543628,
          0.9278890272965093,
          0.926711905405285,
          0.9255256189216781,
          0.9243301795773085,
          0.9231255991943124,
          0.9219118896852252,
          0.9206890630528632,
          0.9194571313902055,
          0.9182161068802741,
          0.9169660017960135,
          0.9157068285001693,
          0.9144385994451658,
          0.9131613271729834,
          0.9118750243150338,
          0.9105797035920357,
          0.9092753778138886,
          0.9079620598795464,
          0.9066397627768894,
          0.9053084995825968,
          0.9039682834620162,
          0.902619127669034,
          0.9012610455459448,
          0.8998940505233182,
          0.8985181561198674,
          0.8971333759423141,
          0.8957397236852556,
          0.8943372131310273,
          0.8929258581495686,
          0.891505672698284,
          0.8900766708219061,
          0.8886388666523559,
          0.8871922744086043,
          0.8857369083965295,
          0.8842727830087778,
          0.8827999127246198,
          0.881318312109807,
          0.8798279958164296,
          0.8783289785827687,
          0.8768212752331537,
          0.8753049006778131,
          0.8737798699127287,
          0.8722461980194863,
          0.8707039001651278,
          0.869152991601999,
          0.8675934876676015,
          0.8660254037844387,
          0.864448755459865,
          0.8628635582859312,
          0.8612698279392308,
          0.8596675801807454,
          0.8580568308556876,
          0.856437595893346,
          0.8548098913069261,
          0.853173733193393,
          0.8515291377333114,
          0.8498761211906867,
          0.8482146999128024,
          0.8465448903300608,
          0.844866708955818,
          0.8431801723862224,
          0.8414852973000503,
          0.8397821004585397,
          0.8380705987052266,
          0.8363508089657762,
          0.8346227482478176,
          0.8328864336407735,
          0.8311418823156937,
          0.8293891115250829,
          0.8276281386027314,
          0.8258589809635433,
          0.8240816561033646,
          0.8222961815988096,
          0.8205025751070876,
          0.8187008543658283,
          0.8168910371929055,
          0.8150731414862624,
          0.8132471852237331,
          0.811413186462866,
          0.8095711633407441,
          0.8077211340738071,
          0.8058631169576692,
          0.8039971303669408,
          0.802123192755044,
          0.800241322654032,
          0.798351538674406,
          0.7964538595049291,
          0.7945483039124439,
          0.7926348907416848,
          0.7907136389150939,
          0.7887845674326315,
          0.7868476953715902,
          0.7849030418864046,
          0.7829506262084633,
          0.7809904676459176,
          0.7790225855834915,
          0.7770469994822886,
          0.7750637288796016,
          0.7730727933887178,
          0.7710742126987248,
          0.769068006574317,
          0.7670541948555988,
          0.7650327974578902,
          0.7630038343715274,
          0.7609673256616678,
          0.758923291468089,
          0.756871752004992,
          0.754812727560799,
          0.7527462384979551,
          0.7506723052527244,
          0.7485909483349906,
          0.7465021883280523,
          0.744406045888419,
          0.7423025417456095,
          0.7401916967019436,
          0.7380735316323392,
          0.7359480674841035,
          0.733815325276728,
          0.7316753261016785,
          0.7295280911221887,
          0.7273736415730488,
          0.7252119987603977,
          0.7230431840615095,
          0.720867218924585,
          0.7186841248685385,
          0.7164939234827833,
          0.7142966364270211,
          0.7120922854310255,
          0.7098808922944289,
          0.7076624788865045,
          0.7054370671459533,
          0.7032046790806841,
          0.7009653367675978,
          0.6987190623523676,
          0.6964658780492221,
          0.6942058061407227,
          0.6919388689775462,
          0.6896650889782621,
          0.6873844886291103,
          0.6850970904837811,
          0.6828029171631891,
          0.6805019913552527,
          0.6781943358146665,
          0.6758799733626794,
          0.673558926886866,
          0.671231219340903,
          0.6688968737443397,
          0.6665559131823724,
          0.6642083608056142,
          0.661854239829868,
          0.6594935735358961,
          0.6571263852691887,
          0.6547526984397353,
          0.6523725365217911,
          0.649985923053647,
          0.6475928816373941,
          0.6451934359386937,
          0.6427876096865395,
          0.6403754266730263,
          0.6379569107531121,
          0.6355320858443845,
          0.6331009759268215,
          0.6306636050425573,
          0.6282199972956426,
          0.6257701768518059,
          0.6233141679382169,
          0.6208519948432437,
          0.6183836819162156,
          0.6159092535671797,
          0.6134287342666621,
          0.6109421485454231,
          0.6084495209942175,
          0.6059508762635484,
          0.6034462390634265,
          0.6009356341631231,
          0.5984190863909269,
          0.5958966206338979,
          0.5933682618376205,
          0.5908340350059583,
          0.5882939652008052,
          0.5857480775418397,
          0.5831963972062735,
          0.5806389494286058,
          0.5780757595003709,
          0.5755068527698903,
          0.5729322546420201,
          0.5703519905779018,
          0.567766086094708,
          0.5651745667653928,
          0.5625774582184373,
          0.5599747861375954,
          0.5573665762616424,
          0.5547528543841173,
          0.5521336463530706,
          0.5495089780708062,
          0.5468788754936278,
          0.5442433646315792,
          0.5416024715481904,
          0.5389562223602167,
          0.5363046432373829,
          0.5336477604021226,
          0.5309856001293204,
          0.5283181887460517,
          0.5256455526313208,
          0.5229677182158028,
          0.5202847119815791,
          0.5175965604618787,
          0.5149032902408128,
          0.5122049279531147,
          0.5095015002838734,
          0.5067930339682729,
          0.5040795557913248,
          0.5013610925876063,
          0.4986376712409918,
          0.49590931868438953,
          0.49317606189947466,
          0.4904379279164206,
          0.4876949438136349,
          0.4849471367174879,
          0.4821945338020481,
          0.47943716228880995,
          0.47667504944642786,
          0.47390822259044335,
          0.4711367090830183,
          0.4683605363326608,
          0.4655797317939572,
          0.4627943229672993,
          0.4600043373986111,
          0.4572098026790794,
          0.45441074644487756,
          0.4516071963768954,
          0.44879918020046233,
          0.44598672568507636,
          0.4431698606441263,
          0.44034861293461974,
          0.4375230104569045,
          0.4346930811543961,
          0.4318588530132976,
          0.4290203540623265,
          0.42617761237243557,
          0.4233306560565345,
          0.4204795132692146,
          0.41762421220646706,
          0.4147647811054074,
          0.4119012482439928,
          0.4090336419407463,
          0.4061619905544726,
          0.40328632248398166,
          0.40040666616780407,
          0.3975230500839134,
          0.3946355027494411,
          0.3917440527203974,
          0.3888487285913878,
          0.38594955899532885,
          0.38304657260316805,
          0.38013979812359683,
          0.37722926430277026,
          0.37431499992401907,
          0.3713970338075685,
          0.3684753948102501,
          0.36555011182521946,
          0.3626212137816672,
          0.3596887296445362,
          0.356752688414232,
          0.3538131191263388,
          0.35087005085133083,
          0.347923512694284,
          0.34497353379459084,
          0.3420201433256689,
          0.3390633704946756,
          0.33610324454221624,
          0.33313979474205796,
          0.330173050400837,
          0.3272030408577721,
          0.3242297954843712,
          0.3212533436841442,
          0.3182737148923088,
          0.31529093857550256,
          0.3123050442314898,
          0.309316061388869,
          0.3063240196067838,
          0.3033289484746268,
          0.30033087761175087,
          0.2973298366671725,
          0.29432585531928224,
          0.29131896327554746,
          0.2883091902722223,
          0.28529656607405,
          0.2822811204739722,
          0.2792628832928304,
          0.2762418843790745,
          0.2732181536084662,
          0.27019172088378224,
          0.2671626161345217,
          0.26413086931660645,
          0.26109651041208864,
          0.25805956942885044,
          0.2550200764003109,
          0.2519780613851254,
          0.2489335544668921,
          0.24588658575385056,
          0.24283718537858767,
          0.2397853834977363,
          0.23673121029167987,
          0.23367469596425278,
          0.23061587074244033,
          0.22755476487608275,
          0.22449140863757278,
          0.22142583232155955,
          0.21835806624464565,
          0.21528814074509078,
          0.21221608618250815,
          0.20914193293756786,
          0.20606571141169286,
          0.20298745202676186,
          0.1999071852248049,
          0.19682494146770554,
          0.193740751236898,
          0.1906546450330647,
          0.18756665337583753,
          0.18447680680349254,
          0.1813851358726515,
          0.17829167115797617,
          0.17519644325186945,
          0.17209948276416928,
          0.16900082032184957,
          0.16590048656871365,
          0.16279851216509486,
          0.15969492778754976,
          0.15658976412855782,
          0.15348305189621664,
          0.15037482181393688,
          0.14726510462014156,
          0.14415393106795849,
          0.14104133192491974,
          0.1379273379726538,
          0.1348119800065847,
          0.13169528883562387,
          0.12857729528186918,
          0.12545803018029636,
          0.12233752437845731,
          0.11921580873617368,
          0.11609291412523036,
          0.1129688714290732,
          0.10984371154250018,
          0.10671746537135932,
          0.10359016383223951,
          0.10046183785216839,
          0.09733251836830287,
          0.09420223632762673,
          0.09107102268664109,
          0.08793890841106176,
          0.0848059244755095,
          0.08167210186320675,
          0.07853747156566997,
          0.07540206458240174,
          0.07226591192058739,
          0.06912904459478472,
          0.06599149362662092,
          0.06285329004448216,
          0.05971446488321034,
          0.0565750491837926,
          0.05343507399305791,
          0.05029457036336647,
          0.04715356935230619,
          0.04401210202238198,
          0.04087019944071169,
          0.03772789267871753,
          0.034585212811817465,
          0.031442190919120996,
          0.028298858083118276,
          0.025155245389376274,
          0.022011383926227784,
          0.01886730478446755,
          0.015723039057041255,
          0.012578617838741556,
          0.009434072225897046,
          0.006289433316068282,
          0.0031447322077366876,
          1.2246467991473532e-16
         ]
        }
       ],
       "layout": {
        "autosize": true,
        "template": {
         "data": {
          "bar": [
           {
            "error_x": {
             "color": "#2a3f5f"
            },
            "error_y": {
             "color": "#2a3f5f"
            },
            "marker": {
             "line": {
              "color": "#E5ECF6",
              "width": 0.5
             },
             "pattern": {
              "fillmode": "overlay",
              "size": 10,
              "solidity": 0.2
             }
            },
            "type": "bar"
           }
          ],
          "barpolar": [
           {
            "marker": {
             "line": {
              "color": "#E5ECF6",
              "width": 0.5
             },
             "pattern": {
              "fillmode": "overlay",
              "size": 10,
              "solidity": 0.2
             }
            },
            "type": "barpolar"
           }
          ],
          "carpet": [
           {
            "aaxis": {
             "endlinecolor": "#2a3f5f",
             "gridcolor": "white",
             "linecolor": "white",
             "minorgridcolor": "white",
             "startlinecolor": "#2a3f5f"
            },
            "baxis": {
             "endlinecolor": "#2a3f5f",
             "gridcolor": "white",
             "linecolor": "white",
             "minorgridcolor": "white",
             "startlinecolor": "#2a3f5f"
            },
            "type": "carpet"
           }
          ],
          "choropleth": [
           {
            "colorbar": {
             "outlinewidth": 0,
             "ticks": ""
            },
            "type": "choropleth"
           }
          ],
          "contour": [
           {
            "colorbar": {
             "outlinewidth": 0,
             "ticks": ""
            },
            "colorscale": [
             [
              0,
              "#0d0887"
             ],
             [
              0.1111111111111111,
              "#46039f"
             ],
             [
              0.2222222222222222,
              "#7201a8"
             ],
             [
              0.3333333333333333,
              "#9c179e"
             ],
             [
              0.4444444444444444,
              "#bd3786"
             ],
             [
              0.5555555555555556,
              "#d8576b"
             ],
             [
              0.6666666666666666,
              "#ed7953"
             ],
             [
              0.7777777777777778,
              "#fb9f3a"
             ],
             [
              0.8888888888888888,
              "#fdca26"
             ],
             [
              1,
              "#f0f921"
             ]
            ],
            "type": "contour"
           }
          ],
          "contourcarpet": [
           {
            "colorbar": {
             "outlinewidth": 0,
             "ticks": ""
            },
            "type": "contourcarpet"
           }
          ],
          "heatmap": [
           {
            "colorbar": {
             "outlinewidth": 0,
             "ticks": ""
            },
            "colorscale": [
             [
              0,
              "#0d0887"
             ],
             [
              0.1111111111111111,
              "#46039f"
             ],
             [
              0.2222222222222222,
              "#7201a8"
             ],
             [
              0.3333333333333333,
              "#9c179e"
             ],
             [
              0.4444444444444444,
              "#bd3786"
             ],
             [
              0.5555555555555556,
              "#d8576b"
             ],
             [
              0.6666666666666666,
              "#ed7953"
             ],
             [
              0.7777777777777778,
              "#fb9f3a"
             ],
             [
              0.8888888888888888,
              "#fdca26"
             ],
             [
              1,
              "#f0f921"
             ]
            ],
            "type": "heatmap"
           }
          ],
          "heatmapgl": [
           {
            "colorbar": {
             "outlinewidth": 0,
             "ticks": ""
            },
            "colorscale": [
             [
              0,
              "#0d0887"
             ],
             [
              0.1111111111111111,
              "#46039f"
             ],
             [
              0.2222222222222222,
              "#7201a8"
             ],
             [
              0.3333333333333333,
              "#9c179e"
             ],
             [
              0.4444444444444444,
              "#bd3786"
             ],
             [
              0.5555555555555556,
              "#d8576b"
             ],
             [
              0.6666666666666666,
              "#ed7953"
             ],
             [
              0.7777777777777778,
              "#fb9f3a"
             ],
             [
              0.8888888888888888,
              "#fdca26"
             ],
             [
              1,
              "#f0f921"
             ]
            ],
            "type": "heatmapgl"
           }
          ],
          "histogram": [
           {
            "marker": {
             "pattern": {
              "fillmode": "overlay",
              "size": 10,
              "solidity": 0.2
             }
            },
            "type": "histogram"
           }
          ],
          "histogram2d": [
           {
            "colorbar": {
             "outlinewidth": 0,
             "ticks": ""
            },
            "colorscale": [
             [
              0,
              "#0d0887"
             ],
             [
              0.1111111111111111,
              "#46039f"
             ],
             [
              0.2222222222222222,
              "#7201a8"
             ],
             [
              0.3333333333333333,
              "#9c179e"
             ],
             [
              0.4444444444444444,
              "#bd3786"
             ],
             [
              0.5555555555555556,
              "#d8576b"
             ],
             [
              0.6666666666666666,
              "#ed7953"
             ],
             [
              0.7777777777777778,
              "#fb9f3a"
             ],
             [
              0.8888888888888888,
              "#fdca26"
             ],
             [
              1,
              "#f0f921"
             ]
            ],
            "type": "histogram2d"
           }
          ],
          "histogram2dcontour": [
           {
            "colorbar": {
             "outlinewidth": 0,
             "ticks": ""
            },
            "colorscale": [
             [
              0,
              "#0d0887"
             ],
             [
              0.1111111111111111,
              "#46039f"
             ],
             [
              0.2222222222222222,
              "#7201a8"
             ],
             [
              0.3333333333333333,
              "#9c179e"
             ],
             [
              0.4444444444444444,
              "#bd3786"
             ],
             [
              0.5555555555555556,
              "#d8576b"
             ],
             [
              0.6666666666666666,
              "#ed7953"
             ],
             [
              0.7777777777777778,
              "#fb9f3a"
             ],
             [
              0.8888888888888888,
              "#fdca26"
             ],
             [
              1,
              "#f0f921"
             ]
            ],
            "type": "histogram2dcontour"
           }
          ],
          "mesh3d": [
           {
            "colorbar": {
             "outlinewidth": 0,
             "ticks": ""
            },
            "type": "mesh3d"
           }
          ],
          "parcoords": [
           {
            "line": {
             "colorbar": {
              "outlinewidth": 0,
              "ticks": ""
             }
            },
            "type": "parcoords"
           }
          ],
          "pie": [
           {
            "automargin": true,
            "type": "pie"
           }
          ],
          "scatter": [
           {
            "fillpattern": {
             "fillmode": "overlay",
             "size": 10,
             "solidity": 0.2
            },
            "type": "scatter"
           }
          ],
          "scatter3d": [
           {
            "line": {
             "colorbar": {
              "outlinewidth": 0,
              "ticks": ""
             }
            },
            "marker": {
             "colorbar": {
              "outlinewidth": 0,
              "ticks": ""
             }
            },
            "type": "scatter3d"
           }
          ],
          "scattercarpet": [
           {
            "marker": {
             "colorbar": {
              "outlinewidth": 0,
              "ticks": ""
             }
            },
            "type": "scattercarpet"
           }
          ],
          "scattergeo": [
           {
            "marker": {
             "colorbar": {
              "outlinewidth": 0,
              "ticks": ""
             }
            },
            "type": "scattergeo"
           }
          ],
          "scattergl": [
           {
            "marker": {
             "colorbar": {
              "outlinewidth": 0,
              "ticks": ""
             }
            },
            "type": "scattergl"
           }
          ],
          "scattermapbox": [
           {
            "marker": {
             "colorbar": {
              "outlinewidth": 0,
              "ticks": ""
             }
            },
            "type": "scattermapbox"
           }
          ],
          "scatterpolar": [
           {
            "marker": {
             "colorbar": {
              "outlinewidth": 0,
              "ticks": ""
             }
            },
            "type": "scatterpolar"
           }
          ],
          "scatterpolargl": [
           {
            "marker": {
             "colorbar": {
              "outlinewidth": 0,
              "ticks": ""
             }
            },
            "type": "scatterpolargl"
           }
          ],
          "scatterternary": [
           {
            "marker": {
             "colorbar": {
              "outlinewidth": 0,
              "ticks": ""
             }
            },
            "type": "scatterternary"
           }
          ],
          "surface": [
           {
            "colorbar": {
             "outlinewidth": 0,
             "ticks": ""
            },
            "colorscale": [
             [
              0,
              "#0d0887"
             ],
             [
              0.1111111111111111,
              "#46039f"
             ],
             [
              0.2222222222222222,
              "#7201a8"
             ],
             [
              0.3333333333333333,
              "#9c179e"
             ],
             [
              0.4444444444444444,
              "#bd3786"
             ],
             [
              0.5555555555555556,
              "#d8576b"
             ],
             [
              0.6666666666666666,
              "#ed7953"
             ],
             [
              0.7777777777777778,
              "#fb9f3a"
             ],
             [
              0.8888888888888888,
              "#fdca26"
             ],
             [
              1,
              "#f0f921"
             ]
            ],
            "type": "surface"
           }
          ],
          "table": [
           {
            "cells": {
             "fill": {
              "color": "#EBF0F8"
             },
             "line": {
              "color": "white"
             }
            },
            "header": {
             "fill": {
              "color": "#C8D4E3"
             },
             "line": {
              "color": "white"
             }
            },
            "type": "table"
           }
          ]
         },
         "layout": {
          "annotationdefaults": {
           "arrowcolor": "#2a3f5f",
           "arrowhead": 0,
           "arrowwidth": 1
          },
          "autotypenumbers": "strict",
          "coloraxis": {
           "colorbar": {
            "outlinewidth": 0,
            "ticks": ""
           }
          },
          "colorscale": {
           "diverging": [
            [
             0,
             "#8e0152"
            ],
            [
             0.1,
             "#c51b7d"
            ],
            [
             0.2,
             "#de77ae"
            ],
            [
             0.3,
             "#f1b6da"
            ],
            [
             0.4,
             "#fde0ef"
            ],
            [
             0.5,
             "#f7f7f7"
            ],
            [
             0.6,
             "#e6f5d0"
            ],
            [
             0.7,
             "#b8e186"
            ],
            [
             0.8,
             "#7fbc41"
            ],
            [
             0.9,
             "#4d9221"
            ],
            [
             1,
             "#276419"
            ]
           ],
           "sequential": [
            [
             0,
             "#0d0887"
            ],
            [
             0.1111111111111111,
             "#46039f"
            ],
            [
             0.2222222222222222,
             "#7201a8"
            ],
            [
             0.3333333333333333,
             "#9c179e"
            ],
            [
             0.4444444444444444,
             "#bd3786"
            ],
            [
             0.5555555555555556,
             "#d8576b"
            ],
            [
             0.6666666666666666,
             "#ed7953"
            ],
            [
             0.7777777777777778,
             "#fb9f3a"
            ],
            [
             0.8888888888888888,
             "#fdca26"
            ],
            [
             1,
             "#f0f921"
            ]
           ],
           "sequentialminus": [
            [
             0,
             "#0d0887"
            ],
            [
             0.1111111111111111,
             "#46039f"
            ],
            [
             0.2222222222222222,
             "#7201a8"
            ],
            [
             0.3333333333333333,
             "#9c179e"
            ],
            [
             0.4444444444444444,
             "#bd3786"
            ],
            [
             0.5555555555555556,
             "#d8576b"
            ],
            [
             0.6666666666666666,
             "#ed7953"
            ],
            [
             0.7777777777777778,
             "#fb9f3a"
            ],
            [
             0.8888888888888888,
             "#fdca26"
            ],
            [
             1,
             "#f0f921"
            ]
           ]
          },
          "colorway": [
           "#636efa",
           "#EF553B",
           "#00cc96",
           "#ab63fa",
           "#FFA15A",
           "#19d3f3",
           "#FF6692",
           "#B6E880",
           "#FF97FF",
           "#FECB52"
          ],
          "font": {
           "color": "#2a3f5f"
          },
          "geo": {
           "bgcolor": "white",
           "lakecolor": "white",
           "landcolor": "#E5ECF6",
           "showlakes": true,
           "showland": true,
           "subunitcolor": "white"
          },
          "hoverlabel": {
           "align": "left"
          },
          "hovermode": "closest",
          "mapbox": {
           "style": "light"
          },
          "paper_bgcolor": "white",
          "plot_bgcolor": "#E5ECF6",
          "polar": {
           "angularaxis": {
            "gridcolor": "white",
            "linecolor": "white",
            "ticks": ""
           },
           "bgcolor": "#E5ECF6",
           "radialaxis": {
            "gridcolor": "white",
            "linecolor": "white",
            "ticks": ""
           }
          },
          "scene": {
           "xaxis": {
            "backgroundcolor": "#E5ECF6",
            "gridcolor": "white",
            "gridwidth": 2,
            "linecolor": "white",
            "showbackground": true,
            "ticks": "",
            "zerolinecolor": "white"
           },
           "yaxis": {
            "backgroundcolor": "#E5ECF6",
            "gridcolor": "white",
            "gridwidth": 2,
            "linecolor": "white",
            "showbackground": true,
            "ticks": "",
            "zerolinecolor": "white"
           },
           "zaxis": {
            "backgroundcolor": "#E5ECF6",
            "gridcolor": "white",
            "gridwidth": 2,
            "linecolor": "white",
            "showbackground": true,
            "ticks": "",
            "zerolinecolor": "white"
           }
          },
          "shapedefaults": {
           "line": {
            "color": "#2a3f5f"
           }
          },
          "ternary": {
           "aaxis": {
            "gridcolor": "white",
            "linecolor": "white",
            "ticks": ""
           },
           "baxis": {
            "gridcolor": "white",
            "linecolor": "white",
            "ticks": ""
           },
           "bgcolor": "#E5ECF6",
           "caxis": {
            "gridcolor": "white",
            "linecolor": "white",
            "ticks": ""
           }
          },
          "title": {
           "x": 0.05
          },
          "xaxis": {
           "automargin": true,
           "gridcolor": "white",
           "linecolor": "white",
           "ticks": "",
           "title": {
            "standoff": 15
           },
           "zerolinecolor": "white",
           "zerolinewidth": 2
          },
          "yaxis": {
           "automargin": true,
           "gridcolor": "white",
           "linecolor": "white",
           "ticks": "",
           "title": {
            "standoff": 15
           },
           "zerolinecolor": "white",
           "zerolinewidth": 2
          }
         }
        },
        "title": {
         "text": "SIMPLE EXAMPLE"
        },
        "xaxis": {
         "autorange": true,
         "range": [
          0,
          3.141592653589793
         ],
         "title": {
          "text": "nanoseconds"
         },
         "type": "linear"
        },
        "yaxis": {
         "autorange": true,
         "range": [
          -0.05555548687936652,
          1.055554250707964
         ],
         "title": {
          "text": "volts"
         },
         "type": "linear"
        }
       }
      },
      "image/png": "[encoded data removed]",
      "text/html": [
       "<div>                            <div id=\"43dcc23a-ceb4-433c-9ddf-aad8be2bcbd9\" class=\"plotly-graph-div\" style=\"height:525px; width:100%;\"></div>            <script type=\"text/javascript\">                require([\"plotly\"], function(Plotly) {                    window.PLOTLYENV=window.PLOTLYENV || {};                                    if (document.getElementById(\"43dcc23a-ceb4-433c-9ddf-aad8be2bcbd9\")) {                    Plotly.newPlot(                        \"43dcc23a-ceb4-433c-9ddf-aad8be2bcbd9\",                        [{\"line\":{\"shape\":\"spline\"},\"mode\":\"lines\",\"name\":\"sin(x)\",\"x\":[0.0,0.0031447373909807737,0.006289474781961547,0.009434212172942321,0.012578949563923095,0.01572368695490387,0.018868424345884642,0.022013161736865416,0.02515789912784619,0.028302636518826963,0.03144737390980774,0.034592111300788514,0.037736848691769284,0.040881586082750054,0.04402632347373083,0.04717106086471161,0.05031579825569238,0.05346053564667315,0.056605273037653926,0.0597500104286347,0.06289474781961547,0.06603948521059624,0.06918422260157703,0.0723289599925578,0.07547369738353857,0.07861843477451934,0.08176317216550011,0.08490790955648089,0.08805264694746166,0.09119738433844243,0.09434212172942322,0.09748685912040399,0.10063159651138476,0.10377633390236553,0.1069210712933463,0.11006580868432708,0.11321054607530785,0.11635528346628862,0.1195000208572694,0.12264475824825018,0.12578949563923095,0.12893423303021173,0.1320789704211925,0.13522370781217327,0.13836844520315406,0.1415131825941348,0.1446579199851156,0.14780265737609635,0.15094739476707714,0.15409213215805792,0.15723686954903868,0.16038160694001946,0.16352634433100022,0.166671081721981,0.16981581911296179,0.17296055650394254,0.17610529389492333,0.1792500312859041,0.18239476867688487,0.18553950606786565,0.18868424345884643,0.1918289808498272,0.19497371824080797,0.19811845563178873,0.20126319302276952,0.2044079304137503,0.20755266780473106,0.21069740519571184,0.2138421425866926,0.21698687997767338,0.22013161736865416,0.22327635475963492,0.2264210921506157,0.2295658295415965,0.23271056693257725,0.23585530432355803,0.2390000417145388,0.24214477910551957,0.24528951649650035,0.2484342538874811,0.2515789912784619,0.25472372866944265,0.25786846606042346,0.2610132034514042,0.264157940842385,0.2673026782333658,0.27044741562434654,0.2735921530153273,0.2767368904063081,0.27988162779728887,0.2830263651882696,0.2861711025792504,0.2893158399702312,0.29246057736121195,0.2956053147521927,0.2987500521431735,0.3018947895341543,0.30503952692513503,0.30818426431611584,0.3113290017070966,0.31447373909807735,0.31761847648905817,0.3207632138800389,0.3239079512710197,0.32705268866200043,0.33019742605298125,0.333342163443962,0.33648690083494276,0.33963163822592357,0.3427763756169043,0.3459211130078851,0.3490658503988659,0.35221058778984665,0.3553553251808274,0.3585000625718082,0.361644799962789,0.36478953735376973,0.36793427474475054,0.3710790121357313,0.37422374952671206,0.37736848691769287,0.3805132243086736,0.3836579616996544,0.38680269909063514,0.38994743648161595,0.3930921738725967,0.39623691126357746,0.3993816486545583,0.40252638604553903,0.4056711234365198,0.4088158608275006,0.41196059821848136,0.4151053356094621,0.4182500730004429,0.4213948103914237,0.42453954778240444,0.4276842851733852,0.430829022564366,0.43397375995534676,0.4371184973463275,0.44026323473730833,0.4434079721282891,0.44655270951926984,0.44969744691025065,0.4528421843012314,0.45598692169221217,0.459131659083193,0.46227639647417373,0.4654211338651545,0.4685658712561353,0.47171060864711606,0.4748553460380968,0.4780000834290776,0.4811448208200584,0.48428955821103914,0.4874342956020199,0.4905790329930007,0.49372377038398146,0.4968685077749622,0.500013245165943,0.5031579825569238,0.5063027199479045,0.5094474573388853,0.5125921947298661,0.5157369321208469,0.5188816695118277,0.5220264069028084,0.5251711442937892,0.52831588168477,0.5314606190757507,0.5346053564667316,0.5377500938577123,0.5408948312486931,0.5440395686396738,0.5471843060306546,0.5503290434216354,0.5534737808126162,0.556618518203597,0.5597632555945777,0.5629079929855585,0.5660527303765392,0.56919746776752,0.5723422051585008,0.5754869425494816,0.5786316799404624,0.5817764173314431,0.5849211547224239,0.5880658921134047,0.5912106295043854,0.5943553668953663,0.597500104286347,0.6006448416773278,0.6037895790683085,0.6069343164592893,0.6100790538502701,0.6132237912412508,0.6163685286322317,0.6195132660232124,0.6226580034141932,0.625802740805174,0.6289474781961547,0.6320922155871355,0.6352369529781163,0.6383816903690971,0.6415264277600778,0.6446711651510586,0.6478159025420394,0.6509606399330201,0.6541053773240009,0.6572501147149817,0.6603948521059625,0.6635395894969432,0.666684326887924,0.6698290642789048,0.6729738016698855,0.6761185390608664,0.6792632764518471,0.6824080138428279,0.6855527512338087,0.6886974886247894,0.6918422260157702,0.694986963406751,0.6981317007977318,0.7012764381887125,0.7044211755796933,0.7075659129706741,0.7107106503616548,0.7138553877526356,0.7170001251436164,0.7201448625345972,0.723289599925578,0.7264343373165587,0.7295790747075395,0.7327238120985202,0.7358685494895011,0.7390132868804818,0.7421580242714626,0.7453027616624434,0.7484474990534241,0.7515922364444049,0.7547369738353857,0.7578817112263665,0.7610264486173473,0.764171186008328,0.7673159233993088,0.7704606607902895,0.7736053981812703,0.7767501355722511,0.7798948729632319,0.7830396103542127,0.7861843477451934,0.7893290851361742,0.7924738225271549,0.7956185599181358,0.7987632973091165,0.8019080347000973,0.8050527720910781,0.8081975094820588,0.8113422468730396,0.8144869842640203,0.8176317216550012,0.820776459045982,0.8239211964369627,0.8270659338279435,0.8302106712189242,0.833355408609905,0.8365001460008858,0.8396448833918666,0.8427896207828474,0.8459343581738281,0.8490790955648089,0.8522238329557896,0.8553685703467704,0.8585133077377513,0.861658045128732,0.8648027825197128,0.8679475199106935,0.8710922573016743,0.874236994692655,0.8773817320836359,0.8805264694746167,0.8836712068655974,0.8868159442565782,0.8899606816475589,0.8931054190385397,0.8962501564295206,0.8993948938205013,0.9025396312114821,0.9056843686024628,0.9088291059934436,0.9119738433844243,0.9151185807754051,0.918263318166386,0.9214080555573667,0.9245527929483475,0.9276975303393282,0.930842267730309,0.9339870051212897,0.9371317425122706,0.9402764799032514,0.9434212172942321,0.9465659546852129,0.9497106920761936,0.9528554294671744,0.9560001668581553,0.959144904249136,0.9622896416401168,0.9654343790310975,0.9685791164220783,0.971723853813059,0.9748685912040398,0.9780133285950207,0.9811580659860014,0.9843028033769822,0.9874475407679629,0.9905922781589437,0.9937370155499244,0.9968817529409053,1.000026490331886,1.0031712277228668,1.0063159651138476,1.0094607025048283,1.012605439895809,1.0157501772867898,1.0188949146777706,1.0220396520687514,1.0251843894597321,1.028329126850713,1.0314738642416938,1.0346186016326746,1.0377633390236554,1.0409080764146361,1.0440528138056169,1.0471975511965976,1.0503422885875784,1.0534870259785591,1.05663176336954,1.0597765007605207,1.0629212381515014,1.0660659755424822,1.0692107129334631,1.072355450324444,1.0755001877154247,1.0786449251064054,1.0817896624973862,1.084934399888367,1.0880791372793477,1.0912238746703284,1.0943686120613092,1.09751334945229,1.1006580868432707,1.1038028242342515,1.1069475616252324,1.1100922990162132,1.113237036407194,1.1163817737981747,1.1195265111891555,1.1226712485801362,1.125815985971117,1.1289607233620977,1.1321054607530785,1.1352501981440593,1.13839493553504,1.1415396729260208,1.1446844103170015,1.1478291477079825,1.1509738850989633,1.154118622489944,1.1572633598809248,1.1604080972719055,1.1635528346628863,1.166697572053867,1.1698423094448478,1.1729870468358286,1.1761317842268093,1.17927652161779,1.1824212590087708,1.1855659963997516,1.1887107337907326,1.1918554711817133,1.195000208572694,1.1981449459636748,1.2012896833546556,1.2044344207456363,1.207579158136617,1.2107238955275978,1.2138686329185786,1.2170133703095594,1.2201581077005401,1.2233028450915209,1.2264475824825016,1.2295923198734826,1.2327370572644634,1.2358817946554441,1.2390265320464249,1.2421712694374056,1.2453160068283864,1.2484607442193671,1.251605481610348,1.2547502190013287,1.2578949563923094,1.2610396937832902,1.264184431174271,1.2673291685652517,1.2704739059562327,1.2736186433472134,1.2767633807381942,1.279908118129175,1.2830528555201557,1.2861975929111364,1.2893423303021172,1.292487067693098,1.2956318050840787,1.2987765424750595,1.3019212798660402,1.305066017257021,1.3082107546480017,1.3113554920389827,1.3145002294299635,1.3176449668209442,1.320789704211925,1.3239344416029057,1.3270791789938865,1.3302239163848673,1.333368653775848,1.3365133911668288,1.3396581285578095,1.3428028659487903,1.345947603339771,1.349092340730752,1.3522370781217328,1.3553818155127135,1.3585265529036943,1.361671290294675,1.3648160276856558,1.3679607650766366,1.3711055024676173,1.374250239858598,1.3773949772495788,1.3805397146405596,1.3836844520315403,1.386829189422521,1.389973926813502,1.3931186642044828,1.3962634015954636,1.3994081389864443,1.402552876377425,1.4056976137684059,1.4088423511593866,1.4119870885503674,1.4151318259413481,1.4182765633323289,1.4214213007233096,1.4245660381142904,1.4277107755052711,1.4308555128962521,1.4340002502872329,1.4371449876782136,1.4402897250691944,1.4434344624601751,1.446579199851156,1.4497239372421367,1.4528686746331174,1.4560134120240982,1.459158149415079,1.4623028868060597,1.4654476241970404,1.4685923615880212,1.4717370989790022,1.474881836369983,1.4780265737609637,1.4811713111519444,1.4843160485429252,1.487460785933906,1.4906055233248867,1.4937502607158675,1.4968949981068482,1.500039735497829,1.5031844728888097,1.5063292102797905,1.5094739476707715,1.5126186850617522,1.515763422452733,1.5189081598437137,1.5220528972346945,1.5251976346256753,1.528342372016656,1.5314871094076368,1.5346318467986175,1.5377765841895983,1.540921321580579,1.5440660589715598,1.5472107963625406,1.5503555337535215,1.5535002711445023,1.556645008535483,1.5597897459264638,1.5629344833174446,1.5660792207084253,1.569223958099406,1.5723686954903868,1.5755134328813676,1.5786581702723483,1.581802907663329,1.5849476450543099,1.5880923824452906,1.5912371198362716,1.5943818572272523,1.597526594618233,1.6006713320092139,1.6038160694001946,1.6069608067911754,1.6101055441821561,1.6132502815731369,1.6163950189641176,1.6195397563550984,1.6226844937460791,1.62582923113706,1.6289739685280407,1.6321187059190216,1.6352634433100024,1.6384081807009832,1.641552918091964,1.6446976554829447,1.6478423928739254,1.6509871302649062,1.654131867655887,1.6572766050468677,1.6604213424378484,1.6635660798288292,1.66671081721981,1.6698555546107907,1.6730002920017717,1.6761450293927525,1.6792897667837332,1.682434504174714,1.6855792415656947,1.6887239789566755,1.6918687163476562,1.695013453738637,1.6981581911296177,1.7013029285205985,1.7044476659115793,1.70759240330256,1.7107371406935408,1.7138818780845217,1.7170266154755025,1.7201713528664833,1.723316090257464,1.7264608276484448,1.7296055650394255,1.7327503024304063,1.735895039821387,1.7390397772123678,1.7421845146033486,1.7453292519943293,1.74847398938531,1.751618726776291,1.7547634641672718,1.7579082015582526,1.7610529389492333,1.764197676340214,1.7673424137311948,1.7704871511221756,1.7736318885131563,1.776776625904137,1.7799213632951179,1.7830661006860986,1.7862108380770794,1.7893555754680601,1.792500312859041,1.7956450502500219,1.7987897876410026,1.8019345250319834,1.8050792624229641,1.8082239998139449,1.8113687372049256,1.8145134745959064,1.8176582119868872,1.820802949377868,1.8239476867688487,1.8270924241598294,1.8302371615508102,1.8333818989417912,1.836526636332772,1.8396713737237527,1.8428161111147334,1.8459608485057142,1.849105585896695,1.8522503232876757,1.8553950606786564,1.8585397980696372,1.861684535460618,1.8648292728515987,1.8679740102425795,1.8711187476335602,1.8742634850245412,1.877408222415522,1.8805529598065027,1.8836976971974835,1.8868424345884642,1.889987171979445,1.8931319093704257,1.8962766467614065,1.8994213841523873,1.902566121543368,1.9057108589343488,1.9088555963253295,1.9120003337163105,1.9151450711072913,1.918289808498272,1.9214345458892528,1.9245792832802335,1.9277240206712143,1.930868758062195,1.9340134954531758,1.9371582328441566,1.9403029702351373,1.943447707626118,1.9465924450170988,1.9497371824080796,1.9528819197990606,1.9560266571900413,1.959171394581022,1.9623161319720028,1.9654608693629836,1.9686056067539643,1.971750344144945,1.9748950815359259,1.9780398189269066,1.9811845563178874,1.9843292937088681,1.9874740310998489,1.9906187684908296,1.9937635058818106,1.9969082432727914,2.000052980663772,2.0031977180547527,2.0063424554457336,2.009487192836714,2.012631930227695,2.015776667618676,2.0189214050096567,2.0220661424006376,2.025210879791618,2.028355617182599,2.0315003545735797,2.0346450919645607,2.037789829355541,2.040934566746522,2.0440793041375027,2.0472240415284837,2.0503687789194642,2.053513516310445,2.056658253701426,2.0598029910924067,2.0629477284833877,2.0660924658743682,2.069237203265349,2.0723819406563297,2.0755266780473107,2.0786714154382913,2.0818161528292722,2.0849608902202528,2.0881056276112337,2.0912503650022143,2.0943951023931953,2.0975398397841762,2.1006845771751568,2.1038293145661378,2.1069740519571183,2.1101187893480993,2.11326352673908,2.116408264130061,2.1195530015210413,2.1226977389120223,2.125842476303003,2.128987213693984,2.1321319510849643,2.1352766884759453,2.1384214258669263,2.141566163257907,2.144710900648888,2.1478556380398683,2.1510003754308493,2.15414511282183,2.157289850212811,2.1604345876037914,2.1635793249947723,2.166724062385753,2.169868799776734,2.1730135371677144,2.1761582745586954,2.1793030119496763,2.182447749340657,2.185592486731638,2.1887372241226184,2.1918819615135994,2.19502669890458,2.198171436295561,2.2013161736865414,2.2044609110775224,2.207605648468503,2.210750385859484,2.213895123250465,2.2170398606414454,2.2201845980324264,2.223329335423407,2.226474072814388,2.2296188102053685,2.2327635475963494,2.23590828498733,2.239053022378311,2.2421977597692915,2.2453424971602725,2.248487234551253,2.251631971942234,2.254776709333215,2.2579214467241955,2.2610661841151765,2.264210921506157,2.267355658897138,2.2705003962881185,2.2736451336790995,2.27678987107008,2.279934608461061,2.2830793458520415,2.2862240832430225,2.289368820634003,2.292513558024984,2.295658295415965,2.2988030328069455,2.3019477701979265,2.305092507588907,2.308237244979888,2.3113819823708686,2.3145267197618495,2.31767145715283,2.320816194543811,2.3239609319347916,2.3271056693257726,2.330250406716753,2.333395144107734,2.336539881498715,2.3396846188896956,2.3428293562806766,2.345974093671657,2.349118831062638,2.3522635684536186,2.3554083058445996,2.35855304323558,2.361697780626561,2.3648425180175416,2.3679872554085226,2.371131992799503,2.374276730190484,2.377421467581465,2.3805662049724456,2.3837109423634266,2.386855679754407,2.390000417145388,2.3931451545363687,2.3962898919273496,2.39943462931833,2.402579366709311,2.4057241041002917,2.4088688414912727,2.412013578882253,2.415158316273234,2.418303053664215,2.4214477910551957,2.4245925284461767,2.427737265837157,2.430882003228138,2.4340267406191187,2.4371714780100997,2.4403162154010802,2.443460952792061,2.4466056901830417,2.4497504275740227,2.4528951649650033,2.4560399023559842,2.459184639746965,2.4623293771379458,2.4654741145289267,2.4686188519199073,2.4717635893108882,2.4749083267018688,2.4780530640928498,2.4811978014838303,2.4843425388748113,2.487487276265792,2.490632013656773,2.4937767510477533,2.4969214884387343,2.5000662258297153,2.503210963220696,2.506355700611677,2.5095004380026573,2.5126451753936383,2.515789912784619,2.5189346501756,2.5220793875665803,2.5252241249575613,2.528368862348542,2.531513599739523,2.5346583371305034,2.5378030745214843,2.5409478119124653,2.544092549303446,2.547237286694427,2.5503820240854074,2.5535267614763884,2.556671498867369,2.55981623625835,2.5629609736493304,2.5661057110403114,2.569250448431292,2.572395185822273,2.5755399232132534,2.5786846606042344,2.5818293979952154,2.584974135386196,2.588118872777177,2.5912636101681574,2.5944083475591384,2.597553084950119,2.6006978223411,2.6038425597320805,2.6069872971230614,2.610132034514042,2.613276771905023,2.6164215092960035,2.6195662466869845,2.6227109840779654,2.625855721468946,2.629000458859927,2.6321451962509075,2.6352899336418885,2.638434671032869,2.64157940842385,2.6447241458148305,2.6478688832058115,2.651013620596792,2.654158357987773,2.657303095378754,2.6604478327697345,2.6635925701607155,2.666737307551696,2.669882044942677,2.6730267823336575,2.6761715197246385,2.679316257115619,2.6824609945066,2.6856057318975806,2.6887504692885615,2.691895206679542,2.695039944070523,2.698184681461504,2.7013294188524846,2.7044741562434655,2.707618893634446,2.710763631025427,2.7139083684164076,2.7170531058073886,2.720197843198369,2.72334258058935,2.7264873179803306,2.7296320553713116,2.732776792762292,2.735921530153273,2.739066267544254,2.7422110049352346,2.7453557423262156,2.748500479717196,2.751645217108177,2.7547899544991576,2.7579346918901386,2.761079429281119,2.7642241666721,2.7673689040630807,2.7705136414540616,2.773658378845042,2.776803116236023,2.779947853627004,2.7830925910179847,2.7862373284089657,2.789382065799946,2.792526803190927,2.7956715405819077,2.7988162779728887,2.801961015363869,2.80510575275485,2.8082504901458307,2.8113952275368117,2.8145399649277922,2.817684702318773,2.820829439709754,2.8239741771007347,2.8271189144917157,2.8302636518826962,2.833408389273677,2.8365531266646578,2.8396978640556387,2.8428426014466193,2.8459873388376002,2.849132076228581,2.8522768136195618,2.8554215510105423,2.8585662884015233,2.8617110257925042,2.864855763183485,2.8680005005744658,2.8711452379654463,2.8742899753564273,2.877434712747408,2.880579450138389,2.8837241875293693,2.8868689249203503,2.890013662311331,2.893158399702312,2.8963031370932923,2.8994478744842733,2.9025926118752543,2.905737349266235,2.908882086657216,2.9120268240481963,2.9151715614391773,2.918316298830158,2.921461036221139,2.9246057736121194,2.9277505110031004,2.930895248394081,2.934039985785062,2.9371847231760424,2.9403294605670234,2.9434741979580044,2.946618935348985,2.949763672739966,2.9529084101309464,2.9560531475219274,2.959197884912908,2.962342622303889,2.9654873596948694,2.9686320970858504,2.971776834476831,2.974921571867812,2.9780663092587925,2.9812110466497734,2.9843557840407544,2.987500521431735,2.990645258822716,2.9937899962136965,2.9969347336046774,3.000079470995658,3.003224208386639,3.0063689457776195,3.0095136831686005,3.012658420559581,3.015803157950562,3.018947895341543,3.0220926327325235,3.0252373701235045,3.028382107514485,3.031526844905466,3.0346715822964465,3.0378163196874275,3.040961057078408,3.044105794469389,3.0472505318603695,3.0503952692513505,3.053540006642331,3.056684744033312,3.059829481424293,3.0629742188152735,3.0661189562062545,3.069263693597235,3.072408430988216,3.0755531683791966,3.0786979057701775,3.081842643161158,3.084987380552139,3.0881321179431196,3.0912768553341006,3.094421592725081,3.097566330116062,3.100711067507043,3.1038558048980236,3.1070005422890046,3.110145279679985,3.113290017070966,3.1164347544619466,3.1195794918529276,3.122724229243908,3.125868966634889,3.1290137040258696,3.1321584414168506,3.135303178807831,3.138447916198812,3.141592653589793],\"y\":[0.0,0.00314473220773636,0.006289433316067751,0.009434072225896754,0.012578617838741058,0.015723039057040998,0.01886730478446709,0.022011383926227562,0.025155245389375847,0.02829885808311809,0.0314421909191206,0.03458521281181731,0.03772789267871718,0.040870199440711574,0.04401210202238166,0.04715356935230567,0.05029457036336618,0.053435073993057414,0.056575049183792345,0.05971446488320988,0.06285329004448194,0.06599149362662049,0.06912904459478454,0.072265911920587,0.07540206458240159,0.0785374715656696,0.08167210186320663,0.08480592447550919,0.08793890841106125,0.0910710226866408,0.09420223632762625,0.09733251836830262,0.10046183785216795,0.10359016383223929,0.10671746537135889,0.10984371154250001,0.11296887142907283,0.11609291412523022,0.11921580873617335,0.1223375243784572,0.12545803018029603,0.12857729528186868,0.1316952888356236,0.1348119800065842,0.13792733797265358,0.1410413319249193,0.1441539310679583,0.14726510462014114,0.1503748218139367,0.15348305189621625,0.15658976412855766,0.1596949277875494,0.1627985121650943,0.16590048656871334,0.16900082032184907,0.172099482764169,0.17519644325186898,0.17829167115797595,0.18138513587265107,0.18447680680349232,0.18756665337583714,0.19065464503306453,0.19374075123689763,0.19682494146770538,0.19990718522480458,0.20298745202676133,0.20606571141169255,0.20914193293756736,0.21221608618250787,0.2152881407450903,0.21835806624464543,0.2214258323215591,0.22449140863757258,0.22755476487608237,0.23061587074244014,0.23367469596425242,0.23673121029167973,0.23978538349773595,0.24283718537858714,0.24588658575385022,0.2489335544668916,0.25197806138512513,0.25502007640031044,0.2580595694288502,0.2610965104120882,0.2641308693166063,0.2671626161345213,0.27019172088378207,0.27321815360846585,0.2762418843790744,0.27926288329283006,0.28228112047397164,0.28529656607404974,0.2883091902722218,0.2913189632755472,0.2943258553192818,0.2973298366671723,0.3003308776117504,0.30332894847462666,0.3063240196067834,0.30931606138886886,0.31230504423148947,0.31529093857550244,0.3182737148923085,0.32125334368414366,0.3242297954843709,0.3272030408577716,0.3301730504008367,0.33313979474205757,0.336103244542216,0.33906337049467516,0.3420201433256687,0.34497353379459045,0.34792351269428384,0.3508700508513305,0.35381311912633867,0.3567526884142317,0.3596887296445357,0.3626212137816669,0.36555011182521896,0.3684753948102499,0.3713970338075681,0.37431499992401884,0.3772292643027699,0.38013979812359666,0.38304657260316766,0.3859495589953287,0.38884872859138747,0.3917440527203973,0.39463550274944076,0.3975230500839129,0.40040666616780385,0.4032863224839812,0.4061619905544724,0.4090336419407459,0.4119012482439926,0.41476478110540693,0.4176242122064669,0.4204795132692143,0.42333065605653436,0.4261776123724353,0.4290203540623264,0.4318588530132973,0.4346930811543956,0.4375230104569043,0.44034861293461924,0.4431698606441261,0.44598672568507597,0.4487991802004621,0.451607196376895,0.4544107464448774,0.45720980267907907,0.46000433739861096,0.46279432296729894,0.46557973179395706,0.46836053633266045,0.4711367090830178,0.47390822259044313,0.47667504944642736,0.4794371622888097,0.4821945338020477,0.4849471367174877,0.4876949438136345,0.49043792791642044,0.4931760618994744,0.4959093186843894,0.49863767124099145,0.5013610925876059,0.5040795557913246,0.5067930339682725,0.5095015002838732,0.5122049279531143,0.5149032902408126,0.5175965604618784,0.5202847119815789,0.5229677182158023,0.5256455526313207,0.5283181887460514,0.5309856001293203,0.5336477604021223,0.5363046432373824,0.5389562223602163,0.54160247154819,0.544243364631579,0.5468788754936273,0.549508978070806,0.5521336463530702,0.554752854384117,0.5573665762616421,0.5599747861375953,0.5625774582184371,0.5651745667653928,0.5677660860947078,0.5703519905779013,0.5729322546420199,0.5755068527698899,0.5780757595003707,0.5806389494286055,0.5831963972062733,0.5857480775418393,0.588293965200805,0.5908340350059579,0.5933682618376204,0.5958966206338977,0.5984190863909268,0.6009356341631229,0.6034462390634261,0.605950876263548,0.608449520994217,0.610942148545423,0.6134287342666618,0.6159092535671796,0.6183836819162153,0.6208519948432435,0.6233141679382166,0.6257701768518059,0.6282199972956423,0.6306636050425571,0.6331009759268212,0.635532085844384,0.6379569107531118,0.6403754266730259,0.6427876096865393,0.6451934359386934,0.647592881637394,0.6499859230536466,0.652372536521791,0.6547526984397349,0.6571263852691885,0.6594935735358959,0.661854239829868,0.664208360805614,0.666555913182372,0.6688968737443394,0.6712312193409027,0.6735589268868658,0.675879973362679,0.6781943358146663,0.6805019913552524,0.682802917163189,0.6850970904837809,0.6873844886291103,0.6896650889782618,0.6919388689775461,0.6942058061407225,0.6964658780492217,0.6987190623523674,0.7009653367675974,0.7032046790806838,0.7054370671459531,0.7076624788865044,0.7098808922944285,0.7120922854310253,0.7142966364270209,0.7164939234827832,0.7186841248685383,0.720867218924585,0.7230431840615092,0.7252119987603972,0.7273736415730486,0.7295280911221884,0.7316753261016783,0.7338153252767277,0.7359480674841034,0.7380735316323389,0.7401916967019435,0.7423025417456093,0.744406045888419,0.7465021883280519,0.7485909483349905,0.7506723052527243,0.7527462384979547,0.7548127275607988,0.7568717520049917,0.7589232914680888,0.7609673256616675,0.7630038343715273,0.7650327974578899,0.7670541948555987,0.7690680065743167,0.7710742126987247,0.7730727933887177,0.7750637288796015,0.7770469994822884,0.7790225855834911,0.7809904676459174,0.7829506262084631,0.7849030418864045,0.7868476953715899,0.7887845674326314,0.7907136389150937,0.7926348907416847,0.7945483039124437,0.796453859504929,0.7983515386744059,0.800241322654032,0.8021231927550437,0.8039971303669404,0.8058631169576691,0.8077211340738067,0.809571163340744,0.8114131864628658,0.8132471852237328,0.8150731414862622,0.8168910371929053,0.8187008543658281,0.8205025751070875,0.8222961815988094,0.8240816561033644,0.825858980963543,0.8276281386027311,0.8293891115250827,0.8311418823156935,0.8328864336407734,0.8346227482478172,0.8363508089657761,0.8380705987052264,0.8397821004585397,0.8414852973000502,0.8431801723862223,0.8448667089558177,0.8465448903300605,0.8482146999128022,0.8498761211906863,0.8515291377333112,0.8531737331933927,0.8548098913069259,0.8564375958933459,0.8580568308556875,0.8596675801807452,0.8612698279392308,0.8628635582859311,0.8644487554598649,0.8660254037844386,0.8675934876676012,0.8691529916019988,0.8707039001651274,0.8722461980194862,0.8737798699127284,0.8753049006778129,0.8768212752331536,0.8783289785827686,0.8798279958164293,0.881318312109807,0.8827999127246196,0.8842727830087777,0.8857369083965293,0.8871922744086039,0.8886388666523558,0.8900766708219059,0.8915056726982838,0.8929258581495684,0.8943372131310272,0.8957397236852553,0.897133375942314,0.8985181561198672,0.8998940505233182,0.9012610455459447,0.902619127669034,0.903968283462016,0.9053084995825966,0.9066397627768893,0.9079620598795461,0.9092753778138883,0.9105797035920355,0.9118750243150338,0.9131613271729833,0.9144385994451657,0.9157068285001692,0.9169660017960134,0.918216106880274,0.9194571313902054,0.920689063052863,0.9219118896852251,0.9231255991943123,0.9243301795773083,0.9255256189216778,0.9267119054052849,0.9278890272965093,0.9290569729543627,0.9302157308286042,0.9313652894598542,0.9325056374797074,0.9336367636108461,0.934758656667151,0.935871305553812,0.936974699267438,0.9380688268961658,0.9391536776197676,0.9402292407097589,0.9412955055295031,0.9423524615343186,0.9434000982715812,0.9444384053808289,0.9454673725938634,0.9464869897348525,0.9474972467204298,0.9484981335597952,0.9494896403548133,0.9504717573001115,0.9514444746831766,0.9524077828844514,0.9533616723774293,0.9543061337287487,0.9552411575982869,0.956166734739251,0.9570828559982708,0.9579895123154889,0.9588866947246497,0.959774394353189,0.960652602422321,0.9615213102471254,0.9623805092366334,0.9632301908939126,0.9640703468161506,0.964900968694739,0.9657220483153546,0.9665335775580414,0.9673355483972902,0.9681279529021187,0.9689107832361495,0.9696840316576876,0.970447690519797,0.9712017522703762,0.9719462094522335,0.97268105470316,0.9734062807560027,0.9741218804387362,0.9748278466745341,0.9755241724818386,0.9762108509744296,0.9768878753614925,0.9775552389476861,0.9782129351332084,0.9788609574138615,0.9794992993811165,0.9801279547221765,0.9807469172200396,0.9813561807535595,0.9819557392975066,0.9825455869226277,0.9831257177957042,0.9836961261796101,0.9842568064333687,0.984807753012208,0.9853489604676164,0.9858804234473958,0.9864021366957145,0.98691409505316,0.9874162934567889,0.9879087269401781,0.9883913906334728,0.9888642797634357,0.9893273896534935,0.9897807157237835,0.9902242534911985,0.9906579985694317,0.9910819466690196,0.9914960935973848,0.9919004352588768,0.9922949676548136,0.9926796868835203,0.9930545891403677,0.9934196707178107,0.9937749280054242,0.9941203574899392,0.9944559557552776,0.9947817194825852,0.995097645450266,0.9954037305340125,0.9956999717068377,0.9959863660391043,0.9962629106985543,0.9965296029503367,0.9967864401570342,0.9970334197786902,0.9972705393728327,0.9974977965944997,0.9977151891962615,0.9979227150282433,0.9981203720381463,0.9983081582712682,0.9984860718705224,0.9986541110764564,0.9988122742272691,0.9989605597588274,0.9990989662046814,0.9992274921960794,0.9993461364619809,0.9994548978290693,0.9995537752217638,0.9996427676622299,0.9997218742703887,0.9997910942639262,0.9998504269583004,0.9998998717667489,0.9999394282002937,0.9999690958677468,0.999988874475714,0.9999987638285974,0.9999987638285974,0.999988874475714,0.9999690958677468,0.9999394282002937,0.9998998717667489,0.9998504269583004,0.9997910942639262,0.9997218742703887,0.9996427676622299,0.9995537752217639,0.9994548978290693,0.9993461364619809,0.9992274921960794,0.9990989662046815,0.9989605597588275,0.9988122742272691,0.9986541110764565,0.9984860718705225,0.9983081582712682,0.9981203720381463,0.9979227150282433,0.9977151891962615,0.9974977965944997,0.9972705393728327,0.9970334197786902,0.9967864401570343,0.9965296029503368,0.9962629106985544,0.9959863660391044,0.9956999717068378,0.9954037305340125,0.995097645450266,0.9947817194825853,0.9944559557552776,0.9941203574899393,0.9937749280054242,0.9934196707178107,0.9930545891403677,0.9926796868835203,0.9922949676548137,0.991900435258877,0.9914960935973848,0.9910819466690197,0.9906579985694317,0.9902242534911986,0.9897807157237835,0.9893273896534935,0.9888642797634357,0.9883913906334728,0.9879087269401781,0.9874162934567889,0.98691409505316,0.9864021366957146,0.9858804234473959,0.9853489604676166,0.9848077530122081,0.9842568064333687,0.9836961261796101,0.9831257177957042,0.9825455869226277,0.9819557392975067,0.9813561807535596,0.9807469172200397,0.9801279547221766,0.9794992993811165,0.9788609574138615,0.9782129351332085,0.9775552389476863,0.9768878753614926,0.9762108509744296,0.9755241724818388,0.9748278466745343,0.9741218804387363,0.9734062807560028,0.9726810547031601,0.9719462094522336,0.9712017522703763,0.970447690519797,0.9696840316576877,0.9689107832361497,0.9681279529021188,0.9673355483972903,0.9665335775580415,0.9657220483153547,0.9649009686947391,0.9640703468161507,0.9632301908939126,0.9623805092366335,0.9615213102471255,0.9606526024223211,0.9597743943531891,0.9588866947246498,0.9579895123154889,0.9570828559982709,0.9561667347392511,0.955241157598287,0.9543061337287488,0.9533616723774293,0.9524077828844515,0.9514444746831767,0.9504717573001116,0.9494896403548134,0.9484981335597953,0.9474972467204299,0.9464869897348526,0.9454673725938635,0.944438405380829,0.9434000982715813,0.9423524615343186,0.9412955055295033,0.940229240709759,0.9391536776197678,0.9380688268961659,0.9369746992674381,0.9358713055538121,0.9347586566671511,0.9336367636108462,0.9325056374797075,0.9313652894598543,0.9302157308286044,0.9290569729543628,0.9278890272965093,0.926711905405285,0.9255256189216781,0.9243301795773085,0.9231255991943124,0.9219118896852252,0.9206890630528632,0.9194571313902055,0.9182161068802741,0.9169660017960135,0.9157068285001693,0.9144385994451658,0.9131613271729834,0.9118750243150338,0.9105797035920357,0.9092753778138886,0.9079620598795464,0.9066397627768894,0.9053084995825968,0.9039682834620162,0.902619127669034,0.9012610455459448,0.8998940505233182,0.8985181561198674,0.8971333759423141,0.8957397236852556,0.8943372131310273,0.8929258581495686,0.891505672698284,0.8900766708219061,0.8886388666523559,0.8871922744086043,0.8857369083965295,0.8842727830087778,0.8827999127246198,0.881318312109807,0.8798279958164296,0.8783289785827687,0.8768212752331537,0.8753049006778131,0.8737798699127287,0.8722461980194863,0.8707039001651278,0.869152991601999,0.8675934876676015,0.8660254037844387,0.864448755459865,0.8628635582859312,0.8612698279392308,0.8596675801807454,0.8580568308556876,0.856437595893346,0.8548098913069261,0.853173733193393,0.8515291377333114,0.8498761211906867,0.8482146999128024,0.8465448903300608,0.844866708955818,0.8431801723862224,0.8414852973000503,0.8397821004585397,0.8380705987052266,0.8363508089657762,0.8346227482478176,0.8328864336407735,0.8311418823156937,0.8293891115250829,0.8276281386027314,0.8258589809635433,0.8240816561033646,0.8222961815988096,0.8205025751070876,0.8187008543658283,0.8168910371929055,0.8150731414862624,0.8132471852237331,0.811413186462866,0.8095711633407441,0.8077211340738071,0.8058631169576692,0.8039971303669408,0.802123192755044,0.800241322654032,0.798351538674406,0.7964538595049291,0.7945483039124439,0.7926348907416848,0.7907136389150939,0.7887845674326315,0.7868476953715902,0.7849030418864046,0.7829506262084633,0.7809904676459176,0.7790225855834915,0.7770469994822886,0.7750637288796016,0.7730727933887178,0.7710742126987248,0.769068006574317,0.7670541948555988,0.7650327974578902,0.7630038343715274,0.7609673256616678,0.758923291468089,0.756871752004992,0.754812727560799,0.7527462384979551,0.7506723052527244,0.7485909483349906,0.7465021883280523,0.744406045888419,0.7423025417456095,0.7401916967019436,0.7380735316323392,0.7359480674841035,0.733815325276728,0.7316753261016785,0.7295280911221887,0.7273736415730488,0.7252119987603977,0.7230431840615095,0.720867218924585,0.7186841248685385,0.7164939234827833,0.7142966364270211,0.7120922854310255,0.7098808922944289,0.7076624788865045,0.7054370671459533,0.7032046790806841,0.7009653367675978,0.6987190623523676,0.6964658780492221,0.6942058061407227,0.6919388689775462,0.6896650889782621,0.6873844886291103,0.6850970904837811,0.6828029171631891,0.6805019913552527,0.6781943358146665,0.6758799733626794,0.673558926886866,0.671231219340903,0.6688968737443397,0.6665559131823724,0.6642083608056142,0.661854239829868,0.6594935735358961,0.6571263852691887,0.6547526984397353,0.6523725365217911,0.649985923053647,0.6475928816373941,0.6451934359386937,0.6427876096865395,0.6403754266730263,0.6379569107531121,0.6355320858443845,0.6331009759268215,0.6306636050425573,0.6282199972956426,0.6257701768518059,0.6233141679382169,0.6208519948432437,0.6183836819162156,0.6159092535671797,0.6134287342666621,0.6109421485454231,0.6084495209942175,0.6059508762635484,0.6034462390634265,0.6009356341631231,0.5984190863909269,0.5958966206338979,0.5933682618376205,0.5908340350059583,0.5882939652008052,0.5857480775418397,0.5831963972062735,0.5806389494286058,0.5780757595003709,0.5755068527698903,0.5729322546420201,0.5703519905779018,0.567766086094708,0.5651745667653928,0.5625774582184373,0.5599747861375954,0.5573665762616424,0.5547528543841173,0.5521336463530706,0.5495089780708062,0.5468788754936278,0.5442433646315792,0.5416024715481904,0.5389562223602167,0.5363046432373829,0.5336477604021226,0.5309856001293204,0.5283181887460517,0.5256455526313208,0.5229677182158028,0.5202847119815791,0.5175965604618787,0.5149032902408128,0.5122049279531147,0.5095015002838734,0.5067930339682729,0.5040795557913248,0.5013610925876063,0.4986376712409918,0.49590931868438953,0.49317606189947466,0.4904379279164206,0.4876949438136349,0.4849471367174879,0.4821945338020481,0.47943716228880995,0.47667504944642786,0.47390822259044335,0.4711367090830183,0.4683605363326608,0.4655797317939572,0.4627943229672993,0.4600043373986111,0.4572098026790794,0.45441074644487756,0.4516071963768954,0.44879918020046233,0.44598672568507636,0.4431698606441263,0.44034861293461974,0.4375230104569045,0.4346930811543961,0.4318588530132976,0.4290203540623265,0.42617761237243557,0.4233306560565345,0.4204795132692146,0.41762421220646706,0.4147647811054074,0.4119012482439928,0.4090336419407463,0.4061619905544726,0.40328632248398166,0.40040666616780407,0.3975230500839134,0.3946355027494411,0.3917440527203974,0.3888487285913878,0.38594955899532885,0.38304657260316805,0.38013979812359683,0.37722926430277026,0.37431499992401907,0.3713970338075685,0.3684753948102501,0.36555011182521946,0.3626212137816672,0.3596887296445362,0.356752688414232,0.3538131191263388,0.35087005085133083,0.347923512694284,0.34497353379459084,0.3420201433256689,0.3390633704946756,0.33610324454221624,0.33313979474205796,0.330173050400837,0.3272030408577721,0.3242297954843712,0.3212533436841442,0.3182737148923088,0.31529093857550256,0.3123050442314898,0.309316061388869,0.3063240196067838,0.3033289484746268,0.30033087761175087,0.2973298366671725,0.29432585531928224,0.29131896327554746,0.2883091902722223,0.28529656607405,0.2822811204739722,0.2792628832928304,0.2762418843790745,0.2732181536084662,0.27019172088378224,0.2671626161345217,0.26413086931660645,0.26109651041208864,0.25805956942885044,0.2550200764003109,0.2519780613851254,0.2489335544668921,0.24588658575385056,0.24283718537858767,0.2397853834977363,0.23673121029167987,0.23367469596425278,0.23061587074244033,0.22755476487608275,0.22449140863757278,0.22142583232155955,0.21835806624464565,0.21528814074509078,0.21221608618250815,0.20914193293756786,0.20606571141169286,0.20298745202676186,0.1999071852248049,0.19682494146770554,0.193740751236898,0.1906546450330647,0.18756665337583753,0.18447680680349254,0.1813851358726515,0.17829167115797617,0.17519644325186945,0.17209948276416928,0.16900082032184957,0.16590048656871365,0.16279851216509486,0.15969492778754976,0.15658976412855782,0.15348305189621664,0.15037482181393688,0.14726510462014156,0.14415393106795849,0.14104133192491974,0.1379273379726538,0.1348119800065847,0.13169528883562387,0.12857729528186918,0.12545803018029636,0.12233752437845731,0.11921580873617368,0.11609291412523036,0.1129688714290732,0.10984371154250018,0.10671746537135932,0.10359016383223951,0.10046183785216839,0.09733251836830287,0.09420223632762673,0.09107102268664109,0.08793890841106176,0.0848059244755095,0.08167210186320675,0.07853747156566997,0.07540206458240174,0.07226591192058739,0.06912904459478472,0.06599149362662092,0.06285329004448216,0.05971446488321034,0.0565750491837926,0.05343507399305791,0.05029457036336647,0.04715356935230619,0.04401210202238198,0.04087019944071169,0.03772789267871753,0.034585212811817465,0.031442190919120996,0.028298858083118276,0.025155245389376274,0.022011383926227784,0.01886730478446755,0.015723039057041255,0.012578617838741556,0.009434072225897046,0.006289433316068282,0.0031447322077366876,1.2246467991473532e-16],\"type\":\"scatter\"}],                        {\"template\":{\"data\":{\"barpolar\":[{\"marker\":{\"line\":{\"color\":\"#E5ECF6\",\"width\":0.5},\"pattern\":{\"fillmode\":\"overlay\",\"size\":10,\"solidity\":0.2}},\"type\":\"barpolar\"}],\"bar\":[{\"error_x\":{\"color\":\"#2a3f5f\"},\"error_y\":{\"color\":\"#2a3f5f\"},\"marker\":{\"line\":{\"color\":\"#E5ECF6\",\"width\":0.5},\"pattern\":{\"fillmode\":\"overlay\",\"size\":10,\"solidity\":0.2}},\"type\":\"bar\"}],\"carpet\":[{\"aaxis\":{\"endlinecolor\":\"#2a3f5f\",\"gridcolor\":\"white\",\"linecolor\":\"white\",\"minorgridcolor\":\"white\",\"startlinecolor\":\"#2a3f5f\"},\"baxis\":{\"endlinecolor\":\"#2a3f5f\",\"gridcolor\":\"white\",\"linecolor\":\"white\",\"minorgridcolor\":\"white\",\"startlinecolor\":\"#2a3f5f\"},\"type\":\"carpet\"}],\"choropleth\":[{\"colorbar\":{\"outlinewidth\":0,\"ticks\":\"\"},\"type\":\"choropleth\"}],\"contourcarpet\":[{\"colorbar\":{\"outlinewidth\":0,\"ticks\":\"\"},\"type\":\"contourcarpet\"}],\"contour\":[{\"colorbar\":{\"outlinewidth\":0,\"ticks\":\"\"},\"colorscale\":[[0.0,\"#0d0887\"],[0.1111111111111111,\"#46039f\"],[0.2222222222222222,\"#7201a8\"],[0.3333333333333333,\"#9c179e\"],[0.4444444444444444,\"#bd3786\"],[0.5555555555555556,\"#d8576b\"],[0.6666666666666666,\"#ed7953\"],[0.7777777777777778,\"#fb9f3a\"],[0.8888888888888888,\"#fdca26\"],[1.0,\"#f0f921\"]],\"type\":\"contour\"}],\"heatmapgl\":[{\"colorbar\":{\"outlinewidth\":0,\"ticks\":\"\"},\"colorscale\":[[0.0,\"#0d0887\"],[0.1111111111111111,\"#46039f\"],[0.2222222222222222,\"#7201a8\"],[0.3333333333333333,\"#9c179e\"],[0.4444444444444444,\"#bd3786\"],[0.5555555555555556,\"#d8576b\"],[0.6666666666666666,\"#ed7953\"],[0.7777777777777778,\"#fb9f3a\"],[0.8888888888888888,\"#fdca26\"],[1.0,\"#f0f921\"]],\"type\":\"heatmapgl\"}],\"heatmap\":[{\"colorbar\":{\"outlinewidth\":0,\"ticks\":\"\"},\"colorscale\":[[0.0,\"#0d0887\"],[0.1111111111111111,\"#46039f\"],[0.2222222222222222,\"#7201a8\"],[0.3333333333333333,\"#9c179e\"],[0.4444444444444444,\"#bd3786\"],[0.5555555555555556,\"#d8576b\"],[0.6666666666666666,\"#ed7953\"],[0.7777777777777778,\"#fb9f3a\"],[0.8888888888888888,\"#fdca26\"],[1.0,\"#f0f921\"]],\"type\":\"heatmap\"}],\"histogram2dcontour\":[{\"colorbar\":{\"outlinewidth\":0,\"ticks\":\"\"},\"colorscale\":[[0.0,\"#0d0887\"],[0.1111111111111111,\"#46039f\"],[0.2222222222222222,\"#7201a8\"],[0.3333333333333333,\"#9c179e\"],[0.4444444444444444,\"#bd3786\"],[0.5555555555555556,\"#d8576b\"],[0.6666666666666666,\"#ed7953\"],[0.7777777777777778,\"#fb9f3a\"],[0.8888888888888888,\"#fdca26\"],[1.0,\"#f0f921\"]],\"type\":\"histogram2dcontour\"}],\"histogram2d\":[{\"colorbar\":{\"outlinewidth\":0,\"ticks\":\"\"},\"colorscale\":[[0.0,\"#0d0887\"],[0.1111111111111111,\"#46039f\"],[0.2222222222222222,\"#7201a8\"],[0.3333333333333333,\"#9c179e\"],[0.4444444444444444,\"#bd3786\"],[0.5555555555555556,\"#d8576b\"],[0.6666666666666666,\"#ed7953\"],[0.7777777777777778,\"#fb9f3a\"],[0.8888888888888888,\"#fdca26\"],[1.0,\"#f0f921\"]],\"type\":\"histogram2d\"}],\"histogram\":[{\"marker\":{\"pattern\":{\"fillmode\":\"overlay\",\"size\":10,\"solidity\":0.2}},\"type\":\"histogram\"}],\"mesh3d\":[{\"colorbar\":{\"outlinewidth\":0,\"ticks\":\"\"},\"type\":\"mesh3d\"}],\"parcoords\":[{\"line\":{\"colorbar\":{\"outlinewidth\":0,\"ticks\":\"\"}},\"type\":\"parcoords\"}],\"pie\":[{\"automargin\":true,\"type\":\"pie\"}],\"scatter3d\":[{\"line\":{\"colorbar\":{\"outlinewidth\":0,\"ticks\":\"\"}},\"marker\":{\"colorbar\":{\"outlinewidth\":0,\"ticks\":\"\"}},\"type\":\"scatter3d\"}],\"scattercarpet\":[{\"marker\":{\"colorbar\":{\"outlinewidth\":0,\"ticks\":\"\"}},\"type\":\"scattercarpet\"}],\"scattergeo\":[{\"marker\":{\"colorbar\":{\"outlinewidth\":0,\"ticks\":\"\"}},\"type\":\"scattergeo\"}],\"scattergl\":[{\"marker\":{\"colorbar\":{\"outlinewidth\":0,\"ticks\":\"\"}},\"type\":\"scattergl\"}],\"scattermapbox\":[{\"marker\":{\"colorbar\":{\"outlinewidth\":0,\"ticks\":\"\"}},\"type\":\"scattermapbox\"}],\"scatterpolargl\":[{\"marker\":{\"colorbar\":{\"outlinewidth\":0,\"ticks\":\"\"}},\"type\":\"scatterpolargl\"}],\"scatterpolar\":[{\"marker\":{\"colorbar\":{\"outlinewidth\":0,\"ticks\":\"\"}},\"type\":\"scatterpolar\"}],\"scatter\":[{\"fillpattern\":{\"fillmode\":\"overlay\",\"size\":10,\"solidity\":0.2},\"type\":\"scatter\"}],\"scatterternary\":[{\"marker\":{\"colorbar\":{\"outlinewidth\":0,\"ticks\":\"\"}},\"type\":\"scatterternary\"}],\"surface\":[{\"colorbar\":{\"outlinewidth\":0,\"ticks\":\"\"},\"colorscale\":[[0.0,\"#0d0887\"],[0.1111111111111111,\"#46039f\"],[0.2222222222222222,\"#7201a8\"],[0.3333333333333333,\"#9c179e\"],[0.4444444444444444,\"#bd3786\"],[0.5555555555555556,\"#d8576b\"],[0.6666666666666666,\"#ed7953\"],[0.7777777777777778,\"#fb9f3a\"],[0.8888888888888888,\"#fdca26\"],[1.0,\"#f0f921\"]],\"type\":\"surface\"}],\"table\":[{\"cells\":{\"fill\":{\"color\":\"#EBF0F8\"},\"line\":{\"color\":\"white\"}},\"header\":{\"fill\":{\"color\":\"#C8D4E3\"},\"line\":{\"color\":\"white\"}},\"type\":\"table\"}]},\"layout\":{\"annotationdefaults\":{\"arrowcolor\":\"#2a3f5f\",\"arrowhead\":0,\"arrowwidth\":1},\"autotypenumbers\":\"strict\",\"coloraxis\":{\"colorbar\":{\"outlinewidth\":0,\"ticks\":\"\"}},\"colorscale\":{\"diverging\":[[0,\"#8e0152\"],[0.1,\"#c51b7d\"],[0.2,\"#de77ae\"],[0.3,\"#f1b6da\"],[0.4,\"#fde0ef\"],[0.5,\"#f7f7f7\"],[0.6,\"#e6f5d0\"],[0.7,\"#b8e186\"],[0.8,\"#7fbc41\"],[0.9,\"#4d9221\"],[1,\"#276419\"]],\"sequential\":[[0.0,\"#0d0887\"],[0.1111111111111111,\"#46039f\"],[0.2222222222222222,\"#7201a8\"],[0.3333333333333333,\"#9c179e\"],[0.4444444444444444,\"#bd3786\"],[0.5555555555555556,\"#d8576b\"],[0.6666666666666666,\"#ed7953\"],[0.7777777777777778,\"#fb9f3a\"],[0.8888888888888888,\"#fdca26\"],[1.0,\"#f0f921\"]],\"sequentialminus\":[[0.0,\"#0d0887\"],[0.1111111111111111,\"#46039f\"],[0.2222222222222222,\"#7201a8\"],[0.3333333333333333,\"#9c179e\"],[0.4444444444444444,\"#bd3786\"],[0.5555555555555556,\"#d8576b\"],[0.6666666666666666,\"#ed7953\"],[0.7777777777777778,\"#fb9f3a\"],[0.8888888888888888,\"#fdca26\"],[1.0,\"#f0f921\"]]},\"colorway\":[\"#636efa\",\"#EF553B\",\"#00cc96\",\"#ab63fa\",\"#FFA15A\",\"#19d3f3\",\"#FF6692\",\"#B6E880\",\"#FF97FF\",\"#FECB52\"],\"font\":{\"color\":\"#2a3f5f\"},\"geo\":{\"bgcolor\":\"white\",\"lakecolor\":\"white\",\"landcolor\":\"#E5ECF6\",\"showlakes\":true,\"showland\":true,\"subunitcolor\":\"white\"},\"hoverlabel\":{\"align\":\"left\"},\"hovermode\":\"closest\",\"mapbox\":{\"style\":\"light\"},\"paper_bgcolor\":\"white\",\"plot_bgcolor\":\"#E5ECF6\",\"polar\":{\"angularaxis\":{\"gridcolor\":\"white\",\"linecolor\":\"white\",\"ticks\":\"\"},\"bgcolor\":\"#E5ECF6\",\"radialaxis\":{\"gridcolor\":\"white\",\"linecolor\":\"white\",\"ticks\":\"\"}},\"scene\":{\"xaxis\":{\"backgroundcolor\":\"#E5ECF6\",\"gridcolor\":\"white\",\"gridwidth\":2,\"linecolor\":\"white\",\"showbackground\":true,\"ticks\":\"\",\"zerolinecolor\":\"white\"},\"yaxis\":{\"backgroundcolor\":\"#E5ECF6\",\"gridcolor\":\"white\",\"gridwidth\":2,\"linecolor\":\"white\",\"showbackground\":true,\"ticks\":\"\",\"zerolinecolor\":\"white\"},\"zaxis\":{\"backgroundcolor\":\"#E5ECF6\",\"gridcolor\":\"white\",\"gridwidth\":2,\"linecolor\":\"white\",\"showbackground\":true,\"ticks\":\"\",\"zerolinecolor\":\"white\"}},\"shapedefaults\":{\"line\":{\"color\":\"#2a3f5f\"}},\"ternary\":{\"aaxis\":{\"gridcolor\":\"white\",\"linecolor\":\"white\",\"ticks\":\"\"},\"baxis\":{\"gridcolor\":\"white\",\"linecolor\":\"white\",\"ticks\":\"\"},\"bgcolor\":\"#E5ECF6\",\"caxis\":{\"gridcolor\":\"white\",\"linecolor\":\"white\",\"ticks\":\"\"}},\"title\":{\"x\":0.05},\"xaxis\":{\"automargin\":true,\"gridcolor\":\"white\",\"linecolor\":\"white\",\"ticks\":\"\",\"title\":{\"standoff\":15},\"zerolinecolor\":\"white\",\"zerolinewidth\":2},\"yaxis\":{\"automargin\":true,\"gridcolor\":\"white\",\"linecolor\":\"white\",\"ticks\":\"\",\"title\":{\"standoff\":15},\"zerolinecolor\":\"white\",\"zerolinewidth\":2}}},\"title\":{\"text\":\"SIMPLE EXAMPLE\"},\"xaxis\":{\"title\":{\"text\":\"nanoseconds\"}},\"yaxis\":{\"title\":{\"text\":\"volts\"}}},                        {\"responsive\": true}                    ).then(function(){\n",
       "                            \n",
       "var gd = document.getElementById('43dcc23a-ceb4-433c-9ddf-aad8be2bcbd9');\n",
       "var x = new MutationObserver(function (mutations, observer) {{\n",
       "        var display = window.getComputedStyle(gd).display;\n",
       "        if (!display || display === 'none') {{\n",
       "            console.log([gd, 'removed!']);\n",
       "            Plotly.purge(gd);\n",
       "            observer.disconnect();\n",
       "        }}\n",
       "}});\n",
       "\n",
       "// Listen for the removal of the full notebook cells\n",
       "var notebookContainer = gd.closest('#notebook-container');\n",
       "if (notebookContainer) {{\n",
       "    x.observe(notebookContainer, {childList: true});\n",
       "}}\n",
       "\n",
       "// Listen for the clearing of the current output cell\n",
       "var outputEl = gd.closest('.output');\n",
       "if (outputEl) {{\n",
       "    x.observe(outputEl, {childList: true});\n",
       "}}\n",
       "\n",
       "                        })                };                });            </script>        </div>"
      ]
     },
     "metadata": {},
     "output_type": "display_data"
    }
   ],
   "source": [
    "x = np.linspace(0, np.pi, 1000)\n",
    "\n",
    "layout = go.Layout(\n",
    "    title='SIMPLE EXAMPLE',\n",
    "    yaxis=dict(\n",
    "        title='volts'\n",
    "    ),\n",
    "    xaxis=dict(\n",
    "        title='nanoseconds'\n",
    "    )\n",
    ")\n",
    "\n",
    "trace1 = go.Scatter(\n",
    "    x=x,\n",
    "    y=np.sin(x),\n",
    "    mode='lines',\n",
    "    name='sin(x)',\n",
    "    line=dict(\n",
    "        shape='spline'\n",
    "    )\n",
    ")\n",
    "\n",
    "fig = go.Figure(data=[trace1], layout=layout)\n",
    "py.offline.iplot(fig)"
   ]
  },
  {
   "cell_type": "code",
   "execution_count": 12,
   "metadata": {},
   "outputs": [
    {
     "data": {
      "text/html": [
       "        <script type=\"text/javascript\">\n",
       "        window.PlotlyConfig = {MathJaxConfig: 'local'};\n",
       "        if (window.MathJax && window.MathJax.Hub && window.MathJax.Hub.Config) {window.MathJax.Hub.Config({SVG: {font: \"STIX-Web\"}});}\n",
       "        if (typeof require !== 'undefined') {\n",
       "        require.undef(\"plotly\");\n",
       "        requirejs.config({\n",
       "            paths: {\n",
       "                'plotly': ['https://cdn.plot.ly/plotly-2.12.1.min']\n",
       "            }\n",
       "        });\n",
       "        require(['plotly'], function(Plotly) {\n",
       "            window._Plotly = Plotly;\n",
       "        });\n",
       "        }\n",
       "        </script>\n",
       "        "
      ]
     },
     "metadata": {},
     "output_type": "display_data"
    },
    {
     "data": {
      "application/vnd.jupyter.widget-view+json": {
       "model_id": "56939735c41649439b36e07a269bf6c2",
       "version_major": 2,
       "version_minor": 0
      },
      "text/plain": [
       "interactive(children=(SelectMultiple(description='Bessel Order', index=(0,), options=(0, 1, 2, 3, 4, 5, 6), va…"
      ]
     },
     "metadata": {},
     "output_type": "display_data"
    }
   ],
   "source": [
    "import plotly as py\n",
    "import plotly.graph_objects as go\n",
    "import ipywidgets as widgets\n",
    "import numpy as np\n",
    "from scipy import special\n",
    "\n",
    "py.offline.init_notebook_mode(connected=True)\n",
    "\n",
    "x = np.linspace(0, np.pi, 1000)\n",
    "\n",
    "layout = go.Layout(\n",
    "    title='SIMPLE EXAMPLE',\n",
    "    yaxis=dict(\n",
    "        title='volts'\n",
    "    ),\n",
    "    xaxis=dict(\n",
    "        title='nanoseconds'\n",
    "    )\n",
    ")\n",
    "\n",
    "def update_plot(signals, freq):\n",
    "\n",
    "    data = []\n",
    "    for s in signals:\n",
    "        trace1 = go.Scatter(\n",
    "            x=x,\n",
    "            y=special.jv(s, freq * x),\n",
    "            mode='lines',\n",
    "            name='bessel {}'.format(s),\n",
    "            line=dict(\n",
    "                shape='spline'\n",
    "            )\n",
    "        )\n",
    "        data.append(trace1)\n",
    "\n",
    "    fig = go.Figure(data=data, layout=layout)\n",
    "    py.offline.iplot(fig)\n",
    "    \n",
    "signals = widgets.SelectMultiple(options=[0,1,2,3,4,5,6], value=(0,), description='Bessel Order')\n",
    "freq = widgets.FloatSlider(min=1, max=20, value=1, description='Freq')\n",
    "widgets.interactive(update_plot, signals=signals, freq=freq)\n"
   ]
  },
  {
   "cell_type": "code",
   "execution_count": 55,
   "metadata": {},
   "outputs": [
    {
     "data": {
      "text/html": [
       "        <script type=\"text/javascript\">\n",
       "        window.PlotlyConfig = {MathJaxConfig: 'local'};\n",
       "        if (window.MathJax && window.MathJax.Hub && window.MathJax.Hub.Config) {window.MathJax.Hub.Config({SVG: {font: \"STIX-Web\"}});}\n",
       "        if (typeof require !== 'undefined') {\n",
       "        require.undef(\"plotly\");\n",
       "        requirejs.config({\n",
       "            paths: {\n",
       "                'plotly': ['https://cdn.plot.ly/plotly-2.12.1.min']\n",
       "            }\n",
       "        });\n",
       "        require(['plotly'], function(Plotly) {\n",
       "            window._Plotly = Plotly;\n",
       "        });\n",
       "        }\n",
       "        </script>\n",
       "        "
      ]
     },
     "metadata": {},
     "output_type": "display_data"
    },
    {
     "data": {
      "application/vnd.jupyter.widget-view+json": {
       "model_id": "ca2883f84d1c4c7f830ced554b89fdd8",
       "version_major": 2,
       "version_minor": 0
      },
      "text/plain": [
       "interactive(children=(SelectMultiple(description='Trip Purpose', index=(0,), options=('HBW', 'HBShp', 'HBOth',…"
      ]
     },
     "metadata": {},
     "output_type": "display_data"
    }
   ],
   "source": [
    "import plotly as py\n",
    "import plotly.graph_objects as go\n",
    "import ipywidgets as widgets\n",
    "import numpy as np\n",
    "\n",
    "py.offline.init_notebook_mode(connected=True)\n",
    "\n",
    "x = np.linspace(0, np.pi, 1000)\n",
    "\n",
    "\n",
    "\n",
    "def update_plot(trippurps,xtriptypes,tlftypes,versions,ymax):\n",
    "\n",
    "    data = []\n",
    "    for trippurp in trippurps:\n",
    "        for triptype in triptypes:\n",
    "            for tlftype in tlftypes:\n",
    "                for version in versions:\n",
    "\n",
    "                    plotdata = dfTLF_Obs[(dfTLF_Obs['TRIPPURP']==trippurp) & (dfTLF_Obs['XTRIPTYPE']==xtriptype) & (dfTLF_Obs['TLFTYPE']==tlftype) & (dfTLF_Obs['VERSION']==versions)]\n",
    "\n",
    "                    xplot = plotdata['BIN_MIN']\n",
    "                    yplot = plotdata['FREQ']\n",
    "\n",
    "                    trace1 = go.Scatter(\n",
    "                        x=xplot,\n",
    "                        y=yplot,\n",
    "                        mode='lines',\n",
    "                        name=trippurp + ' ' + triptype + ' ' + tlftype,\n",
    "                        line=dict(\n",
    "                            shape='spline'\n",
    "                        )\n",
    "                    )\n",
    "                    data.append(trace1)\n",
    "\n",
    "    layout = go.Layout(\n",
    "        title='Trip Length Frequencies - Observed Data',\n",
    "        yaxis=dict(\n",
    "            title='',\n",
    "            range=(0,ymax)\n",
    "        ),\n",
    "        xaxis=dict(\n",
    "            title='GC/Dist/Time'\n",
    "        ),\n",
    "        width=1600,\n",
    "        height=600\n",
    "    )\n",
    "    \n",
    "    fig = go.Figure(data=data, layout=layout)\n",
    "    py.offline.iplot(fig)\n",
    "\n",
    "    \n",
    "#plotdata = dfTLF_Obs[(dfTLF_Obs['TRIPPURP']=='HBW') & (dfTLF_Obs['XTRIPTYPE']=='II') & (dfTLF_Obs['TLFTYPE']=='Dist')]\n",
    "\n",
    "#xplot = plotdata['BIN_MIN']\n",
    "#yplot = plotdata['FREQ']\n",
    "\n",
    "lstTripPurp  = dfTLF_Obs['TRIPPURP' ].unique().tolist() # HBW, HBShp, HBOth,...\n",
    "lstXTripType = dfTLF_Obs['XTRIPTYPE'].unique().tolist() # II, IX, XI, XX\n",
    "lstTLFType   = dfTLF_Obs['TLFTYPE'  ].unique().tolist() # GC, Time, Dist\n",
    "lstVersion   = dfTLF_Obs['VERSION'  ].unique().tolist() \n",
    "    \n",
    "selectTripPurp  = widgets.SelectMultiple(options=lstTripPurp , value=('HBW' ,), description='Trip Purpose')\n",
    "selectXTripType = widgets.SelectMultiple(options=lstXTripType, value=('II'  ,), description='X Trip Type' )\n",
    "selectTLFType   = widgets.SelectMultiple(options=lstTLFType  , value=('GC'  ,), description='TLF Type'    )\n",
    "selectVersion   = widgets.SelectMultiple(options=lstVersion  , value=('v832',), description='Version'    )\n",
    "\n",
    "#ymax = widgets.FloatSlider(min=0.00000001, max=1, value=1, description='YMax')\n",
    "\n",
    "ymax = widgets.Text(value='0.8', description='Y Max')\n",
    "\n",
    "widgets.interactive(update_plot, trippurps=selectTripPurp, xtriptypes=selectXTripType, tlftypes=selectTLFType, versions=selectVersion, ymax=ymax)"
   ]
  },
  {
   "cell_type": "code",
   "execution_count": 59,
   "metadata": {},
   "outputs": [
    {
     "ename": "NameError",
     "evalue": "name 'triptype' is not defined",
     "output_type": "error",
     "traceback": [
      "\u001b[1;31m---------------------------------------------------------------------------\u001b[0m",
      "\u001b[1;31mNameError\u001b[0m                                 Traceback (most recent call last)",
      "\u001b[1;32m~\\AppData\\Local\\Temp\\ipykernel_9088\\135712328.py\u001b[0m in \u001b[0;36m<module>\u001b[1;34m\u001b[0m\n\u001b[1;32m----> 1\u001b[1;33m \u001b[0mdfTLF_Obs\u001b[0m\u001b[1;33m[\u001b[0m\u001b[1;33m(\u001b[0m\u001b[0mdfTLF_Obs\u001b[0m\u001b[1;33m[\u001b[0m\u001b[1;34m'TRIPPURP'\u001b[0m\u001b[1;33m]\u001b[0m\u001b[1;33m==\u001b[0m\u001b[1;34m'HBW'\u001b[0m\u001b[1;33m)\u001b[0m \u001b[1;33m&\u001b[0m \u001b[1;33m(\u001b[0m\u001b[0mdfTLF_Obs\u001b[0m\u001b[1;33m[\u001b[0m\u001b[1;34m'XTRIPTYPE'\u001b[0m\u001b[1;33m]\u001b[0m\u001b[1;33m==\u001b[0m\u001b[0mtriptype\u001b[0m\u001b[1;33m)\u001b[0m \u001b[1;33m&\u001b[0m \u001b[1;33m(\u001b[0m\u001b[0mdfTLF_Obs\u001b[0m\u001b[1;33m[\u001b[0m\u001b[1;34m'TLFTYPE'\u001b[0m\u001b[1;33m]\u001b[0m\u001b[1;33m==\u001b[0m\u001b[0mtlftype\u001b[0m\u001b[1;33m)\u001b[0m \u001b[1;33m&\u001b[0m \u001b[1;33m(\u001b[0m\u001b[0mdfTLF_Obs\u001b[0m\u001b[1;33m[\u001b[0m\u001b[1;34m'VERSION'\u001b[0m\u001b[1;33m]\u001b[0m\u001b[1;33m==\u001b[0m\u001b[0mversions\u001b[0m\u001b[1;33m)\u001b[0m\u001b[1;33m]\u001b[0m\u001b[1;33m\u001b[0m\u001b[1;33m\u001b[0m\u001b[0m\n\u001b[0m",
      "\u001b[1;31mNameError\u001b[0m: name 'triptype' is not defined"
     ]
    }
   ],
   "source": [
    "dfTLF_Obs[(dfTLF_Obs['TRIPPURP']=='HBW') & (dfTLF_Obs['XTRIPTYPE']=='II') & (dfTLF_Obs['TLFTYPE']==tlftype) & (dfTLF_Obs['VERSION']==versions)]"
   ]
  }
 ],
 "metadata": {
  "kernelspec": {
   "display_name": "Python 3 (ipykernel)",
   "language": "python",
   "name": "python3"
  },
  "language_info": {
   "codemirror_mode": {
    "name": "ipython",
    "version": 3
   },
   "file_extension": ".py",
   "mimetype": "text/x-python",
   "name": "python",
   "nbconvert_exporter": "python",
   "pygments_lexer": "ipython3",
   "version": "3.9.13"
  },
  "vscode": {
   "interpreter": {
    "hash": "ce21b655b4d6c9e397d5ad93d5666c623f49909f6d0cc2f72076dafcf1b3ecfb"
   }
  }
 },
 "nbformat": 4,
 "nbformat_minor": 4
}
