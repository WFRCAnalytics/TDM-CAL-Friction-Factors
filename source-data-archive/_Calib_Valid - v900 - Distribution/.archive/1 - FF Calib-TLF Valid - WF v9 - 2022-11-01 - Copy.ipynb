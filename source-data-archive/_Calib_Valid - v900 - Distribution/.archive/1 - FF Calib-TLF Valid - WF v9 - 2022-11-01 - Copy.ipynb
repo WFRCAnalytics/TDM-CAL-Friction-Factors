{
 "cells": [
  {
   "cell_type": "code",
   "execution_count": 6,
   "metadata": {},
   "outputs": [
    {
     "data": {
      "text/html": [
       "        <script type=\"text/javascript\">\n",
       "        window.PlotlyConfig = {MathJaxConfig: 'local'};\n",
       "        if (window.MathJax && window.MathJax.Hub && window.MathJax.Hub.Config) {window.MathJax.Hub.Config({SVG: {font: \"STIX-Web\"}});}\n",
       "        if (typeof require !== 'undefined') {\n",
       "        require.undef(\"plotly\");\n",
       "        requirejs.config({\n",
       "            paths: {\n",
       "                'plotly': ['https://cdn.plot.ly/plotly-2.16.1.min']\n",
       "            }\n",
       "        });\n",
       "        require(['plotly'], function(Plotly) {\n",
       "            window._Plotly = Plotly;\n",
       "        });\n",
       "        }\n",
       "        </script>\n",
       "        "
      ]
     },
     "metadata": {},
     "output_type": "display_data"
    },
    {
     "data": {
      "text/html": [
       "<div>\n",
       "<style scoped>\n",
       "    .dataframe tbody tr th:only-of-type {\n",
       "        vertical-align: middle;\n",
       "    }\n",
       "\n",
       "    .dataframe tbody tr th {\n",
       "        vertical-align: top;\n",
       "    }\n",
       "\n",
       "    .dataframe thead th {\n",
       "        text-align: right;\n",
       "    }\n",
       "</style>\n",
       "<table border=\"1\" class=\"dataframe\">\n",
       "  <thead>\n",
       "    <tr style=\"text-align: right;\">\n",
       "      <th></th>\n",
       "      <th>TRIPPURP</th>\n",
       "      <th>TRIPPURP_SUB</th>\n",
       "    </tr>\n",
       "  </thead>\n",
       "  <tbody>\n",
       "    <tr>\n",
       "      <th>0</th>\n",
       "      <td>HBOth</td>\n",
       "      <td>HBO</td>\n",
       "    </tr>\n",
       "    <tr>\n",
       "      <th>1</th>\n",
       "      <td>HBShp</td>\n",
       "      <td>HBO</td>\n",
       "    </tr>\n",
       "    <tr>\n",
       "      <th>2</th>\n",
       "      <td>NHBW</td>\n",
       "      <td>NHB</td>\n",
       "    </tr>\n",
       "    <tr>\n",
       "      <th>3</th>\n",
       "      <td>NHBNW</td>\n",
       "      <td>NHB</td>\n",
       "    </tr>\n",
       "    <tr>\n",
       "      <th>4</th>\n",
       "      <td>IX</td>\n",
       "      <td>IXXI</td>\n",
       "    </tr>\n",
       "    <tr>\n",
       "      <th>5</th>\n",
       "      <td>XI</td>\n",
       "      <td>IXXI</td>\n",
       "    </tr>\n",
       "  </tbody>\n",
       "</table>\n",
       "</div>"
      ],
      "text/plain": [
       "  TRIPPURP TRIPPURP_SUB\n",
       "0    HBOth          HBO\n",
       "1    HBShp          HBO\n",
       "2     NHBW          NHB\n",
       "3    NHBNW          NHB\n",
       "4       IX         IXXI\n",
       "5       XI         IXXI"
      ]
     },
     "metadata": {},
     "output_type": "display_data"
    }
   ],
   "source": [
    "debug = True\n",
    "\n",
    "import pandas as pd\n",
    "    \n",
    "import os\n",
    "\n",
    "import plotly as py\n",
    "import plotly.graph_objects as go\n",
    "import ipywidgets as widgets\n",
    "import numpy as np\n",
    "from scipy import special\n",
    "\n",
    "import time\n",
    "\n",
    "# offline mode for charts, so it stays local\n",
    "py.offline.init_notebook_mode(connected=True)\n",
    "\n",
    "# read in curve data'\n",
    "dirCWD    = os.getcwd()\n",
    "dirIntermediate = os.path.join(dirCWD,'intermediate')\n",
    "dirResults = os.path.join(dirCWD,'results')\n",
    "\n",
    "binsize = 2\n",
    "\n",
    "observedStage = 'v9 Final Smoothing'\n",
    "\n",
    "baseTLFLoc = r'A:\\1 - TDM\\3 - Model Dev\\1 - WF\\2 - Sandbox\\v9.0Beta\\WF TDM v9.0 - 2022-11-01\\Scenarios\\BY_2019\\3_Distribute\\TLF'\n",
    "\n",
    "# some trip purposes are added together for information purposes\n",
    "dfTripPurpSubtotals = pd.DataFrame([\n",
    "    ['HBOth','HBO' ],\n",
    "    ['HBShp','HBO' ],\n",
    "    ['NHBW' ,'NHB' ],\n",
    "    ['NHBNW','NHB' ],\n",
    "    ['IX'   ,'IXXI'],\n",
    "    ['XI'   ,'IXXI']\n",
    "],columns=('TRIPPURP','TRIPPURP_SUB'))\n",
    "if debug: display(dfTripPurpSubtotals)"
   ]
  },
  {
   "cell_type": "code",
   "execution_count": 3,
   "metadata": {},
   "outputs": [
    {
     "data": {
      "text/html": [
       "<div>\n",
       "<style scoped>\n",
       "    .dataframe tbody tr th:only-of-type {\n",
       "        vertical-align: middle;\n",
       "    }\n",
       "\n",
       "    .dataframe tbody tr th {\n",
       "        vertical-align: top;\n",
       "    }\n",
       "\n",
       "    .dataframe thead th {\n",
       "        text-align: right;\n",
       "    }\n",
       "</style>\n",
       "<table border=\"1\" class=\"dataframe\">\n",
       "  <thead>\n",
       "    <tr style=\"text-align: right;\">\n",
       "      <th></th>\n",
       "      <th>BIN</th>\n",
       "      <th>TRIPPURP</th>\n",
       "      <th>FREQ</th>\n",
       "      <th>TLFTYPE</th>\n",
       "    </tr>\n",
       "  </thead>\n",
       "  <tbody>\n",
       "    <tr>\n",
       "      <th>41726</th>\n",
       "      <td>0.0</td>\n",
       "      <td>HBW</td>\n",
       "      <td>0.151770</td>\n",
       "      <td>Dist</td>\n",
       "    </tr>\n",
       "    <tr>\n",
       "      <th>41727</th>\n",
       "      <td>2.0</td>\n",
       "      <td>HBW</td>\n",
       "      <td>0.148953</td>\n",
       "      <td>Dist</td>\n",
       "    </tr>\n",
       "    <tr>\n",
       "      <th>41728</th>\n",
       "      <td>4.0</td>\n",
       "      <td>HBW</td>\n",
       "      <td>0.128122</td>\n",
       "      <td>Dist</td>\n",
       "    </tr>\n",
       "    <tr>\n",
       "      <th>41729</th>\n",
       "      <td>6.0</td>\n",
       "      <td>HBW</td>\n",
       "      <td>0.106026</td>\n",
       "      <td>Dist</td>\n",
       "    </tr>\n",
       "    <tr>\n",
       "      <th>41730</th>\n",
       "      <td>8.0</td>\n",
       "      <td>HBW</td>\n",
       "      <td>0.090793</td>\n",
       "      <td>Dist</td>\n",
       "    </tr>\n",
       "    <tr>\n",
       "      <th>...</th>\n",
       "      <td>...</td>\n",
       "      <td>...</td>\n",
       "      <td>...</td>\n",
       "      <td>...</td>\n",
       "    </tr>\n",
       "    <tr>\n",
       "      <th>47871</th>\n",
       "      <td>402.0</td>\n",
       "      <td>XI_HV</td>\n",
       "      <td>0.000000</td>\n",
       "      <td>GC</td>\n",
       "    </tr>\n",
       "    <tr>\n",
       "      <th>47872</th>\n",
       "      <td>404.0</td>\n",
       "      <td>XI_HV</td>\n",
       "      <td>0.000000</td>\n",
       "      <td>GC</td>\n",
       "    </tr>\n",
       "    <tr>\n",
       "      <th>47873</th>\n",
       "      <td>406.0</td>\n",
       "      <td>XI_HV</td>\n",
       "      <td>0.000000</td>\n",
       "      <td>GC</td>\n",
       "    </tr>\n",
       "    <tr>\n",
       "      <th>47874</th>\n",
       "      <td>408.0</td>\n",
       "      <td>XI_HV</td>\n",
       "      <td>0.000000</td>\n",
       "      <td>GC</td>\n",
       "    </tr>\n",
       "    <tr>\n",
       "      <th>47875</th>\n",
       "      <td>410.0</td>\n",
       "      <td>XI_HV</td>\n",
       "      <td>0.000000</td>\n",
       "      <td>GC</td>\n",
       "    </tr>\n",
       "  </tbody>\n",
       "</table>\n",
       "<p>6150 rows × 4 columns</p>\n",
       "</div>"
      ],
      "text/plain": [
       "         BIN TRIPPURP      FREQ TLFTYPE\n",
       "41726    0.0      HBW  0.151770    Dist\n",
       "41727    2.0      HBW  0.148953    Dist\n",
       "41728    4.0      HBW  0.128122    Dist\n",
       "41729    6.0      HBW  0.106026    Dist\n",
       "41730    8.0      HBW  0.090793    Dist\n",
       "...      ...      ...       ...     ...\n",
       "47871  402.0    XI_HV  0.000000      GC\n",
       "47872  404.0    XI_HV  0.000000      GC\n",
       "47873  406.0    XI_HV  0.000000      GC\n",
       "47874  408.0    XI_HV  0.000000      GC\n",
       "47875  410.0    XI_HV  0.000000      GC\n",
       "\n",
       "[6150 rows x 4 columns]"
      ]
     },
     "metadata": {},
     "output_type": "display_data"
    }
   ],
   "source": [
    "# read in observed TLF data to be used\n",
    "dfTLF_Obs = pd.read_csv(r'A:\\1 - TDM\\2 - Estimate Param\\_General Parameters\\7 - Update Obs TLF\\3 - Create Obs TLFs for all Trips\\results\\dfTLF_Obs_wSmoothed_20221130-133903.csv')\n",
    "\n",
    "#filter by the STAGE for \n",
    "dfTLF_Obs = dfTLF_Obs[dfTLF_Obs['STAGE']==observedStage].copy()\n",
    "dfTLF_Obs = dfTLF_Obs.drop(columns=('STAGE'))\n",
    "if debug: display(dfTLF_Obs)"
   ]
  },
  {
   "cell_type": "code",
   "execution_count": 4,
   "metadata": {},
   "outputs": [
    {
     "data": {
      "text/html": [
       "<div>\n",
       "<style scoped>\n",
       "    .dataframe tbody tr th:only-of-type {\n",
       "        vertical-align: middle;\n",
       "    }\n",
       "\n",
       "    .dataframe tbody tr th {\n",
       "        vertical-align: top;\n",
       "    }\n",
       "\n",
       "    .dataframe thead th {\n",
       "        text-align: right;\n",
       "    }\n",
       "</style>\n",
       "<table border=\"1\" class=\"dataframe\">\n",
       "  <thead>\n",
       "    <tr style=\"text-align: right;\">\n",
       "      <th></th>\n",
       "      <th>TLFTYPE</th>\n",
       "      <th>MAXBIN</th>\n",
       "    </tr>\n",
       "  </thead>\n",
       "  <tbody>\n",
       "    <tr>\n",
       "      <th>0</th>\n",
       "      <td>Dist</td>\n",
       "      <td>160.0</td>\n",
       "    </tr>\n",
       "    <tr>\n",
       "      <th>1</th>\n",
       "      <td>GC</td>\n",
       "      <td>392.0</td>\n",
       "    </tr>\n",
       "    <tr>\n",
       "      <th>2</th>\n",
       "      <td>Time</td>\n",
       "      <td>182.0</td>\n",
       "    </tr>\n",
       "  </tbody>\n",
       "</table>\n",
       "</div>"
      ],
      "text/plain": [
       "  TLFTYPE  MAXBIN\n",
       "0    Dist   160.0\n",
       "1      GC   392.0\n",
       "2    Time   182.0"
      ]
     },
     "metadata": {},
     "output_type": "display_data"
    }
   ],
   "source": [
    "# show max bin size for TLF type to use in updating TDM TLF code\n",
    "if debug: display(dfTLF_Obs[dfTLF_Obs['FREQ']>0].groupby(['TLFTYPE'],as_index=False).agg(MAXBIN=('BIN','max')))"
   ]
  },
  {
   "cell_type": "code",
   "execution_count": 7,
   "metadata": {},
   "outputs": [
    {
     "data": {
      "text/html": [
       "<div>\n",
       "<style scoped>\n",
       "    .dataframe tbody tr th:only-of-type {\n",
       "        vertical-align: middle;\n",
       "    }\n",
       "\n",
       "    .dataframe tbody tr th {\n",
       "        vertical-align: top;\n",
       "    }\n",
       "\n",
       "    .dataframe thead th {\n",
       "        text-align: right;\n",
       "    }\n",
       "</style>\n",
       "<table border=\"1\" class=\"dataframe\">\n",
       "  <thead>\n",
       "    <tr style=\"text-align: right;\">\n",
       "      <th></th>\n",
       "      <th>TRIPPURP</th>\n",
       "      <th>TLFTYPE</th>\n",
       "      <th>FREQ_SUM</th>\n",
       "      <th>AVG_TRIP_LEN</th>\n",
       "    </tr>\n",
       "  </thead>\n",
       "  <tbody>\n",
       "    <tr>\n",
       "      <th>0</th>\n",
       "      <td>HBOth</td>\n",
       "      <td>Dist</td>\n",
       "      <td>1.0</td>\n",
       "      <td>3.665819</td>\n",
       "    </tr>\n",
       "    <tr>\n",
       "      <th>1</th>\n",
       "      <td>HBOth</td>\n",
       "      <td>GC</td>\n",
       "      <td>1.0</td>\n",
       "      <td>16.186377</td>\n",
       "    </tr>\n",
       "    <tr>\n",
       "      <th>2</th>\n",
       "      <td>HBOth</td>\n",
       "      <td>Time</td>\n",
       "      <td>1.0</td>\n",
       "      <td>10.175627</td>\n",
       "    </tr>\n",
       "    <tr>\n",
       "      <th>3</th>\n",
       "      <td>HBSchPr</td>\n",
       "      <td>Dist</td>\n",
       "      <td>1.0</td>\n",
       "      <td>0.622159</td>\n",
       "    </tr>\n",
       "    <tr>\n",
       "      <th>4</th>\n",
       "      <td>HBSchPr</td>\n",
       "      <td>GC</td>\n",
       "      <td>1.0</td>\n",
       "      <td>8.149783</td>\n",
       "    </tr>\n",
       "    <tr>\n",
       "      <th>5</th>\n",
       "      <td>HBSchPr</td>\n",
       "      <td>Time</td>\n",
       "      <td>1.0</td>\n",
       "      <td>5.534968</td>\n",
       "    </tr>\n",
       "    <tr>\n",
       "      <th>6</th>\n",
       "      <td>HBSchSc</td>\n",
       "      <td>Dist</td>\n",
       "      <td>1.0</td>\n",
       "      <td>1.975023</td>\n",
       "    </tr>\n",
       "    <tr>\n",
       "      <th>7</th>\n",
       "      <td>HBSchSc</td>\n",
       "      <td>GC</td>\n",
       "      <td>1.0</td>\n",
       "      <td>11.332930</td>\n",
       "    </tr>\n",
       "    <tr>\n",
       "      <th>8</th>\n",
       "      <td>HBSchSc</td>\n",
       "      <td>Time</td>\n",
       "      <td>1.0</td>\n",
       "      <td>7.526669</td>\n",
       "    </tr>\n",
       "    <tr>\n",
       "      <th>9</th>\n",
       "      <td>HBShp</td>\n",
       "      <td>Dist</td>\n",
       "      <td>1.0</td>\n",
       "      <td>2.762367</td>\n",
       "    </tr>\n",
       "    <tr>\n",
       "      <th>10</th>\n",
       "      <td>HBShp</td>\n",
       "      <td>GC</td>\n",
       "      <td>1.0</td>\n",
       "      <td>14.330714</td>\n",
       "    </tr>\n",
       "    <tr>\n",
       "      <th>11</th>\n",
       "      <td>HBShp</td>\n",
       "      <td>Time</td>\n",
       "      <td>1.0</td>\n",
       "      <td>9.582541</td>\n",
       "    </tr>\n",
       "    <tr>\n",
       "      <th>12</th>\n",
       "      <td>HBW</td>\n",
       "      <td>Dist</td>\n",
       "      <td>1.0</td>\n",
       "      <td>9.179790</td>\n",
       "    </tr>\n",
       "    <tr>\n",
       "      <th>13</th>\n",
       "      <td>HBW</td>\n",
       "      <td>GC</td>\n",
       "      <td>1.0</td>\n",
       "      <td>30.828721</td>\n",
       "    </tr>\n",
       "    <tr>\n",
       "      <th>14</th>\n",
       "      <td>HBW</td>\n",
       "      <td>Time</td>\n",
       "      <td>1.0</td>\n",
       "      <td>20.686218</td>\n",
       "    </tr>\n",
       "    <tr>\n",
       "      <th>15</th>\n",
       "      <td>HV</td>\n",
       "      <td>Dist</td>\n",
       "      <td>1.0</td>\n",
       "      <td>15.512306</td>\n",
       "    </tr>\n",
       "    <tr>\n",
       "      <th>16</th>\n",
       "      <td>HV</td>\n",
       "      <td>GC</td>\n",
       "      <td>1.0</td>\n",
       "      <td>46.187765</td>\n",
       "    </tr>\n",
       "    <tr>\n",
       "      <th>17</th>\n",
       "      <td>HV</td>\n",
       "      <td>Time</td>\n",
       "      <td>1.0</td>\n",
       "      <td>23.358265</td>\n",
       "    </tr>\n",
       "    <tr>\n",
       "      <th>18</th>\n",
       "      <td>IX</td>\n",
       "      <td>Dist</td>\n",
       "      <td>1.0</td>\n",
       "      <td>40.824007</td>\n",
       "    </tr>\n",
       "    <tr>\n",
       "      <th>19</th>\n",
       "      <td>IX</td>\n",
       "      <td>GC</td>\n",
       "      <td>1.0</td>\n",
       "      <td>81.280040</td>\n",
       "    </tr>\n",
       "    <tr>\n",
       "      <th>20</th>\n",
       "      <td>IX</td>\n",
       "      <td>Time</td>\n",
       "      <td>1.0</td>\n",
       "      <td>39.646134</td>\n",
       "    </tr>\n",
       "    <tr>\n",
       "      <th>21</th>\n",
       "      <td>IX_HV</td>\n",
       "      <td>Dist</td>\n",
       "      <td>1.0</td>\n",
       "      <td>58.745905</td>\n",
       "    </tr>\n",
       "    <tr>\n",
       "      <th>22</th>\n",
       "      <td>IX_HV</td>\n",
       "      <td>GC</td>\n",
       "      <td>1.0</td>\n",
       "      <td>150.665955</td>\n",
       "    </tr>\n",
       "    <tr>\n",
       "      <th>23</th>\n",
       "      <td>IX_HV</td>\n",
       "      <td>Time</td>\n",
       "      <td>1.0</td>\n",
       "      <td>67.225662</td>\n",
       "    </tr>\n",
       "    <tr>\n",
       "      <th>24</th>\n",
       "      <td>IX_MD</td>\n",
       "      <td>Dist</td>\n",
       "      <td>1.0</td>\n",
       "      <td>40.835965</td>\n",
       "    </tr>\n",
       "    <tr>\n",
       "      <th>25</th>\n",
       "      <td>IX_MD</td>\n",
       "      <td>GC</td>\n",
       "      <td>1.0</td>\n",
       "      <td>95.656014</td>\n",
       "    </tr>\n",
       "    <tr>\n",
       "      <th>26</th>\n",
       "      <td>IX_MD</td>\n",
       "      <td>Time</td>\n",
       "      <td>1.0</td>\n",
       "      <td>45.816794</td>\n",
       "    </tr>\n",
       "    <tr>\n",
       "      <th>27</th>\n",
       "      <td>MD</td>\n",
       "      <td>Dist</td>\n",
       "      <td>1.0</td>\n",
       "      <td>11.611940</td>\n",
       "    </tr>\n",
       "    <tr>\n",
       "      <th>28</th>\n",
       "      <td>MD</td>\n",
       "      <td>GC</td>\n",
       "      <td>1.0</td>\n",
       "      <td>36.351187</td>\n",
       "    </tr>\n",
       "    <tr>\n",
       "      <th>29</th>\n",
       "      <td>MD</td>\n",
       "      <td>Time</td>\n",
       "      <td>1.0</td>\n",
       "      <td>19.713040</td>\n",
       "    </tr>\n",
       "    <tr>\n",
       "      <th>30</th>\n",
       "      <td>NHBNW</td>\n",
       "      <td>Dist</td>\n",
       "      <td>1.0</td>\n",
       "      <td>3.675994</td>\n",
       "    </tr>\n",
       "    <tr>\n",
       "      <th>31</th>\n",
       "      <td>NHBNW</td>\n",
       "      <td>GC</td>\n",
       "      <td>1.0</td>\n",
       "      <td>16.948874</td>\n",
       "    </tr>\n",
       "    <tr>\n",
       "      <th>32</th>\n",
       "      <td>NHBNW</td>\n",
       "      <td>Time</td>\n",
       "      <td>1.0</td>\n",
       "      <td>11.065028</td>\n",
       "    </tr>\n",
       "    <tr>\n",
       "      <th>33</th>\n",
       "      <td>NHBW</td>\n",
       "      <td>Dist</td>\n",
       "      <td>1.0</td>\n",
       "      <td>5.498481</td>\n",
       "    </tr>\n",
       "    <tr>\n",
       "      <th>34</th>\n",
       "      <td>NHBW</td>\n",
       "      <td>GC</td>\n",
       "      <td>1.0</td>\n",
       "      <td>22.897688</td>\n",
       "    </tr>\n",
       "    <tr>\n",
       "      <th>35</th>\n",
       "      <td>NHBW</td>\n",
       "      <td>Time</td>\n",
       "      <td>1.0</td>\n",
       "      <td>14.658982</td>\n",
       "    </tr>\n",
       "    <tr>\n",
       "      <th>36</th>\n",
       "      <td>XI</td>\n",
       "      <td>Dist</td>\n",
       "      <td>1.0</td>\n",
       "      <td>28.387066</td>\n",
       "    </tr>\n",
       "    <tr>\n",
       "      <th>37</th>\n",
       "      <td>XI</td>\n",
       "      <td>GC</td>\n",
       "      <td>1.0</td>\n",
       "      <td>68.799529</td>\n",
       "    </tr>\n",
       "    <tr>\n",
       "      <th>38</th>\n",
       "      <td>XI</td>\n",
       "      <td>Time</td>\n",
       "      <td>1.0</td>\n",
       "      <td>34.931460</td>\n",
       "    </tr>\n",
       "    <tr>\n",
       "      <th>39</th>\n",
       "      <td>XI_HV</td>\n",
       "      <td>Dist</td>\n",
       "      <td>1.0</td>\n",
       "      <td>63.061699</td>\n",
       "    </tr>\n",
       "    <tr>\n",
       "      <th>40</th>\n",
       "      <td>XI_HV</td>\n",
       "      <td>GC</td>\n",
       "      <td>1.0</td>\n",
       "      <td>162.170483</td>\n",
       "    </tr>\n",
       "    <tr>\n",
       "      <th>41</th>\n",
       "      <td>XI_HV</td>\n",
       "      <td>Time</td>\n",
       "      <td>1.0</td>\n",
       "      <td>72.560994</td>\n",
       "    </tr>\n",
       "    <tr>\n",
       "      <th>42</th>\n",
       "      <td>XI_MD</td>\n",
       "      <td>Dist</td>\n",
       "      <td>1.0</td>\n",
       "      <td>42.125143</td>\n",
       "    </tr>\n",
       "    <tr>\n",
       "      <th>43</th>\n",
       "      <td>XI_MD</td>\n",
       "      <td>GC</td>\n",
       "      <td>1.0</td>\n",
       "      <td>99.290194</td>\n",
       "    </tr>\n",
       "    <tr>\n",
       "      <th>44</th>\n",
       "      <td>XI_MD</td>\n",
       "      <td>Time</td>\n",
       "      <td>1.0</td>\n",
       "      <td>48.007368</td>\n",
       "    </tr>\n",
       "  </tbody>\n",
       "</table>\n",
       "</div>"
      ],
      "text/plain": [
       "   TRIPPURP TLFTYPE  FREQ_SUM  AVG_TRIP_LEN\n",
       "0     HBOth    Dist       1.0      3.665819\n",
       "1     HBOth      GC       1.0     16.186377\n",
       "2     HBOth    Time       1.0     10.175627\n",
       "3   HBSchPr    Dist       1.0      0.622159\n",
       "4   HBSchPr      GC       1.0      8.149783\n",
       "5   HBSchPr    Time       1.0      5.534968\n",
       "6   HBSchSc    Dist       1.0      1.975023\n",
       "7   HBSchSc      GC       1.0     11.332930\n",
       "8   HBSchSc    Time       1.0      7.526669\n",
       "9     HBShp    Dist       1.0      2.762367\n",
       "10    HBShp      GC       1.0     14.330714\n",
       "11    HBShp    Time       1.0      9.582541\n",
       "12      HBW    Dist       1.0      9.179790\n",
       "13      HBW      GC       1.0     30.828721\n",
       "14      HBW    Time       1.0     20.686218\n",
       "15       HV    Dist       1.0     15.512306\n",
       "16       HV      GC       1.0     46.187765\n",
       "17       HV    Time       1.0     23.358265\n",
       "18       IX    Dist       1.0     40.824007\n",
       "19       IX      GC       1.0     81.280040\n",
       "20       IX    Time       1.0     39.646134\n",
       "21    IX_HV    Dist       1.0     58.745905\n",
       "22    IX_HV      GC       1.0    150.665955\n",
       "23    IX_HV    Time       1.0     67.225662\n",
       "24    IX_MD    Dist       1.0     40.835965\n",
       "25    IX_MD      GC       1.0     95.656014\n",
       "26    IX_MD    Time       1.0     45.816794\n",
       "27       MD    Dist       1.0     11.611940\n",
       "28       MD      GC       1.0     36.351187\n",
       "29       MD    Time       1.0     19.713040\n",
       "30    NHBNW    Dist       1.0      3.675994\n",
       "31    NHBNW      GC       1.0     16.948874\n",
       "32    NHBNW    Time       1.0     11.065028\n",
       "33     NHBW    Dist       1.0      5.498481\n",
       "34     NHBW      GC       1.0     22.897688\n",
       "35     NHBW    Time       1.0     14.658982\n",
       "36       XI    Dist       1.0     28.387066\n",
       "37       XI      GC       1.0     68.799529\n",
       "38       XI    Time       1.0     34.931460\n",
       "39    XI_HV    Dist       1.0     63.061699\n",
       "40    XI_HV      GC       1.0    162.170483\n",
       "41    XI_HV    Time       1.0     72.560994\n",
       "42    XI_MD    Dist       1.0     42.125143\n",
       "43    XI_MD      GC       1.0     99.290194\n",
       "44    XI_MD    Time       1.0     48.007368"
      ]
     },
     "metadata": {},
     "output_type": "display_data"
    }
   ],
   "source": [
    "# Check TLF Observed. FREQ should all sum to 1! Also show average trip length\n",
    "dfTLF_Obs['BINxFREQ'] = dfTLF_Obs['BIN'] * dfTLF_Obs['FREQ']\n",
    "dfTLF_Obs_Stats = dfTLF_Obs.groupby(['TRIPPURP','TLFTYPE'],as_index=False).agg(FREQ_SUM=('FREQ','sum'),AVG_TRIP_LEN=('BINxFREQ','sum'))\n",
    "dfTLF_Obs = dfTLF_Obs.drop(columns=('BINxFREQ'))\n",
    "if debug: display(dfTLF_Obs_Stats)"
   ]
  },
  {
   "cell_type": "code",
   "execution_count": 8,
   "metadata": {},
   "outputs": [
    {
     "data": {
      "text/html": [
       "<div>\n",
       "<style scoped>\n",
       "    .dataframe tbody tr th:only-of-type {\n",
       "        vertical-align: middle;\n",
       "    }\n",
       "\n",
       "    .dataframe tbody tr th {\n",
       "        vertical-align: top;\n",
       "    }\n",
       "\n",
       "    .dataframe thead th {\n",
       "        text-align: right;\n",
       "    }\n",
       "</style>\n",
       "<table border=\"1\" class=\"dataframe\">\n",
       "  <thead>\n",
       "    <tr style=\"text-align: right;\">\n",
       "      <th></th>\n",
       "      <th>BIN</th>\n",
       "      <th>TRIPPURP</th>\n",
       "      <th>FF</th>\n",
       "      <th>FF_CALIB_ROUND</th>\n",
       "    </tr>\n",
       "  </thead>\n",
       "  <tbody>\n",
       "    <tr>\n",
       "      <th>0</th>\n",
       "      <td>0</td>\n",
       "      <td>HBW</td>\n",
       "      <td>1.000000</td>\n",
       "      <td>0-Initial from v832</td>\n",
       "    </tr>\n",
       "    <tr>\n",
       "      <th>1</th>\n",
       "      <td>2</td>\n",
       "      <td>HBW</td>\n",
       "      <td>0.999800</td>\n",
       "      <td>0-Initial from v832</td>\n",
       "    </tr>\n",
       "    <tr>\n",
       "      <th>2</th>\n",
       "      <td>4</td>\n",
       "      <td>HBW</td>\n",
       "      <td>0.609169</td>\n",
       "      <td>0-Initial from v832</td>\n",
       "    </tr>\n",
       "    <tr>\n",
       "      <th>3</th>\n",
       "      <td>6</td>\n",
       "      <td>HBW</td>\n",
       "      <td>0.190323</td>\n",
       "      <td>0-Initial from v832</td>\n",
       "    </tr>\n",
       "    <tr>\n",
       "      <th>4</th>\n",
       "      <td>8</td>\n",
       "      <td>HBW</td>\n",
       "      <td>0.098000</td>\n",
       "      <td>0-Initial from v832</td>\n",
       "    </tr>\n",
       "    <tr>\n",
       "      <th>...</th>\n",
       "      <td>...</td>\n",
       "      <td>...</td>\n",
       "      <td>...</td>\n",
       "      <td>...</td>\n",
       "    </tr>\n",
       "    <tr>\n",
       "      <th>146</th>\n",
       "      <td>292</td>\n",
       "      <td>XI_HV</td>\n",
       "      <td>0.000000</td>\n",
       "      <td>0-Initial from v832</td>\n",
       "    </tr>\n",
       "    <tr>\n",
       "      <th>147</th>\n",
       "      <td>294</td>\n",
       "      <td>XI_HV</td>\n",
       "      <td>0.000000</td>\n",
       "      <td>0-Initial from v832</td>\n",
       "    </tr>\n",
       "    <tr>\n",
       "      <th>148</th>\n",
       "      <td>296</td>\n",
       "      <td>XI_HV</td>\n",
       "      <td>0.000000</td>\n",
       "      <td>0-Initial from v832</td>\n",
       "    </tr>\n",
       "    <tr>\n",
       "      <th>149</th>\n",
       "      <td>298</td>\n",
       "      <td>XI_HV</td>\n",
       "      <td>0.000000</td>\n",
       "      <td>0-Initial from v832</td>\n",
       "    </tr>\n",
       "    <tr>\n",
       "      <th>150</th>\n",
       "      <td>300</td>\n",
       "      <td>XI_HV</td>\n",
       "      <td>0.000000</td>\n",
       "      <td>0-Initial from v832</td>\n",
       "    </tr>\n",
       "  </tbody>\n",
       "</table>\n",
       "<p>2718 rows × 4 columns</p>\n",
       "</div>"
      ],
      "text/plain": [
       "     BIN TRIPPURP        FF       FF_CALIB_ROUND\n",
       "0      0      HBW  1.000000  0-Initial from v832\n",
       "1      2      HBW  0.999800  0-Initial from v832\n",
       "2      4      HBW  0.609169  0-Initial from v832\n",
       "3      6      HBW  0.190323  0-Initial from v832\n",
       "4      8      HBW  0.098000  0-Initial from v832\n",
       "..   ...      ...       ...                  ...\n",
       "146  292    XI_HV  0.000000  0-Initial from v832\n",
       "147  294    XI_HV  0.000000  0-Initial from v832\n",
       "148  296    XI_HV  0.000000  0-Initial from v832\n",
       "149  298    XI_HV  0.000000  0-Initial from v832\n",
       "150  300    XI_HV  0.000000  0-Initial from v832\n",
       "\n",
       "[2718 rows x 4 columns]"
      ]
     },
     "metadata": {},
     "output_type": "display_data"
    }
   ],
   "source": [
    "# read in Friction Factors\n",
    "dfsFF=[]\n",
    "\n",
    "dfFF = pd.read_csv(r'_Friction_Factors\\FricFactor_AllPurp.csv')\n",
    "\n",
    "# make sure id column is always same: BIN\n",
    "dfFF = dfFF.rename(columns={';MINUTE':'BIN','Mile':'BIN','Mil':'BIN','Min':'BIN','Bin':'BIN'})\n",
    "\n",
    "# melt all columns but first\n",
    "dfFF = pd.melt(dfFF, id_vars=['BIN'], value_vars=dfFF.columns[1:].tolist(), ignore_index=False, var_name='TRIPPURP', value_name='FF')\n",
    "dfFF['FF_CALIB_ROUND']='0-Initial from v832'\n",
    "\n",
    "dfsFF.append(dfFF)\n",
    "\n",
    "if debug: display(dfsFF[0])"
   ]
  },
  {
   "cell_type": "code",
   "execution_count": 9,
   "metadata": {},
   "outputs": [
    {
     "data": {
      "text/html": [
       "        <script type=\"text/javascript\">\n",
       "        window.PlotlyConfig = {MathJaxConfig: 'local'};\n",
       "        if (window.MathJax && window.MathJax.Hub && window.MathJax.Hub.Config) {window.MathJax.Hub.Config({SVG: {font: \"STIX-Web\"}});}\n",
       "        if (typeof require !== 'undefined') {\n",
       "        require.undef(\"plotly\");\n",
       "        requirejs.config({\n",
       "            paths: {\n",
       "                'plotly': ['https://cdn.plot.ly/plotly-2.16.1.min']\n",
       "            }\n",
       "        });\n",
       "        require(['plotly'], function(Plotly) {\n",
       "            window._Plotly = Plotly;\n",
       "        });\n",
       "        }\n",
       "        </script>\n",
       "        "
      ]
     },
     "metadata": {},
     "output_type": "display_data"
    }
   ],
   "source": [
    "import plotly as py\n",
    "import plotly.graph_objects as go\n",
    "import ipywidgets as widgets\n",
    "import numpy as np\n",
    "from scipy import special\n",
    "\n",
    "py.offline.init_notebook_mode(connected=True)"
   ]
  },
  {
   "cell_type": "markdown",
   "metadata": {},
   "source": [
    "# Observed Plots"
   ]
  },
  {
   "cell_type": "code",
   "execution_count": 10,
   "metadata": {},
   "outputs": [],
   "source": [
    "#PLOTTING FUNCTION\n",
    "\n",
    "# chart preset zoom extents\n",
    "dfZoomPresets = pd.DataFrame([\n",
    "    ['Begin' ,     0,   100,     0,np.NaN],\n",
    "    ['Mid'   ,    30,   160,     0, 0.018],\n",
    "    ['Tail'  ,   100,   400,     0, 0.001],\n",
    "    ['All'   ,np.NaN,np.NaN,np.NaN,np.NaN],\n",
    "    ['Custom',np.NaN,np.NaN,np.NaN,np.NaN],\n",
    "], columns=('PRESET','XMIN','XMAX','YMIN','YMAX'))\n",
    "dfZoomPresets\n",
    "\n",
    "def update_plot_obs(trippurps, tlftypes, zoompreset, xmin, xmax, ymin, ymax):\n",
    "\n",
    "    dfAvgTripLen = pd.DataFrame()\n",
    "    \n",
    "    data = []\n",
    "    for trippurp in trippurps:\n",
    "        for tlftype in tlftypes:\n",
    "\n",
    "            # data for plotting from filtered dataframe\n",
    "            plotdata = dfTLF_Obs[(dfTLF_Obs['TRIPPURP']==trippurp) & (dfTLF_Obs['TLFTYPE']==tlftype)]\n",
    "\n",
    "            # fill any NaN values with zeros\n",
    "            plotdata = plotdata.fillna(0)\n",
    "            \n",
    "            xplot = plotdata['BIN']\n",
    "            yplot = plotdata['FREQ']\n",
    "            name  = trippurp + ' ' + tlftype \n",
    "\n",
    "            trace1 = go.Scatter(\n",
    "                x=xplot,\n",
    "                y=yplot,\n",
    "                mode='lines',\n",
    "                name=name,\n",
    "                line=dict(\n",
    "                    shape='spline'\n",
    "                )\n",
    "            )\n",
    "            data.append(trace1)\n",
    "                \n",
    "    # get zoom presets\n",
    "    if (zoompreset=='Custom'):\n",
    "        _xmin = xmin\n",
    "        _xmax = xmax\n",
    "        _ymin = ymin\n",
    "        _ymax = ymax\n",
    "    else:\n",
    "        _xmin = dfZoomPresets[dfZoomPresets['PRESET']==zoompreset]['XMIN'].values[0]\n",
    "        _xmax = dfZoomPresets[dfZoomPresets['PRESET']==zoompreset]['XMAX'].values[0]\n",
    "        _ymin = dfZoomPresets[dfZoomPresets['PRESET']==zoompreset]['YMIN'].values[0]\n",
    "        _ymax = dfZoomPresets[dfZoomPresets['PRESET']==zoompreset]['YMAX'].values[0]\n",
    "\n",
    "    layout = go.Layout(\n",
    "        title='Trip Length Frequencies - Observed Data',\n",
    "        yaxis=dict(\n",
    "            title='',\n",
    "            range=(_ymin,_ymax)\n",
    "        ),\n",
    "        xaxis=dict(\n",
    "            title='GC/Dist/Time',\n",
    "            range=(_xmin,_xmax)\n",
    "        ),\n",
    "        #width=1600,\n",
    "        height=450\n",
    "    )\n",
    "    \n",
    "    fig = go.Figure(data=data, layout=layout)\n",
    "    py.offline.iplot(fig)"
   ]
  },
  {
   "cell_type": "code",
   "execution_count": 11,
   "metadata": {},
   "outputs": [
    {
     "data": {
      "text/html": [
       "        <script type=\"text/javascript\">\n",
       "        window.PlotlyConfig = {MathJaxConfig: 'local'};\n",
       "        if (window.MathJax && window.MathJax.Hub && window.MathJax.Hub.Config) {window.MathJax.Hub.Config({SVG: {font: \"STIX-Web\"}});}\n",
       "        if (typeof require !== 'undefined') {\n",
       "        require.undef(\"plotly\");\n",
       "        requirejs.config({\n",
       "            paths: {\n",
       "                'plotly': ['https://cdn.plot.ly/plotly-2.16.1.min']\n",
       "            }\n",
       "        });\n",
       "        require(['plotly'], function(Plotly) {\n",
       "            window._Plotly = Plotly;\n",
       "        });\n",
       "        }\n",
       "        </script>\n",
       "        "
      ]
     },
     "metadata": {},
     "output_type": "display_data"
    },
    {
     "data": {
      "application/vnd.jupyter.widget-view+json": {
       "model_id": "c3cc15de2d244322be783e3aabd78d9e",
       "version_major": 2,
       "version_minor": 0
      },
      "text/plain": [
       "interactive(children=(SelectMultiple(description='Trip Purpose', index=(0,), options=('HBW', 'HBShp', 'HBOth',…"
      ]
     },
     "metadata": {},
     "output_type": "display_data"
    },
    {
     "data": {
      "application/vnd.plotly.v1+json": {
       "config": {
        "linkText": "Export to plot.ly",
        "plotlyServerURL": "https://plot.ly",
        "showLink": false
       },
       "data": [
        {
         "line": {
          "shape": "spline"
         },
         "mode": "lines",
         "name": "HBW GC",
         "type": "scatter",
         "x": [
          0,
          2,
          4,
          6,
          8,
          10,
          12,
          14,
          16,
          18,
          20,
          22,
          24,
          26,
          28,
          30,
          32,
          34,
          36,
          38,
          40,
          42,
          44,
          46,
          48,
          50,
          52,
          54,
          56,
          58,
          60,
          62,
          64,
          66,
          68,
          70,
          72,
          74,
          76,
          78,
          80,
          82,
          84,
          86,
          88,
          90,
          92,
          94,
          96,
          98,
          100,
          102,
          104,
          106,
          108,
          110,
          112,
          114,
          116,
          118,
          120,
          122,
          124,
          126,
          128,
          130,
          132,
          134,
          136,
          138,
          140,
          142,
          144,
          146,
          148,
          150,
          152,
          154,
          156,
          158,
          160,
          162,
          164,
          166,
          168,
          170,
          172,
          174,
          176,
          178,
          180,
          182,
          184,
          186,
          188,
          190,
          192,
          194,
          196,
          198,
          200,
          202,
          204,
          206,
          208,
          210,
          212,
          214,
          216,
          218,
          220,
          222,
          224,
          226,
          228,
          230,
          232,
          234,
          236,
          238,
          240,
          242,
          244,
          246,
          248,
          250,
          252,
          254,
          256,
          258,
          260,
          262,
          264,
          266,
          268,
          270,
          272,
          274,
          276,
          278,
          280,
          282,
          284,
          286,
          288,
          290,
          292,
          294,
          296,
          298,
          300,
          302,
          304,
          306,
          308,
          310,
          312,
          314,
          316,
          318,
          320,
          322,
          324,
          326,
          328,
          330,
          332,
          334,
          336,
          338,
          340,
          342,
          344,
          346,
          348,
          350,
          352,
          354,
          356,
          358,
          360,
          362,
          364,
          366,
          368,
          370,
          372,
          374,
          376,
          378,
          380,
          382,
          384,
          386,
          388,
          390,
          392,
          394,
          396,
          398,
          400,
          402,
          404,
          406,
          408,
          410
         ],
         "y": [
          0,
          0.0119538,
          0.0228316,
          0.0335149,
          0.0420331,
          0.0485383,
          0.0535914,
          0.055372,
          0.0542562,
          0.0514845,
          0.0487137,
          0.045943,
          0.0431718,
          0.0404011,
          0.0376294,
          0.0352425,
          0.0328553,
          0.0304679,
          0.0280814,
          0.0256939,
          0.0236246,
          0.021556,
          0.0194868,
          0.0174183,
          0.0153492,
          0.0140439,
          0.0127386,
          0.0114331,
          0.0101277,
          0.0089226,
          0.0079165,
          0.0070609,
          0.00626,
          0.0055587,
          0.0050572,
          0.0046556,
          0.0042543,
          0.0039025,
          0.0035511,
          0.0032497,
          0.0030549,
          0.0029103,
          0.0027654,
          0.0026706,
          0.0025757,
          0.0024812,
          0.0023864,
          0.0022915,
          0.0021967,
          0.0021018,
          0.0020068,
          0.0019122,
          0.0018174,
          0.0017226,
          0.0016276,
          0.0015329,
          0.0014382,
          0.0013435,
          0.0012489,
          0.0011572,
          0.0010656,
          0.0009738,
          0.0008821,
          0.0007905,
          0.0006988,
          0.0006071,
          0.0005154,
          0.0004637,
          0.0004319,
          0.0004201,
          0.0003955,
          0.000371,
          0.0003466,
          0.0003221,
          0.0002976,
          0.0002731,
          0.0002486,
          0.0002241,
          0.0001996,
          0.0001752,
          0.0001507,
          0.0001261,
          0.0001066,
          0.0000921,
          0.0000776,
          0.0000682,
          0.0000592,
          0.0000512,
          0.0000452,
          0.0000392,
          0.0000332,
          0.0000272,
          0.0000237,
          0.0000212,
          0.0000191,
          0.0000181,
          0.0000171,
          0.0000161,
          0.0000151,
          0.0000141,
          0.0000131,
          0.0000121,
          0.0000111,
          0.0000101,
          0.0000091,
          0.0000081,
          0.0000071,
          0.000006,
          0.000005,
          0.000004,
          0.000003,
          0.000002,
          0.000001,
          0,
          0,
          0,
          0,
          0,
          0,
          0,
          0,
          0,
          0,
          0,
          0,
          0,
          0,
          0,
          0,
          0,
          0,
          0,
          0,
          0,
          0,
          0,
          0,
          0,
          0,
          0,
          0,
          0,
          0,
          0,
          0,
          0,
          0,
          0,
          0,
          0,
          0,
          0,
          0,
          0,
          0,
          0,
          0,
          0,
          0,
          0,
          0,
          0,
          0,
          0,
          0,
          0,
          0,
          0,
          0,
          0,
          0,
          0,
          0,
          0,
          0,
          0,
          0,
          0,
          0,
          0,
          0,
          0,
          0,
          0,
          0,
          0,
          0,
          0,
          0,
          0,
          0,
          0,
          0,
          0,
          0,
          0,
          0,
          0,
          0,
          0,
          0,
          0,
          0,
          0,
          0,
          0
         ]
        }
       ],
       "layout": {
        "height": 450,
        "template": {
         "data": {
          "bar": [
           {
            "error_x": {
             "color": "#2a3f5f"
            },
            "error_y": {
             "color": "#2a3f5f"
            },
            "marker": {
             "line": {
              "color": "#E5ECF6",
              "width": 0.5
             },
             "pattern": {
              "fillmode": "overlay",
              "size": 10,
              "solidity": 0.2
             }
            },
            "type": "bar"
           }
          ],
          "barpolar": [
           {
            "marker": {
             "line": {
              "color": "#E5ECF6",
              "width": 0.5
             },
             "pattern": {
              "fillmode": "overlay",
              "size": 10,
              "solidity": 0.2
             }
            },
            "type": "barpolar"
           }
          ],
          "carpet": [
           {
            "aaxis": {
             "endlinecolor": "#2a3f5f",
             "gridcolor": "white",
             "linecolor": "white",
             "minorgridcolor": "white",
             "startlinecolor": "#2a3f5f"
            },
            "baxis": {
             "endlinecolor": "#2a3f5f",
             "gridcolor": "white",
             "linecolor": "white",
             "minorgridcolor": "white",
             "startlinecolor": "#2a3f5f"
            },
            "type": "carpet"
           }
          ],
          "choropleth": [
           {
            "colorbar": {
             "outlinewidth": 0,
             "ticks": ""
            },
            "type": "choropleth"
           }
          ],
          "contour": [
           {
            "colorbar": {
             "outlinewidth": 0,
             "ticks": ""
            },
            "colorscale": [
             [
              0,
              "#0d0887"
             ],
             [
              0.1111111111111111,
              "#46039f"
             ],
             [
              0.2222222222222222,
              "#7201a8"
             ],
             [
              0.3333333333333333,
              "#9c179e"
             ],
             [
              0.4444444444444444,
              "#bd3786"
             ],
             [
              0.5555555555555556,
              "#d8576b"
             ],
             [
              0.6666666666666666,
              "#ed7953"
             ],
             [
              0.7777777777777778,
              "#fb9f3a"
             ],
             [
              0.8888888888888888,
              "#fdca26"
             ],
             [
              1,
              "#f0f921"
             ]
            ],
            "type": "contour"
           }
          ],
          "contourcarpet": [
           {
            "colorbar": {
             "outlinewidth": 0,
             "ticks": ""
            },
            "type": "contourcarpet"
           }
          ],
          "heatmap": [
           {
            "colorbar": {
             "outlinewidth": 0,
             "ticks": ""
            },
            "colorscale": [
             [
              0,
              "#0d0887"
             ],
             [
              0.1111111111111111,
              "#46039f"
             ],
             [
              0.2222222222222222,
              "#7201a8"
             ],
             [
              0.3333333333333333,
              "#9c179e"
             ],
             [
              0.4444444444444444,
              "#bd3786"
             ],
             [
              0.5555555555555556,
              "#d8576b"
             ],
             [
              0.6666666666666666,
              "#ed7953"
             ],
             [
              0.7777777777777778,
              "#fb9f3a"
             ],
             [
              0.8888888888888888,
              "#fdca26"
             ],
             [
              1,
              "#f0f921"
             ]
            ],
            "type": "heatmap"
           }
          ],
          "heatmapgl": [
           {
            "colorbar": {
             "outlinewidth": 0,
             "ticks": ""
            },
            "colorscale": [
             [
              0,
              "#0d0887"
             ],
             [
              0.1111111111111111,
              "#46039f"
             ],
             [
              0.2222222222222222,
              "#7201a8"
             ],
             [
              0.3333333333333333,
              "#9c179e"
             ],
             [
              0.4444444444444444,
              "#bd3786"
             ],
             [
              0.5555555555555556,
              "#d8576b"
             ],
             [
              0.6666666666666666,
              "#ed7953"
             ],
             [
              0.7777777777777778,
              "#fb9f3a"
             ],
             [
              0.8888888888888888,
              "#fdca26"
             ],
             [
              1,
              "#f0f921"
             ]
            ],
            "type": "heatmapgl"
           }
          ],
          "histogram": [
           {
            "marker": {
             "pattern": {
              "fillmode": "overlay",
              "size": 10,
              "solidity": 0.2
             }
            },
            "type": "histogram"
           }
          ],
          "histogram2d": [
           {
            "colorbar": {
             "outlinewidth": 0,
             "ticks": ""
            },
            "colorscale": [
             [
              0,
              "#0d0887"
             ],
             [
              0.1111111111111111,
              "#46039f"
             ],
             [
              0.2222222222222222,
              "#7201a8"
             ],
             [
              0.3333333333333333,
              "#9c179e"
             ],
             [
              0.4444444444444444,
              "#bd3786"
             ],
             [
              0.5555555555555556,
              "#d8576b"
             ],
             [
              0.6666666666666666,
              "#ed7953"
             ],
             [
              0.7777777777777778,
              "#fb9f3a"
             ],
             [
              0.8888888888888888,
              "#fdca26"
             ],
             [
              1,
              "#f0f921"
             ]
            ],
            "type": "histogram2d"
           }
          ],
          "histogram2dcontour": [
           {
            "colorbar": {
             "outlinewidth": 0,
             "ticks": ""
            },
            "colorscale": [
             [
              0,
              "#0d0887"
             ],
             [
              0.1111111111111111,
              "#46039f"
             ],
             [
              0.2222222222222222,
              "#7201a8"
             ],
             [
              0.3333333333333333,
              "#9c179e"
             ],
             [
              0.4444444444444444,
              "#bd3786"
             ],
             [
              0.5555555555555556,
              "#d8576b"
             ],
             [
              0.6666666666666666,
              "#ed7953"
             ],
             [
              0.7777777777777778,
              "#fb9f3a"
             ],
             [
              0.8888888888888888,
              "#fdca26"
             ],
             [
              1,
              "#f0f921"
             ]
            ],
            "type": "histogram2dcontour"
           }
          ],
          "mesh3d": [
           {
            "colorbar": {
             "outlinewidth": 0,
             "ticks": ""
            },
            "type": "mesh3d"
           }
          ],
          "parcoords": [
           {
            "line": {
             "colorbar": {
              "outlinewidth": 0,
              "ticks": ""
             }
            },
            "type": "parcoords"
           }
          ],
          "pie": [
           {
            "automargin": true,
            "type": "pie"
           }
          ],
          "scatter": [
           {
            "fillpattern": {
             "fillmode": "overlay",
             "size": 10,
             "solidity": 0.2
            },
            "type": "scatter"
           }
          ],
          "scatter3d": [
           {
            "line": {
             "colorbar": {
              "outlinewidth": 0,
              "ticks": ""
             }
            },
            "marker": {
             "colorbar": {
              "outlinewidth": 0,
              "ticks": ""
             }
            },
            "type": "scatter3d"
           }
          ],
          "scattercarpet": [
           {
            "marker": {
             "colorbar": {
              "outlinewidth": 0,
              "ticks": ""
             }
            },
            "type": "scattercarpet"
           }
          ],
          "scattergeo": [
           {
            "marker": {
             "colorbar": {
              "outlinewidth": 0,
              "ticks": ""
             }
            },
            "type": "scattergeo"
           }
          ],
          "scattergl": [
           {
            "marker": {
             "colorbar": {
              "outlinewidth": 0,
              "ticks": ""
             }
            },
            "type": "scattergl"
           }
          ],
          "scattermapbox": [
           {
            "marker": {
             "colorbar": {
              "outlinewidth": 0,
              "ticks": ""
             }
            },
            "type": "scattermapbox"
           }
          ],
          "scatterpolar": [
           {
            "marker": {
             "colorbar": {
              "outlinewidth": 0,
              "ticks": ""
             }
            },
            "type": "scatterpolar"
           }
          ],
          "scatterpolargl": [
           {
            "marker": {
             "colorbar": {
              "outlinewidth": 0,
              "ticks": ""
             }
            },
            "type": "scatterpolargl"
           }
          ],
          "scatterternary": [
           {
            "marker": {
             "colorbar": {
              "outlinewidth": 0,
              "ticks": ""
             }
            },
            "type": "scatterternary"
           }
          ],
          "surface": [
           {
            "colorbar": {
             "outlinewidth": 0,
             "ticks": ""
            },
            "colorscale": [
             [
              0,
              "#0d0887"
             ],
             [
              0.1111111111111111,
              "#46039f"
             ],
             [
              0.2222222222222222,
              "#7201a8"
             ],
             [
              0.3333333333333333,
              "#9c179e"
             ],
             [
              0.4444444444444444,
              "#bd3786"
             ],
             [
              0.5555555555555556,
              "#d8576b"
             ],
             [
              0.6666666666666666,
              "#ed7953"
             ],
             [
              0.7777777777777778,
              "#fb9f3a"
             ],
             [
              0.8888888888888888,
              "#fdca26"
             ],
             [
              1,
              "#f0f921"
             ]
            ],
            "type": "surface"
           }
          ],
          "table": [
           {
            "cells": {
             "fill": {
              "color": "#EBF0F8"
             },
             "line": {
              "color": "white"
             }
            },
            "header": {
             "fill": {
              "color": "#C8D4E3"
             },
             "line": {
              "color": "white"
             }
            },
            "type": "table"
           }
          ]
         },
         "layout": {
          "annotationdefaults": {
           "arrowcolor": "#2a3f5f",
           "arrowhead": 0,
           "arrowwidth": 1
          },
          "autotypenumbers": "strict",
          "coloraxis": {
           "colorbar": {
            "outlinewidth": 0,
            "ticks": ""
           }
          },
          "colorscale": {
           "diverging": [
            [
             0,
             "#8e0152"
            ],
            [
             0.1,
             "#c51b7d"
            ],
            [
             0.2,
             "#de77ae"
            ],
            [
             0.3,
             "#f1b6da"
            ],
            [
             0.4,
             "#fde0ef"
            ],
            [
             0.5,
             "#f7f7f7"
            ],
            [
             0.6,
             "#e6f5d0"
            ],
            [
             0.7,
             "#b8e186"
            ],
            [
             0.8,
             "#7fbc41"
            ],
            [
             0.9,
             "#4d9221"
            ],
            [
             1,
             "#276419"
            ]
           ],
           "sequential": [
            [
             0,
             "#0d0887"
            ],
            [
             0.1111111111111111,
             "#46039f"
            ],
            [
             0.2222222222222222,
             "#7201a8"
            ],
            [
             0.3333333333333333,
             "#9c179e"
            ],
            [
             0.4444444444444444,
             "#bd3786"
            ],
            [
             0.5555555555555556,
             "#d8576b"
            ],
            [
             0.6666666666666666,
             "#ed7953"
            ],
            [
             0.7777777777777778,
             "#fb9f3a"
            ],
            [
             0.8888888888888888,
             "#fdca26"
            ],
            [
             1,
             "#f0f921"
            ]
           ],
           "sequentialminus": [
            [
             0,
             "#0d0887"
            ],
            [
             0.1111111111111111,
             "#46039f"
            ],
            [
             0.2222222222222222,
             "#7201a8"
            ],
            [
             0.3333333333333333,
             "#9c179e"
            ],
            [
             0.4444444444444444,
             "#bd3786"
            ],
            [
             0.5555555555555556,
             "#d8576b"
            ],
            [
             0.6666666666666666,
             "#ed7953"
            ],
            [
             0.7777777777777778,
             "#fb9f3a"
            ],
            [
             0.8888888888888888,
             "#fdca26"
            ],
            [
             1,
             "#f0f921"
            ]
           ]
          },
          "colorway": [
           "#636efa",
           "#EF553B",
           "#00cc96",
           "#ab63fa",
           "#FFA15A",
           "#19d3f3",
           "#FF6692",
           "#B6E880",
           "#FF97FF",
           "#FECB52"
          ],
          "font": {
           "color": "#2a3f5f"
          },
          "geo": {
           "bgcolor": "white",
           "lakecolor": "white",
           "landcolor": "#E5ECF6",
           "showlakes": true,
           "showland": true,
           "subunitcolor": "white"
          },
          "hoverlabel": {
           "align": "left"
          },
          "hovermode": "closest",
          "mapbox": {
           "style": "light"
          },
          "paper_bgcolor": "white",
          "plot_bgcolor": "#E5ECF6",
          "polar": {
           "angularaxis": {
            "gridcolor": "white",
            "linecolor": "white",
            "ticks": ""
           },
           "bgcolor": "#E5ECF6",
           "radialaxis": {
            "gridcolor": "white",
            "linecolor": "white",
            "ticks": ""
           }
          },
          "scene": {
           "xaxis": {
            "backgroundcolor": "#E5ECF6",
            "gridcolor": "white",
            "gridwidth": 2,
            "linecolor": "white",
            "showbackground": true,
            "ticks": "",
            "zerolinecolor": "white"
           },
           "yaxis": {
            "backgroundcolor": "#E5ECF6",
            "gridcolor": "white",
            "gridwidth": 2,
            "linecolor": "white",
            "showbackground": true,
            "ticks": "",
            "zerolinecolor": "white"
           },
           "zaxis": {
            "backgroundcolor": "#E5ECF6",
            "gridcolor": "white",
            "gridwidth": 2,
            "linecolor": "white",
            "showbackground": true,
            "ticks": "",
            "zerolinecolor": "white"
           }
          },
          "shapedefaults": {
           "line": {
            "color": "#2a3f5f"
           }
          },
          "ternary": {
           "aaxis": {
            "gridcolor": "white",
            "linecolor": "white",
            "ticks": ""
           },
           "baxis": {
            "gridcolor": "white",
            "linecolor": "white",
            "ticks": ""
           },
           "bgcolor": "#E5ECF6",
           "caxis": {
            "gridcolor": "white",
            "linecolor": "white",
            "ticks": ""
           }
          },
          "title": {
           "x": 0.05
          },
          "xaxis": {
           "automargin": true,
           "gridcolor": "white",
           "linecolor": "white",
           "ticks": "",
           "title": {
            "standoff": 15
           },
           "zerolinecolor": "white",
           "zerolinewidth": 2
          },
          "yaxis": {
           "automargin": true,
           "gridcolor": "white",
           "linecolor": "white",
           "ticks": "",
           "title": {
            "standoff": 15
           },
           "zerolinecolor": "white",
           "zerolinewidth": 2
          }
         }
        },
        "title": {
         "text": "Trip Length Frequencies - Observed Data"
        },
        "xaxis": {
         "range": [
          null,
          null
         ],
         "title": {
          "text": "GC/Dist/Time"
         }
        },
        "yaxis": {
         "range": [
          null,
          null
         ],
         "title": {
          "text": ""
         }
        }
       }
      },
      "text/html": [
       "<div>                            <div id=\"65098188-0931-4e0e-ae5d-2a8aed5f174f\" class=\"plotly-graph-div\" style=\"height:450px; width:100%;\"></div>            <script type=\"text/javascript\">                require([\"plotly\"], function(Plotly) {                    window.PLOTLYENV=window.PLOTLYENV || {};                                    if (document.getElementById(\"65098188-0931-4e0e-ae5d-2a8aed5f174f\")) {                    Plotly.newPlot(                        \"65098188-0931-4e0e-ae5d-2a8aed5f174f\",                        [{\"line\":{\"shape\":\"spline\"},\"mode\":\"lines\",\"name\":\"HBW GC\",\"x\":[0.0,2.0,4.0,6.0,8.0,10.0,12.0,14.0,16.0,18.0,20.0,22.0,24.0,26.0,28.0,30.0,32.0,34.0,36.0,38.0,40.0,42.0,44.0,46.0,48.0,50.0,52.0,54.0,56.0,58.0,60.0,62.0,64.0,66.0,68.0,70.0,72.0,74.0,76.0,78.0,80.0,82.0,84.0,86.0,88.0,90.0,92.0,94.0,96.0,98.0,100.0,102.0,104.0,106.0,108.0,110.0,112.0,114.0,116.0,118.0,120.0,122.0,124.0,126.0,128.0,130.0,132.0,134.0,136.0,138.0,140.0,142.0,144.0,146.0,148.0,150.0,152.0,154.0,156.0,158.0,160.0,162.0,164.0,166.0,168.0,170.0,172.0,174.0,176.0,178.0,180.0,182.0,184.0,186.0,188.0,190.0,192.0,194.0,196.0,198.0,200.0,202.0,204.0,206.0,208.0,210.0,212.0,214.0,216.0,218.0,220.0,222.0,224.0,226.0,228.0,230.0,232.0,234.0,236.0,238.0,240.0,242.0,244.0,246.0,248.0,250.0,252.0,254.0,256.0,258.0,260.0,262.0,264.0,266.0,268.0,270.0,272.0,274.0,276.0,278.0,280.0,282.0,284.0,286.0,288.0,290.0,292.0,294.0,296.0,298.0,300.0,302.0,304.0,306.0,308.0,310.0,312.0,314.0,316.0,318.0,320.0,322.0,324.0,326.0,328.0,330.0,332.0,334.0,336.0,338.0,340.0,342.0,344.0,346.0,348.0,350.0,352.0,354.0,356.0,358.0,360.0,362.0,364.0,366.0,368.0,370.0,372.0,374.0,376.0,378.0,380.0,382.0,384.0,386.0,388.0,390.0,392.0,394.0,396.0,398.0,400.0,402.0,404.0,406.0,408.0,410.0],\"y\":[0.0,0.0119538,0.0228316,0.0335149,0.0420331,0.0485383,0.0535914,0.055372,0.0542562,0.0514845,0.0487137,0.045943,0.0431718,0.0404011,0.0376294,0.0352425,0.0328553,0.0304679,0.0280814,0.0256939,0.0236246,0.021556,0.0194868,0.0174183,0.0153492,0.0140439,0.0127386,0.0114331,0.0101277,0.0089226,0.0079165,0.0070609,0.00626,0.0055587,0.0050572,0.0046556,0.0042543,0.0039025,0.0035511,0.0032497,0.0030549,0.0029103,0.0027654,0.0026706,0.0025757,0.0024812,0.0023864,0.0022915,0.0021967,0.0021018,0.0020068,0.0019122,0.0018174,0.0017226,0.0016276,0.0015329,0.0014382,0.0013435,0.0012489,0.0011572,0.0010656,0.0009738,0.0008821,0.0007905,0.0006988,0.0006071,0.0005154,0.0004637,0.0004319,0.0004201,0.0003955,0.000371,0.0003466,0.0003221,0.0002976,0.0002731,0.0002486,0.0002241,0.0001996,0.0001752,0.0001507,0.0001261,0.0001066,9.21e-05,7.76e-05,6.82e-05,5.92e-05,5.12e-05,4.52e-05,3.92e-05,3.32e-05,2.72e-05,2.37e-05,2.12e-05,1.91e-05,1.81e-05,1.71e-05,1.61e-05,1.51e-05,1.41e-05,1.31e-05,1.21e-05,1.11e-05,1.01e-05,9.1e-06,8.1e-06,7.1e-06,6e-06,5e-06,4e-06,3e-06,2e-06,1e-06,0.0,0.0,0.0,0.0,0.0,0.0,0.0,0.0,0.0,0.0,0.0,0.0,0.0,0.0,0.0,0.0,0.0,0.0,0.0,0.0,0.0,0.0,0.0,0.0,0.0,0.0,0.0,0.0,0.0,0.0,0.0,0.0,0.0,0.0,0.0,0.0,0.0,0.0,0.0,0.0,0.0,0.0,0.0,0.0,0.0,0.0,0.0,0.0,0.0,0.0,0.0,0.0,0.0,0.0,0.0,0.0,0.0,0.0,0.0,0.0,0.0,0.0,0.0,0.0,0.0,0.0,0.0,0.0,0.0,0.0,0.0,0.0,0.0,0.0,0.0,0.0,0.0,0.0,0.0,0.0,0.0,0.0,0.0,0.0,0.0,0.0,0.0,0.0,0.0,0.0,0.0,0.0,0.0],\"type\":\"scatter\"}],                        {\"height\":450,\"template\":{\"data\":{\"barpolar\":[{\"marker\":{\"line\":{\"color\":\"#E5ECF6\",\"width\":0.5},\"pattern\":{\"fillmode\":\"overlay\",\"size\":10,\"solidity\":0.2}},\"type\":\"barpolar\"}],\"bar\":[{\"error_x\":{\"color\":\"#2a3f5f\"},\"error_y\":{\"color\":\"#2a3f5f\"},\"marker\":{\"line\":{\"color\":\"#E5ECF6\",\"width\":0.5},\"pattern\":{\"fillmode\":\"overlay\",\"size\":10,\"solidity\":0.2}},\"type\":\"bar\"}],\"carpet\":[{\"aaxis\":{\"endlinecolor\":\"#2a3f5f\",\"gridcolor\":\"white\",\"linecolor\":\"white\",\"minorgridcolor\":\"white\",\"startlinecolor\":\"#2a3f5f\"},\"baxis\":{\"endlinecolor\":\"#2a3f5f\",\"gridcolor\":\"white\",\"linecolor\":\"white\",\"minorgridcolor\":\"white\",\"startlinecolor\":\"#2a3f5f\"},\"type\":\"carpet\"}],\"choropleth\":[{\"colorbar\":{\"outlinewidth\":0,\"ticks\":\"\"},\"type\":\"choropleth\"}],\"contourcarpet\":[{\"colorbar\":{\"outlinewidth\":0,\"ticks\":\"\"},\"type\":\"contourcarpet\"}],\"contour\":[{\"colorbar\":{\"outlinewidth\":0,\"ticks\":\"\"},\"colorscale\":[[0.0,\"#0d0887\"],[0.1111111111111111,\"#46039f\"],[0.2222222222222222,\"#7201a8\"],[0.3333333333333333,\"#9c179e\"],[0.4444444444444444,\"#bd3786\"],[0.5555555555555556,\"#d8576b\"],[0.6666666666666666,\"#ed7953\"],[0.7777777777777778,\"#fb9f3a\"],[0.8888888888888888,\"#fdca26\"],[1.0,\"#f0f921\"]],\"type\":\"contour\"}],\"heatmapgl\":[{\"colorbar\":{\"outlinewidth\":0,\"ticks\":\"\"},\"colorscale\":[[0.0,\"#0d0887\"],[0.1111111111111111,\"#46039f\"],[0.2222222222222222,\"#7201a8\"],[0.3333333333333333,\"#9c179e\"],[0.4444444444444444,\"#bd3786\"],[0.5555555555555556,\"#d8576b\"],[0.6666666666666666,\"#ed7953\"],[0.7777777777777778,\"#fb9f3a\"],[0.8888888888888888,\"#fdca26\"],[1.0,\"#f0f921\"]],\"type\":\"heatmapgl\"}],\"heatmap\":[{\"colorbar\":{\"outlinewidth\":0,\"ticks\":\"\"},\"colorscale\":[[0.0,\"#0d0887\"],[0.1111111111111111,\"#46039f\"],[0.2222222222222222,\"#7201a8\"],[0.3333333333333333,\"#9c179e\"],[0.4444444444444444,\"#bd3786\"],[0.5555555555555556,\"#d8576b\"],[0.6666666666666666,\"#ed7953\"],[0.7777777777777778,\"#fb9f3a\"],[0.8888888888888888,\"#fdca26\"],[1.0,\"#f0f921\"]],\"type\":\"heatmap\"}],\"histogram2dcontour\":[{\"colorbar\":{\"outlinewidth\":0,\"ticks\":\"\"},\"colorscale\":[[0.0,\"#0d0887\"],[0.1111111111111111,\"#46039f\"],[0.2222222222222222,\"#7201a8\"],[0.3333333333333333,\"#9c179e\"],[0.4444444444444444,\"#bd3786\"],[0.5555555555555556,\"#d8576b\"],[0.6666666666666666,\"#ed7953\"],[0.7777777777777778,\"#fb9f3a\"],[0.8888888888888888,\"#fdca26\"],[1.0,\"#f0f921\"]],\"type\":\"histogram2dcontour\"}],\"histogram2d\":[{\"colorbar\":{\"outlinewidth\":0,\"ticks\":\"\"},\"colorscale\":[[0.0,\"#0d0887\"],[0.1111111111111111,\"#46039f\"],[0.2222222222222222,\"#7201a8\"],[0.3333333333333333,\"#9c179e\"],[0.4444444444444444,\"#bd3786\"],[0.5555555555555556,\"#d8576b\"],[0.6666666666666666,\"#ed7953\"],[0.7777777777777778,\"#fb9f3a\"],[0.8888888888888888,\"#fdca26\"],[1.0,\"#f0f921\"]],\"type\":\"histogram2d\"}],\"histogram\":[{\"marker\":{\"pattern\":{\"fillmode\":\"overlay\",\"size\":10,\"solidity\":0.2}},\"type\":\"histogram\"}],\"mesh3d\":[{\"colorbar\":{\"outlinewidth\":0,\"ticks\":\"\"},\"type\":\"mesh3d\"}],\"parcoords\":[{\"line\":{\"colorbar\":{\"outlinewidth\":0,\"ticks\":\"\"}},\"type\":\"parcoords\"}],\"pie\":[{\"automargin\":true,\"type\":\"pie\"}],\"scatter3d\":[{\"line\":{\"colorbar\":{\"outlinewidth\":0,\"ticks\":\"\"}},\"marker\":{\"colorbar\":{\"outlinewidth\":0,\"ticks\":\"\"}},\"type\":\"scatter3d\"}],\"scattercarpet\":[{\"marker\":{\"colorbar\":{\"outlinewidth\":0,\"ticks\":\"\"}},\"type\":\"scattercarpet\"}],\"scattergeo\":[{\"marker\":{\"colorbar\":{\"outlinewidth\":0,\"ticks\":\"\"}},\"type\":\"scattergeo\"}],\"scattergl\":[{\"marker\":{\"colorbar\":{\"outlinewidth\":0,\"ticks\":\"\"}},\"type\":\"scattergl\"}],\"scattermapbox\":[{\"marker\":{\"colorbar\":{\"outlinewidth\":0,\"ticks\":\"\"}},\"type\":\"scattermapbox\"}],\"scatterpolargl\":[{\"marker\":{\"colorbar\":{\"outlinewidth\":0,\"ticks\":\"\"}},\"type\":\"scatterpolargl\"}],\"scatterpolar\":[{\"marker\":{\"colorbar\":{\"outlinewidth\":0,\"ticks\":\"\"}},\"type\":\"scatterpolar\"}],\"scatter\":[{\"fillpattern\":{\"fillmode\":\"overlay\",\"size\":10,\"solidity\":0.2},\"type\":\"scatter\"}],\"scatterternary\":[{\"marker\":{\"colorbar\":{\"outlinewidth\":0,\"ticks\":\"\"}},\"type\":\"scatterternary\"}],\"surface\":[{\"colorbar\":{\"outlinewidth\":0,\"ticks\":\"\"},\"colorscale\":[[0.0,\"#0d0887\"],[0.1111111111111111,\"#46039f\"],[0.2222222222222222,\"#7201a8\"],[0.3333333333333333,\"#9c179e\"],[0.4444444444444444,\"#bd3786\"],[0.5555555555555556,\"#d8576b\"],[0.6666666666666666,\"#ed7953\"],[0.7777777777777778,\"#fb9f3a\"],[0.8888888888888888,\"#fdca26\"],[1.0,\"#f0f921\"]],\"type\":\"surface\"}],\"table\":[{\"cells\":{\"fill\":{\"color\":\"#EBF0F8\"},\"line\":{\"color\":\"white\"}},\"header\":{\"fill\":{\"color\":\"#C8D4E3\"},\"line\":{\"color\":\"white\"}},\"type\":\"table\"}]},\"layout\":{\"annotationdefaults\":{\"arrowcolor\":\"#2a3f5f\",\"arrowhead\":0,\"arrowwidth\":1},\"autotypenumbers\":\"strict\",\"coloraxis\":{\"colorbar\":{\"outlinewidth\":0,\"ticks\":\"\"}},\"colorscale\":{\"diverging\":[[0,\"#8e0152\"],[0.1,\"#c51b7d\"],[0.2,\"#de77ae\"],[0.3,\"#f1b6da\"],[0.4,\"#fde0ef\"],[0.5,\"#f7f7f7\"],[0.6,\"#e6f5d0\"],[0.7,\"#b8e186\"],[0.8,\"#7fbc41\"],[0.9,\"#4d9221\"],[1,\"#276419\"]],\"sequential\":[[0.0,\"#0d0887\"],[0.1111111111111111,\"#46039f\"],[0.2222222222222222,\"#7201a8\"],[0.3333333333333333,\"#9c179e\"],[0.4444444444444444,\"#bd3786\"],[0.5555555555555556,\"#d8576b\"],[0.6666666666666666,\"#ed7953\"],[0.7777777777777778,\"#fb9f3a\"],[0.8888888888888888,\"#fdca26\"],[1.0,\"#f0f921\"]],\"sequentialminus\":[[0.0,\"#0d0887\"],[0.1111111111111111,\"#46039f\"],[0.2222222222222222,\"#7201a8\"],[0.3333333333333333,\"#9c179e\"],[0.4444444444444444,\"#bd3786\"],[0.5555555555555556,\"#d8576b\"],[0.6666666666666666,\"#ed7953\"],[0.7777777777777778,\"#fb9f3a\"],[0.8888888888888888,\"#fdca26\"],[1.0,\"#f0f921\"]]},\"colorway\":[\"#636efa\",\"#EF553B\",\"#00cc96\",\"#ab63fa\",\"#FFA15A\",\"#19d3f3\",\"#FF6692\",\"#B6E880\",\"#FF97FF\",\"#FECB52\"],\"font\":{\"color\":\"#2a3f5f\"},\"geo\":{\"bgcolor\":\"white\",\"lakecolor\":\"white\",\"landcolor\":\"#E5ECF6\",\"showlakes\":true,\"showland\":true,\"subunitcolor\":\"white\"},\"hoverlabel\":{\"align\":\"left\"},\"hovermode\":\"closest\",\"mapbox\":{\"style\":\"light\"},\"paper_bgcolor\":\"white\",\"plot_bgcolor\":\"#E5ECF6\",\"polar\":{\"angularaxis\":{\"gridcolor\":\"white\",\"linecolor\":\"white\",\"ticks\":\"\"},\"bgcolor\":\"#E5ECF6\",\"radialaxis\":{\"gridcolor\":\"white\",\"linecolor\":\"white\",\"ticks\":\"\"}},\"scene\":{\"xaxis\":{\"backgroundcolor\":\"#E5ECF6\",\"gridcolor\":\"white\",\"gridwidth\":2,\"linecolor\":\"white\",\"showbackground\":true,\"ticks\":\"\",\"zerolinecolor\":\"white\"},\"yaxis\":{\"backgroundcolor\":\"#E5ECF6\",\"gridcolor\":\"white\",\"gridwidth\":2,\"linecolor\":\"white\",\"showbackground\":true,\"ticks\":\"\",\"zerolinecolor\":\"white\"},\"zaxis\":{\"backgroundcolor\":\"#E5ECF6\",\"gridcolor\":\"white\",\"gridwidth\":2,\"linecolor\":\"white\",\"showbackground\":true,\"ticks\":\"\",\"zerolinecolor\":\"white\"}},\"shapedefaults\":{\"line\":{\"color\":\"#2a3f5f\"}},\"ternary\":{\"aaxis\":{\"gridcolor\":\"white\",\"linecolor\":\"white\",\"ticks\":\"\"},\"baxis\":{\"gridcolor\":\"white\",\"linecolor\":\"white\",\"ticks\":\"\"},\"bgcolor\":\"#E5ECF6\",\"caxis\":{\"gridcolor\":\"white\",\"linecolor\":\"white\",\"ticks\":\"\"}},\"title\":{\"x\":0.05},\"xaxis\":{\"automargin\":true,\"gridcolor\":\"white\",\"linecolor\":\"white\",\"ticks\":\"\",\"title\":{\"standoff\":15},\"zerolinecolor\":\"white\",\"zerolinewidth\":2},\"yaxis\":{\"automargin\":true,\"gridcolor\":\"white\",\"linecolor\":\"white\",\"ticks\":\"\",\"title\":{\"standoff\":15},\"zerolinecolor\":\"white\",\"zerolinewidth\":2}}},\"title\":{\"text\":\"Trip Length Frequencies - Observed Data\"},\"xaxis\":{\"range\":[null,null],\"title\":{\"text\":\"GC/Dist/Time\"}},\"yaxis\":{\"range\":[null,null],\"title\":{\"text\":\"\"}}},                        {\"responsive\": true}                    ).then(function(){\n",
       "                            \n",
       "var gd = document.getElementById('65098188-0931-4e0e-ae5d-2a8aed5f174f');\n",
       "var x = new MutationObserver(function (mutations, observer) {{\n",
       "        var display = window.getComputedStyle(gd).display;\n",
       "        if (!display || display === 'none') {{\n",
       "            console.log([gd, 'removed!']);\n",
       "            Plotly.purge(gd);\n",
       "            observer.disconnect();\n",
       "        }}\n",
       "}});\n",
       "\n",
       "// Listen for the removal of the full notebook cells\n",
       "var notebookContainer = gd.closest('#notebook-container');\n",
       "if (notebookContainer) {{\n",
       "    x.observe(notebookContainer, {childList: true});\n",
       "}}\n",
       "\n",
       "// Listen for the clearing of the current output cell\n",
       "var outputEl = gd.closest('.output');\n",
       "if (outputEl) {{\n",
       "    x.observe(outputEl, {childList: true});\n",
       "}}\n",
       "\n",
       "                        })                };                });            </script>        </div>"
      ]
     },
     "metadata": {},
     "output_type": "display_data"
    },
    {
     "data": {
      "application/vnd.plotly.v1+json": {
       "config": {
        "linkText": "Export to plot.ly",
        "plotlyServerURL": "https://plot.ly",
        "showLink": false
       },
       "data": [
        {
         "line": {
          "shape": "spline"
         },
         "mode": "lines",
         "name": "HBSchPr GC",
         "type": "scatter",
         "x": [
          0,
          2,
          4,
          6,
          8,
          10,
          12,
          14,
          16,
          18,
          20,
          22,
          24,
          26,
          28,
          30,
          32,
          34,
          36,
          38,
          40,
          42,
          44,
          46,
          48,
          50,
          52,
          54,
          56,
          58,
          60,
          62,
          64,
          66,
          68,
          70,
          72,
          74,
          76,
          78,
          80,
          82,
          84,
          86,
          88,
          90,
          92,
          94,
          96,
          98,
          100,
          102,
          104,
          106,
          108,
          110,
          112,
          114,
          116,
          118,
          120,
          122,
          124,
          126,
          128,
          130,
          132,
          134,
          136,
          138,
          140,
          142,
          144,
          146,
          148,
          150,
          152,
          154,
          156,
          158,
          160,
          162,
          164,
          166,
          168,
          170,
          172,
          174,
          176,
          178,
          180,
          182,
          184,
          186,
          188,
          190,
          192,
          194,
          196,
          198,
          200,
          202,
          204,
          206,
          208,
          210,
          212,
          214,
          216,
          218,
          220,
          222,
          224,
          226,
          228,
          230,
          232,
          234,
          236,
          238,
          240,
          242,
          244,
          246,
          248,
          250,
          252,
          254,
          256,
          258,
          260,
          262,
          264,
          266,
          268,
          270,
          272,
          274,
          276,
          278,
          280,
          282,
          284,
          286,
          288,
          290,
          292,
          294,
          296,
          298,
          300,
          302,
          304,
          306,
          308,
          310,
          312,
          314,
          316,
          318,
          320,
          322,
          324,
          326,
          328,
          330,
          332,
          334,
          336,
          338,
          340,
          342,
          344,
          346,
          348,
          350,
          352,
          354,
          356,
          358,
          360,
          362,
          364,
          366,
          368,
          370,
          372,
          374,
          376,
          378,
          380,
          382,
          384,
          386,
          388,
          390,
          392,
          394,
          396,
          398,
          400,
          402,
          404,
          406,
          408,
          410
         ],
         "y": [
          0,
          0.0750644,
          0.1832963,
          0.3400813,
          0.2018129,
          0.0419616,
          0.0269109,
          0.0201779,
          0.0183334,
          0.0164889,
          0.0146444,
          0.0127999,
          0.0109554,
          0.0091109,
          0.0072663,
          0.0060843,
          0.0049022,
          0.0037202,
          0.0025382,
          0.0013561,
          0.0004989,
          0.0004989,
          0.0004989,
          0.0004989,
          0.0004989,
          0,
          0,
          0,
          0,
          0,
          0,
          0,
          0,
          0,
          0,
          0,
          0,
          0,
          0,
          0,
          0,
          0,
          0,
          0,
          0,
          0,
          0,
          0,
          0,
          0,
          0,
          0,
          0,
          0,
          0,
          0,
          0,
          0,
          0,
          0,
          0,
          0,
          0,
          0,
          0,
          0,
          0,
          0,
          0,
          0,
          0,
          0,
          0,
          0,
          0,
          0,
          0,
          0,
          0,
          0,
          0,
          0,
          0,
          0,
          0,
          0,
          0,
          0,
          0,
          0,
          0,
          0,
          0,
          0,
          0,
          0,
          0,
          0,
          0,
          0,
          0,
          0,
          0,
          0,
          0,
          0,
          0,
          0,
          0,
          0,
          0,
          0,
          0,
          0,
          0,
          0,
          0,
          0,
          0,
          0,
          0,
          0,
          0,
          0,
          0,
          0,
          0,
          0,
          0,
          0,
          0,
          0,
          0,
          0,
          0,
          0,
          0,
          0,
          0,
          0,
          0,
          0,
          0,
          0,
          0,
          0,
          0,
          0,
          0,
          0,
          0,
          0,
          0,
          0,
          0,
          0,
          0,
          0,
          0,
          0,
          0,
          0,
          0,
          0,
          0,
          0,
          0,
          0,
          0,
          0,
          0,
          0,
          0,
          0,
          0,
          0,
          0,
          0,
          0,
          0,
          0,
          0,
          0,
          0,
          0,
          0,
          0,
          0,
          0,
          0,
          0,
          0,
          0,
          0,
          0,
          0,
          0,
          0,
          0,
          0,
          0,
          0,
          0,
          0,
          0,
          0
         ]
        }
       ],
       "layout": {
        "height": 450,
        "template": {
         "data": {
          "bar": [
           {
            "error_x": {
             "color": "#2a3f5f"
            },
            "error_y": {
             "color": "#2a3f5f"
            },
            "marker": {
             "line": {
              "color": "#E5ECF6",
              "width": 0.5
             },
             "pattern": {
              "fillmode": "overlay",
              "size": 10,
              "solidity": 0.2
             }
            },
            "type": "bar"
           }
          ],
          "barpolar": [
           {
            "marker": {
             "line": {
              "color": "#E5ECF6",
              "width": 0.5
             },
             "pattern": {
              "fillmode": "overlay",
              "size": 10,
              "solidity": 0.2
             }
            },
            "type": "barpolar"
           }
          ],
          "carpet": [
           {
            "aaxis": {
             "endlinecolor": "#2a3f5f",
             "gridcolor": "white",
             "linecolor": "white",
             "minorgridcolor": "white",
             "startlinecolor": "#2a3f5f"
            },
            "baxis": {
             "endlinecolor": "#2a3f5f",
             "gridcolor": "white",
             "linecolor": "white",
             "minorgridcolor": "white",
             "startlinecolor": "#2a3f5f"
            },
            "type": "carpet"
           }
          ],
          "choropleth": [
           {
            "colorbar": {
             "outlinewidth": 0,
             "ticks": ""
            },
            "type": "choropleth"
           }
          ],
          "contour": [
           {
            "colorbar": {
             "outlinewidth": 0,
             "ticks": ""
            },
            "colorscale": [
             [
              0,
              "#0d0887"
             ],
             [
              0.1111111111111111,
              "#46039f"
             ],
             [
              0.2222222222222222,
              "#7201a8"
             ],
             [
              0.3333333333333333,
              "#9c179e"
             ],
             [
              0.4444444444444444,
              "#bd3786"
             ],
             [
              0.5555555555555556,
              "#d8576b"
             ],
             [
              0.6666666666666666,
              "#ed7953"
             ],
             [
              0.7777777777777778,
              "#fb9f3a"
             ],
             [
              0.8888888888888888,
              "#fdca26"
             ],
             [
              1,
              "#f0f921"
             ]
            ],
            "type": "contour"
           }
          ],
          "contourcarpet": [
           {
            "colorbar": {
             "outlinewidth": 0,
             "ticks": ""
            },
            "type": "contourcarpet"
           }
          ],
          "heatmap": [
           {
            "colorbar": {
             "outlinewidth": 0,
             "ticks": ""
            },
            "colorscale": [
             [
              0,
              "#0d0887"
             ],
             [
              0.1111111111111111,
              "#46039f"
             ],
             [
              0.2222222222222222,
              "#7201a8"
             ],
             [
              0.3333333333333333,
              "#9c179e"
             ],
             [
              0.4444444444444444,
              "#bd3786"
             ],
             [
              0.5555555555555556,
              "#d8576b"
             ],
             [
              0.6666666666666666,
              "#ed7953"
             ],
             [
              0.7777777777777778,
              "#fb9f3a"
             ],
             [
              0.8888888888888888,
              "#fdca26"
             ],
             [
              1,
              "#f0f921"
             ]
            ],
            "type": "heatmap"
           }
          ],
          "heatmapgl": [
           {
            "colorbar": {
             "outlinewidth": 0,
             "ticks": ""
            },
            "colorscale": [
             [
              0,
              "#0d0887"
             ],
             [
              0.1111111111111111,
              "#46039f"
             ],
             [
              0.2222222222222222,
              "#7201a8"
             ],
             [
              0.3333333333333333,
              "#9c179e"
             ],
             [
              0.4444444444444444,
              "#bd3786"
             ],
             [
              0.5555555555555556,
              "#d8576b"
             ],
             [
              0.6666666666666666,
              "#ed7953"
             ],
             [
              0.7777777777777778,
              "#fb9f3a"
             ],
             [
              0.8888888888888888,
              "#fdca26"
             ],
             [
              1,
              "#f0f921"
             ]
            ],
            "type": "heatmapgl"
           }
          ],
          "histogram": [
           {
            "marker": {
             "pattern": {
              "fillmode": "overlay",
              "size": 10,
              "solidity": 0.2
             }
            },
            "type": "histogram"
           }
          ],
          "histogram2d": [
           {
            "colorbar": {
             "outlinewidth": 0,
             "ticks": ""
            },
            "colorscale": [
             [
              0,
              "#0d0887"
             ],
             [
              0.1111111111111111,
              "#46039f"
             ],
             [
              0.2222222222222222,
              "#7201a8"
             ],
             [
              0.3333333333333333,
              "#9c179e"
             ],
             [
              0.4444444444444444,
              "#bd3786"
             ],
             [
              0.5555555555555556,
              "#d8576b"
             ],
             [
              0.6666666666666666,
              "#ed7953"
             ],
             [
              0.7777777777777778,
              "#fb9f3a"
             ],
             [
              0.8888888888888888,
              "#fdca26"
             ],
             [
              1,
              "#f0f921"
             ]
            ],
            "type": "histogram2d"
           }
          ],
          "histogram2dcontour": [
           {
            "colorbar": {
             "outlinewidth": 0,
             "ticks": ""
            },
            "colorscale": [
             [
              0,
              "#0d0887"
             ],
             [
              0.1111111111111111,
              "#46039f"
             ],
             [
              0.2222222222222222,
              "#7201a8"
             ],
             [
              0.3333333333333333,
              "#9c179e"
             ],
             [
              0.4444444444444444,
              "#bd3786"
             ],
             [
              0.5555555555555556,
              "#d8576b"
             ],
             [
              0.6666666666666666,
              "#ed7953"
             ],
             [
              0.7777777777777778,
              "#fb9f3a"
             ],
             [
              0.8888888888888888,
              "#fdca26"
             ],
             [
              1,
              "#f0f921"
             ]
            ],
            "type": "histogram2dcontour"
           }
          ],
          "mesh3d": [
           {
            "colorbar": {
             "outlinewidth": 0,
             "ticks": ""
            },
            "type": "mesh3d"
           }
          ],
          "parcoords": [
           {
            "line": {
             "colorbar": {
              "outlinewidth": 0,
              "ticks": ""
             }
            },
            "type": "parcoords"
           }
          ],
          "pie": [
           {
            "automargin": true,
            "type": "pie"
           }
          ],
          "scatter": [
           {
            "fillpattern": {
             "fillmode": "overlay",
             "size": 10,
             "solidity": 0.2
            },
            "type": "scatter"
           }
          ],
          "scatter3d": [
           {
            "line": {
             "colorbar": {
              "outlinewidth": 0,
              "ticks": ""
             }
            },
            "marker": {
             "colorbar": {
              "outlinewidth": 0,
              "ticks": ""
             }
            },
            "type": "scatter3d"
           }
          ],
          "scattercarpet": [
           {
            "marker": {
             "colorbar": {
              "outlinewidth": 0,
              "ticks": ""
             }
            },
            "type": "scattercarpet"
           }
          ],
          "scattergeo": [
           {
            "marker": {
             "colorbar": {
              "outlinewidth": 0,
              "ticks": ""
             }
            },
            "type": "scattergeo"
           }
          ],
          "scattergl": [
           {
            "marker": {
             "colorbar": {
              "outlinewidth": 0,
              "ticks": ""
             }
            },
            "type": "scattergl"
           }
          ],
          "scattermapbox": [
           {
            "marker": {
             "colorbar": {
              "outlinewidth": 0,
              "ticks": ""
             }
            },
            "type": "scattermapbox"
           }
          ],
          "scatterpolar": [
           {
            "marker": {
             "colorbar": {
              "outlinewidth": 0,
              "ticks": ""
             }
            },
            "type": "scatterpolar"
           }
          ],
          "scatterpolargl": [
           {
            "marker": {
             "colorbar": {
              "outlinewidth": 0,
              "ticks": ""
             }
            },
            "type": "scatterpolargl"
           }
          ],
          "scatterternary": [
           {
            "marker": {
             "colorbar": {
              "outlinewidth": 0,
              "ticks": ""
             }
            },
            "type": "scatterternary"
           }
          ],
          "surface": [
           {
            "colorbar": {
             "outlinewidth": 0,
             "ticks": ""
            },
            "colorscale": [
             [
              0,
              "#0d0887"
             ],
             [
              0.1111111111111111,
              "#46039f"
             ],
             [
              0.2222222222222222,
              "#7201a8"
             ],
             [
              0.3333333333333333,
              "#9c179e"
             ],
             [
              0.4444444444444444,
              "#bd3786"
             ],
             [
              0.5555555555555556,
              "#d8576b"
             ],
             [
              0.6666666666666666,
              "#ed7953"
             ],
             [
              0.7777777777777778,
              "#fb9f3a"
             ],
             [
              0.8888888888888888,
              "#fdca26"
             ],
             [
              1,
              "#f0f921"
             ]
            ],
            "type": "surface"
           }
          ],
          "table": [
           {
            "cells": {
             "fill": {
              "color": "#EBF0F8"
             },
             "line": {
              "color": "white"
             }
            },
            "header": {
             "fill": {
              "color": "#C8D4E3"
             },
             "line": {
              "color": "white"
             }
            },
            "type": "table"
           }
          ]
         },
         "layout": {
          "annotationdefaults": {
           "arrowcolor": "#2a3f5f",
           "arrowhead": 0,
           "arrowwidth": 1
          },
          "autotypenumbers": "strict",
          "coloraxis": {
           "colorbar": {
            "outlinewidth": 0,
            "ticks": ""
           }
          },
          "colorscale": {
           "diverging": [
            [
             0,
             "#8e0152"
            ],
            [
             0.1,
             "#c51b7d"
            ],
            [
             0.2,
             "#de77ae"
            ],
            [
             0.3,
             "#f1b6da"
            ],
            [
             0.4,
             "#fde0ef"
            ],
            [
             0.5,
             "#f7f7f7"
            ],
            [
             0.6,
             "#e6f5d0"
            ],
            [
             0.7,
             "#b8e186"
            ],
            [
             0.8,
             "#7fbc41"
            ],
            [
             0.9,
             "#4d9221"
            ],
            [
             1,
             "#276419"
            ]
           ],
           "sequential": [
            [
             0,
             "#0d0887"
            ],
            [
             0.1111111111111111,
             "#46039f"
            ],
            [
             0.2222222222222222,
             "#7201a8"
            ],
            [
             0.3333333333333333,
             "#9c179e"
            ],
            [
             0.4444444444444444,
             "#bd3786"
            ],
            [
             0.5555555555555556,
             "#d8576b"
            ],
            [
             0.6666666666666666,
             "#ed7953"
            ],
            [
             0.7777777777777778,
             "#fb9f3a"
            ],
            [
             0.8888888888888888,
             "#fdca26"
            ],
            [
             1,
             "#f0f921"
            ]
           ],
           "sequentialminus": [
            [
             0,
             "#0d0887"
            ],
            [
             0.1111111111111111,
             "#46039f"
            ],
            [
             0.2222222222222222,
             "#7201a8"
            ],
            [
             0.3333333333333333,
             "#9c179e"
            ],
            [
             0.4444444444444444,
             "#bd3786"
            ],
            [
             0.5555555555555556,
             "#d8576b"
            ],
            [
             0.6666666666666666,
             "#ed7953"
            ],
            [
             0.7777777777777778,
             "#fb9f3a"
            ],
            [
             0.8888888888888888,
             "#fdca26"
            ],
            [
             1,
             "#f0f921"
            ]
           ]
          },
          "colorway": [
           "#636efa",
           "#EF553B",
           "#00cc96",
           "#ab63fa",
           "#FFA15A",
           "#19d3f3",
           "#FF6692",
           "#B6E880",
           "#FF97FF",
           "#FECB52"
          ],
          "font": {
           "color": "#2a3f5f"
          },
          "geo": {
           "bgcolor": "white",
           "lakecolor": "white",
           "landcolor": "#E5ECF6",
           "showlakes": true,
           "showland": true,
           "subunitcolor": "white"
          },
          "hoverlabel": {
           "align": "left"
          },
          "hovermode": "closest",
          "mapbox": {
           "style": "light"
          },
          "paper_bgcolor": "white",
          "plot_bgcolor": "#E5ECF6",
          "polar": {
           "angularaxis": {
            "gridcolor": "white",
            "linecolor": "white",
            "ticks": ""
           },
           "bgcolor": "#E5ECF6",
           "radialaxis": {
            "gridcolor": "white",
            "linecolor": "white",
            "ticks": ""
           }
          },
          "scene": {
           "xaxis": {
            "backgroundcolor": "#E5ECF6",
            "gridcolor": "white",
            "gridwidth": 2,
            "linecolor": "white",
            "showbackground": true,
            "ticks": "",
            "zerolinecolor": "white"
           },
           "yaxis": {
            "backgroundcolor": "#E5ECF6",
            "gridcolor": "white",
            "gridwidth": 2,
            "linecolor": "white",
            "showbackground": true,
            "ticks": "",
            "zerolinecolor": "white"
           },
           "zaxis": {
            "backgroundcolor": "#E5ECF6",
            "gridcolor": "white",
            "gridwidth": 2,
            "linecolor": "white",
            "showbackground": true,
            "ticks": "",
            "zerolinecolor": "white"
           }
          },
          "shapedefaults": {
           "line": {
            "color": "#2a3f5f"
           }
          },
          "ternary": {
           "aaxis": {
            "gridcolor": "white",
            "linecolor": "white",
            "ticks": ""
           },
           "baxis": {
            "gridcolor": "white",
            "linecolor": "white",
            "ticks": ""
           },
           "bgcolor": "#E5ECF6",
           "caxis": {
            "gridcolor": "white",
            "linecolor": "white",
            "ticks": ""
           }
          },
          "title": {
           "x": 0.05
          },
          "xaxis": {
           "automargin": true,
           "gridcolor": "white",
           "linecolor": "white",
           "ticks": "",
           "title": {
            "standoff": 15
           },
           "zerolinecolor": "white",
           "zerolinewidth": 2
          },
          "yaxis": {
           "automargin": true,
           "gridcolor": "white",
           "linecolor": "white",
           "ticks": "",
           "title": {
            "standoff": 15
           },
           "zerolinecolor": "white",
           "zerolinewidth": 2
          }
         }
        },
        "title": {
         "text": "Trip Length Frequencies - Observed Data"
        },
        "xaxis": {
         "range": [
          null,
          null
         ],
         "title": {
          "text": "GC/Dist/Time"
         }
        },
        "yaxis": {
         "range": [
          null,
          null
         ],
         "title": {
          "text": ""
         }
        }
       }
      },
      "text/html": [
       "<div>                            <div id=\"f06b373c-45c7-4e59-a508-bb7b4182d8ab\" class=\"plotly-graph-div\" style=\"height:450px; width:100%;\"></div>            <script type=\"text/javascript\">                require([\"plotly\"], function(Plotly) {                    window.PLOTLYENV=window.PLOTLYENV || {};                                    if (document.getElementById(\"f06b373c-45c7-4e59-a508-bb7b4182d8ab\")) {                    Plotly.newPlot(                        \"f06b373c-45c7-4e59-a508-bb7b4182d8ab\",                        [{\"line\":{\"shape\":\"spline\"},\"mode\":\"lines\",\"name\":\"HBSchPr GC\",\"x\":[0.0,2.0,4.0,6.0,8.0,10.0,12.0,14.0,16.0,18.0,20.0,22.0,24.0,26.0,28.0,30.0,32.0,34.0,36.0,38.0,40.0,42.0,44.0,46.0,48.0,50.0,52.0,54.0,56.0,58.0,60.0,62.0,64.0,66.0,68.0,70.0,72.0,74.0,76.0,78.0,80.0,82.0,84.0,86.0,88.0,90.0,92.0,94.0,96.0,98.0,100.0,102.0,104.0,106.0,108.0,110.0,112.0,114.0,116.0,118.0,120.0,122.0,124.0,126.0,128.0,130.0,132.0,134.0,136.0,138.0,140.0,142.0,144.0,146.0,148.0,150.0,152.0,154.0,156.0,158.0,160.0,162.0,164.0,166.0,168.0,170.0,172.0,174.0,176.0,178.0,180.0,182.0,184.0,186.0,188.0,190.0,192.0,194.0,196.0,198.0,200.0,202.0,204.0,206.0,208.0,210.0,212.0,214.0,216.0,218.0,220.0,222.0,224.0,226.0,228.0,230.0,232.0,234.0,236.0,238.0,240.0,242.0,244.0,246.0,248.0,250.0,252.0,254.0,256.0,258.0,260.0,262.0,264.0,266.0,268.0,270.0,272.0,274.0,276.0,278.0,280.0,282.0,284.0,286.0,288.0,290.0,292.0,294.0,296.0,298.0,300.0,302.0,304.0,306.0,308.0,310.0,312.0,314.0,316.0,318.0,320.0,322.0,324.0,326.0,328.0,330.0,332.0,334.0,336.0,338.0,340.0,342.0,344.0,346.0,348.0,350.0,352.0,354.0,356.0,358.0,360.0,362.0,364.0,366.0,368.0,370.0,372.0,374.0,376.0,378.0,380.0,382.0,384.0,386.0,388.0,390.0,392.0,394.0,396.0,398.0,400.0,402.0,404.0,406.0,408.0,410.0],\"y\":[0.0,0.0750644,0.1832963,0.3400813,0.2018129,0.0419616,0.0269109,0.0201779,0.0183334,0.0164889,0.0146444,0.0127999,0.0109554,0.0091109,0.0072663,0.0060843,0.0049022,0.0037202,0.0025382,0.0013561,0.0004989,0.0004989,0.0004989,0.0004989,0.0004989,0.0,0.0,0.0,0.0,0.0,0.0,0.0,0.0,0.0,0.0,0.0,0.0,0.0,0.0,0.0,0.0,0.0,0.0,0.0,0.0,0.0,0.0,0.0,0.0,0.0,0.0,0.0,0.0,0.0,0.0,0.0,0.0,0.0,0.0,0.0,0.0,0.0,0.0,0.0,0.0,0.0,0.0,0.0,0.0,0.0,0.0,0.0,0.0,0.0,0.0,0.0,0.0,0.0,0.0,0.0,0.0,0.0,0.0,0.0,0.0,0.0,0.0,0.0,0.0,0.0,0.0,0.0,0.0,0.0,0.0,0.0,0.0,0.0,0.0,0.0,0.0,0.0,0.0,0.0,0.0,0.0,0.0,0.0,0.0,0.0,0.0,0.0,0.0,0.0,0.0,0.0,0.0,0.0,0.0,0.0,0.0,0.0,0.0,0.0,0.0,0.0,0.0,0.0,0.0,0.0,0.0,0.0,0.0,0.0,0.0,0.0,0.0,0.0,0.0,0.0,0.0,0.0,0.0,0.0,0.0,0.0,0.0,0.0,0.0,0.0,0.0,0.0,0.0,0.0,0.0,0.0,0.0,0.0,0.0,0.0,0.0,0.0,0.0,0.0,0.0,0.0,0.0,0.0,0.0,0.0,0.0,0.0,0.0,0.0,0.0,0.0,0.0,0.0,0.0,0.0,0.0,0.0,0.0,0.0,0.0,0.0,0.0,0.0,0.0,0.0,0.0,0.0,0.0,0.0,0.0,0.0,0.0,0.0,0.0,0.0,0.0,0.0,0.0,0.0,0.0,0.0],\"type\":\"scatter\"}],                        {\"height\":450,\"template\":{\"data\":{\"barpolar\":[{\"marker\":{\"line\":{\"color\":\"#E5ECF6\",\"width\":0.5},\"pattern\":{\"fillmode\":\"overlay\",\"size\":10,\"solidity\":0.2}},\"type\":\"barpolar\"}],\"bar\":[{\"error_x\":{\"color\":\"#2a3f5f\"},\"error_y\":{\"color\":\"#2a3f5f\"},\"marker\":{\"line\":{\"color\":\"#E5ECF6\",\"width\":0.5},\"pattern\":{\"fillmode\":\"overlay\",\"size\":10,\"solidity\":0.2}},\"type\":\"bar\"}],\"carpet\":[{\"aaxis\":{\"endlinecolor\":\"#2a3f5f\",\"gridcolor\":\"white\",\"linecolor\":\"white\",\"minorgridcolor\":\"white\",\"startlinecolor\":\"#2a3f5f\"},\"baxis\":{\"endlinecolor\":\"#2a3f5f\",\"gridcolor\":\"white\",\"linecolor\":\"white\",\"minorgridcolor\":\"white\",\"startlinecolor\":\"#2a3f5f\"},\"type\":\"carpet\"}],\"choropleth\":[{\"colorbar\":{\"outlinewidth\":0,\"ticks\":\"\"},\"type\":\"choropleth\"}],\"contourcarpet\":[{\"colorbar\":{\"outlinewidth\":0,\"ticks\":\"\"},\"type\":\"contourcarpet\"}],\"contour\":[{\"colorbar\":{\"outlinewidth\":0,\"ticks\":\"\"},\"colorscale\":[[0.0,\"#0d0887\"],[0.1111111111111111,\"#46039f\"],[0.2222222222222222,\"#7201a8\"],[0.3333333333333333,\"#9c179e\"],[0.4444444444444444,\"#bd3786\"],[0.5555555555555556,\"#d8576b\"],[0.6666666666666666,\"#ed7953\"],[0.7777777777777778,\"#fb9f3a\"],[0.8888888888888888,\"#fdca26\"],[1.0,\"#f0f921\"]],\"type\":\"contour\"}],\"heatmapgl\":[{\"colorbar\":{\"outlinewidth\":0,\"ticks\":\"\"},\"colorscale\":[[0.0,\"#0d0887\"],[0.1111111111111111,\"#46039f\"],[0.2222222222222222,\"#7201a8\"],[0.3333333333333333,\"#9c179e\"],[0.4444444444444444,\"#bd3786\"],[0.5555555555555556,\"#d8576b\"],[0.6666666666666666,\"#ed7953\"],[0.7777777777777778,\"#fb9f3a\"],[0.8888888888888888,\"#fdca26\"],[1.0,\"#f0f921\"]],\"type\":\"heatmapgl\"}],\"heatmap\":[{\"colorbar\":{\"outlinewidth\":0,\"ticks\":\"\"},\"colorscale\":[[0.0,\"#0d0887\"],[0.1111111111111111,\"#46039f\"],[0.2222222222222222,\"#7201a8\"],[0.3333333333333333,\"#9c179e\"],[0.4444444444444444,\"#bd3786\"],[0.5555555555555556,\"#d8576b\"],[0.6666666666666666,\"#ed7953\"],[0.7777777777777778,\"#fb9f3a\"],[0.8888888888888888,\"#fdca26\"],[1.0,\"#f0f921\"]],\"type\":\"heatmap\"}],\"histogram2dcontour\":[{\"colorbar\":{\"outlinewidth\":0,\"ticks\":\"\"},\"colorscale\":[[0.0,\"#0d0887\"],[0.1111111111111111,\"#46039f\"],[0.2222222222222222,\"#7201a8\"],[0.3333333333333333,\"#9c179e\"],[0.4444444444444444,\"#bd3786\"],[0.5555555555555556,\"#d8576b\"],[0.6666666666666666,\"#ed7953\"],[0.7777777777777778,\"#fb9f3a\"],[0.8888888888888888,\"#fdca26\"],[1.0,\"#f0f921\"]],\"type\":\"histogram2dcontour\"}],\"histogram2d\":[{\"colorbar\":{\"outlinewidth\":0,\"ticks\":\"\"},\"colorscale\":[[0.0,\"#0d0887\"],[0.1111111111111111,\"#46039f\"],[0.2222222222222222,\"#7201a8\"],[0.3333333333333333,\"#9c179e\"],[0.4444444444444444,\"#bd3786\"],[0.5555555555555556,\"#d8576b\"],[0.6666666666666666,\"#ed7953\"],[0.7777777777777778,\"#fb9f3a\"],[0.8888888888888888,\"#fdca26\"],[1.0,\"#f0f921\"]],\"type\":\"histogram2d\"}],\"histogram\":[{\"marker\":{\"pattern\":{\"fillmode\":\"overlay\",\"size\":10,\"solidity\":0.2}},\"type\":\"histogram\"}],\"mesh3d\":[{\"colorbar\":{\"outlinewidth\":0,\"ticks\":\"\"},\"type\":\"mesh3d\"}],\"parcoords\":[{\"line\":{\"colorbar\":{\"outlinewidth\":0,\"ticks\":\"\"}},\"type\":\"parcoords\"}],\"pie\":[{\"automargin\":true,\"type\":\"pie\"}],\"scatter3d\":[{\"line\":{\"colorbar\":{\"outlinewidth\":0,\"ticks\":\"\"}},\"marker\":{\"colorbar\":{\"outlinewidth\":0,\"ticks\":\"\"}},\"type\":\"scatter3d\"}],\"scattercarpet\":[{\"marker\":{\"colorbar\":{\"outlinewidth\":0,\"ticks\":\"\"}},\"type\":\"scattercarpet\"}],\"scattergeo\":[{\"marker\":{\"colorbar\":{\"outlinewidth\":0,\"ticks\":\"\"}},\"type\":\"scattergeo\"}],\"scattergl\":[{\"marker\":{\"colorbar\":{\"outlinewidth\":0,\"ticks\":\"\"}},\"type\":\"scattergl\"}],\"scattermapbox\":[{\"marker\":{\"colorbar\":{\"outlinewidth\":0,\"ticks\":\"\"}},\"type\":\"scattermapbox\"}],\"scatterpolargl\":[{\"marker\":{\"colorbar\":{\"outlinewidth\":0,\"ticks\":\"\"}},\"type\":\"scatterpolargl\"}],\"scatterpolar\":[{\"marker\":{\"colorbar\":{\"outlinewidth\":0,\"ticks\":\"\"}},\"type\":\"scatterpolar\"}],\"scatter\":[{\"fillpattern\":{\"fillmode\":\"overlay\",\"size\":10,\"solidity\":0.2},\"type\":\"scatter\"}],\"scatterternary\":[{\"marker\":{\"colorbar\":{\"outlinewidth\":0,\"ticks\":\"\"}},\"type\":\"scatterternary\"}],\"surface\":[{\"colorbar\":{\"outlinewidth\":0,\"ticks\":\"\"},\"colorscale\":[[0.0,\"#0d0887\"],[0.1111111111111111,\"#46039f\"],[0.2222222222222222,\"#7201a8\"],[0.3333333333333333,\"#9c179e\"],[0.4444444444444444,\"#bd3786\"],[0.5555555555555556,\"#d8576b\"],[0.6666666666666666,\"#ed7953\"],[0.7777777777777778,\"#fb9f3a\"],[0.8888888888888888,\"#fdca26\"],[1.0,\"#f0f921\"]],\"type\":\"surface\"}],\"table\":[{\"cells\":{\"fill\":{\"color\":\"#EBF0F8\"},\"line\":{\"color\":\"white\"}},\"header\":{\"fill\":{\"color\":\"#C8D4E3\"},\"line\":{\"color\":\"white\"}},\"type\":\"table\"}]},\"layout\":{\"annotationdefaults\":{\"arrowcolor\":\"#2a3f5f\",\"arrowhead\":0,\"arrowwidth\":1},\"autotypenumbers\":\"strict\",\"coloraxis\":{\"colorbar\":{\"outlinewidth\":0,\"ticks\":\"\"}},\"colorscale\":{\"diverging\":[[0,\"#8e0152\"],[0.1,\"#c51b7d\"],[0.2,\"#de77ae\"],[0.3,\"#f1b6da\"],[0.4,\"#fde0ef\"],[0.5,\"#f7f7f7\"],[0.6,\"#e6f5d0\"],[0.7,\"#b8e186\"],[0.8,\"#7fbc41\"],[0.9,\"#4d9221\"],[1,\"#276419\"]],\"sequential\":[[0.0,\"#0d0887\"],[0.1111111111111111,\"#46039f\"],[0.2222222222222222,\"#7201a8\"],[0.3333333333333333,\"#9c179e\"],[0.4444444444444444,\"#bd3786\"],[0.5555555555555556,\"#d8576b\"],[0.6666666666666666,\"#ed7953\"],[0.7777777777777778,\"#fb9f3a\"],[0.8888888888888888,\"#fdca26\"],[1.0,\"#f0f921\"]],\"sequentialminus\":[[0.0,\"#0d0887\"],[0.1111111111111111,\"#46039f\"],[0.2222222222222222,\"#7201a8\"],[0.3333333333333333,\"#9c179e\"],[0.4444444444444444,\"#bd3786\"],[0.5555555555555556,\"#d8576b\"],[0.6666666666666666,\"#ed7953\"],[0.7777777777777778,\"#fb9f3a\"],[0.8888888888888888,\"#fdca26\"],[1.0,\"#f0f921\"]]},\"colorway\":[\"#636efa\",\"#EF553B\",\"#00cc96\",\"#ab63fa\",\"#FFA15A\",\"#19d3f3\",\"#FF6692\",\"#B6E880\",\"#FF97FF\",\"#FECB52\"],\"font\":{\"color\":\"#2a3f5f\"},\"geo\":{\"bgcolor\":\"white\",\"lakecolor\":\"white\",\"landcolor\":\"#E5ECF6\",\"showlakes\":true,\"showland\":true,\"subunitcolor\":\"white\"},\"hoverlabel\":{\"align\":\"left\"},\"hovermode\":\"closest\",\"mapbox\":{\"style\":\"light\"},\"paper_bgcolor\":\"white\",\"plot_bgcolor\":\"#E5ECF6\",\"polar\":{\"angularaxis\":{\"gridcolor\":\"white\",\"linecolor\":\"white\",\"ticks\":\"\"},\"bgcolor\":\"#E5ECF6\",\"radialaxis\":{\"gridcolor\":\"white\",\"linecolor\":\"white\",\"ticks\":\"\"}},\"scene\":{\"xaxis\":{\"backgroundcolor\":\"#E5ECF6\",\"gridcolor\":\"white\",\"gridwidth\":2,\"linecolor\":\"white\",\"showbackground\":true,\"ticks\":\"\",\"zerolinecolor\":\"white\"},\"yaxis\":{\"backgroundcolor\":\"#E5ECF6\",\"gridcolor\":\"white\",\"gridwidth\":2,\"linecolor\":\"white\",\"showbackground\":true,\"ticks\":\"\",\"zerolinecolor\":\"white\"},\"zaxis\":{\"backgroundcolor\":\"#E5ECF6\",\"gridcolor\":\"white\",\"gridwidth\":2,\"linecolor\":\"white\",\"showbackground\":true,\"ticks\":\"\",\"zerolinecolor\":\"white\"}},\"shapedefaults\":{\"line\":{\"color\":\"#2a3f5f\"}},\"ternary\":{\"aaxis\":{\"gridcolor\":\"white\",\"linecolor\":\"white\",\"ticks\":\"\"},\"baxis\":{\"gridcolor\":\"white\",\"linecolor\":\"white\",\"ticks\":\"\"},\"bgcolor\":\"#E5ECF6\",\"caxis\":{\"gridcolor\":\"white\",\"linecolor\":\"white\",\"ticks\":\"\"}},\"title\":{\"x\":0.05},\"xaxis\":{\"automargin\":true,\"gridcolor\":\"white\",\"linecolor\":\"white\",\"ticks\":\"\",\"title\":{\"standoff\":15},\"zerolinecolor\":\"white\",\"zerolinewidth\":2},\"yaxis\":{\"automargin\":true,\"gridcolor\":\"white\",\"linecolor\":\"white\",\"ticks\":\"\",\"title\":{\"standoff\":15},\"zerolinecolor\":\"white\",\"zerolinewidth\":2}}},\"title\":{\"text\":\"Trip Length Frequencies - Observed Data\"},\"xaxis\":{\"range\":[null,null],\"title\":{\"text\":\"GC/Dist/Time\"}},\"yaxis\":{\"range\":[null,null],\"title\":{\"text\":\"\"}}},                        {\"responsive\": true}                    ).then(function(){\n",
       "                            \n",
       "var gd = document.getElementById('f06b373c-45c7-4e59-a508-bb7b4182d8ab');\n",
       "var x = new MutationObserver(function (mutations, observer) {{\n",
       "        var display = window.getComputedStyle(gd).display;\n",
       "        if (!display || display === 'none') {{\n",
       "            console.log([gd, 'removed!']);\n",
       "            Plotly.purge(gd);\n",
       "            observer.disconnect();\n",
       "        }}\n",
       "}});\n",
       "\n",
       "// Listen for the removal of the full notebook cells\n",
       "var notebookContainer = gd.closest('#notebook-container');\n",
       "if (notebookContainer) {{\n",
       "    x.observe(notebookContainer, {childList: true});\n",
       "}}\n",
       "\n",
       "// Listen for the clearing of the current output cell\n",
       "var outputEl = gd.closest('.output');\n",
       "if (outputEl) {{\n",
       "    x.observe(outputEl, {childList: true});\n",
       "}}\n",
       "\n",
       "                        })                };                });            </script>        </div>"
      ]
     },
     "metadata": {},
     "output_type": "display_data"
    }
   ],
   "source": [
    "# MAKE INTERACTIVE CHART\n",
    "py.offline.init_notebook_mode(connected=True)\n",
    "\n",
    "lstTripPurp  = dfTLF_Obs['TRIPPURP'].unique().tolist() # HBW, HBShp, HBOth,...\n",
    "lstTLFType   = dfTLF_Obs['TLFTYPE' ].unique().tolist() # GC, Time, Dist\n",
    "    \n",
    "selectTripPurp  = widgets.SelectMultiple(options=lstTripPurp, value=('HBW'        ,), description='Trip Purpose')\n",
    "selectTLFType   = widgets.SelectMultiple(options=lstTLFType , value=('GC'         ,), description='TLF Type'    )\n",
    "selectPreset    = widgets.Select(options=dfZoomPresets['PRESET'].tolist(), value='All', description='Zoom Presets')\n",
    "\n",
    "#custom extents\n",
    "xmin = widgets.Text(value='0', description='X Min')\n",
    "xmax = widgets.Text(value='60', description='X Max')\n",
    "ymin = widgets.Text(value='0', description='Y Min')\n",
    "ymax = widgets.Text(value='.01', description='Y Max')\n",
    "\n",
    "widgets.interactive(update_plot_obs, trippurps=selectTripPurp, tlftypes=selectTLFType, zoompreset=selectPreset, xmin=xmin, xmax=xmax, ymin=ymin, ymax=ymax)"
   ]
  },
  {
   "cell_type": "code",
   "execution_count": 14,
   "metadata": {},
   "outputs": [
    {
     "data": {
      "text/html": [
       "<div>\n",
       "<style scoped>\n",
       "    .dataframe tbody tr th:only-of-type {\n",
       "        vertical-align: middle;\n",
       "    }\n",
       "\n",
       "    .dataframe tbody tr th {\n",
       "        vertical-align: top;\n",
       "    }\n",
       "\n",
       "    .dataframe thead th {\n",
       "        text-align: right;\n",
       "    }\n",
       "</style>\n",
       "<table border=\"1\" class=\"dataframe\">\n",
       "  <thead>\n",
       "    <tr style=\"text-align: right;\">\n",
       "      <th></th>\n",
       "      <th>TLFTYPE</th>\n",
       "      <th>TRIPPURP</th>\n",
       "      <th>BIN</th>\n",
       "      <th>TRIPS</th>\n",
       "    </tr>\n",
       "  </thead>\n",
       "  <tbody>\n",
       "    <tr>\n",
       "      <th>0</th>\n",
       "      <td>GC</td>\n",
       "      <td>HBW</td>\n",
       "      <td>0</td>\n",
       "      <td>0.00</td>\n",
       "    </tr>\n",
       "    <tr>\n",
       "      <th>1</th>\n",
       "      <td>GC</td>\n",
       "      <td>HBW</td>\n",
       "      <td>1</td>\n",
       "      <td>0.00</td>\n",
       "    </tr>\n",
       "    <tr>\n",
       "      <th>2</th>\n",
       "      <td>GC</td>\n",
       "      <td>HBW</td>\n",
       "      <td>2</td>\n",
       "      <td>5806.63</td>\n",
       "    </tr>\n",
       "    <tr>\n",
       "      <th>3</th>\n",
       "      <td>GC</td>\n",
       "      <td>HBW</td>\n",
       "      <td>3</td>\n",
       "      <td>21119.70</td>\n",
       "    </tr>\n",
       "    <tr>\n",
       "      <th>4</th>\n",
       "      <td>GC</td>\n",
       "      <td>HBW</td>\n",
       "      <td>4</td>\n",
       "      <td>16761.40</td>\n",
       "    </tr>\n",
       "    <tr>\n",
       "      <th>...</th>\n",
       "      <td>...</td>\n",
       "      <td>...</td>\n",
       "      <td>...</td>\n",
       "      <td>...</td>\n",
       "    </tr>\n",
       "    <tr>\n",
       "      <th>12649</th>\n",
       "      <td>Time</td>\n",
       "      <td>Tel_NHBW</td>\n",
       "      <td>196</td>\n",
       "      <td>0.00</td>\n",
       "    </tr>\n",
       "    <tr>\n",
       "      <th>12650</th>\n",
       "      <td>Time</td>\n",
       "      <td>Tel_NHBW</td>\n",
       "      <td>197</td>\n",
       "      <td>0.00</td>\n",
       "    </tr>\n",
       "    <tr>\n",
       "      <th>12651</th>\n",
       "      <td>Time</td>\n",
       "      <td>Tel_NHBW</td>\n",
       "      <td>198</td>\n",
       "      <td>0.00</td>\n",
       "    </tr>\n",
       "    <tr>\n",
       "      <th>12652</th>\n",
       "      <td>Time</td>\n",
       "      <td>Tel_NHBW</td>\n",
       "      <td>199</td>\n",
       "      <td>0.00</td>\n",
       "    </tr>\n",
       "    <tr>\n",
       "      <th>12653</th>\n",
       "      <td>Time</td>\n",
       "      <td>Tel_NHBW</td>\n",
       "      <td>200</td>\n",
       "      <td>0.00</td>\n",
       "    </tr>\n",
       "  </tbody>\n",
       "</table>\n",
       "<p>12654 rows × 4 columns</p>\n",
       "</div>"
      ],
      "text/plain": [
       "      TLFTYPE  TRIPPURP  BIN     TRIPS\n",
       "0          GC       HBW    0      0.00\n",
       "1          GC       HBW    1      0.00\n",
       "2          GC       HBW    2   5806.63\n",
       "3          GC       HBW    3  21119.70\n",
       "4          GC       HBW    4  16761.40\n",
       "...       ...       ...  ...       ...\n",
       "12649    Time  Tel_NHBW  196      0.00\n",
       "12650    Time  Tel_NHBW  197      0.00\n",
       "12651    Time  Tel_NHBW  198      0.00\n",
       "12652    Time  Tel_NHBW  199      0.00\n",
       "12653    Time  Tel_NHBW  200      0.00\n",
       "\n",
       "[12654 rows x 4 columns]"
      ]
     },
     "metadata": {},
     "output_type": "display_data"
    },
    {
     "data": {
      "text/html": [
       "<div>\n",
       "<style scoped>\n",
       "    .dataframe tbody tr th:only-of-type {\n",
       "        vertical-align: middle;\n",
       "    }\n",
       "\n",
       "    .dataframe tbody tr th {\n",
       "        vertical-align: top;\n",
       "    }\n",
       "\n",
       "    .dataframe thead th {\n",
       "        text-align: right;\n",
       "    }\n",
       "</style>\n",
       "<table border=\"1\" class=\"dataframe\">\n",
       "  <thead>\n",
       "    <tr style=\"text-align: right;\">\n",
       "      <th></th>\n",
       "      <th>TLFTYPE</th>\n",
       "      <th>TRIPPURP</th>\n",
       "      <th>BIN</th>\n",
       "      <th>TRIPS</th>\n",
       "    </tr>\n",
       "  </thead>\n",
       "  <tbody>\n",
       "    <tr>\n",
       "      <th>0</th>\n",
       "      <td>Dist</td>\n",
       "      <td>HBO</td>\n",
       "      <td>0</td>\n",
       "      <td>910649.34</td>\n",
       "    </tr>\n",
       "    <tr>\n",
       "      <th>1</th>\n",
       "      <td>Dist</td>\n",
       "      <td>HBO</td>\n",
       "      <td>1</td>\n",
       "      <td>1034931.17</td>\n",
       "    </tr>\n",
       "    <tr>\n",
       "      <th>2</th>\n",
       "      <td>Dist</td>\n",
       "      <td>HBO</td>\n",
       "      <td>2</td>\n",
       "      <td>674422.97</td>\n",
       "    </tr>\n",
       "    <tr>\n",
       "      <th>3</th>\n",
       "      <td>Dist</td>\n",
       "      <td>HBO</td>\n",
       "      <td>3</td>\n",
       "      <td>425223.32</td>\n",
       "    </tr>\n",
       "    <tr>\n",
       "      <th>4</th>\n",
       "      <td>Dist</td>\n",
       "      <td>HBO</td>\n",
       "      <td>4</td>\n",
       "      <td>282306.66</td>\n",
       "    </tr>\n",
       "    <tr>\n",
       "      <th>...</th>\n",
       "      <td>...</td>\n",
       "      <td>...</td>\n",
       "      <td>...</td>\n",
       "      <td>...</td>\n",
       "    </tr>\n",
       "    <tr>\n",
       "      <th>2104</th>\n",
       "      <td>Time</td>\n",
       "      <td>NHB</td>\n",
       "      <td>196</td>\n",
       "      <td>0.00</td>\n",
       "    </tr>\n",
       "    <tr>\n",
       "      <th>2105</th>\n",
       "      <td>Time</td>\n",
       "      <td>NHB</td>\n",
       "      <td>197</td>\n",
       "      <td>0.00</td>\n",
       "    </tr>\n",
       "    <tr>\n",
       "      <th>2106</th>\n",
       "      <td>Time</td>\n",
       "      <td>NHB</td>\n",
       "      <td>198</td>\n",
       "      <td>0.00</td>\n",
       "    </tr>\n",
       "    <tr>\n",
       "      <th>2107</th>\n",
       "      <td>Time</td>\n",
       "      <td>NHB</td>\n",
       "      <td>199</td>\n",
       "      <td>0.00</td>\n",
       "    </tr>\n",
       "    <tr>\n",
       "      <th>2108</th>\n",
       "      <td>Time</td>\n",
       "      <td>NHB</td>\n",
       "      <td>200</td>\n",
       "      <td>0.00</td>\n",
       "    </tr>\n",
       "  </tbody>\n",
       "</table>\n",
       "<p>2109 rows × 4 columns</p>\n",
       "</div>"
      ],
      "text/plain": [
       "     TLFTYPE TRIPPURP  BIN       TRIPS\n",
       "0       Dist      HBO    0   910649.34\n",
       "1       Dist      HBO    1  1034931.17\n",
       "2       Dist      HBO    2   674422.97\n",
       "3       Dist      HBO    3   425223.32\n",
       "4       Dist      HBO    4   282306.66\n",
       "...      ...      ...  ...         ...\n",
       "2104    Time      NHB  196        0.00\n",
       "2105    Time      NHB  197        0.00\n",
       "2106    Time      NHB  198        0.00\n",
       "2107    Time      NHB  199        0.00\n",
       "2108    Time      NHB  200        0.00\n",
       "\n",
       "[2109 rows x 4 columns]"
      ]
     },
     "metadata": {},
     "output_type": "display_data"
    },
    {
     "data": {
      "text/html": [
       "<div>\n",
       "<style scoped>\n",
       "    .dataframe tbody tr th:only-of-type {\n",
       "        vertical-align: middle;\n",
       "    }\n",
       "\n",
       "    .dataframe tbody tr th {\n",
       "        vertical-align: top;\n",
       "    }\n",
       "\n",
       "    .dataframe thead th {\n",
       "        text-align: right;\n",
       "    }\n",
       "</style>\n",
       "<table border=\"1\" class=\"dataframe\">\n",
       "  <thead>\n",
       "    <tr style=\"text-align: right;\">\n",
       "      <th></th>\n",
       "      <th>TLFTYPE</th>\n",
       "      <th>TRIPPURP</th>\n",
       "      <th>BIN</th>\n",
       "      <th>TRIPS</th>\n",
       "    </tr>\n",
       "  </thead>\n",
       "  <tbody>\n",
       "    <tr>\n",
       "      <th>0</th>\n",
       "      <td>GC</td>\n",
       "      <td>HBW</td>\n",
       "      <td>0</td>\n",
       "      <td>0.00</td>\n",
       "    </tr>\n",
       "    <tr>\n",
       "      <th>1</th>\n",
       "      <td>GC</td>\n",
       "      <td>HBW</td>\n",
       "      <td>1</td>\n",
       "      <td>0.00</td>\n",
       "    </tr>\n",
       "    <tr>\n",
       "      <th>2</th>\n",
       "      <td>GC</td>\n",
       "      <td>HBW</td>\n",
       "      <td>2</td>\n",
       "      <td>5806.63</td>\n",
       "    </tr>\n",
       "    <tr>\n",
       "      <th>3</th>\n",
       "      <td>GC</td>\n",
       "      <td>HBW</td>\n",
       "      <td>3</td>\n",
       "      <td>21119.70</td>\n",
       "    </tr>\n",
       "    <tr>\n",
       "      <th>4</th>\n",
       "      <td>GC</td>\n",
       "      <td>HBW</td>\n",
       "      <td>4</td>\n",
       "      <td>16761.40</td>\n",
       "    </tr>\n",
       "    <tr>\n",
       "      <th>...</th>\n",
       "      <td>...</td>\n",
       "      <td>...</td>\n",
       "      <td>...</td>\n",
       "      <td>...</td>\n",
       "    </tr>\n",
       "    <tr>\n",
       "      <th>14758</th>\n",
       "      <td>Time</td>\n",
       "      <td>NHB</td>\n",
       "      <td>196</td>\n",
       "      <td>0.00</td>\n",
       "    </tr>\n",
       "    <tr>\n",
       "      <th>14759</th>\n",
       "      <td>Time</td>\n",
       "      <td>NHB</td>\n",
       "      <td>197</td>\n",
       "      <td>0.00</td>\n",
       "    </tr>\n",
       "    <tr>\n",
       "      <th>14760</th>\n",
       "      <td>Time</td>\n",
       "      <td>NHB</td>\n",
       "      <td>198</td>\n",
       "      <td>0.00</td>\n",
       "    </tr>\n",
       "    <tr>\n",
       "      <th>14761</th>\n",
       "      <td>Time</td>\n",
       "      <td>NHB</td>\n",
       "      <td>199</td>\n",
       "      <td>0.00</td>\n",
       "    </tr>\n",
       "    <tr>\n",
       "      <th>14762</th>\n",
       "      <td>Time</td>\n",
       "      <td>NHB</td>\n",
       "      <td>200</td>\n",
       "      <td>0.00</td>\n",
       "    </tr>\n",
       "  </tbody>\n",
       "</table>\n",
       "<p>14763 rows × 4 columns</p>\n",
       "</div>"
      ],
      "text/plain": [
       "      TLFTYPE TRIPPURP  BIN     TRIPS\n",
       "0          GC      HBW    0      0.00\n",
       "1          GC      HBW    1      0.00\n",
       "2          GC      HBW    2   5806.63\n",
       "3          GC      HBW    3  21119.70\n",
       "4          GC      HBW    4  16761.40\n",
       "...       ...      ...  ...       ...\n",
       "14758    Time      NHB  196      0.00\n",
       "14759    Time      NHB  197      0.00\n",
       "14760    Time      NHB  198      0.00\n",
       "14761    Time      NHB  199      0.00\n",
       "14762    Time      NHB  200      0.00\n",
       "\n",
       "[14763 rows x 4 columns]"
      ]
     },
     "metadata": {},
     "output_type": "display_data"
    },
    {
     "data": {
      "text/html": [
       "<div>\n",
       "<style scoped>\n",
       "    .dataframe tbody tr th:only-of-type {\n",
       "        vertical-align: middle;\n",
       "    }\n",
       "\n",
       "    .dataframe tbody tr th {\n",
       "        vertical-align: top;\n",
       "    }\n",
       "\n",
       "    .dataframe thead th {\n",
       "        text-align: right;\n",
       "    }\n",
       "</style>\n",
       "<table border=\"1\" class=\"dataframe\">\n",
       "  <thead>\n",
       "    <tr style=\"text-align: right;\">\n",
       "      <th></th>\n",
       "      <th>TLFTYPE</th>\n",
       "      <th>TRIPPURP</th>\n",
       "      <th>BIN</th>\n",
       "      <th>TRIPS</th>\n",
       "      <th>BIN_COLLAPSE</th>\n",
       "    </tr>\n",
       "  </thead>\n",
       "  <tbody>\n",
       "    <tr>\n",
       "      <th>0</th>\n",
       "      <td>GC</td>\n",
       "      <td>HBW</td>\n",
       "      <td>0</td>\n",
       "      <td>0.00</td>\n",
       "      <td>0</td>\n",
       "    </tr>\n",
       "    <tr>\n",
       "      <th>1</th>\n",
       "      <td>GC</td>\n",
       "      <td>HBW</td>\n",
       "      <td>1</td>\n",
       "      <td>0.00</td>\n",
       "      <td>0</td>\n",
       "    </tr>\n",
       "    <tr>\n",
       "      <th>2</th>\n",
       "      <td>GC</td>\n",
       "      <td>HBW</td>\n",
       "      <td>2</td>\n",
       "      <td>5806.63</td>\n",
       "      <td>2</td>\n",
       "    </tr>\n",
       "    <tr>\n",
       "      <th>3</th>\n",
       "      <td>GC</td>\n",
       "      <td>HBW</td>\n",
       "      <td>3</td>\n",
       "      <td>21119.70</td>\n",
       "      <td>2</td>\n",
       "    </tr>\n",
       "    <tr>\n",
       "      <th>4</th>\n",
       "      <td>GC</td>\n",
       "      <td>HBW</td>\n",
       "      <td>4</td>\n",
       "      <td>16761.40</td>\n",
       "      <td>4</td>\n",
       "    </tr>\n",
       "    <tr>\n",
       "      <th>...</th>\n",
       "      <td>...</td>\n",
       "      <td>...</td>\n",
       "      <td>...</td>\n",
       "      <td>...</td>\n",
       "      <td>...</td>\n",
       "    </tr>\n",
       "    <tr>\n",
       "      <th>14758</th>\n",
       "      <td>Time</td>\n",
       "      <td>NHB</td>\n",
       "      <td>196</td>\n",
       "      <td>0.00</td>\n",
       "      <td>196</td>\n",
       "    </tr>\n",
       "    <tr>\n",
       "      <th>14759</th>\n",
       "      <td>Time</td>\n",
       "      <td>NHB</td>\n",
       "      <td>197</td>\n",
       "      <td>0.00</td>\n",
       "      <td>196</td>\n",
       "    </tr>\n",
       "    <tr>\n",
       "      <th>14760</th>\n",
       "      <td>Time</td>\n",
       "      <td>NHB</td>\n",
       "      <td>198</td>\n",
       "      <td>0.00</td>\n",
       "      <td>198</td>\n",
       "    </tr>\n",
       "    <tr>\n",
       "      <th>14761</th>\n",
       "      <td>Time</td>\n",
       "      <td>NHB</td>\n",
       "      <td>199</td>\n",
       "      <td>0.00</td>\n",
       "      <td>198</td>\n",
       "    </tr>\n",
       "    <tr>\n",
       "      <th>14762</th>\n",
       "      <td>Time</td>\n",
       "      <td>NHB</td>\n",
       "      <td>200</td>\n",
       "      <td>0.00</td>\n",
       "      <td>200</td>\n",
       "    </tr>\n",
       "  </tbody>\n",
       "</table>\n",
       "<p>14763 rows × 5 columns</p>\n",
       "</div>"
      ],
      "text/plain": [
       "      TLFTYPE TRIPPURP  BIN     TRIPS  BIN_COLLAPSE\n",
       "0          GC      HBW    0      0.00             0\n",
       "1          GC      HBW    1      0.00             0\n",
       "2          GC      HBW    2   5806.63             2\n",
       "3          GC      HBW    3  21119.70             2\n",
       "4          GC      HBW    4  16761.40             4\n",
       "...       ...      ...  ...       ...           ...\n",
       "14758    Time      NHB  196      0.00           196\n",
       "14759    Time      NHB  197      0.00           196\n",
       "14760    Time      NHB  198      0.00           198\n",
       "14761    Time      NHB  199      0.00           198\n",
       "14762    Time      NHB  200      0.00           200\n",
       "\n",
       "[14763 rows x 5 columns]"
      ]
     },
     "metadata": {},
     "output_type": "display_data"
    },
    {
     "data": {
      "text/html": [
       "<div>\n",
       "<style scoped>\n",
       "    .dataframe tbody tr th:only-of-type {\n",
       "        vertical-align: middle;\n",
       "    }\n",
       "\n",
       "    .dataframe tbody tr th {\n",
       "        vertical-align: top;\n",
       "    }\n",
       "\n",
       "    .dataframe thead th {\n",
       "        text-align: right;\n",
       "    }\n",
       "</style>\n",
       "<table border=\"1\" class=\"dataframe\">\n",
       "  <thead>\n",
       "    <tr style=\"text-align: right;\">\n",
       "      <th></th>\n",
       "      <th>TLFTYPE</th>\n",
       "      <th>TRIPPURP</th>\n",
       "      <th>BIN</th>\n",
       "      <th>TRIPS</th>\n",
       "    </tr>\n",
       "  </thead>\n",
       "  <tbody>\n",
       "    <tr>\n",
       "      <th>0</th>\n",
       "      <td>Dist</td>\n",
       "      <td>Ext_HV</td>\n",
       "      <td>0</td>\n",
       "      <td>17.60</td>\n",
       "    </tr>\n",
       "    <tr>\n",
       "      <th>1</th>\n",
       "      <td>Dist</td>\n",
       "      <td>Ext_HV</td>\n",
       "      <td>2</td>\n",
       "      <td>144.10</td>\n",
       "    </tr>\n",
       "    <tr>\n",
       "      <th>2</th>\n",
       "      <td>Dist</td>\n",
       "      <td>Ext_HV</td>\n",
       "      <td>4</td>\n",
       "      <td>399.32</td>\n",
       "    </tr>\n",
       "    <tr>\n",
       "      <th>3</th>\n",
       "      <td>Dist</td>\n",
       "      <td>Ext_HV</td>\n",
       "      <td>6</td>\n",
       "      <td>807.51</td>\n",
       "    </tr>\n",
       "    <tr>\n",
       "      <th>4</th>\n",
       "      <td>Dist</td>\n",
       "      <td>Ext_HV</td>\n",
       "      <td>8</td>\n",
       "      <td>892.52</td>\n",
       "    </tr>\n",
       "    <tr>\n",
       "      <th>...</th>\n",
       "      <td>...</td>\n",
       "      <td>...</td>\n",
       "      <td>...</td>\n",
       "      <td>...</td>\n",
       "    </tr>\n",
       "    <tr>\n",
       "      <th>7408</th>\n",
       "      <td>Time</td>\n",
       "      <td>XX</td>\n",
       "      <td>192</td>\n",
       "      <td>2.18</td>\n",
       "    </tr>\n",
       "    <tr>\n",
       "      <th>7409</th>\n",
       "      <td>Time</td>\n",
       "      <td>XX</td>\n",
       "      <td>194</td>\n",
       "      <td>0.49</td>\n",
       "    </tr>\n",
       "    <tr>\n",
       "      <th>7410</th>\n",
       "      <td>Time</td>\n",
       "      <td>XX</td>\n",
       "      <td>196</td>\n",
       "      <td>0.01</td>\n",
       "    </tr>\n",
       "    <tr>\n",
       "      <th>7411</th>\n",
       "      <td>Time</td>\n",
       "      <td>XX</td>\n",
       "      <td>198</td>\n",
       "      <td>0.20</td>\n",
       "    </tr>\n",
       "    <tr>\n",
       "      <th>7412</th>\n",
       "      <td>Time</td>\n",
       "      <td>XX</td>\n",
       "      <td>200</td>\n",
       "      <td>2.80</td>\n",
       "    </tr>\n",
       "  </tbody>\n",
       "</table>\n",
       "<p>7413 rows × 4 columns</p>\n",
       "</div>"
      ],
      "text/plain": [
       "     TLFTYPE TRIPPURP  BIN   TRIPS\n",
       "0       Dist   Ext_HV    0   17.60\n",
       "1       Dist   Ext_HV    2  144.10\n",
       "2       Dist   Ext_HV    4  399.32\n",
       "3       Dist   Ext_HV    6  807.51\n",
       "4       Dist   Ext_HV    8  892.52\n",
       "...      ...      ...  ...     ...\n",
       "7408    Time       XX  192    2.18\n",
       "7409    Time       XX  194    0.49\n",
       "7410    Time       XX  196    0.01\n",
       "7411    Time       XX  198    0.20\n",
       "7412    Time       XX  200    2.80\n",
       "\n",
       "[7413 rows x 4 columns]"
      ]
     },
     "metadata": {},
     "output_type": "display_data"
    }
   ],
   "source": [
    "# read in trips from TDM sorted into TLF bins\n",
    "\n",
    "tlfs=['Cost','Dist','Time']\n",
    "\n",
    "dfTLFTDMTrips = pd.DataFrame()\n",
    "\n",
    "for tlf in tlfs:\n",
    "    \n",
    "    # read in csv for tlf\n",
    "    dfRead = pd.read_csv(os.path.join(baseTLFLoc,'TLF_' + tlf + '.csv'))\n",
    "    \n",
    "    # make sure id column is always same: BIN\n",
    "    dfRead = dfRead.rename(columns={';BIN':'BIN',';MINUTE':'BIN','Mile':'BIN','Mil':'BIN','Min':'BIN','Bin':'BIN'})\n",
    "\n",
    "    dfRead = pd.melt(dfRead, id_vars=['BIN'], value_vars=dfRead.columns[1:].tolist(), ignore_index=False, var_name='TRIPPURP', value_name='TRIPS')\n",
    "\n",
    "    # set TLF value, rename Cost to GC\n",
    "    if tlf=='Cost':\n",
    "        dfRead['TLFTYPE'] = 'GC'\n",
    "    else:\n",
    "        dfRead['TLFTYPE'] = tlf\n",
    "\n",
    "    # reorder columns\n",
    "    dfRead = dfRead[['TLFTYPE','TRIPPURP','BIN','TRIPS']]\n",
    "\n",
    "    # concat data into single dataframe\n",
    "    dfTLFTDMTrips = pd.concat([dfTLFTDMTrips, dfRead], ignore_index=True)\n",
    "\n",
    "if debug: display(dfTLFTDMTrips)\n",
    "\n",
    "# create subtotals\n",
    "dfTLFTDMTripsForSubtotals = pd.DataFrame.merge(dfTLFTDMTrips, dfTripPurpSubtotals, on=('TRIPPURP'))\n",
    "dfTLFTDMTripsForSubtotals = dfTLFTDMTripsForSubtotals.groupby(['TLFTYPE','TRIPPURP_SUB','BIN'],as_index=False).agg(TRIPS=('TRIPS','sum'),COUNT=('TRIPS','size'))\n",
    "dfTLFTDMTripsForSubtotals = dfTLFTDMTripsForSubtotals[['TLFTYPE','TRIPPURP_SUB','BIN','TRIPS']]\n",
    "dfTLFTDMTripsForSubtotals = dfTLFTDMTripsForSubtotals.rename(columns={'TRIPPURP_SUB':'TRIPPURP'})\n",
    "if debug: display (dfTLFTDMTripsForSubtotals)\n",
    "\n",
    "# concat subtotals\n",
    "dfTLFTDMTrips = pd.concat([dfTLFTDMTrips,dfTLFTDMTripsForSubtotals], ignore_index=True)\n",
    "if debug: display(dfTLFTDMTrips)\n",
    "\n",
    "# calculated collapsed bins\n",
    "from math import floor\n",
    "def round_to_binsize(x):\n",
    "    return int(binsize * floor(float(x)/binsize))\n",
    "dfTLFTDMTrips['BIN_COLLAPSE'] = dfTLFTDMTrips['BIN'].apply(lambda x: round_to_binsize(x))\n",
    "if debug: display(dfTLFTDMTrips)\n",
    "\n",
    "# aggregate to collapsed bins\n",
    "dfTLFTDMTrips = dfTLFTDMTrips.groupby(['TLFTYPE','TRIPPURP','BIN_COLLAPSE'], as_index=False).agg(TRIPS=('TRIPS','sum'))\n",
    "dfTLFTDMTrips = dfTLFTDMTrips.rename(columns={'BIN_COLLAPSE':'BIN'})\n",
    "if debug: display(dfTLFTDMTrips)\n"
   ]
  },
  {
   "cell_type": "code",
   "execution_count": 15,
   "metadata": {},
   "outputs": [
    {
     "data": {
      "text/html": [
       "<div>\n",
       "<style scoped>\n",
       "    .dataframe tbody tr th:only-of-type {\n",
       "        vertical-align: middle;\n",
       "    }\n",
       "\n",
       "    .dataframe tbody tr th {\n",
       "        vertical-align: top;\n",
       "    }\n",
       "\n",
       "    .dataframe thead th {\n",
       "        text-align: right;\n",
       "    }\n",
       "</style>\n",
       "<table border=\"1\" class=\"dataframe\">\n",
       "  <thead>\n",
       "    <tr style=\"text-align: right;\">\n",
       "      <th></th>\n",
       "      <th>TLFTYPE</th>\n",
       "      <th>TRIPPURP</th>\n",
       "      <th>TRIP_TOTAL</th>\n",
       "    </tr>\n",
       "  </thead>\n",
       "  <tbody>\n",
       "    <tr>\n",
       "      <th>0</th>\n",
       "      <td>Dist</td>\n",
       "      <td>Ext_HV</td>\n",
       "      <td>31844.37</td>\n",
       "    </tr>\n",
       "    <tr>\n",
       "      <th>1</th>\n",
       "      <td>Dist</td>\n",
       "      <td>Ext_MD</td>\n",
       "      <td>36154.90</td>\n",
       "    </tr>\n",
       "    <tr>\n",
       "      <th>2</th>\n",
       "      <td>Dist</td>\n",
       "      <td>HBC</td>\n",
       "      <td>127503.20</td>\n",
       "    </tr>\n",
       "    <tr>\n",
       "      <th>3</th>\n",
       "      <td>Dist</td>\n",
       "      <td>HBO</td>\n",
       "      <td>4515770.71</td>\n",
       "    </tr>\n",
       "    <tr>\n",
       "      <th>4</th>\n",
       "      <td>Dist</td>\n",
       "      <td>HBOth</td>\n",
       "      <td>3652578.43</td>\n",
       "    </tr>\n",
       "    <tr>\n",
       "      <th>...</th>\n",
       "      <td>...</td>\n",
       "      <td>...</td>\n",
       "      <td>...</td>\n",
       "    </tr>\n",
       "    <tr>\n",
       "      <th>58</th>\n",
       "      <td>Time</td>\n",
       "      <td>SH_MD</td>\n",
       "      <td>687336.13</td>\n",
       "    </tr>\n",
       "    <tr>\n",
       "      <th>59</th>\n",
       "      <td>Time</td>\n",
       "      <td>Tel_HBW</td>\n",
       "      <td>56413.41</td>\n",
       "    </tr>\n",
       "    <tr>\n",
       "      <th>60</th>\n",
       "      <td>Time</td>\n",
       "      <td>Tel_NHBW</td>\n",
       "      <td>16027.51</td>\n",
       "    </tr>\n",
       "    <tr>\n",
       "      <th>61</th>\n",
       "      <td>Time</td>\n",
       "      <td>XI</td>\n",
       "      <td>78647.25</td>\n",
       "    </tr>\n",
       "    <tr>\n",
       "      <th>62</th>\n",
       "      <td>Time</td>\n",
       "      <td>XX</td>\n",
       "      <td>15337.83</td>\n",
       "    </tr>\n",
       "  </tbody>\n",
       "</table>\n",
       "<p>63 rows × 3 columns</p>\n",
       "</div>"
      ],
      "text/plain": [
       "   TLFTYPE  TRIPPURP  TRIP_TOTAL\n",
       "0     Dist    Ext_HV    31844.37\n",
       "1     Dist    Ext_MD    36154.90\n",
       "2     Dist       HBC   127503.20\n",
       "3     Dist       HBO  4515770.71\n",
       "4     Dist     HBOth  3652578.43\n",
       "..     ...       ...         ...\n",
       "58    Time     SH_MD   687336.13\n",
       "59    Time   Tel_HBW    56413.41\n",
       "60    Time  Tel_NHBW    16027.51\n",
       "61    Time        XI    78647.25\n",
       "62    Time        XX    15337.83\n",
       "\n",
       "[63 rows x 3 columns]"
      ]
     },
     "metadata": {},
     "output_type": "display_data"
    },
    {
     "data": {
      "text/html": [
       "<div>\n",
       "<style scoped>\n",
       "    .dataframe tbody tr th:only-of-type {\n",
       "        vertical-align: middle;\n",
       "    }\n",
       "\n",
       "    .dataframe tbody tr th {\n",
       "        vertical-align: top;\n",
       "    }\n",
       "\n",
       "    .dataframe thead th {\n",
       "        text-align: right;\n",
       "    }\n",
       "</style>\n",
       "<table border=\"1\" class=\"dataframe\">\n",
       "  <thead>\n",
       "    <tr style=\"text-align: right;\">\n",
       "      <th></th>\n",
       "      <th>TLFTYPE</th>\n",
       "      <th>TRIPPURP</th>\n",
       "      <th>BIN</th>\n",
       "      <th>TRIPS</th>\n",
       "      <th>TRIP_TOTAL</th>\n",
       "      <th>FREQ</th>\n",
       "    </tr>\n",
       "  </thead>\n",
       "  <tbody>\n",
       "    <tr>\n",
       "      <th>0</th>\n",
       "      <td>Dist</td>\n",
       "      <td>Ext_HV</td>\n",
       "      <td>0</td>\n",
       "      <td>17.60</td>\n",
       "      <td>31844.37</td>\n",
       "      <td>5.526880e-04</td>\n",
       "    </tr>\n",
       "    <tr>\n",
       "      <th>1</th>\n",
       "      <td>Dist</td>\n",
       "      <td>Ext_HV</td>\n",
       "      <td>2</td>\n",
       "      <td>144.10</td>\n",
       "      <td>31844.37</td>\n",
       "      <td>4.525133e-03</td>\n",
       "    </tr>\n",
       "    <tr>\n",
       "      <th>2</th>\n",
       "      <td>Dist</td>\n",
       "      <td>Ext_HV</td>\n",
       "      <td>4</td>\n",
       "      <td>399.32</td>\n",
       "      <td>31844.37</td>\n",
       "      <td>1.253974e-02</td>\n",
       "    </tr>\n",
       "    <tr>\n",
       "      <th>3</th>\n",
       "      <td>Dist</td>\n",
       "      <td>Ext_HV</td>\n",
       "      <td>6</td>\n",
       "      <td>807.51</td>\n",
       "      <td>31844.37</td>\n",
       "      <td>2.535801e-02</td>\n",
       "    </tr>\n",
       "    <tr>\n",
       "      <th>4</th>\n",
       "      <td>Dist</td>\n",
       "      <td>Ext_HV</td>\n",
       "      <td>8</td>\n",
       "      <td>892.52</td>\n",
       "      <td>31844.37</td>\n",
       "      <td>2.802756e-02</td>\n",
       "    </tr>\n",
       "    <tr>\n",
       "      <th>...</th>\n",
       "      <td>...</td>\n",
       "      <td>...</td>\n",
       "      <td>...</td>\n",
       "      <td>...</td>\n",
       "      <td>...</td>\n",
       "      <td>...</td>\n",
       "    </tr>\n",
       "    <tr>\n",
       "      <th>7408</th>\n",
       "      <td>Time</td>\n",
       "      <td>XX</td>\n",
       "      <td>192</td>\n",
       "      <td>2.18</td>\n",
       "      <td>15337.83</td>\n",
       "      <td>1.421322e-04</td>\n",
       "    </tr>\n",
       "    <tr>\n",
       "      <th>7409</th>\n",
       "      <td>Time</td>\n",
       "      <td>XX</td>\n",
       "      <td>194</td>\n",
       "      <td>0.49</td>\n",
       "      <td>15337.83</td>\n",
       "      <td>3.194715e-05</td>\n",
       "    </tr>\n",
       "    <tr>\n",
       "      <th>7410</th>\n",
       "      <td>Time</td>\n",
       "      <td>XX</td>\n",
       "      <td>196</td>\n",
       "      <td>0.01</td>\n",
       "      <td>15337.83</td>\n",
       "      <td>6.519827e-07</td>\n",
       "    </tr>\n",
       "    <tr>\n",
       "      <th>7411</th>\n",
       "      <td>Time</td>\n",
       "      <td>XX</td>\n",
       "      <td>198</td>\n",
       "      <td>0.20</td>\n",
       "      <td>15337.83</td>\n",
       "      <td>1.303965e-05</td>\n",
       "    </tr>\n",
       "    <tr>\n",
       "      <th>7412</th>\n",
       "      <td>Time</td>\n",
       "      <td>XX</td>\n",
       "      <td>200</td>\n",
       "      <td>2.80</td>\n",
       "      <td>15337.83</td>\n",
       "      <td>1.825552e-04</td>\n",
       "    </tr>\n",
       "  </tbody>\n",
       "</table>\n",
       "<p>7413 rows × 6 columns</p>\n",
       "</div>"
      ],
      "text/plain": [
       "     TLFTYPE TRIPPURP  BIN   TRIPS  TRIP_TOTAL          FREQ\n",
       "0       Dist   Ext_HV    0   17.60    31844.37  5.526880e-04\n",
       "1       Dist   Ext_HV    2  144.10    31844.37  4.525133e-03\n",
       "2       Dist   Ext_HV    4  399.32    31844.37  1.253974e-02\n",
       "3       Dist   Ext_HV    6  807.51    31844.37  2.535801e-02\n",
       "4       Dist   Ext_HV    8  892.52    31844.37  2.802756e-02\n",
       "...      ...      ...  ...     ...         ...           ...\n",
       "7408    Time       XX  192    2.18    15337.83  1.421322e-04\n",
       "7409    Time       XX  194    0.49    15337.83  3.194715e-05\n",
       "7410    Time       XX  196    0.01    15337.83  6.519827e-07\n",
       "7411    Time       XX  198    0.20    15337.83  1.303965e-05\n",
       "7412    Time       XX  200    2.80    15337.83  1.825552e-04\n",
       "\n",
       "[7413 rows x 6 columns]"
      ]
     },
     "metadata": {},
     "output_type": "display_data"
    },
    {
     "data": {
      "text/html": [
       "<div>\n",
       "<style scoped>\n",
       "    .dataframe tbody tr th:only-of-type {\n",
       "        vertical-align: middle;\n",
       "    }\n",
       "\n",
       "    .dataframe tbody tr th {\n",
       "        vertical-align: top;\n",
       "    }\n",
       "\n",
       "    .dataframe thead th {\n",
       "        text-align: right;\n",
       "    }\n",
       "</style>\n",
       "<table border=\"1\" class=\"dataframe\">\n",
       "  <thead>\n",
       "    <tr style=\"text-align: right;\">\n",
       "      <th></th>\n",
       "      <th>TLFTYPE</th>\n",
       "      <th>TRIPPURP</th>\n",
       "      <th>BIN</th>\n",
       "      <th>FREQ</th>\n",
       "    </tr>\n",
       "  </thead>\n",
       "  <tbody>\n",
       "    <tr>\n",
       "      <th>0</th>\n",
       "      <td>Dist</td>\n",
       "      <td>Ext_HV</td>\n",
       "      <td>0</td>\n",
       "      <td>5.526880e-04</td>\n",
       "    </tr>\n",
       "    <tr>\n",
       "      <th>1</th>\n",
       "      <td>Dist</td>\n",
       "      <td>Ext_HV</td>\n",
       "      <td>2</td>\n",
       "      <td>4.525133e-03</td>\n",
       "    </tr>\n",
       "    <tr>\n",
       "      <th>2</th>\n",
       "      <td>Dist</td>\n",
       "      <td>Ext_HV</td>\n",
       "      <td>4</td>\n",
       "      <td>1.253974e-02</td>\n",
       "    </tr>\n",
       "    <tr>\n",
       "      <th>3</th>\n",
       "      <td>Dist</td>\n",
       "      <td>Ext_HV</td>\n",
       "      <td>6</td>\n",
       "      <td>2.535801e-02</td>\n",
       "    </tr>\n",
       "    <tr>\n",
       "      <th>4</th>\n",
       "      <td>Dist</td>\n",
       "      <td>Ext_HV</td>\n",
       "      <td>8</td>\n",
       "      <td>2.802756e-02</td>\n",
       "    </tr>\n",
       "    <tr>\n",
       "      <th>...</th>\n",
       "      <td>...</td>\n",
       "      <td>...</td>\n",
       "      <td>...</td>\n",
       "      <td>...</td>\n",
       "    </tr>\n",
       "    <tr>\n",
       "      <th>7408</th>\n",
       "      <td>Time</td>\n",
       "      <td>XX</td>\n",
       "      <td>192</td>\n",
       "      <td>1.421322e-04</td>\n",
       "    </tr>\n",
       "    <tr>\n",
       "      <th>7409</th>\n",
       "      <td>Time</td>\n",
       "      <td>XX</td>\n",
       "      <td>194</td>\n",
       "      <td>3.194715e-05</td>\n",
       "    </tr>\n",
       "    <tr>\n",
       "      <th>7410</th>\n",
       "      <td>Time</td>\n",
       "      <td>XX</td>\n",
       "      <td>196</td>\n",
       "      <td>6.519827e-07</td>\n",
       "    </tr>\n",
       "    <tr>\n",
       "      <th>7411</th>\n",
       "      <td>Time</td>\n",
       "      <td>XX</td>\n",
       "      <td>198</td>\n",
       "      <td>1.303965e-05</td>\n",
       "    </tr>\n",
       "    <tr>\n",
       "      <th>7412</th>\n",
       "      <td>Time</td>\n",
       "      <td>XX</td>\n",
       "      <td>200</td>\n",
       "      <td>1.825552e-04</td>\n",
       "    </tr>\n",
       "  </tbody>\n",
       "</table>\n",
       "<p>7413 rows × 4 columns</p>\n",
       "</div>"
      ],
      "text/plain": [
       "     TLFTYPE TRIPPURP  BIN          FREQ\n",
       "0       Dist   Ext_HV    0  5.526880e-04\n",
       "1       Dist   Ext_HV    2  4.525133e-03\n",
       "2       Dist   Ext_HV    4  1.253974e-02\n",
       "3       Dist   Ext_HV    6  2.535801e-02\n",
       "4       Dist   Ext_HV    8  2.802756e-02\n",
       "...      ...      ...  ...           ...\n",
       "7408    Time       XX  192  1.421322e-04\n",
       "7409    Time       XX  194  3.194715e-05\n",
       "7410    Time       XX  196  6.519827e-07\n",
       "7411    Time       XX  198  1.303965e-05\n",
       "7412    Time       XX  200  1.825552e-04\n",
       "\n",
       "[7413 rows x 4 columns]"
      ]
     },
     "metadata": {},
     "output_type": "display_data"
    },
    {
     "data": {
      "text/plain": [
       "'Not adding to 1 (if empty dataset, YAY!!!):'"
      ]
     },
     "metadata": {},
     "output_type": "display_data"
    },
    {
     "data": {
      "text/html": [
       "<div>\n",
       "<style scoped>\n",
       "    .dataframe tbody tr th:only-of-type {\n",
       "        vertical-align: middle;\n",
       "    }\n",
       "\n",
       "    .dataframe tbody tr th {\n",
       "        vertical-align: top;\n",
       "    }\n",
       "\n",
       "    .dataframe thead th {\n",
       "        text-align: right;\n",
       "    }\n",
       "</style>\n",
       "<table border=\"1\" class=\"dataframe\">\n",
       "  <thead>\n",
       "    <tr style=\"text-align: right;\">\n",
       "      <th></th>\n",
       "      <th>TLFTYPE</th>\n",
       "      <th>TRIPPURP</th>\n",
       "      <th>FREQ_SUM</th>\n",
       "    </tr>\n",
       "  </thead>\n",
       "  <tbody>\n",
       "  </tbody>\n",
       "</table>\n",
       "</div>"
      ],
      "text/plain": [
       "Empty DataFrame\n",
       "Columns: [TLFTYPE, TRIPPURP, FREQ_SUM]\n",
       "Index: []"
      ]
     },
     "metadata": {},
     "output_type": "display_data"
    }
   ],
   "source": [
    "# calculate percent distribution\n",
    "dfTLFTDMTripTotals = dfTLFTDMTrips.groupby(['TLFTYPE','TRIPPURP'], as_index=False).agg(TRIP_TOTAL=('TRIPS','sum'))\n",
    "if debug: display(dfTLFTDMTripTotals)\n",
    "\n",
    "# join to toals\n",
    "dfTLFTDMTripDist = pd.DataFrame.merge(dfTLFTDMTrips, dfTLFTDMTripTotals, on=('TLFTYPE','TRIPPURP'))\n",
    "dfTLFTDMTripDist['FREQ'] = dfTLFTDMTripDist['TRIPS'] / dfTLFTDMTripDist['TRIP_TOTAL']\n",
    "display(dfTLFTDMTripDist)\n",
    "\n",
    "dfTLF_TDM = dfTLFTDMTripDist[['TLFTYPE','TRIPPURP','BIN','FREQ']]\n",
    "display(dfTLF_TDM)\n",
    "\n",
    "# check to see if add up to 1.0\n",
    "dfCheck = dfTLF_TDM.groupby(['TLFTYPE','TRIPPURP'], as_index=False).agg(FREQ_SUM=('FREQ','sum'))\n",
    "# only display results out of range\n",
    "display('Not adding to 1 (if empty dataset, YAY!!!):')\n",
    "display(dfCheck[(dfCheck['FREQ_SUM']<0.9999999) | (dfCheck['FREQ_SUM']>1.0000001)])"
   ]
  },
  {
   "cell_type": "markdown",
   "metadata": {},
   "source": [
    "# Model vs Observed Plots"
   ]
  },
  {
   "cell_type": "code",
   "execution_count": 219,
   "metadata": {},
   "outputs": [
    {
     "data": {
      "text/html": [
       "<div>\n",
       "<style scoped>\n",
       "    .dataframe tbody tr th:only-of-type {\n",
       "        vertical-align: middle;\n",
       "    }\n",
       "\n",
       "    .dataframe tbody tr th {\n",
       "        vertical-align: top;\n",
       "    }\n",
       "\n",
       "    .dataframe thead th {\n",
       "        text-align: right;\n",
       "    }\n",
       "</style>\n",
       "<table border=\"1\" class=\"dataframe\">\n",
       "  <thead>\n",
       "    <tr style=\"text-align: right;\">\n",
       "      <th></th>\n",
       "      <th>BIN</th>\n",
       "      <th>TRIPPURP</th>\n",
       "      <th>FREQ</th>\n",
       "      <th>TLFTYPE</th>\n",
       "    </tr>\n",
       "  </thead>\n",
       "  <tbody>\n",
       "    <tr>\n",
       "      <th>41726</th>\n",
       "      <td>0.0</td>\n",
       "      <td>HBW</td>\n",
       "      <td>0.151770</td>\n",
       "      <td>Dist</td>\n",
       "    </tr>\n",
       "    <tr>\n",
       "      <th>41727</th>\n",
       "      <td>2.0</td>\n",
       "      <td>HBW</td>\n",
       "      <td>0.148953</td>\n",
       "      <td>Dist</td>\n",
       "    </tr>\n",
       "    <tr>\n",
       "      <th>41728</th>\n",
       "      <td>4.0</td>\n",
       "      <td>HBW</td>\n",
       "      <td>0.128122</td>\n",
       "      <td>Dist</td>\n",
       "    </tr>\n",
       "    <tr>\n",
       "      <th>41729</th>\n",
       "      <td>6.0</td>\n",
       "      <td>HBW</td>\n",
       "      <td>0.106026</td>\n",
       "      <td>Dist</td>\n",
       "    </tr>\n",
       "    <tr>\n",
       "      <th>41730</th>\n",
       "      <td>8.0</td>\n",
       "      <td>HBW</td>\n",
       "      <td>0.090793</td>\n",
       "      <td>Dist</td>\n",
       "    </tr>\n",
       "    <tr>\n",
       "      <th>...</th>\n",
       "      <td>...</td>\n",
       "      <td>...</td>\n",
       "      <td>...</td>\n",
       "      <td>...</td>\n",
       "    </tr>\n",
       "    <tr>\n",
       "      <th>47871</th>\n",
       "      <td>402.0</td>\n",
       "      <td>XI_HV</td>\n",
       "      <td>0.000000</td>\n",
       "      <td>GC</td>\n",
       "    </tr>\n",
       "    <tr>\n",
       "      <th>47872</th>\n",
       "      <td>404.0</td>\n",
       "      <td>XI_HV</td>\n",
       "      <td>0.000000</td>\n",
       "      <td>GC</td>\n",
       "    </tr>\n",
       "    <tr>\n",
       "      <th>47873</th>\n",
       "      <td>406.0</td>\n",
       "      <td>XI_HV</td>\n",
       "      <td>0.000000</td>\n",
       "      <td>GC</td>\n",
       "    </tr>\n",
       "    <tr>\n",
       "      <th>47874</th>\n",
       "      <td>408.0</td>\n",
       "      <td>XI_HV</td>\n",
       "      <td>0.000000</td>\n",
       "      <td>GC</td>\n",
       "    </tr>\n",
       "    <tr>\n",
       "      <th>47875</th>\n",
       "      <td>410.0</td>\n",
       "      <td>XI_HV</td>\n",
       "      <td>0.000000</td>\n",
       "      <td>GC</td>\n",
       "    </tr>\n",
       "  </tbody>\n",
       "</table>\n",
       "<p>6150 rows × 4 columns</p>\n",
       "</div>"
      ],
      "text/plain": [
       "         BIN TRIPPURP      FREQ TLFTYPE\n",
       "41726    0.0      HBW  0.151770    Dist\n",
       "41727    2.0      HBW  0.148953    Dist\n",
       "41728    4.0      HBW  0.128122    Dist\n",
       "41729    6.0      HBW  0.106026    Dist\n",
       "41730    8.0      HBW  0.090793    Dist\n",
       "...      ...      ...       ...     ...\n",
       "47871  402.0    XI_HV  0.000000      GC\n",
       "47872  404.0    XI_HV  0.000000      GC\n",
       "47873  406.0    XI_HV  0.000000      GC\n",
       "47874  408.0    XI_HV  0.000000      GC\n",
       "47875  410.0    XI_HV  0.000000      GC\n",
       "\n",
       "[6150 rows x 4 columns]"
      ]
     },
     "execution_count": 219,
     "metadata": {},
     "output_type": "execute_result"
    }
   ],
   "source": [
    "dfTLF_Obs"
   ]
  },
  {
   "cell_type": "code",
   "execution_count": 16,
   "metadata": {},
   "outputs": [
    {
     "name": "stderr",
     "output_type": "stream",
     "text": [
      "C:\\Users\\cday\\AppData\\Local\\ESRI\\conda\\envs\\arcgispro-py3-plotly\\lib\\site-packages\\ipykernel_launcher.py:3: SettingWithCopyWarning:\n",
      "\n",
      "\n",
      "A value is trying to be set on a copy of a slice from a DataFrame.\n",
      "Try using .loc[row_indexer,col_indexer] = value instead\n",
      "\n",
      "See the caveats in the documentation: https://pandas.pydata.org/pandas-docs/stable/user_guide/indexing.html#returning-a-view-versus-a-copy\n",
      "\n"
     ]
    },
    {
     "data": {
      "text/html": [
       "<div>\n",
       "<style scoped>\n",
       "    .dataframe tbody tr th:only-of-type {\n",
       "        vertical-align: middle;\n",
       "    }\n",
       "\n",
       "    .dataframe tbody tr th {\n",
       "        vertical-align: top;\n",
       "    }\n",
       "\n",
       "    .dataframe thead th {\n",
       "        text-align: right;\n",
       "    }\n",
       "</style>\n",
       "<table border=\"1\" class=\"dataframe\">\n",
       "  <thead>\n",
       "    <tr style=\"text-align: right;\">\n",
       "      <th></th>\n",
       "      <th>BIN</th>\n",
       "      <th>TRIPPURP</th>\n",
       "      <th>FREQ</th>\n",
       "      <th>TLFTYPE</th>\n",
       "      <th>FF_CALIB_ROUND</th>\n",
       "    </tr>\n",
       "  </thead>\n",
       "  <tbody>\n",
       "    <tr>\n",
       "      <th>41726</th>\n",
       "      <td>0.0</td>\n",
       "      <td>HBW</td>\n",
       "      <td>1.517700e-01</td>\n",
       "      <td>Dist</td>\n",
       "      <td>Observed</td>\n",
       "    </tr>\n",
       "    <tr>\n",
       "      <th>41727</th>\n",
       "      <td>2.0</td>\n",
       "      <td>HBW</td>\n",
       "      <td>1.489535e-01</td>\n",
       "      <td>Dist</td>\n",
       "      <td>Observed</td>\n",
       "    </tr>\n",
       "    <tr>\n",
       "      <th>41728</th>\n",
       "      <td>4.0</td>\n",
       "      <td>HBW</td>\n",
       "      <td>1.281221e-01</td>\n",
       "      <td>Dist</td>\n",
       "      <td>Observed</td>\n",
       "    </tr>\n",
       "    <tr>\n",
       "      <th>41729</th>\n",
       "      <td>6.0</td>\n",
       "      <td>HBW</td>\n",
       "      <td>1.060259e-01</td>\n",
       "      <td>Dist</td>\n",
       "      <td>Observed</td>\n",
       "    </tr>\n",
       "    <tr>\n",
       "      <th>41730</th>\n",
       "      <td>8.0</td>\n",
       "      <td>HBW</td>\n",
       "      <td>9.079280e-02</td>\n",
       "      <td>Dist</td>\n",
       "      <td>Observed</td>\n",
       "    </tr>\n",
       "    <tr>\n",
       "      <th>...</th>\n",
       "      <td>...</td>\n",
       "      <td>...</td>\n",
       "      <td>...</td>\n",
       "      <td>...</td>\n",
       "      <td>...</td>\n",
       "    </tr>\n",
       "    <tr>\n",
       "      <th>7408</th>\n",
       "      <td>192.0</td>\n",
       "      <td>XX</td>\n",
       "      <td>1.421322e-04</td>\n",
       "      <td>Time</td>\n",
       "      <td>0-Initial from v832</td>\n",
       "    </tr>\n",
       "    <tr>\n",
       "      <th>7409</th>\n",
       "      <td>194.0</td>\n",
       "      <td>XX</td>\n",
       "      <td>3.194715e-05</td>\n",
       "      <td>Time</td>\n",
       "      <td>0-Initial from v832</td>\n",
       "    </tr>\n",
       "    <tr>\n",
       "      <th>7410</th>\n",
       "      <td>196.0</td>\n",
       "      <td>XX</td>\n",
       "      <td>6.519827e-07</td>\n",
       "      <td>Time</td>\n",
       "      <td>0-Initial from v832</td>\n",
       "    </tr>\n",
       "    <tr>\n",
       "      <th>7411</th>\n",
       "      <td>198.0</td>\n",
       "      <td>XX</td>\n",
       "      <td>1.303965e-05</td>\n",
       "      <td>Time</td>\n",
       "      <td>0-Initial from v832</td>\n",
       "    </tr>\n",
       "    <tr>\n",
       "      <th>7412</th>\n",
       "      <td>200.0</td>\n",
       "      <td>XX</td>\n",
       "      <td>1.825552e-04</td>\n",
       "      <td>Time</td>\n",
       "      <td>0-Initial from v832</td>\n",
       "    </tr>\n",
       "  </tbody>\n",
       "</table>\n",
       "<p>13563 rows × 5 columns</p>\n",
       "</div>"
      ],
      "text/plain": [
       "         BIN TRIPPURP          FREQ TLFTYPE       FF_CALIB_ROUND\n",
       "41726    0.0      HBW  1.517700e-01    Dist             Observed\n",
       "41727    2.0      HBW  1.489535e-01    Dist             Observed\n",
       "41728    4.0      HBW  1.281221e-01    Dist             Observed\n",
       "41729    6.0      HBW  1.060259e-01    Dist             Observed\n",
       "41730    8.0      HBW  9.079280e-02    Dist             Observed\n",
       "...      ...      ...           ...     ...                  ...\n",
       "7408   192.0       XX  1.421322e-04    Time  0-Initial from v832\n",
       "7409   194.0       XX  3.194715e-05    Time  0-Initial from v832\n",
       "7410   196.0       XX  6.519827e-07    Time  0-Initial from v832\n",
       "7411   198.0       XX  1.303965e-05    Time  0-Initial from v832\n",
       "7412   200.0       XX  1.825552e-04    Time  0-Initial from v832\n",
       "\n",
       "[13563 rows x 5 columns]"
      ]
     },
     "metadata": {},
     "output_type": "display_data"
    }
   ],
   "source": [
    "# combine TLFs of observed and TDM (from friction factor calibration process)\n",
    "dfTLF_Obs['FF_CALIB_ROUND'] = 'Observed'\n",
    "dfTLF_TDM['FF_CALIB_ROUND'] = '0-Initial from v832'\n",
    "\n",
    "dfTLF_ModelvsObserved = pd.concat([dfTLF_Obs,dfTLF_TDM])\n",
    "if debug: display(dfTLF_ModelvsObserved)"
   ]
  },
  {
   "cell_type": "code",
   "execution_count": 79,
   "metadata": {},
   "outputs": [
    {
     "data": {
      "text/html": [
       "<div>\n",
       "<style scoped>\n",
       "    .dataframe tbody tr th:only-of-type {\n",
       "        vertical-align: middle;\n",
       "    }\n",
       "\n",
       "    .dataframe tbody tr th {\n",
       "        vertical-align: top;\n",
       "    }\n",
       "\n",
       "    .dataframe thead th {\n",
       "        text-align: right;\n",
       "    }\n",
       "</style>\n",
       "<table border=\"1\" class=\"dataframe\">\n",
       "  <thead>\n",
       "    <tr style=\"text-align: right;\">\n",
       "      <th></th>\n",
       "      <th>FF_CALIB_ROUND</th>\n",
       "      <th>TRIPPURP</th>\n",
       "      <th>TLFTYPE</th>\n",
       "      <th>FREQ_SUM</th>\n",
       "      <th>AVG_TRIP_LEN</th>\n",
       "    </tr>\n",
       "  </thead>\n",
       "  <tbody>\n",
       "    <tr>\n",
       "      <th>0</th>\n",
       "      <td>0-Initial from v832</td>\n",
       "      <td>Ext_HV</td>\n",
       "      <td>Dist</td>\n",
       "      <td>1.0</td>\n",
       "      <td>39.391920</td>\n",
       "    </tr>\n",
       "    <tr>\n",
       "      <th>1</th>\n",
       "      <td>0-Initial from v832</td>\n",
       "      <td>Ext_HV</td>\n",
       "      <td>GC</td>\n",
       "      <td>1.0</td>\n",
       "      <td>94.845462</td>\n",
       "    </tr>\n",
       "    <tr>\n",
       "      <th>2</th>\n",
       "      <td>0-Initial from v832</td>\n",
       "      <td>Ext_HV</td>\n",
       "      <td>Time</td>\n",
       "      <td>1.0</td>\n",
       "      <td>43.453935</td>\n",
       "    </tr>\n",
       "    <tr>\n",
       "      <th>3</th>\n",
       "      <td>0-Initial from v832</td>\n",
       "      <td>Ext_MD</td>\n",
       "      <td>Dist</td>\n",
       "      <td>1.0</td>\n",
       "      <td>31.847548</td>\n",
       "    </tr>\n",
       "    <tr>\n",
       "      <th>4</th>\n",
       "      <td>0-Initial from v832</td>\n",
       "      <td>Ext_MD</td>\n",
       "      <td>GC</td>\n",
       "      <td>1.0</td>\n",
       "      <td>74.702942</td>\n",
       "    </tr>\n",
       "    <tr>\n",
       "      <th>...</th>\n",
       "      <td>...</td>\n",
       "      <td>...</td>\n",
       "      <td>...</td>\n",
       "      <td>...</td>\n",
       "      <td>...</td>\n",
       "    </tr>\n",
       "    <tr>\n",
       "      <th>103</th>\n",
       "      <td>Observed</td>\n",
       "      <td>XI_HV</td>\n",
       "      <td>GC</td>\n",
       "      <td>1.0</td>\n",
       "      <td>162.170483</td>\n",
       "    </tr>\n",
       "    <tr>\n",
       "      <th>104</th>\n",
       "      <td>Observed</td>\n",
       "      <td>XI_HV</td>\n",
       "      <td>Time</td>\n",
       "      <td>1.0</td>\n",
       "      <td>72.560994</td>\n",
       "    </tr>\n",
       "    <tr>\n",
       "      <th>105</th>\n",
       "      <td>Observed</td>\n",
       "      <td>XI_MD</td>\n",
       "      <td>Dist</td>\n",
       "      <td>1.0</td>\n",
       "      <td>42.125143</td>\n",
       "    </tr>\n",
       "    <tr>\n",
       "      <th>106</th>\n",
       "      <td>Observed</td>\n",
       "      <td>XI_MD</td>\n",
       "      <td>GC</td>\n",
       "      <td>1.0</td>\n",
       "      <td>99.290194</td>\n",
       "    </tr>\n",
       "    <tr>\n",
       "      <th>107</th>\n",
       "      <td>Observed</td>\n",
       "      <td>XI_MD</td>\n",
       "      <td>Time</td>\n",
       "      <td>1.0</td>\n",
       "      <td>48.007368</td>\n",
       "    </tr>\n",
       "  </tbody>\n",
       "</table>\n",
       "<p>108 rows × 5 columns</p>\n",
       "</div>"
      ],
      "text/plain": [
       "          FF_CALIB_ROUND TRIPPURP TLFTYPE  FREQ_SUM  AVG_TRIP_LEN\n",
       "0    0-Initial from v832   Ext_HV    Dist       1.0     39.391920\n",
       "1    0-Initial from v832   Ext_HV      GC       1.0     94.845462\n",
       "2    0-Initial from v832   Ext_HV    Time       1.0     43.453935\n",
       "3    0-Initial from v832   Ext_MD    Dist       1.0     31.847548\n",
       "4    0-Initial from v832   Ext_MD      GC       1.0     74.702942\n",
       "..                   ...      ...     ...       ...           ...\n",
       "103             Observed    XI_HV      GC       1.0    162.170483\n",
       "104             Observed    XI_HV    Time       1.0     72.560994\n",
       "105             Observed    XI_MD    Dist       1.0     42.125143\n",
       "106             Observed    XI_MD      GC       1.0     99.290194\n",
       "107             Observed    XI_MD    Time       1.0     48.007368\n",
       "\n",
       "[108 rows x 5 columns]"
      ]
     },
     "metadata": {},
     "output_type": "display_data"
    },
    {
     "data": {
      "text/html": [
       "<div>\n",
       "<style scoped>\n",
       "    .dataframe tbody tr th:only-of-type {\n",
       "        vertical-align: middle;\n",
       "    }\n",
       "\n",
       "    .dataframe tbody tr th {\n",
       "        vertical-align: top;\n",
       "    }\n",
       "\n",
       "    .dataframe thead th {\n",
       "        text-align: right;\n",
       "    }\n",
       "</style>\n",
       "<table border=\"1\" class=\"dataframe\">\n",
       "  <thead>\n",
       "    <tr style=\"text-align: right;\">\n",
       "      <th>FF_CALIB_ROUND</th>\n",
       "      <th>TRIPPURP</th>\n",
       "      <th>TLFTYPE</th>\n",
       "      <th>0-Initial from v832</th>\n",
       "      <th>Observed</th>\n",
       "    </tr>\n",
       "  </thead>\n",
       "  <tbody>\n",
       "    <tr>\n",
       "      <th>0</th>\n",
       "      <td>Ext_HV</td>\n",
       "      <td>Dist</td>\n",
       "      <td>39.391920</td>\n",
       "      <td>NaN</td>\n",
       "    </tr>\n",
       "    <tr>\n",
       "      <th>1</th>\n",
       "      <td>Ext_HV</td>\n",
       "      <td>GC</td>\n",
       "      <td>94.845462</td>\n",
       "      <td>NaN</td>\n",
       "    </tr>\n",
       "    <tr>\n",
       "      <th>2</th>\n",
       "      <td>Ext_HV</td>\n",
       "      <td>Time</td>\n",
       "      <td>43.453935</td>\n",
       "      <td>NaN</td>\n",
       "    </tr>\n",
       "    <tr>\n",
       "      <th>3</th>\n",
       "      <td>Ext_MD</td>\n",
       "      <td>Dist</td>\n",
       "      <td>31.847548</td>\n",
       "      <td>NaN</td>\n",
       "    </tr>\n",
       "    <tr>\n",
       "      <th>4</th>\n",
       "      <td>Ext_MD</td>\n",
       "      <td>GC</td>\n",
       "      <td>74.702942</td>\n",
       "      <td>NaN</td>\n",
       "    </tr>\n",
       "    <tr>\n",
       "      <th>...</th>\n",
       "      <td>...</td>\n",
       "      <td>...</td>\n",
       "      <td>...</td>\n",
       "      <td>...</td>\n",
       "    </tr>\n",
       "    <tr>\n",
       "      <th>82</th>\n",
       "      <td>XI_MD</td>\n",
       "      <td>GC</td>\n",
       "      <td>NaN</td>\n",
       "      <td>99.290194</td>\n",
       "    </tr>\n",
       "    <tr>\n",
       "      <th>83</th>\n",
       "      <td>XI_MD</td>\n",
       "      <td>Time</td>\n",
       "      <td>NaN</td>\n",
       "      <td>48.007368</td>\n",
       "    </tr>\n",
       "    <tr>\n",
       "      <th>84</th>\n",
       "      <td>XX</td>\n",
       "      <td>Dist</td>\n",
       "      <td>55.216545</td>\n",
       "      <td>NaN</td>\n",
       "    </tr>\n",
       "    <tr>\n",
       "      <th>85</th>\n",
       "      <td>XX</td>\n",
       "      <td>GC</td>\n",
       "      <td>117.314474</td>\n",
       "      <td>NaN</td>\n",
       "    </tr>\n",
       "    <tr>\n",
       "      <th>86</th>\n",
       "      <td>XX</td>\n",
       "      <td>Time</td>\n",
       "      <td>57.565181</td>\n",
       "      <td>NaN</td>\n",
       "    </tr>\n",
       "  </tbody>\n",
       "</table>\n",
       "<p>87 rows × 4 columns</p>\n",
       "</div>"
      ],
      "text/plain": [
       "FF_CALIB_ROUND TRIPPURP TLFTYPE  0-Initial from v832   Observed\n",
       "0                Ext_HV    Dist            39.391920        NaN\n",
       "1                Ext_HV      GC            94.845462        NaN\n",
       "2                Ext_HV    Time            43.453935        NaN\n",
       "3                Ext_MD    Dist            31.847548        NaN\n",
       "4                Ext_MD      GC            74.702942        NaN\n",
       "..                  ...     ...                  ...        ...\n",
       "82                XI_MD      GC                  NaN  99.290194\n",
       "83                XI_MD    Time                  NaN  48.007368\n",
       "84                   XX    Dist            55.216545        NaN\n",
       "85                   XX      GC           117.314474        NaN\n",
       "86                   XX    Time            57.565181        NaN\n",
       "\n",
       "[87 rows x 4 columns]"
      ]
     },
     "metadata": {},
     "output_type": "display_data"
    }
   ],
   "source": [
    "#CALCUATE TRIP LENGTH AVERAGES AS TABLE AND CHART THEM\n",
    "dfTLF_ModelvsObservedAve = dfTLF_ModelvsObserved\n",
    "dfTLF_ModelvsObservedAve['BINxFREQ'] = dfTLF_ModelvsObservedAve['BIN'] * dfTLF_ModelvsObserved['FREQ']\n",
    "dfTLF_ModelvsObservedAve_Stats = (dfTLF_ModelvsObservedAve\n",
    "    .groupby(['FF_CALIB_ROUND','TRIPPURP','TLFTYPE'],as_index=False)\n",
    "        .agg(FREQ_SUM=('FREQ','sum'),AVG_TRIP_LEN=('BINxFREQ','sum')))\n",
    "    #rename some of the variables to better match up\n",
    "\n",
    "dfTLF_MvO_Dif = (dfTLF_ModelvsObservedAve_Stats\n",
    "    .pivot(index=['TRIPPURP','TLFTYPE'],columns=\"FF_CALIB_ROUND\",values=\"AVG_TRIP_LEN\")\n",
    "    .reset_index(['TRIPPURP','TLFTYPE']))\n",
    "    #.calculate percent dif)\n",
    "\n",
    "if debug: display(dfTLF_ModelvsObservedAve_Stats)\n",
    "if debug: display(dfTLF_MvO_Dif)\n"
   ]
  },
  {
   "cell_type": "code",
   "execution_count": 56,
   "metadata": {},
   "outputs": [
    {
     "data": {
      "image/png": "[encoded data removed]",
      "text/plain": [
       "<Figure size 1080x576 with 1 Axes>"
      ]
     },
     "metadata": {},
     "output_type": "display_data"
    }
   ],
   "source": [
    "import seaborn as sns\n",
    "sns.set(rc={'figure.figsize':(15,8)})\n",
    "sns.barplot(data= dfTLF_ModelvsObservedAve_Stats,\n",
    "    x =\"TRIPPURP\",\n",
    "    y=\"AVG_TRIP_LEN\",\n",
    "    hue=\"FF_CALIB_ROUND\",\n",
    "    ci=None) \\\n",
    ".tick_params(axis='x', rotation=90)"
   ]
  },
  {
   "cell_type": "code",
   "execution_count": 221,
   "metadata": {},
   "outputs": [],
   "source": [
    "#PLOTTING FUNCTION\n",
    "\n",
    "# chart preset zoom extents\n",
    "dfZoomPresets = pd.DataFrame([\n",
    "    ['Begin' ,     0,   100,     0,np.NaN],\n",
    "    ['Mid'   ,    30,   160,     0, 0.018],\n",
    "    ['Tail'  ,   100,   400,     0, 0.001],\n",
    "    ['All'   ,np.NaN,np.NaN,np.NaN,np.NaN],\n",
    "    ['Custom',np.NaN,np.NaN,np.NaN,np.NaN],\n",
    "], columns=('PRESET','XMIN','XMAX','YMIN','YMAX'))\n",
    "dfZoomPresets\n",
    "\n",
    "def update_plot_mod_vs_obs(trippurps, tlftypes, zoompreset, xmin, xmax, ymin, ymax):\n",
    "\n",
    "    dfAvgTripLen = pd.DataFrame()\n",
    "    \n",
    "    data = []\n",
    "    for trippurp in trippurps:\n",
    "        for tlftype in tlftypes:\n",
    "\n",
    "            # data for plotting from filtered dataframe\n",
    "            plotdata = dfTLF_Obs[(dfTLF_Obs['TRIPPURP']==trippurp) & (dfTLF_Obs['TLFTYPE']==tlftype)]\n",
    "\n",
    "            # fill any NaN values with zeros\n",
    "            plotdata = plotdata.fillna(0)\n",
    "            \n",
    "            xplot = plotdata['BIN']\n",
    "            yplot = plotdata['FREQ']\n",
    "            name  = trippurp + ' ' + tlftype \n",
    "\n",
    "            trace1 = go.Scatter(\n",
    "                x=xplot,\n",
    "                y=yplot,\n",
    "                mode='lines',\n",
    "                name=name,\n",
    "                line=dict(\n",
    "                    shape='spline'\n",
    "                )\n",
    "            )\n",
    "            data.append(trace1)\n",
    "                \n",
    "    # get zoom presets\n",
    "    if (zoompreset=='Custom'):\n",
    "        _xmin = xmin\n",
    "        _xmax = xmax\n",
    "        _ymin = ymin\n",
    "        _ymax = ymax\n",
    "    else:\n",
    "        _xmin = dfZoomPresets[dfZoomPresets['PRESET']==zoompreset]['XMIN'].values[0]\n",
    "        _xmax = dfZoomPresets[dfZoomPresets['PRESET']==zoompreset]['XMAX'].values[0]\n",
    "        _ymin = dfZoomPresets[dfZoomPresets['PRESET']==zoompreset]['YMIN'].values[0]\n",
    "        _ymax = dfZoomPresets[dfZoomPresets['PRESET']==zoompreset]['YMAX'].values[0]\n",
    "\n",
    "    layout = go.Layout(\n",
    "        title='Trip Length Frequencies - Observed Data',\n",
    "        yaxis=dict(\n",
    "            title='',\n",
    "            range=(_ymin,_ymax)\n",
    "        ),\n",
    "        xaxis=dict(\n",
    "            title='GC/Dist/Time',\n",
    "            range=(_xmin,_xmax)\n",
    "        ),\n",
    "        #width=1600,\n",
    "        height=450\n",
    "    )\n",
    "    \n",
    "    fig = go.Figure(data=data, layout=layout)\n",
    "    py.offline.iplot(fig)"
   ]
  },
  {
   "cell_type": "code",
   "execution_count": 222,
   "metadata": {},
   "outputs": [
    {
     "data": {
      "text/html": [
       "        <script type=\"text/javascript\">\n",
       "        window.PlotlyConfig = {MathJaxConfig: 'local'};\n",
       "        if (window.MathJax && window.MathJax.Hub && window.MathJax.Hub.Config) {window.MathJax.Hub.Config({SVG: {font: \"STIX-Web\"}});}\n",
       "        if (typeof require !== 'undefined') {\n",
       "        require.undef(\"plotly\");\n",
       "        requirejs.config({\n",
       "            paths: {\n",
       "                'plotly': ['https://cdn.plot.ly/plotly-2.12.1.min']\n",
       "            }\n",
       "        });\n",
       "        require(['plotly'], function(Plotly) {\n",
       "            window._Plotly = Plotly;\n",
       "        });\n",
       "        }\n",
       "        </script>\n",
       "        "
      ]
     },
     "metadata": {},
     "output_type": "display_data"
    },
    {
     "ename": "KeyError",
     "evalue": "'STAGE'",
     "output_type": "error",
     "traceback": [
      "\u001b[1;31m---------------------------------------------------------------------------\u001b[0m",
      "\u001b[1;31mKeyError\u001b[0m                                  Traceback (most recent call last)",
      "\u001b[1;32mc:\\Users\\bhereth\\Anaconda3\\lib\\site-packages\\pandas\\core\\indexes\\base.py\u001b[0m in \u001b[0;36mget_loc\u001b[1;34m(self, key, method, tolerance)\u001b[0m\n\u001b[0;32m   3628\u001b[0m             \u001b[1;32mtry\u001b[0m\u001b[1;33m:\u001b[0m\u001b[1;33m\u001b[0m\u001b[1;33m\u001b[0m\u001b[0m\n\u001b[1;32m-> 3629\u001b[1;33m                 \u001b[1;32mreturn\u001b[0m \u001b[0mself\u001b[0m\u001b[1;33m.\u001b[0m\u001b[0m_engine\u001b[0m\u001b[1;33m.\u001b[0m\u001b[0mget_loc\u001b[0m\u001b[1;33m(\u001b[0m\u001b[0mcasted_key\u001b[0m\u001b[1;33m)\u001b[0m\u001b[1;33m\u001b[0m\u001b[1;33m\u001b[0m\u001b[0m\n\u001b[0m\u001b[0;32m   3630\u001b[0m             \u001b[1;32mexcept\u001b[0m \u001b[0mKeyError\u001b[0m \u001b[1;32mas\u001b[0m \u001b[0merr\u001b[0m\u001b[1;33m:\u001b[0m\u001b[1;33m\u001b[0m\u001b[1;33m\u001b[0m\u001b[0m\n",
      "\u001b[1;32mc:\\Users\\bhereth\\Anaconda3\\lib\\site-packages\\pandas\\_libs\\index.pyx\u001b[0m in \u001b[0;36mpandas._libs.index.IndexEngine.get_loc\u001b[1;34m()\u001b[0m\n",
      "\u001b[1;32mc:\\Users\\bhereth\\Anaconda3\\lib\\site-packages\\pandas\\_libs\\index.pyx\u001b[0m in \u001b[0;36mpandas._libs.index.IndexEngine.get_loc\u001b[1;34m()\u001b[0m\n",
      "\u001b[1;32mpandas\\_libs\\hashtable_class_helper.pxi\u001b[0m in \u001b[0;36mpandas._libs.hashtable.PyObjectHashTable.get_item\u001b[1;34m()\u001b[0m\n",
      "\u001b[1;32mpandas\\_libs\\hashtable_class_helper.pxi\u001b[0m in \u001b[0;36mpandas._libs.hashtable.PyObjectHashTable.get_item\u001b[1;34m()\u001b[0m\n",
      "\u001b[1;31mKeyError\u001b[0m: 'STAGE'",
      "\nThe above exception was the direct cause of the following exception:\n",
      "\u001b[1;31mKeyError\u001b[0m                                  Traceback (most recent call last)",
      "\u001b[1;32m~\\AppData\\Local\\Temp\\ipykernel_20852\\2082922390.py\u001b[0m in \u001b[0;36m<module>\u001b[1;34m\u001b[0m\n\u001b[0;32m      4\u001b[0m \u001b[0mlstTripPurp\u001b[0m  \u001b[1;33m=\u001b[0m \u001b[0mdfTLF_Obs\u001b[0m\u001b[1;33m[\u001b[0m\u001b[1;34m'TRIPPURP'\u001b[0m\u001b[1;33m]\u001b[0m\u001b[1;33m.\u001b[0m\u001b[0munique\u001b[0m\u001b[1;33m(\u001b[0m\u001b[1;33m)\u001b[0m\u001b[1;33m.\u001b[0m\u001b[0mtolist\u001b[0m\u001b[1;33m(\u001b[0m\u001b[1;33m)\u001b[0m \u001b[1;31m# HBW, HBShp, HBOth,...\u001b[0m\u001b[1;33m\u001b[0m\u001b[1;33m\u001b[0m\u001b[0m\n\u001b[0;32m      5\u001b[0m \u001b[0mlstTLFType\u001b[0m   \u001b[1;33m=\u001b[0m \u001b[0mdfTLF_Obs\u001b[0m\u001b[1;33m[\u001b[0m\u001b[1;34m'TLFTYPE'\u001b[0m \u001b[1;33m]\u001b[0m\u001b[1;33m.\u001b[0m\u001b[0munique\u001b[0m\u001b[1;33m(\u001b[0m\u001b[1;33m)\u001b[0m\u001b[1;33m.\u001b[0m\u001b[0mtolist\u001b[0m\u001b[1;33m(\u001b[0m\u001b[1;33m)\u001b[0m \u001b[1;31m# GC, Time, Dist\u001b[0m\u001b[1;33m\u001b[0m\u001b[1;33m\u001b[0m\u001b[0m\n\u001b[1;32m----> 6\u001b[1;33m \u001b[0mlstStage\u001b[0m     \u001b[1;33m=\u001b[0m \u001b[0mdfTLF_Obs\u001b[0m\u001b[1;33m[\u001b[0m\u001b[1;34m'STAGE'\u001b[0m   \u001b[1;33m]\u001b[0m\u001b[1;33m.\u001b[0m\u001b[0munique\u001b[0m\u001b[1;33m(\u001b[0m\u001b[1;33m)\u001b[0m\u001b[1;33m.\u001b[0m\u001b[0mtolist\u001b[0m\u001b[1;33m(\u001b[0m\u001b[1;33m)\u001b[0m\u001b[1;33m\u001b[0m\u001b[1;33m\u001b[0m\u001b[0m\n\u001b[0m\u001b[0;32m      7\u001b[0m \u001b[1;33m\u001b[0m\u001b[0m\n\u001b[0;32m      8\u001b[0m \u001b[0mselectTripPurp\u001b[0m  \u001b[1;33m=\u001b[0m \u001b[0mwidgets\u001b[0m\u001b[1;33m.\u001b[0m\u001b[0mSelectMultiple\u001b[0m\u001b[1;33m(\u001b[0m\u001b[0moptions\u001b[0m\u001b[1;33m=\u001b[0m\u001b[0mlstTripPurp\u001b[0m                     \u001b[1;33m,\u001b[0m \u001b[0mvalue\u001b[0m\u001b[1;33m=\u001b[0m\u001b[1;33m(\u001b[0m\u001b[1;34m'HBW'\u001b[0m\u001b[1;33m,\u001b[0m\u001b[1;33m)\u001b[0m\u001b[1;33m,\u001b[0m \u001b[0mdescription\u001b[0m\u001b[1;33m=\u001b[0m\u001b[1;34m'Trip Purpose'\u001b[0m\u001b[1;33m)\u001b[0m\u001b[1;33m\u001b[0m\u001b[1;33m\u001b[0m\u001b[0m\n",
      "\u001b[1;32mc:\\Users\\bhereth\\Anaconda3\\lib\\site-packages\\pandas\\core\\frame.py\u001b[0m in \u001b[0;36m__getitem__\u001b[1;34m(self, key)\u001b[0m\n\u001b[0;32m   3503\u001b[0m             \u001b[1;32mif\u001b[0m \u001b[0mself\u001b[0m\u001b[1;33m.\u001b[0m\u001b[0mcolumns\u001b[0m\u001b[1;33m.\u001b[0m\u001b[0mnlevels\u001b[0m \u001b[1;33m>\u001b[0m \u001b[1;36m1\u001b[0m\u001b[1;33m:\u001b[0m\u001b[1;33m\u001b[0m\u001b[1;33m\u001b[0m\u001b[0m\n\u001b[0;32m   3504\u001b[0m                 \u001b[1;32mreturn\u001b[0m \u001b[0mself\u001b[0m\u001b[1;33m.\u001b[0m\u001b[0m_getitem_multilevel\u001b[0m\u001b[1;33m(\u001b[0m\u001b[0mkey\u001b[0m\u001b[1;33m)\u001b[0m\u001b[1;33m\u001b[0m\u001b[1;33m\u001b[0m\u001b[0m\n\u001b[1;32m-> 3505\u001b[1;33m             \u001b[0mindexer\u001b[0m \u001b[1;33m=\u001b[0m \u001b[0mself\u001b[0m\u001b[1;33m.\u001b[0m\u001b[0mcolumns\u001b[0m\u001b[1;33m.\u001b[0m\u001b[0mget_loc\u001b[0m\u001b[1;33m(\u001b[0m\u001b[0mkey\u001b[0m\u001b[1;33m)\u001b[0m\u001b[1;33m\u001b[0m\u001b[1;33m\u001b[0m\u001b[0m\n\u001b[0m\u001b[0;32m   3506\u001b[0m             \u001b[1;32mif\u001b[0m \u001b[0mis_integer\u001b[0m\u001b[1;33m(\u001b[0m\u001b[0mindexer\u001b[0m\u001b[1;33m)\u001b[0m\u001b[1;33m:\u001b[0m\u001b[1;33m\u001b[0m\u001b[1;33m\u001b[0m\u001b[0m\n\u001b[0;32m   3507\u001b[0m                 \u001b[0mindexer\u001b[0m \u001b[1;33m=\u001b[0m \u001b[1;33m[\u001b[0m\u001b[0mindexer\u001b[0m\u001b[1;33m]\u001b[0m\u001b[1;33m\u001b[0m\u001b[1;33m\u001b[0m\u001b[0m\n",
      "\u001b[1;32mc:\\Users\\bhereth\\Anaconda3\\lib\\site-packages\\pandas\\core\\indexes\\base.py\u001b[0m in \u001b[0;36mget_loc\u001b[1;34m(self, key, method, tolerance)\u001b[0m\n\u001b[0;32m   3629\u001b[0m                 \u001b[1;32mreturn\u001b[0m \u001b[0mself\u001b[0m\u001b[1;33m.\u001b[0m\u001b[0m_engine\u001b[0m\u001b[1;33m.\u001b[0m\u001b[0mget_loc\u001b[0m\u001b[1;33m(\u001b[0m\u001b[0mcasted_key\u001b[0m\u001b[1;33m)\u001b[0m\u001b[1;33m\u001b[0m\u001b[1;33m\u001b[0m\u001b[0m\n\u001b[0;32m   3630\u001b[0m             \u001b[1;32mexcept\u001b[0m \u001b[0mKeyError\u001b[0m \u001b[1;32mas\u001b[0m \u001b[0merr\u001b[0m\u001b[1;33m:\u001b[0m\u001b[1;33m\u001b[0m\u001b[1;33m\u001b[0m\u001b[0m\n\u001b[1;32m-> 3631\u001b[1;33m                 \u001b[1;32mraise\u001b[0m \u001b[0mKeyError\u001b[0m\u001b[1;33m(\u001b[0m\u001b[0mkey\u001b[0m\u001b[1;33m)\u001b[0m \u001b[1;32mfrom\u001b[0m \u001b[0merr\u001b[0m\u001b[1;33m\u001b[0m\u001b[1;33m\u001b[0m\u001b[0m\n\u001b[0m\u001b[0;32m   3632\u001b[0m             \u001b[1;32mexcept\u001b[0m \u001b[0mTypeError\u001b[0m\u001b[1;33m:\u001b[0m\u001b[1;33m\u001b[0m\u001b[1;33m\u001b[0m\u001b[0m\n\u001b[0;32m   3633\u001b[0m                 \u001b[1;31m# If we have a listlike key, _check_indexing_error will raise\u001b[0m\u001b[1;33m\u001b[0m\u001b[1;33m\u001b[0m\u001b[0m\n",
      "\u001b[1;31mKeyError\u001b[0m: 'STAGE'"
     ]
    }
   ],
   "source": [
    "# MAKE INTERACTIVE CHART\n",
    "py.offline.init_notebook_mode(connected=True)\n",
    "\n",
    "lstTripPurp  = dfTLF_Obs['TRIPPURP'].unique().tolist() # HBW, HBShp, HBOth,...\n",
    "lstTLFType   = dfTLF_Obs['TLFTYPE' ].unique().tolist() # GC, Time, Dist\n",
    "lstStage     = dfTLF_Obs['STAGE'   ].unique().tolist() \n",
    "    \n",
    "selectTripPurp  = widgets.SelectMultiple(options=lstTripPurp                     , value=('HBW',), description='Trip Purpose')\n",
    "selectTLFType   = widgets.SelectMultiple(options=lstTLFType                      , value=('GC' ,), description='TLF Type'    )\n",
    "selectPreset    = widgets.Select        (options=dfZoomPresets['PRESET'].tolist(), value= 'All'  , description='Zoom Presets')\n",
    "\n",
    "#custom extents\n",
    "xmin = widgets.Text(value='0'  , description='X Min')\n",
    "xmax = widgets.Text(value='60' , description='X Max')\n",
    "ymin = widgets.Text(value='0'  , description='Y Min')\n",
    "ymax = widgets.Text(value='.01', description='Y Max')\n",
    "\n",
    "widgets.interactive(update_plot_mod_vs_obs, trippurps=selectTripPurp, tlftypes=selectTLFType, zoompreset=selectPreset, xmin=xmin, xmax=xmax, ymin=ymin, ymax=ymax)"
   ]
  },
  {
   "cell_type": "markdown",
   "metadata": {},
   "source": [
    "# Friction Factor Adjustment"
   ]
  },
  {
   "cell_type": "code",
   "execution_count": null,
   "metadata": {},
   "outputs": [],
   "source": []
  }
 ],
 "metadata": {
  "kernelspec": {
   "display_name": "arcgispro-py3-plotly",
   "language": "python",
   "name": "arcgispro-py3-plotly"
  },
  "language_info": {
   "codemirror_mode": {
    "name": "ipython",
    "version": 3
   },
   "file_extension": ".py",
   "mimetype": "text/x-python",
   "name": "python",
   "nbconvert_exporter": "python",
   "pygments_lexer": "ipython3",
   "version": "3.7.11"
  },
  "vscode": {
   "interpreter": {
    "hash": "4bb4605dfc804e0302ccd2292d0e6a4e9288eed266a860dfac34a70f30ea53a4"
   }
  }
 },
 "nbformat": 4,
 "nbformat_minor": 4
}
