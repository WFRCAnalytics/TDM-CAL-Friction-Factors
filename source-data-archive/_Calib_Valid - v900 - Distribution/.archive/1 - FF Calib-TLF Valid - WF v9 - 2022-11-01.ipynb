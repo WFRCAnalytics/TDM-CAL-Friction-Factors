{
 "cells": [
  {
   "cell_type": "code",
   "execution_count": 1,
   "metadata": {},
   "outputs": [
    {
     "data": {
      "text/html": [
       "        <script type=\"text/javascript\">\n",
       "        window.PlotlyConfig = {MathJaxConfig: 'local'};\n",
       "        if (window.MathJax && window.MathJax.Hub && window.MathJax.Hub.Config) {window.MathJax.Hub.Config({SVG: {font: \"STIX-Web\"}});}\n",
       "        if (typeof require !== 'undefined') {\n",
       "        require.undef(\"plotly\");\n",
       "        requirejs.config({\n",
       "            paths: {\n",
       "                'plotly': ['https://cdn.plot.ly/plotly-2.16.1.min']\n",
       "            }\n",
       "        });\n",
       "        require(['plotly'], function(Plotly) {\n",
       "            window._Plotly = Plotly;\n",
       "        });\n",
       "        }\n",
       "        </script>\n",
       "        "
      ]
     },
     "metadata": {},
     "output_type": "display_data"
    },
    {
     "data": {
      "text/html": [
       "<div>\n",
       "<style scoped>\n",
       "    .dataframe tbody tr th:only-of-type {\n",
       "        vertical-align: middle;\n",
       "    }\n",
       "\n",
       "    .dataframe tbody tr th {\n",
       "        vertical-align: top;\n",
       "    }\n",
       "\n",
       "    .dataframe thead th {\n",
       "        text-align: right;\n",
       "    }\n",
       "</style>\n",
       "<table border=\"1\" class=\"dataframe\">\n",
       "  <thead>\n",
       "    <tr style=\"text-align: right;\">\n",
       "      <th></th>\n",
       "      <th>INDEX_NUM</th>\n",
       "      <th>FF_CALIB_ROUND</th>\n",
       "      <th>LOCKFF</th>\n",
       "      <th>LOCKTLF</th>\n",
       "    </tr>\n",
       "  </thead>\n",
       "  <tbody>\n",
       "    <tr>\n",
       "      <th>0</th>\n",
       "      <td>0</td>\n",
       "      <td>0-Initial Take 2</td>\n",
       "      <td>True</td>\n",
       "      <td>True</td>\n",
       "    </tr>\n",
       "    <tr>\n",
       "      <th>1</th>\n",
       "      <td>1</td>\n",
       "      <td>1-First Charm</td>\n",
       "      <td>True</td>\n",
       "      <td>True</td>\n",
       "    </tr>\n",
       "    <tr>\n",
       "      <th>2</th>\n",
       "      <td>2</td>\n",
       "      <td>2-Burning the Oil</td>\n",
       "      <td>True</td>\n",
       "      <td>True</td>\n",
       "    </tr>\n",
       "    <tr>\n",
       "      <th>3</th>\n",
       "      <td>3</td>\n",
       "      <td>3-Rise and Shout</td>\n",
       "      <td>True</td>\n",
       "      <td>True</td>\n",
       "    </tr>\n",
       "    <tr>\n",
       "      <th>4</th>\n",
       "      <td>4</td>\n",
       "      <td>4-Dim the Lights</td>\n",
       "      <td>True</td>\n",
       "      <td>True</td>\n",
       "    </tr>\n",
       "    <tr>\n",
       "      <th>5</th>\n",
       "      <td>5</td>\n",
       "      <td>5-Please no More</td>\n",
       "      <td>True</td>\n",
       "      <td>True</td>\n",
       "    </tr>\n",
       "    <tr>\n",
       "      <th>6</th>\n",
       "      <td>6</td>\n",
       "      <td>6-Bring it On</td>\n",
       "      <td>True</td>\n",
       "      <td>True</td>\n",
       "    </tr>\n",
       "    <tr>\n",
       "      <th>7</th>\n",
       "      <td>7</td>\n",
       "      <td>7-Night of the Model</td>\n",
       "      <td>True</td>\n",
       "      <td>True</td>\n",
       "    </tr>\n",
       "    <tr>\n",
       "      <th>8</th>\n",
       "      <td>8</td>\n",
       "      <td>8-Mind Your Ps and As</td>\n",
       "      <td>True</td>\n",
       "      <td>True</td>\n",
       "    </tr>\n",
       "    <tr>\n",
       "      <th>9</th>\n",
       "      <td>9</td>\n",
       "      <td>9-Same as 8</td>\n",
       "      <td>False</td>\n",
       "      <td>False</td>\n",
       "    </tr>\n",
       "  </tbody>\n",
       "</table>\n",
       "</div>"
      ],
      "text/plain": [
       "  INDEX_NUM         FF_CALIB_ROUND  LOCKFF  LOCKTLF\n",
       "0         0       0-Initial Take 2    True     True\n",
       "1         1          1-First Charm    True     True\n",
       "2         2      2-Burning the Oil    True     True\n",
       "3         3       3-Rise and Shout    True     True\n",
       "4         4       4-Dim the Lights    True     True\n",
       "5         5       5-Please no More    True     True\n",
       "6         6          6-Bring it On    True     True\n",
       "7         7   7-Night of the Model    True     True\n",
       "8         8  8-Mind Your Ps and As    True     True\n",
       "9         9            9-Same as 8   False    False"
      ]
     },
     "metadata": {},
     "output_type": "display_data"
    }
   ],
   "source": [
    "# NOTEBOOK IS MEANT TO BE RUN ENTIRE WAY THROUGH AFTER EACH ITERATION\n",
    "# AUTOLOCKING OF DATA HELPS TO PRESERVE MODEL OUTPUT THAT MAY HAVE BEEN OVERWRITTEN ON EACH MODEL RUN\n",
    "# INDIVIDUAL PURPOSES CAN BE LOCKED AT ANY ROUND AND THEY WILL DROP OUT OF ADJUSTMENT AND SMOOTHING\n",
    "\n",
    "# debug toggle to turn on display of dataframes in cell outputs\n",
    "debug = False\n",
    "\n",
    "import pandas as pd  \n",
    "import os\n",
    "import plotly as py\n",
    "import plotly.graph_objects as go\n",
    "import plotly.express as px\n",
    "import ipywidgets as widgets\n",
    "import numpy as np\n",
    "from scipy import special\n",
    "import time\n",
    "\n",
    "# offline mode for charts, so it stays local\n",
    "py.offline.init_notebook_mode(connected=True)\n",
    "\n",
    "# set rounding precision and display precision - display is rounding + 1, so you can see that it's working\n",
    "round_precision = 7\n",
    "pd.set_option(\"display.precision\", round_precision + 1)\n",
    "\n",
    "# read in curve data'\n",
    "dirCWD    = os.getcwd()\n",
    "dirIntermediate = os.path.join(dirCWD,'_Friction_Factors')\n",
    "dirResults = os.path.join(dirCWD,'_Friction_Factors')\n",
    "\n",
    "binsize = 2\n",
    "\n",
    "observedStage = 'v9 Final Smoothing'\n",
    "\n",
    "filenameTLFObs  = r'A:\\1 - TDM\\2 - Estimate Param\\_General Parameters\\7 - Update Obs TLF\\3 - Create Obs TLFs for all Trips\\results\\dfTLF_Obs_wSmoothed_20221209-075253.csv'\n",
    "folderTDMTLFLoc = r'A:\\1 - TDM\\3 - Model Dev\\1 - WF\\2 - Sandbox\\v9.0Beta\\WF TDM v9.0 - 2022-11-01\\Scenarios\\BY_2019\\3_Distribute\\TLF'\n",
    "folderFFLoc     = r'A:\\1 - TDM\\3 - Model Dev\\1 - WF\\2 - Sandbox\\v9.0Beta\\WF TDM v9.0 - 2022-11-01\\1_Inputs\\0_GlobalData\\3_Distribute'\n",
    "\n",
    "# some trip purposes are added together for information purposes\n",
    "dfTripPurpSubtotals = pd.DataFrame([\n",
    "    ['HBOth','HBO' ],\n",
    "    ['HBShp','HBO' ],\n",
    "    ['NHBW' ,'NHB' ],\n",
    "    ['NHBNW','NHB' ],\n",
    "    ['IX'   ,'IXXI'],\n",
    "    ['XI'   ,'IXXI']\n",
    "],columns=(['TRIPPURP','TRIPPURP_SUB']))\n",
    "if debug: display(dfTripPurpSubtotals)\n",
    "\n",
    "# calibration round settings\n",
    "dfCalibrationRounds = pd.DataFrame([\n",
    "    ['0','0-Initial Take 2'     ],\n",
    "    ['1','1-First Charm'        ],\n",
    "    ['2','2-Burning the Oil'    ],\n",
    "    ['3','3-Rise and Shout'     ],\n",
    "    ['4','4-Dim the Lights'     ],\n",
    "    ['5','5-Please no More'     ],\n",
    "    ['6','6-Bring it On'        ],\n",
    "    ['7','7-Night of the Model' ],\n",
    "    ['8','8-Mind Your Ps and As'],\n",
    "    ['9','9-Same as 8'          ]\n",
    "],columns=(['INDEX_NUM','FF_CALIB_ROUND']))\n",
    "\n",
    "# create and initialize locking fields\n",
    "dfCalibrationRounds['LOCKFF' ] = False\n",
    "dfCalibrationRounds['LOCKTLF'] = False\n",
    "\n",
    "# AUTOLOCK ALL BUT LAST CALIBROUND TO AVOID OVERWRITING DATA IF NOT MANUALLY LOCKED\n",
    "dfCalibrationRounds.loc[(dfCalibrationRounds.index<dfCalibrationRounds.shape[0]-1), 'LOCKFF' ] = True\n",
    "dfCalibrationRounds.loc[(dfCalibrationRounds.index<dfCalibrationRounds.shape[0]-1), 'LOCKTLF'] = True\n",
    "\n",
    "display(dfCalibrationRounds)\n",
    "\n",
    "# a set of column renaming to be used to put all columns in consistent naming\n",
    "colRenames ={'HBOTH':'HBOth',\n",
    "             'HBSHP':'HBShp',\n",
    "             'HBSCHPR' :'HBSchPr',\n",
    "             'HBSCHSC' :'HBSchSc',\n",
    "             'HBSCH_PR':'HBSchPr',\n",
    "             'HBSCH_SC':'HBSchSc',\n",
    "             'HBSch_Pr':'HBSchPr',\n",
    "             'HBSch_Sc':'HBSchSc'}\n",
    "\n",
    "# max bin for normalizing adjusted FF (setting max=1)... in bins higher than this value, any value greater than 1.0 will be set to 1.0\n",
    "nrmlz_max_bin = 100\n",
    "\n",
    "# use entire width of browser for cells\n",
    "#from IPython.display import display, HTML\n",
    "#display(HTML(\"<style>.container { width:100% !important; }</style>\"))"
   ]
  },
  {
   "cell_type": "code",
   "execution_count": 2,
   "metadata": {},
   "outputs": [],
   "source": [
    "# create intermediate directories for each round\n",
    "for index, row in dfCalibrationRounds.iterrows():\n",
    "    path_ffcb = os.path.join(dirIntermediate,str(index))\n",
    "\n",
    "    # Check whether the specified path exists or not\n",
    "    isExist = os.path.exists(path_ffcb)\n",
    "    if not isExist:\n",
    "        os.makedirs(path_ffcb)\n",
    "        print(\"The new directory is created! \" + path_ffcb)\n",
    "\n",
    "    path_ms = os.path.join(path_ffcb,'manual_smoothing')\n",
    "\n",
    "    # Check whether the specified path exists or not\n",
    "    isExist = os.path.exists(path_ms)\n",
    "    if not isExist:\n",
    "        os.makedirs(path_ms)\n",
    "        print(\"The new directory is created! \" + path_ms)\n",
    "\n",
    "    path_fnr = os.path.join(path_ffcb,'factors for next round')\n",
    "    isExist = os.path.exists(path_fnr)\n",
    "    \n",
    "    #printing if the path exists or not\n",
    "    if not isExist:\n",
    "        os.makedirs(path_fnr)\n",
    "        print(\"The new directory is created! \" + path_fnr)\n"
   ]
  },
  {
   "cell_type": "markdown",
   "metadata": {},
   "source": [
    "# Observed Trip Length Frequencies"
   ]
  },
  {
   "cell_type": "code",
   "execution_count": 30,
   "metadata": {},
   "outputs": [],
   "source": [
    "# read in observed TLF data to be used\n",
    "dfTLF_Obs = pd.read_csv(filenameTLFObs)\n",
    "\n",
    "#filter by the STAGE for \n",
    "#dfTLF_Obs = dfTLF_Obs[dfTLF_Obs['STAGE']==observedStage].copy()\n",
    "#dfTLF_Obs = dfTLF_Obs.drop(columns=('STAGE'))\n",
    "if debug: display(dfTLF_Obs)"
   ]
  },
  {
   "cell_type": "code",
   "execution_count": 31,
   "metadata": {},
   "outputs": [],
   "source": [
    "# show max bin size for TLF type to use in updating TDM TLF code\n",
    "if debug: display(dfTLF_Obs[dfTLF_Obs['FREQ']>0].groupby(['TLFTYPE'],as_index=False).agg(MAXBIN=('BIN','max')))"
   ]
  },
  {
   "cell_type": "code",
   "execution_count": 32,
   "metadata": {},
   "outputs": [
    {
     "data": {
      "text/html": [
       "<div>\n",
       "<style scoped>\n",
       "    .dataframe tbody tr th:only-of-type {\n",
       "        vertical-align: middle;\n",
       "    }\n",
       "\n",
       "    .dataframe tbody tr th {\n",
       "        vertical-align: top;\n",
       "    }\n",
       "\n",
       "    .dataframe thead th {\n",
       "        text-align: right;\n",
       "    }\n",
       "</style>\n",
       "<table border=\"1\" class=\"dataframe\">\n",
       "  <thead>\n",
       "    <tr style=\"text-align: right;\">\n",
       "      <th></th>\n",
       "      <th>STAGE</th>\n",
       "      <th>TRIPPURP</th>\n",
       "      <th>TLFTYPE</th>\n",
       "      <th>FREQ_SUM</th>\n",
       "      <th>AVG_TRIP_LEN</th>\n",
       "    </tr>\n",
       "  </thead>\n",
       "  <tbody>\n",
       "    <tr>\n",
       "      <th>0</th>\n",
       "      <td>v832 Final Smoothing</td>\n",
       "      <td>All Trips</td>\n",
       "      <td>Dist</td>\n",
       "      <td>1.0</td>\n",
       "      <td>6.38814514</td>\n",
       "    </tr>\n",
       "    <tr>\n",
       "      <th>1</th>\n",
       "      <td>v832 Final Smoothing</td>\n",
       "      <td>All Trips</td>\n",
       "      <td>GC</td>\n",
       "      <td>1.0</td>\n",
       "      <td>21.44858256</td>\n",
       "    </tr>\n",
       "    <tr>\n",
       "      <th>2</th>\n",
       "      <td>v832 Final Smoothing</td>\n",
       "      <td>All Trips</td>\n",
       "      <td>Time</td>\n",
       "      <td>1.0</td>\n",
       "      <td>13.82494714</td>\n",
       "    </tr>\n",
       "    <tr>\n",
       "      <th>3</th>\n",
       "      <td>v832 Final Smoothing</td>\n",
       "      <td>HBOth</td>\n",
       "      <td>Dist</td>\n",
       "      <td>1.0</td>\n",
       "      <td>4.63263940</td>\n",
       "    </tr>\n",
       "    <tr>\n",
       "      <th>4</th>\n",
       "      <td>v832 Final Smoothing</td>\n",
       "      <td>HBOth</td>\n",
       "      <td>GC</td>\n",
       "      <td>1.0</td>\n",
       "      <td>17.17713600</td>\n",
       "    </tr>\n",
       "    <tr>\n",
       "      <th>...</th>\n",
       "      <td>...</td>\n",
       "      <td>...</td>\n",
       "      <td>...</td>\n",
       "      <td>...</td>\n",
       "      <td>...</td>\n",
       "    </tr>\n",
       "    <tr>\n",
       "      <th>205</th>\n",
       "      <td>v9 Unsmoothed</td>\n",
       "      <td>XI_HV</td>\n",
       "      <td>GC</td>\n",
       "      <td>1.0</td>\n",
       "      <td>158.78179379</td>\n",
       "    </tr>\n",
       "    <tr>\n",
       "      <th>206</th>\n",
       "      <td>v9 Unsmoothed</td>\n",
       "      <td>XI_HV</td>\n",
       "      <td>Time</td>\n",
       "      <td>1.0</td>\n",
       "      <td>73.50584930</td>\n",
       "    </tr>\n",
       "    <tr>\n",
       "      <th>207</th>\n",
       "      <td>v9 Unsmoothed</td>\n",
       "      <td>XI_MD</td>\n",
       "      <td>Dist</td>\n",
       "      <td>1.0</td>\n",
       "      <td>43.12571315</td>\n",
       "    </tr>\n",
       "    <tr>\n",
       "      <th>208</th>\n",
       "      <td>v9 Unsmoothed</td>\n",
       "      <td>XI_MD</td>\n",
       "      <td>GC</td>\n",
       "      <td>1.0</td>\n",
       "      <td>100.30330370</td>\n",
       "    </tr>\n",
       "    <tr>\n",
       "      <th>209</th>\n",
       "      <td>v9 Unsmoothed</td>\n",
       "      <td>XI_MD</td>\n",
       "      <td>Time</td>\n",
       "      <td>1.0</td>\n",
       "      <td>48.95515457</td>\n",
       "    </tr>\n",
       "  </tbody>\n",
       "</table>\n",
       "<p>210 rows × 5 columns</p>\n",
       "</div>"
      ],
      "text/plain": [
       "                    STAGE   TRIPPURP TLFTYPE  FREQ_SUM  AVG_TRIP_LEN\n",
       "0    v832 Final Smoothing  All Trips    Dist       1.0    6.38814514\n",
       "1    v832 Final Smoothing  All Trips      GC       1.0   21.44858256\n",
       "2    v832 Final Smoothing  All Trips    Time       1.0   13.82494714\n",
       "3    v832 Final Smoothing      HBOth    Dist       1.0    4.63263940\n",
       "4    v832 Final Smoothing      HBOth      GC       1.0   17.17713600\n",
       "..                    ...        ...     ...       ...           ...\n",
       "205         v9 Unsmoothed      XI_HV      GC       1.0  158.78179379\n",
       "206         v9 Unsmoothed      XI_HV    Time       1.0   73.50584930\n",
       "207         v9 Unsmoothed      XI_MD    Dist       1.0   43.12571315\n",
       "208         v9 Unsmoothed      XI_MD      GC       1.0  100.30330370\n",
       "209         v9 Unsmoothed      XI_MD    Time       1.0   48.95515457\n",
       "\n",
       "[210 rows x 5 columns]"
      ]
     },
     "metadata": {},
     "output_type": "display_data"
    }
   ],
   "source": [
    "# Check TLF Observed. FREQ should all sum to 1! Also show average trip length\n",
    "# add one to BIN to get bin midpoint\n",
    "dfTLF_Obs['BINMIDxFREQ'] = (dfTLF_Obs['BIN'] + 1) * dfTLF_Obs['FREQ']\n",
    "dfTLF_Obs_Stats = dfTLF_Obs.groupby(['STAGE','TRIPPURP','TLFTYPE'],as_index=False).agg(FREQ_SUM=('FREQ','sum'),AVG_TRIP_LEN=('BINMIDxFREQ','sum'))\n",
    "dfTLF_Obs.drop(columns=('BINMIDxFREQ'), inplace=True)\n",
    "if debug: display(dfTLF_Obs_Stats)\n",
    "display(dfTLF_Obs_Stats)"
   ]
  },
  {
   "cell_type": "markdown",
   "metadata": {},
   "source": [
    "# Friction Factors"
   ]
  },
  {
   "cell_type": "code",
   "execution_count": 33,
   "metadata": {},
   "outputs": [
    {
     "data": {
      "text/plain": [
       "'Reading csv for 0-Initial Take 2'"
      ]
     },
     "metadata": {},
     "output_type": "display_data"
    },
    {
     "data": {
      "text/plain": [
       "'Reading csv for 1-First Charm'"
      ]
     },
     "metadata": {},
     "output_type": "display_data"
    },
    {
     "data": {
      "text/plain": [
       "'Reading csv for 2-Burning the Oil'"
      ]
     },
     "metadata": {},
     "output_type": "display_data"
    },
    {
     "data": {
      "text/plain": [
       "'Reading csv for 3-Rise and Shout'"
      ]
     },
     "metadata": {},
     "output_type": "display_data"
    },
    {
     "data": {
      "text/plain": [
       "'Reading csv for 4-Dim the Lights'"
      ]
     },
     "metadata": {},
     "output_type": "display_data"
    },
    {
     "data": {
      "text/plain": [
       "'Reading csv for 5-Please no More'"
      ]
     },
     "metadata": {},
     "output_type": "display_data"
    },
    {
     "data": {
      "text/plain": [
       "'Reading csv for 6-Bring it On'"
      ]
     },
     "metadata": {},
     "output_type": "display_data"
    },
    {
     "data": {
      "text/plain": [
       "'Reading csv for 7-Night of the Model'"
      ]
     },
     "metadata": {},
     "output_type": "display_data"
    },
    {
     "data": {
      "text/plain": [
       "'Reading csv for 8-Mind Your Ps and As'"
      ]
     },
     "metadata": {},
     "output_type": "display_data"
    },
    {
     "data": {
      "text/plain": [
       "'Reading friction factors for 9-Same as 8'"
      ]
     },
     "metadata": {},
     "output_type": "display_data"
    }
   ],
   "source": [
    "# read Friction Factors into array ordered by iteration\n",
    "\n",
    "# Friction Factors array that stores a separate dataframe for each Calibration Round\n",
    "dfsFF=[]\n",
    "\n",
    "for index, row in dfCalibrationRounds.iterrows():\n",
    "    filename = os.path.join(os.path.join(dirIntermediate,str(index)),'1-friction factors begin.csv')\n",
    "    if row['LOCKFF']==False:\n",
    "        display ('Reading friction factors for ' + row['FF_CALIB_ROUND'])\n",
    "\n",
    "        read_ff_filename = os.path.join(folderFFLoc,'FricFactor_AllPurp_r' + row['INDEX_NUM'] + '.csv')\n",
    "        dfFF = pd.read_csv(read_ff_filename)\n",
    "\n",
    "        # make sure id column is always same: BIN\n",
    "        dfFF.rename(columns={';BIN':'BIN',';MINUTE':'BIN','Mile':'BIN','Mil':'BIN','Min':'BIN','Bin':'BIN'},inplace=True)\n",
    "        # rename columns\n",
    "        dfFF.rename(columns=colRenames,inplace=True)\n",
    "\n",
    "        if debug: display(dfFF)\n",
    "\n",
    "        # melt all columns but first\n",
    "        dfFF = pd.melt(dfFF, id_vars=['BIN'], value_vars=dfFF.columns[1:].tolist(), ignore_index=False, var_name='TRIPPURP', value_name='FF')\n",
    "\n",
    "        dfFF.to_csv(filename, index=False)\n",
    "\n",
    "    else:\n",
    "        display ('Reading csv for ' + row['FF_CALIB_ROUND'])\n",
    "        dfFF = pd.read_csv(filename)\n",
    "\n",
    "    # append to array of Friction Factors\n",
    "    dfsFF.append(dfFF)\n",
    "\n",
    "    if debug: display(dfFF)\n"
   ]
  },
  {
   "cell_type": "markdown",
   "metadata": {},
   "source": [
    "# Read in TDM Trip Length Frequencies"
   ]
  },
  {
   "cell_type": "code",
   "execution_count": 34,
   "metadata": {},
   "outputs": [
    {
     "data": {
      "text/plain": [
       "'Reading TLFs csv for 0-Initial Take 2'"
      ]
     },
     "metadata": {},
     "output_type": "display_data"
    },
    {
     "data": {
      "text/plain": [
       "'Reading TLFs csv for 1-First Charm'"
      ]
     },
     "metadata": {},
     "output_type": "display_data"
    },
    {
     "data": {
      "text/plain": [
       "'Reading TLFs csv for 2-Burning the Oil'"
      ]
     },
     "metadata": {},
     "output_type": "display_data"
    },
    {
     "data": {
      "text/plain": [
       "'Reading TLFs csv for 3-Rise and Shout'"
      ]
     },
     "metadata": {},
     "output_type": "display_data"
    },
    {
     "data": {
      "text/plain": [
       "'Reading TLFs csv for 4-Dim the Lights'"
      ]
     },
     "metadata": {},
     "output_type": "display_data"
    },
    {
     "data": {
      "text/plain": [
       "'Reading TLFs csv for 5-Please no More'"
      ]
     },
     "metadata": {},
     "output_type": "display_data"
    },
    {
     "data": {
      "text/plain": [
       "'Reading TLFs csv for 6-Bring it On'"
      ]
     },
     "metadata": {},
     "output_type": "display_data"
    },
    {
     "data": {
      "text/plain": [
       "'Reading TLFs csv for 7-Night of the Model'"
      ]
     },
     "metadata": {},
     "output_type": "display_data"
    },
    {
     "data": {
      "text/plain": [
       "'Reading TLFs csv for 8-Mind Your Ps and As'"
      ]
     },
     "metadata": {},
     "output_type": "display_data"
    },
    {
     "data": {
      "text/plain": [
       "'Reading 9-Same as 8 TLFs'"
      ]
     },
     "metadata": {},
     "output_type": "display_data"
    },
    {
     "data": {
      "text/plain": [
       "'Not adding to 1 (if empty dataset, YAY!!!):'"
      ]
     },
     "metadata": {},
     "output_type": "display_data"
    },
    {
     "data": {
      "text/html": [
       "<div>\n",
       "<style scoped>\n",
       "    .dataframe tbody tr th:only-of-type {\n",
       "        vertical-align: middle;\n",
       "    }\n",
       "\n",
       "    .dataframe tbody tr th {\n",
       "        vertical-align: top;\n",
       "    }\n",
       "\n",
       "    .dataframe thead th {\n",
       "        text-align: right;\n",
       "    }\n",
       "</style>\n",
       "<table border=\"1\" class=\"dataframe\">\n",
       "  <thead>\n",
       "    <tr style=\"text-align: right;\">\n",
       "      <th></th>\n",
       "      <th>TLFTYPE</th>\n",
       "      <th>TRIPPURP</th>\n",
       "      <th>FREQ_SUM</th>\n",
       "    </tr>\n",
       "  </thead>\n",
       "  <tbody>\n",
       "  </tbody>\n",
       "</table>\n",
       "</div>"
      ],
      "text/plain": [
       "Empty DataFrame\n",
       "Columns: [TLFTYPE, TRIPPURP, FREQ_SUM]\n",
       "Index: []"
      ]
     },
     "metadata": {},
     "output_type": "display_data"
    },
    {
     "name": "stderr",
     "output_type": "stream",
     "text": [
      "C:\\Users\\bhereth\\AppData\\Local\\Temp\\ipykernel_32476\\1087676738.py:92: SettingWithCopyWarning:\n",
      "\n",
      "\n",
      "A value is trying to be set on a copy of a slice from a DataFrame.\n",
      "Try using .loc[row_indexer,col_indexer] = value instead\n",
      "\n",
      "See the caveats in the documentation: https://pandas.pydata.org/pandas-docs/stable/user_guide/indexing.html#returning-a-view-versus-a-copy\n",
      "\n"
     ]
    }
   ],
   "source": [
    "# read in trips from TDM sorted into TLF bins\n",
    "\n",
    "# array of dataframes to hold TLFs from each round of calibration\n",
    "dfsTLF_TDM = []\n",
    "\n",
    "for index, row in dfCalibrationRounds.iterrows():\n",
    "    \n",
    "    filename = os.path.join(os.path.join(dirIntermediate,str(index)),'2-tlfs.csv')\n",
    "\n",
    "    if row['LOCKTLF']==False:\n",
    "\n",
    "        display('Reading ' + row['FF_CALIB_ROUND'] + ' TLFs')\n",
    "\n",
    "        tlfs=['Cost','Dist','Time']\n",
    "\n",
    "        dfTLFTDMTrips = pd.DataFrame()\n",
    "\n",
    "        for tlf in tlfs:\n",
    "            \n",
    "            # read in csv for tlf\n",
    "            dfRead = pd.read_csv(os.path.join(folderTDMTLFLoc, '_r' + row['INDEX_NUM'] + '\\\\TLF_' + tlf + '.csv'))\n",
    "\n",
    "            # make sure id column is always same: BIN\n",
    "            dfRead.rename(columns={';BIN':'BIN',';MINUTE':'BIN','Mile':'BIN','Mil':'BIN','Min':'BIN','Bin':'BIN'}, inplace=True)\n",
    "            # rename columns\n",
    "            dfRead.rename(columns=colRenames,inplace=True)\n",
    "\n",
    "            dfRead = pd.melt(dfRead, id_vars=['BIN'], value_vars=dfRead.columns[1:].tolist(), ignore_index=False, var_name='TRIPPURP', value_name='TRIPS')\n",
    "\n",
    "            # set TLF value, rename Cost to GC\n",
    "            if tlf=='Cost':\n",
    "                dfRead['TLFTYPE'] = 'GC'\n",
    "            else:\n",
    "                dfRead['TLFTYPE'] = tlf\n",
    "\n",
    "            # reorder columns\n",
    "            dfRead = dfRead[['TLFTYPE','TRIPPURP','BIN','TRIPS']]\n",
    "\n",
    "            # concat data into single dataframe\n",
    "            dfTLFTDMTrips = pd.concat([dfTLFTDMTrips, dfRead], ignore_index=True)\n",
    "\n",
    "        if debug: display(dfTLFTDMTrips)\n",
    "\n",
    "        # create subtotals\n",
    "        dfTLFTDMTripsForSubtotals = pd.DataFrame.merge(dfTLFTDMTrips, dfTripPurpSubtotals, on=('TRIPPURP'))\n",
    "        dfTLFTDMTripsForSubtotals = dfTLFTDMTripsForSubtotals.groupby(['TLFTYPE','TRIPPURP_SUB','BIN'],as_index=False).agg(TRIPS=('TRIPS','sum'),COUNT=('TRIPS','size'))\n",
    "        dfTLFTDMTripsForSubtotals = dfTLFTDMTripsForSubtotals[['TLFTYPE','TRIPPURP_SUB','BIN','TRIPS']]\n",
    "        dfTLFTDMTripsForSubtotals = dfTLFTDMTripsForSubtotals.rename(columns={'TRIPPURP_SUB':'TRIPPURP'})\n",
    "        if debug: display (dfTLFTDMTripsForSubtotals)\n",
    "\n",
    "        # concat subtotals\n",
    "        dfTLFTDMTrips = pd.concat([dfTLFTDMTrips,dfTLFTDMTripsForSubtotals], ignore_index=True)\n",
    "        if debug: display(dfTLFTDMTrips)\n",
    "\n",
    "        # calculated collapsed bins\n",
    "        from math import floor\n",
    "        def round_to_binsize(x):\n",
    "            return int(binsize * floor(float(x)/binsize))\n",
    "        dfTLFTDMTrips['BIN_COLLAPSE'] = dfTLFTDMTrips['BIN'].apply(lambda x: round_to_binsize(x))\n",
    "        if debug: display(dfTLFTDMTrips)\n",
    "\n",
    "        # aggregate to collapsed bins\n",
    "        dfTLFTDMTrips = dfTLFTDMTrips.groupby(['TLFTYPE','TRIPPURP','BIN_COLLAPSE'], as_index=False).agg(TRIPS=('TRIPS','sum'))\n",
    "        dfTLFTDMTrips = dfTLFTDMTrips.rename(columns={'BIN_COLLAPSE':'BIN'})\n",
    "        if debug: display(dfTLFTDMTrips)\n",
    "\n",
    "        # calculate percent distribution\n",
    "        dfTLFTDMTripTotals = dfTLFTDMTrips.groupby(['TLFTYPE','TRIPPURP'], as_index=False).agg(TRIP_TOTAL=('TRIPS','sum'))\n",
    "        if debug: display(dfTLFTDMTripTotals)\n",
    "\n",
    "        # join to toals\n",
    "        dfTLFTDMTripDist = pd.DataFrame.merge(dfTLFTDMTrips, dfTLFTDMTripTotals, on=('TLFTYPE','TRIPPURP'))\n",
    "        dfTLFTDMTripDist['FREQ'] = dfTLFTDMTripDist['TRIPS'] / dfTLFTDMTripDist['TRIP_TOTAL']\n",
    "        if debug: display(dfTLFTDMTripDist)\n",
    "\n",
    "        dfTLF_TDM = dfTLFTDMTripDist[['TLFTYPE','TRIPPURP','BIN','FREQ']]\n",
    "        if debug: display(dfTLF_TDM)\n",
    "\n",
    "        # check to see if add up to 1.0\n",
    "        dfCheck = dfTLF_TDM.groupby(['TLFTYPE','TRIPPURP'], as_index=False).agg(FREQ_SUM=('FREQ','sum'))\n",
    "        # only display results out of range\n",
    "        display('Not adding to 1 (if empty dataset, YAY!!!):')\n",
    "        display(dfCheck[(dfCheck['FREQ_SUM']<0.9999999) | (dfCheck['FREQ_SUM']>1.0000001)])\n",
    "\n",
    "        dfTLF_TDM.to_csv(filename, index=False)\n",
    "\n",
    "    else:\n",
    "        display('Reading TLFs csv for ' + row['FF_CALIB_ROUND'])\n",
    "        dfTLF_TDM = pd.read_csv(filename)\n",
    "\n",
    "    #add calibration round back into table\n",
    "    dfTLF_TDM['FF_CALIB_ROUND'] = row['FF_CALIB_ROUND']\n",
    "\n",
    "    # append dataframe to array\n",
    "    dfsTLF_TDM.append(dfTLF_TDM)\n"
   ]
  },
  {
   "cell_type": "markdown",
   "metadata": {},
   "source": [
    "# Model vs Observed Plots"
   ]
  },
  {
   "cell_type": "markdown",
   "metadata": {},
   "source": [
    "Compare Average Trip Length Between Modeled and Observed Data"
   ]
  },
  {
   "cell_type": "code",
   "execution_count": 35,
   "metadata": {},
   "outputs": [
    {
     "name": "stderr",
     "output_type": "stream",
     "text": [
      "C:\\Users\\bhereth\\AppData\\Local\\Temp\\ipykernel_32476\\1026098527.py:2: SettingWithCopyWarning:\n",
      "\n",
      "\n",
      "A value is trying to be set on a copy of a slice from a DataFrame.\n",
      "Try using .loc[row_indexer,col_indexer] = value instead\n",
      "\n",
      "See the caveats in the documentation: https://pandas.pydata.org/pandas-docs/stable/user_guide/indexing.html#returning-a-view-versus-a-copy\n",
      "\n",
      "C:\\Users\\bhereth\\AppData\\Local\\Temp\\ipykernel_32476\\1026098527.py:3: SettingWithCopyWarning:\n",
      "\n",
      "\n",
      "A value is trying to be set on a copy of a slice from a DataFrame\n",
      "\n",
      "See the caveats in the documentation: https://pandas.pydata.org/pandas-docs/stable/user_guide/indexing.html#returning-a-view-versus-a-copy\n",
      "\n",
      "C:\\Users\\bhereth\\AppData\\Local\\Temp\\ipykernel_32476\\1026098527.py:6: FutureWarning:\n",
      "\n",
      "The frame.append method is deprecated and will be removed from pandas in a future version. Use pandas.concat instead.\n",
      "\n"
     ]
    },
    {
     "data": {
      "text/html": [
       "<div>\n",
       "<style scoped>\n",
       "    .dataframe tbody tr th:only-of-type {\n",
       "        vertical-align: middle;\n",
       "    }\n",
       "\n",
       "    .dataframe tbody tr th {\n",
       "        vertical-align: top;\n",
       "    }\n",
       "\n",
       "    .dataframe thead th {\n",
       "        text-align: right;\n",
       "    }\n",
       "</style>\n",
       "<table border=\"1\" class=\"dataframe\">\n",
       "  <thead>\n",
       "    <tr style=\"text-align: right;\">\n",
       "      <th></th>\n",
       "      <th>FF_CALIB_ROUND</th>\n",
       "      <th>TRIPPURP</th>\n",
       "      <th>TLFTYPE</th>\n",
       "      <th>FREQ_SUM</th>\n",
       "      <th>AVG_TRIP_LEN</th>\n",
       "    </tr>\n",
       "  </thead>\n",
       "  <tbody>\n",
       "    <tr>\n",
       "      <th>0</th>\n",
       "      <td>0-Initial Take 2</td>\n",
       "      <td>HBO</td>\n",
       "      <td>Dist</td>\n",
       "      <td>1.0</td>\n",
       "      <td>4.85901090</td>\n",
       "    </tr>\n",
       "    <tr>\n",
       "      <th>1</th>\n",
       "      <td>0-Initial Take 2</td>\n",
       "      <td>HBO</td>\n",
       "      <td>GC</td>\n",
       "      <td>1.0</td>\n",
       "      <td>17.79816741</td>\n",
       "    </tr>\n",
       "    <tr>\n",
       "      <th>2</th>\n",
       "      <td>0-Initial Take 2</td>\n",
       "      <td>HBO</td>\n",
       "      <td>Time</td>\n",
       "      <td>1.0</td>\n",
       "      <td>11.66604000</td>\n",
       "    </tr>\n",
       "    <tr>\n",
       "      <th>3</th>\n",
       "      <td>0-Initial Take 2</td>\n",
       "      <td>HBOth</td>\n",
       "      <td>Dist</td>\n",
       "      <td>1.0</td>\n",
       "      <td>5.02842825</td>\n",
       "    </tr>\n",
       "    <tr>\n",
       "      <th>4</th>\n",
       "      <td>0-Initial Take 2</td>\n",
       "      <td>HBOth</td>\n",
       "      <td>GC</td>\n",
       "      <td>1.0</td>\n",
       "      <td>18.19945867</td>\n",
       "    </tr>\n",
       "    <tr>\n",
       "      <th>...</th>\n",
       "      <td>...</td>\n",
       "      <td>...</td>\n",
       "      <td>...</td>\n",
       "      <td>...</td>\n",
       "      <td>...</td>\n",
       "    </tr>\n",
       "    <tr>\n",
       "      <th>778</th>\n",
       "      <td>ObservedInitial</td>\n",
       "      <td>XI_HV</td>\n",
       "      <td>GC</td>\n",
       "      <td>1.0</td>\n",
       "      <td>158.78179379</td>\n",
       "    </tr>\n",
       "    <tr>\n",
       "      <th>779</th>\n",
       "      <td>ObservedInitial</td>\n",
       "      <td>XI_HV</td>\n",
       "      <td>Time</td>\n",
       "      <td>1.0</td>\n",
       "      <td>73.50584930</td>\n",
       "    </tr>\n",
       "    <tr>\n",
       "      <th>780</th>\n",
       "      <td>ObservedInitial</td>\n",
       "      <td>XI_MD</td>\n",
       "      <td>Dist</td>\n",
       "      <td>1.0</td>\n",
       "      <td>43.12571315</td>\n",
       "    </tr>\n",
       "    <tr>\n",
       "      <th>781</th>\n",
       "      <td>ObservedInitial</td>\n",
       "      <td>XI_MD</td>\n",
       "      <td>GC</td>\n",
       "      <td>1.0</td>\n",
       "      <td>100.30330370</td>\n",
       "    </tr>\n",
       "    <tr>\n",
       "      <th>782</th>\n",
       "      <td>ObservedInitial</td>\n",
       "      <td>XI_MD</td>\n",
       "      <td>Time</td>\n",
       "      <td>1.0</td>\n",
       "      <td>48.95515457</td>\n",
       "    </tr>\n",
       "  </tbody>\n",
       "</table>\n",
       "<p>783 rows × 5 columns</p>\n",
       "</div>"
      ],
      "text/plain": [
       "       FF_CALIB_ROUND TRIPPURP TLFTYPE  FREQ_SUM  AVG_TRIP_LEN\n",
       "0    0-Initial Take 2      HBO    Dist       1.0    4.85901090\n",
       "1    0-Initial Take 2      HBO      GC       1.0   17.79816741\n",
       "2    0-Initial Take 2      HBO    Time       1.0   11.66604000\n",
       "3    0-Initial Take 2    HBOth    Dist       1.0    5.02842825\n",
       "4    0-Initial Take 2    HBOth      GC       1.0   18.19945867\n",
       "..                ...      ...     ...       ...           ...\n",
       "778   ObservedInitial    XI_HV      GC       1.0  158.78179379\n",
       "779   ObservedInitial    XI_HV    Time       1.0   73.50584930\n",
       "780   ObservedInitial    XI_MD    Dist       1.0   43.12571315\n",
       "781   ObservedInitial    XI_MD      GC       1.0  100.30330370\n",
       "782   ObservedInitial    XI_MD    Time       1.0   48.95515457\n",
       "\n",
       "[783 rows x 5 columns]"
      ]
     },
     "execution_count": 35,
     "metadata": {},
     "output_type": "execute_result"
    }
   ],
   "source": [
    "dfTLF_Obs_N = dfTLF_Obs.loc[dfTLF_Obs['STAGE'].isin(['v9 Unsmoothed','v9 Final Smoothing'])]\n",
    "dfTLF_Obs_N['FF_CALIB_ROUND'] = np.where(dfTLF_Obs_N['STAGE'] == 'v9 Unsmoothed', 'ObservedInitial', 'ObservedFinal')\n",
    "dfTLF_Obs_N.rename(columns={'FREQ_Obs':'FREQ'},inplace=True) # temp fix\n",
    "\n",
    "#Merge together all Modeled data and Observed data\n",
    "dfObsModelMerge = (pd.concat(dfsTLF_TDM).append(dfTLF_Obs_N))   \n",
    "\n",
    "#CALCUATE TRIP LENGTH AVERAGES AS TABLE\n",
    "dfObsModelMerge['BINMIDxFREQ'] = (dfObsModelMerge['BIN'] + 1) * dfObsModelMerge['FREQ']\n",
    "dfObsModelMerge_Stats = (dfObsModelMerge\n",
    "    .groupby(['FF_CALIB_ROUND','TRIPPURP','TLFTYPE'],as_index=False)\n",
    "        .agg(FREQ_SUM=('FREQ','sum'),AVG_TRIP_LEN=('BINMIDxFREQ','sum'))) # ADDING BINMIDxFREQ to get Avg Trip Length only works if FREQ sum = 1\n",
    "\n",
    "(dfObsModelMerge_Stats)"
   ]
  },
  {
   "cell_type": "code",
   "execution_count": 36,
   "metadata": {},
   "outputs": [
    {
     "data": {
      "text/html": [
       "<div>\n",
       "<style scoped>\n",
       "    .dataframe tbody tr th:only-of-type {\n",
       "        vertical-align: middle;\n",
       "    }\n",
       "\n",
       "    .dataframe tbody tr th {\n",
       "        vertical-align: top;\n",
       "    }\n",
       "\n",
       "    .dataframe thead th {\n",
       "        text-align: right;\n",
       "    }\n",
       "</style>\n",
       "<table border=\"1\" class=\"dataframe\">\n",
       "  <thead>\n",
       "    <tr style=\"text-align: right;\">\n",
       "      <th></th>\n",
       "      <th>TRIPPURP</th>\n",
       "      <th>SORTORDER</th>\n",
       "      <th>TRIPPURP_CHART</th>\n",
       "    </tr>\n",
       "  </thead>\n",
       "  <tbody>\n",
       "    <tr>\n",
       "      <th>0</th>\n",
       "      <td>HBW</td>\n",
       "      <td>1</td>\n",
       "      <td>01 - HBW</td>\n",
       "    </tr>\n",
       "    <tr>\n",
       "      <th>1</th>\n",
       "      <td>HBShp</td>\n",
       "      <td>2</td>\n",
       "      <td>02 - HBShp</td>\n",
       "    </tr>\n",
       "    <tr>\n",
       "      <th>2</th>\n",
       "      <td>HBOth</td>\n",
       "      <td>3</td>\n",
       "      <td>03 - HBOth</td>\n",
       "    </tr>\n",
       "    <tr>\n",
       "      <th>3</th>\n",
       "      <td>HBSchPr</td>\n",
       "      <td>4</td>\n",
       "      <td>04 - HBSchPr</td>\n",
       "    </tr>\n",
       "    <tr>\n",
       "      <th>4</th>\n",
       "      <td>HBSchSc</td>\n",
       "      <td>5</td>\n",
       "      <td>05 - HBSchSc</td>\n",
       "    </tr>\n",
       "    <tr>\n",
       "      <th>5</th>\n",
       "      <td>NHBW</td>\n",
       "      <td>6</td>\n",
       "      <td>06 - NHBW</td>\n",
       "    </tr>\n",
       "    <tr>\n",
       "      <th>6</th>\n",
       "      <td>NHBNW</td>\n",
       "      <td>7</td>\n",
       "      <td>07 - NHBNW</td>\n",
       "    </tr>\n",
       "    <tr>\n",
       "      <th>7</th>\n",
       "      <td>LT</td>\n",
       "      <td>8</td>\n",
       "      <td>08 - LT</td>\n",
       "    </tr>\n",
       "    <tr>\n",
       "      <th>8</th>\n",
       "      <td>MD</td>\n",
       "      <td>9</td>\n",
       "      <td>09 - MD</td>\n",
       "    </tr>\n",
       "    <tr>\n",
       "      <th>9</th>\n",
       "      <td>HV</td>\n",
       "      <td>10</td>\n",
       "      <td>10 - HV</td>\n",
       "    </tr>\n",
       "    <tr>\n",
       "      <th>10</th>\n",
       "      <td>IX</td>\n",
       "      <td>11</td>\n",
       "      <td>11 - IX</td>\n",
       "    </tr>\n",
       "    <tr>\n",
       "      <th>11</th>\n",
       "      <td>XI</td>\n",
       "      <td>12</td>\n",
       "      <td>12 - XI</td>\n",
       "    </tr>\n",
       "    <tr>\n",
       "      <th>12</th>\n",
       "      <td>IX_LT</td>\n",
       "      <td>13</td>\n",
       "      <td>13 - IX_LT</td>\n",
       "    </tr>\n",
       "    <tr>\n",
       "      <th>13</th>\n",
       "      <td>IX_MD</td>\n",
       "      <td>14</td>\n",
       "      <td>14 - IX_MD</td>\n",
       "    </tr>\n",
       "    <tr>\n",
       "      <th>14</th>\n",
       "      <td>IX_HV</td>\n",
       "      <td>15</td>\n",
       "      <td>15 - IX_HV</td>\n",
       "    </tr>\n",
       "    <tr>\n",
       "      <th>15</th>\n",
       "      <td>XI_LT</td>\n",
       "      <td>16</td>\n",
       "      <td>16 - XI_LT</td>\n",
       "    </tr>\n",
       "    <tr>\n",
       "      <th>16</th>\n",
       "      <td>XI_MD</td>\n",
       "      <td>17</td>\n",
       "      <td>17 - XI_MD</td>\n",
       "    </tr>\n",
       "    <tr>\n",
       "      <th>17</th>\n",
       "      <td>XI_HV</td>\n",
       "      <td>18</td>\n",
       "      <td>18 - XI_HV</td>\n",
       "    </tr>\n",
       "  </tbody>\n",
       "</table>\n",
       "</div>"
      ],
      "text/plain": [
       "   TRIPPURP SORTORDER TRIPPURP_CHART\n",
       "0       HBW         1       01 - HBW\n",
       "1     HBShp         2     02 - HBShp\n",
       "2     HBOth         3     03 - HBOth\n",
       "3   HBSchPr         4   04 - HBSchPr\n",
       "4   HBSchSc         5   05 - HBSchSc\n",
       "5      NHBW         6      06 - NHBW\n",
       "6     NHBNW         7     07 - NHBNW\n",
       "7        LT         8        08 - LT\n",
       "8        MD         9        09 - MD\n",
       "9        HV        10        10 - HV\n",
       "10       IX        11        11 - IX\n",
       "11       XI        12        12 - XI\n",
       "12    IX_LT        13     13 - IX_LT\n",
       "13    IX_MD        14     14 - IX_MD\n",
       "14    IX_HV        15     15 - IX_HV\n",
       "15    XI_LT        16     16 - XI_LT\n",
       "16    XI_MD        17     17 - XI_MD\n",
       "17    XI_HV        18     18 - XI_HV"
      ]
     },
     "execution_count": 36,
     "metadata": {},
     "output_type": "execute_result"
    }
   ],
   "source": [
    "dfTripTypeOrder = pd.DataFrame([\n",
    "  ['HBW',    '1'],\n",
    "  ['HBShp',  '2'],\n",
    "  ['HBOth',  '3'],\n",
    "  ['HBSchPr','4'],\n",
    "  ['HBSchSc','5'],\n",
    "  ['NHBW',   '6'],\n",
    "  ['NHBNW',  '7'],\n",
    "  ['LT',     '8'],\n",
    "  ['MD',     '9'],\n",
    "  ['HV',     '10'],\n",
    "  ['IX',     '11'],\n",
    "  ['XI',     '12'],\n",
    "  ['IX_LT',  '13'],\n",
    "  ['IX_MD',  '14'],\n",
    "  ['IX_HV',  '15'],\n",
    "  ['XI_LT',  '16'],\n",
    "  ['XI_MD',  '17'],\n",
    "  ['XI_HV',  '18']\n",
    "], columns=('TRIPPURP','SORTORDER'))\n",
    "\n",
    "dfTripTypeOrder['TRIPPURP_CHART'] = dfTripTypeOrder['SORTORDER'].astype(str).str.zfill(2) + ' - ' + dfTripTypeOrder['TRIPPURP']\n",
    "dfTripTypeOrder"
   ]
  },
  {
   "cell_type": "code",
   "execution_count": 37,
   "metadata": {},
   "outputs": [],
   "source": [
    "def update_df_mod_vs_obs(modeloption,tlfoption,trippurpoption):\n",
    "    modellist = list(modeloption)\n",
    "    \n",
    "    # setup custom coloring\n",
    "    colorlist = []\n",
    "    tablefillcolorlist = ['lightgrey','lightgrey'] # first two columns\n",
    "    for i in range(len(modellist)):\n",
    "        if i == (len(modellist) - 1):\n",
    "            colorlist.append('blue')\n",
    "            tablefillcolorlist.append('lavender')\n",
    "            # and next to last\n",
    "            tablefillcolorlist[-1] = 'lavender'\n",
    "        else:\n",
    "            colorlist.append('cornflowerblue')\n",
    "            tablefillcolorlist.append('lightgrey')\n",
    "    # append observed\n",
    "    modellist.append('ObservedInitial')\n",
    "    colorlist.append('red')\n",
    "    tablefillcolorlist.append('lavender')\n",
    "\n",
    "    dfObsModelMerge_Stats2 =(dfObsModelMerge_Stats\n",
    "        .loc[dfObsModelMerge_Stats['FF_CALIB_ROUND'].isin(modellist)])\n",
    "    dfObsModelMerge_Stats3 = (dfObsModelMerge_Stats2\n",
    "        .loc[dfObsModelMerge_Stats2['TLFTYPE'].isin(tlfoption)])\n",
    "    dfObsModelMerge_Stats4 = (dfObsModelMerge_Stats3\n",
    "        .loc[dfObsModelMerge_Stats3['TRIPPURP'].isin(trippurpoption)])\n",
    "    \n",
    "    dfObsModelMerge_Stats4 = pd.DataFrame.merge(dfObsModelMerge_Stats4,dfTripTypeOrder,on='TRIPPURP',how='left')\n",
    "    #display(dfObsModelMerge_Stats4)\n",
    "\n",
    "    if len(modellist) > 2:\n",
    "        dfTLF_MvO_Wide2 = (dfObsModelMerge_Stats4\n",
    "            .pivot(index=['TRIPPURP_CHART','TLFTYPE'],columns=\"FF_CALIB_ROUND\",values=\"AVG_TRIP_LEN\")\n",
    "            #.fillna(0.0000000002)\n",
    "            .reset_index(['TRIPPURP_CHART','TLFTYPE'])\n",
    "            .assign(PercentDiff = lambda x: (x[modellist[len(modellist)-2]] - x['ObservedInitial'])/(x['ObservedInitial'])))\n",
    "    else:\n",
    "        dfTLF_MvO_Wide2 = (dfObsModelMerge_Stats4\n",
    "            .pivot(index=['TRIPPURP_CHART','TLFTYPE'],columns=\"FF_CALIB_ROUND\",values=\"AVG_TRIP_LEN\")\n",
    "            #.fillna(0.0000000002)\n",
    "            .reset_index(['TRIPPURP_CHART','TLFTYPE'])\n",
    "            .assign(PercentDiff = lambda x: (x[modellist[0]] - x['ObservedInitial'])/(x['ObservedInitial'])))\n",
    "\n",
    "    fig = go.Figure(data=[go.Table(\n",
    "                    header = dict(values=list(dfTLF_MvO_Wide2.columns),\n",
    "                                  fill_color='paleturquoise',\n",
    "                                  align='left'),\n",
    "                    cells =  dict(values=round(dfTLF_MvO_Wide2,2).transpose().values.tolist(),\n",
    "                                  fill_color=tablefillcolorlist,\n",
    "                                  align='left'))\n",
    "                    ])\n",
    "\n",
    "    figbar2 = px.bar(dfObsModelMerge_Stats4, \n",
    "                     x = 'TRIPPURP_CHART', \n",
    "                     y = 'AVG_TRIP_LEN', \n",
    "                     color = 'FF_CALIB_ROUND', \n",
    "                     barmode = 'group',\n",
    "                     color_discrete_sequence=colorlist,\n",
    "                    )\n",
    "    display(tlfoption)\n",
    "    figbar2.update_xaxes(categoryorder='category ascending')\n",
    "    figbar2.show()\n",
    "    py.offline.iplot(fig)  "
   ]
  },
  {
   "cell_type": "code",
   "execution_count": 39,
   "metadata": {},
   "outputs": [
    {
     "data": {
      "text/html": [
       "        <script type=\"text/javascript\">\n",
       "        window.PlotlyConfig = {MathJaxConfig: 'local'};\n",
       "        if (window.MathJax && window.MathJax.Hub && window.MathJax.Hub.Config) {window.MathJax.Hub.Config({SVG: {font: \"STIX-Web\"}});}\n",
       "        if (typeof require !== 'undefined') {\n",
       "        require.undef(\"plotly\");\n",
       "        requirejs.config({\n",
       "            paths: {\n",
       "                'plotly': ['https://cdn.plot.ly/plotly-2.12.1.min']\n",
       "            }\n",
       "        });\n",
       "        require(['plotly'], function(Plotly) {\n",
       "            window._Plotly = Plotly;\n",
       "        });\n",
       "        }\n",
       "        </script>\n",
       "        "
      ]
     },
     "metadata": {},
     "output_type": "display_data"
    },
    {
     "data": {
      "application/vnd.jupyter.widget-view+json": {
       "model_id": "9f28f1062f844613a66dfcdaa0356dd9",
       "version_major": 2,
       "version_minor": 0
      },
      "text/plain": [
       "interactive(children=(SelectMultiple(description='Model Run', index=(0, 1, 2, 3, 4, 5, 6, 7, 8, 9), options=('…"
      ]
     },
     "metadata": {},
     "output_type": "display_data"
    },
    {
     "data": {
      "application/vnd.plotly.v1+json": {
       "config": {
        "plotlyServerURL": "https://plot.ly"
       },
       "data": [
        {
         "alignmentgroup": "True",
         "hovertemplate": "FF_CALIB_ROUND=0-Initial Take 2<br>TRIPPURP_CHART=%{x}<br>AVG_TRIP_LEN=%{y}<extra></extra>",
         "legendgroup": "0-Initial Take 2",
         "marker": {
          "color": "cornflowerblue",
          "pattern": {
           "shape": ""
          }
         },
         "name": "0-Initial Take 2",
         "offsetgroup": "0-Initial Take 2",
         "orientation": "v",
         "showlegend": true,
         "textposition": "auto",
         "type": "bar",
         "x": [
          "03 - HBOth",
          "04 - HBSchPr",
          "05 - HBSchSc",
          "02 - HBShp",
          "01 - HBW",
          "10 - HV",
          "11 - IX",
          "15 - IX_HV",
          "13 - IX_LT",
          "14 - IX_MD",
          "08 - LT",
          "09 - MD",
          "07 - NHBNW",
          "06 - NHBW",
          "12 - XI",
          "18 - XI_HV",
          "16 - XI_LT",
          "17 - XI_MD"
         ],
         "xaxis": "x",
         "y": [
          18.199458668036147,
          8.16455729809616,
          13.079778834037263,
          16.127555264802545,
          32.767105276481956,
          23.007762383008142,
          72.96268965183373,
          95.94134456977537,
          64.52131058405966,
          85.59982392050787,
          26.78510311297496,
          23.938852221066224,
          17.737683724346684,
          21.848296372869576,
          62.05466407267,
          95.94134456977537,
          1,
          85.59982392050787
         ],
         "yaxis": "y"
        },
        {
         "alignmentgroup": "True",
         "hovertemplate": "FF_CALIB_ROUND=1-First Charm<br>TRIPPURP_CHART=%{x}<br>AVG_TRIP_LEN=%{y}<extra></extra>",
         "legendgroup": "1-First Charm",
         "marker": {
          "color": "cornflowerblue",
          "pattern": {
           "shape": ""
          }
         },
         "name": "1-First Charm",
         "offsetgroup": "1-First Charm",
         "orientation": "v",
         "showlegend": true,
         "textposition": "auto",
         "type": "bar",
         "x": [
          "03 - HBOth",
          "04 - HBSchPr",
          "05 - HBSchSc",
          "02 - HBShp",
          "01 - HBW",
          "10 - HV",
          "11 - IX",
          "15 - IX_HV",
          "13 - IX_LT",
          "14 - IX_MD",
          "08 - LT",
          "09 - MD",
          "07 - NHBNW",
          "06 - NHBW",
          "12 - XI",
          "18 - XI_HV",
          "16 - XI_LT",
          "17 - XI_MD"
         ],
         "xaxis": "x",
         "y": [
          17.31950432958419,
          8.539229842056661,
          12.678626197039936,
          15.739553987767648,
          35.12057225947044,
          63.356714061992136,
          70.85895607795791,
          83.60764365754255,
          71.1281539088037,
          65.04599634067458,
          48.61731757623976,
          57.12298150114917,
          17.19433080622254,
          22.29685018335033,
          67.95918722675198,
          83.60764365754255,
          1,
          65.04599634067458
         ],
         "yaxis": "y"
        },
        {
         "alignmentgroup": "True",
         "hovertemplate": "FF_CALIB_ROUND=2-Burning the Oil<br>TRIPPURP_CHART=%{x}<br>AVG_TRIP_LEN=%{y}<extra></extra>",
         "legendgroup": "2-Burning the Oil",
         "marker": {
          "color": "cornflowerblue",
          "pattern": {
           "shape": ""
          }
         },
         "name": "2-Burning the Oil",
         "offsetgroup": "2-Burning the Oil",
         "orientation": "v",
         "showlegend": true,
         "textposition": "auto",
         "type": "bar",
         "x": [
          "03 - HBOth",
          "04 - HBSchPr",
          "05 - HBSchSc",
          "02 - HBShp",
          "01 - HBW",
          "10 - HV",
          "11 - IX",
          "15 - IX_HV",
          "13 - IX_LT",
          "14 - IX_MD",
          "08 - LT",
          "09 - MD",
          "07 - NHBNW",
          "06 - NHBW",
          "12 - XI",
          "18 - XI_HV",
          "16 - XI_LT",
          "17 - XI_MD"
         ],
         "xaxis": "x",
         "y": [
          17.00704205909562,
          8.749886479757096,
          12.326035199480376,
          15.680813096145938,
          33.32147834467488,
          57.37720198180368,
          77.91873973474543,
          67.26603309696947,
          75.95151685343332,
          57.39909827294844,
          42.23485337338262,
          46.13800729894264,
          18.18599997205926,
          23.746290254959725,
          66.10519548091284,
          62.14790125292496,
          1,
          60.89053510078646
         ],
         "yaxis": "y"
        },
        {
         "alignmentgroup": "True",
         "hovertemplate": "FF_CALIB_ROUND=3-Rise and Shout<br>TRIPPURP_CHART=%{x}<br>AVG_TRIP_LEN=%{y}<extra></extra>",
         "legendgroup": "3-Rise and Shout",
         "marker": {
          "color": "cornflowerblue",
          "pattern": {
           "shape": ""
          }
         },
         "name": "3-Rise and Shout",
         "offsetgroup": "3-Rise and Shout",
         "orientation": "v",
         "showlegend": true,
         "textposition": "auto",
         "type": "bar",
         "x": [
          "03 - HBOth",
          "04 - HBSchPr",
          "05 - HBSchSc",
          "02 - HBShp",
          "01 - HBW",
          "10 - HV",
          "11 - IX",
          "15 - IX_HV",
          "13 - IX_LT",
          "14 - IX_MD",
          "08 - LT",
          "09 - MD",
          "07 - NHBNW",
          "06 - NHBW",
          "12 - XI",
          "18 - XI_HV",
          "16 - XI_LT",
          "17 - XI_MD"
         ],
         "xaxis": "x",
         "y": [
          17.717173282305406,
          8.44373860876878,
          12.323388687351525,
          15.842338903949418,
          32.47597498298523,
          45.7067330672823,
          81.3372660710506,
          133.77409262551075,
          69.61034606434318,
          93.99274658779045,
          30.53825356829562,
          39.22583479782859,
          17.444059570353403,
          23.466333904724923,
          69.9319262800773,
          146.4365046217742,
          61.75254811876314,
          103.60690915084618
         ],
         "yaxis": "y"
        },
        {
         "alignmentgroup": "True",
         "hovertemplate": "FF_CALIB_ROUND=4-Dim the Lights<br>TRIPPURP_CHART=%{x}<br>AVG_TRIP_LEN=%{y}<extra></extra>",
         "legendgroup": "4-Dim the Lights",
         "marker": {
          "color": "cornflowerblue",
          "pattern": {
           "shape": ""
          }
         },
         "name": "4-Dim the Lights",
         "offsetgroup": "4-Dim the Lights",
         "orientation": "v",
         "showlegend": true,
         "textposition": "auto",
         "type": "bar",
         "x": [
          "03 - HBOth",
          "04 - HBSchPr",
          "05 - HBSchSc",
          "02 - HBShp",
          "01 - HBW",
          "10 - HV",
          "11 - IX",
          "15 - IX_HV",
          "13 - IX_LT",
          "14 - IX_MD",
          "08 - LT",
          "09 - MD",
          "07 - NHBNW",
          "06 - NHBW",
          "12 - XI",
          "18 - XI_HV",
          "16 - XI_LT",
          "17 - XI_MD"
         ],
         "xaxis": "x",
         "y": [
          16.458616549564145,
          8.541783846631917,
          12.117736156927265,
          14.87400641319418,
          32.30812574132798,
          49.16482377306718,
          81.03301452939563,
          127.8670757942869,
          68.78732379218405,
          92.66872282030552,
          26.841584041150785,
          38.16012733177373,
          18.11718960261311,
          24.058734261967928,
          69.35990288054747,
          140.60156940963546,
          60.19517679973146,
          102.06170853519238
         ],
         "yaxis": "y"
        },
        {
         "alignmentgroup": "True",
         "hovertemplate": "FF_CALIB_ROUND=5-Please no More<br>TRIPPURP_CHART=%{x}<br>AVG_TRIP_LEN=%{y}<extra></extra>",
         "legendgroup": "5-Please no More",
         "marker": {
          "color": "cornflowerblue",
          "pattern": {
           "shape": ""
          }
         },
         "name": "5-Please no More",
         "offsetgroup": "5-Please no More",
         "orientation": "v",
         "showlegend": true,
         "textposition": "auto",
         "type": "bar",
         "x": [
          "03 - HBOth",
          "04 - HBSchPr",
          "05 - HBSchSc",
          "02 - HBShp",
          "01 - HBW",
          "10 - HV",
          "11 - IX",
          "15 - IX_HV",
          "13 - IX_LT",
          "14 - IX_MD",
          "08 - LT",
          "09 - MD",
          "07 - NHBNW",
          "06 - NHBW",
          "12 - XI",
          "18 - XI_HV",
          "16 - XI_LT",
          "17 - XI_MD"
         ],
         "xaxis": "x",
         "y": [
          16.540351900672988,
          8.549458209618617,
          12.17469422191294,
          14.914145158514946,
          32.25882684873856,
          35.9677390654248,
          80.9504719256118,
          92.33886452831126,
          68.44473874642573,
          86.53784549034212,
          21.206439738442494,
          24.575251195198884,
          18.221404908714742,
          24.2611294466955,
          68.89447593838344,
          94.78447590636176,
          59.36118882183861,
          93.7735873267763
         ],
         "yaxis": "y"
        },
        {
         "alignmentgroup": "True",
         "hovertemplate": "FF_CALIB_ROUND=6-Bring it On<br>TRIPPURP_CHART=%{x}<br>AVG_TRIP_LEN=%{y}<extra></extra>",
         "legendgroup": "6-Bring it On",
         "marker": {
          "color": "cornflowerblue",
          "pattern": {
           "shape": ""
          }
         },
         "name": "6-Bring it On",
         "offsetgroup": "6-Bring it On",
         "orientation": "v",
         "showlegend": true,
         "textposition": "auto",
         "type": "bar",
         "x": [
          "03 - HBOth",
          "04 - HBSchPr",
          "05 - HBSchSc",
          "02 - HBShp",
          "01 - HBW",
          "10 - HV",
          "11 - IX",
          "15 - IX_HV",
          "13 - IX_LT",
          "14 - IX_MD",
          "08 - LT",
          "09 - MD",
          "07 - NHBNW",
          "06 - NHBW",
          "12 - XI",
          "18 - XI_HV",
          "16 - XI_LT",
          "17 - XI_MD"
         ],
         "xaxis": "x",
         "y": [
          16.516206788604507,
          8.549355942269473,
          12.175607229252758,
          14.931061558632798,
          31.900755696774123,
          32.19848185065726,
          80.88059724561889,
          89.39668507184993,
          66.82803987837185,
          86.84307309939773,
          20.443300937878718,
          24.8064429072402,
          18.191113837451972,
          24.18497857307818,
          68.73546076036465,
          90.68004371118141,
          56.429174428221486,
          89.92262748612073
         ],
         "yaxis": "y"
        },
        {
         "alignmentgroup": "True",
         "hovertemplate": "FF_CALIB_ROUND=7-Night of the Model<br>TRIPPURP_CHART=%{x}<br>AVG_TRIP_LEN=%{y}<extra></extra>",
         "legendgroup": "7-Night of the Model",
         "marker": {
          "color": "cornflowerblue",
          "pattern": {
           "shape": ""
          }
         },
         "name": "7-Night of the Model",
         "offsetgroup": "7-Night of the Model",
         "orientation": "v",
         "showlegend": true,
         "textposition": "auto",
         "type": "bar",
         "x": [
          "03 - HBOth",
          "04 - HBSchPr",
          "05 - HBSchSc",
          "02 - HBShp",
          "01 - HBW",
          "10 - HV",
          "11 - IX",
          "15 - IX_HV",
          "13 - IX_LT",
          "14 - IX_MD",
          "08 - LT",
          "09 - MD",
          "07 - NHBNW",
          "06 - NHBW",
          "12 - XI",
          "18 - XI_HV",
          "16 - XI_LT",
          "17 - XI_MD"
         ],
         "xaxis": "x",
         "y": [
          16.516949630753423,
          8.549039097210324,
          12.186978178452573,
          14.909138317316025,
          32.03060194776031,
          30.956683923599513,
          80.43909035090711,
          90.88716843849973,
          67.68355783577837,
          85.80368979168787,
          19.513708868300668,
          24.349618704456077,
          18.20233149181704,
          24.213870970761803,
          68.24901030938342,
          91.24996641588382,
          58.21006869595499,
          90.29567276175504
         ],
         "yaxis": "y"
        },
        {
         "alignmentgroup": "True",
         "hovertemplate": "FF_CALIB_ROUND=8-Mind Your Ps and As<br>TRIPPURP_CHART=%{x}<br>AVG_TRIP_LEN=%{y}<extra></extra>",
         "legendgroup": "8-Mind Your Ps and As",
         "marker": {
          "color": "cornflowerblue",
          "pattern": {
           "shape": ""
          }
         },
         "name": "8-Mind Your Ps and As",
         "offsetgroup": "8-Mind Your Ps and As",
         "orientation": "v",
         "showlegend": true,
         "textposition": "auto",
         "type": "bar",
         "x": [
          "03 - HBOth",
          "04 - HBSchPr",
          "05 - HBSchSc",
          "02 - HBShp",
          "01 - HBW",
          "10 - HV",
          "11 - IX",
          "15 - IX_HV",
          "13 - IX_LT",
          "14 - IX_MD",
          "08 - LT",
          "09 - MD",
          "07 - NHBNW",
          "06 - NHBW",
          "12 - XI",
          "18 - XI_HV",
          "16 - XI_LT",
          "17 - XI_MD"
         ],
         "xaxis": "x",
         "y": [
          16.525203154007535,
          8.550233209463126,
          12.193524789561565,
          14.946005720388658,
          31.947963481374458,
          30.077035902979155,
          81.02894722060522,
          89.48743116244056,
          66.90707217390474,
          85.21665464084033,
          18.929656378894112,
          23.908599627386543,
          18.241673407407195,
          24.28297838771019,
          68.85979467066635,
          87.47057452468403,
          56.46636061943804,
          82.7276695195754
         ],
         "yaxis": "y"
        },
        {
         "alignmentgroup": "True",
         "hovertemplate": "FF_CALIB_ROUND=9-Same as 8<br>TRIPPURP_CHART=%{x}<br>AVG_TRIP_LEN=%{y}<extra></extra>",
         "legendgroup": "9-Same as 8",
         "marker": {
          "color": "blue",
          "pattern": {
           "shape": ""
          }
         },
         "name": "9-Same as 8",
         "offsetgroup": "9-Same as 8",
         "orientation": "v",
         "showlegend": true,
         "textposition": "auto",
         "type": "bar",
         "x": [
          "03 - HBOth",
          "04 - HBSchPr",
          "05 - HBSchSc",
          "02 - HBShp",
          "01 - HBW",
          "10 - HV",
          "11 - IX",
          "15 - IX_HV",
          "13 - IX_LT",
          "14 - IX_MD",
          "08 - LT",
          "09 - MD",
          "07 - NHBNW",
          "06 - NHBW",
          "12 - XI",
          "18 - XI_HV",
          "16 - XI_LT",
          "17 - XI_MD"
         ],
         "xaxis": "x",
         "y": [
          16.521782455256393,
          8.551881421380642,
          12.193990549783072,
          14.942798807163703,
          31.908636365515047,
          30.614359735268806,
          80.94334366310306,
          89.9085523181152,
          66.85728838842064,
          85.2127538013229,
          18.89092594341082,
          23.8661943241041,
          18.239217225987186,
          24.270865442846688,
          68.77497613574316,
          88.04973889746896,
          56.42309614510813,
          82.8010367282749
         ],
         "yaxis": "y"
        },
        {
         "alignmentgroup": "True",
         "hovertemplate": "FF_CALIB_ROUND=ObservedInitial<br>TRIPPURP_CHART=%{x}<br>AVG_TRIP_LEN=%{y}<extra></extra>",
         "legendgroup": "ObservedInitial",
         "marker": {
          "color": "red",
          "pattern": {
           "shape": ""
          }
         },
         "name": "ObservedInitial",
         "offsetgroup": "ObservedInitial",
         "orientation": "v",
         "showlegend": true,
         "textposition": "auto",
         "type": "bar",
         "x": [
          null,
          "03 - HBOth",
          "04 - HBSchPr",
          "05 - HBSchSc",
          "02 - HBShp",
          "01 - HBW",
          "10 - HV",
          "11 - IX",
          "15 - IX_HV",
          "14 - IX_MD",
          "09 - MD",
          "07 - NHBNW",
          "06 - NHBW",
          "12 - XI",
          "18 - XI_HV",
          "17 - XI_MD"
         ],
         "xaxis": "x",
         "y": [
          0,
          17.162283826993743,
          8.594377210801955,
          12.331449716696754,
          15.38380518505377,
          31.77834262707382,
          47.44740174891858,
          81.40726079046206,
          147.62100945246854,
          96.43201019176483,
          36.43342788946723,
          17.964155589529824,
          23.903783179374027,
          70.42801203241132,
          158.78179378590124,
          100.30330370173668
         ],
         "yaxis": "y"
        }
       ],
       "layout": {
        "barmode": "group",
        "legend": {
         "title": {
          "text": "FF_CALIB_ROUND"
         },
         "tracegroupgap": 0
        },
        "margin": {
         "t": 60
        },
        "template": {
         "data": {
          "bar": [
           {
            "error_x": {
             "color": "#2a3f5f"
            },
            "error_y": {
             "color": "#2a3f5f"
            },
            "marker": {
             "line": {
              "color": "#E5ECF6",
              "width": 0.5
             },
             "pattern": {
              "fillmode": "overlay",
              "size": 10,
              "solidity": 0.2
             }
            },
            "type": "bar"
           }
          ],
          "barpolar": [
           {
            "marker": {
             "line": {
              "color": "#E5ECF6",
              "width": 0.5
             },
             "pattern": {
              "fillmode": "overlay",
              "size": 10,
              "solidity": 0.2
             }
            },
            "type": "barpolar"
           }
          ],
          "carpet": [
           {
            "aaxis": {
             "endlinecolor": "#2a3f5f",
             "gridcolor": "white",
             "linecolor": "white",
             "minorgridcolor": "white",
             "startlinecolor": "#2a3f5f"
            },
            "baxis": {
             "endlinecolor": "#2a3f5f",
             "gridcolor": "white",
             "linecolor": "white",
             "minorgridcolor": "white",
             "startlinecolor": "#2a3f5f"
            },
            "type": "carpet"
           }
          ],
          "choropleth": [
           {
            "colorbar": {
             "outlinewidth": 0,
             "ticks": ""
            },
            "type": "choropleth"
           }
          ],
          "contour": [
           {
            "colorbar": {
             "outlinewidth": 0,
             "ticks": ""
            },
            "colorscale": [
             [
              0,
              "#0d0887"
             ],
             [
              0.1111111111111111,
              "#46039f"
             ],
             [
              0.2222222222222222,
              "#7201a8"
             ],
             [
              0.3333333333333333,
              "#9c179e"
             ],
             [
              0.4444444444444444,
              "#bd3786"
             ],
             [
              0.5555555555555556,
              "#d8576b"
             ],
             [
              0.6666666666666666,
              "#ed7953"
             ],
             [
              0.7777777777777778,
              "#fb9f3a"
             ],
             [
              0.8888888888888888,
              "#fdca26"
             ],
             [
              1,
              "#f0f921"
             ]
            ],
            "type": "contour"
           }
          ],
          "contourcarpet": [
           {
            "colorbar": {
             "outlinewidth": 0,
             "ticks": ""
            },
            "type": "contourcarpet"
           }
          ],
          "heatmap": [
           {
            "colorbar": {
             "outlinewidth": 0,
             "ticks": ""
            },
            "colorscale": [
             [
              0,
              "#0d0887"
             ],
             [
              0.1111111111111111,
              "#46039f"
             ],
             [
              0.2222222222222222,
              "#7201a8"
             ],
             [
              0.3333333333333333,
              "#9c179e"
             ],
             [
              0.4444444444444444,
              "#bd3786"
             ],
             [
              0.5555555555555556,
              "#d8576b"
             ],
             [
              0.6666666666666666,
              "#ed7953"
             ],
             [
              0.7777777777777778,
              "#fb9f3a"
             ],
             [
              0.8888888888888888,
              "#fdca26"
             ],
             [
              1,
              "#f0f921"
             ]
            ],
            "type": "heatmap"
           }
          ],
          "heatmapgl": [
           {
            "colorbar": {
             "outlinewidth": 0,
             "ticks": ""
            },
            "colorscale": [
             [
              0,
              "#0d0887"
             ],
             [
              0.1111111111111111,
              "#46039f"
             ],
             [
              0.2222222222222222,
              "#7201a8"
             ],
             [
              0.3333333333333333,
              "#9c179e"
             ],
             [
              0.4444444444444444,
              "#bd3786"
             ],
             [
              0.5555555555555556,
              "#d8576b"
             ],
             [
              0.6666666666666666,
              "#ed7953"
             ],
             [
              0.7777777777777778,
              "#fb9f3a"
             ],
             [
              0.8888888888888888,
              "#fdca26"
             ],
             [
              1,
              "#f0f921"
             ]
            ],
            "type": "heatmapgl"
           }
          ],
          "histogram": [
           {
            "marker": {
             "pattern": {
              "fillmode": "overlay",
              "size": 10,
              "solidity": 0.2
             }
            },
            "type": "histogram"
           }
          ],
          "histogram2d": [
           {
            "colorbar": {
             "outlinewidth": 0,
             "ticks": ""
            },
            "colorscale": [
             [
              0,
              "#0d0887"
             ],
             [
              0.1111111111111111,
              "#46039f"
             ],
             [
              0.2222222222222222,
              "#7201a8"
             ],
             [
              0.3333333333333333,
              "#9c179e"
             ],
             [
              0.4444444444444444,
              "#bd3786"
             ],
             [
              0.5555555555555556,
              "#d8576b"
             ],
             [
              0.6666666666666666,
              "#ed7953"
             ],
             [
              0.7777777777777778,
              "#fb9f3a"
             ],
             [
              0.8888888888888888,
              "#fdca26"
             ],
             [
              1,
              "#f0f921"
             ]
            ],
            "type": "histogram2d"
           }
          ],
          "histogram2dcontour": [
           {
            "colorbar": {
             "outlinewidth": 0,
             "ticks": ""
            },
            "colorscale": [
             [
              0,
              "#0d0887"
             ],
             [
              0.1111111111111111,
              "#46039f"
             ],
             [
              0.2222222222222222,
              "#7201a8"
             ],
             [
              0.3333333333333333,
              "#9c179e"
             ],
             [
              0.4444444444444444,
              "#bd3786"
             ],
             [
              0.5555555555555556,
              "#d8576b"
             ],
             [
              0.6666666666666666,
              "#ed7953"
             ],
             [
              0.7777777777777778,
              "#fb9f3a"
             ],
             [
              0.8888888888888888,
              "#fdca26"
             ],
             [
              1,
              "#f0f921"
             ]
            ],
            "type": "histogram2dcontour"
           }
          ],
          "mesh3d": [
           {
            "colorbar": {
             "outlinewidth": 0,
             "ticks": ""
            },
            "type": "mesh3d"
           }
          ],
          "parcoords": [
           {
            "line": {
             "colorbar": {
              "outlinewidth": 0,
              "ticks": ""
             }
            },
            "type": "parcoords"
           }
          ],
          "pie": [
           {
            "automargin": true,
            "type": "pie"
           }
          ],
          "scatter": [
           {
            "fillpattern": {
             "fillmode": "overlay",
             "size": 10,
             "solidity": 0.2
            },
            "type": "scatter"
           }
          ],
          "scatter3d": [
           {
            "line": {
             "colorbar": {
              "outlinewidth": 0,
              "ticks": ""
             }
            },
            "marker": {
             "colorbar": {
              "outlinewidth": 0,
              "ticks": ""
             }
            },
            "type": "scatter3d"
           }
          ],
          "scattercarpet": [
           {
            "marker": {
             "colorbar": {
              "outlinewidth": 0,
              "ticks": ""
             }
            },
            "type": "scattercarpet"
           }
          ],
          "scattergeo": [
           {
            "marker": {
             "colorbar": {
              "outlinewidth": 0,
              "ticks": ""
             }
            },
            "type": "scattergeo"
           }
          ],
          "scattergl": [
           {
            "marker": {
             "colorbar": {
              "outlinewidth": 0,
              "ticks": ""
             }
            },
            "type": "scattergl"
           }
          ],
          "scattermapbox": [
           {
            "marker": {
             "colorbar": {
              "outlinewidth": 0,
              "ticks": ""
             }
            },
            "type": "scattermapbox"
           }
          ],
          "scatterpolar": [
           {
            "marker": {
             "colorbar": {
              "outlinewidth": 0,
              "ticks": ""
             }
            },
            "type": "scatterpolar"
           }
          ],
          "scatterpolargl": [
           {
            "marker": {
             "colorbar": {
              "outlinewidth": 0,
              "ticks": ""
             }
            },
            "type": "scatterpolargl"
           }
          ],
          "scatterternary": [
           {
            "marker": {
             "colorbar": {
              "outlinewidth": 0,
              "ticks": ""
             }
            },
            "type": "scatterternary"
           }
          ],
          "surface": [
           {
            "colorbar": {
             "outlinewidth": 0,
             "ticks": ""
            },
            "colorscale": [
             [
              0,
              "#0d0887"
             ],
             [
              0.1111111111111111,
              "#46039f"
             ],
             [
              0.2222222222222222,
              "#7201a8"
             ],
             [
              0.3333333333333333,
              "#9c179e"
             ],
             [
              0.4444444444444444,
              "#bd3786"
             ],
             [
              0.5555555555555556,
              "#d8576b"
             ],
             [
              0.6666666666666666,
              "#ed7953"
             ],
             [
              0.7777777777777778,
              "#fb9f3a"
             ],
             [
              0.8888888888888888,
              "#fdca26"
             ],
             [
              1,
              "#f0f921"
             ]
            ],
            "type": "surface"
           }
          ],
          "table": [
           {
            "cells": {
             "fill": {
              "color": "#EBF0F8"
             },
             "line": {
              "color": "white"
             }
            },
            "header": {
             "fill": {
              "color": "#C8D4E3"
             },
             "line": {
              "color": "white"
             }
            },
            "type": "table"
           }
          ]
         },
         "layout": {
          "annotationdefaults": {
           "arrowcolor": "#2a3f5f",
           "arrowhead": 0,
           "arrowwidth": 1
          },
          "autotypenumbers": "strict",
          "coloraxis": {
           "colorbar": {
            "outlinewidth": 0,
            "ticks": ""
           }
          },
          "colorscale": {
           "diverging": [
            [
             0,
             "#8e0152"
            ],
            [
             0.1,
             "#c51b7d"
            ],
            [
             0.2,
             "#de77ae"
            ],
            [
             0.3,
             "#f1b6da"
            ],
            [
             0.4,
             "#fde0ef"
            ],
            [
             0.5,
             "#f7f7f7"
            ],
            [
             0.6,
             "#e6f5d0"
            ],
            [
             0.7,
             "#b8e186"
            ],
            [
             0.8,
             "#7fbc41"
            ],
            [
             0.9,
             "#4d9221"
            ],
            [
             1,
             "#276419"
            ]
           ],
           "sequential": [
            [
             0,
             "#0d0887"
            ],
            [
             0.1111111111111111,
             "#46039f"
            ],
            [
             0.2222222222222222,
             "#7201a8"
            ],
            [
             0.3333333333333333,
             "#9c179e"
            ],
            [
             0.4444444444444444,
             "#bd3786"
            ],
            [
             0.5555555555555556,
             "#d8576b"
            ],
            [
             0.6666666666666666,
             "#ed7953"
            ],
            [
             0.7777777777777778,
             "#fb9f3a"
            ],
            [
             0.8888888888888888,
             "#fdca26"
            ],
            [
             1,
             "#f0f921"
            ]
           ],
           "sequentialminus": [
            [
             0,
             "#0d0887"
            ],
            [
             0.1111111111111111,
             "#46039f"
            ],
            [
             0.2222222222222222,
             "#7201a8"
            ],
            [
             0.3333333333333333,
             "#9c179e"
            ],
            [
             0.4444444444444444,
             "#bd3786"
            ],
            [
             0.5555555555555556,
             "#d8576b"
            ],
            [
             0.6666666666666666,
             "#ed7953"
            ],
            [
             0.7777777777777778,
             "#fb9f3a"
            ],
            [
             0.8888888888888888,
             "#fdca26"
            ],
            [
             1,
             "#f0f921"
            ]
           ]
          },
          "colorway": [
           "#636efa",
           "#EF553B",
           "#00cc96",
           "#ab63fa",
           "#FFA15A",
           "#19d3f3",
           "#FF6692",
           "#B6E880",
           "#FF97FF",
           "#FECB52"
          ],
          "font": {
           "color": "#2a3f5f"
          },
          "geo": {
           "bgcolor": "white",
           "lakecolor": "white",
           "landcolor": "#E5ECF6",
           "showlakes": true,
           "showland": true,
           "subunitcolor": "white"
          },
          "hoverlabel": {
           "align": "left"
          },
          "hovermode": "closest",
          "mapbox": {
           "style": "light"
          },
          "paper_bgcolor": "white",
          "plot_bgcolor": "#E5ECF6",
          "polar": {
           "angularaxis": {
            "gridcolor": "white",
            "linecolor": "white",
            "ticks": ""
           },
           "bgcolor": "#E5ECF6",
           "radialaxis": {
            "gridcolor": "white",
            "linecolor": "white",
            "ticks": ""
           }
          },
          "scene": {
           "xaxis": {
            "backgroundcolor": "#E5ECF6",
            "gridcolor": "white",
            "gridwidth": 2,
            "linecolor": "white",
            "showbackground": true,
            "ticks": "",
            "zerolinecolor": "white"
           },
           "yaxis": {
            "backgroundcolor": "#E5ECF6",
            "gridcolor": "white",
            "gridwidth": 2,
            "linecolor": "white",
            "showbackground": true,
            "ticks": "",
            "zerolinecolor": "white"
           },
           "zaxis": {
            "backgroundcolor": "#E5ECF6",
            "gridcolor": "white",
            "gridwidth": 2,
            "linecolor": "white",
            "showbackground": true,
            "ticks": "",
            "zerolinecolor": "white"
           }
          },
          "shapedefaults": {
           "line": {
            "color": "#2a3f5f"
           }
          },
          "ternary": {
           "aaxis": {
            "gridcolor": "white",
            "linecolor": "white",
            "ticks": ""
           },
           "baxis": {
            "gridcolor": "white",
            "linecolor": "white",
            "ticks": ""
           },
           "bgcolor": "#E5ECF6",
           "caxis": {
            "gridcolor": "white",
            "linecolor": "white",
            "ticks": ""
           }
          },
          "title": {
           "x": 0.05
          },
          "xaxis": {
           "automargin": true,
           "gridcolor": "white",
           "linecolor": "white",
           "ticks": "",
           "title": {
            "standoff": 15
           },
           "zerolinecolor": "white",
           "zerolinewidth": 2
          },
          "yaxis": {
           "automargin": true,
           "gridcolor": "white",
           "linecolor": "white",
           "ticks": "",
           "title": {
            "standoff": 15
           },
           "zerolinecolor": "white",
           "zerolinewidth": 2
          }
         }
        },
        "xaxis": {
         "anchor": "y",
         "categoryorder": "category ascending",
         "domain": [
          0,
          1
         ],
         "title": {
          "text": "TRIPPURP_CHART"
         }
        },
        "yaxis": {
         "anchor": "x",
         "domain": [
          0,
          1
         ],
         "title": {
          "text": "AVG_TRIP_LEN"
         }
        }
       }
      },
      "text/html": [
       "<div>                            <div id=\"21c50e98-dc40-4ea6-b77f-5035d20391cf\" class=\"plotly-graph-div\" style=\"height:525px; width:100%;\"></div>            <script type=\"text/javascript\">                require([\"plotly\"], function(Plotly) {                    window.PLOTLYENV=window.PLOTLYENV || {};                                    if (document.getElementById(\"21c50e98-dc40-4ea6-b77f-5035d20391cf\")) {                    Plotly.newPlot(                        \"21c50e98-dc40-4ea6-b77f-5035d20391cf\",                        [{\"alignmentgroup\":\"True\",\"hovertemplate\":\"FF_CALIB_ROUND=0-Initial Take 2<br>TRIPPURP_CHART=%{x}<br>AVG_TRIP_LEN=%{y}<extra></extra>\",\"legendgroup\":\"0-Initial Take 2\",\"marker\":{\"color\":\"cornflowerblue\",\"pattern\":{\"shape\":\"\"}},\"name\":\"0-Initial Take 2\",\"offsetgroup\":\"0-Initial Take 2\",\"orientation\":\"v\",\"showlegend\":true,\"textposition\":\"auto\",\"x\":[\"03 - HBOth\",\"04 - HBSchPr\",\"05 - HBSchSc\",\"02 - HBShp\",\"01 - HBW\",\"10 - HV\",\"11 - IX\",\"15 - IX_HV\",\"13 - IX_LT\",\"14 - IX_MD\",\"08 - LT\",\"09 - MD\",\"07 - NHBNW\",\"06 - NHBW\",\"12 - XI\",\"18 - XI_HV\",\"16 - XI_LT\",\"17 - XI_MD\"],\"xaxis\":\"x\",\"y\":[18.199458668036147,8.16455729809616,13.079778834037263,16.127555264802545,32.767105276481956,23.007762383008142,72.96268965183373,95.94134456977537,64.52131058405966,85.59982392050787,26.78510311297496,23.938852221066224,17.737683724346684,21.848296372869576,62.05466407267,95.94134456977537,1.0,85.59982392050787],\"yaxis\":\"y\",\"type\":\"bar\"},{\"alignmentgroup\":\"True\",\"hovertemplate\":\"FF_CALIB_ROUND=1-First Charm<br>TRIPPURP_CHART=%{x}<br>AVG_TRIP_LEN=%{y}<extra></extra>\",\"legendgroup\":\"1-First Charm\",\"marker\":{\"color\":\"cornflowerblue\",\"pattern\":{\"shape\":\"\"}},\"name\":\"1-First Charm\",\"offsetgroup\":\"1-First Charm\",\"orientation\":\"v\",\"showlegend\":true,\"textposition\":\"auto\",\"x\":[\"03 - HBOth\",\"04 - HBSchPr\",\"05 - HBSchSc\",\"02 - HBShp\",\"01 - HBW\",\"10 - HV\",\"11 - IX\",\"15 - IX_HV\",\"13 - IX_LT\",\"14 - IX_MD\",\"08 - LT\",\"09 - MD\",\"07 - NHBNW\",\"06 - NHBW\",\"12 - XI\",\"18 - XI_HV\",\"16 - XI_LT\",\"17 - XI_MD\"],\"xaxis\":\"x\",\"y\":[17.31950432958419,8.539229842056661,12.678626197039936,15.739553987767648,35.12057225947044,63.356714061992136,70.85895607795791,83.60764365754255,71.1281539088037,65.04599634067458,48.61731757623976,57.12298150114917,17.19433080622254,22.29685018335033,67.95918722675198,83.60764365754255,1.0,65.04599634067458],\"yaxis\":\"y\",\"type\":\"bar\"},{\"alignmentgroup\":\"True\",\"hovertemplate\":\"FF_CALIB_ROUND=2-Burning the Oil<br>TRIPPURP_CHART=%{x}<br>AVG_TRIP_LEN=%{y}<extra></extra>\",\"legendgroup\":\"2-Burning the Oil\",\"marker\":{\"color\":\"cornflowerblue\",\"pattern\":{\"shape\":\"\"}},\"name\":\"2-Burning the Oil\",\"offsetgroup\":\"2-Burning the Oil\",\"orientation\":\"v\",\"showlegend\":true,\"textposition\":\"auto\",\"x\":[\"03 - HBOth\",\"04 - HBSchPr\",\"05 - HBSchSc\",\"02 - HBShp\",\"01 - HBW\",\"10 - HV\",\"11 - IX\",\"15 - IX_HV\",\"13 - IX_LT\",\"14 - IX_MD\",\"08 - LT\",\"09 - MD\",\"07 - NHBNW\",\"06 - NHBW\",\"12 - XI\",\"18 - XI_HV\",\"16 - XI_LT\",\"17 - XI_MD\"],\"xaxis\":\"x\",\"y\":[17.00704205909562,8.749886479757096,12.326035199480376,15.680813096145938,33.32147834467488,57.37720198180368,77.91873973474543,67.26603309696947,75.95151685343332,57.39909827294844,42.23485337338262,46.13800729894264,18.18599997205926,23.746290254959725,66.10519548091284,62.14790125292496,1.0,60.89053510078646],\"yaxis\":\"y\",\"type\":\"bar\"},{\"alignmentgroup\":\"True\",\"hovertemplate\":\"FF_CALIB_ROUND=3-Rise and Shout<br>TRIPPURP_CHART=%{x}<br>AVG_TRIP_LEN=%{y}<extra></extra>\",\"legendgroup\":\"3-Rise and Shout\",\"marker\":{\"color\":\"cornflowerblue\",\"pattern\":{\"shape\":\"\"}},\"name\":\"3-Rise and Shout\",\"offsetgroup\":\"3-Rise and Shout\",\"orientation\":\"v\",\"showlegend\":true,\"textposition\":\"auto\",\"x\":[\"03 - HBOth\",\"04 - HBSchPr\",\"05 - HBSchSc\",\"02 - HBShp\",\"01 - HBW\",\"10 - HV\",\"11 - IX\",\"15 - IX_HV\",\"13 - IX_LT\",\"14 - IX_MD\",\"08 - LT\",\"09 - MD\",\"07 - NHBNW\",\"06 - NHBW\",\"12 - XI\",\"18 - XI_HV\",\"16 - XI_LT\",\"17 - XI_MD\"],\"xaxis\":\"x\",\"y\":[17.717173282305406,8.44373860876878,12.323388687351525,15.842338903949418,32.47597498298523,45.7067330672823,81.3372660710506,133.77409262551075,69.61034606434318,93.99274658779045,30.53825356829562,39.22583479782859,17.444059570353403,23.466333904724923,69.9319262800773,146.4365046217742,61.75254811876314,103.60690915084618],\"yaxis\":\"y\",\"type\":\"bar\"},{\"alignmentgroup\":\"True\",\"hovertemplate\":\"FF_CALIB_ROUND=4-Dim the Lights<br>TRIPPURP_CHART=%{x}<br>AVG_TRIP_LEN=%{y}<extra></extra>\",\"legendgroup\":\"4-Dim the Lights\",\"marker\":{\"color\":\"cornflowerblue\",\"pattern\":{\"shape\":\"\"}},\"name\":\"4-Dim the Lights\",\"offsetgroup\":\"4-Dim the Lights\",\"orientation\":\"v\",\"showlegend\":true,\"textposition\":\"auto\",\"x\":[\"03 - HBOth\",\"04 - HBSchPr\",\"05 - HBSchSc\",\"02 - HBShp\",\"01 - HBW\",\"10 - HV\",\"11 - IX\",\"15 - IX_HV\",\"13 - IX_LT\",\"14 - IX_MD\",\"08 - LT\",\"09 - MD\",\"07 - NHBNW\",\"06 - NHBW\",\"12 - XI\",\"18 - XI_HV\",\"16 - XI_LT\",\"17 - XI_MD\"],\"xaxis\":\"x\",\"y\":[16.458616549564145,8.541783846631917,12.117736156927265,14.87400641319418,32.30812574132798,49.16482377306718,81.03301452939563,127.8670757942869,68.78732379218405,92.66872282030552,26.841584041150785,38.16012733177373,18.11718960261311,24.058734261967928,69.35990288054747,140.60156940963546,60.19517679973146,102.06170853519238],\"yaxis\":\"y\",\"type\":\"bar\"},{\"alignmentgroup\":\"True\",\"hovertemplate\":\"FF_CALIB_ROUND=5-Please no More<br>TRIPPURP_CHART=%{x}<br>AVG_TRIP_LEN=%{y}<extra></extra>\",\"legendgroup\":\"5-Please no More\",\"marker\":{\"color\":\"cornflowerblue\",\"pattern\":{\"shape\":\"\"}},\"name\":\"5-Please no More\",\"offsetgroup\":\"5-Please no More\",\"orientation\":\"v\",\"showlegend\":true,\"textposition\":\"auto\",\"x\":[\"03 - HBOth\",\"04 - HBSchPr\",\"05 - HBSchSc\",\"02 - HBShp\",\"01 - HBW\",\"10 - HV\",\"11 - IX\",\"15 - IX_HV\",\"13 - IX_LT\",\"14 - IX_MD\",\"08 - LT\",\"09 - MD\",\"07 - NHBNW\",\"06 - NHBW\",\"12 - XI\",\"18 - XI_HV\",\"16 - XI_LT\",\"17 - XI_MD\"],\"xaxis\":\"x\",\"y\":[16.540351900672988,8.549458209618617,12.17469422191294,14.914145158514946,32.25882684873856,35.9677390654248,80.9504719256118,92.33886452831126,68.44473874642573,86.53784549034212,21.206439738442494,24.575251195198884,18.221404908714742,24.2611294466955,68.89447593838344,94.78447590636176,59.36118882183861,93.7735873267763],\"yaxis\":\"y\",\"type\":\"bar\"},{\"alignmentgroup\":\"True\",\"hovertemplate\":\"FF_CALIB_ROUND=6-Bring it On<br>TRIPPURP_CHART=%{x}<br>AVG_TRIP_LEN=%{y}<extra></extra>\",\"legendgroup\":\"6-Bring it On\",\"marker\":{\"color\":\"cornflowerblue\",\"pattern\":{\"shape\":\"\"}},\"name\":\"6-Bring it On\",\"offsetgroup\":\"6-Bring it On\",\"orientation\":\"v\",\"showlegend\":true,\"textposition\":\"auto\",\"x\":[\"03 - HBOth\",\"04 - HBSchPr\",\"05 - HBSchSc\",\"02 - HBShp\",\"01 - HBW\",\"10 - HV\",\"11 - IX\",\"15 - IX_HV\",\"13 - IX_LT\",\"14 - IX_MD\",\"08 - LT\",\"09 - MD\",\"07 - NHBNW\",\"06 - NHBW\",\"12 - XI\",\"18 - XI_HV\",\"16 - XI_LT\",\"17 - XI_MD\"],\"xaxis\":\"x\",\"y\":[16.516206788604507,8.549355942269473,12.175607229252758,14.931061558632798,31.900755696774123,32.19848185065726,80.88059724561889,89.39668507184993,66.82803987837185,86.84307309939773,20.443300937878718,24.8064429072402,18.191113837451972,24.18497857307818,68.73546076036465,90.68004371118141,56.429174428221486,89.92262748612073],\"yaxis\":\"y\",\"type\":\"bar\"},{\"alignmentgroup\":\"True\",\"hovertemplate\":\"FF_CALIB_ROUND=7-Night of the Model<br>TRIPPURP_CHART=%{x}<br>AVG_TRIP_LEN=%{y}<extra></extra>\",\"legendgroup\":\"7-Night of the Model\",\"marker\":{\"color\":\"cornflowerblue\",\"pattern\":{\"shape\":\"\"}},\"name\":\"7-Night of the Model\",\"offsetgroup\":\"7-Night of the Model\",\"orientation\":\"v\",\"showlegend\":true,\"textposition\":\"auto\",\"x\":[\"03 - HBOth\",\"04 - HBSchPr\",\"05 - HBSchSc\",\"02 - HBShp\",\"01 - HBW\",\"10 - HV\",\"11 - IX\",\"15 - IX_HV\",\"13 - IX_LT\",\"14 - IX_MD\",\"08 - LT\",\"09 - MD\",\"07 - NHBNW\",\"06 - NHBW\",\"12 - XI\",\"18 - XI_HV\",\"16 - XI_LT\",\"17 - XI_MD\"],\"xaxis\":\"x\",\"y\":[16.516949630753423,8.549039097210324,12.186978178452573,14.909138317316025,32.03060194776031,30.956683923599513,80.43909035090711,90.88716843849973,67.68355783577837,85.80368979168787,19.513708868300668,24.349618704456077,18.20233149181704,24.213870970761803,68.24901030938342,91.24996641588382,58.21006869595499,90.29567276175504],\"yaxis\":\"y\",\"type\":\"bar\"},{\"alignmentgroup\":\"True\",\"hovertemplate\":\"FF_CALIB_ROUND=8-Mind Your Ps and As<br>TRIPPURP_CHART=%{x}<br>AVG_TRIP_LEN=%{y}<extra></extra>\",\"legendgroup\":\"8-Mind Your Ps and As\",\"marker\":{\"color\":\"cornflowerblue\",\"pattern\":{\"shape\":\"\"}},\"name\":\"8-Mind Your Ps and As\",\"offsetgroup\":\"8-Mind Your Ps and As\",\"orientation\":\"v\",\"showlegend\":true,\"textposition\":\"auto\",\"x\":[\"03 - HBOth\",\"04 - HBSchPr\",\"05 - HBSchSc\",\"02 - HBShp\",\"01 - HBW\",\"10 - HV\",\"11 - IX\",\"15 - IX_HV\",\"13 - IX_LT\",\"14 - IX_MD\",\"08 - LT\",\"09 - MD\",\"07 - NHBNW\",\"06 - NHBW\",\"12 - XI\",\"18 - XI_HV\",\"16 - XI_LT\",\"17 - XI_MD\"],\"xaxis\":\"x\",\"y\":[16.525203154007535,8.550233209463126,12.193524789561565,14.946005720388658,31.947963481374458,30.077035902979155,81.02894722060522,89.48743116244056,66.90707217390474,85.21665464084033,18.929656378894112,23.908599627386543,18.241673407407195,24.28297838771019,68.85979467066635,87.47057452468403,56.46636061943804,82.7276695195754],\"yaxis\":\"y\",\"type\":\"bar\"},{\"alignmentgroup\":\"True\",\"hovertemplate\":\"FF_CALIB_ROUND=9-Same as 8<br>TRIPPURP_CHART=%{x}<br>AVG_TRIP_LEN=%{y}<extra></extra>\",\"legendgroup\":\"9-Same as 8\",\"marker\":{\"color\":\"blue\",\"pattern\":{\"shape\":\"\"}},\"name\":\"9-Same as 8\",\"offsetgroup\":\"9-Same as 8\",\"orientation\":\"v\",\"showlegend\":true,\"textposition\":\"auto\",\"x\":[\"03 - HBOth\",\"04 - HBSchPr\",\"05 - HBSchSc\",\"02 - HBShp\",\"01 - HBW\",\"10 - HV\",\"11 - IX\",\"15 - IX_HV\",\"13 - IX_LT\",\"14 - IX_MD\",\"08 - LT\",\"09 - MD\",\"07 - NHBNW\",\"06 - NHBW\",\"12 - XI\",\"18 - XI_HV\",\"16 - XI_LT\",\"17 - XI_MD\"],\"xaxis\":\"x\",\"y\":[16.521782455256393,8.551881421380642,12.193990549783072,14.942798807163703,31.908636365515047,30.614359735268806,80.94334366310306,89.9085523181152,66.85728838842064,85.2127538013229,18.89092594341082,23.8661943241041,18.239217225987186,24.270865442846688,68.77497613574316,88.04973889746896,56.42309614510813,82.8010367282749],\"yaxis\":\"y\",\"type\":\"bar\"},{\"alignmentgroup\":\"True\",\"hovertemplate\":\"FF_CALIB_ROUND=ObservedInitial<br>TRIPPURP_CHART=%{x}<br>AVG_TRIP_LEN=%{y}<extra></extra>\",\"legendgroup\":\"ObservedInitial\",\"marker\":{\"color\":\"red\",\"pattern\":{\"shape\":\"\"}},\"name\":\"ObservedInitial\",\"offsetgroup\":\"ObservedInitial\",\"orientation\":\"v\",\"showlegend\":true,\"textposition\":\"auto\",\"x\":[null,\"03 - HBOth\",\"04 - HBSchPr\",\"05 - HBSchSc\",\"02 - HBShp\",\"01 - HBW\",\"10 - HV\",\"11 - IX\",\"15 - IX_HV\",\"14 - IX_MD\",\"09 - MD\",\"07 - NHBNW\",\"06 - NHBW\",\"12 - XI\",\"18 - XI_HV\",\"17 - XI_MD\"],\"xaxis\":\"x\",\"y\":[0.0,17.162283826993743,8.594377210801955,12.331449716696754,15.38380518505377,31.77834262707382,47.44740174891858,81.40726079046206,147.62100945246854,96.43201019176483,36.43342788946723,17.964155589529824,23.903783179374027,70.42801203241132,158.78179378590124,100.30330370173668],\"yaxis\":\"y\",\"type\":\"bar\"}],                        {\"template\":{\"data\":{\"histogram2dcontour\":[{\"type\":\"histogram2dcontour\",\"colorbar\":{\"outlinewidth\":0,\"ticks\":\"\"},\"colorscale\":[[0.0,\"#0d0887\"],[0.1111111111111111,\"#46039f\"],[0.2222222222222222,\"#7201a8\"],[0.3333333333333333,\"#9c179e\"],[0.4444444444444444,\"#bd3786\"],[0.5555555555555556,\"#d8576b\"],[0.6666666666666666,\"#ed7953\"],[0.7777777777777778,\"#fb9f3a\"],[0.8888888888888888,\"#fdca26\"],[1.0,\"#f0f921\"]]}],\"choropleth\":[{\"type\":\"choropleth\",\"colorbar\":{\"outlinewidth\":0,\"ticks\":\"\"}}],\"histogram2d\":[{\"type\":\"histogram2d\",\"colorbar\":{\"outlinewidth\":0,\"ticks\":\"\"},\"colorscale\":[[0.0,\"#0d0887\"],[0.1111111111111111,\"#46039f\"],[0.2222222222222222,\"#7201a8\"],[0.3333333333333333,\"#9c179e\"],[0.4444444444444444,\"#bd3786\"],[0.5555555555555556,\"#d8576b\"],[0.6666666666666666,\"#ed7953\"],[0.7777777777777778,\"#fb9f3a\"],[0.8888888888888888,\"#fdca26\"],[1.0,\"#f0f921\"]]}],\"heatmap\":[{\"type\":\"heatmap\",\"colorbar\":{\"outlinewidth\":0,\"ticks\":\"\"},\"colorscale\":[[0.0,\"#0d0887\"],[0.1111111111111111,\"#46039f\"],[0.2222222222222222,\"#7201a8\"],[0.3333333333333333,\"#9c179e\"],[0.4444444444444444,\"#bd3786\"],[0.5555555555555556,\"#d8576b\"],[0.6666666666666666,\"#ed7953\"],[0.7777777777777778,\"#fb9f3a\"],[0.8888888888888888,\"#fdca26\"],[1.0,\"#f0f921\"]]}],\"heatmapgl\":[{\"type\":\"heatmapgl\",\"colorbar\":{\"outlinewidth\":0,\"ticks\":\"\"},\"colorscale\":[[0.0,\"#0d0887\"],[0.1111111111111111,\"#46039f\"],[0.2222222222222222,\"#7201a8\"],[0.3333333333333333,\"#9c179e\"],[0.4444444444444444,\"#bd3786\"],[0.5555555555555556,\"#d8576b\"],[0.6666666666666666,\"#ed7953\"],[0.7777777777777778,\"#fb9f3a\"],[0.8888888888888888,\"#fdca26\"],[1.0,\"#f0f921\"]]}],\"contourcarpet\":[{\"type\":\"contourcarpet\",\"colorbar\":{\"outlinewidth\":0,\"ticks\":\"\"}}],\"contour\":[{\"type\":\"contour\",\"colorbar\":{\"outlinewidth\":0,\"ticks\":\"\"},\"colorscale\":[[0.0,\"#0d0887\"],[0.1111111111111111,\"#46039f\"],[0.2222222222222222,\"#7201a8\"],[0.3333333333333333,\"#9c179e\"],[0.4444444444444444,\"#bd3786\"],[0.5555555555555556,\"#d8576b\"],[0.6666666666666666,\"#ed7953\"],[0.7777777777777778,\"#fb9f3a\"],[0.8888888888888888,\"#fdca26\"],[1.0,\"#f0f921\"]]}],\"surface\":[{\"type\":\"surface\",\"colorbar\":{\"outlinewidth\":0,\"ticks\":\"\"},\"colorscale\":[[0.0,\"#0d0887\"],[0.1111111111111111,\"#46039f\"],[0.2222222222222222,\"#7201a8\"],[0.3333333333333333,\"#9c179e\"],[0.4444444444444444,\"#bd3786\"],[0.5555555555555556,\"#d8576b\"],[0.6666666666666666,\"#ed7953\"],[0.7777777777777778,\"#fb9f3a\"],[0.8888888888888888,\"#fdca26\"],[1.0,\"#f0f921\"]]}],\"mesh3d\":[{\"type\":\"mesh3d\",\"colorbar\":{\"outlinewidth\":0,\"ticks\":\"\"}}],\"scatter\":[{\"fillpattern\":{\"fillmode\":\"overlay\",\"size\":10,\"solidity\":0.2},\"type\":\"scatter\"}],\"parcoords\":[{\"type\":\"parcoords\",\"line\":{\"colorbar\":{\"outlinewidth\":0,\"ticks\":\"\"}}}],\"scatterpolargl\":[{\"type\":\"scatterpolargl\",\"marker\":{\"colorbar\":{\"outlinewidth\":0,\"ticks\":\"\"}}}],\"bar\":[{\"error_x\":{\"color\":\"#2a3f5f\"},\"error_y\":{\"color\":\"#2a3f5f\"},\"marker\":{\"line\":{\"color\":\"#E5ECF6\",\"width\":0.5},\"pattern\":{\"fillmode\":\"overlay\",\"size\":10,\"solidity\":0.2}},\"type\":\"bar\"}],\"scattergeo\":[{\"type\":\"scattergeo\",\"marker\":{\"colorbar\":{\"outlinewidth\":0,\"ticks\":\"\"}}}],\"scatterpolar\":[{\"type\":\"scatterpolar\",\"marker\":{\"colorbar\":{\"outlinewidth\":0,\"ticks\":\"\"}}}],\"histogram\":[{\"marker\":{\"pattern\":{\"fillmode\":\"overlay\",\"size\":10,\"solidity\":0.2}},\"type\":\"histogram\"}],\"scattergl\":[{\"type\":\"scattergl\",\"marker\":{\"colorbar\":{\"outlinewidth\":0,\"ticks\":\"\"}}}],\"scatter3d\":[{\"type\":\"scatter3d\",\"line\":{\"colorbar\":{\"outlinewidth\":0,\"ticks\":\"\"}},\"marker\":{\"colorbar\":{\"outlinewidth\":0,\"ticks\":\"\"}}}],\"scattermapbox\":[{\"type\":\"scattermapbox\",\"marker\":{\"colorbar\":{\"outlinewidth\":0,\"ticks\":\"\"}}}],\"scatterternary\":[{\"type\":\"scatterternary\",\"marker\":{\"colorbar\":{\"outlinewidth\":0,\"ticks\":\"\"}}}],\"scattercarpet\":[{\"type\":\"scattercarpet\",\"marker\":{\"colorbar\":{\"outlinewidth\":0,\"ticks\":\"\"}}}],\"carpet\":[{\"aaxis\":{\"endlinecolor\":\"#2a3f5f\",\"gridcolor\":\"white\",\"linecolor\":\"white\",\"minorgridcolor\":\"white\",\"startlinecolor\":\"#2a3f5f\"},\"baxis\":{\"endlinecolor\":\"#2a3f5f\",\"gridcolor\":\"white\",\"linecolor\":\"white\",\"minorgridcolor\":\"white\",\"startlinecolor\":\"#2a3f5f\"},\"type\":\"carpet\"}],\"table\":[{\"cells\":{\"fill\":{\"color\":\"#EBF0F8\"},\"line\":{\"color\":\"white\"}},\"header\":{\"fill\":{\"color\":\"#C8D4E3\"},\"line\":{\"color\":\"white\"}},\"type\":\"table\"}],\"barpolar\":[{\"marker\":{\"line\":{\"color\":\"#E5ECF6\",\"width\":0.5},\"pattern\":{\"fillmode\":\"overlay\",\"size\":10,\"solidity\":0.2}},\"type\":\"barpolar\"}],\"pie\":[{\"automargin\":true,\"type\":\"pie\"}]},\"layout\":{\"autotypenumbers\":\"strict\",\"colorway\":[\"#636efa\",\"#EF553B\",\"#00cc96\",\"#ab63fa\",\"#FFA15A\",\"#19d3f3\",\"#FF6692\",\"#B6E880\",\"#FF97FF\",\"#FECB52\"],\"font\":{\"color\":\"#2a3f5f\"},\"hovermode\":\"closest\",\"hoverlabel\":{\"align\":\"left\"},\"paper_bgcolor\":\"white\",\"plot_bgcolor\":\"#E5ECF6\",\"polar\":{\"bgcolor\":\"#E5ECF6\",\"angularaxis\":{\"gridcolor\":\"white\",\"linecolor\":\"white\",\"ticks\":\"\"},\"radialaxis\":{\"gridcolor\":\"white\",\"linecolor\":\"white\",\"ticks\":\"\"}},\"ternary\":{\"bgcolor\":\"#E5ECF6\",\"aaxis\":{\"gridcolor\":\"white\",\"linecolor\":\"white\",\"ticks\":\"\"},\"baxis\":{\"gridcolor\":\"white\",\"linecolor\":\"white\",\"ticks\":\"\"},\"caxis\":{\"gridcolor\":\"white\",\"linecolor\":\"white\",\"ticks\":\"\"}},\"coloraxis\":{\"colorbar\":{\"outlinewidth\":0,\"ticks\":\"\"}},\"colorscale\":{\"sequential\":[[0.0,\"#0d0887\"],[0.1111111111111111,\"#46039f\"],[0.2222222222222222,\"#7201a8\"],[0.3333333333333333,\"#9c179e\"],[0.4444444444444444,\"#bd3786\"],[0.5555555555555556,\"#d8576b\"],[0.6666666666666666,\"#ed7953\"],[0.7777777777777778,\"#fb9f3a\"],[0.8888888888888888,\"#fdca26\"],[1.0,\"#f0f921\"]],\"sequentialminus\":[[0.0,\"#0d0887\"],[0.1111111111111111,\"#46039f\"],[0.2222222222222222,\"#7201a8\"],[0.3333333333333333,\"#9c179e\"],[0.4444444444444444,\"#bd3786\"],[0.5555555555555556,\"#d8576b\"],[0.6666666666666666,\"#ed7953\"],[0.7777777777777778,\"#fb9f3a\"],[0.8888888888888888,\"#fdca26\"],[1.0,\"#f0f921\"]],\"diverging\":[[0,\"#8e0152\"],[0.1,\"#c51b7d\"],[0.2,\"#de77ae\"],[0.3,\"#f1b6da\"],[0.4,\"#fde0ef\"],[0.5,\"#f7f7f7\"],[0.6,\"#e6f5d0\"],[0.7,\"#b8e186\"],[0.8,\"#7fbc41\"],[0.9,\"#4d9221\"],[1,\"#276419\"]]},\"xaxis\":{\"gridcolor\":\"white\",\"linecolor\":\"white\",\"ticks\":\"\",\"title\":{\"standoff\":15},\"zerolinecolor\":\"white\",\"automargin\":true,\"zerolinewidth\":2},\"yaxis\":{\"gridcolor\":\"white\",\"linecolor\":\"white\",\"ticks\":\"\",\"title\":{\"standoff\":15},\"zerolinecolor\":\"white\",\"automargin\":true,\"zerolinewidth\":2},\"scene\":{\"xaxis\":{\"backgroundcolor\":\"#E5ECF6\",\"gridcolor\":\"white\",\"linecolor\":\"white\",\"showbackground\":true,\"ticks\":\"\",\"zerolinecolor\":\"white\",\"gridwidth\":2},\"yaxis\":{\"backgroundcolor\":\"#E5ECF6\",\"gridcolor\":\"white\",\"linecolor\":\"white\",\"showbackground\":true,\"ticks\":\"\",\"zerolinecolor\":\"white\",\"gridwidth\":2},\"zaxis\":{\"backgroundcolor\":\"#E5ECF6\",\"gridcolor\":\"white\",\"linecolor\":\"white\",\"showbackground\":true,\"ticks\":\"\",\"zerolinecolor\":\"white\",\"gridwidth\":2}},\"shapedefaults\":{\"line\":{\"color\":\"#2a3f5f\"}},\"annotationdefaults\":{\"arrowcolor\":\"#2a3f5f\",\"arrowhead\":0,\"arrowwidth\":1},\"geo\":{\"bgcolor\":\"white\",\"landcolor\":\"#E5ECF6\",\"subunitcolor\":\"white\",\"showland\":true,\"showlakes\":true,\"lakecolor\":\"white\"},\"title\":{\"x\":0.05},\"mapbox\":{\"style\":\"light\"}}},\"xaxis\":{\"anchor\":\"y\",\"domain\":[0.0,1.0],\"title\":{\"text\":\"TRIPPURP_CHART\"},\"categoryorder\":\"category ascending\"},\"yaxis\":{\"anchor\":\"x\",\"domain\":[0.0,1.0],\"title\":{\"text\":\"AVG_TRIP_LEN\"}},\"legend\":{\"title\":{\"text\":\"FF_CALIB_ROUND\"},\"tracegroupgap\":0},\"margin\":{\"t\":60},\"barmode\":\"group\"},                        {\"responsive\": true}                    ).then(function(){\n",
       "                            \n",
       "var gd = document.getElementById('21c50e98-dc40-4ea6-b77f-5035d20391cf');\n",
       "var x = new MutationObserver(function (mutations, observer) {{\n",
       "        var display = window.getComputedStyle(gd).display;\n",
       "        if (!display || display === 'none') {{\n",
       "            console.log([gd, 'removed!']);\n",
       "            Plotly.purge(gd);\n",
       "            observer.disconnect();\n",
       "        }}\n",
       "}});\n",
       "\n",
       "// Listen for the removal of the full notebook cells\n",
       "var notebookContainer = gd.closest('#notebook-container');\n",
       "if (notebookContainer) {{\n",
       "    x.observe(notebookContainer, {childList: true});\n",
       "}}\n",
       "\n",
       "// Listen for the clearing of the current output cell\n",
       "var outputEl = gd.closest('.output');\n",
       "if (outputEl) {{\n",
       "    x.observe(outputEl, {childList: true});\n",
       "}}\n",
       "\n",
       "                        })                };                });            </script>        </div>"
      ]
     },
     "metadata": {},
     "output_type": "display_data"
    },
    {
     "data": {
      "application/vnd.plotly.v1+json": {
       "config": {
        "linkText": "Export to plot.ly",
        "plotlyServerURL": "https://plot.ly",
        "showLink": false
       },
       "data": [
        {
         "cells": {
          "align": "left",
          "fill": {
           "color": [
            "lightgrey",
            "lightgrey",
            "lightgrey",
            "lightgrey",
            "lightgrey",
            "lightgrey",
            "lightgrey",
            "lightgrey",
            "lightgrey",
            "lightgrey",
            "lightgrey",
            "lavender",
            "lavender"
           ]
          },
          "values": [
           [
            null,
            "01 - HBW",
            "02 - HBShp",
            "03 - HBOth",
            "04 - HBSchPr",
            "05 - HBSchSc",
            "06 - NHBW",
            "07 - NHBNW",
            "08 - LT",
            "09 - MD",
            "10 - HV",
            "11 - IX",
            "12 - XI",
            "13 - IX_LT",
            "14 - IX_MD",
            "15 - IX_HV",
            "16 - XI_LT",
            "17 - XI_MD",
            "18 - XI_HV"
           ],
           [
            "GC",
            "GC",
            "GC",
            "GC",
            "GC",
            "GC",
            "GC",
            "GC",
            "GC",
            "GC",
            "GC",
            "GC",
            "GC",
            "GC",
            "GC",
            "GC",
            "GC",
            "GC",
            "GC"
           ],
           [
            null,
            32.77,
            16.13,
            18.2,
            8.16,
            13.08,
            21.85,
            17.74,
            26.79,
            23.94,
            23.01,
            72.96,
            62.05,
            64.52,
            85.6,
            95.94,
            1,
            85.6,
            95.94
           ],
           [
            null,
            35.12,
            15.74,
            17.32,
            8.54,
            12.68,
            22.3,
            17.19,
            48.62,
            57.12,
            63.36,
            70.86,
            67.96,
            71.13,
            65.05,
            83.61,
            1,
            65.05,
            83.61
           ],
           [
            null,
            33.32,
            15.68,
            17.01,
            8.75,
            12.33,
            23.75,
            18.19,
            42.23,
            46.14,
            57.38,
            77.92,
            66.11,
            75.95,
            57.4,
            67.27,
            1,
            60.89,
            62.15
           ],
           [
            null,
            32.48,
            15.84,
            17.72,
            8.44,
            12.32,
            23.47,
            17.44,
            30.54,
            39.23,
            45.71,
            81.34,
            69.93,
            69.61,
            93.99,
            133.77,
            61.75,
            103.61,
            146.44
           ],
           [
            null,
            32.31,
            14.87,
            16.46,
            8.54,
            12.12,
            24.06,
            18.12,
            26.84,
            38.16,
            49.16,
            81.03,
            69.36,
            68.79,
            92.67,
            127.87,
            60.2,
            102.06,
            140.6
           ],
           [
            null,
            32.26,
            14.91,
            16.54,
            8.55,
            12.17,
            24.26,
            18.22,
            21.21,
            24.58,
            35.97,
            80.95,
            68.89,
            68.44,
            86.54,
            92.34,
            59.36,
            93.77,
            94.78
           ],
           [
            null,
            31.9,
            14.93,
            16.52,
            8.55,
            12.18,
            24.18,
            18.19,
            20.44,
            24.81,
            32.2,
            80.88,
            68.74,
            66.83,
            86.84,
            89.4,
            56.43,
            89.92,
            90.68
           ],
           [
            null,
            32.03,
            14.91,
            16.52,
            8.55,
            12.19,
            24.21,
            18.2,
            19.51,
            24.35,
            30.96,
            80.44,
            68.25,
            67.68,
            85.8,
            90.89,
            58.21,
            90.3,
            91.25
           ],
           [
            null,
            31.95,
            14.95,
            16.53,
            8.55,
            12.19,
            24.28,
            18.24,
            18.93,
            23.91,
            30.08,
            81.03,
            68.86,
            66.91,
            85.22,
            89.49,
            56.47,
            82.73,
            87.47
           ],
           [
            null,
            31.91,
            14.94,
            16.52,
            8.55,
            12.19,
            24.27,
            18.24,
            18.89,
            23.87,
            30.61,
            80.94,
            68.77,
            66.86,
            85.21,
            89.91,
            56.42,
            82.8,
            88.05
           ],
           [
            0,
            31.78,
            15.38,
            17.16,
            8.59,
            12.33,
            23.9,
            17.96,
            null,
            36.43,
            47.45,
            81.41,
            70.43,
            null,
            96.43,
            147.62,
            null,
            100.3,
            158.78
           ],
           [
            null,
            0,
            -0.03,
            -0.04,
            0,
            -0.01,
            0.02,
            0.02,
            null,
            -0.34,
            -0.35,
            -0.01,
            -0.02,
            null,
            -0.12,
            -0.39,
            null,
            -0.17,
            -0.45
           ]
          ]
         },
         "header": {
          "align": "left",
          "fill": {
           "color": "paleturquoise"
          },
          "values": [
           "TRIPPURP_CHART",
           "TLFTYPE",
           "0-Initial Take 2",
           "1-First Charm",
           "2-Burning the Oil",
           "3-Rise and Shout",
           "4-Dim the Lights",
           "5-Please no More",
           "6-Bring it On",
           "7-Night of the Model",
           "8-Mind Your Ps and As",
           "9-Same as 8",
           "ObservedInitial",
           "PercentDiff"
          ]
         },
         "type": "table"
        }
       ],
       "layout": {
        "template": {
         "data": {
          "bar": [
           {
            "error_x": {
             "color": "#2a3f5f"
            },
            "error_y": {
             "color": "#2a3f5f"
            },
            "marker": {
             "line": {
              "color": "#E5ECF6",
              "width": 0.5
             },
             "pattern": {
              "fillmode": "overlay",
              "size": 10,
              "solidity": 0.2
             }
            },
            "type": "bar"
           }
          ],
          "barpolar": [
           {
            "marker": {
             "line": {
              "color": "#E5ECF6",
              "width": 0.5
             },
             "pattern": {
              "fillmode": "overlay",
              "size": 10,
              "solidity": 0.2
             }
            },
            "type": "barpolar"
           }
          ],
          "carpet": [
           {
            "aaxis": {
             "endlinecolor": "#2a3f5f",
             "gridcolor": "white",
             "linecolor": "white",
             "minorgridcolor": "white",
             "startlinecolor": "#2a3f5f"
            },
            "baxis": {
             "endlinecolor": "#2a3f5f",
             "gridcolor": "white",
             "linecolor": "white",
             "minorgridcolor": "white",
             "startlinecolor": "#2a3f5f"
            },
            "type": "carpet"
           }
          ],
          "choropleth": [
           {
            "colorbar": {
             "outlinewidth": 0,
             "ticks": ""
            },
            "type": "choropleth"
           }
          ],
          "contour": [
           {
            "colorbar": {
             "outlinewidth": 0,
             "ticks": ""
            },
            "colorscale": [
             [
              0,
              "#0d0887"
             ],
             [
              0.1111111111111111,
              "#46039f"
             ],
             [
              0.2222222222222222,
              "#7201a8"
             ],
             [
              0.3333333333333333,
              "#9c179e"
             ],
             [
              0.4444444444444444,
              "#bd3786"
             ],
             [
              0.5555555555555556,
              "#d8576b"
             ],
             [
              0.6666666666666666,
              "#ed7953"
             ],
             [
              0.7777777777777778,
              "#fb9f3a"
             ],
             [
              0.8888888888888888,
              "#fdca26"
             ],
             [
              1,
              "#f0f921"
             ]
            ],
            "type": "contour"
           }
          ],
          "contourcarpet": [
           {
            "colorbar": {
             "outlinewidth": 0,
             "ticks": ""
            },
            "type": "contourcarpet"
           }
          ],
          "heatmap": [
           {
            "colorbar": {
             "outlinewidth": 0,
             "ticks": ""
            },
            "colorscale": [
             [
              0,
              "#0d0887"
             ],
             [
              0.1111111111111111,
              "#46039f"
             ],
             [
              0.2222222222222222,
              "#7201a8"
             ],
             [
              0.3333333333333333,
              "#9c179e"
             ],
             [
              0.4444444444444444,
              "#bd3786"
             ],
             [
              0.5555555555555556,
              "#d8576b"
             ],
             [
              0.6666666666666666,
              "#ed7953"
             ],
             [
              0.7777777777777778,
              "#fb9f3a"
             ],
             [
              0.8888888888888888,
              "#fdca26"
             ],
             [
              1,
              "#f0f921"
             ]
            ],
            "type": "heatmap"
           }
          ],
          "heatmapgl": [
           {
            "colorbar": {
             "outlinewidth": 0,
             "ticks": ""
            },
            "colorscale": [
             [
              0,
              "#0d0887"
             ],
             [
              0.1111111111111111,
              "#46039f"
             ],
             [
              0.2222222222222222,
              "#7201a8"
             ],
             [
              0.3333333333333333,
              "#9c179e"
             ],
             [
              0.4444444444444444,
              "#bd3786"
             ],
             [
              0.5555555555555556,
              "#d8576b"
             ],
             [
              0.6666666666666666,
              "#ed7953"
             ],
             [
              0.7777777777777778,
              "#fb9f3a"
             ],
             [
              0.8888888888888888,
              "#fdca26"
             ],
             [
              1,
              "#f0f921"
             ]
            ],
            "type": "heatmapgl"
           }
          ],
          "histogram": [
           {
            "marker": {
             "pattern": {
              "fillmode": "overlay",
              "size": 10,
              "solidity": 0.2
             }
            },
            "type": "histogram"
           }
          ],
          "histogram2d": [
           {
            "colorbar": {
             "outlinewidth": 0,
             "ticks": ""
            },
            "colorscale": [
             [
              0,
              "#0d0887"
             ],
             [
              0.1111111111111111,
              "#46039f"
             ],
             [
              0.2222222222222222,
              "#7201a8"
             ],
             [
              0.3333333333333333,
              "#9c179e"
             ],
             [
              0.4444444444444444,
              "#bd3786"
             ],
             [
              0.5555555555555556,
              "#d8576b"
             ],
             [
              0.6666666666666666,
              "#ed7953"
             ],
             [
              0.7777777777777778,
              "#fb9f3a"
             ],
             [
              0.8888888888888888,
              "#fdca26"
             ],
             [
              1,
              "#f0f921"
             ]
            ],
            "type": "histogram2d"
           }
          ],
          "histogram2dcontour": [
           {
            "colorbar": {
             "outlinewidth": 0,
             "ticks": ""
            },
            "colorscale": [
             [
              0,
              "#0d0887"
             ],
             [
              0.1111111111111111,
              "#46039f"
             ],
             [
              0.2222222222222222,
              "#7201a8"
             ],
             [
              0.3333333333333333,
              "#9c179e"
             ],
             [
              0.4444444444444444,
              "#bd3786"
             ],
             [
              0.5555555555555556,
              "#d8576b"
             ],
             [
              0.6666666666666666,
              "#ed7953"
             ],
             [
              0.7777777777777778,
              "#fb9f3a"
             ],
             [
              0.8888888888888888,
              "#fdca26"
             ],
             [
              1,
              "#f0f921"
             ]
            ],
            "type": "histogram2dcontour"
           }
          ],
          "mesh3d": [
           {
            "colorbar": {
             "outlinewidth": 0,
             "ticks": ""
            },
            "type": "mesh3d"
           }
          ],
          "parcoords": [
           {
            "line": {
             "colorbar": {
              "outlinewidth": 0,
              "ticks": ""
             }
            },
            "type": "parcoords"
           }
          ],
          "pie": [
           {
            "automargin": true,
            "type": "pie"
           }
          ],
          "scatter": [
           {
            "fillpattern": {
             "fillmode": "overlay",
             "size": 10,
             "solidity": 0.2
            },
            "type": "scatter"
           }
          ],
          "scatter3d": [
           {
            "line": {
             "colorbar": {
              "outlinewidth": 0,
              "ticks": ""
             }
            },
            "marker": {
             "colorbar": {
              "outlinewidth": 0,
              "ticks": ""
             }
            },
            "type": "scatter3d"
           }
          ],
          "scattercarpet": [
           {
            "marker": {
             "colorbar": {
              "outlinewidth": 0,
              "ticks": ""
             }
            },
            "type": "scattercarpet"
           }
          ],
          "scattergeo": [
           {
            "marker": {
             "colorbar": {
              "outlinewidth": 0,
              "ticks": ""
             }
            },
            "type": "scattergeo"
           }
          ],
          "scattergl": [
           {
            "marker": {
             "colorbar": {
              "outlinewidth": 0,
              "ticks": ""
             }
            },
            "type": "scattergl"
           }
          ],
          "scattermapbox": [
           {
            "marker": {
             "colorbar": {
              "outlinewidth": 0,
              "ticks": ""
             }
            },
            "type": "scattermapbox"
           }
          ],
          "scatterpolar": [
           {
            "marker": {
             "colorbar": {
              "outlinewidth": 0,
              "ticks": ""
             }
            },
            "type": "scatterpolar"
           }
          ],
          "scatterpolargl": [
           {
            "marker": {
             "colorbar": {
              "outlinewidth": 0,
              "ticks": ""
             }
            },
            "type": "scatterpolargl"
           }
          ],
          "scatterternary": [
           {
            "marker": {
             "colorbar": {
              "outlinewidth": 0,
              "ticks": ""
             }
            },
            "type": "scatterternary"
           }
          ],
          "surface": [
           {
            "colorbar": {
             "outlinewidth": 0,
             "ticks": ""
            },
            "colorscale": [
             [
              0,
              "#0d0887"
             ],
             [
              0.1111111111111111,
              "#46039f"
             ],
             [
              0.2222222222222222,
              "#7201a8"
             ],
             [
              0.3333333333333333,
              "#9c179e"
             ],
             [
              0.4444444444444444,
              "#bd3786"
             ],
             [
              0.5555555555555556,
              "#d8576b"
             ],
             [
              0.6666666666666666,
              "#ed7953"
             ],
             [
              0.7777777777777778,
              "#fb9f3a"
             ],
             [
              0.8888888888888888,
              "#fdca26"
             ],
             [
              1,
              "#f0f921"
             ]
            ],
            "type": "surface"
           }
          ],
          "table": [
           {
            "cells": {
             "fill": {
              "color": "#EBF0F8"
             },
             "line": {
              "color": "white"
             }
            },
            "header": {
             "fill": {
              "color": "#C8D4E3"
             },
             "line": {
              "color": "white"
             }
            },
            "type": "table"
           }
          ]
         },
         "layout": {
          "annotationdefaults": {
           "arrowcolor": "#2a3f5f",
           "arrowhead": 0,
           "arrowwidth": 1
          },
          "autotypenumbers": "strict",
          "coloraxis": {
           "colorbar": {
            "outlinewidth": 0,
            "ticks": ""
           }
          },
          "colorscale": {
           "diverging": [
            [
             0,
             "#8e0152"
            ],
            [
             0.1,
             "#c51b7d"
            ],
            [
             0.2,
             "#de77ae"
            ],
            [
             0.3,
             "#f1b6da"
            ],
            [
             0.4,
             "#fde0ef"
            ],
            [
             0.5,
             "#f7f7f7"
            ],
            [
             0.6,
             "#e6f5d0"
            ],
            [
             0.7,
             "#b8e186"
            ],
            [
             0.8,
             "#7fbc41"
            ],
            [
             0.9,
             "#4d9221"
            ],
            [
             1,
             "#276419"
            ]
           ],
           "sequential": [
            [
             0,
             "#0d0887"
            ],
            [
             0.1111111111111111,
             "#46039f"
            ],
            [
             0.2222222222222222,
             "#7201a8"
            ],
            [
             0.3333333333333333,
             "#9c179e"
            ],
            [
             0.4444444444444444,
             "#bd3786"
            ],
            [
             0.5555555555555556,
             "#d8576b"
            ],
            [
             0.6666666666666666,
             "#ed7953"
            ],
            [
             0.7777777777777778,
             "#fb9f3a"
            ],
            [
             0.8888888888888888,
             "#fdca26"
            ],
            [
             1,
             "#f0f921"
            ]
           ],
           "sequentialminus": [
            [
             0,
             "#0d0887"
            ],
            [
             0.1111111111111111,
             "#46039f"
            ],
            [
             0.2222222222222222,
             "#7201a8"
            ],
            [
             0.3333333333333333,
             "#9c179e"
            ],
            [
             0.4444444444444444,
             "#bd3786"
            ],
            [
             0.5555555555555556,
             "#d8576b"
            ],
            [
             0.6666666666666666,
             "#ed7953"
            ],
            [
             0.7777777777777778,
             "#fb9f3a"
            ],
            [
             0.8888888888888888,
             "#fdca26"
            ],
            [
             1,
             "#f0f921"
            ]
           ]
          },
          "colorway": [
           "#636efa",
           "#EF553B",
           "#00cc96",
           "#ab63fa",
           "#FFA15A",
           "#19d3f3",
           "#FF6692",
           "#B6E880",
           "#FF97FF",
           "#FECB52"
          ],
          "font": {
           "color": "#2a3f5f"
          },
          "geo": {
           "bgcolor": "white",
           "lakecolor": "white",
           "landcolor": "#E5ECF6",
           "showlakes": true,
           "showland": true,
           "subunitcolor": "white"
          },
          "hoverlabel": {
           "align": "left"
          },
          "hovermode": "closest",
          "mapbox": {
           "style": "light"
          },
          "paper_bgcolor": "white",
          "plot_bgcolor": "#E5ECF6",
          "polar": {
           "angularaxis": {
            "gridcolor": "white",
            "linecolor": "white",
            "ticks": ""
           },
           "bgcolor": "#E5ECF6",
           "radialaxis": {
            "gridcolor": "white",
            "linecolor": "white",
            "ticks": ""
           }
          },
          "scene": {
           "xaxis": {
            "backgroundcolor": "#E5ECF6",
            "gridcolor": "white",
            "gridwidth": 2,
            "linecolor": "white",
            "showbackground": true,
            "ticks": "",
            "zerolinecolor": "white"
           },
           "yaxis": {
            "backgroundcolor": "#E5ECF6",
            "gridcolor": "white",
            "gridwidth": 2,
            "linecolor": "white",
            "showbackground": true,
            "ticks": "",
            "zerolinecolor": "white"
           },
           "zaxis": {
            "backgroundcolor": "#E5ECF6",
            "gridcolor": "white",
            "gridwidth": 2,
            "linecolor": "white",
            "showbackground": true,
            "ticks": "",
            "zerolinecolor": "white"
           }
          },
          "shapedefaults": {
           "line": {
            "color": "#2a3f5f"
           }
          },
          "ternary": {
           "aaxis": {
            "gridcolor": "white",
            "linecolor": "white",
            "ticks": ""
           },
           "baxis": {
            "gridcolor": "white",
            "linecolor": "white",
            "ticks": ""
           },
           "bgcolor": "#E5ECF6",
           "caxis": {
            "gridcolor": "white",
            "linecolor": "white",
            "ticks": ""
           }
          },
          "title": {
           "x": 0.05
          },
          "xaxis": {
           "automargin": true,
           "gridcolor": "white",
           "linecolor": "white",
           "ticks": "",
           "title": {
            "standoff": 15
           },
           "zerolinecolor": "white",
           "zerolinewidth": 2
          },
          "yaxis": {
           "automargin": true,
           "gridcolor": "white",
           "linecolor": "white",
           "ticks": "",
           "title": {
            "standoff": 15
           },
           "zerolinecolor": "white",
           "zerolinewidth": 2
          }
         }
        }
       }
      },
      "text/html": [
       "<div>                            <div id=\"c49f4b4a-3539-43a1-8fa4-a3adde6a0bed\" class=\"plotly-graph-div\" style=\"height:525px; width:100%;\"></div>            <script type=\"text/javascript\">                require([\"plotly\"], function(Plotly) {                    window.PLOTLYENV=window.PLOTLYENV || {};                                    if (document.getElementById(\"c49f4b4a-3539-43a1-8fa4-a3adde6a0bed\")) {                    Plotly.newPlot(                        \"c49f4b4a-3539-43a1-8fa4-a3adde6a0bed\",                        [{\"cells\":{\"align\":\"left\",\"fill\":{\"color\":[\"lightgrey\",\"lightgrey\",\"lightgrey\",\"lightgrey\",\"lightgrey\",\"lightgrey\",\"lightgrey\",\"lightgrey\",\"lightgrey\",\"lightgrey\",\"lightgrey\",\"lavender\",\"lavender\"]},\"values\":[[null,\"01 - HBW\",\"02 - HBShp\",\"03 - HBOth\",\"04 - HBSchPr\",\"05 - HBSchSc\",\"06 - NHBW\",\"07 - NHBNW\",\"08 - LT\",\"09 - MD\",\"10 - HV\",\"11 - IX\",\"12 - XI\",\"13 - IX_LT\",\"14 - IX_MD\",\"15 - IX_HV\",\"16 - XI_LT\",\"17 - XI_MD\",\"18 - XI_HV\"],[\"GC\",\"GC\",\"GC\",\"GC\",\"GC\",\"GC\",\"GC\",\"GC\",\"GC\",\"GC\",\"GC\",\"GC\",\"GC\",\"GC\",\"GC\",\"GC\",\"GC\",\"GC\",\"GC\"],[null,32.77,16.13,18.2,8.16,13.08,21.85,17.74,26.79,23.94,23.01,72.96,62.05,64.52,85.6,95.94,1.0,85.6,95.94],[null,35.12,15.74,17.32,8.54,12.68,22.3,17.19,48.62,57.12,63.36,70.86,67.96,71.13,65.05,83.61,1.0,65.05,83.61],[null,33.32,15.68,17.01,8.75,12.33,23.75,18.19,42.23,46.14,57.38,77.92,66.11,75.95,57.4,67.27,1.0,60.89,62.15],[null,32.48,15.84,17.72,8.44,12.32,23.47,17.44,30.54,39.23,45.71,81.34,69.93,69.61,93.99,133.77,61.75,103.61,146.44],[null,32.31,14.87,16.46,8.54,12.12,24.06,18.12,26.84,38.16,49.16,81.03,69.36,68.79,92.67,127.87,60.2,102.06,140.6],[null,32.26,14.91,16.54,8.55,12.17,24.26,18.22,21.21,24.58,35.97,80.95,68.89,68.44,86.54,92.34,59.36,93.77,94.78],[null,31.9,14.93,16.52,8.55,12.18,24.18,18.19,20.44,24.81,32.2,80.88,68.74,66.83,86.84,89.4,56.43,89.92,90.68],[null,32.03,14.91,16.52,8.55,12.19,24.21,18.2,19.51,24.35,30.96,80.44,68.25,67.68,85.8,90.89,58.21,90.3,91.25],[null,31.95,14.95,16.53,8.55,12.19,24.28,18.24,18.93,23.91,30.08,81.03,68.86,66.91,85.22,89.49,56.47,82.73,87.47],[null,31.91,14.94,16.52,8.55,12.19,24.27,18.24,18.89,23.87,30.61,80.94,68.77,66.86,85.21,89.91,56.42,82.8,88.05],[0.0,31.78,15.38,17.16,8.59,12.33,23.9,17.96,null,36.43,47.45,81.41,70.43,null,96.43,147.62,null,100.3,158.78],[null,0.0,-0.03,-0.04,-0.0,-0.01,0.02,0.02,null,-0.34,-0.35,-0.01,-0.02,null,-0.12,-0.39,null,-0.17,-0.45]]},\"header\":{\"align\":\"left\",\"fill\":{\"color\":\"paleturquoise\"},\"values\":[\"TRIPPURP_CHART\",\"TLFTYPE\",\"0-Initial Take 2\",\"1-First Charm\",\"2-Burning the Oil\",\"3-Rise and Shout\",\"4-Dim the Lights\",\"5-Please no More\",\"6-Bring it On\",\"7-Night of the Model\",\"8-Mind Your Ps and As\",\"9-Same as 8\",\"ObservedInitial\",\"PercentDiff\"]},\"type\":\"table\"}],                        {\"template\":{\"data\":{\"barpolar\":[{\"marker\":{\"line\":{\"color\":\"#E5ECF6\",\"width\":0.5},\"pattern\":{\"fillmode\":\"overlay\",\"size\":10,\"solidity\":0.2}},\"type\":\"barpolar\"}],\"bar\":[{\"error_x\":{\"color\":\"#2a3f5f\"},\"error_y\":{\"color\":\"#2a3f5f\"},\"marker\":{\"line\":{\"color\":\"#E5ECF6\",\"width\":0.5},\"pattern\":{\"fillmode\":\"overlay\",\"size\":10,\"solidity\":0.2}},\"type\":\"bar\"}],\"carpet\":[{\"aaxis\":{\"endlinecolor\":\"#2a3f5f\",\"gridcolor\":\"white\",\"linecolor\":\"white\",\"minorgridcolor\":\"white\",\"startlinecolor\":\"#2a3f5f\"},\"baxis\":{\"endlinecolor\":\"#2a3f5f\",\"gridcolor\":\"white\",\"linecolor\":\"white\",\"minorgridcolor\":\"white\",\"startlinecolor\":\"#2a3f5f\"},\"type\":\"carpet\"}],\"choropleth\":[{\"colorbar\":{\"outlinewidth\":0,\"ticks\":\"\"},\"type\":\"choropleth\"}],\"contourcarpet\":[{\"colorbar\":{\"outlinewidth\":0,\"ticks\":\"\"},\"type\":\"contourcarpet\"}],\"contour\":[{\"colorbar\":{\"outlinewidth\":0,\"ticks\":\"\"},\"colorscale\":[[0.0,\"#0d0887\"],[0.1111111111111111,\"#46039f\"],[0.2222222222222222,\"#7201a8\"],[0.3333333333333333,\"#9c179e\"],[0.4444444444444444,\"#bd3786\"],[0.5555555555555556,\"#d8576b\"],[0.6666666666666666,\"#ed7953\"],[0.7777777777777778,\"#fb9f3a\"],[0.8888888888888888,\"#fdca26\"],[1.0,\"#f0f921\"]],\"type\":\"contour\"}],\"heatmapgl\":[{\"colorbar\":{\"outlinewidth\":0,\"ticks\":\"\"},\"colorscale\":[[0.0,\"#0d0887\"],[0.1111111111111111,\"#46039f\"],[0.2222222222222222,\"#7201a8\"],[0.3333333333333333,\"#9c179e\"],[0.4444444444444444,\"#bd3786\"],[0.5555555555555556,\"#d8576b\"],[0.6666666666666666,\"#ed7953\"],[0.7777777777777778,\"#fb9f3a\"],[0.8888888888888888,\"#fdca26\"],[1.0,\"#f0f921\"]],\"type\":\"heatmapgl\"}],\"heatmap\":[{\"colorbar\":{\"outlinewidth\":0,\"ticks\":\"\"},\"colorscale\":[[0.0,\"#0d0887\"],[0.1111111111111111,\"#46039f\"],[0.2222222222222222,\"#7201a8\"],[0.3333333333333333,\"#9c179e\"],[0.4444444444444444,\"#bd3786\"],[0.5555555555555556,\"#d8576b\"],[0.6666666666666666,\"#ed7953\"],[0.7777777777777778,\"#fb9f3a\"],[0.8888888888888888,\"#fdca26\"],[1.0,\"#f0f921\"]],\"type\":\"heatmap\"}],\"histogram2dcontour\":[{\"colorbar\":{\"outlinewidth\":0,\"ticks\":\"\"},\"colorscale\":[[0.0,\"#0d0887\"],[0.1111111111111111,\"#46039f\"],[0.2222222222222222,\"#7201a8\"],[0.3333333333333333,\"#9c179e\"],[0.4444444444444444,\"#bd3786\"],[0.5555555555555556,\"#d8576b\"],[0.6666666666666666,\"#ed7953\"],[0.7777777777777778,\"#fb9f3a\"],[0.8888888888888888,\"#fdca26\"],[1.0,\"#f0f921\"]],\"type\":\"histogram2dcontour\"}],\"histogram2d\":[{\"colorbar\":{\"outlinewidth\":0,\"ticks\":\"\"},\"colorscale\":[[0.0,\"#0d0887\"],[0.1111111111111111,\"#46039f\"],[0.2222222222222222,\"#7201a8\"],[0.3333333333333333,\"#9c179e\"],[0.4444444444444444,\"#bd3786\"],[0.5555555555555556,\"#d8576b\"],[0.6666666666666666,\"#ed7953\"],[0.7777777777777778,\"#fb9f3a\"],[0.8888888888888888,\"#fdca26\"],[1.0,\"#f0f921\"]],\"type\":\"histogram2d\"}],\"histogram\":[{\"marker\":{\"pattern\":{\"fillmode\":\"overlay\",\"size\":10,\"solidity\":0.2}},\"type\":\"histogram\"}],\"mesh3d\":[{\"colorbar\":{\"outlinewidth\":0,\"ticks\":\"\"},\"type\":\"mesh3d\"}],\"parcoords\":[{\"line\":{\"colorbar\":{\"outlinewidth\":0,\"ticks\":\"\"}},\"type\":\"parcoords\"}],\"pie\":[{\"automargin\":true,\"type\":\"pie\"}],\"scatter3d\":[{\"line\":{\"colorbar\":{\"outlinewidth\":0,\"ticks\":\"\"}},\"marker\":{\"colorbar\":{\"outlinewidth\":0,\"ticks\":\"\"}},\"type\":\"scatter3d\"}],\"scattercarpet\":[{\"marker\":{\"colorbar\":{\"outlinewidth\":0,\"ticks\":\"\"}},\"type\":\"scattercarpet\"}],\"scattergeo\":[{\"marker\":{\"colorbar\":{\"outlinewidth\":0,\"ticks\":\"\"}},\"type\":\"scattergeo\"}],\"scattergl\":[{\"marker\":{\"colorbar\":{\"outlinewidth\":0,\"ticks\":\"\"}},\"type\":\"scattergl\"}],\"scattermapbox\":[{\"marker\":{\"colorbar\":{\"outlinewidth\":0,\"ticks\":\"\"}},\"type\":\"scattermapbox\"}],\"scatterpolargl\":[{\"marker\":{\"colorbar\":{\"outlinewidth\":0,\"ticks\":\"\"}},\"type\":\"scatterpolargl\"}],\"scatterpolar\":[{\"marker\":{\"colorbar\":{\"outlinewidth\":0,\"ticks\":\"\"}},\"type\":\"scatterpolar\"}],\"scatter\":[{\"fillpattern\":{\"fillmode\":\"overlay\",\"size\":10,\"solidity\":0.2},\"type\":\"scatter\"}],\"scatterternary\":[{\"marker\":{\"colorbar\":{\"outlinewidth\":0,\"ticks\":\"\"}},\"type\":\"scatterternary\"}],\"surface\":[{\"colorbar\":{\"outlinewidth\":0,\"ticks\":\"\"},\"colorscale\":[[0.0,\"#0d0887\"],[0.1111111111111111,\"#46039f\"],[0.2222222222222222,\"#7201a8\"],[0.3333333333333333,\"#9c179e\"],[0.4444444444444444,\"#bd3786\"],[0.5555555555555556,\"#d8576b\"],[0.6666666666666666,\"#ed7953\"],[0.7777777777777778,\"#fb9f3a\"],[0.8888888888888888,\"#fdca26\"],[1.0,\"#f0f921\"]],\"type\":\"surface\"}],\"table\":[{\"cells\":{\"fill\":{\"color\":\"#EBF0F8\"},\"line\":{\"color\":\"white\"}},\"header\":{\"fill\":{\"color\":\"#C8D4E3\"},\"line\":{\"color\":\"white\"}},\"type\":\"table\"}]},\"layout\":{\"annotationdefaults\":{\"arrowcolor\":\"#2a3f5f\",\"arrowhead\":0,\"arrowwidth\":1},\"autotypenumbers\":\"strict\",\"coloraxis\":{\"colorbar\":{\"outlinewidth\":0,\"ticks\":\"\"}},\"colorscale\":{\"diverging\":[[0,\"#8e0152\"],[0.1,\"#c51b7d\"],[0.2,\"#de77ae\"],[0.3,\"#f1b6da\"],[0.4,\"#fde0ef\"],[0.5,\"#f7f7f7\"],[0.6,\"#e6f5d0\"],[0.7,\"#b8e186\"],[0.8,\"#7fbc41\"],[0.9,\"#4d9221\"],[1,\"#276419\"]],\"sequential\":[[0.0,\"#0d0887\"],[0.1111111111111111,\"#46039f\"],[0.2222222222222222,\"#7201a8\"],[0.3333333333333333,\"#9c179e\"],[0.4444444444444444,\"#bd3786\"],[0.5555555555555556,\"#d8576b\"],[0.6666666666666666,\"#ed7953\"],[0.7777777777777778,\"#fb9f3a\"],[0.8888888888888888,\"#fdca26\"],[1.0,\"#f0f921\"]],\"sequentialminus\":[[0.0,\"#0d0887\"],[0.1111111111111111,\"#46039f\"],[0.2222222222222222,\"#7201a8\"],[0.3333333333333333,\"#9c179e\"],[0.4444444444444444,\"#bd3786\"],[0.5555555555555556,\"#d8576b\"],[0.6666666666666666,\"#ed7953\"],[0.7777777777777778,\"#fb9f3a\"],[0.8888888888888888,\"#fdca26\"],[1.0,\"#f0f921\"]]},\"colorway\":[\"#636efa\",\"#EF553B\",\"#00cc96\",\"#ab63fa\",\"#FFA15A\",\"#19d3f3\",\"#FF6692\",\"#B6E880\",\"#FF97FF\",\"#FECB52\"],\"font\":{\"color\":\"#2a3f5f\"},\"geo\":{\"bgcolor\":\"white\",\"lakecolor\":\"white\",\"landcolor\":\"#E5ECF6\",\"showlakes\":true,\"showland\":true,\"subunitcolor\":\"white\"},\"hoverlabel\":{\"align\":\"left\"},\"hovermode\":\"closest\",\"mapbox\":{\"style\":\"light\"},\"paper_bgcolor\":\"white\",\"plot_bgcolor\":\"#E5ECF6\",\"polar\":{\"angularaxis\":{\"gridcolor\":\"white\",\"linecolor\":\"white\",\"ticks\":\"\"},\"bgcolor\":\"#E5ECF6\",\"radialaxis\":{\"gridcolor\":\"white\",\"linecolor\":\"white\",\"ticks\":\"\"}},\"scene\":{\"xaxis\":{\"backgroundcolor\":\"#E5ECF6\",\"gridcolor\":\"white\",\"gridwidth\":2,\"linecolor\":\"white\",\"showbackground\":true,\"ticks\":\"\",\"zerolinecolor\":\"white\"},\"yaxis\":{\"backgroundcolor\":\"#E5ECF6\",\"gridcolor\":\"white\",\"gridwidth\":2,\"linecolor\":\"white\",\"showbackground\":true,\"ticks\":\"\",\"zerolinecolor\":\"white\"},\"zaxis\":{\"backgroundcolor\":\"#E5ECF6\",\"gridcolor\":\"white\",\"gridwidth\":2,\"linecolor\":\"white\",\"showbackground\":true,\"ticks\":\"\",\"zerolinecolor\":\"white\"}},\"shapedefaults\":{\"line\":{\"color\":\"#2a3f5f\"}},\"ternary\":{\"aaxis\":{\"gridcolor\":\"white\",\"linecolor\":\"white\",\"ticks\":\"\"},\"baxis\":{\"gridcolor\":\"white\",\"linecolor\":\"white\",\"ticks\":\"\"},\"bgcolor\":\"#E5ECF6\",\"caxis\":{\"gridcolor\":\"white\",\"linecolor\":\"white\",\"ticks\":\"\"}},\"title\":{\"x\":0.05},\"xaxis\":{\"automargin\":true,\"gridcolor\":\"white\",\"linecolor\":\"white\",\"ticks\":\"\",\"title\":{\"standoff\":15},\"zerolinecolor\":\"white\",\"zerolinewidth\":2},\"yaxis\":{\"automargin\":true,\"gridcolor\":\"white\",\"linecolor\":\"white\",\"ticks\":\"\",\"title\":{\"standoff\":15},\"zerolinecolor\":\"white\",\"zerolinewidth\":2}}}},                        {\"responsive\": true}                    ).then(function(){\n",
       "                            \n",
       "var gd = document.getElementById('c49f4b4a-3539-43a1-8fa4-a3adde6a0bed');\n",
       "var x = new MutationObserver(function (mutations, observer) {{\n",
       "        var display = window.getComputedStyle(gd).display;\n",
       "        if (!display || display === 'none') {{\n",
       "            console.log([gd, 'removed!']);\n",
       "            Plotly.purge(gd);\n",
       "            observer.disconnect();\n",
       "        }}\n",
       "}});\n",
       "\n",
       "// Listen for the removal of the full notebook cells\n",
       "var notebookContainer = gd.closest('#notebook-container');\n",
       "if (notebookContainer) {{\n",
       "    x.observe(notebookContainer, {childList: true});\n",
       "}}\n",
       "\n",
       "// Listen for the clearing of the current output cell\n",
       "var outputEl = gd.closest('.output');\n",
       "if (outputEl) {{\n",
       "    x.observe(outputEl, {childList: true});\n",
       "}}\n",
       "\n",
       "                        })                };                });            </script>        </div>"
      ]
     },
     "metadata": {},
     "output_type": "display_data"
    }
   ],
   "source": [
    "py.offline.init_notebook_mode(connected=True)\n",
    "\n",
    "lstModOpt  = dfObsModelMerge['FF_CALIB_ROUND'].unique().tolist()\n",
    "lstModOptShort1 = [round for round in lstModOpt if round != 'ObservedInitial']  \n",
    "lstModOptShort = [round for round in lstModOptShort1 if round != 'ObservedFinal']  \n",
    "lstTLFType   = dfObsModelMerge['TLFTYPE'].unique().tolist() # GC, Time, Dist\n",
    "lstTripPurp  = dfTLF_Obs['TRIPPURP'].unique().tolist() # HBW, HBShp, HBOth,...\n",
    "lstTripPurp.extend(['LT','IX_LT','XI_LT'])\n",
    "    \n",
    "selectModelOption  = widgets.SelectMultiple(options=lstModOptShort, value=lstModOptShort, description='Model Run'   )\n",
    "selectTLFOption    = widgets.SelectMultiple(options=lstTLFType    , value=('GC' ,)      , description='TLF Type'    )\n",
    "selectTripPurp     = widgets.SelectMultiple(options=lstTripPurp   , value=lstTripPurp   , description='Trip Purpose')\n",
    "\n",
    "widgets.interactive(update_df_mod_vs_obs,modeloption=selectModelOption, tlfoption=selectTLFOption, trippurpoption=selectTripPurp)"
   ]
  },
  {
   "cell_type": "code",
   "execution_count": 20,
   "metadata": {},
   "outputs": [
    {
     "data": {
      "text/plain": [
       "['All Trips',\n",
       " 'HBW',\n",
       " 'HBShp',\n",
       " 'HBOth',\n",
       " 'HBSchPr',\n",
       " 'HBSchSc',\n",
       " 'NHBW_Res',\n",
       " 'NHBNW_Res',\n",
       " 'NHBW_Vis',\n",
       " 'NHBNW_Vis',\n",
       " 'IX',\n",
       " 'XI',\n",
       " 'AllTrips',\n",
       " 'NHBW',\n",
       " 'NHBNW',\n",
       " 'MD',\n",
       " 'HV',\n",
       " 'IX_MD',\n",
       " 'IX_HV',\n",
       " 'XI_MD',\n",
       " 'XI_HV']"
      ]
     },
     "metadata": {},
     "output_type": "display_data"
    }
   ],
   "source": [
    "lstTripPurp  = dfTLF_Obs['TRIPPURP'].unique().tolist()\n",
    "\n",
    "display(lstTripPurp)"
   ]
  },
  {
   "cell_type": "markdown",
   "metadata": {},
   "source": [
    "Comparing Trip Length Frequency Graphs between Modeled and Observed"
   ]
  },
  {
   "cell_type": "code",
   "execution_count": 21,
   "metadata": {},
   "outputs": [],
   "source": [
    "#PLOTTING FUNCTION\n",
    "\n",
    "# chart preset zoom extents\n",
    "dfZoomPresets = pd.DataFrame([\n",
    "    ['Begin' ,     0,   100,     0, np.NaN],\n",
    "    ['Mid'   ,    30,   160,     0, 0.0018],\n",
    "    ['Tail'  ,   100,   200,     0,0.0001],\n",
    "    ['All'   ,np.NaN,200,np.NaN, np.NaN],\n",
    "    ['Custom',np.NaN,np.NaN,np.NaN, np.NaN],\n",
    "], columns=('PRESET','XMIN','XMAX','YMIN','YMAX'))\n",
    "dfZoomPresets\n",
    "\n",
    "def update_plot_mod_vs_obs(modeloption, trippurps, tlftypes, zoompreset, xmin, xmax, ymin, ymax):\n",
    "\n",
    "    data = []\n",
    "    for modelspace in modeloption:\n",
    "        for trippurp in trippurps:\n",
    "            for tlftype in tlftypes:\n",
    "            \n",
    "                # data for plotting from filtered dataframe\n",
    "                plotdata1 = dfObsModelMerge[(dfObsModelMerge['TRIPPURP']==trippurp) & (dfObsModelMerge['TLFTYPE']==tlftype)]\n",
    "                plotdata = plotdata1[(plotdata1['FF_CALIB_ROUND']==modelspace)]\n",
    "\n",
    "                # fill any NaN values with zeros\n",
    "                plotdata = plotdata.fillna(0)\n",
    "\n",
    "                xplot = plotdata['BIN']\n",
    "                yplot = plotdata['FREQ']\n",
    "                name  = trippurp + ' ' + tlftype + ' (' + modelspace + ')'\n",
    "\n",
    "                trace1 = go.Scatter(\n",
    "                    x=xplot,\n",
    "                    y=yplot,\n",
    "                    mode='lines',\n",
    "                    name=name,\n",
    "                    line=dict(\n",
    "                        shape='spline'\n",
    "                    )\n",
    "                )\n",
    "                data.append(trace1)\n",
    "                \n",
    "    # get zoom presets\n",
    "    if (zoompreset=='Custom'):\n",
    "        _xmin = xmin\n",
    "        _xmax = xmax\n",
    "        _ymin = ymin\n",
    "        _ymax = ymax\n",
    "    else:\n",
    "        _xmin = dfZoomPresets[dfZoomPresets['PRESET']==zoompreset]['XMIN'].values[0]\n",
    "        _xmax = dfZoomPresets[dfZoomPresets['PRESET']==zoompreset]['XMAX'].values[0]\n",
    "        _ymin = dfZoomPresets[dfZoomPresets['PRESET']==zoompreset]['YMIN'].values[0]\n",
    "        _ymax = dfZoomPresets[dfZoomPresets['PRESET']==zoompreset]['YMAX'].values[0]\n",
    "\n",
    "    layout = go.Layout(\n",
    "        title='Trip Length Frequencies - Observed Data',\n",
    "        yaxis=dict(\n",
    "            title='',\n",
    "            range=(_ymin,_ymax)\n",
    "        ),\n",
    "        xaxis=dict(\n",
    "            title='GC/Dist/Time',\n",
    "            range=(_xmin,_xmax)\n",
    "        ),\n",
    "        #width=1600,\n",
    "        height=450\n",
    "    )\n",
    "    \n",
    "    fig = go.Figure(data=data, layout=layout)\n",
    "    py.offline.iplot(fig)"
   ]
  },
  {
   "cell_type": "code",
   "execution_count": 22,
   "metadata": {},
   "outputs": [
    {
     "data": {
      "text/html": [
       "        <script type=\"text/javascript\">\n",
       "        window.PlotlyConfig = {MathJaxConfig: 'local'};\n",
       "        if (window.MathJax && window.MathJax.Hub && window.MathJax.Hub.Config) {window.MathJax.Hub.Config({SVG: {font: \"STIX-Web\"}});}\n",
       "        if (typeof require !== 'undefined') {\n",
       "        require.undef(\"plotly\");\n",
       "        requirejs.config({\n",
       "            paths: {\n",
       "                'plotly': ['https://cdn.plot.ly/plotly-2.12.1.min']\n",
       "            }\n",
       "        });\n",
       "        require(['plotly'], function(Plotly) {\n",
       "            window._Plotly = Plotly;\n",
       "        });\n",
       "        }\n",
       "        </script>\n",
       "        "
      ]
     },
     "metadata": {},
     "output_type": "display_data"
    },
    {
     "data": {
      "application/vnd.jupyter.widget-view+json": {
       "model_id": "fdde7e28ed1d4ae68b074bff506d3d8b",
       "version_major": 2,
       "version_minor": 0
      },
      "text/plain": [
       "interactive(children=(SelectMultiple(description='Model Runs', index=(0, 10), options=('0-Initial Take 2', '1-…"
      ]
     },
     "metadata": {},
     "output_type": "display_data"
    },
    {
     "data": {
      "application/vnd.plotly.v1+json": {
       "config": {
        "linkText": "Export to plot.ly",
        "plotlyServerURL": "https://plot.ly",
        "showLink": false
       },
       "data": [
        {
         "line": {
          "shape": "spline"
         },
         "mode": "lines",
         "name": "NHBW GC (0-Initial Take 2)",
         "type": "scatter",
         "x": [
          0,
          2,
          4,
          6,
          8,
          10,
          12,
          14,
          16,
          18,
          20,
          22,
          24,
          26,
          28,
          30,
          32,
          34,
          36,
          38,
          40,
          42,
          44,
          46,
          48,
          50,
          52,
          54,
          56,
          58,
          60,
          62,
          64,
          66,
          68,
          70,
          72,
          74,
          76,
          78,
          80,
          82,
          84,
          86,
          88,
          90,
          92,
          94,
          96,
          98,
          100,
          102,
          104,
          106,
          108,
          110,
          112,
          114,
          116,
          118,
          120,
          122,
          124,
          126,
          128,
          130,
          132,
          134,
          136,
          138,
          140,
          142,
          144,
          146,
          148,
          150,
          152,
          154,
          156,
          158,
          160,
          162,
          164,
          166,
          168,
          170,
          172,
          174,
          176,
          178,
          180,
          182,
          184,
          186,
          188,
          190,
          192,
          194,
          196,
          198,
          200,
          202,
          204,
          206,
          208,
          210,
          212,
          214,
          216,
          218,
          220,
          222,
          224,
          226,
          228,
          230,
          232,
          234,
          236,
          238,
          240,
          242,
          244,
          246,
          248,
          250,
          252,
          254,
          256,
          258,
          260,
          262,
          264,
          266,
          268,
          270,
          272,
          274,
          276,
          278,
          280,
          282,
          284,
          286,
          288,
          290,
          292,
          294,
          296,
          298,
          300,
          302,
          304,
          306,
          308,
          310,
          312,
          314,
          316,
          318,
          320,
          322,
          324,
          326,
          328,
          330,
          332,
          334,
          336,
          338,
          340,
          342,
          344,
          346,
          348,
          350,
          352,
          354,
          356,
          358,
          360,
          362,
          364,
          366,
          368,
          370,
          372,
          374,
          376,
          378,
          380,
          382,
          384,
          386,
          388,
          390,
          392,
          394,
          396,
          398,
          400
         ],
         "y": [
          0,
          0.0200578034536891,
          0.0484608098318777,
          0.0979200917481731,
          0.1099158888268861,
          0.1002815348089633,
          0.0848456703733087,
          0.0655919404763209,
          0.0554213479354631,
          0.0453058823487419,
          0.0361783261518687,
          0.0338279878012643,
          0.0312556742259822,
          0.0287538491205935,
          0.0269715827954566,
          0.0242133578638143,
          0.0211498856009942,
          0.0182665211614728,
          0.0153441844771566,
          0.0132071094416912,
          0.0114252132735605,
          0.0101510931985672,
          0.0089622282140359,
          0.0078909012988637,
          0.0070041240910645,
          0.0061847815578578,
          0.0052584107702891,
          0.0045322156037121,
          0.0039874370298485,
          0.0035656695610785,
          0.0034618934004138,
          0.0032162149074468,
          0.0031194452901136,
          0.0029141271307146,
          0.0029010790962463,
          0.0027946325171798,
          0.0026673117269427,
          0.0025817790187262,
          0.0023590370402499,
          0.0022252385024045,
          0.0021861869382512,
          0.0020721257007716,
          0.0019581437826505,
          0.0017384820392615,
          0.0016290742041455,
          0.0014967034147525,
          0.0013857488521464,
          0.001303124520407,
          0.0011696036003162,
          0.0010560975983459,
          0.0009875127930557,
          0.0009123312611194,
          0.0008290459347262,
          0.0007619549773538,
          0.0006997818202066,
          0.000617620184725,
          0.0005794411335148,
          0.0005282537075157,
          0.0004546189030695,
          0.0004177750610603,
          0.0003666140748473,
          0.000324693793896,
          0.0003013078030405,
          0.0002711928866082,
          0.000235036479039,
          0.0001983116160675,
          0.000175771698369,
          0.000151790812325,
          0.000128166863394,
          0.0001047676526455,
          0.00008870548255537942,
          0.00007606726477252655,
          0.00005926478067000983,
          0.00004949527968514762,
          0.000039924077096459885,
          0.000033208371412684514,
          0.000029083764772255543,
          0.000026122508722716803,
          0.000020847771384475903,
          0.00002186570315150485,
          0.000018957326674279297,
          0.000017463478756431626,
          0.00001770143683184099,
          0.000019102745498140573,
          0.000017119761536395877,
          0.000018640049240400143,
          0.000017542798114901414,
          0.000018587169668086957,
          0.00001801871426572014,
          0.000018838347636574612,
          0.000017926175014172057,
          0.00001815091319650312,
          0.00001860038956116525,
          0.000017873295441858864,
          0.000018243452448051208,
          0.00001836243148575589,
          0.00001581099212164438,
          0.000011831804305076688,
          0.000008672249859363472,
          0.000006543847073757498,
          0.0000051028787282230185,
          9.914919808723483e-7,
          0.0000012162301632034136,
          4.098166854272373e-7,
          1.1897903770468179e-7,
          2.6439786156595952e-8,
          0,
          0,
          0,
          0,
          0,
          0,
          0,
          0,
          0,
          0,
          0,
          0,
          0,
          0,
          0,
          0,
          0,
          0,
          0,
          0,
          0,
          0,
          0,
          0,
          0,
          0,
          0,
          0,
          0,
          0,
          0,
          0,
          0,
          0,
          0,
          0,
          0,
          0,
          0,
          0,
          0,
          0,
          0,
          0,
          0,
          0,
          0,
          0,
          0,
          0,
          0,
          0,
          0,
          0,
          0,
          0,
          0,
          0,
          0,
          0,
          0,
          0,
          0,
          0,
          0,
          0,
          0,
          0,
          0,
          0,
          0,
          0,
          0,
          0,
          0,
          0,
          0,
          0,
          0,
          0,
          0,
          0,
          0,
          0,
          0,
          0,
          0,
          0,
          0,
          0,
          0,
          0,
          0,
          0,
          0
         ]
        },
        {
         "line": {
          "shape": "spline"
         },
         "mode": "lines",
         "name": "NHBW GC (ObservedFinal)",
         "type": "scatter",
         "x": [
          0,
          2,
          4,
          6,
          8,
          10,
          12,
          14,
          16,
          18,
          20,
          22,
          24,
          26,
          28,
          30,
          32,
          34,
          36,
          38,
          40,
          42,
          44,
          46,
          48,
          50,
          52,
          54,
          56,
          58,
          60,
          62,
          64,
          66,
          68,
          70,
          72,
          74,
          76,
          78,
          80,
          82,
          84,
          86,
          88,
          90,
          92,
          94,
          96,
          98,
          100,
          102,
          104,
          106,
          108,
          110,
          112,
          114,
          116,
          118,
          120,
          122,
          124,
          126,
          128,
          130,
          132,
          134,
          136,
          138,
          140,
          142,
          144,
          146,
          148,
          150,
          152,
          154,
          156,
          158,
          160,
          162,
          164,
          166,
          168,
          170,
          172,
          174,
          176,
          178,
          180,
          182,
          184,
          186,
          188,
          190,
          192,
          194,
          196,
          198,
          200,
          202,
          204,
          206,
          208,
          210,
          212,
          214,
          216,
          218,
          220,
          222,
          224,
          226,
          228,
          230,
          232,
          234,
          236,
          238,
          240,
          242,
          244,
          246,
          248,
          250,
          252,
          254,
          256,
          258,
          260,
          262,
          264,
          266,
          268,
          270,
          272,
          274,
          276,
          278,
          280,
          282,
          284,
          286,
          288,
          290,
          292,
          294,
          296,
          298,
          300,
          302,
          304,
          306,
          308,
          310,
          312,
          314,
          316,
          318,
          320,
          322,
          324,
          326,
          328,
          330,
          332,
          334,
          336,
          338,
          340,
          342,
          344,
          346,
          348,
          350,
          352,
          354,
          356,
          358,
          360,
          362,
          364,
          366,
          368,
          370,
          372,
          374,
          376,
          378,
          380,
          382,
          384,
          386,
          388,
          390,
          392,
          394,
          396,
          398,
          400,
          402,
          404,
          406,
          408,
          410
         ],
         "y": [
          0,
          0.0216488,
          0.0538265,
          0.0817728,
          0.1053722999999999,
          0.0965061,
          0.0826566,
          0.0678752,
          0.0568001,
          0.0468329,
          0.0392733,
          0.0333705,
          0.0295231,
          0.0262235,
          0.0242727,
          0.0217874,
          0.0196226,
          0.0174456,
          0.0153079,
          0.0135156,
          0.0115424,
          0.0103293,
          0.0087102,
          0.0074303,
          0.0069286,
          0.0064042,
          0.0056144,
          0.0052404,
          0.0051491,
          0.0048664,
          0.0043635,
          0.0037156,
          0.0034276,
          0.0032093,
          0.0030189,
          0.0029292,
          0.0028394,
          0.0027497,
          0.0026599,
          0.0025702,
          0.0024804,
          0.0023906,
          0.0023009,
          0.0022111,
          0.0021213,
          0.0020316,
          0.0019417,
          0.001852,
          0.0017623,
          0.0016725,
          0.0015827,
          0.0014929,
          0.0014032,
          0.0013134,
          0.0012236,
          0.0011339,
          0.001044,
          0.0009543,
          0.0008647,
          0.0007749,
          0.0006851,
          0.0006562,
          0.0006273,
          0.0005983,
          0.0005693,
          0.0005404,
          0.0005115,
          0.0004825,
          0.0004536,
          0.0004247,
          0.0003957,
          0.0003668,
          0.0003378,
          0.0003088,
          0.0002799,
          0.000251,
          0.0002221,
          0.0001931,
          0.0001642,
          0.0001353,
          0.0001062,
          0.0001032,
          0.0001002,
          0.0000971,
          0.0000941,
          0.0000911,
          0.000088,
          0.000085,
          0.000082,
          0.0000789,
          0.0000759,
          0.0000729,
          0.0000698,
          0.0000668,
          0.0000637,
          0.0000607,
          0.0000577,
          0.0000546,
          0.0000516,
          0.0000486,
          0.0000455,
          0.0000425,
          0.0000395,
          0.0000364,
          0.0000334,
          0.0000304,
          0.0000273,
          0.0000243,
          0.0000212,
          0.0000182,
          0.0000152,
          0.0000121,
          0.0000091,
          0.0000061,
          0.000003,
          0,
          0,
          0,
          0,
          0,
          0,
          0,
          0,
          0,
          0,
          0,
          0,
          0,
          0,
          0,
          0,
          0,
          0,
          0,
          0,
          0,
          0,
          0,
          0,
          0,
          0,
          0,
          0,
          0,
          0,
          0,
          0,
          0,
          0,
          0,
          0,
          0,
          0,
          0,
          0,
          0,
          0,
          0,
          0,
          0,
          0,
          0,
          0,
          0,
          0,
          0,
          0,
          0,
          0,
          0,
          0,
          0,
          0,
          0,
          0,
          0,
          0,
          0,
          0,
          0,
          0,
          0,
          0,
          0,
          0,
          0,
          0,
          0,
          0,
          0,
          0,
          0,
          0,
          0,
          0,
          0,
          0,
          0,
          0,
          0,
          0,
          0,
          0,
          0,
          0,
          0
         ]
        }
       ],
       "layout": {
        "height": 450,
        "template": {
         "data": {
          "bar": [
           {
            "error_x": {
             "color": "#2a3f5f"
            },
            "error_y": {
             "color": "#2a3f5f"
            },
            "marker": {
             "line": {
              "color": "#E5ECF6",
              "width": 0.5
             },
             "pattern": {
              "fillmode": "overlay",
              "size": 10,
              "solidity": 0.2
             }
            },
            "type": "bar"
           }
          ],
          "barpolar": [
           {
            "marker": {
             "line": {
              "color": "#E5ECF6",
              "width": 0.5
             },
             "pattern": {
              "fillmode": "overlay",
              "size": 10,
              "solidity": 0.2
             }
            },
            "type": "barpolar"
           }
          ],
          "carpet": [
           {
            "aaxis": {
             "endlinecolor": "#2a3f5f",
             "gridcolor": "white",
             "linecolor": "white",
             "minorgridcolor": "white",
             "startlinecolor": "#2a3f5f"
            },
            "baxis": {
             "endlinecolor": "#2a3f5f",
             "gridcolor": "white",
             "linecolor": "white",
             "minorgridcolor": "white",
             "startlinecolor": "#2a3f5f"
            },
            "type": "carpet"
           }
          ],
          "choropleth": [
           {
            "colorbar": {
             "outlinewidth": 0,
             "ticks": ""
            },
            "type": "choropleth"
           }
          ],
          "contour": [
           {
            "colorbar": {
             "outlinewidth": 0,
             "ticks": ""
            },
            "colorscale": [
             [
              0,
              "#0d0887"
             ],
             [
              0.1111111111111111,
              "#46039f"
             ],
             [
              0.2222222222222222,
              "#7201a8"
             ],
             [
              0.3333333333333333,
              "#9c179e"
             ],
             [
              0.4444444444444444,
              "#bd3786"
             ],
             [
              0.5555555555555556,
              "#d8576b"
             ],
             [
              0.6666666666666666,
              "#ed7953"
             ],
             [
              0.7777777777777778,
              "#fb9f3a"
             ],
             [
              0.8888888888888888,
              "#fdca26"
             ],
             [
              1,
              "#f0f921"
             ]
            ],
            "type": "contour"
           }
          ],
          "contourcarpet": [
           {
            "colorbar": {
             "outlinewidth": 0,
             "ticks": ""
            },
            "type": "contourcarpet"
           }
          ],
          "heatmap": [
           {
            "colorbar": {
             "outlinewidth": 0,
             "ticks": ""
            },
            "colorscale": [
             [
              0,
              "#0d0887"
             ],
             [
              0.1111111111111111,
              "#46039f"
             ],
             [
              0.2222222222222222,
              "#7201a8"
             ],
             [
              0.3333333333333333,
              "#9c179e"
             ],
             [
              0.4444444444444444,
              "#bd3786"
             ],
             [
              0.5555555555555556,
              "#d8576b"
             ],
             [
              0.6666666666666666,
              "#ed7953"
             ],
             [
              0.7777777777777778,
              "#fb9f3a"
             ],
             [
              0.8888888888888888,
              "#fdca26"
             ],
             [
              1,
              "#f0f921"
             ]
            ],
            "type": "heatmap"
           }
          ],
          "heatmapgl": [
           {
            "colorbar": {
             "outlinewidth": 0,
             "ticks": ""
            },
            "colorscale": [
             [
              0,
              "#0d0887"
             ],
             [
              0.1111111111111111,
              "#46039f"
             ],
             [
              0.2222222222222222,
              "#7201a8"
             ],
             [
              0.3333333333333333,
              "#9c179e"
             ],
             [
              0.4444444444444444,
              "#bd3786"
             ],
             [
              0.5555555555555556,
              "#d8576b"
             ],
             [
              0.6666666666666666,
              "#ed7953"
             ],
             [
              0.7777777777777778,
              "#fb9f3a"
             ],
             [
              0.8888888888888888,
              "#fdca26"
             ],
             [
              1,
              "#f0f921"
             ]
            ],
            "type": "heatmapgl"
           }
          ],
          "histogram": [
           {
            "marker": {
             "pattern": {
              "fillmode": "overlay",
              "size": 10,
              "solidity": 0.2
             }
            },
            "type": "histogram"
           }
          ],
          "histogram2d": [
           {
            "colorbar": {
             "outlinewidth": 0,
             "ticks": ""
            },
            "colorscale": [
             [
              0,
              "#0d0887"
             ],
             [
              0.1111111111111111,
              "#46039f"
             ],
             [
              0.2222222222222222,
              "#7201a8"
             ],
             [
              0.3333333333333333,
              "#9c179e"
             ],
             [
              0.4444444444444444,
              "#bd3786"
             ],
             [
              0.5555555555555556,
              "#d8576b"
             ],
             [
              0.6666666666666666,
              "#ed7953"
             ],
             [
              0.7777777777777778,
              "#fb9f3a"
             ],
             [
              0.8888888888888888,
              "#fdca26"
             ],
             [
              1,
              "#f0f921"
             ]
            ],
            "type": "histogram2d"
           }
          ],
          "histogram2dcontour": [
           {
            "colorbar": {
             "outlinewidth": 0,
             "ticks": ""
            },
            "colorscale": [
             [
              0,
              "#0d0887"
             ],
             [
              0.1111111111111111,
              "#46039f"
             ],
             [
              0.2222222222222222,
              "#7201a8"
             ],
             [
              0.3333333333333333,
              "#9c179e"
             ],
             [
              0.4444444444444444,
              "#bd3786"
             ],
             [
              0.5555555555555556,
              "#d8576b"
             ],
             [
              0.6666666666666666,
              "#ed7953"
             ],
             [
              0.7777777777777778,
              "#fb9f3a"
             ],
             [
              0.8888888888888888,
              "#fdca26"
             ],
             [
              1,
              "#f0f921"
             ]
            ],
            "type": "histogram2dcontour"
           }
          ],
          "mesh3d": [
           {
            "colorbar": {
             "outlinewidth": 0,
             "ticks": ""
            },
            "type": "mesh3d"
           }
          ],
          "parcoords": [
           {
            "line": {
             "colorbar": {
              "outlinewidth": 0,
              "ticks": ""
             }
            },
            "type": "parcoords"
           }
          ],
          "pie": [
           {
            "automargin": true,
            "type": "pie"
           }
          ],
          "scatter": [
           {
            "fillpattern": {
             "fillmode": "overlay",
             "size": 10,
             "solidity": 0.2
            },
            "type": "scatter"
           }
          ],
          "scatter3d": [
           {
            "line": {
             "colorbar": {
              "outlinewidth": 0,
              "ticks": ""
             }
            },
            "marker": {
             "colorbar": {
              "outlinewidth": 0,
              "ticks": ""
             }
            },
            "type": "scatter3d"
           }
          ],
          "scattercarpet": [
           {
            "marker": {
             "colorbar": {
              "outlinewidth": 0,
              "ticks": ""
             }
            },
            "type": "scattercarpet"
           }
          ],
          "scattergeo": [
           {
            "marker": {
             "colorbar": {
              "outlinewidth": 0,
              "ticks": ""
             }
            },
            "type": "scattergeo"
           }
          ],
          "scattergl": [
           {
            "marker": {
             "colorbar": {
              "outlinewidth": 0,
              "ticks": ""
             }
            },
            "type": "scattergl"
           }
          ],
          "scattermapbox": [
           {
            "marker": {
             "colorbar": {
              "outlinewidth": 0,
              "ticks": ""
             }
            },
            "type": "scattermapbox"
           }
          ],
          "scatterpolar": [
           {
            "marker": {
             "colorbar": {
              "outlinewidth": 0,
              "ticks": ""
             }
            },
            "type": "scatterpolar"
           }
          ],
          "scatterpolargl": [
           {
            "marker": {
             "colorbar": {
              "outlinewidth": 0,
              "ticks": ""
             }
            },
            "type": "scatterpolargl"
           }
          ],
          "scatterternary": [
           {
            "marker": {
             "colorbar": {
              "outlinewidth": 0,
              "ticks": ""
             }
            },
            "type": "scatterternary"
           }
          ],
          "surface": [
           {
            "colorbar": {
             "outlinewidth": 0,
             "ticks": ""
            },
            "colorscale": [
             [
              0,
              "#0d0887"
             ],
             [
              0.1111111111111111,
              "#46039f"
             ],
             [
              0.2222222222222222,
              "#7201a8"
             ],
             [
              0.3333333333333333,
              "#9c179e"
             ],
             [
              0.4444444444444444,
              "#bd3786"
             ],
             [
              0.5555555555555556,
              "#d8576b"
             ],
             [
              0.6666666666666666,
              "#ed7953"
             ],
             [
              0.7777777777777778,
              "#fb9f3a"
             ],
             [
              0.8888888888888888,
              "#fdca26"
             ],
             [
              1,
              "#f0f921"
             ]
            ],
            "type": "surface"
           }
          ],
          "table": [
           {
            "cells": {
             "fill": {
              "color": "#EBF0F8"
             },
             "line": {
              "color": "white"
             }
            },
            "header": {
             "fill": {
              "color": "#C8D4E3"
             },
             "line": {
              "color": "white"
             }
            },
            "type": "table"
           }
          ]
         },
         "layout": {
          "annotationdefaults": {
           "arrowcolor": "#2a3f5f",
           "arrowhead": 0,
           "arrowwidth": 1
          },
          "autotypenumbers": "strict",
          "coloraxis": {
           "colorbar": {
            "outlinewidth": 0,
            "ticks": ""
           }
          },
          "colorscale": {
           "diverging": [
            [
             0,
             "#8e0152"
            ],
            [
             0.1,
             "#c51b7d"
            ],
            [
             0.2,
             "#de77ae"
            ],
            [
             0.3,
             "#f1b6da"
            ],
            [
             0.4,
             "#fde0ef"
            ],
            [
             0.5,
             "#f7f7f7"
            ],
            [
             0.6,
             "#e6f5d0"
            ],
            [
             0.7,
             "#b8e186"
            ],
            [
             0.8,
             "#7fbc41"
            ],
            [
             0.9,
             "#4d9221"
            ],
            [
             1,
             "#276419"
            ]
           ],
           "sequential": [
            [
             0,
             "#0d0887"
            ],
            [
             0.1111111111111111,
             "#46039f"
            ],
            [
             0.2222222222222222,
             "#7201a8"
            ],
            [
             0.3333333333333333,
             "#9c179e"
            ],
            [
             0.4444444444444444,
             "#bd3786"
            ],
            [
             0.5555555555555556,
             "#d8576b"
            ],
            [
             0.6666666666666666,
             "#ed7953"
            ],
            [
             0.7777777777777778,
             "#fb9f3a"
            ],
            [
             0.8888888888888888,
             "#fdca26"
            ],
            [
             1,
             "#f0f921"
            ]
           ],
           "sequentialminus": [
            [
             0,
             "#0d0887"
            ],
            [
             0.1111111111111111,
             "#46039f"
            ],
            [
             0.2222222222222222,
             "#7201a8"
            ],
            [
             0.3333333333333333,
             "#9c179e"
            ],
            [
             0.4444444444444444,
             "#bd3786"
            ],
            [
             0.5555555555555556,
             "#d8576b"
            ],
            [
             0.6666666666666666,
             "#ed7953"
            ],
            [
             0.7777777777777778,
             "#fb9f3a"
            ],
            [
             0.8888888888888888,
             "#fdca26"
            ],
            [
             1,
             "#f0f921"
            ]
           ]
          },
          "colorway": [
           "#636efa",
           "#EF553B",
           "#00cc96",
           "#ab63fa",
           "#FFA15A",
           "#19d3f3",
           "#FF6692",
           "#B6E880",
           "#FF97FF",
           "#FECB52"
          ],
          "font": {
           "color": "#2a3f5f"
          },
          "geo": {
           "bgcolor": "white",
           "lakecolor": "white",
           "landcolor": "#E5ECF6",
           "showlakes": true,
           "showland": true,
           "subunitcolor": "white"
          },
          "hoverlabel": {
           "align": "left"
          },
          "hovermode": "closest",
          "mapbox": {
           "style": "light"
          },
          "paper_bgcolor": "white",
          "plot_bgcolor": "#E5ECF6",
          "polar": {
           "angularaxis": {
            "gridcolor": "white",
            "linecolor": "white",
            "ticks": ""
           },
           "bgcolor": "#E5ECF6",
           "radialaxis": {
            "gridcolor": "white",
            "linecolor": "white",
            "ticks": ""
           }
          },
          "scene": {
           "xaxis": {
            "backgroundcolor": "#E5ECF6",
            "gridcolor": "white",
            "gridwidth": 2,
            "linecolor": "white",
            "showbackground": true,
            "ticks": "",
            "zerolinecolor": "white"
           },
           "yaxis": {
            "backgroundcolor": "#E5ECF6",
            "gridcolor": "white",
            "gridwidth": 2,
            "linecolor": "white",
            "showbackground": true,
            "ticks": "",
            "zerolinecolor": "white"
           },
           "zaxis": {
            "backgroundcolor": "#E5ECF6",
            "gridcolor": "white",
            "gridwidth": 2,
            "linecolor": "white",
            "showbackground": true,
            "ticks": "",
            "zerolinecolor": "white"
           }
          },
          "shapedefaults": {
           "line": {
            "color": "#2a3f5f"
           }
          },
          "ternary": {
           "aaxis": {
            "gridcolor": "white",
            "linecolor": "white",
            "ticks": ""
           },
           "baxis": {
            "gridcolor": "white",
            "linecolor": "white",
            "ticks": ""
           },
           "bgcolor": "#E5ECF6",
           "caxis": {
            "gridcolor": "white",
            "linecolor": "white",
            "ticks": ""
           }
          },
          "title": {
           "x": 0.05
          },
          "xaxis": {
           "automargin": true,
           "gridcolor": "white",
           "linecolor": "white",
           "ticks": "",
           "title": {
            "standoff": 15
           },
           "zerolinecolor": "white",
           "zerolinewidth": 2
          },
          "yaxis": {
           "automargin": true,
           "gridcolor": "white",
           "linecolor": "white",
           "ticks": "",
           "title": {
            "standoff": 15
           },
           "zerolinecolor": "white",
           "zerolinewidth": 2
          }
         }
        },
        "title": {
         "text": "Trip Length Frequencies - Observed Data"
        },
        "xaxis": {
         "range": [
          0,
          100
         ],
         "title": {
          "text": "GC/Dist/Time"
         }
        },
        "yaxis": {
         "range": [
          0,
          null
         ],
         "title": {
          "text": ""
         }
        }
       }
      },
      "text/html": [
       "<div>                            <div id=\"64a77bd9-f550-4b27-be67-aafafe5b2927\" class=\"plotly-graph-div\" style=\"height:450px; width:100%;\"></div>            <script type=\"text/javascript\">                require([\"plotly\"], function(Plotly) {                    window.PLOTLYENV=window.PLOTLYENV || {};                                    if (document.getElementById(\"64a77bd9-f550-4b27-be67-aafafe5b2927\")) {                    Plotly.newPlot(                        \"64a77bd9-f550-4b27-be67-aafafe5b2927\",                        [{\"line\":{\"shape\":\"spline\"},\"mode\":\"lines\",\"name\":\"NHBW GC (0-Initial Take 2)\",\"x\":[0.0,2.0,4.0,6.0,8.0,10.0,12.0,14.0,16.0,18.0,20.0,22.0,24.0,26.0,28.0,30.0,32.0,34.0,36.0,38.0,40.0,42.0,44.0,46.0,48.0,50.0,52.0,54.0,56.0,58.0,60.0,62.0,64.0,66.0,68.0,70.0,72.0,74.0,76.0,78.0,80.0,82.0,84.0,86.0,88.0,90.0,92.0,94.0,96.0,98.0,100.0,102.0,104.0,106.0,108.0,110.0,112.0,114.0,116.0,118.0,120.0,122.0,124.0,126.0,128.0,130.0,132.0,134.0,136.0,138.0,140.0,142.0,144.0,146.0,148.0,150.0,152.0,154.0,156.0,158.0,160.0,162.0,164.0,166.0,168.0,170.0,172.0,174.0,176.0,178.0,180.0,182.0,184.0,186.0,188.0,190.0,192.0,194.0,196.0,198.0,200.0,202.0,204.0,206.0,208.0,210.0,212.0,214.0,216.0,218.0,220.0,222.0,224.0,226.0,228.0,230.0,232.0,234.0,236.0,238.0,240.0,242.0,244.0,246.0,248.0,250.0,252.0,254.0,256.0,258.0,260.0,262.0,264.0,266.0,268.0,270.0,272.0,274.0,276.0,278.0,280.0,282.0,284.0,286.0,288.0,290.0,292.0,294.0,296.0,298.0,300.0,302.0,304.0,306.0,308.0,310.0,312.0,314.0,316.0,318.0,320.0,322.0,324.0,326.0,328.0,330.0,332.0,334.0,336.0,338.0,340.0,342.0,344.0,346.0,348.0,350.0,352.0,354.0,356.0,358.0,360.0,362.0,364.0,366.0,368.0,370.0,372.0,374.0,376.0,378.0,380.0,382.0,384.0,386.0,388.0,390.0,392.0,394.0,396.0,398.0,400.0],\"y\":[0.0,0.0200578034536891,0.0484608098318777,0.0979200917481731,0.1099158888268861,0.1002815348089633,0.0848456703733087,0.0655919404763209,0.0554213479354631,0.0453058823487419,0.0361783261518687,0.0338279878012643,0.0312556742259822,0.0287538491205935,0.0269715827954566,0.0242133578638143,0.0211498856009942,0.0182665211614728,0.0153441844771566,0.0132071094416912,0.0114252132735605,0.0101510931985672,0.0089622282140359,0.0078909012988637,0.0070041240910645,0.0061847815578578,0.0052584107702891,0.0045322156037121,0.0039874370298485,0.0035656695610785,0.0034618934004138,0.0032162149074468,0.0031194452901136,0.0029141271307146,0.0029010790962463,0.0027946325171798,0.0026673117269427,0.0025817790187262,0.0023590370402499,0.0022252385024045,0.0021861869382512,0.0020721257007716,0.0019581437826505,0.0017384820392615,0.0016290742041455,0.0014967034147525,0.0013857488521464,0.001303124520407,0.0011696036003162,0.0010560975983459,0.0009875127930557,0.0009123312611194,0.0008290459347262,0.0007619549773538,0.0006997818202066,0.000617620184725,0.0005794411335148,0.0005282537075157,0.0004546189030695,0.0004177750610603,0.0003666140748473,0.000324693793896,0.0003013078030405,0.0002711928866082,0.000235036479039,0.0001983116160675,0.000175771698369,0.000151790812325,0.000128166863394,0.0001047676526455,8.870548255537942e-05,7.606726477252655e-05,5.926478067000983e-05,4.949527968514762e-05,3.9924077096459885e-05,3.3208371412684514e-05,2.9083764772255543e-05,2.6122508722716803e-05,2.0847771384475903e-05,2.186570315150485e-05,1.8957326674279297e-05,1.7463478756431626e-05,1.770143683184099e-05,1.9102745498140573e-05,1.7119761536395877e-05,1.8640049240400143e-05,1.7542798114901414e-05,1.8587169668086957e-05,1.801871426572014e-05,1.8838347636574612e-05,1.7926175014172057e-05,1.815091319650312e-05,1.860038956116525e-05,1.7873295441858864e-05,1.8243452448051208e-05,1.836243148575589e-05,1.581099212164438e-05,1.1831804305076688e-05,8.672249859363472e-06,6.543847073757498e-06,5.1028787282230185e-06,9.914919808723483e-07,1.2162301632034136e-06,4.098166854272373e-07,1.1897903770468179e-07,2.6439786156595952e-08,0.0,0.0,0.0,0.0,0.0,0.0,0.0,0.0,0.0,0.0,0.0,0.0,0.0,0.0,0.0,0.0,0.0,0.0,0.0,0.0,0.0,0.0,0.0,0.0,0.0,0.0,0.0,0.0,0.0,0.0,0.0,0.0,0.0,0.0,0.0,0.0,0.0,0.0,0.0,0.0,0.0,0.0,0.0,0.0,0.0,0.0,0.0,0.0,0.0,0.0,0.0,0.0,0.0,0.0,0.0,0.0,0.0,0.0,0.0,0.0,0.0,0.0,0.0,0.0,0.0,0.0,0.0,0.0,0.0,0.0,0.0,0.0,0.0,0.0,0.0,0.0,0.0,0.0,0.0,0.0,0.0,0.0,0.0,0.0,0.0,0.0,0.0,0.0,0.0,0.0,0.0,0.0,0.0,0.0,0.0],\"type\":\"scatter\"},{\"line\":{\"shape\":\"spline\"},\"mode\":\"lines\",\"name\":\"NHBW GC (ObservedFinal)\",\"x\":[0.0,2.0,4.0,6.0,8.0,10.0,12.0,14.0,16.0,18.0,20.0,22.0,24.0,26.0,28.0,30.0,32.0,34.0,36.0,38.0,40.0,42.0,44.0,46.0,48.0,50.0,52.0,54.0,56.0,58.0,60.0,62.0,64.0,66.0,68.0,70.0,72.0,74.0,76.0,78.0,80.0,82.0,84.0,86.0,88.0,90.0,92.0,94.0,96.0,98.0,100.0,102.0,104.0,106.0,108.0,110.0,112.0,114.0,116.0,118.0,120.0,122.0,124.0,126.0,128.0,130.0,132.0,134.0,136.0,138.0,140.0,142.0,144.0,146.0,148.0,150.0,152.0,154.0,156.0,158.0,160.0,162.0,164.0,166.0,168.0,170.0,172.0,174.0,176.0,178.0,180.0,182.0,184.0,186.0,188.0,190.0,192.0,194.0,196.0,198.0,200.0,202.0,204.0,206.0,208.0,210.0,212.0,214.0,216.0,218.0,220.0,222.0,224.0,226.0,228.0,230.0,232.0,234.0,236.0,238.0,240.0,242.0,244.0,246.0,248.0,250.0,252.0,254.0,256.0,258.0,260.0,262.0,264.0,266.0,268.0,270.0,272.0,274.0,276.0,278.0,280.0,282.0,284.0,286.0,288.0,290.0,292.0,294.0,296.0,298.0,300.0,302.0,304.0,306.0,308.0,310.0,312.0,314.0,316.0,318.0,320.0,322.0,324.0,326.0,328.0,330.0,332.0,334.0,336.0,338.0,340.0,342.0,344.0,346.0,348.0,350.0,352.0,354.0,356.0,358.0,360.0,362.0,364.0,366.0,368.0,370.0,372.0,374.0,376.0,378.0,380.0,382.0,384.0,386.0,388.0,390.0,392.0,394.0,396.0,398.0,400.0,402.0,404.0,406.0,408.0,410.0],\"y\":[0.0,0.0216488,0.0538265,0.0817728,0.1053722999999999,0.0965061,0.0826566,0.0678752,0.0568001,0.0468329,0.0392733,0.0333705,0.0295231,0.0262235,0.0242727,0.0217874,0.0196226,0.0174456,0.0153079,0.0135156,0.0115424,0.0103293,0.0087102,0.0074303,0.0069286,0.0064042,0.0056144,0.0052404,0.0051491,0.0048664,0.0043635,0.0037156,0.0034276,0.0032093,0.0030189,0.0029292,0.0028394,0.0027497,0.0026599,0.0025702,0.0024804,0.0023906,0.0023009,0.0022111,0.0021213,0.0020316,0.0019417,0.001852,0.0017623,0.0016725,0.0015827,0.0014929,0.0014032,0.0013134,0.0012236,0.0011339,0.001044,0.0009543,0.0008647,0.0007749,0.0006851,0.0006562,0.0006273,0.0005983,0.0005693,0.0005404,0.0005115,0.0004825,0.0004536,0.0004247,0.0003957,0.0003668,0.0003378,0.0003088,0.0002799,0.000251,0.0002221,0.0001931,0.0001642,0.0001353,0.0001062,0.0001032,0.0001002,9.71e-05,9.41e-05,9.11e-05,8.8e-05,8.5e-05,8.2e-05,7.89e-05,7.59e-05,7.29e-05,6.98e-05,6.68e-05,6.37e-05,6.07e-05,5.77e-05,5.46e-05,5.16e-05,4.86e-05,4.55e-05,4.25e-05,3.95e-05,3.64e-05,3.34e-05,3.04e-05,2.73e-05,2.43e-05,2.12e-05,1.82e-05,1.52e-05,1.21e-05,9.1e-06,6.1e-06,3e-06,0.0,0.0,0.0,0.0,0.0,0.0,0.0,0.0,0.0,0.0,0.0,0.0,0.0,0.0,0.0,0.0,0.0,0.0,0.0,0.0,0.0,0.0,0.0,0.0,0.0,0.0,0.0,0.0,0.0,0.0,0.0,0.0,0.0,0.0,0.0,0.0,0.0,0.0,0.0,0.0,0.0,0.0,0.0,0.0,0.0,0.0,0.0,0.0,0.0,0.0,0.0,0.0,0.0,0.0,0.0,0.0,0.0,0.0,0.0,0.0,0.0,0.0,0.0,0.0,0.0,0.0,0.0,0.0,0.0,0.0,0.0,0.0,0.0,0.0,0.0,0.0,0.0,0.0,0.0,0.0,0.0,0.0,0.0,0.0,0.0,0.0,0.0,0.0,0.0,0.0,0.0],\"type\":\"scatter\"}],                        {\"height\":450,\"template\":{\"data\":{\"barpolar\":[{\"marker\":{\"line\":{\"color\":\"#E5ECF6\",\"width\":0.5},\"pattern\":{\"fillmode\":\"overlay\",\"size\":10,\"solidity\":0.2}},\"type\":\"barpolar\"}],\"bar\":[{\"error_x\":{\"color\":\"#2a3f5f\"},\"error_y\":{\"color\":\"#2a3f5f\"},\"marker\":{\"line\":{\"color\":\"#E5ECF6\",\"width\":0.5},\"pattern\":{\"fillmode\":\"overlay\",\"size\":10,\"solidity\":0.2}},\"type\":\"bar\"}],\"carpet\":[{\"aaxis\":{\"endlinecolor\":\"#2a3f5f\",\"gridcolor\":\"white\",\"linecolor\":\"white\",\"minorgridcolor\":\"white\",\"startlinecolor\":\"#2a3f5f\"},\"baxis\":{\"endlinecolor\":\"#2a3f5f\",\"gridcolor\":\"white\",\"linecolor\":\"white\",\"minorgridcolor\":\"white\",\"startlinecolor\":\"#2a3f5f\"},\"type\":\"carpet\"}],\"choropleth\":[{\"colorbar\":{\"outlinewidth\":0,\"ticks\":\"\"},\"type\":\"choropleth\"}],\"contourcarpet\":[{\"colorbar\":{\"outlinewidth\":0,\"ticks\":\"\"},\"type\":\"contourcarpet\"}],\"contour\":[{\"colorbar\":{\"outlinewidth\":0,\"ticks\":\"\"},\"colorscale\":[[0.0,\"#0d0887\"],[0.1111111111111111,\"#46039f\"],[0.2222222222222222,\"#7201a8\"],[0.3333333333333333,\"#9c179e\"],[0.4444444444444444,\"#bd3786\"],[0.5555555555555556,\"#d8576b\"],[0.6666666666666666,\"#ed7953\"],[0.7777777777777778,\"#fb9f3a\"],[0.8888888888888888,\"#fdca26\"],[1.0,\"#f0f921\"]],\"type\":\"contour\"}],\"heatmapgl\":[{\"colorbar\":{\"outlinewidth\":0,\"ticks\":\"\"},\"colorscale\":[[0.0,\"#0d0887\"],[0.1111111111111111,\"#46039f\"],[0.2222222222222222,\"#7201a8\"],[0.3333333333333333,\"#9c179e\"],[0.4444444444444444,\"#bd3786\"],[0.5555555555555556,\"#d8576b\"],[0.6666666666666666,\"#ed7953\"],[0.7777777777777778,\"#fb9f3a\"],[0.8888888888888888,\"#fdca26\"],[1.0,\"#f0f921\"]],\"type\":\"heatmapgl\"}],\"heatmap\":[{\"colorbar\":{\"outlinewidth\":0,\"ticks\":\"\"},\"colorscale\":[[0.0,\"#0d0887\"],[0.1111111111111111,\"#46039f\"],[0.2222222222222222,\"#7201a8\"],[0.3333333333333333,\"#9c179e\"],[0.4444444444444444,\"#bd3786\"],[0.5555555555555556,\"#d8576b\"],[0.6666666666666666,\"#ed7953\"],[0.7777777777777778,\"#fb9f3a\"],[0.8888888888888888,\"#fdca26\"],[1.0,\"#f0f921\"]],\"type\":\"heatmap\"}],\"histogram2dcontour\":[{\"colorbar\":{\"outlinewidth\":0,\"ticks\":\"\"},\"colorscale\":[[0.0,\"#0d0887\"],[0.1111111111111111,\"#46039f\"],[0.2222222222222222,\"#7201a8\"],[0.3333333333333333,\"#9c179e\"],[0.4444444444444444,\"#bd3786\"],[0.5555555555555556,\"#d8576b\"],[0.6666666666666666,\"#ed7953\"],[0.7777777777777778,\"#fb9f3a\"],[0.8888888888888888,\"#fdca26\"],[1.0,\"#f0f921\"]],\"type\":\"histogram2dcontour\"}],\"histogram2d\":[{\"colorbar\":{\"outlinewidth\":0,\"ticks\":\"\"},\"colorscale\":[[0.0,\"#0d0887\"],[0.1111111111111111,\"#46039f\"],[0.2222222222222222,\"#7201a8\"],[0.3333333333333333,\"#9c179e\"],[0.4444444444444444,\"#bd3786\"],[0.5555555555555556,\"#d8576b\"],[0.6666666666666666,\"#ed7953\"],[0.7777777777777778,\"#fb9f3a\"],[0.8888888888888888,\"#fdca26\"],[1.0,\"#f0f921\"]],\"type\":\"histogram2d\"}],\"histogram\":[{\"marker\":{\"pattern\":{\"fillmode\":\"overlay\",\"size\":10,\"solidity\":0.2}},\"type\":\"histogram\"}],\"mesh3d\":[{\"colorbar\":{\"outlinewidth\":0,\"ticks\":\"\"},\"type\":\"mesh3d\"}],\"parcoords\":[{\"line\":{\"colorbar\":{\"outlinewidth\":0,\"ticks\":\"\"}},\"type\":\"parcoords\"}],\"pie\":[{\"automargin\":true,\"type\":\"pie\"}],\"scatter3d\":[{\"line\":{\"colorbar\":{\"outlinewidth\":0,\"ticks\":\"\"}},\"marker\":{\"colorbar\":{\"outlinewidth\":0,\"ticks\":\"\"}},\"type\":\"scatter3d\"}],\"scattercarpet\":[{\"marker\":{\"colorbar\":{\"outlinewidth\":0,\"ticks\":\"\"}},\"type\":\"scattercarpet\"}],\"scattergeo\":[{\"marker\":{\"colorbar\":{\"outlinewidth\":0,\"ticks\":\"\"}},\"type\":\"scattergeo\"}],\"scattergl\":[{\"marker\":{\"colorbar\":{\"outlinewidth\":0,\"ticks\":\"\"}},\"type\":\"scattergl\"}],\"scattermapbox\":[{\"marker\":{\"colorbar\":{\"outlinewidth\":0,\"ticks\":\"\"}},\"type\":\"scattermapbox\"}],\"scatterpolargl\":[{\"marker\":{\"colorbar\":{\"outlinewidth\":0,\"ticks\":\"\"}},\"type\":\"scatterpolargl\"}],\"scatterpolar\":[{\"marker\":{\"colorbar\":{\"outlinewidth\":0,\"ticks\":\"\"}},\"type\":\"scatterpolar\"}],\"scatter\":[{\"fillpattern\":{\"fillmode\":\"overlay\",\"size\":10,\"solidity\":0.2},\"type\":\"scatter\"}],\"scatterternary\":[{\"marker\":{\"colorbar\":{\"outlinewidth\":0,\"ticks\":\"\"}},\"type\":\"scatterternary\"}],\"surface\":[{\"colorbar\":{\"outlinewidth\":0,\"ticks\":\"\"},\"colorscale\":[[0.0,\"#0d0887\"],[0.1111111111111111,\"#46039f\"],[0.2222222222222222,\"#7201a8\"],[0.3333333333333333,\"#9c179e\"],[0.4444444444444444,\"#bd3786\"],[0.5555555555555556,\"#d8576b\"],[0.6666666666666666,\"#ed7953\"],[0.7777777777777778,\"#fb9f3a\"],[0.8888888888888888,\"#fdca26\"],[1.0,\"#f0f921\"]],\"type\":\"surface\"}],\"table\":[{\"cells\":{\"fill\":{\"color\":\"#EBF0F8\"},\"line\":{\"color\":\"white\"}},\"header\":{\"fill\":{\"color\":\"#C8D4E3\"},\"line\":{\"color\":\"white\"}},\"type\":\"table\"}]},\"layout\":{\"annotationdefaults\":{\"arrowcolor\":\"#2a3f5f\",\"arrowhead\":0,\"arrowwidth\":1},\"autotypenumbers\":\"strict\",\"coloraxis\":{\"colorbar\":{\"outlinewidth\":0,\"ticks\":\"\"}},\"colorscale\":{\"diverging\":[[0,\"#8e0152\"],[0.1,\"#c51b7d\"],[0.2,\"#de77ae\"],[0.3,\"#f1b6da\"],[0.4,\"#fde0ef\"],[0.5,\"#f7f7f7\"],[0.6,\"#e6f5d0\"],[0.7,\"#b8e186\"],[0.8,\"#7fbc41\"],[0.9,\"#4d9221\"],[1,\"#276419\"]],\"sequential\":[[0.0,\"#0d0887\"],[0.1111111111111111,\"#46039f\"],[0.2222222222222222,\"#7201a8\"],[0.3333333333333333,\"#9c179e\"],[0.4444444444444444,\"#bd3786\"],[0.5555555555555556,\"#d8576b\"],[0.6666666666666666,\"#ed7953\"],[0.7777777777777778,\"#fb9f3a\"],[0.8888888888888888,\"#fdca26\"],[1.0,\"#f0f921\"]],\"sequentialminus\":[[0.0,\"#0d0887\"],[0.1111111111111111,\"#46039f\"],[0.2222222222222222,\"#7201a8\"],[0.3333333333333333,\"#9c179e\"],[0.4444444444444444,\"#bd3786\"],[0.5555555555555556,\"#d8576b\"],[0.6666666666666666,\"#ed7953\"],[0.7777777777777778,\"#fb9f3a\"],[0.8888888888888888,\"#fdca26\"],[1.0,\"#f0f921\"]]},\"colorway\":[\"#636efa\",\"#EF553B\",\"#00cc96\",\"#ab63fa\",\"#FFA15A\",\"#19d3f3\",\"#FF6692\",\"#B6E880\",\"#FF97FF\",\"#FECB52\"],\"font\":{\"color\":\"#2a3f5f\"},\"geo\":{\"bgcolor\":\"white\",\"lakecolor\":\"white\",\"landcolor\":\"#E5ECF6\",\"showlakes\":true,\"showland\":true,\"subunitcolor\":\"white\"},\"hoverlabel\":{\"align\":\"left\"},\"hovermode\":\"closest\",\"mapbox\":{\"style\":\"light\"},\"paper_bgcolor\":\"white\",\"plot_bgcolor\":\"#E5ECF6\",\"polar\":{\"angularaxis\":{\"gridcolor\":\"white\",\"linecolor\":\"white\",\"ticks\":\"\"},\"bgcolor\":\"#E5ECF6\",\"radialaxis\":{\"gridcolor\":\"white\",\"linecolor\":\"white\",\"ticks\":\"\"}},\"scene\":{\"xaxis\":{\"backgroundcolor\":\"#E5ECF6\",\"gridcolor\":\"white\",\"gridwidth\":2,\"linecolor\":\"white\",\"showbackground\":true,\"ticks\":\"\",\"zerolinecolor\":\"white\"},\"yaxis\":{\"backgroundcolor\":\"#E5ECF6\",\"gridcolor\":\"white\",\"gridwidth\":2,\"linecolor\":\"white\",\"showbackground\":true,\"ticks\":\"\",\"zerolinecolor\":\"white\"},\"zaxis\":{\"backgroundcolor\":\"#E5ECF6\",\"gridcolor\":\"white\",\"gridwidth\":2,\"linecolor\":\"white\",\"showbackground\":true,\"ticks\":\"\",\"zerolinecolor\":\"white\"}},\"shapedefaults\":{\"line\":{\"color\":\"#2a3f5f\"}},\"ternary\":{\"aaxis\":{\"gridcolor\":\"white\",\"linecolor\":\"white\",\"ticks\":\"\"},\"baxis\":{\"gridcolor\":\"white\",\"linecolor\":\"white\",\"ticks\":\"\"},\"bgcolor\":\"#E5ECF6\",\"caxis\":{\"gridcolor\":\"white\",\"linecolor\":\"white\",\"ticks\":\"\"}},\"title\":{\"x\":0.05},\"xaxis\":{\"automargin\":true,\"gridcolor\":\"white\",\"linecolor\":\"white\",\"ticks\":\"\",\"title\":{\"standoff\":15},\"zerolinecolor\":\"white\",\"zerolinewidth\":2},\"yaxis\":{\"automargin\":true,\"gridcolor\":\"white\",\"linecolor\":\"white\",\"ticks\":\"\",\"title\":{\"standoff\":15},\"zerolinecolor\":\"white\",\"zerolinewidth\":2}}},\"title\":{\"text\":\"Trip Length Frequencies - Observed Data\"},\"xaxis\":{\"range\":[0.0,100.0],\"title\":{\"text\":\"GC/Dist/Time\"}},\"yaxis\":{\"range\":[0.0,null],\"title\":{\"text\":\"\"}}},                        {\"responsive\": true}                    ).then(function(){\n",
       "                            \n",
       "var gd = document.getElementById('64a77bd9-f550-4b27-be67-aafafe5b2927');\n",
       "var x = new MutationObserver(function (mutations, observer) {{\n",
       "        var display = window.getComputedStyle(gd).display;\n",
       "        if (!display || display === 'none') {{\n",
       "            console.log([gd, 'removed!']);\n",
       "            Plotly.purge(gd);\n",
       "            observer.disconnect();\n",
       "        }}\n",
       "}});\n",
       "\n",
       "// Listen for the removal of the full notebook cells\n",
       "var notebookContainer = gd.closest('#notebook-container');\n",
       "if (notebookContainer) {{\n",
       "    x.observe(notebookContainer, {childList: true});\n",
       "}}\n",
       "\n",
       "// Listen for the clearing of the current output cell\n",
       "var outputEl = gd.closest('.output');\n",
       "if (outputEl) {{\n",
       "    x.observe(outputEl, {childList: true});\n",
       "}}\n",
       "\n",
       "                        })                };                });            </script>        </div>"
      ]
     },
     "metadata": {},
     "output_type": "display_data"
    }
   ],
   "source": [
    "# MAKE INTERACTIVE CHART\n",
    "py.offline.init_notebook_mode(connected=True)\n",
    "\n",
    "lstTripPurp  = dfObsModelMerge['TRIPPURP'].unique().tolist() # HBW, HBShp, HBOth,...\n",
    "lstTLFType   = dfObsModelMerge['TLFTYPE' ].unique().tolist() # GC, Time, Dist\n",
    "lstModOpt    = dfObsModelMerge['FF_CALIB_ROUND'].unique().tolist()\n",
    "    \n",
    "selectTripPurp     = widgets.SelectMultiple(options=lstTripPurp                     , value=('NHBW',)                    , description='Trip Purpose')\n",
    "selectTLFType      = widgets.SelectMultiple(options=lstTLFType                      , value=('GC' ,)                     , description='TLF Type'    )\n",
    "selectPreset       = widgets.Select        (options=dfZoomPresets['PRESET'].tolist(), value= 'Begin'                     , description='Zoom Presets')\n",
    "selectModelOption  = widgets.SelectMultiple(options=lstModOpt                       , value=('0-Initial Take 2',lstModOpt[-1]), description='Model Runs'  )\n",
    "\n",
    "#custom extents\n",
    "xmin = widgets.Text(value='0'  , description='X Min')\n",
    "xmax = widgets.Text(value='160' , description='X Max')\n",
    "ymin = widgets.Text(value='0'  , description='Y Min')\n",
    "ymax = widgets.Text(value='.10', description='Y Max')\n",
    "\n",
    "widgets.interactive(update_plot_mod_vs_obs, modeloption=selectModelOption,trippurps=selectTripPurp, tlftypes=selectTLFType, zoompreset=selectPreset, xmin=xmin, xmax=xmax, ymin=ymin, ymax=ymax)\n",
    "\n",
    "#ADD RAW OBSERVED CURVES"
   ]
  },
  {
   "attachments": {},
   "cell_type": "markdown",
   "metadata": {},
   "source": [
    "# Comparing Trip Frequency Density between Modeled and Observed"
   ]
  },
  {
   "cell_type": "code",
   "execution_count": 23,
   "metadata": {},
   "outputs": [],
   "source": [
    "#PLOTTING FUNCTION\n",
    "dfObsModelMergeD = dfObsModelMerge\n",
    "dfObsModelMergeD['FREQ_SUM'] = dfObsModelMerge.groupby(['FF_CALIB_ROUND', 'TRIPPURP','TLFTYPE'])['FREQ'].cumsum()\n",
    "dfObsModelMergeD\n",
    "\n",
    "def update_density_mod_vs_obs(modeloption, trippurps, tlftypes, xmin, xmax, ymin, ymax):\n",
    "\n",
    "    data2 = []\n",
    "    for modelspace in modeloption:\n",
    "        for trippurp in trippurps:\n",
    "            for tlftype in tlftypes:\n",
    "            \n",
    "                # data for plotting from filtered dataframe\n",
    "                plotdata1 = dfObsModelMergeD[(dfObsModelMergeD['TRIPPURP']==trippurp) & (dfObsModelMergeD['TLFTYPE']==tlftype)]\n",
    "                plotdata = plotdata1[(plotdata1['FF_CALIB_ROUND']==modelspace)]\n",
    "\n",
    "                # fill any NaN values with zeros\n",
    "                plotdata = plotdata.fillna(0)\n",
    "\n",
    "                name  = trippurp + ' ' + tlftype + ' (' + modelspace + ')'\n",
    "               \n",
    "                xplot2 = plotdata['BIN']\n",
    "                yplot2 = plotdata['FREQ_SUM']\n",
    "                \n",
    "                trace2 = go.Scatter(\n",
    "                    x=xplot2,\n",
    "                    y=yplot2,\n",
    "                    mode='lines',\n",
    "                    name=name,\n",
    "                    line=dict(\n",
    "                        shape='spline'\n",
    "                    )\n",
    "                )\n",
    "                data2.append(trace2) # move to new function for cleanliness\n",
    "\n",
    "    layout2 = go.Layout(\n",
    "        title='Trip Length Density - Observed Data',\n",
    "        yaxis=dict(\n",
    "            title='',\n",
    "            range=(ymin,ymax)\n",
    "        ),\n",
    "        xaxis=dict(\n",
    "            title='GC/Dist/Time',\n",
    "            range=(xmin,xmax)\n",
    "        ),\n",
    "        #width=1600,\n",
    "        height=450\n",
    "    )\n",
    "    \n",
    "    fig2 = go.Figure(data=data2,layout=layout2)\n",
    "    py.offline.iplot(fig2)"
   ]
  },
  {
   "cell_type": "code",
   "execution_count": 24,
   "metadata": {},
   "outputs": [
    {
     "data": {
      "application/vnd.jupyter.widget-view+json": {
       "model_id": "1b4658dce8fe441aa8b98134ec41b007",
       "version_major": 2,
       "version_minor": 0
      },
      "text/plain": [
       "interactive(children=(SelectMultiple(description='Model Runs', index=(0, 10), options=('0-Initial Take 2', '1-…"
      ]
     },
     "metadata": {},
     "output_type": "display_data"
    },
    {
     "data": {
      "application/vnd.plotly.v1+json": {
       "config": {
        "linkText": "Export to plot.ly",
        "plotlyServerURL": "https://plot.ly",
        "showLink": false
       },
       "data": [
        {
         "line": {
          "shape": "spline"
         },
         "mode": "lines",
         "name": "NHBW GC (0-Initial Take 2)",
         "type": "scatter",
         "x": [
          0,
          2,
          4,
          6,
          8,
          10,
          12,
          14,
          16,
          18,
          20,
          22,
          24,
          26,
          28,
          30,
          32,
          34,
          36,
          38,
          40,
          42,
          44,
          46,
          48,
          50,
          52,
          54,
          56,
          58,
          60,
          62,
          64,
          66,
          68,
          70,
          72,
          74,
          76,
          78,
          80,
          82,
          84,
          86,
          88,
          90,
          92,
          94,
          96,
          98,
          100,
          102,
          104,
          106,
          108,
          110,
          112,
          114,
          116,
          118,
          120,
          122,
          124,
          126,
          128,
          130,
          132,
          134,
          136,
          138,
          140,
          142,
          144,
          146,
          148,
          150,
          152,
          154,
          156,
          158,
          160,
          162,
          164,
          166,
          168,
          170,
          172,
          174,
          176,
          178,
          180,
          182,
          184,
          186,
          188,
          190,
          192,
          194,
          196,
          198,
          200,
          202,
          204,
          206,
          208,
          210,
          212,
          214,
          216,
          218,
          220,
          222,
          224,
          226,
          228,
          230,
          232,
          234,
          236,
          238,
          240,
          242,
          244,
          246,
          248,
          250,
          252,
          254,
          256,
          258,
          260,
          262,
          264,
          266,
          268,
          270,
          272,
          274,
          276,
          278,
          280,
          282,
          284,
          286,
          288,
          290,
          292,
          294,
          296,
          298,
          300,
          302,
          304,
          306,
          308,
          310,
          312,
          314,
          316,
          318,
          320,
          322,
          324,
          326,
          328,
          330,
          332,
          334,
          336,
          338,
          340,
          342,
          344,
          346,
          348,
          350,
          352,
          354,
          356,
          358,
          360,
          362,
          364,
          366,
          368,
          370,
          372,
          374,
          376,
          378,
          380,
          382,
          384,
          386,
          388,
          390,
          392,
          394,
          396,
          398,
          400
         ],
         "y": [
          0,
          0.0200578034536891,
          0.0685186132855668,
          0.1664387050337399,
          0.276354593860626,
          0.3766361286695893,
          0.461481799042898,
          0.5270737395192189,
          0.582495087454682,
          0.6278009698034239,
          0.6639792959552926,
          0.6978072837565569,
          0.7290629579825391,
          0.7578168071031326,
          0.7847883898985892,
          0.8090017477624035,
          0.8301516333633977,
          0.8484181545248705,
          0.8637623390020271,
          0.8769694484437183,
          0.8883946617172788,
          0.898545754915846,
          0.9075079831298819,
          0.9153988844287456,
          0.9224030085198102,
          0.9285877900776679,
          0.933846200847957,
          0.9383784164516691,
          0.9423658534815176,
          0.9459315230425961,
          0.9493934164430099,
          0.9526096313504567,
          0.9557290766405703,
          0.9586432037712849,
          0.9615442828675312,
          0.9643389153847111,
          0.9670062271116537,
          0.9695880061303799,
          0.9719470431706299,
          0.9741722816730343,
          0.9763584686112855,
          0.9784305943120571,
          0.9803887380947076,
          0.9821272201339691,
          0.9837562943381146,
          0.9852529977528671,
          0.9866387466050135,
          0.9879418711254205,
          0.9891114747257367,
          0.9901675723240826,
          0.9911550851171383,
          0.9920674163782577,
          0.9928964623129839,
          0.9936584172903377,
          0.9943581991105443,
          0.9949758192952693,
          0.9955552604287841,
          0.9960835141362998,
          0.9965381330393693,
          0.9969559081004296,
          0.997322522175277,
          0.9976472159691729,
          0.9979485237722134,
          0.9982197166588216,
          0.9984547531378606,
          0.9986530647539281,
          0.9988288364522971,
          0.9989806272646221,
          0.9991087941280161,
          0.9992135617806616,
          0.999302267263217,
          0.9993783345279895,
          0.9994375993086595,
          0.9994870945883447,
          0.9995270186654411,
          0.9995602270368538,
          0.999589310801626,
          0.9996154333103487,
          0.9996362810817333,
          0.9996581467848847,
          0.9996771041115591,
          0.9996945675903155,
          0.9997122690271473,
          0.9997313717726455,
          0.9997484915341819,
          0.9997671315834222,
          0.9997846743815372,
          0.9998032615512052,
          0.999821280265471,
          0.9998401186131075,
          0.9998580447881217,
          0.9998761957013182,
          0.9998947960908794,
          0.9999126693863213,
          0.9999309128387693,
          0.999949275270255,
          0.9999650862623767,
          0.9999769180666818,
          0.9999855903165411,
          0.9999921341636149,
          0.9999972370423431,
          0.999998228534324,
          0.9999994447644872,
          0.9999998545811726,
          0.9999999735602103,
          0.9999999999999964,
          0.9999999999999964,
          0.9999999999999964,
          0.9999999999999964,
          0.9999999999999964,
          0.9999999999999964,
          0.9999999999999964,
          0.9999999999999964,
          0.9999999999999964,
          0.9999999999999964,
          0.9999999999999964,
          0.9999999999999964,
          0.9999999999999964,
          0.9999999999999964,
          0.9999999999999964,
          0.9999999999999964,
          0.9999999999999964,
          0.9999999999999964,
          0.9999999999999964,
          0.9999999999999964,
          0.9999999999999964,
          0.9999999999999964,
          0.9999999999999964,
          0.9999999999999964,
          0.9999999999999964,
          0.9999999999999964,
          0.9999999999999964,
          0.9999999999999964,
          0.9999999999999964,
          0.9999999999999964,
          0.9999999999999964,
          0.9999999999999964,
          0.9999999999999964,
          0.9999999999999964,
          0.9999999999999964,
          0.9999999999999964,
          0.9999999999999964,
          0.9999999999999964,
          0.9999999999999964,
          0.9999999999999964,
          0.9999999999999964,
          0.9999999999999964,
          0.9999999999999964,
          0.9999999999999964,
          0.9999999999999964,
          0.9999999999999964,
          0.9999999999999964,
          0.9999999999999964,
          0.9999999999999964,
          0.9999999999999964,
          0.9999999999999964,
          0.9999999999999964,
          0.9999999999999964,
          0.9999999999999964,
          0.9999999999999964,
          0.9999999999999964,
          0.9999999999999964,
          0.9999999999999964,
          0.9999999999999964,
          0.9999999999999964,
          0.9999999999999964,
          0.9999999999999964,
          0.9999999999999964,
          0.9999999999999964,
          0.9999999999999964,
          0.9999999999999964,
          0.9999999999999964,
          0.9999999999999964,
          0.9999999999999964,
          0.9999999999999964,
          0.9999999999999964,
          0.9999999999999964,
          0.9999999999999964,
          0.9999999999999964,
          0.9999999999999964,
          0.9999999999999964,
          0.9999999999999964,
          0.9999999999999964,
          0.9999999999999964,
          0.9999999999999964,
          0.9999999999999964,
          0.9999999999999964,
          0.9999999999999964,
          0.9999999999999964,
          0.9999999999999964,
          0.9999999999999964,
          0.9999999999999964,
          0.9999999999999964,
          0.9999999999999964,
          0.9999999999999964,
          0.9999999999999964,
          0.9999999999999964,
          0.9999999999999964,
          0.9999999999999964,
          0.9999999999999964,
          0.9999999999999964
         ]
        },
        {
         "line": {
          "shape": "spline"
         },
         "mode": "lines",
         "name": "NHBW GC (ObservedFinal)",
         "type": "scatter",
         "x": [
          0,
          2,
          4,
          6,
          8,
          10,
          12,
          14,
          16,
          18,
          20,
          22,
          24,
          26,
          28,
          30,
          32,
          34,
          36,
          38,
          40,
          42,
          44,
          46,
          48,
          50,
          52,
          54,
          56,
          58,
          60,
          62,
          64,
          66,
          68,
          70,
          72,
          74,
          76,
          78,
          80,
          82,
          84,
          86,
          88,
          90,
          92,
          94,
          96,
          98,
          100,
          102,
          104,
          106,
          108,
          110,
          112,
          114,
          116,
          118,
          120,
          122,
          124,
          126,
          128,
          130,
          132,
          134,
          136,
          138,
          140,
          142,
          144,
          146,
          148,
          150,
          152,
          154,
          156,
          158,
          160,
          162,
          164,
          166,
          168,
          170,
          172,
          174,
          176,
          178,
          180,
          182,
          184,
          186,
          188,
          190,
          192,
          194,
          196,
          198,
          200,
          202,
          204,
          206,
          208,
          210,
          212,
          214,
          216,
          218,
          220,
          222,
          224,
          226,
          228,
          230,
          232,
          234,
          236,
          238,
          240,
          242,
          244,
          246,
          248,
          250,
          252,
          254,
          256,
          258,
          260,
          262,
          264,
          266,
          268,
          270,
          272,
          274,
          276,
          278,
          280,
          282,
          284,
          286,
          288,
          290,
          292,
          294,
          296,
          298,
          300,
          302,
          304,
          306,
          308,
          310,
          312,
          314,
          316,
          318,
          320,
          322,
          324,
          326,
          328,
          330,
          332,
          334,
          336,
          338,
          340,
          342,
          344,
          346,
          348,
          350,
          352,
          354,
          356,
          358,
          360,
          362,
          364,
          366,
          368,
          370,
          372,
          374,
          376,
          378,
          380,
          382,
          384,
          386,
          388,
          390,
          392,
          394,
          396,
          398,
          400,
          402,
          404,
          406,
          408,
          410
         ],
         "y": [
          0,
          0.0216488,
          0.0754753,
          0.1572481,
          0.2626203999999999,
          0.3591264999999999,
          0.4417830999999999,
          0.5096582999999999,
          0.5664583999999999,
          0.6132912999999999,
          0.6525645999999999,
          0.6859350999999999,
          0.7154581999999999,
          0.7416816999999999,
          0.7659543999999999,
          0.7877417999999999,
          0.8073643999999999,
          0.8248099999999999,
          0.8401178999999999,
          0.8536334999999999,
          0.8651758999999999,
          0.8755051999999999,
          0.8842153999999999,
          0.8916456999999999,
          0.8985742999999999,
          0.9049784999999999,
          0.9105928999999999,
          0.9158332999999999,
          0.9209823999999999,
          0.9258487999999999,
          0.9302122999999999,
          0.9339278999999999,
          0.9373554999999999,
          0.9405647999999999,
          0.9435836999999999,
          0.9465128999999999,
          0.9493522999999999,
          0.9521019999999999,
          0.9547618999999998,
          0.9573320999999999,
          0.9598124999999998,
          0.9622030999999999,
          0.9645039999999999,
          0.9667150999999999,
          0.9688363999999999,
          0.9708679999999998,
          0.9728096999999999,
          0.9746616999999999,
          0.9764239999999998,
          0.9780964999999999,
          0.9796791999999999,
          0.9811720999999999,
          0.9825752999999999,
          0.9838886999999998,
          0.9851122999999998,
          0.9862461999999999,
          0.9872901999999999,
          0.9882444999999999,
          0.9891091999999999,
          0.9898840999999999,
          0.9905691999999999,
          0.9912253999999999,
          0.9918526999999999,
          0.9924509999999999,
          0.9930202999999999,
          0.9935606999999999,
          0.9940721999999999,
          0.9945546999999999,
          0.9950082999999998,
          0.9954329999999999,
          0.9958286999999999,
          0.9961954999999999,
          0.9965332999999998,
          0.9968420999999998,
          0.9971219999999998,
          0.9973729999999998,
          0.9975950999999998,
          0.9977881999999999,
          0.9979523999999999,
          0.9980876999999999,
          0.9981938999999999,
          0.9982970999999999,
          0.9983972999999999,
          0.9984943999999999,
          0.9985884999999999,
          0.9986795999999999,
          0.9987675999999999,
          0.9988525999999999,
          0.9989345999999999,
          0.9990134999999999,
          0.9990893999999999,
          0.9991622999999998,
          0.9992320999999998,
          0.9992988999999999,
          0.9993625999999999,
          0.9994232999999999,
          0.9994809999999998,
          0.9995355999999999,
          0.9995871999999999,
          0.9996357999999999,
          0.9996812999999999,
          0.9997237999999998,
          0.9997632999999999,
          0.9997996999999998,
          0.9998330999999999,
          0.9998634999999999,
          0.9998907999999999,
          0.9999150999999998,
          0.9999362999999999,
          0.9999544999999999,
          0.9999696999999999,
          0.9999817999999999,
          0.9999908999999999,
          0.9999969999999999,
          0.9999999999999999,
          0.9999999999999999,
          0.9999999999999999,
          0.9999999999999999,
          0.9999999999999999,
          0.9999999999999999,
          0.9999999999999999,
          0.9999999999999999,
          0.9999999999999999,
          0.9999999999999999,
          0.9999999999999999,
          0.9999999999999999,
          0.9999999999999999,
          0.9999999999999999,
          0.9999999999999999,
          0.9999999999999999,
          0.9999999999999999,
          0.9999999999999999,
          0.9999999999999999,
          0.9999999999999999,
          0.9999999999999999,
          0.9999999999999999,
          0.9999999999999999,
          0.9999999999999999,
          0.9999999999999999,
          0.9999999999999999,
          0.9999999999999999,
          0.9999999999999999,
          0.9999999999999999,
          0.9999999999999999,
          0.9999999999999999,
          0.9999999999999999,
          0.9999999999999999,
          0.9999999999999999,
          0.9999999999999999,
          0.9999999999999999,
          0.9999999999999999,
          0.9999999999999999,
          0.9999999999999999,
          0.9999999999999999,
          0.9999999999999999,
          0.9999999999999999,
          0.9999999999999999,
          0.9999999999999999,
          0.9999999999999999,
          0.9999999999999999,
          0.9999999999999999,
          0.9999999999999999,
          0.9999999999999999,
          0.9999999999999999,
          0.9999999999999999,
          0.9999999999999999,
          0.9999999999999999,
          0.9999999999999999,
          0.9999999999999999,
          0.9999999999999999,
          0.9999999999999999,
          0.9999999999999999,
          0.9999999999999999,
          0.9999999999999999,
          0.9999999999999999,
          0.9999999999999999,
          0.9999999999999999,
          0.9999999999999999,
          0.9999999999999999,
          0.9999999999999999,
          0.9999999999999999,
          0.9999999999999999,
          0.9999999999999999,
          0.9999999999999999,
          0.9999999999999999,
          0.9999999999999999,
          0.9999999999999999,
          0.9999999999999999,
          0.9999999999999999,
          0.9999999999999999,
          0.9999999999999999,
          0.9999999999999999,
          0.9999999999999999,
          0.9999999999999999,
          0.9999999999999999,
          0.9999999999999999,
          0.9999999999999999,
          0.9999999999999999,
          0.9999999999999999,
          0.9999999999999999,
          0.9999999999999999,
          0.9999999999999999,
          0.9999999999999999,
          0.9999999999999999,
          0.9999999999999999,
          0.9999999999999999
         ]
        }
       ],
       "layout": {
        "height": 450,
        "template": {
         "data": {
          "bar": [
           {
            "error_x": {
             "color": "#2a3f5f"
            },
            "error_y": {
             "color": "#2a3f5f"
            },
            "marker": {
             "line": {
              "color": "#E5ECF6",
              "width": 0.5
             },
             "pattern": {
              "fillmode": "overlay",
              "size": 10,
              "solidity": 0.2
             }
            },
            "type": "bar"
           }
          ],
          "barpolar": [
           {
            "marker": {
             "line": {
              "color": "#E5ECF6",
              "width": 0.5
             },
             "pattern": {
              "fillmode": "overlay",
              "size": 10,
              "solidity": 0.2
             }
            },
            "type": "barpolar"
           }
          ],
          "carpet": [
           {
            "aaxis": {
             "endlinecolor": "#2a3f5f",
             "gridcolor": "white",
             "linecolor": "white",
             "minorgridcolor": "white",
             "startlinecolor": "#2a3f5f"
            },
            "baxis": {
             "endlinecolor": "#2a3f5f",
             "gridcolor": "white",
             "linecolor": "white",
             "minorgridcolor": "white",
             "startlinecolor": "#2a3f5f"
            },
            "type": "carpet"
           }
          ],
          "choropleth": [
           {
            "colorbar": {
             "outlinewidth": 0,
             "ticks": ""
            },
            "type": "choropleth"
           }
          ],
          "contour": [
           {
            "colorbar": {
             "outlinewidth": 0,
             "ticks": ""
            },
            "colorscale": [
             [
              0,
              "#0d0887"
             ],
             [
              0.1111111111111111,
              "#46039f"
             ],
             [
              0.2222222222222222,
              "#7201a8"
             ],
             [
              0.3333333333333333,
              "#9c179e"
             ],
             [
              0.4444444444444444,
              "#bd3786"
             ],
             [
              0.5555555555555556,
              "#d8576b"
             ],
             [
              0.6666666666666666,
              "#ed7953"
             ],
             [
              0.7777777777777778,
              "#fb9f3a"
             ],
             [
              0.8888888888888888,
              "#fdca26"
             ],
             [
              1,
              "#f0f921"
             ]
            ],
            "type": "contour"
           }
          ],
          "contourcarpet": [
           {
            "colorbar": {
             "outlinewidth": 0,
             "ticks": ""
            },
            "type": "contourcarpet"
           }
          ],
          "heatmap": [
           {
            "colorbar": {
             "outlinewidth": 0,
             "ticks": ""
            },
            "colorscale": [
             [
              0,
              "#0d0887"
             ],
             [
              0.1111111111111111,
              "#46039f"
             ],
             [
              0.2222222222222222,
              "#7201a8"
             ],
             [
              0.3333333333333333,
              "#9c179e"
             ],
             [
              0.4444444444444444,
              "#bd3786"
             ],
             [
              0.5555555555555556,
              "#d8576b"
             ],
             [
              0.6666666666666666,
              "#ed7953"
             ],
             [
              0.7777777777777778,
              "#fb9f3a"
             ],
             [
              0.8888888888888888,
              "#fdca26"
             ],
             [
              1,
              "#f0f921"
             ]
            ],
            "type": "heatmap"
           }
          ],
          "heatmapgl": [
           {
            "colorbar": {
             "outlinewidth": 0,
             "ticks": ""
            },
            "colorscale": [
             [
              0,
              "#0d0887"
             ],
             [
              0.1111111111111111,
              "#46039f"
             ],
             [
              0.2222222222222222,
              "#7201a8"
             ],
             [
              0.3333333333333333,
              "#9c179e"
             ],
             [
              0.4444444444444444,
              "#bd3786"
             ],
             [
              0.5555555555555556,
              "#d8576b"
             ],
             [
              0.6666666666666666,
              "#ed7953"
             ],
             [
              0.7777777777777778,
              "#fb9f3a"
             ],
             [
              0.8888888888888888,
              "#fdca26"
             ],
             [
              1,
              "#f0f921"
             ]
            ],
            "type": "heatmapgl"
           }
          ],
          "histogram": [
           {
            "marker": {
             "pattern": {
              "fillmode": "overlay",
              "size": 10,
              "solidity": 0.2
             }
            },
            "type": "histogram"
           }
          ],
          "histogram2d": [
           {
            "colorbar": {
             "outlinewidth": 0,
             "ticks": ""
            },
            "colorscale": [
             [
              0,
              "#0d0887"
             ],
             [
              0.1111111111111111,
              "#46039f"
             ],
             [
              0.2222222222222222,
              "#7201a8"
             ],
             [
              0.3333333333333333,
              "#9c179e"
             ],
             [
              0.4444444444444444,
              "#bd3786"
             ],
             [
              0.5555555555555556,
              "#d8576b"
             ],
             [
              0.6666666666666666,
              "#ed7953"
             ],
             [
              0.7777777777777778,
              "#fb9f3a"
             ],
             [
              0.8888888888888888,
              "#fdca26"
             ],
             [
              1,
              "#f0f921"
             ]
            ],
            "type": "histogram2d"
           }
          ],
          "histogram2dcontour": [
           {
            "colorbar": {
             "outlinewidth": 0,
             "ticks": ""
            },
            "colorscale": [
             [
              0,
              "#0d0887"
             ],
             [
              0.1111111111111111,
              "#46039f"
             ],
             [
              0.2222222222222222,
              "#7201a8"
             ],
             [
              0.3333333333333333,
              "#9c179e"
             ],
             [
              0.4444444444444444,
              "#bd3786"
             ],
             [
              0.5555555555555556,
              "#d8576b"
             ],
             [
              0.6666666666666666,
              "#ed7953"
             ],
             [
              0.7777777777777778,
              "#fb9f3a"
             ],
             [
              0.8888888888888888,
              "#fdca26"
             ],
             [
              1,
              "#f0f921"
             ]
            ],
            "type": "histogram2dcontour"
           }
          ],
          "mesh3d": [
           {
            "colorbar": {
             "outlinewidth": 0,
             "ticks": ""
            },
            "type": "mesh3d"
           }
          ],
          "parcoords": [
           {
            "line": {
             "colorbar": {
              "outlinewidth": 0,
              "ticks": ""
             }
            },
            "type": "parcoords"
           }
          ],
          "pie": [
           {
            "automargin": true,
            "type": "pie"
           }
          ],
          "scatter": [
           {
            "fillpattern": {
             "fillmode": "overlay",
             "size": 10,
             "solidity": 0.2
            },
            "type": "scatter"
           }
          ],
          "scatter3d": [
           {
            "line": {
             "colorbar": {
              "outlinewidth": 0,
              "ticks": ""
             }
            },
            "marker": {
             "colorbar": {
              "outlinewidth": 0,
              "ticks": ""
             }
            },
            "type": "scatter3d"
           }
          ],
          "scattercarpet": [
           {
            "marker": {
             "colorbar": {
              "outlinewidth": 0,
              "ticks": ""
             }
            },
            "type": "scattercarpet"
           }
          ],
          "scattergeo": [
           {
            "marker": {
             "colorbar": {
              "outlinewidth": 0,
              "ticks": ""
             }
            },
            "type": "scattergeo"
           }
          ],
          "scattergl": [
           {
            "marker": {
             "colorbar": {
              "outlinewidth": 0,
              "ticks": ""
             }
            },
            "type": "scattergl"
           }
          ],
          "scattermapbox": [
           {
            "marker": {
             "colorbar": {
              "outlinewidth": 0,
              "ticks": ""
             }
            },
            "type": "scattermapbox"
           }
          ],
          "scatterpolar": [
           {
            "marker": {
             "colorbar": {
              "outlinewidth": 0,
              "ticks": ""
             }
            },
            "type": "scatterpolar"
           }
          ],
          "scatterpolargl": [
           {
            "marker": {
             "colorbar": {
              "outlinewidth": 0,
              "ticks": ""
             }
            },
            "type": "scatterpolargl"
           }
          ],
          "scatterternary": [
           {
            "marker": {
             "colorbar": {
              "outlinewidth": 0,
              "ticks": ""
             }
            },
            "type": "scatterternary"
           }
          ],
          "surface": [
           {
            "colorbar": {
             "outlinewidth": 0,
             "ticks": ""
            },
            "colorscale": [
             [
              0,
              "#0d0887"
             ],
             [
              0.1111111111111111,
              "#46039f"
             ],
             [
              0.2222222222222222,
              "#7201a8"
             ],
             [
              0.3333333333333333,
              "#9c179e"
             ],
             [
              0.4444444444444444,
              "#bd3786"
             ],
             [
              0.5555555555555556,
              "#d8576b"
             ],
             [
              0.6666666666666666,
              "#ed7953"
             ],
             [
              0.7777777777777778,
              "#fb9f3a"
             ],
             [
              0.8888888888888888,
              "#fdca26"
             ],
             [
              1,
              "#f0f921"
             ]
            ],
            "type": "surface"
           }
          ],
          "table": [
           {
            "cells": {
             "fill": {
              "color": "#EBF0F8"
             },
             "line": {
              "color": "white"
             }
            },
            "header": {
             "fill": {
              "color": "#C8D4E3"
             },
             "line": {
              "color": "white"
             }
            },
            "type": "table"
           }
          ]
         },
         "layout": {
          "annotationdefaults": {
           "arrowcolor": "#2a3f5f",
           "arrowhead": 0,
           "arrowwidth": 1
          },
          "autotypenumbers": "strict",
          "coloraxis": {
           "colorbar": {
            "outlinewidth": 0,
            "ticks": ""
           }
          },
          "colorscale": {
           "diverging": [
            [
             0,
             "#8e0152"
            ],
            [
             0.1,
             "#c51b7d"
            ],
            [
             0.2,
             "#de77ae"
            ],
            [
             0.3,
             "#f1b6da"
            ],
            [
             0.4,
             "#fde0ef"
            ],
            [
             0.5,
             "#f7f7f7"
            ],
            [
             0.6,
             "#e6f5d0"
            ],
            [
             0.7,
             "#b8e186"
            ],
            [
             0.8,
             "#7fbc41"
            ],
            [
             0.9,
             "#4d9221"
            ],
            [
             1,
             "#276419"
            ]
           ],
           "sequential": [
            [
             0,
             "#0d0887"
            ],
            [
             0.1111111111111111,
             "#46039f"
            ],
            [
             0.2222222222222222,
             "#7201a8"
            ],
            [
             0.3333333333333333,
             "#9c179e"
            ],
            [
             0.4444444444444444,
             "#bd3786"
            ],
            [
             0.5555555555555556,
             "#d8576b"
            ],
            [
             0.6666666666666666,
             "#ed7953"
            ],
            [
             0.7777777777777778,
             "#fb9f3a"
            ],
            [
             0.8888888888888888,
             "#fdca26"
            ],
            [
             1,
             "#f0f921"
            ]
           ],
           "sequentialminus": [
            [
             0,
             "#0d0887"
            ],
            [
             0.1111111111111111,
             "#46039f"
            ],
            [
             0.2222222222222222,
             "#7201a8"
            ],
            [
             0.3333333333333333,
             "#9c179e"
            ],
            [
             0.4444444444444444,
             "#bd3786"
            ],
            [
             0.5555555555555556,
             "#d8576b"
            ],
            [
             0.6666666666666666,
             "#ed7953"
            ],
            [
             0.7777777777777778,
             "#fb9f3a"
            ],
            [
             0.8888888888888888,
             "#fdca26"
            ],
            [
             1,
             "#f0f921"
            ]
           ]
          },
          "colorway": [
           "#636efa",
           "#EF553B",
           "#00cc96",
           "#ab63fa",
           "#FFA15A",
           "#19d3f3",
           "#FF6692",
           "#B6E880",
           "#FF97FF",
           "#FECB52"
          ],
          "font": {
           "color": "#2a3f5f"
          },
          "geo": {
           "bgcolor": "white",
           "lakecolor": "white",
           "landcolor": "#E5ECF6",
           "showlakes": true,
           "showland": true,
           "subunitcolor": "white"
          },
          "hoverlabel": {
           "align": "left"
          },
          "hovermode": "closest",
          "mapbox": {
           "style": "light"
          },
          "paper_bgcolor": "white",
          "plot_bgcolor": "#E5ECF6",
          "polar": {
           "angularaxis": {
            "gridcolor": "white",
            "linecolor": "white",
            "ticks": ""
           },
           "bgcolor": "#E5ECF6",
           "radialaxis": {
            "gridcolor": "white",
            "linecolor": "white",
            "ticks": ""
           }
          },
          "scene": {
           "xaxis": {
            "backgroundcolor": "#E5ECF6",
            "gridcolor": "white",
            "gridwidth": 2,
            "linecolor": "white",
            "showbackground": true,
            "ticks": "",
            "zerolinecolor": "white"
           },
           "yaxis": {
            "backgroundcolor": "#E5ECF6",
            "gridcolor": "white",
            "gridwidth": 2,
            "linecolor": "white",
            "showbackground": true,
            "ticks": "",
            "zerolinecolor": "white"
           },
           "zaxis": {
            "backgroundcolor": "#E5ECF6",
            "gridcolor": "white",
            "gridwidth": 2,
            "linecolor": "white",
            "showbackground": true,
            "ticks": "",
            "zerolinecolor": "white"
           }
          },
          "shapedefaults": {
           "line": {
            "color": "#2a3f5f"
           }
          },
          "ternary": {
           "aaxis": {
            "gridcolor": "white",
            "linecolor": "white",
            "ticks": ""
           },
           "baxis": {
            "gridcolor": "white",
            "linecolor": "white",
            "ticks": ""
           },
           "bgcolor": "#E5ECF6",
           "caxis": {
            "gridcolor": "white",
            "linecolor": "white",
            "ticks": ""
           }
          },
          "title": {
           "x": 0.05
          },
          "xaxis": {
           "automargin": true,
           "gridcolor": "white",
           "linecolor": "white",
           "ticks": "",
           "title": {
            "standoff": 15
           },
           "zerolinecolor": "white",
           "zerolinewidth": 2
          },
          "yaxis": {
           "automargin": true,
           "gridcolor": "white",
           "linecolor": "white",
           "ticks": "",
           "title": {
            "standoff": 15
           },
           "zerolinecolor": "white",
           "zerolinewidth": 2
          }
         }
        },
        "title": {
         "text": "Trip Length Density - Observed Data"
        },
        "xaxis": {
         "range": [
          "0",
          "100"
         ],
         "title": {
          "text": "GC/Dist/Time"
         }
        },
        "yaxis": {
         "range": [
          "0",
          "1"
         ],
         "title": {
          "text": ""
         }
        }
       }
      },
      "text/html": [
       "<div>                            <div id=\"c927ced7-3021-4e9f-b6d1-2373d1d73032\" class=\"plotly-graph-div\" style=\"height:450px; width:100%;\"></div>            <script type=\"text/javascript\">                require([\"plotly\"], function(Plotly) {                    window.PLOTLYENV=window.PLOTLYENV || {};                                    if (document.getElementById(\"c927ced7-3021-4e9f-b6d1-2373d1d73032\")) {                    Plotly.newPlot(                        \"c927ced7-3021-4e9f-b6d1-2373d1d73032\",                        [{\"line\":{\"shape\":\"spline\"},\"mode\":\"lines\",\"name\":\"NHBW GC (0-Initial Take 2)\",\"x\":[0.0,2.0,4.0,6.0,8.0,10.0,12.0,14.0,16.0,18.0,20.0,22.0,24.0,26.0,28.0,30.0,32.0,34.0,36.0,38.0,40.0,42.0,44.0,46.0,48.0,50.0,52.0,54.0,56.0,58.0,60.0,62.0,64.0,66.0,68.0,70.0,72.0,74.0,76.0,78.0,80.0,82.0,84.0,86.0,88.0,90.0,92.0,94.0,96.0,98.0,100.0,102.0,104.0,106.0,108.0,110.0,112.0,114.0,116.0,118.0,120.0,122.0,124.0,126.0,128.0,130.0,132.0,134.0,136.0,138.0,140.0,142.0,144.0,146.0,148.0,150.0,152.0,154.0,156.0,158.0,160.0,162.0,164.0,166.0,168.0,170.0,172.0,174.0,176.0,178.0,180.0,182.0,184.0,186.0,188.0,190.0,192.0,194.0,196.0,198.0,200.0,202.0,204.0,206.0,208.0,210.0,212.0,214.0,216.0,218.0,220.0,222.0,224.0,226.0,228.0,230.0,232.0,234.0,236.0,238.0,240.0,242.0,244.0,246.0,248.0,250.0,252.0,254.0,256.0,258.0,260.0,262.0,264.0,266.0,268.0,270.0,272.0,274.0,276.0,278.0,280.0,282.0,284.0,286.0,288.0,290.0,292.0,294.0,296.0,298.0,300.0,302.0,304.0,306.0,308.0,310.0,312.0,314.0,316.0,318.0,320.0,322.0,324.0,326.0,328.0,330.0,332.0,334.0,336.0,338.0,340.0,342.0,344.0,346.0,348.0,350.0,352.0,354.0,356.0,358.0,360.0,362.0,364.0,366.0,368.0,370.0,372.0,374.0,376.0,378.0,380.0,382.0,384.0,386.0,388.0,390.0,392.0,394.0,396.0,398.0,400.0],\"y\":[0.0,0.0200578034536891,0.0685186132855668,0.1664387050337399,0.276354593860626,0.3766361286695893,0.461481799042898,0.5270737395192189,0.582495087454682,0.6278009698034239,0.6639792959552926,0.6978072837565569,0.7290629579825391,0.7578168071031326,0.7847883898985892,0.8090017477624035,0.8301516333633977,0.8484181545248705,0.8637623390020271,0.8769694484437183,0.8883946617172788,0.898545754915846,0.9075079831298819,0.9153988844287456,0.9224030085198102,0.9285877900776679,0.933846200847957,0.9383784164516691,0.9423658534815176,0.9459315230425961,0.9493934164430099,0.9526096313504567,0.9557290766405703,0.9586432037712849,0.9615442828675312,0.9643389153847111,0.9670062271116537,0.9695880061303799,0.9719470431706299,0.9741722816730343,0.9763584686112855,0.9784305943120571,0.9803887380947076,0.9821272201339691,0.9837562943381146,0.9852529977528671,0.9866387466050135,0.9879418711254205,0.9891114747257367,0.9901675723240826,0.9911550851171383,0.9920674163782577,0.9928964623129839,0.9936584172903377,0.9943581991105443,0.9949758192952693,0.9955552604287841,0.9960835141362998,0.9965381330393693,0.9969559081004296,0.997322522175277,0.9976472159691729,0.9979485237722134,0.9982197166588216,0.9984547531378606,0.9986530647539281,0.9988288364522971,0.9989806272646221,0.9991087941280161,0.9992135617806616,0.999302267263217,0.9993783345279895,0.9994375993086595,0.9994870945883447,0.9995270186654411,0.9995602270368538,0.999589310801626,0.9996154333103487,0.9996362810817333,0.9996581467848847,0.9996771041115591,0.9996945675903155,0.9997122690271473,0.9997313717726455,0.9997484915341819,0.9997671315834222,0.9997846743815372,0.9998032615512052,0.999821280265471,0.9998401186131075,0.9998580447881217,0.9998761957013182,0.9998947960908794,0.9999126693863213,0.9999309128387693,0.999949275270255,0.9999650862623767,0.9999769180666818,0.9999855903165411,0.9999921341636149,0.9999972370423431,0.999998228534324,0.9999994447644872,0.9999998545811726,0.9999999735602103,0.9999999999999964,0.9999999999999964,0.9999999999999964,0.9999999999999964,0.9999999999999964,0.9999999999999964,0.9999999999999964,0.9999999999999964,0.9999999999999964,0.9999999999999964,0.9999999999999964,0.9999999999999964,0.9999999999999964,0.9999999999999964,0.9999999999999964,0.9999999999999964,0.9999999999999964,0.9999999999999964,0.9999999999999964,0.9999999999999964,0.9999999999999964,0.9999999999999964,0.9999999999999964,0.9999999999999964,0.9999999999999964,0.9999999999999964,0.9999999999999964,0.9999999999999964,0.9999999999999964,0.9999999999999964,0.9999999999999964,0.9999999999999964,0.9999999999999964,0.9999999999999964,0.9999999999999964,0.9999999999999964,0.9999999999999964,0.9999999999999964,0.9999999999999964,0.9999999999999964,0.9999999999999964,0.9999999999999964,0.9999999999999964,0.9999999999999964,0.9999999999999964,0.9999999999999964,0.9999999999999964,0.9999999999999964,0.9999999999999964,0.9999999999999964,0.9999999999999964,0.9999999999999964,0.9999999999999964,0.9999999999999964,0.9999999999999964,0.9999999999999964,0.9999999999999964,0.9999999999999964,0.9999999999999964,0.9999999999999964,0.9999999999999964,0.9999999999999964,0.9999999999999964,0.9999999999999964,0.9999999999999964,0.9999999999999964,0.9999999999999964,0.9999999999999964,0.9999999999999964,0.9999999999999964,0.9999999999999964,0.9999999999999964,0.9999999999999964,0.9999999999999964,0.9999999999999964,0.9999999999999964,0.9999999999999964,0.9999999999999964,0.9999999999999964,0.9999999999999964,0.9999999999999964,0.9999999999999964,0.9999999999999964,0.9999999999999964,0.9999999999999964,0.9999999999999964,0.9999999999999964,0.9999999999999964,0.9999999999999964,0.9999999999999964,0.9999999999999964,0.9999999999999964,0.9999999999999964,0.9999999999999964,0.9999999999999964,0.9999999999999964],\"type\":\"scatter\"},{\"line\":{\"shape\":\"spline\"},\"mode\":\"lines\",\"name\":\"NHBW GC (ObservedFinal)\",\"x\":[0.0,2.0,4.0,6.0,8.0,10.0,12.0,14.0,16.0,18.0,20.0,22.0,24.0,26.0,28.0,30.0,32.0,34.0,36.0,38.0,40.0,42.0,44.0,46.0,48.0,50.0,52.0,54.0,56.0,58.0,60.0,62.0,64.0,66.0,68.0,70.0,72.0,74.0,76.0,78.0,80.0,82.0,84.0,86.0,88.0,90.0,92.0,94.0,96.0,98.0,100.0,102.0,104.0,106.0,108.0,110.0,112.0,114.0,116.0,118.0,120.0,122.0,124.0,126.0,128.0,130.0,132.0,134.0,136.0,138.0,140.0,142.0,144.0,146.0,148.0,150.0,152.0,154.0,156.0,158.0,160.0,162.0,164.0,166.0,168.0,170.0,172.0,174.0,176.0,178.0,180.0,182.0,184.0,186.0,188.0,190.0,192.0,194.0,196.0,198.0,200.0,202.0,204.0,206.0,208.0,210.0,212.0,214.0,216.0,218.0,220.0,222.0,224.0,226.0,228.0,230.0,232.0,234.0,236.0,238.0,240.0,242.0,244.0,246.0,248.0,250.0,252.0,254.0,256.0,258.0,260.0,262.0,264.0,266.0,268.0,270.0,272.0,274.0,276.0,278.0,280.0,282.0,284.0,286.0,288.0,290.0,292.0,294.0,296.0,298.0,300.0,302.0,304.0,306.0,308.0,310.0,312.0,314.0,316.0,318.0,320.0,322.0,324.0,326.0,328.0,330.0,332.0,334.0,336.0,338.0,340.0,342.0,344.0,346.0,348.0,350.0,352.0,354.0,356.0,358.0,360.0,362.0,364.0,366.0,368.0,370.0,372.0,374.0,376.0,378.0,380.0,382.0,384.0,386.0,388.0,390.0,392.0,394.0,396.0,398.0,400.0,402.0,404.0,406.0,408.0,410.0],\"y\":[0.0,0.0216488,0.0754753,0.1572481,0.2626203999999999,0.3591264999999999,0.4417830999999999,0.5096582999999999,0.5664583999999999,0.6132912999999999,0.6525645999999999,0.6859350999999999,0.7154581999999999,0.7416816999999999,0.7659543999999999,0.7877417999999999,0.8073643999999999,0.8248099999999999,0.8401178999999999,0.8536334999999999,0.8651758999999999,0.8755051999999999,0.8842153999999999,0.8916456999999999,0.8985742999999999,0.9049784999999999,0.9105928999999999,0.9158332999999999,0.9209823999999999,0.9258487999999999,0.9302122999999999,0.9339278999999999,0.9373554999999999,0.9405647999999999,0.9435836999999999,0.9465128999999999,0.9493522999999999,0.9521019999999999,0.9547618999999998,0.9573320999999999,0.9598124999999998,0.9622030999999999,0.9645039999999999,0.9667150999999999,0.9688363999999999,0.9708679999999998,0.9728096999999999,0.9746616999999999,0.9764239999999998,0.9780964999999999,0.9796791999999999,0.9811720999999999,0.9825752999999999,0.9838886999999998,0.9851122999999998,0.9862461999999999,0.9872901999999999,0.9882444999999999,0.9891091999999999,0.9898840999999999,0.9905691999999999,0.9912253999999999,0.9918526999999999,0.9924509999999999,0.9930202999999999,0.9935606999999999,0.9940721999999999,0.9945546999999999,0.9950082999999998,0.9954329999999999,0.9958286999999999,0.9961954999999999,0.9965332999999998,0.9968420999999998,0.9971219999999998,0.9973729999999998,0.9975950999999998,0.9977881999999999,0.9979523999999999,0.9980876999999999,0.9981938999999999,0.9982970999999999,0.9983972999999999,0.9984943999999999,0.9985884999999999,0.9986795999999999,0.9987675999999999,0.9988525999999999,0.9989345999999999,0.9990134999999999,0.9990893999999999,0.9991622999999998,0.9992320999999998,0.9992988999999999,0.9993625999999999,0.9994232999999999,0.9994809999999998,0.9995355999999999,0.9995871999999999,0.9996357999999999,0.9996812999999999,0.9997237999999998,0.9997632999999999,0.9997996999999998,0.9998330999999999,0.9998634999999999,0.9998907999999999,0.9999150999999998,0.9999362999999999,0.9999544999999999,0.9999696999999999,0.9999817999999999,0.9999908999999999,0.9999969999999999,0.9999999999999999,0.9999999999999999,0.9999999999999999,0.9999999999999999,0.9999999999999999,0.9999999999999999,0.9999999999999999,0.9999999999999999,0.9999999999999999,0.9999999999999999,0.9999999999999999,0.9999999999999999,0.9999999999999999,0.9999999999999999,0.9999999999999999,0.9999999999999999,0.9999999999999999,0.9999999999999999,0.9999999999999999,0.9999999999999999,0.9999999999999999,0.9999999999999999,0.9999999999999999,0.9999999999999999,0.9999999999999999,0.9999999999999999,0.9999999999999999,0.9999999999999999,0.9999999999999999,0.9999999999999999,0.9999999999999999,0.9999999999999999,0.9999999999999999,0.9999999999999999,0.9999999999999999,0.9999999999999999,0.9999999999999999,0.9999999999999999,0.9999999999999999,0.9999999999999999,0.9999999999999999,0.9999999999999999,0.9999999999999999,0.9999999999999999,0.9999999999999999,0.9999999999999999,0.9999999999999999,0.9999999999999999,0.9999999999999999,0.9999999999999999,0.9999999999999999,0.9999999999999999,0.9999999999999999,0.9999999999999999,0.9999999999999999,0.9999999999999999,0.9999999999999999,0.9999999999999999,0.9999999999999999,0.9999999999999999,0.9999999999999999,0.9999999999999999,0.9999999999999999,0.9999999999999999,0.9999999999999999,0.9999999999999999,0.9999999999999999,0.9999999999999999,0.9999999999999999,0.9999999999999999,0.9999999999999999,0.9999999999999999,0.9999999999999999,0.9999999999999999,0.9999999999999999,0.9999999999999999,0.9999999999999999,0.9999999999999999,0.9999999999999999,0.9999999999999999,0.9999999999999999,0.9999999999999999,0.9999999999999999,0.9999999999999999,0.9999999999999999,0.9999999999999999,0.9999999999999999,0.9999999999999999,0.9999999999999999,0.9999999999999999,0.9999999999999999,0.9999999999999999],\"type\":\"scatter\"}],                        {\"height\":450,\"template\":{\"data\":{\"barpolar\":[{\"marker\":{\"line\":{\"color\":\"#E5ECF6\",\"width\":0.5},\"pattern\":{\"fillmode\":\"overlay\",\"size\":10,\"solidity\":0.2}},\"type\":\"barpolar\"}],\"bar\":[{\"error_x\":{\"color\":\"#2a3f5f\"},\"error_y\":{\"color\":\"#2a3f5f\"},\"marker\":{\"line\":{\"color\":\"#E5ECF6\",\"width\":0.5},\"pattern\":{\"fillmode\":\"overlay\",\"size\":10,\"solidity\":0.2}},\"type\":\"bar\"}],\"carpet\":[{\"aaxis\":{\"endlinecolor\":\"#2a3f5f\",\"gridcolor\":\"white\",\"linecolor\":\"white\",\"minorgridcolor\":\"white\",\"startlinecolor\":\"#2a3f5f\"},\"baxis\":{\"endlinecolor\":\"#2a3f5f\",\"gridcolor\":\"white\",\"linecolor\":\"white\",\"minorgridcolor\":\"white\",\"startlinecolor\":\"#2a3f5f\"},\"type\":\"carpet\"}],\"choropleth\":[{\"colorbar\":{\"outlinewidth\":0,\"ticks\":\"\"},\"type\":\"choropleth\"}],\"contourcarpet\":[{\"colorbar\":{\"outlinewidth\":0,\"ticks\":\"\"},\"type\":\"contourcarpet\"}],\"contour\":[{\"colorbar\":{\"outlinewidth\":0,\"ticks\":\"\"},\"colorscale\":[[0.0,\"#0d0887\"],[0.1111111111111111,\"#46039f\"],[0.2222222222222222,\"#7201a8\"],[0.3333333333333333,\"#9c179e\"],[0.4444444444444444,\"#bd3786\"],[0.5555555555555556,\"#d8576b\"],[0.6666666666666666,\"#ed7953\"],[0.7777777777777778,\"#fb9f3a\"],[0.8888888888888888,\"#fdca26\"],[1.0,\"#f0f921\"]],\"type\":\"contour\"}],\"heatmapgl\":[{\"colorbar\":{\"outlinewidth\":0,\"ticks\":\"\"},\"colorscale\":[[0.0,\"#0d0887\"],[0.1111111111111111,\"#46039f\"],[0.2222222222222222,\"#7201a8\"],[0.3333333333333333,\"#9c179e\"],[0.4444444444444444,\"#bd3786\"],[0.5555555555555556,\"#d8576b\"],[0.6666666666666666,\"#ed7953\"],[0.7777777777777778,\"#fb9f3a\"],[0.8888888888888888,\"#fdca26\"],[1.0,\"#f0f921\"]],\"type\":\"heatmapgl\"}],\"heatmap\":[{\"colorbar\":{\"outlinewidth\":0,\"ticks\":\"\"},\"colorscale\":[[0.0,\"#0d0887\"],[0.1111111111111111,\"#46039f\"],[0.2222222222222222,\"#7201a8\"],[0.3333333333333333,\"#9c179e\"],[0.4444444444444444,\"#bd3786\"],[0.5555555555555556,\"#d8576b\"],[0.6666666666666666,\"#ed7953\"],[0.7777777777777778,\"#fb9f3a\"],[0.8888888888888888,\"#fdca26\"],[1.0,\"#f0f921\"]],\"type\":\"heatmap\"}],\"histogram2dcontour\":[{\"colorbar\":{\"outlinewidth\":0,\"ticks\":\"\"},\"colorscale\":[[0.0,\"#0d0887\"],[0.1111111111111111,\"#46039f\"],[0.2222222222222222,\"#7201a8\"],[0.3333333333333333,\"#9c179e\"],[0.4444444444444444,\"#bd3786\"],[0.5555555555555556,\"#d8576b\"],[0.6666666666666666,\"#ed7953\"],[0.7777777777777778,\"#fb9f3a\"],[0.8888888888888888,\"#fdca26\"],[1.0,\"#f0f921\"]],\"type\":\"histogram2dcontour\"}],\"histogram2d\":[{\"colorbar\":{\"outlinewidth\":0,\"ticks\":\"\"},\"colorscale\":[[0.0,\"#0d0887\"],[0.1111111111111111,\"#46039f\"],[0.2222222222222222,\"#7201a8\"],[0.3333333333333333,\"#9c179e\"],[0.4444444444444444,\"#bd3786\"],[0.5555555555555556,\"#d8576b\"],[0.6666666666666666,\"#ed7953\"],[0.7777777777777778,\"#fb9f3a\"],[0.8888888888888888,\"#fdca26\"],[1.0,\"#f0f921\"]],\"type\":\"histogram2d\"}],\"histogram\":[{\"marker\":{\"pattern\":{\"fillmode\":\"overlay\",\"size\":10,\"solidity\":0.2}},\"type\":\"histogram\"}],\"mesh3d\":[{\"colorbar\":{\"outlinewidth\":0,\"ticks\":\"\"},\"type\":\"mesh3d\"}],\"parcoords\":[{\"line\":{\"colorbar\":{\"outlinewidth\":0,\"ticks\":\"\"}},\"type\":\"parcoords\"}],\"pie\":[{\"automargin\":true,\"type\":\"pie\"}],\"scatter3d\":[{\"line\":{\"colorbar\":{\"outlinewidth\":0,\"ticks\":\"\"}},\"marker\":{\"colorbar\":{\"outlinewidth\":0,\"ticks\":\"\"}},\"type\":\"scatter3d\"}],\"scattercarpet\":[{\"marker\":{\"colorbar\":{\"outlinewidth\":0,\"ticks\":\"\"}},\"type\":\"scattercarpet\"}],\"scattergeo\":[{\"marker\":{\"colorbar\":{\"outlinewidth\":0,\"ticks\":\"\"}},\"type\":\"scattergeo\"}],\"scattergl\":[{\"marker\":{\"colorbar\":{\"outlinewidth\":0,\"ticks\":\"\"}},\"type\":\"scattergl\"}],\"scattermapbox\":[{\"marker\":{\"colorbar\":{\"outlinewidth\":0,\"ticks\":\"\"}},\"type\":\"scattermapbox\"}],\"scatterpolargl\":[{\"marker\":{\"colorbar\":{\"outlinewidth\":0,\"ticks\":\"\"}},\"type\":\"scatterpolargl\"}],\"scatterpolar\":[{\"marker\":{\"colorbar\":{\"outlinewidth\":0,\"ticks\":\"\"}},\"type\":\"scatterpolar\"}],\"scatter\":[{\"fillpattern\":{\"fillmode\":\"overlay\",\"size\":10,\"solidity\":0.2},\"type\":\"scatter\"}],\"scatterternary\":[{\"marker\":{\"colorbar\":{\"outlinewidth\":0,\"ticks\":\"\"}},\"type\":\"scatterternary\"}],\"surface\":[{\"colorbar\":{\"outlinewidth\":0,\"ticks\":\"\"},\"colorscale\":[[0.0,\"#0d0887\"],[0.1111111111111111,\"#46039f\"],[0.2222222222222222,\"#7201a8\"],[0.3333333333333333,\"#9c179e\"],[0.4444444444444444,\"#bd3786\"],[0.5555555555555556,\"#d8576b\"],[0.6666666666666666,\"#ed7953\"],[0.7777777777777778,\"#fb9f3a\"],[0.8888888888888888,\"#fdca26\"],[1.0,\"#f0f921\"]],\"type\":\"surface\"}],\"table\":[{\"cells\":{\"fill\":{\"color\":\"#EBF0F8\"},\"line\":{\"color\":\"white\"}},\"header\":{\"fill\":{\"color\":\"#C8D4E3\"},\"line\":{\"color\":\"white\"}},\"type\":\"table\"}]},\"layout\":{\"annotationdefaults\":{\"arrowcolor\":\"#2a3f5f\",\"arrowhead\":0,\"arrowwidth\":1},\"autotypenumbers\":\"strict\",\"coloraxis\":{\"colorbar\":{\"outlinewidth\":0,\"ticks\":\"\"}},\"colorscale\":{\"diverging\":[[0,\"#8e0152\"],[0.1,\"#c51b7d\"],[0.2,\"#de77ae\"],[0.3,\"#f1b6da\"],[0.4,\"#fde0ef\"],[0.5,\"#f7f7f7\"],[0.6,\"#e6f5d0\"],[0.7,\"#b8e186\"],[0.8,\"#7fbc41\"],[0.9,\"#4d9221\"],[1,\"#276419\"]],\"sequential\":[[0.0,\"#0d0887\"],[0.1111111111111111,\"#46039f\"],[0.2222222222222222,\"#7201a8\"],[0.3333333333333333,\"#9c179e\"],[0.4444444444444444,\"#bd3786\"],[0.5555555555555556,\"#d8576b\"],[0.6666666666666666,\"#ed7953\"],[0.7777777777777778,\"#fb9f3a\"],[0.8888888888888888,\"#fdca26\"],[1.0,\"#f0f921\"]],\"sequentialminus\":[[0.0,\"#0d0887\"],[0.1111111111111111,\"#46039f\"],[0.2222222222222222,\"#7201a8\"],[0.3333333333333333,\"#9c179e\"],[0.4444444444444444,\"#bd3786\"],[0.5555555555555556,\"#d8576b\"],[0.6666666666666666,\"#ed7953\"],[0.7777777777777778,\"#fb9f3a\"],[0.8888888888888888,\"#fdca26\"],[1.0,\"#f0f921\"]]},\"colorway\":[\"#636efa\",\"#EF553B\",\"#00cc96\",\"#ab63fa\",\"#FFA15A\",\"#19d3f3\",\"#FF6692\",\"#B6E880\",\"#FF97FF\",\"#FECB52\"],\"font\":{\"color\":\"#2a3f5f\"},\"geo\":{\"bgcolor\":\"white\",\"lakecolor\":\"white\",\"landcolor\":\"#E5ECF6\",\"showlakes\":true,\"showland\":true,\"subunitcolor\":\"white\"},\"hoverlabel\":{\"align\":\"left\"},\"hovermode\":\"closest\",\"mapbox\":{\"style\":\"light\"},\"paper_bgcolor\":\"white\",\"plot_bgcolor\":\"#E5ECF6\",\"polar\":{\"angularaxis\":{\"gridcolor\":\"white\",\"linecolor\":\"white\",\"ticks\":\"\"},\"bgcolor\":\"#E5ECF6\",\"radialaxis\":{\"gridcolor\":\"white\",\"linecolor\":\"white\",\"ticks\":\"\"}},\"scene\":{\"xaxis\":{\"backgroundcolor\":\"#E5ECF6\",\"gridcolor\":\"white\",\"gridwidth\":2,\"linecolor\":\"white\",\"showbackground\":true,\"ticks\":\"\",\"zerolinecolor\":\"white\"},\"yaxis\":{\"backgroundcolor\":\"#E5ECF6\",\"gridcolor\":\"white\",\"gridwidth\":2,\"linecolor\":\"white\",\"showbackground\":true,\"ticks\":\"\",\"zerolinecolor\":\"white\"},\"zaxis\":{\"backgroundcolor\":\"#E5ECF6\",\"gridcolor\":\"white\",\"gridwidth\":2,\"linecolor\":\"white\",\"showbackground\":true,\"ticks\":\"\",\"zerolinecolor\":\"white\"}},\"shapedefaults\":{\"line\":{\"color\":\"#2a3f5f\"}},\"ternary\":{\"aaxis\":{\"gridcolor\":\"white\",\"linecolor\":\"white\",\"ticks\":\"\"},\"baxis\":{\"gridcolor\":\"white\",\"linecolor\":\"white\",\"ticks\":\"\"},\"bgcolor\":\"#E5ECF6\",\"caxis\":{\"gridcolor\":\"white\",\"linecolor\":\"white\",\"ticks\":\"\"}},\"title\":{\"x\":0.05},\"xaxis\":{\"automargin\":true,\"gridcolor\":\"white\",\"linecolor\":\"white\",\"ticks\":\"\",\"title\":{\"standoff\":15},\"zerolinecolor\":\"white\",\"zerolinewidth\":2},\"yaxis\":{\"automargin\":true,\"gridcolor\":\"white\",\"linecolor\":\"white\",\"ticks\":\"\",\"title\":{\"standoff\":15},\"zerolinecolor\":\"white\",\"zerolinewidth\":2}}},\"title\":{\"text\":\"Trip Length Density - Observed Data\"},\"xaxis\":{\"range\":[\"0\",\"100\"],\"title\":{\"text\":\"GC/Dist/Time\"}},\"yaxis\":{\"range\":[\"0\",\"1\"],\"title\":{\"text\":\"\"}}},                        {\"responsive\": true}                    ).then(function(){\n",
       "                            \n",
       "var gd = document.getElementById('c927ced7-3021-4e9f-b6d1-2373d1d73032');\n",
       "var x = new MutationObserver(function (mutations, observer) {{\n",
       "        var display = window.getComputedStyle(gd).display;\n",
       "        if (!display || display === 'none') {{\n",
       "            console.log([gd, 'removed!']);\n",
       "            Plotly.purge(gd);\n",
       "            observer.disconnect();\n",
       "        }}\n",
       "}});\n",
       "\n",
       "// Listen for the removal of the full notebook cells\n",
       "var notebookContainer = gd.closest('#notebook-container');\n",
       "if (notebookContainer) {{\n",
       "    x.observe(notebookContainer, {childList: true});\n",
       "}}\n",
       "\n",
       "// Listen for the clearing of the current output cell\n",
       "var outputEl = gd.closest('.output');\n",
       "if (outputEl) {{\n",
       "    x.observe(outputEl, {childList: true});\n",
       "}}\n",
       "\n",
       "                        })                };                });            </script>        </div>"
      ]
     },
     "metadata": {},
     "output_type": "display_data"
    }
   ],
   "source": [
    "#custom extents\n",
    "xmin = widgets.Text(value='0'  , description='X Min')\n",
    "xmax = widgets.Text(value='100' , description='X Max')\n",
    "ymin = widgets.Text(value='0'  , description='Y Min')\n",
    "ymax = widgets.Text(value='1', description='Y Max')\n",
    "\n",
    "widgets.interactive(update_density_mod_vs_obs, modeloption=selectModelOption,trippurps=selectTripPurp, tlftypes=selectTLFType, xmin=xmin, xmax=xmax, ymin=ymin, ymax=ymax)\n"
   ]
  },
  {
   "cell_type": "markdown",
   "metadata": {},
   "source": [
    "# Friction Factor Adjustment and Smoothing"
   ]
  },
  {
   "cell_type": "code",
   "execution_count": 25,
   "metadata": {},
   "outputs": [],
   "source": [
    "## function check which trip urposes are unlocked for a given round\n",
    "# \n",
    "#def getUnlockedListForCalibRound(roundindex):\n",
    "#\n",
    "#    aUnlockedTripPurp = []\n",
    "#\n",
    "#    # list trip purposes. must have dfsFF[0] loaded with complete set\n",
    "#    trippurps = dfsFF[0]['TRIPPURP'].unique().tolist()\n",
    "#    \n",
    "#    if debug: print('Calib Round Index: ' + str(roundindex))\n",
    "#\n",
    "#    for trippurp in trippurps:\n",
    "#        \n",
    "#        #get round of lock\n",
    "#        lockedRoundIndices = dfTripPurpLocks[dfTripPurpLocks['TRIPPURP']==trippurp]['LOCK_FF_CALIB_ROUND_INDEX'].values\n",
    "#\n",
    "#        if lockedRoundIndices.size > 0:\n",
    "#            lockedRoundIndex = lockedRoundIndices[0]\n",
    "#            if roundindex < lockedRoundIndex:\n",
    "#                aUnlockedTripPurp.append(trippurp)\n",
    "#        else:\n",
    "#            aUnlockedTripPurp.append(trippurp)\n",
    "#\n",
    "#    return aUnlockedTripPurp\n",
    "#\n",
    "##display(getUnlockedListForCalibRound(6))"
   ]
  },
  {
   "cell_type": "code",
   "execution_count": 26,
   "metadata": {},
   "outputs": [
    {
     "name": "stdout",
     "output_type": "stream",
     "text": [
      "Calbration Round: 0\n",
      "Calbration Round: 1\n",
      "Calbration Round: 2\n",
      "Calbration Round: 3\n",
      "Calbration Round: 4\n",
      "Calbration Round: 5\n",
      "Calbration Round: 6\n",
      "Calbration Round: 7\n"
     ]
    },
    {
     "ename": "FileNotFoundError",
     "evalue": "[Errno 2] No such file or directory: 'a:\\\\1 - TDM\\\\3 - Model Dev\\\\1 - WF\\\\2 - Sandbox\\\\v9.0Beta\\\\0 - CalibValid\\\\3 - Distribution\\\\_Friction_Factors\\\\7\\\\3-friction factors adjusted.csv'",
     "output_type": "error",
     "traceback": [
      "\u001b[1;31m---------------------------------------------------------------------------\u001b[0m",
      "\u001b[1;31mFileNotFoundError\u001b[0m                         Traceback (most recent call last)",
      "\u001b[1;32m~\\AppData\\Local\\Temp\\ipykernel_32476\\3480084319.py\u001b[0m in \u001b[0;36m<module>\u001b[1;34m\u001b[0m\n\u001b[0;32m     11\u001b[0m     \u001b[1;31m# if friction factors locked\u001b[0m\u001b[1;33m\u001b[0m\u001b[1;33m\u001b[0m\u001b[0m\n\u001b[0;32m     12\u001b[0m     \u001b[1;32mif\u001b[0m \u001b[0mrow\u001b[0m\u001b[1;33m[\u001b[0m\u001b[1;34m'LOCKFF'\u001b[0m\u001b[1;33m]\u001b[0m\u001b[1;33m==\u001b[0m\u001b[1;32mTrue\u001b[0m\u001b[1;33m:\u001b[0m\u001b[1;33m\u001b[0m\u001b[1;33m\u001b[0m\u001b[0m\n\u001b[1;32m---> 13\u001b[1;33m         \u001b[0mdfsFFAdj\u001b[0m\u001b[1;33m.\u001b[0m\u001b[0mappend\u001b[0m\u001b[1;33m(\u001b[0m\u001b[0mpd\u001b[0m\u001b[1;33m.\u001b[0m\u001b[0mread_csv\u001b[0m\u001b[1;33m(\u001b[0m\u001b[0mfilename\u001b[0m\u001b[1;33m)\u001b[0m\u001b[1;33m)\u001b[0m\u001b[1;33m\u001b[0m\u001b[1;33m\u001b[0m\u001b[0m\n\u001b[0m\u001b[0;32m     14\u001b[0m \u001b[1;33m\u001b[0m\u001b[0m\n\u001b[0;32m     15\u001b[0m     \u001b[1;31m# if friction factors not locked\u001b[0m\u001b[1;33m\u001b[0m\u001b[1;33m\u001b[0m\u001b[0m\n",
      "\u001b[1;32mc:\\Users\\bhereth\\Anaconda3\\lib\\site-packages\\pandas\\util\\_decorators.py\u001b[0m in \u001b[0;36mwrapper\u001b[1;34m(*args, **kwargs)\u001b[0m\n\u001b[0;32m    309\u001b[0m                     \u001b[0mstacklevel\u001b[0m\u001b[1;33m=\u001b[0m\u001b[0mstacklevel\u001b[0m\u001b[1;33m,\u001b[0m\u001b[1;33m\u001b[0m\u001b[1;33m\u001b[0m\u001b[0m\n\u001b[0;32m    310\u001b[0m                 )\n\u001b[1;32m--> 311\u001b[1;33m             \u001b[1;32mreturn\u001b[0m \u001b[0mfunc\u001b[0m\u001b[1;33m(\u001b[0m\u001b[1;33m*\u001b[0m\u001b[0margs\u001b[0m\u001b[1;33m,\u001b[0m \u001b[1;33m**\u001b[0m\u001b[0mkwargs\u001b[0m\u001b[1;33m)\u001b[0m\u001b[1;33m\u001b[0m\u001b[1;33m\u001b[0m\u001b[0m\n\u001b[0m\u001b[0;32m    312\u001b[0m \u001b[1;33m\u001b[0m\u001b[0m\n\u001b[0;32m    313\u001b[0m         \u001b[1;32mreturn\u001b[0m \u001b[0mwrapper\u001b[0m\u001b[1;33m\u001b[0m\u001b[1;33m\u001b[0m\u001b[0m\n",
      "\u001b[1;32mc:\\Users\\bhereth\\Anaconda3\\lib\\site-packages\\pandas\\io\\parsers\\readers.py\u001b[0m in \u001b[0;36mread_csv\u001b[1;34m(filepath_or_buffer, sep, delimiter, header, names, index_col, usecols, squeeze, prefix, mangle_dupe_cols, dtype, engine, converters, true_values, false_values, skipinitialspace, skiprows, skipfooter, nrows, na_values, keep_default_na, na_filter, verbose, skip_blank_lines, parse_dates, infer_datetime_format, keep_date_col, date_parser, dayfirst, cache_dates, iterator, chunksize, compression, thousands, decimal, lineterminator, quotechar, quoting, doublequote, escapechar, comment, encoding, encoding_errors, dialect, error_bad_lines, warn_bad_lines, on_bad_lines, delim_whitespace, low_memory, memory_map, float_precision, storage_options)\u001b[0m\n\u001b[0;32m    676\u001b[0m     \u001b[0mkwds\u001b[0m\u001b[1;33m.\u001b[0m\u001b[0mupdate\u001b[0m\u001b[1;33m(\u001b[0m\u001b[0mkwds_defaults\u001b[0m\u001b[1;33m)\u001b[0m\u001b[1;33m\u001b[0m\u001b[1;33m\u001b[0m\u001b[0m\n\u001b[0;32m    677\u001b[0m \u001b[1;33m\u001b[0m\u001b[0m\n\u001b[1;32m--> 678\u001b[1;33m     \u001b[1;32mreturn\u001b[0m \u001b[0m_read\u001b[0m\u001b[1;33m(\u001b[0m\u001b[0mfilepath_or_buffer\u001b[0m\u001b[1;33m,\u001b[0m \u001b[0mkwds\u001b[0m\u001b[1;33m)\u001b[0m\u001b[1;33m\u001b[0m\u001b[1;33m\u001b[0m\u001b[0m\n\u001b[0m\u001b[0;32m    679\u001b[0m \u001b[1;33m\u001b[0m\u001b[0m\n\u001b[0;32m    680\u001b[0m \u001b[1;33m\u001b[0m\u001b[0m\n",
      "\u001b[1;32mc:\\Users\\bhereth\\Anaconda3\\lib\\site-packages\\pandas\\io\\parsers\\readers.py\u001b[0m in \u001b[0;36m_read\u001b[1;34m(filepath_or_buffer, kwds)\u001b[0m\n\u001b[0;32m    573\u001b[0m \u001b[1;33m\u001b[0m\u001b[0m\n\u001b[0;32m    574\u001b[0m     \u001b[1;31m# Create the parser.\u001b[0m\u001b[1;33m\u001b[0m\u001b[1;33m\u001b[0m\u001b[0m\n\u001b[1;32m--> 575\u001b[1;33m     \u001b[0mparser\u001b[0m \u001b[1;33m=\u001b[0m \u001b[0mTextFileReader\u001b[0m\u001b[1;33m(\u001b[0m\u001b[0mfilepath_or_buffer\u001b[0m\u001b[1;33m,\u001b[0m \u001b[1;33m**\u001b[0m\u001b[0mkwds\u001b[0m\u001b[1;33m)\u001b[0m\u001b[1;33m\u001b[0m\u001b[1;33m\u001b[0m\u001b[0m\n\u001b[0m\u001b[0;32m    576\u001b[0m \u001b[1;33m\u001b[0m\u001b[0m\n\u001b[0;32m    577\u001b[0m     \u001b[1;32mif\u001b[0m \u001b[0mchunksize\u001b[0m \u001b[1;32mor\u001b[0m \u001b[0miterator\u001b[0m\u001b[1;33m:\u001b[0m\u001b[1;33m\u001b[0m\u001b[1;33m\u001b[0m\u001b[0m\n",
      "\u001b[1;32mc:\\Users\\bhereth\\Anaconda3\\lib\\site-packages\\pandas\\io\\parsers\\readers.py\u001b[0m in \u001b[0;36m__init__\u001b[1;34m(self, f, engine, **kwds)\u001b[0m\n\u001b[0;32m    930\u001b[0m \u001b[1;33m\u001b[0m\u001b[0m\n\u001b[0;32m    931\u001b[0m         \u001b[0mself\u001b[0m\u001b[1;33m.\u001b[0m\u001b[0mhandles\u001b[0m\u001b[1;33m:\u001b[0m \u001b[0mIOHandles\u001b[0m \u001b[1;33m|\u001b[0m \u001b[1;32mNone\u001b[0m \u001b[1;33m=\u001b[0m \u001b[1;32mNone\u001b[0m\u001b[1;33m\u001b[0m\u001b[1;33m\u001b[0m\u001b[0m\n\u001b[1;32m--> 932\u001b[1;33m         \u001b[0mself\u001b[0m\u001b[1;33m.\u001b[0m\u001b[0m_engine\u001b[0m \u001b[1;33m=\u001b[0m \u001b[0mself\u001b[0m\u001b[1;33m.\u001b[0m\u001b[0m_make_engine\u001b[0m\u001b[1;33m(\u001b[0m\u001b[0mf\u001b[0m\u001b[1;33m,\u001b[0m \u001b[0mself\u001b[0m\u001b[1;33m.\u001b[0m\u001b[0mengine\u001b[0m\u001b[1;33m)\u001b[0m\u001b[1;33m\u001b[0m\u001b[1;33m\u001b[0m\u001b[0m\n\u001b[0m\u001b[0;32m    933\u001b[0m \u001b[1;33m\u001b[0m\u001b[0m\n\u001b[0;32m    934\u001b[0m     \u001b[1;32mdef\u001b[0m \u001b[0mclose\u001b[0m\u001b[1;33m(\u001b[0m\u001b[0mself\u001b[0m\u001b[1;33m)\u001b[0m\u001b[1;33m:\u001b[0m\u001b[1;33m\u001b[0m\u001b[1;33m\u001b[0m\u001b[0m\n",
      "\u001b[1;32mc:\\Users\\bhereth\\Anaconda3\\lib\\site-packages\\pandas\\io\\parsers\\readers.py\u001b[0m in \u001b[0;36m_make_engine\u001b[1;34m(self, f, engine)\u001b[0m\n\u001b[0;32m   1214\u001b[0m             \u001b[1;31m# \"Union[str, PathLike[str], ReadCsvBuffer[bytes], ReadCsvBuffer[str]]\"\u001b[0m\u001b[1;33m\u001b[0m\u001b[1;33m\u001b[0m\u001b[0m\n\u001b[0;32m   1215\u001b[0m             \u001b[1;31m# , \"str\", \"bool\", \"Any\", \"Any\", \"Any\", \"Any\", \"Any\"\u001b[0m\u001b[1;33m\u001b[0m\u001b[1;33m\u001b[0m\u001b[0m\n\u001b[1;32m-> 1216\u001b[1;33m             self.handles = get_handle(  # type: ignore[call-overload]\n\u001b[0m\u001b[0;32m   1217\u001b[0m                 \u001b[0mf\u001b[0m\u001b[1;33m,\u001b[0m\u001b[1;33m\u001b[0m\u001b[1;33m\u001b[0m\u001b[0m\n\u001b[0;32m   1218\u001b[0m                 \u001b[0mmode\u001b[0m\u001b[1;33m,\u001b[0m\u001b[1;33m\u001b[0m\u001b[1;33m\u001b[0m\u001b[0m\n",
      "\u001b[1;32mc:\\Users\\bhereth\\Anaconda3\\lib\\site-packages\\pandas\\io\\common.py\u001b[0m in \u001b[0;36mget_handle\u001b[1;34m(path_or_buf, mode, encoding, compression, memory_map, is_text, errors, storage_options)\u001b[0m\n\u001b[0;32m    784\u001b[0m         \u001b[1;32mif\u001b[0m \u001b[0mioargs\u001b[0m\u001b[1;33m.\u001b[0m\u001b[0mencoding\u001b[0m \u001b[1;32mand\u001b[0m \u001b[1;34m\"b\"\u001b[0m \u001b[1;32mnot\u001b[0m \u001b[1;32min\u001b[0m \u001b[0mioargs\u001b[0m\u001b[1;33m.\u001b[0m\u001b[0mmode\u001b[0m\u001b[1;33m:\u001b[0m\u001b[1;33m\u001b[0m\u001b[1;33m\u001b[0m\u001b[0m\n\u001b[0;32m    785\u001b[0m             \u001b[1;31m# Encoding\u001b[0m\u001b[1;33m\u001b[0m\u001b[1;33m\u001b[0m\u001b[0m\n\u001b[1;32m--> 786\u001b[1;33m             handle = open(\n\u001b[0m\u001b[0;32m    787\u001b[0m                 \u001b[0mhandle\u001b[0m\u001b[1;33m,\u001b[0m\u001b[1;33m\u001b[0m\u001b[1;33m\u001b[0m\u001b[0m\n\u001b[0;32m    788\u001b[0m                 \u001b[0mioargs\u001b[0m\u001b[1;33m.\u001b[0m\u001b[0mmode\u001b[0m\u001b[1;33m,\u001b[0m\u001b[1;33m\u001b[0m\u001b[1;33m\u001b[0m\u001b[0m\n",
      "\u001b[1;31mFileNotFoundError\u001b[0m: [Errno 2] No such file or directory: 'a:\\\\1 - TDM\\\\3 - Model Dev\\\\1 - WF\\\\2 - Sandbox\\\\v9.0Beta\\\\0 - CalibValid\\\\3 - Distribution\\\\_Friction_Factors\\\\7\\\\3-friction factors adjusted.csv'"
     ]
    }
   ],
   "source": [
    "# calculated new friction factors for each round of calibration\n",
    "\n",
    "# dataframe array of adjusted friction factors\n",
    "dfsFFAdj=[]\n",
    "\n",
    "for index, row in dfCalibrationRounds.iterrows():\n",
    "    print('Calbration Round: ' + str(index))\n",
    "\n",
    "    filename = os.path.join(os.path.join(dirIntermediate,str(index)),'3-friction factors adjusted.csv')\n",
    "    \n",
    "    # if friction factors locked\n",
    "    if row['LOCKFF']==True:\n",
    "        dfsFFAdj.append(pd.read_csv(filename))\n",
    "\n",
    "    # if friction factors not locked\n",
    "    else:\n",
    "\n",
    "        # initialize dataframes with round data, round index should be same as indexes for TLF and FF\n",
    "        dfTLF_TDM = dfsTLF_TDM[index][dfsTLF_TDM[index]['TLFTYPE']=='GC'].copy()\n",
    "        dfFF      = dfsFF[index].copy()\n",
    "\n",
    "        # CHANGE METHOD\n",
    "        ## filter out locked\n",
    "        #dfTLF_TDM = dfTLF_TDM[dfTLF_TDM['TRIPPURP'].isin(getUnlockedListForCalibRound(index))].copy()\n",
    "        #dfFF      = dfFF     [dfFF     ['TRIPPURP'].isin(getUnlockedListForCalibRound(index))].copy()\n",
    "        \n",
    "        # calculate adjustment factor\n",
    "        dfTLF_TDM.rename(columns={'FREQ':'FREQ_TDM'},inplace=True)\n",
    "        dfTLF_Obs_adjust = dfTLF_Obs[dfTLF_Obs['STAGE']==observedStage]\n",
    "        dfTLF_Obs_adjust.rename(columns={'FREQ':'FREQ_Obs'},inplace=True)\n",
    "\n",
    "        dfModVsObs = pd.DataFrame.merge(dfTLF_TDM,dfTLF_Obs_adjust,on=('TRIPPURP','TLFTYPE','BIN'))\n",
    "\n",
    "        # adjustment factor is observed divided by model\n",
    "        dfModVsObs.loc[dfModVsObs['FREQ_TDM']>0 , 'ADJFACTOR'] = dfModVsObs['FREQ_Obs'] / dfModVsObs['FREQ_TDM']\n",
    "\n",
    "        # if BIN 0 is empty, then use BIN 2 factor, unless empty as well\n",
    "        dfModVsObs['ADJFACTOR_NEXTBIN'] = dfModVsObs['ADJFACTOR'].shift(-1) # create temp field for next bin factor... should be ok to not filter by TRIPPURP and TLFTYPE since ends of curves are always 0\n",
    "        if debug: display(dfModVsObs)\n",
    "        \n",
    "        dfModVsObs.fillna(0,inplace=True) # fill NaNs with zeros\n",
    "        \n",
    "        # adjust first bin if zero\n",
    "        dfModVsObs['ADJFACTOR'] = dfModVsObs.apply(lambda x: x['ADJFACTOR_NEXTBIN'] if (x['BIN']==0) & (x['ADJFACTOR']==0) & (x['ADJFACTOR_NEXTBIN']>=0) else x['ADJFACTOR'] ,axis=1)\n",
    "        \n",
    "        ###### DO NOT TRY AT HOME\n",
    "        dfModVsObs.loc[(dfModVsObs['TRIPPURP']=='HBSchPr') & (dfModVsObs['TLFTYPE']=='GC') & (dfModVsObs['BIN']==0),'ADJFACTOR'] = 1\n",
    "        display(\"WATCH WHAT YOU'RE DOING HERE\")\n",
    "\n",
    "        dfModVsObs.drop(columns=('ADJFACTOR_NEXTBIN'),inplace=True) # drop next bin factor column\n",
    "        \n",
    "        if debug: display(dfModVsObs)      \n",
    "\n",
    "        # don't know if this is needed \n",
    "        #dfModVsObs.loc[dfModVsObs['FREQ_TDM']==0, 'ADJFACTOR'] = 1\n",
    "\n",
    "        # raw adjusted friction factor: multiply friction factor from previous round by adjustment factor\n",
    "        dfModVsObsWithFF = pd.DataFrame.merge(dfModVsObs,dfFF,on=('TRIPPURP','BIN'))\n",
    "\n",
    "        dfModVsObsWithFF['FF_ADJ_RAW'] = dfModVsObsWithFF['FF'] * dfModVsObsWithFF['ADJFACTOR']\n",
    "\n",
    "        # normalized adj friction factor: divide by max (round to seven decimals) of first 100 bins (because trucks have some real tails, so just want beginning)\n",
    "\n",
    "        override = ['',''] ## was MD,HV... now not using!\n",
    "\n",
    "        display(dfModVsObsWithFF[dfModVsObsWithFF['TRIPPURP']=='MD'])\n",
    "\n",
    "        dfModVsObsWithFF_original = dfModVsObsWithFF[~dfModVsObsWithFF['TRIPPURP'].isin(override)].copy()\n",
    "        dfModVsObsWithFF_override = dfModVsObsWithFF[ dfModVsObsWithFF['TRIPPURP'].isin(override)].copy()\n",
    "        #dfModVsObsWithFF_MaxAdj = (dfModVsObsWithFF[(dfModVsObsWithFF['BIN']<=nrmlz_max_bin) & (dfModVsObsWithFF['FF_ADJ_RAW']<=1.1)]\n",
    "        dfModVsObsWithFF_MaxAdj_original = (dfModVsObsWithFF_original[(dfModVsObsWithFF_original['BIN']<=nrmlz_max_bin) & (dfModVsObsWithFF_original['FF_ADJ_RAW']<=1.1)]\n",
    "            .groupby(['TLFTYPE','TRIPPURP'], as_index=False)\n",
    "                .agg(FF_ADJ_MAX=('FF_ADJ_RAW','max')))\n",
    "                \n",
    "        dfModVsObsWithFF_MaxAdj_override = (dfModVsObsWithFF_override[(dfModVsObsWithFF_override['BIN']<=nrmlz_max_bin)]\n",
    "            .groupby(['TLFTYPE','TRIPPURP'], as_index=False)\n",
    "                .agg(FF_ADJ_MAX=('FF_ADJ_RAW','max')))\n",
    "\n",
    "        dfModVsObsWithFF_MaxAdj = pd.concat([dfModVsObsWithFF_MaxAdj_original,dfModVsObsWithFF_MaxAdj_override])\n",
    "\n",
    "        dfModVsObsWithFFAdjNrml = pd.DataFrame.merge(dfModVsObsWithFF,dfModVsObsWithFF_MaxAdj, on=('TLFTYPE','TRIPPURP'))\n",
    "\n",
    "        dfModVsObsWithFFAdjNrml['FF_ADJ'] = round(dfModVsObsWithFFAdjNrml['FF_ADJ_RAW'] / dfModVsObsWithFFAdjNrml['FF_ADJ_MAX'],round_precision)\n",
    "\n",
    "        #cap adjustment at 1.0 (for those beyond bin nrmlz_max_bin)\n",
    "        dfModVsObsWithFFAdjNrml.loc[dfModVsObsWithFFAdjNrml['FF_ADJ']>1, 'FF_ADJ'] = 1\n",
    "\n",
    "        dfModVsObsWithFFAdjNrml = dfModVsObsWithFFAdjNrml.rename(columns=({'FF':'FF_ORIG'}))\n",
    "\n",
    "        # write out intermediate csv        \n",
    "        dfFFAdj = dfModVsObsWithFFAdjNrml[['TRIPPURP','TLFTYPE','BIN','FF_ORIG','FF_ADJ']]\n",
    "        dfFFAdj.to_csv(filename, index=False)\n",
    "                \n",
    "        if debug:\n",
    "            display(dfModVsObsWithFFAdjNrml)\n",
    "            dfCheck = (dfModVsObsWithFFAdjNrml\n",
    "                .groupby(['TLFTYPE','TRIPPURP'])\n",
    "                    .agg(FF_ADJ_MAX=('FF_ADJ','max')))\n",
    "            print('These all should be 1:')\n",
    "            display(dfCheck)\n",
    "\n",
    "        # append to dataframe\n",
    "        dfsFFAdj.append(dfFFAdj)\n",
    "        \n",
    "    if debug: display(dfsFFAdj)"
   ]
  },
  {
   "cell_type": "code",
   "execution_count": null,
   "metadata": {},
   "outputs": [],
   "source": [
    "#PLOTTING FUNCTION\n",
    "# chart preset zoom extents\n",
    "dfZoomPresets = pd.DataFrame([\n",
    "    ['Begin' ,     0,    30,     0,np.NaN],\n",
    "    ['Mid'   ,     0,   200,     0, 0.03],\n",
    "    ['Tail'  ,   150,   400,     0, 0.001],\n",
    "    ['All'   ,np.NaN,np.NaN,np.NaN,np.NaN],\n",
    "    ['Custom',np.NaN,np.NaN,np.NaN,np.NaN],\n",
    "], columns=('PRESET','XMIN','XMAX','YMIN','YMAX'))\n",
    "dfZoomPresets\n",
    "\n",
    "aOAS=['Original','Adjusted','Smoothed']\n",
    "linewidths=[1.5,4,2]\n",
    "linedashes=['solid','dash','solid']\n",
    "\n",
    "#def update_plot_ff(calibrnds, trippurps, oass, zoompreset):\n",
    "def update_plot_ff(calibrnds, trippurps, oass, zoompreset, xmin, xmax, ymin, ymax):\n",
    "\n",
    "    dfAvgTripLen = pd.DataFrame()\n",
    "    \n",
    "    data = []\n",
    "    for calibrnd in calibrnds:\n",
    "        for oas in oass:\n",
    "            \n",
    "            linewidth = linewidths[aOAS.index(oas)]\n",
    "            linedash  = linedashes[aOAS.index(oas)]\n",
    "\n",
    "            for trippurp in trippurps:\n",
    "\n",
    "                # data for plotting from filtered dataframe\n",
    "                plotdata = dfFFsForCharts[(dfFFsForCharts['FF_CALIB_ROUND']==calibrnd) & (dfFFsForCharts['TRIPPURP']==trippurp) & (dfFFsForCharts['OAS']==oas) & (dfFFsForCharts['BIN']<400)]\n",
    "\n",
    "                # fill any NaN values with zeros\n",
    "                plotdata = plotdata.fillna(0)\n",
    "                \n",
    "                xplot = plotdata['BIN']\n",
    "                yplot = plotdata['FF']\n",
    "                name  = str(calibrnd) + ' ' + trippurp + ' ' + oas\n",
    "\n",
    "                trace1 = go.Scatter(\n",
    "                    x=xplot,\n",
    "                    y=yplot,\n",
    "                    mode='lines',\n",
    "                    name=name,\n",
    "                    line=dict(\n",
    "                        shape='spline',\n",
    "                        width=linewidth,\n",
    "                        dash=linedash\n",
    "                    )\n",
    "                )\n",
    "                data.append(trace1)\n",
    "                \n",
    "    # get zoom presets\n",
    "    if (zoompreset=='Custom'):\n",
    "        _xmin = xmin\n",
    "        _xmax = xmax\n",
    "        _ymin = ymin\n",
    "        _ymax = ymax\n",
    "    else:\n",
    "        _xmin = dfZoomPresets[dfZoomPresets['PRESET']==zoompreset]['XMIN'].values[0]\n",
    "        _xmax = dfZoomPresets[dfZoomPresets['PRESET']==zoompreset]['XMAX'].values[0]\n",
    "        _ymin = dfZoomPresets[dfZoomPresets['PRESET']==zoompreset]['YMIN'].values[0]\n",
    "        _ymax = dfZoomPresets[dfZoomPresets['PRESET']==zoompreset]['YMAX'].values[0]\n",
    "\n",
    "    layout = go.Layout(\n",
    "        title='Friction Factors',\n",
    "        yaxis=dict(\n",
    "            title='',\n",
    "            range=(_ymin,_ymax)\n",
    "        ),\n",
    "        xaxis=dict(\n",
    "            title='GC',\n",
    "            range=(_xmin,_xmax)\n",
    "        ),\n",
    "        #width=1600,\n",
    "        height=600\n",
    "    )\n",
    "    \n",
    "    fig = go.Figure(data=data, layout=layout)\n",
    "    #py.offline.iplot(fig)\n",
    "    fig.show()"
   ]
  },
  {
   "cell_type": "code",
   "execution_count": 27,
   "metadata": {},
   "outputs": [
    {
     "data": {
      "text/html": [
       "<div>\n",
       "<style scoped>\n",
       "    .dataframe tbody tr th:only-of-type {\n",
       "        vertical-align: middle;\n",
       "    }\n",
       "\n",
       "    .dataframe tbody tr th {\n",
       "        vertical-align: top;\n",
       "    }\n",
       "\n",
       "    .dataframe thead th {\n",
       "        text-align: right;\n",
       "    }\n",
       "</style>\n",
       "<table border=\"1\" class=\"dataframe\">\n",
       "  <thead>\n",
       "    <tr style=\"text-align: right;\">\n",
       "      <th></th>\n",
       "      <th>INDEX_NUM</th>\n",
       "      <th>FF_CALIB_ROUND</th>\n",
       "      <th>LOCKFF</th>\n",
       "      <th>LOCKTLF</th>\n",
       "    </tr>\n",
       "  </thead>\n",
       "  <tbody>\n",
       "    <tr>\n",
       "      <th>6</th>\n",
       "      <td>6</td>\n",
       "      <td>6-Bring it On</td>\n",
       "      <td>True</td>\n",
       "      <td>True</td>\n",
       "    </tr>\n",
       "  </tbody>\n",
       "</table>\n",
       "</div>"
      ],
      "text/plain": [
       "  INDEX_NUM FF_CALIB_ROUND  LOCKFF  LOCKTLF\n",
       "6         6  6-Bring it On    True     True"
      ]
     },
     "metadata": {},
     "output_type": "display_data"
    },
    {
     "ename": "IndexError",
     "evalue": "list index out of range",
     "output_type": "error",
     "traceback": [
      "\u001b[1;31m---------------------------------------------------------------------------\u001b[0m",
      "\u001b[1;31mIndexError\u001b[0m                                Traceback (most recent call last)",
      "\u001b[1;32m~\\AppData\\Local\\Temp\\ipykernel_32476\\1154101404.py\u001b[0m in \u001b[0;36m<module>\u001b[1;34m\u001b[0m\n\u001b[0;32m     30\u001b[0m     \u001b[1;31m# create sets for give index\u001b[0m\u001b[1;33m\u001b[0m\u001b[1;33m\u001b[0m\u001b[0m\n\u001b[0;32m     31\u001b[0m     \u001b[0mdfOriginalSet\u001b[0m \u001b[1;33m=\u001b[0m \u001b[0mdfsFF\u001b[0m\u001b[1;33m[\u001b[0m\u001b[0mrndindex\u001b[0m\u001b[1;33m]\u001b[0m\u001b[1;33m.\u001b[0m\u001b[0mcopy\u001b[0m\u001b[1;33m(\u001b[0m\u001b[1;33m)\u001b[0m\u001b[1;33m\u001b[0m\u001b[1;33m\u001b[0m\u001b[0m\n\u001b[1;32m---> 32\u001b[1;33m     \u001b[0mdfAdjustedSet\u001b[0m \u001b[1;33m=\u001b[0m \u001b[0mdfsFFAdj\u001b[0m\u001b[1;33m[\u001b[0m\u001b[0mrndindex\u001b[0m\u001b[1;33m]\u001b[0m\u001b[1;33m[\u001b[0m\u001b[1;33m[\u001b[0m\u001b[1;34m'TRIPPURP'\u001b[0m\u001b[1;33m,\u001b[0m\u001b[1;34m'TLFTYPE'\u001b[0m\u001b[1;33m,\u001b[0m\u001b[1;34m'BIN'\u001b[0m\u001b[1;33m,\u001b[0m\u001b[1;34m'FF_ADJ'\u001b[0m\u001b[1;33m]\u001b[0m\u001b[1;33m]\u001b[0m\u001b[1;33m.\u001b[0m\u001b[0mcopy\u001b[0m\u001b[1;33m(\u001b[0m\u001b[1;33m)\u001b[0m\u001b[1;33m\u001b[0m\u001b[1;33m\u001b[0m\u001b[0m\n\u001b[0m\u001b[0;32m     33\u001b[0m     \u001b[0mdfAdjustedSet\u001b[0m\u001b[1;33m.\u001b[0m\u001b[0mcolumns\u001b[0m \u001b[1;33m=\u001b[0m \u001b[1;33m(\u001b[0m\u001b[1;33m[\u001b[0m\u001b[1;34m'TRIPPURP'\u001b[0m\u001b[1;33m,\u001b[0m\u001b[1;34m'TLFTYPE'\u001b[0m\u001b[1;33m,\u001b[0m\u001b[1;34m'BIN'\u001b[0m\u001b[1;33m,\u001b[0m\u001b[1;34m'FF'\u001b[0m\u001b[1;33m]\u001b[0m\u001b[1;33m)\u001b[0m\u001b[1;33m\u001b[0m\u001b[1;33m\u001b[0m\u001b[0m\n\u001b[0;32m     34\u001b[0m     \u001b[0mdfSmoothedSet\u001b[0m \u001b[1;33m=\u001b[0m \u001b[0mdfAdjustedSet\u001b[0m\u001b[1;33m.\u001b[0m\u001b[0mcopy\u001b[0m\u001b[1;33m(\u001b[0m\u001b[1;33m)\u001b[0m \u001b[1;31m# copy of adjusted since this is where it starts\u001b[0m\u001b[1;33m\u001b[0m\u001b[1;33m\u001b[0m\u001b[0m\n",
      "\u001b[1;31mIndexError\u001b[0m: list index out of range"
     ]
    }
   ],
   "source": [
    "# SMOOTHING\n",
    "\n",
    "# backup will output a new CSV each time function is run... just to be safe\n",
    "backup = False\n",
    "\n",
    "dfSmoothedSetHolder = pd.DataFrame()\n",
    "dfFFsForCharts = pd.DataFrame() # master dataframe\n",
    "\n",
    "# loop through input dataframe\n",
    "for index, row in dfCalibrationRounds.iterrows():\n",
    "    \n",
    "    if index==6:\n",
    "        display(dfCalibrationRounds[dfCalibrationRounds.index==index])\n",
    "        continue\n",
    "\n",
    "    rndindex = index\n",
    "\n",
    "    # get trip purposes and tlf types for looping\n",
    "    tps  = dfsFF[rndindex]['TRIPPURP'].unique().tolist()\n",
    "\n",
    "    dfSmoothParams = pd.DataFrame()\n",
    "\n",
    "    # r=root, d=directories, f = files\n",
    "    for r, d, f in os.walk(os.path.join(os.path.join(os.path.join(dirIntermediate,str(index)),'manual_smoothing'))):\n",
    "        for file in f:\n",
    "            if file.endswith('.csv'):\n",
    "                dfSmoothParams = pd.concat([dfSmoothParams,pd.read_csv(os.path.join(r, file))])\n",
    "    if debug: display(dfSmoothParams)\n",
    "\n",
    "    # create sets for give index\n",
    "    dfOriginalSet = dfsFF[rndindex].copy()\n",
    "    dfAdjustedSet = dfsFFAdj[rndindex][['TRIPPURP','TLFTYPE','BIN','FF_ADJ']].copy()\n",
    "    dfAdjustedSet.columns = (['TRIPPURP','TLFTYPE','BIN','FF'])\n",
    "    dfSmoothedSet = dfAdjustedSet.copy() # copy of adjusted since this is where it starts\n",
    "    \n",
    "    # add column for round values\n",
    "    dfOriginalSet['FF_CALIB_ROUND'] = rndindex\n",
    "    dfAdjustedSet['FF_CALIB_ROUND'] = rndindex\n",
    "    dfSmoothedSet['FF_CALIB_ROUND'] = rndindex\n",
    "\n",
    "    dfOriginalSet['OAS'] = 'Original'\n",
    "    dfAdjustedSet['OAS'] = 'Adjusted'\n",
    "    dfSmoothedSet['OAS'] = 'Smoothed'\n",
    "\n",
    "    if debug: display(dfAdjustedSet)\n",
    "\n",
    "    # go through all trip purposes\n",
    "    for tp in tps:\n",
    "        if debug: print (tp)\n",
    "\n",
    "        # make copy of filtered dataframe for working\n",
    "        dfSmthSetTP = dfSmoothedSet[(dfSmoothedSet['TRIPPURP']==tp)].copy()\n",
    "\n",
    "        # make copy of filtered manual adjustments for working\n",
    "        dfSmthPrmForTP = dfSmoothParams[(dfSmoothParams['TRIPPURP']==tp)].copy()\n",
    "\n",
    "        # smoothing is done row-by-row from the parameters file\n",
    "        for index, row in dfSmthPrmForTP.iterrows():\n",
    "\n",
    "            paramindex = index\n",
    "            _binfrom = row['BIN_FROM']\n",
    "            _binto   = row['BIN_TO']\n",
    "\n",
    "            # show before if debug set to 1\n",
    "            if(row['DEBUG_TOGGLE']==1):\n",
    "                pd.set_option('display.max_rows', None)\n",
    "                display(dfSmthSetTP[(dfSmthSetTP['BIN'].between(_binfrom,_binto))])\n",
    "                pd.set_option('display.max_rows', 10)\n",
    "\n",
    "            # linear adjustment\n",
    "            if row['LINEAR_TOGGLE']:\n",
    "                #print('linear')\n",
    "\n",
    "                numPNTS = len(dfSmthSetTP[(dfSmthSetTP['BIN'].between(_binfrom,_binto))].index)\n",
    "                bgnFFAdj = dfSmthSetTP[(dfSmthSetTP['BIN']==_binfrom)]['FF'].values[0]\n",
    "                endFFAdj = dfSmthSetTP[(dfSmthSetTP['BIN']==_binto  )]['FF'].values[0]\n",
    "\n",
    "                # interpolate with np\n",
    "                interpolates = np.linspace(bgnFFAdj, endFFAdj, numPNTS)\n",
    "\n",
    "                # display for debugging\n",
    "                if(row['DEBUG_TOGGLE']==1):\n",
    "                    display('Bgn Freq ' + str(bgnFFAdj))\n",
    "                    display('End Freq ' + str(endFFAdj))\n",
    "                    display('Size ' + str(numPNTS))\n",
    "                    display('Interpolates ' + str(interpolates))\n",
    "\n",
    "                dfSmthSetTP.loc[(dfSmthSetTP['BIN'].between(_binfrom,_binto)), 'FF'] = interpolates\n",
    "\n",
    "            # moving average adjustment\n",
    "            #if index==6: print(row['MOVAVG_REACH'])\n",
    "            if row['MOVAVG_REACH']>0:\n",
    "                \n",
    "                maxbin = dfSmthSetTP.loc[dfSmthSetTP['BIN'].idxmax()]['BIN']\n",
    "                \n",
    "                # add zeros to keep moving average\n",
    "                dfZeros = dfSmthSetTP.copy()\n",
    "                dfZeros['BIN'] += maxbin + binsize\n",
    "                dfZeros['FF'] = 0\n",
    "                dfSmthSetTP = pd.concat([dfSmthSetTP, dfZeros], ignore_index=True)\n",
    "                \n",
    "                # reach is on either side, so average extents is reach 2 + 1 with min periods for the shoulders, shift moves the avergage to center on bin\n",
    "                # moving average is calculated for entire dataset and then only applied to BIN_FROM-BIN_TO range\n",
    "                dfRolling = dfSmthSetTP['FF'].rolling(row['MOVAVG_REACH']*2+1, min_periods=1).mean().shift(-1 * row['MOVAVG_REACH'])\n",
    "\n",
    "                # debug\n",
    "                if(row['DEBUG_TOGGLE']==1): display(dfRolling)\n",
    "                    \n",
    "                dfSmthSetTP.loc[dfSmthSetTP['BIN'].between(_binfrom,_binto),'FF'] = dfRolling                \n",
    "                \n",
    "                # trim back to maxbin\n",
    "                dfSmthSetTP = dfSmthSetTP[dfSmthSetTP['BIN']<=maxbin]\n",
    "            \n",
    "            # adjust frequency by override\n",
    "            if row['FF_OVERRIDE']>0:\n",
    "                dfSmthSetTP.loc[(dfSmthSetTP['BIN'].between(_binfrom,_binto)),'FF'] = row['FF_OVERRIDE']\n",
    "\n",
    "            # adjust frequency by relative amount\n",
    "            dfSmthSetTP.loc[(dfSmthSetTP['BIN'].between(_binfrom,_binto)),'FF'] += row['FFADJ_REL']\n",
    "\n",
    "            # set frequency to zero\n",
    "            if row['FF_ZERO_TOGGLE']==1:\n",
    "                dfSmthSetTP.loc[(dfSmthSetTP['BIN'].between(_binfrom,_binto)),'FF'] = 0\n",
    "\n",
    "            # copy from previous round\n",
    "            if row['NOADJ_TOGGLE']==1:\n",
    "                dfNoAdj = dfOriginalSet[(dfOriginalSet['TRIPPURP']==tp)].copy()\n",
    "                dfSmthSetTP.loc[(dfSmthSetTP['BIN'].between(_binfrom,_binto)),'FF'] = dfNoAdj[(dfNoAdj['BIN'].between(_binfrom,_binto))]['FF'].tolist()\n",
    "\n",
    "            # show after if debug set to 1\n",
    "            if(row['DEBUG_TOGGLE']==1):\n",
    "                pd.set_option('display.max_rows', None)\n",
    "                display(dfSmthSetTP[(dfSmthSetTP['BIN'].between(_binfrom,_binto))])\n",
    "                pd.set_option('display.max_rows', 10)\n",
    "\n",
    "            if debug: display(dfSmthSetTP)\n",
    "\n",
    "        dfSmoothedSetHolder = pd.concat([dfSmoothedSetHolder, dfSmthSetTP], ignore_index=True)\n",
    "\n",
    "    if debug: display(dfSmoothedSetHolder)\n",
    "\n",
    "    # combine dataframes... smoothed with observed\n",
    "    dfFFsForCharts = pd.concat([dfFFsForCharts,dfOriginalSet,dfAdjustedSet,dfSmoothedSetHolder], ignore_index=True)\n",
    "\n",
    "if debug: display(dfFFsForCharts)\n",
    "\n",
    "# MAKE INTERACTIVE CHART\n",
    "py.offline.init_notebook_mode(connected=True)\n",
    "\n",
    "lstCalibRnd  = dfFFsForCharts['FF_CALIB_ROUND'].unique().tolist() # iterative round names\n",
    "lstTripPurp  = dfFFsForCharts['TRIPPURP'      ].unique().tolist() # HBW, HBShp, HBOth,...\n",
    "lstOAS       = dfFFsForCharts['OAS'           ].unique().tolist() # Original, Adjusted, Smoothed\n",
    "\n",
    "# multi select\n",
    "selectCalibRnd  = widgets.SelectMultiple(options=lstCalibRnd, value=(lstCalibRnd[-1],), description='Calib Round')\n",
    "selectTripPurp  = widgets.SelectMultiple(options=lstTripPurp, value=('HBW',), description='Trip Purpose')\n",
    "selectOAS       = widgets.SelectMultiple(options=lstOAS, value=('Original','Adjusted','Smoothed'), description='OAS')\n",
    "\n",
    "# single select\n",
    "selectPreset    = widgets.Select(options=dfZoomPresets['PRESET'].tolist(), value='Begin', description='Zoom Presets')\n",
    "\n",
    "#custom extents\n",
    "xmin = widgets.Text(value='120', description='X Min',style={'width':50, 'description_width': '30'})\n",
    "xmax = widgets.Text(value='260', description='X Max',style={'width':50, 'description_width': '30'})\n",
    "ymin = widgets.Text(value='0.00', description='Y Min',style={'width':50, 'description_width': '30'})\n",
    "ymax = widgets.Text(value='.00025', description='Y Max',style={'width':50, 'description_width': '30'})\n",
    "\n",
    "#container1 = widgets.HBox([selectCalibRnd, selectTripPurp, selectOAS, selectPreset])\n",
    "#container2 = widgets.VBox([xmin, xmax, ymin, ymax])\n",
    "#container3 = widgets.HBox([container1, container2])\n",
    "\n",
    "#ui = container3\n",
    "\n",
    "#out = widgets.interactive_output(update_plot_ff, {'calibrnds':selectCalibRnd, 'trippurps':selectTripPurp, 'oass':selectOAS, 'zoompreset':selectPreset, 'xmin':xmin, 'xmax':xmax, 'ymin':ymin, 'ymax':ymax})\n",
    "#display(ui, out)\n",
    "\n",
    "widgets.interactive(update_plot_ff, calibrnds=selectCalibRnd, trippurps=selectTripPurp, oass=selectOAS, zoompreset=selectPreset, xmin=xmin, xmax=xmax, ymin=ymin, ymax=ymax)\n",
    "#widgets.interactive(update_plot_ff, calibrnds=selectCalibRnd, trippurps=selectTripPurp, oass=selectOAS, zoompreset=selectPreset)\n"
   ]
  },
  {
   "cell_type": "code",
   "execution_count": null,
   "metadata": {},
   "outputs": [
    {
     "data": {
      "text/html": [
       "<div>\n",
       "<style scoped>\n",
       "    .dataframe tbody tr th:only-of-type {\n",
       "        vertical-align: middle;\n",
       "    }\n",
       "\n",
       "    .dataframe tbody tr th {\n",
       "        vertical-align: top;\n",
       "    }\n",
       "\n",
       "    .dataframe thead th {\n",
       "        text-align: right;\n",
       "    }\n",
       "</style>\n",
       "<table border=\"1\" class=\"dataframe\">\n",
       "  <thead>\n",
       "    <tr style=\"text-align: right;\">\n",
       "      <th></th>\n",
       "      <th>BIN</th>\n",
       "      <th>TRIPPURP</th>\n",
       "      <th>FF</th>\n",
       "    </tr>\n",
       "  </thead>\n",
       "  <tbody>\n",
       "  </tbody>\n",
       "</table>\n",
       "</div>"
      ],
      "text/plain": [
       "Empty DataFrame\n",
       "Columns: [BIN, TRIPPURP, FF]\n",
       "Index: []"
      ]
     },
     "metadata": {},
     "output_type": "display_data"
    },
    {
     "data": {
      "text/html": [
       "<div>\n",
       "<style scoped>\n",
       "    .dataframe tbody tr th:only-of-type {\n",
       "        vertical-align: middle;\n",
       "    }\n",
       "\n",
       "    .dataframe tbody tr th {\n",
       "        vertical-align: top;\n",
       "    }\n",
       "\n",
       "    .dataframe thead th {\n",
       "        text-align: right;\n",
       "    }\n",
       "</style>\n",
       "<table border=\"1\" class=\"dataframe\">\n",
       "  <thead>\n",
       "    <tr style=\"text-align: right;\">\n",
       "      <th></th>\n",
       "      <th>BIN</th>\n",
       "      <th>TRIPPURP</th>\n",
       "      <th>FF</th>\n",
       "    </tr>\n",
       "  </thead>\n",
       "  <tbody>\n",
       "  </tbody>\n",
       "</table>\n",
       "</div>"
      ],
      "text/plain": [
       "Empty DataFrame\n",
       "Columns: [BIN, TRIPPURP, FF]\n",
       "Index: []"
      ]
     },
     "metadata": {},
     "output_type": "display_data"
    },
    {
     "data": {
      "text/html": [
       "<div>\n",
       "<style scoped>\n",
       "    .dataframe tbody tr th:only-of-type {\n",
       "        vertical-align: middle;\n",
       "    }\n",
       "\n",
       "    .dataframe tbody tr th {\n",
       "        vertical-align: top;\n",
       "    }\n",
       "\n",
       "    .dataframe thead th {\n",
       "        text-align: right;\n",
       "    }\n",
       "</style>\n",
       "<table border=\"1\" class=\"dataframe\">\n",
       "  <thead>\n",
       "    <tr style=\"text-align: right;\">\n",
       "      <th></th>\n",
       "      <th>BIN</th>\n",
       "      <th>TRIPPURP</th>\n",
       "      <th>FF</th>\n",
       "    </tr>\n",
       "  </thead>\n",
       "  <tbody>\n",
       "  </tbody>\n",
       "</table>\n",
       "</div>"
      ],
      "text/plain": [
       "Empty DataFrame\n",
       "Columns: [BIN, TRIPPURP, FF]\n",
       "Index: []"
      ]
     },
     "metadata": {},
     "output_type": "display_data"
    },
    {
     "data": {
      "text/html": [
       "<div>\n",
       "<style scoped>\n",
       "    .dataframe tbody tr th:only-of-type {\n",
       "        vertical-align: middle;\n",
       "    }\n",
       "\n",
       "    .dataframe tbody tr th {\n",
       "        vertical-align: top;\n",
       "    }\n",
       "\n",
       "    .dataframe thead th {\n",
       "        text-align: right;\n",
       "    }\n",
       "</style>\n",
       "<table border=\"1\" class=\"dataframe\">\n",
       "  <thead>\n",
       "    <tr style=\"text-align: right;\">\n",
       "      <th></th>\n",
       "      <th>BIN</th>\n",
       "      <th>TRIPPURP</th>\n",
       "      <th>FF</th>\n",
       "      <th>FF_CALIB_ROUND</th>\n",
       "      <th>OAS</th>\n",
       "      <th>TLFTYPE</th>\n",
       "    </tr>\n",
       "  </thead>\n",
       "  <tbody>\n",
       "  </tbody>\n",
       "</table>\n",
       "</div>"
      ],
      "text/plain": [
       "Empty DataFrame\n",
       "Columns: [BIN, TRIPPURP, FF, FF_CALIB_ROUND, OAS, TLFTYPE]\n",
       "Index: []"
      ]
     },
     "metadata": {},
     "output_type": "display_data"
    }
   ],
   "source": [
    "# PREP FF FILE FOR NEXT MODEL RUN\n",
    "\n",
    "# get last round data\n",
    "lastRun = dfCalibrationRounds[dfCalibrationRounds.index==dfCalibrationRounds.shape[0]-1].index.values[0]\n",
    "#if debug: display(lastRun)\n",
    "\n",
    "dfNextRoundFF = dfFFsForCharts[(dfFFsForCharts['FF_CALIB_ROUND']==lastRun) & (dfFFsForCharts['OAS']=='Smoothed')]\n",
    "#if debug: display(dfNextRoundFF)\n",
    "\n",
    "# set initial bin to 1 -- DON'T USE THIS UNLESS YOU REALLY WANT TO\n",
    "#dfNextRoundFF.loc[(dfNextRoundFF['BIN']==0),'FF'] = 1.0\n",
    "\n",
    "\n",
    "# set LT equal to MD\n",
    "dfNextRoundFF_IXNHBW = dfNextRoundFF[dfNextRoundFF['TRIPPURP']=='NHBW'].copy()\n",
    "dfNextRoundFF_IXNHBW['FF'] *= .3333\n",
    "dfNextRoundFF_IXNHBNW = dfNextRoundFF[dfNextRoundFF['TRIPPURP']=='NHBNW'].copy()\n",
    "dfNextRoundFF_IXNHBNW['FF'] *= .3334\n",
    "dfNextRoundFF_IX = dfNextRoundFF[dfNextRoundFF['TRIPPURP']=='IX'].copy()\n",
    "dfNextRoundFF_IX['FF'] *= .3333\n",
    "\n",
    "dfNextRoundFF_IXLT = pd.merge(pd.merge(dfNextRoundFF_IXNHBW,dfNextRoundFF_IXNHBNW,on=('BIN')),dfNextRoundFF_IX,on=('BIN'))\n",
    "dfNextRoundFF_IXLT['FF'] = dfNextRoundFF_IXLT['FF_x'] + dfNextRoundFF_IXLT['FF_y'] + dfNextRoundFF_IXLT['FF']\n",
    "#display(dfNextRoundFF_IXLT)\n",
    "\n",
    "dfNextRoundFF_IXLT['TRIPPURP'] = 'IX_LT'\n",
    "dfNextRoundFF_IXLT = dfNextRoundFF_IXLT[['BIN','TRIPPURP','FF']]\n",
    "display(dfNextRoundFF_IXLT)\n",
    "\n",
    "\n",
    "dfNextRoundFF_XINHBW = dfNextRoundFF[dfNextRoundFF['TRIPPURP']=='NHBW'].copy()\n",
    "dfNextRoundFF_XINHBW['FF'] *= .3333\n",
    "dfNextRoundFF_XINHBNW = dfNextRoundFF[dfNextRoundFF['TRIPPURP']=='NHBNW'].copy()\n",
    "dfNextRoundFF_XINHBNW['FF'] *= .3334\n",
    "dfNextRoundFF_XI = dfNextRoundFF[dfNextRoundFF['TRIPPURP']=='XI'].copy()\n",
    "dfNextRoundFF_XI['FF'] *= .3333\n",
    "\n",
    "dfNextRoundFF_XILT = pd.merge(pd.merge(dfNextRoundFF_XINHBW,dfNextRoundFF_XINHBNW,on=('BIN')),dfNextRoundFF_XI,on=('BIN'))\n",
    "dfNextRoundFF_XILT['FF'] = dfNextRoundFF_XILT['FF_x'] + dfNextRoundFF_XILT['FF_y'] + dfNextRoundFF_XILT['FF']\n",
    "#display(dfNextRoundFF_XILT)\n",
    "\n",
    "dfNextRoundFF_XILT['TRIPPURP'] = 'XI_LT'\n",
    "dfNextRoundFF_XILT = dfNextRoundFF_XILT[['BIN','TRIPPURP','FF']]\n",
    "display(dfNextRoundFF_XILT)\n",
    "\n",
    "\n",
    "dfNextRoundFF_NHBW = dfNextRoundFF[dfNextRoundFF['TRIPPURP']=='NHBW'].copy()\n",
    "dfNextRoundFF_NHBW['FF'] *= .5\n",
    "dfNextRoundFF_NHBNW = dfNextRoundFF[dfNextRoundFF['TRIPPURP']=='NHBNW'].copy()\n",
    "dfNextRoundFF_NHBNW['FF'] *= .5\n",
    "\n",
    "dfNextRoundFF_LT = pd.DataFrame.merge(dfNextRoundFF_NHBW,dfNextRoundFF_NHBNW,on=('BIN'))\n",
    "dfNextRoundFF_LT['FF'] = dfNextRoundFF_LT['FF_x'] + dfNextRoundFF_LT['FF_y']\n",
    "#display(dfNextRoundFF_LT)\n",
    "\n",
    "dfNextRoundFF_LT['TRIPPURP'] = 'LT'\n",
    "dfNextRoundFF_LT = dfNextRoundFF_LT[['BIN','TRIPPURP','FF']]\n",
    "display(dfNextRoundFF_LT)\n",
    "\n",
    "#dfNextRoundFF_LT = df[df['TRIPPURP'].isin(['LT','IX_LT','XI_LT'])]\n",
    "\n",
    "\n",
    "dfNextRoundFF = pd.concat([dfNextRoundFF,dfNextRoundFF_IXLT,dfNextRoundFF_XILT,dfNextRoundFF_LT],ignore_index=True)\n",
    "\n",
    "\n",
    "# round to seven decimals \n",
    "dfNextRoundFF['FF'] = round(dfNextRoundFF['FF'],7)\n",
    "\n",
    "display(dfNextRoundFF)"
   ]
  },
  {
   "cell_type": "code",
   "execution_count": null,
   "metadata": {},
   "outputs": [
    {
     "data": {
      "text/html": [
       "<div>\n",
       "<style scoped>\n",
       "    .dataframe tbody tr th:only-of-type {\n",
       "        vertical-align: middle;\n",
       "    }\n",
       "\n",
       "    .dataframe tbody tr th {\n",
       "        vertical-align: top;\n",
       "    }\n",
       "\n",
       "    .dataframe thead th {\n",
       "        text-align: right;\n",
       "    }\n",
       "</style>\n",
       "<table border=\"1\" class=\"dataframe\">\n",
       "  <thead>\n",
       "    <tr style=\"text-align: right;\">\n",
       "      <th></th>\n",
       "      <th>BIN</th>\n",
       "      <th>TRIPPURP</th>\n",
       "      <th>FF</th>\n",
       "    </tr>\n",
       "  </thead>\n",
       "  <tbody>\n",
       "    <tr>\n",
       "      <th>0</th>\n",
       "      <td>0.0</td>\n",
       "      <td>HBW</td>\n",
       "      <td>1.0000000</td>\n",
       "    </tr>\n",
       "    <tr>\n",
       "      <th>1</th>\n",
       "      <td>2.0</td>\n",
       "      <td>HBW</td>\n",
       "      <td>0.9993574</td>\n",
       "    </tr>\n",
       "    <tr>\n",
       "      <th>2</th>\n",
       "      <td>4.0</td>\n",
       "      <td>HBW</td>\n",
       "      <td>0.9400000</td>\n",
       "    </tr>\n",
       "    <tr>\n",
       "      <th>3</th>\n",
       "      <td>6.0</td>\n",
       "      <td>HBW</td>\n",
       "      <td>0.3150463</td>\n",
       "    </tr>\n",
       "    <tr>\n",
       "      <th>4</th>\n",
       "      <td>8.0</td>\n",
       "      <td>HBW</td>\n",
       "      <td>0.1605079</td>\n",
       "    </tr>\n",
       "    <tr>\n",
       "      <th>...</th>\n",
       "      <td>...</td>\n",
       "      <td>...</td>\n",
       "      <td>...</td>\n",
       "    </tr>\n",
       "    <tr>\n",
       "      <th>3613</th>\n",
       "      <td>392.0</td>\n",
       "      <td>LT</td>\n",
       "      <td>0.0000000</td>\n",
       "    </tr>\n",
       "    <tr>\n",
       "      <th>3614</th>\n",
       "      <td>394.0</td>\n",
       "      <td>LT</td>\n",
       "      <td>0.0000000</td>\n",
       "    </tr>\n",
       "    <tr>\n",
       "      <th>3615</th>\n",
       "      <td>396.0</td>\n",
       "      <td>LT</td>\n",
       "      <td>0.0000000</td>\n",
       "    </tr>\n",
       "    <tr>\n",
       "      <th>3616</th>\n",
       "      <td>398.0</td>\n",
       "      <td>LT</td>\n",
       "      <td>0.0000000</td>\n",
       "    </tr>\n",
       "    <tr>\n",
       "      <th>3617</th>\n",
       "      <td>400.0</td>\n",
       "      <td>LT</td>\n",
       "      <td>0.0000000</td>\n",
       "    </tr>\n",
       "  </tbody>\n",
       "</table>\n",
       "<p>3618 rows × 3 columns</p>\n",
       "</div>"
      ],
      "text/plain": [
       "        BIN TRIPPURP         FF\n",
       "0       0.0      HBW  1.0000000\n",
       "1       2.0      HBW  0.9993574\n",
       "2       4.0      HBW  0.9400000\n",
       "3       6.0      HBW  0.3150463\n",
       "4       8.0      HBW  0.1605079\n",
       "...     ...      ...        ...\n",
       "3613  392.0       LT  0.0000000\n",
       "3614  394.0       LT  0.0000000\n",
       "3615  396.0       LT  0.0000000\n",
       "3616  398.0       LT  0.0000000\n",
       "3617  400.0       LT  0.0000000\n",
       "\n",
       "[3618 rows x 3 columns]"
      ]
     },
     "metadata": {},
     "output_type": "display_data"
    },
    {
     "data": {
      "text/html": [
       "<div>\n",
       "<style scoped>\n",
       "    .dataframe tbody tr th:only-of-type {\n",
       "        vertical-align: middle;\n",
       "    }\n",
       "\n",
       "    .dataframe tbody tr th {\n",
       "        vertical-align: top;\n",
       "    }\n",
       "\n",
       "    .dataframe thead th {\n",
       "        text-align: right;\n",
       "    }\n",
       "</style>\n",
       "<table border=\"1\" class=\"dataframe\">\n",
       "  <thead>\n",
       "    <tr style=\"text-align: right;\">\n",
       "      <th></th>\n",
       "      <th>BIN</th>\n",
       "      <th>FF_CALIB_ROUND</th>\n",
       "      <th>OAS</th>\n",
       "      <th>TLFTYPE</th>\n",
       "      <th>TRIPPURP</th>\n",
       "      <th>FF</th>\n",
       "    </tr>\n",
       "  </thead>\n",
       "  <tbody>\n",
       "    <tr>\n",
       "      <th>0</th>\n",
       "      <td>0.0</td>\n",
       "      <td>5.0</td>\n",
       "      <td>Smoothed</td>\n",
       "      <td>GC</td>\n",
       "      <td>HBW</td>\n",
       "      <td>1.0000000</td>\n",
       "    </tr>\n",
       "    <tr>\n",
       "      <th>1</th>\n",
       "      <td>2.0</td>\n",
       "      <td>5.0</td>\n",
       "      <td>Smoothed</td>\n",
       "      <td>GC</td>\n",
       "      <td>HBW</td>\n",
       "      <td>0.9993574</td>\n",
       "    </tr>\n",
       "    <tr>\n",
       "      <th>2</th>\n",
       "      <td>4.0</td>\n",
       "      <td>5.0</td>\n",
       "      <td>Smoothed</td>\n",
       "      <td>GC</td>\n",
       "      <td>HBW</td>\n",
       "      <td>0.9400000</td>\n",
       "    </tr>\n",
       "    <tr>\n",
       "      <th>3</th>\n",
       "      <td>6.0</td>\n",
       "      <td>5.0</td>\n",
       "      <td>Smoothed</td>\n",
       "      <td>GC</td>\n",
       "      <td>HBW</td>\n",
       "      <td>0.3150463</td>\n",
       "    </tr>\n",
       "    <tr>\n",
       "      <th>4</th>\n",
       "      <td>8.0</td>\n",
       "      <td>5.0</td>\n",
       "      <td>Smoothed</td>\n",
       "      <td>GC</td>\n",
       "      <td>HBW</td>\n",
       "      <td>0.1605079</td>\n",
       "    </tr>\n",
       "    <tr>\n",
       "      <th>...</th>\n",
       "      <td>...</td>\n",
       "      <td>...</td>\n",
       "      <td>...</td>\n",
       "      <td>...</td>\n",
       "      <td>...</td>\n",
       "      <td>...</td>\n",
       "    </tr>\n",
       "    <tr>\n",
       "      <th>3613</th>\n",
       "      <td>392.0</td>\n",
       "      <td>NaN</td>\n",
       "      <td>NaN</td>\n",
       "      <td>NaN</td>\n",
       "      <td>LT</td>\n",
       "      <td>0.0000000</td>\n",
       "    </tr>\n",
       "    <tr>\n",
       "      <th>3614</th>\n",
       "      <td>394.0</td>\n",
       "      <td>NaN</td>\n",
       "      <td>NaN</td>\n",
       "      <td>NaN</td>\n",
       "      <td>LT</td>\n",
       "      <td>0.0000000</td>\n",
       "    </tr>\n",
       "    <tr>\n",
       "      <th>3615</th>\n",
       "      <td>396.0</td>\n",
       "      <td>NaN</td>\n",
       "      <td>NaN</td>\n",
       "      <td>NaN</td>\n",
       "      <td>LT</td>\n",
       "      <td>0.0000000</td>\n",
       "    </tr>\n",
       "    <tr>\n",
       "      <th>3616</th>\n",
       "      <td>398.0</td>\n",
       "      <td>NaN</td>\n",
       "      <td>NaN</td>\n",
       "      <td>NaN</td>\n",
       "      <td>LT</td>\n",
       "      <td>0.0000000</td>\n",
       "    </tr>\n",
       "    <tr>\n",
       "      <th>3617</th>\n",
       "      <td>400.0</td>\n",
       "      <td>NaN</td>\n",
       "      <td>NaN</td>\n",
       "      <td>NaN</td>\n",
       "      <td>LT</td>\n",
       "      <td>0.0000000</td>\n",
       "    </tr>\n",
       "  </tbody>\n",
       "</table>\n",
       "<p>3618 rows × 6 columns</p>\n",
       "</div>"
      ],
      "text/plain": [
       "        BIN  FF_CALIB_ROUND       OAS TLFTYPE TRIPPURP         FF\n",
       "0       0.0             5.0  Smoothed      GC      HBW  1.0000000\n",
       "1       2.0             5.0  Smoothed      GC      HBW  0.9993574\n",
       "2       4.0             5.0  Smoothed      GC      HBW  0.9400000\n",
       "3       6.0             5.0  Smoothed      GC      HBW  0.3150463\n",
       "4       8.0             5.0  Smoothed      GC      HBW  0.1605079\n",
       "...     ...             ...       ...     ...      ...        ...\n",
       "3613  392.0             NaN       NaN     NaN       LT  0.0000000\n",
       "3614  394.0             NaN       NaN     NaN       LT  0.0000000\n",
       "3615  396.0             NaN       NaN     NaN       LT  0.0000000\n",
       "3616  398.0             NaN       NaN     NaN       LT  0.0000000\n",
       "3617  400.0             NaN       NaN     NaN       LT  0.0000000\n",
       "\n",
       "[3618 rows x 6 columns]"
      ]
     },
     "metadata": {},
     "output_type": "display_data"
    }
   ],
   "source": [
    "#Replace IX/XI MD and IX/XI HV with IX or XI\n",
    "dfNextRoundFF2 = dfNextRoundFF\n",
    "dfNextRoundFF2.loc[(dfNextRoundFF2['TRIPPURP'].isin(['IX_MD','IX_HV'])),['TRIPPURP2']] = ['IX']\n",
    "dfNextRoundFF2.loc[(dfNextRoundFF2['TRIPPURP'].isin(['XI_MD','XI_HV'])),['TRIPPURP2']] = ['XI']\n",
    "dfNextRoundFF2.loc[(~dfNextRoundFF2['TRIPPURP'].isin(['IX_MD','IX_HV','XI_MD','XI_HV'])),['TRIPPURP2']] = dfNextRoundFF2['TRIPPURP']\n",
    "\n",
    "fftable = dfNextRoundFF[['BIN','TRIPPURP','FF']]\n",
    "dfNextRoundFF3 = pd.DataFrame.merge(dfNextRoundFF2,fftable,left_on=('BIN','TRIPPURP2'),right_on=('BIN','TRIPPURP'))\n",
    "dfNextRoundFF3['TRIPPURP'] = dfNextRoundFF3['TRIPPURP_x']\n",
    "dfNextRoundFF3['FF'] = dfNextRoundFF3['FF_y']\n",
    "dfNextRoundFF3.drop(columns=['TRIPPURP2','TRIPPURP_x','TRIPPURP_y','FF_x','FF_y'],inplace=True)\n",
    "\n",
    "dfNextRoundFF = dfNextRoundFF3\n",
    "\n",
    "display(fftable)\n",
    "display(dfNextRoundFF)"
   ]
  },
  {
   "cell_type": "code",
   "execution_count": null,
   "metadata": {},
   "outputs": [],
   "source": [
    "#Divide MD and HV bin size by 2\n",
    "dfNextRoundFF4 = dfNextRoundFF3\n",
    "dfNextRoundFF4['BIN2'] = dfNextRoundFF4['BIN']\n",
    "dfNextRoundFF4.loc[(dfNextRoundFF4['TRIPPURP'].isin(['MD','HV']) & (dfNextRoundFF4['BIN'] > 8)),['BIN2']] /= 2\n",
    "dfNextRoundFF5 = dfNextRoundFF4[(((dfNextRoundFF4['TRIPPURP'].isin(['MD','HV'])) & (~dfNextRoundFF4['BIN'].between(10,16))) | (~dfNextRoundFF4['TRIPPURP'].isin(['MD','HV'])))]\n",
    "dfNextRoundFF5 = dfNextRoundFF5[dfNextRoundFF5.BIN2 % 2==0]\n",
    "dfNextRoundFF5.drop(columns =['BIN'],inplace=True)\n",
    "dfNextRoundFF5.rename(columns={'BIN2':'BIN'},inplace=True)"
   ]
  },
  {
   "cell_type": "code",
   "execution_count": null,
   "metadata": {},
   "outputs": [
    {
     "data": {
      "text/html": [
       "<div>\n",
       "<style scoped>\n",
       "    .dataframe tbody tr th:only-of-type {\n",
       "        vertical-align: middle;\n",
       "    }\n",
       "\n",
       "    .dataframe tbody tr th {\n",
       "        vertical-align: top;\n",
       "    }\n",
       "\n",
       "    .dataframe thead th {\n",
       "        text-align: right;\n",
       "    }\n",
       "</style>\n",
       "<table border=\"1\" class=\"dataframe\">\n",
       "  <thead>\n",
       "    <tr style=\"text-align: right;\">\n",
       "      <th></th>\n",
       "      <th>TRIPPURP</th>\n",
       "      <th>COUNT</th>\n",
       "    </tr>\n",
       "  </thead>\n",
       "  <tbody>\n",
       "    <tr>\n",
       "      <th>0</th>\n",
       "      <td>HBOth</td>\n",
       "      <td>201</td>\n",
       "    </tr>\n",
       "    <tr>\n",
       "      <th>1</th>\n",
       "      <td>HBSchPr</td>\n",
       "      <td>201</td>\n",
       "    </tr>\n",
       "    <tr>\n",
       "      <th>2</th>\n",
       "      <td>HBSchSc</td>\n",
       "      <td>201</td>\n",
       "    </tr>\n",
       "    <tr>\n",
       "      <th>3</th>\n",
       "      <td>HBShp</td>\n",
       "      <td>201</td>\n",
       "    </tr>\n",
       "    <tr>\n",
       "      <th>4</th>\n",
       "      <td>HBW</td>\n",
       "      <td>201</td>\n",
       "    </tr>\n",
       "    <tr>\n",
       "      <th>5</th>\n",
       "      <td>HV</td>\n",
       "      <td>201</td>\n",
       "    </tr>\n",
       "    <tr>\n",
       "      <th>6</th>\n",
       "      <td>IX</td>\n",
       "      <td>201</td>\n",
       "    </tr>\n",
       "    <tr>\n",
       "      <th>7</th>\n",
       "      <td>IX_HV</td>\n",
       "      <td>201</td>\n",
       "    </tr>\n",
       "    <tr>\n",
       "      <th>8</th>\n",
       "      <td>IX_LT</td>\n",
       "      <td>201</td>\n",
       "    </tr>\n",
       "    <tr>\n",
       "      <th>9</th>\n",
       "      <td>IX_MD</td>\n",
       "      <td>201</td>\n",
       "    </tr>\n",
       "    <tr>\n",
       "      <th>10</th>\n",
       "      <td>LT</td>\n",
       "      <td>201</td>\n",
       "    </tr>\n",
       "    <tr>\n",
       "      <th>11</th>\n",
       "      <td>MD</td>\n",
       "      <td>201</td>\n",
       "    </tr>\n",
       "    <tr>\n",
       "      <th>12</th>\n",
       "      <td>NHBNW</td>\n",
       "      <td>201</td>\n",
       "    </tr>\n",
       "    <tr>\n",
       "      <th>13</th>\n",
       "      <td>NHBW</td>\n",
       "      <td>201</td>\n",
       "    </tr>\n",
       "    <tr>\n",
       "      <th>14</th>\n",
       "      <td>XI</td>\n",
       "      <td>201</td>\n",
       "    </tr>\n",
       "    <tr>\n",
       "      <th>15</th>\n",
       "      <td>XI_HV</td>\n",
       "      <td>201</td>\n",
       "    </tr>\n",
       "    <tr>\n",
       "      <th>16</th>\n",
       "      <td>XI_LT</td>\n",
       "      <td>201</td>\n",
       "    </tr>\n",
       "    <tr>\n",
       "      <th>17</th>\n",
       "      <td>XI_MD</td>\n",
       "      <td>201</td>\n",
       "    </tr>\n",
       "  </tbody>\n",
       "</table>\n",
       "</div>"
      ],
      "text/plain": [
       "   TRIPPURP  COUNT\n",
       "0     HBOth    201\n",
       "1   HBSchPr    201\n",
       "2   HBSchSc    201\n",
       "3     HBShp    201\n",
       "4       HBW    201\n",
       "5        HV    201\n",
       "6        IX    201\n",
       "7     IX_HV    201\n",
       "8     IX_LT    201\n",
       "9     IX_MD    201\n",
       "10       LT    201\n",
       "11       MD    201\n",
       "12    NHBNW    201\n",
       "13     NHBW    201\n",
       "14       XI    201\n",
       "15    XI_HV    201\n",
       "16    XI_LT    201\n",
       "17    XI_MD    201"
      ]
     },
     "execution_count": 21,
     "metadata": {},
     "output_type": "execute_result"
    }
   ],
   "source": [
    "dfNextRoundFF.groupby(['TRIPPURP'],as_index=False).agg(COUNT=('BIN','count'))"
   ]
  },
  {
   "cell_type": "code",
   "execution_count": null,
   "metadata": {},
   "outputs": [
    {
     "data": {
      "text/html": [
       "<div>\n",
       "<style scoped>\n",
       "    .dataframe tbody tr th:only-of-type {\n",
       "        vertical-align: middle;\n",
       "    }\n",
       "\n",
       "    .dataframe tbody tr th {\n",
       "        vertical-align: top;\n",
       "    }\n",
       "\n",
       "    .dataframe thead th {\n",
       "        text-align: right;\n",
       "    }\n",
       "</style>\n",
       "<table border=\"1\" class=\"dataframe\">\n",
       "  <thead>\n",
       "    <tr style=\"text-align: right;\">\n",
       "      <th></th>\n",
       "      <th>TRIPPURP</th>\n",
       "      <th>MAXBIN_Mod</th>\n",
       "      <th>MAXBIN_Obs</th>\n",
       "    </tr>\n",
       "  </thead>\n",
       "  <tbody>\n",
       "    <tr>\n",
       "      <th>0</th>\n",
       "      <td>HBOth</td>\n",
       "      <td>244.0</td>\n",
       "      <td>248.0</td>\n",
       "    </tr>\n",
       "    <tr>\n",
       "      <th>1</th>\n",
       "      <td>HBSchPr</td>\n",
       "      <td>48.0</td>\n",
       "      <td>52.0</td>\n",
       "    </tr>\n",
       "    <tr>\n",
       "      <th>2</th>\n",
       "      <td>HBSchSc</td>\n",
       "      <td>68.0</td>\n",
       "      <td>110.0</td>\n",
       "    </tr>\n",
       "    <tr>\n",
       "      <th>3</th>\n",
       "      <td>HBShp</td>\n",
       "      <td>174.0</td>\n",
       "      <td>174.0</td>\n",
       "    </tr>\n",
       "    <tr>\n",
       "      <th>4</th>\n",
       "      <td>HBW</td>\n",
       "      <td>224.0</td>\n",
       "      <td>252.0</td>\n",
       "    </tr>\n",
       "    <tr>\n",
       "      <th>5</th>\n",
       "      <td>HV</td>\n",
       "      <td>176.0</td>\n",
       "      <td>358.0</td>\n",
       "    </tr>\n",
       "    <tr>\n",
       "      <th>6</th>\n",
       "      <td>IX</td>\n",
       "      <td>302.0</td>\n",
       "      <td>336.0</td>\n",
       "    </tr>\n",
       "    <tr>\n",
       "      <th>7</th>\n",
       "      <td>IX_HV</td>\n",
       "      <td>302.0</td>\n",
       "      <td>400.0</td>\n",
       "    </tr>\n",
       "    <tr>\n",
       "      <th>8</th>\n",
       "      <td>IX_MD</td>\n",
       "      <td>302.0</td>\n",
       "      <td>396.0</td>\n",
       "    </tr>\n",
       "    <tr>\n",
       "      <th>9</th>\n",
       "      <td>MD</td>\n",
       "      <td>138.0</td>\n",
       "      <td>282.0</td>\n",
       "    </tr>\n",
       "    <tr>\n",
       "      <th>10</th>\n",
       "      <td>NHBNW</td>\n",
       "      <td>190.0</td>\n",
       "      <td>194.0</td>\n",
       "    </tr>\n",
       "    <tr>\n",
       "      <th>11</th>\n",
       "      <td>NHBW</td>\n",
       "      <td>228.0</td>\n",
       "      <td>232.0</td>\n",
       "    </tr>\n",
       "    <tr>\n",
       "      <th>12</th>\n",
       "      <td>XI</td>\n",
       "      <td>368.0</td>\n",
       "      <td>372.0</td>\n",
       "    </tr>\n",
       "    <tr>\n",
       "      <th>13</th>\n",
       "      <td>XI_HV</td>\n",
       "      <td>368.0</td>\n",
       "      <td>394.0</td>\n",
       "    </tr>\n",
       "    <tr>\n",
       "      <th>14</th>\n",
       "      <td>XI_MD</td>\n",
       "      <td>368.0</td>\n",
       "      <td>374.0</td>\n",
       "    </tr>\n",
       "  </tbody>\n",
       "</table>\n",
       "</div>"
      ],
      "text/plain": [
       "   TRIPPURP  MAXBIN_Mod  MAXBIN_Obs\n",
       "0     HBOth       244.0       248.0\n",
       "1   HBSchPr        48.0        52.0\n",
       "2   HBSchSc        68.0       110.0\n",
       "3     HBShp       174.0       174.0\n",
       "4       HBW       224.0       252.0\n",
       "5        HV       176.0       358.0\n",
       "6        IX       302.0       336.0\n",
       "7     IX_HV       302.0       400.0\n",
       "8     IX_MD       302.0       396.0\n",
       "9        MD       138.0       282.0\n",
       "10    NHBNW       190.0       194.0\n",
       "11     NHBW       228.0       232.0\n",
       "12       XI       368.0       372.0\n",
       "13    XI_HV       368.0       394.0\n",
       "14    XI_MD       368.0       374.0"
      ]
     },
     "execution_count": 117,
     "metadata": {},
     "output_type": "execute_result"
    }
   ],
   "source": [
    "#Check if Tail Zero Point same as observed\n",
    "\n",
    "dfTLF_Obs_nonzerobins = dfTLF_Obs[dfTLF_Obs['FREQ']>0]\n",
    "dfTLF_Obs_MaxBin = dfTLF_Obs_nonzerobins.groupby(['TRIPPURP'],as_index=False).agg(MAXBIN_Obs=('BIN','max'))\n",
    "#dfTLF_Obs_MaxBin\n",
    "\n",
    "dfTLF_Mod_nonzerobins = dfNextRoundFF[dfNextRoundFF['FF']>0]\n",
    "dfTLF_Mod_MaxBin = dfTLF_Mod_nonzerobins.groupby(['TRIPPURP'],as_index=False).agg(MAXBIN_Mod=('BIN','max'))\n",
    "#dfTLF_Mod_MaxBin\n",
    "\n",
    "dfCompareMaxBins = pd.DataFrame.merge(dfTLF_Mod_MaxBin,dfTLF_Obs_MaxBin,on='TRIPPURP')\n",
    "dfCompareMaxBins"
   ]
  },
  {
   "cell_type": "code",
   "execution_count": null,
   "metadata": {},
   "outputs": [
    {
     "data": {
      "text/plain": [
       "'a:\\\\1 - TDM\\\\3 - Model Dev\\\\1 - WF\\\\2 - Sandbox\\\\v9.0Beta\\\\0 - CalibValid\\\\3 - Distribution\\\\_Friction_Factors\\\\4\\\\factors for next round\\\\FricFactor_AllPurp.csv'"
      ]
     },
     "metadata": {},
     "output_type": "display_data"
    },
    {
     "data": {
      "text/html": [
       "<div>\n",
       "<style scoped>\n",
       "    .dataframe tbody tr th:only-of-type {\n",
       "        vertical-align: middle;\n",
       "    }\n",
       "\n",
       "    .dataframe tbody tr th {\n",
       "        vertical-align: top;\n",
       "    }\n",
       "\n",
       "    .dataframe thead th {\n",
       "        text-align: right;\n",
       "    }\n",
       "</style>\n",
       "<table border=\"1\" class=\"dataframe\">\n",
       "  <thead>\n",
       "    <tr style=\"text-align: right;\">\n",
       "      <th>TRIPPURP</th>\n",
       "      <th>;BIN</th>\n",
       "      <th>HBW</th>\n",
       "      <th>HBShp</th>\n",
       "      <th>HBOth</th>\n",
       "      <th>HBSchPr</th>\n",
       "      <th>HBSchSc</th>\n",
       "      <th>NHBW</th>\n",
       "      <th>NHBNW</th>\n",
       "      <th>LT</th>\n",
       "      <th>MD</th>\n",
       "      <th>HV</th>\n",
       "      <th>IX</th>\n",
       "      <th>IX_LT</th>\n",
       "      <th>IX_MD</th>\n",
       "      <th>IX_HV</th>\n",
       "      <th>XI</th>\n",
       "      <th>XI_LT</th>\n",
       "      <th>XI_MD</th>\n",
       "      <th>XI_HV</th>\n",
       "    </tr>\n",
       "  </thead>\n",
       "  <tbody>\n",
       "    <tr>\n",
       "      <th>0</th>\n",
       "      <td>0.0</td>\n",
       "      <td>1.0000000</td>\n",
       "      <td>1.0000</td>\n",
       "      <td>1.0000000</td>\n",
       "      <td>1.0000000</td>\n",
       "      <td>1.0000000</td>\n",
       "      <td>1.000</td>\n",
       "      <td>1.0000000</td>\n",
       "      <td>1.0000000</td>\n",
       "      <td>1.0000000</td>\n",
       "      <td>1.0000000</td>\n",
       "      <td>1.0000</td>\n",
       "      <td>1.0000000</td>\n",
       "      <td>1.0000</td>\n",
       "      <td>1.0000</td>\n",
       "      <td>1.0000000</td>\n",
       "      <td>1.0000000</td>\n",
       "      <td>1.0000000</td>\n",
       "      <td>1.0000000</td>\n",
       "    </tr>\n",
       "    <tr>\n",
       "      <th>1</th>\n",
       "      <td>2.0</td>\n",
       "      <td>0.9993574</td>\n",
       "      <td>0.9950</td>\n",
       "      <td>0.9800000</td>\n",
       "      <td>0.8800000</td>\n",
       "      <td>0.9192479</td>\n",
       "      <td>0.965</td>\n",
       "      <td>0.9998000</td>\n",
       "      <td>0.9824000</td>\n",
       "      <td>0.9998000</td>\n",
       "      <td>0.9999800</td>\n",
       "      <td>0.9998</td>\n",
       "      <td>0.9882012</td>\n",
       "      <td>0.9998</td>\n",
       "      <td>0.9998</td>\n",
       "      <td>0.9980000</td>\n",
       "      <td>0.9876012</td>\n",
       "      <td>0.9980000</td>\n",
       "      <td>0.9980000</td>\n",
       "    </tr>\n",
       "    <tr>\n",
       "      <th>2</th>\n",
       "      <td>4.0</td>\n",
       "      <td>0.9400000</td>\n",
       "      <td>0.7825</td>\n",
       "      <td>0.7073357</td>\n",
       "      <td>0.7300000</td>\n",
       "      <td>0.3193954</td>\n",
       "      <td>0.850</td>\n",
       "      <td>0.7350206</td>\n",
       "      <td>0.7925103</td>\n",
       "      <td>0.5000000</td>\n",
       "      <td>0.7000000</td>\n",
       "      <td>0.9950</td>\n",
       "      <td>0.8599944</td>\n",
       "      <td>0.9950</td>\n",
       "      <td>0.9950</td>\n",
       "      <td>0.9600000</td>\n",
       "      <td>0.8483289</td>\n",
       "      <td>0.9600000</td>\n",
       "      <td>0.9600000</td>\n",
       "    </tr>\n",
       "    <tr>\n",
       "      <th>3</th>\n",
       "      <td>6.0</td>\n",
       "      <td>0.3150463</td>\n",
       "      <td>0.5700</td>\n",
       "      <td>0.2177937</td>\n",
       "      <td>0.3954032</td>\n",
       "      <td>0.0385103</td>\n",
       "      <td>0.480</td>\n",
       "      <td>0.3597447</td>\n",
       "      <td>0.4198724</td>\n",
       "      <td>0.2224585</td>\n",
       "      <td>0.3959104</td>\n",
       "      <td>0.9800</td>\n",
       "      <td>0.6065569</td>\n",
       "      <td>0.9800</td>\n",
       "      <td>0.9800</td>\n",
       "      <td>0.6726559</td>\n",
       "      <td>0.5041191</td>\n",
       "      <td>0.6726559</td>\n",
       "      <td>0.6726559</td>\n",
       "    </tr>\n",
       "    <tr>\n",
       "      <th>4</th>\n",
       "      <td>8.0</td>\n",
       "      <td>0.1605079</td>\n",
       "      <td>0.3150</td>\n",
       "      <td>0.0882716</td>\n",
       "      <td>0.0645669</td>\n",
       "      <td>0.0095252</td>\n",
       "      <td>0.325</td>\n",
       "      <td>0.1847228</td>\n",
       "      <td>0.2548614</td>\n",
       "      <td>0.0833938</td>\n",
       "      <td>0.1630000</td>\n",
       "      <td>0.9500</td>\n",
       "      <td>0.4865441</td>\n",
       "      <td>0.9500</td>\n",
       "      <td>0.9500</td>\n",
       "      <td>0.2111803</td>\n",
       "      <td>0.2402955</td>\n",
       "      <td>0.2111803</td>\n",
       "      <td>0.2111803</td>\n",
       "    </tr>\n",
       "    <tr>\n",
       "      <th>...</th>\n",
       "      <td>...</td>\n",
       "      <td>...</td>\n",
       "      <td>...</td>\n",
       "      <td>...</td>\n",
       "      <td>...</td>\n",
       "      <td>...</td>\n",
       "      <td>...</td>\n",
       "      <td>...</td>\n",
       "      <td>...</td>\n",
       "      <td>...</td>\n",
       "      <td>...</td>\n",
       "      <td>...</td>\n",
       "      <td>...</td>\n",
       "      <td>...</td>\n",
       "      <td>...</td>\n",
       "      <td>...</td>\n",
       "      <td>...</td>\n",
       "      <td>...</td>\n",
       "      <td>...</td>\n",
       "    </tr>\n",
       "    <tr>\n",
       "      <th>196</th>\n",
       "      <td>392.0</td>\n",
       "      <td>0.0000000</td>\n",
       "      <td>0.0000</td>\n",
       "      <td>0.0000000</td>\n",
       "      <td>0.0000000</td>\n",
       "      <td>0.0000000</td>\n",
       "      <td>0.000</td>\n",
       "      <td>0.0000000</td>\n",
       "      <td>0.0000000</td>\n",
       "      <td>0.0000000</td>\n",
       "      <td>0.0000000</td>\n",
       "      <td>0.0000</td>\n",
       "      <td>0.0000000</td>\n",
       "      <td>0.0000</td>\n",
       "      <td>0.0000</td>\n",
       "      <td>0.0000000</td>\n",
       "      <td>0.0000000</td>\n",
       "      <td>0.0000000</td>\n",
       "      <td>0.0000000</td>\n",
       "    </tr>\n",
       "    <tr>\n",
       "      <th>197</th>\n",
       "      <td>394.0</td>\n",
       "      <td>0.0000000</td>\n",
       "      <td>0.0000</td>\n",
       "      <td>0.0000000</td>\n",
       "      <td>0.0000000</td>\n",
       "      <td>0.0000000</td>\n",
       "      <td>0.000</td>\n",
       "      <td>0.0000000</td>\n",
       "      <td>0.0000000</td>\n",
       "      <td>0.0000000</td>\n",
       "      <td>0.0000000</td>\n",
       "      <td>0.0000</td>\n",
       "      <td>0.0000000</td>\n",
       "      <td>0.0000</td>\n",
       "      <td>0.0000</td>\n",
       "      <td>0.0000000</td>\n",
       "      <td>0.0000000</td>\n",
       "      <td>0.0000000</td>\n",
       "      <td>0.0000000</td>\n",
       "    </tr>\n",
       "    <tr>\n",
       "      <th>198</th>\n",
       "      <td>396.0</td>\n",
       "      <td>0.0000000</td>\n",
       "      <td>0.0000</td>\n",
       "      <td>0.0000000</td>\n",
       "      <td>0.0000000</td>\n",
       "      <td>0.0000000</td>\n",
       "      <td>0.000</td>\n",
       "      <td>0.0000000</td>\n",
       "      <td>0.0000000</td>\n",
       "      <td>0.0000000</td>\n",
       "      <td>0.0000000</td>\n",
       "      <td>0.0000</td>\n",
       "      <td>0.0000000</td>\n",
       "      <td>0.0000</td>\n",
       "      <td>0.0000</td>\n",
       "      <td>0.0000000</td>\n",
       "      <td>0.0000000</td>\n",
       "      <td>0.0000000</td>\n",
       "      <td>0.0000000</td>\n",
       "    </tr>\n",
       "    <tr>\n",
       "      <th>199</th>\n",
       "      <td>398.0</td>\n",
       "      <td>0.0000000</td>\n",
       "      <td>0.0000</td>\n",
       "      <td>0.0000000</td>\n",
       "      <td>0.0000000</td>\n",
       "      <td>0.0000000</td>\n",
       "      <td>0.000</td>\n",
       "      <td>0.0000000</td>\n",
       "      <td>0.0000000</td>\n",
       "      <td>0.0000000</td>\n",
       "      <td>0.0000000</td>\n",
       "      <td>0.0000</td>\n",
       "      <td>0.0000000</td>\n",
       "      <td>0.0000</td>\n",
       "      <td>0.0000</td>\n",
       "      <td>0.0000000</td>\n",
       "      <td>0.0000000</td>\n",
       "      <td>0.0000000</td>\n",
       "      <td>0.0000000</td>\n",
       "    </tr>\n",
       "    <tr>\n",
       "      <th>200</th>\n",
       "      <td>400.0</td>\n",
       "      <td>0.0000000</td>\n",
       "      <td>0.0000</td>\n",
       "      <td>0.0000000</td>\n",
       "      <td>0.0000000</td>\n",
       "      <td>0.0000000</td>\n",
       "      <td>0.000</td>\n",
       "      <td>0.0000000</td>\n",
       "      <td>0.0000000</td>\n",
       "      <td>0.0000000</td>\n",
       "      <td>0.0000000</td>\n",
       "      <td>0.0000</td>\n",
       "      <td>0.0000000</td>\n",
       "      <td>0.0000</td>\n",
       "      <td>0.0000</td>\n",
       "      <td>0.0000000</td>\n",
       "      <td>0.0000000</td>\n",
       "      <td>0.0000000</td>\n",
       "      <td>0.0000000</td>\n",
       "    </tr>\n",
       "  </tbody>\n",
       "</table>\n",
       "<p>201 rows × 19 columns</p>\n",
       "</div>"
      ],
      "text/plain": [
       "TRIPPURP   ;BIN        HBW   HBShp      HBOth    HBSchPr    HBSchSc   NHBW  \\\n",
       "0           0.0  1.0000000  1.0000  1.0000000  1.0000000  1.0000000  1.000   \n",
       "1           2.0  0.9993574  0.9950  0.9800000  0.8800000  0.9192479  0.965   \n",
       "2           4.0  0.9400000  0.7825  0.7073357  0.7300000  0.3193954  0.850   \n",
       "3           6.0  0.3150463  0.5700  0.2177937  0.3954032  0.0385103  0.480   \n",
       "4           8.0  0.1605079  0.3150  0.0882716  0.0645669  0.0095252  0.325   \n",
       "..          ...        ...     ...        ...        ...        ...    ...   \n",
       "196       392.0  0.0000000  0.0000  0.0000000  0.0000000  0.0000000  0.000   \n",
       "197       394.0  0.0000000  0.0000  0.0000000  0.0000000  0.0000000  0.000   \n",
       "198       396.0  0.0000000  0.0000  0.0000000  0.0000000  0.0000000  0.000   \n",
       "199       398.0  0.0000000  0.0000  0.0000000  0.0000000  0.0000000  0.000   \n",
       "200       400.0  0.0000000  0.0000  0.0000000  0.0000000  0.0000000  0.000   \n",
       "\n",
       "TRIPPURP      NHBNW         LT         MD         HV      IX      IX_LT  \\\n",
       "0         1.0000000  1.0000000  1.0000000  1.0000000  1.0000  1.0000000   \n",
       "1         0.9998000  0.9824000  0.9998000  0.9999800  0.9998  0.9882012   \n",
       "2         0.7350206  0.7925103  0.5000000  0.7000000  0.9950  0.8599944   \n",
       "3         0.3597447  0.4198724  0.2224585  0.3959104  0.9800  0.6065569   \n",
       "4         0.1847228  0.2548614  0.0833938  0.1630000  0.9500  0.4865441   \n",
       "..              ...        ...        ...        ...     ...        ...   \n",
       "196       0.0000000  0.0000000  0.0000000  0.0000000  0.0000  0.0000000   \n",
       "197       0.0000000  0.0000000  0.0000000  0.0000000  0.0000  0.0000000   \n",
       "198       0.0000000  0.0000000  0.0000000  0.0000000  0.0000  0.0000000   \n",
       "199       0.0000000  0.0000000  0.0000000  0.0000000  0.0000  0.0000000   \n",
       "200       0.0000000  0.0000000  0.0000000  0.0000000  0.0000  0.0000000   \n",
       "\n",
       "TRIPPURP   IX_MD   IX_HV         XI      XI_LT      XI_MD      XI_HV  \n",
       "0         1.0000  1.0000  1.0000000  1.0000000  1.0000000  1.0000000  \n",
       "1         0.9998  0.9998  0.9980000  0.9876012  0.9980000  0.9980000  \n",
       "2         0.9950  0.9950  0.9600000  0.8483289  0.9600000  0.9600000  \n",
       "3         0.9800  0.9800  0.6726559  0.5041191  0.6726559  0.6726559  \n",
       "4         0.9500  0.9500  0.2111803  0.2402955  0.2111803  0.2111803  \n",
       "..           ...     ...        ...        ...        ...        ...  \n",
       "196       0.0000  0.0000  0.0000000  0.0000000  0.0000000  0.0000000  \n",
       "197       0.0000  0.0000  0.0000000  0.0000000  0.0000000  0.0000000  \n",
       "198       0.0000  0.0000  0.0000000  0.0000000  0.0000000  0.0000000  \n",
       "199       0.0000  0.0000  0.0000000  0.0000000  0.0000000  0.0000000  \n",
       "200       0.0000  0.0000  0.0000000  0.0000000  0.0000000  0.0000000  \n",
       "\n",
       "[201 rows x 19 columns]"
      ]
     },
     "metadata": {},
     "output_type": "display_data"
    }
   ],
   "source": [
    "# EXPORT CSV\n",
    "\n",
    "dfNextRoundFF_Pivot = dfNextRoundFF.pivot(index=('BIN'), columns=('TRIPPURP'), values=('FF'))\n",
    "dfNextRoundFF_Pivot.reset_index(inplace=True)\n",
    "dfNextRoundFF_Pivot.rename(columns={'BIN':';BIN'},inplace=True)\n",
    "\n",
    "colOrder = [';BIN','HBW','HBShp','HBOth','HBSchPr','HBSchSc','NHBW','NHBNW','LT','MD','HV','IX','IX_LT','IX_MD','IX_HV','XI','XI_LT','XI_MD','XI_HV']\n",
    "dfNextRoundFF_Pivot = dfNextRoundFF_Pivot[colOrder]\n",
    "dfNextRoundFF_Pivot.fillna(0,inplace=True)\n",
    "\n",
    "path = os.path.join(dirIntermediate, str(lastRun) + '\\\\factors for next round\\\\FricFactor_AllPurp.csv')\n",
    "dfNextRoundFF_Pivot.to_csv(path, index=False, float_format=\"%.7f\")\n",
    "\n",
    "display(path)\n",
    "display(dfNextRoundFF_Pivot)"
   ]
  },
  {
   "cell_type": "code",
   "execution_count": null,
   "metadata": {},
   "outputs": [
    {
     "data": {
      "application/vnd.jupyter.widget-view+json": {
       "model_id": "6a6af8032b9641a9a343a4fa6154c4f3",
       "version_major": 2,
       "version_minor": 0
      },
      "text/plain": [
       "Output()"
      ]
     },
     "metadata": {},
     "output_type": "display_data"
    },
    {
     "data": {
      "application/vnd.jupyter.widget-view+json": {
       "model_id": "9b31f754dd5d4f2ba3864c74d2ef8325",
       "version_major": 2,
       "version_minor": 0
      },
      "text/plain": [
       "HBox(children=(FloatSlider(value=0.0, description='Slope', max=5.0, min=-5.0, step=0.5), FloatSlider(value=0.0…"
      ]
     },
     "metadata": {},
     "output_type": "display_data"
    }
   ],
   "source": [
    "import matplotlib.pyplot as plt\n",
    "import numpy as np\n",
    "\n",
    "m = widgets.FloatSlider(min=-5,max=5,step=0.5, description=\"Slope\")\n",
    "c = widgets.FloatSlider(min=-5,max=5,step=0.5, description=\"Intercept\")\n",
    "\n",
    "# An HBox lays out its children horizontally\n",
    "ui = widgets.HBox([m, c])\n",
    "\n",
    "def plot(m, c):\n",
    "    x = np.random.rand(10)\n",
    "    y = m *x + c\n",
    "    plt.plot(x,y)\n",
    "    plt.show()\n",
    "\n",
    "out = widgets.interactive_output(plot, {'m': m, 'c': c})\n",
    "\n",
    "display(out, ui)"
   ]
  },
  {
   "cell_type": "code",
   "execution_count": null,
   "metadata": {},
   "outputs": [],
   "source": []
  },
  {
   "cell_type": "code",
   "execution_count": null,
   "metadata": {},
   "outputs": [
    {
     "data": {
      "image/png": "[encoded data removed]",
      "text/plain": [
       "<Figure size 432x288 with 1 Axes>"
      ]
     },
     "metadata": {
      "needs_background": "light"
     },
     "output_type": "display_data"
    }
   ],
   "source": [
    "import numpy as np\n",
    "import matplotlib.pyplot as plt\n",
    "from scipy.interpolate import UnivariateSpline\n",
    "\n",
    "x = np.linspace(-3, 3, 50)\n",
    "y = np.exp(-x**2) + 0.1 * np.random.randn(50)\n",
    "\n",
    "spl1 = UnivariateSpline(x, y, s=.5)\n",
    "xi = np.linspace(-3, 3, 1000)\n",
    "\n",
    "tck = spl1._eval_args\n",
    "spl2 = UnivariateSpline._from_tck(tck)\n",
    "\n",
    "plt.plot(x, y, 'ro', ms=5, label='data')\n",
    "plt.plot(xi, spl1(xi), 'b', label='original spline')\n",
    "plt.plot(xi, spl2(xi), 'y:', lw=4, label='recovered spline')\n",
    "\n",
    "plt.legend()\n",
    "plt.show()"
   ]
  }
 ],
 "metadata": {
  "kernelspec": {
   "display_name": "base",
   "language": "python",
   "name": "python3"
  },
  "language_info": {
   "codemirror_mode": {
    "name": "ipython",
    "version": 3
   },
   "file_extension": ".py",
   "mimetype": "text/x-python",
   "name": "python",
   "nbconvert_exporter": "python",
   "pygments_lexer": "ipython3",
   "version": "3.9.13"
  },
  "vscode": {
   "interpreter": {
    "hash": "4bb4605dfc804e0302ccd2292d0e6a4e9288eed266a860dfac34a70f30ea53a4"
   }
  }
 },
 "nbformat": 4,
 "nbformat_minor": 4
}
