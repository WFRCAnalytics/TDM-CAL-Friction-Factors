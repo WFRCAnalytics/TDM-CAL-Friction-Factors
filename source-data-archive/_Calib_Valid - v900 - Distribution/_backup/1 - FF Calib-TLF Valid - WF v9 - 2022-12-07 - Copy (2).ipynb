{
 "cells": [
  {
   "cell_type": "code",
   "execution_count": 10,
   "metadata": {},
   "outputs": [
    {
     "data": {
      "text/html": [
       "        <script type=\"text/javascript\">\n",
       "        window.PlotlyConfig = {MathJaxConfig: 'local'};\n",
       "        if (window.MathJax && window.MathJax.Hub && window.MathJax.Hub.Config) {window.MathJax.Hub.Config({SVG: {font: \"STIX-Web\"}});}\n",
       "        if (typeof require !== 'undefined') {\n",
       "        require.undef(\"plotly\");\n",
       "        requirejs.config({\n",
       "            paths: {\n",
       "                'plotly': ['https://cdn.plot.ly/plotly-2.12.1.min']\n",
       "            }\n",
       "        });\n",
       "        require(['plotly'], function(Plotly) {\n",
       "            window._Plotly = Plotly;\n",
       "        });\n",
       "        }\n",
       "        </script>\n",
       "        "
      ]
     },
     "metadata": {},
     "output_type": "display_data"
    },
    {
     "data": {
      "text/html": [
       "<div>\n",
       "<style scoped>\n",
       "    .dataframe tbody tr th:only-of-type {\n",
       "        vertical-align: middle;\n",
       "    }\n",
       "\n",
       "    .dataframe tbody tr th {\n",
       "        vertical-align: top;\n",
       "    }\n",
       "\n",
       "    .dataframe thead th {\n",
       "        text-align: right;\n",
       "    }\n",
       "</style>\n",
       "<table border=\"1\" class=\"dataframe\">\n",
       "  <thead>\n",
       "    <tr style=\"text-align: right;\">\n",
       "      <th></th>\n",
       "      <th>FF_CALIB_ROUND</th>\n",
       "      <th>TDM_TLF_FOLDER</th>\n",
       "      <th>FILENAMEFF</th>\n",
       "      <th>LOCKFF</th>\n",
       "      <th>LOCKTLF</th>\n",
       "    </tr>\n",
       "  </thead>\n",
       "  <tbody>\n",
       "    <tr>\n",
       "      <th>0</th>\n",
       "      <td>0-Initial from v832</td>\n",
       "      <td>_r0</td>\n",
       "      <td>A:\\1 - TDM\\3 - Model Dev\\1 - WF\\2 - Sandbox\\v9...</td>\n",
       "      <td>True</td>\n",
       "      <td>True</td>\n",
       "    </tr>\n",
       "    <tr>\n",
       "      <th>1</th>\n",
       "      <td>1-First</td>\n",
       "      <td>_r1</td>\n",
       "      <td>A:\\1 - TDM\\3 - Model Dev\\1 - WF\\2 - Sandbox\\v9...</td>\n",
       "      <td>True</td>\n",
       "      <td>True</td>\n",
       "    </tr>\n",
       "    <tr>\n",
       "      <th>2</th>\n",
       "      <td>2-no IXXI MH-HV changes</td>\n",
       "      <td>_r2</td>\n",
       "      <td>A:\\1 - TDM\\3 - Model Dev\\1 - WF\\2 - Sandbox\\v9...</td>\n",
       "      <td>True</td>\n",
       "      <td>True</td>\n",
       "    </tr>\n",
       "    <tr>\n",
       "      <th>3</th>\n",
       "      <td>3-Third Time</td>\n",
       "      <td>_r3</td>\n",
       "      <td>A:\\1 - TDM\\3 - Model Dev\\1 - WF\\2 - Sandbox\\v9...</td>\n",
       "      <td>True</td>\n",
       "      <td>True</td>\n",
       "    </tr>\n",
       "    <tr>\n",
       "      <th>4</th>\n",
       "      <td>4-Charm Time?</td>\n",
       "      <td>_r4</td>\n",
       "      <td>A:\\1 - TDM\\3 - Model Dev\\1 - WF\\2 - Sandbox\\v9...</td>\n",
       "      <td>True</td>\n",
       "      <td>True</td>\n",
       "    </tr>\n",
       "    <tr>\n",
       "      <th>5</th>\n",
       "      <td>5-Final Fifth?</td>\n",
       "      <td>_r5</td>\n",
       "      <td>A:\\1 - TDM\\3 - Model Dev\\1 - WF\\2 - Sandbox\\v9...</td>\n",
       "      <td>True</td>\n",
       "      <td>True</td>\n",
       "    </tr>\n",
       "    <tr>\n",
       "      <th>6</th>\n",
       "      <td>6-Just IX-XI_HV</td>\n",
       "      <td>_r6</td>\n",
       "      <td>A:\\1 - TDM\\3 - Model Dev\\1 - WF\\2 - Sandbox\\v9...</td>\n",
       "      <td>False</td>\n",
       "      <td>False</td>\n",
       "    </tr>\n",
       "  </tbody>\n",
       "</table>\n",
       "</div>"
      ],
      "text/plain": [
       "            FF_CALIB_ROUND TDM_TLF_FOLDER  \\\n",
       "0      0-Initial from v832            _r0   \n",
       "1                  1-First            _r1   \n",
       "2  2-no IXXI MH-HV changes            _r2   \n",
       "3             3-Third Time            _r3   \n",
       "4            4-Charm Time?            _r4   \n",
       "5           5-Final Fifth?            _r5   \n",
       "6          6-Just IX-XI_HV            _r6   \n",
       "\n",
       "                                          FILENAMEFF  LOCKFF  LOCKTLF  \n",
       "0  A:\\1 - TDM\\3 - Model Dev\\1 - WF\\2 - Sandbox\\v9...    True     True  \n",
       "1  A:\\1 - TDM\\3 - Model Dev\\1 - WF\\2 - Sandbox\\v9...    True     True  \n",
       "2  A:\\1 - TDM\\3 - Model Dev\\1 - WF\\2 - Sandbox\\v9...    True     True  \n",
       "3  A:\\1 - TDM\\3 - Model Dev\\1 - WF\\2 - Sandbox\\v9...    True     True  \n",
       "4  A:\\1 - TDM\\3 - Model Dev\\1 - WF\\2 - Sandbox\\v9...    True     True  \n",
       "5  A:\\1 - TDM\\3 - Model Dev\\1 - WF\\2 - Sandbox\\v9...    True     True  \n",
       "6  A:\\1 - TDM\\3 - Model Dev\\1 - WF\\2 - Sandbox\\v9...   False    False  "
      ]
     },
     "metadata": {},
     "output_type": "display_data"
    }
   ],
   "source": [
    "# NOTEBOOK IS MEANT TO BE RUN ENTIRE WAY THROUGH AFTER EACH ITERATION\n",
    "# AUTOLOCKING OF DATA HELPS TO PRESERVE MODEL OUTPUT THAT MAY HAVE BEEN OVERWRITTEN ON EACH MODEL RUN\n",
    "# INDIVIDUAL PURPOSES CAN BE LOCKED AT ANY ROUND AND THEY WILL DROP OUT OF ADJUSTMENT AND SMOOTHING\n",
    "\n",
    "# debug toggle to turn on display of dataframes in cell outputs\n",
    "debug = False\n",
    "\n",
    "import pandas as pd  \n",
    "import os\n",
    "import plotly as py\n",
    "import plotly.graph_objects as go\n",
    "import plotly.express as px\n",
    "import ipywidgets as widgets\n",
    "import numpy as np\n",
    "from scipy import special\n",
    "import time\n",
    "\n",
    "# offline mode for charts, so it stays local\n",
    "py.offline.init_notebook_mode(connected=True)\n",
    "\n",
    "# set rounding precision and display precision - display is rounding + 1, so you can see that it's working\n",
    "round_precision = 7\n",
    "pd.set_option(\"display.precision\", round_precision + 1)\n",
    "\n",
    "# read in curve data'\n",
    "dirCWD    = os.getcwd()\n",
    "dirIntermediate = os.path.join(dirCWD,'_Friction_Factors')\n",
    "dirResults = os.path.join(dirCWD,'_Friction_Factors')\n",
    "\n",
    "binsize = 2\n",
    "\n",
    "observedStage = 'v9 Final Smoothing'\n",
    "\n",
    "filenameTLFObs = r'A:\\1 - TDM\\2 - Estimate Param\\_General Parameters\\7 - Update Obs TLF\\3 - Create Obs TLFs for all Trips\\results\\dfTLF_Obs_wSmoothed_20221130-133903.csv'\n",
    "folderTDMTLFLoc = r'A:\\1 - TDM\\3 - Model Dev\\1 - WF\\2 - Sandbox\\v9.0Beta\\WF TDM v9.0 - 2022-11-01\\Scenarios\\BY_2019\\3_Distribute\\TLF'\n",
    "\n",
    "# some trip purposes are added together for information purposes\n",
    "dfTripPurpSubtotals = pd.DataFrame([\n",
    "    ['HBOth','HBO' ],\n",
    "    ['HBShp','HBO' ],\n",
    "    ['NHBW' ,'NHB' ],\n",
    "    ['NHBNW','NHB' ],\n",
    "    ['IX'   ,'IXXI'],\n",
    "    ['XI'   ,'IXXI']\n",
    "],columns=(['TRIPPURP','TRIPPURP_SUB']))\n",
    "if debug: display(dfTripPurpSubtotals)\n",
    "\n",
    "# calibration round settings\n",
    "dfCalibrationRounds = pd.DataFrame([\n",
    "    ['0-Initial from v832'    ,'_r0',r'A:\\1 - TDM\\3 - Model Dev\\1 - WF\\2 - Sandbox\\v9.0Beta\\WF TDM v9.0 - 2022-11-01\\1_Inputs\\0_GlobalData\\3_Distribute\\FricFactor_AllPurp.csv'],\n",
    "    ['1-First'                ,'_r1',r'A:\\1 - TDM\\3 - Model Dev\\1 - WF\\2 - Sandbox\\v9.0Beta\\WF TDM v9.0 - 2022-11-01\\1_Inputs\\0_GlobalData\\3_Distribute\\FricFactor_AllPurp.csv'],\n",
    "    ['2-no IXXI MH-HV changes','_r2',r'A:\\1 - TDM\\3 - Model Dev\\1 - WF\\2 - Sandbox\\v9.0Beta\\WF TDM v9.0 - 2022-11-01\\1_Inputs\\0_GlobalData\\3_Distribute\\FricFactor_AllPurp.csv'],\n",
    "    ['3-Third Time'           ,'_r3',r'A:\\1 - TDM\\3 - Model Dev\\1 - WF\\2 - Sandbox\\v9.0Beta\\WF TDM v9.0 - 2022-11-01\\1_Inputs\\0_GlobalData\\3_Distribute\\FricFactor_AllPurp.csv'],\n",
    "    ['4-Charm Time?'          ,'_r4',r'A:\\1 - TDM\\3 - Model Dev\\1 - WF\\2 - Sandbox\\v9.0Beta\\WF TDM v9.0 - 2022-11-01\\1_Inputs\\0_GlobalData\\3_Distribute\\FricFactor_AllPurp.csv'],\n",
    "    ['5-Final Fifth?'         ,'_r5',r'A:\\1 - TDM\\3 - Model Dev\\1 - WF\\2 - Sandbox\\v9.0Beta\\WF TDM v9.0 - 2022-11-01\\1_Inputs\\0_GlobalData\\3_Distribute\\FricFactor_AllPurp.csv'],\n",
    "    ['6-Just IX-XI_HV'        ,'_r6',r'A:\\1 - TDM\\3 - Model Dev\\1 - WF\\2 - Sandbox\\v9.0Beta\\WF TDM v9.0 - 2022-11-01\\1_Inputs\\0_GlobalData\\3_Distribute\\FricFactor_AllPurp.csv']\n",
    "],columns=(['FF_CALIB_ROUND','TDM_TLF_FOLDER','FILENAMEFF']))\n",
    "\n",
    "# create and initialize locking fields\n",
    "dfCalibrationRounds['LOCKFF' ] = False\n",
    "dfCalibrationRounds['LOCKTLF'] = False\n",
    "\n",
    "# AUTOLOCK ALL BUT LAST CALIBROUND TO AVOID OVERWRITING DATA IF NOT MANUALLY LOCKED\n",
    "dfCalibrationRounds.loc[(dfCalibrationRounds.index<dfCalibrationRounds.shape[0]-1), 'LOCKFF' ] = True\n",
    "dfCalibrationRounds.loc[(dfCalibrationRounds.index<dfCalibrationRounds.shape[0]-1), 'LOCKTLF'] = True\n",
    "\n",
    "display(dfCalibrationRounds)\n",
    "\n",
    "# add trip purposes here to lock friction factors\n",
    "dfTripPurpLocks = pd.DataFrame([\n",
    "    #example: ['HBW','0-Initial from v832'],\n",
    "    ['NHBW'   ,1],\n",
    "    ['NHBNW'  ,1],\n",
    "    ['HBShp'  ,3],\n",
    "    ['HBOth'  ,3],\n",
    "    ['HBW'    ,4],\n",
    "    ['HBSchPr',4],\n",
    "    ['HBSchSc',4],\n",
    "    ['IX'     ,4],\n",
    "    ['XI'     ,4],\n",
    "    ['NHBW'   ,4],\n",
    "    ['NHBNW'  ,4],\n",
    "#    ['MD'     ,4],\n",
    "    ['HV'     ,4],\n",
    "    ['IX_MD'  ,4],\n",
    "    ['XI_MD',  4]\n",
    "#    ['HBOth',1]\n",
    "#    ['IX_MD','0-Initial from v832'],\n",
    "#    ['IX_HV','0-Initial from v832'],\n",
    "#    ['XI'   ,'0-Initial from v832'],\n",
    "#    ['XI_MD','0-Initial from v832'],\n",
    "#    ['XI_HV','0-Initial from v832'],\n",
    "],\n",
    "columns=('TRIPPURP','LOCK_FF_CALIB_ROUND_INDEX'))\n",
    "if debug: display(dfTripPurpLocks)\n",
    "\n",
    "# a set of column renaming to be used to put all columns in consistent naming\n",
    "colRenames ={'HBOTH':'HBOth',\n",
    "             'HBSHP':'HBShp',\n",
    "             'HBSCHPR' :'HBSchPr',\n",
    "             'HBSCHSC' :'HBSchSc',\n",
    "             'HBSCH_PR':'HBSchPr',\n",
    "             'HBSCH_SC':'HBSchSc',\n",
    "             'HBSch_Pr':'HBSchPr',\n",
    "             'HBSch_Sc':'HBSchSc'}\n",
    "\n",
    "# max bin for normalizing adjusted FF (setting max=1)... in bins higher than this value, any value greater than 1.0 will be set to 1.0\n",
    "nrmlz_max_bin = 100\n",
    "\n",
    "# use entire width of browser for cells\n",
    "#from IPython.display import display, HTML\n",
    "#display(HTML(\"<style>.container { width:100% !important; }</style>\"))"
   ]
  },
  {
   "cell_type": "code",
   "execution_count": 11,
   "metadata": {},
   "outputs": [],
   "source": [
    "# create intermediate directories for each round\n",
    "for index, row in dfCalibrationRounds.iterrows():\n",
    "    path_ffcb = os.path.join(dirIntermediate,str(index))\n",
    "\n",
    "    # Check whether the specified path exists or not\n",
    "    isExist = os.path.exists(path_ffcb)\n",
    "    if not isExist:\n",
    "        os.makedirs(path_ffcb)\n",
    "        print(\"The new directory is created! \" + path_ffcb)\n",
    "\n",
    "    path_ms = os.path.join(path_ffcb,'manual_smoothing')\n",
    "\n",
    "    # Check whether the specified path exists or not\n",
    "    isExist = os.path.exists(path_ms)\n",
    "    if not isExist:\n",
    "        os.makedirs(path_ms)\n",
    "        print(\"The new directory is created! \" + path_ms)\n",
    "\n",
    "    path_fnr = os.path.join(path_ffcb,'factors for next round')\n",
    "    isExist = os.path.exists(path_fnr)\n",
    "    \n",
    "    #printing if the path exists or not\n",
    "    if not isExist:\n",
    "        os.makedirs(path_fnr)\n",
    "        print(\"The new directory is created! \" + path_fnr)\n"
   ]
  },
  {
   "cell_type": "markdown",
   "metadata": {},
   "source": [
    "# Observed Trip Length Frequencies"
   ]
  },
  {
   "cell_type": "code",
   "execution_count": 12,
   "metadata": {},
   "outputs": [],
   "source": [
    "# read in observed TLF data to be used\n",
    "dfTLF_Obs = pd.read_csv(filenameTLFObs)\n",
    "\n",
    "#filter by the STAGE for \n",
    "dfTLF_Obs = dfTLF_Obs[dfTLF_Obs['STAGE']==observedStage].copy()\n",
    "dfTLF_Obs = dfTLF_Obs.drop(columns=('STAGE'))\n",
    "if debug: display(dfTLF_Obs)"
   ]
  },
  {
   "cell_type": "code",
   "execution_count": 13,
   "metadata": {},
   "outputs": [],
   "source": [
    "# show max bin size for TLF type to use in updating TDM TLF code\n",
    "if debug: display(dfTLF_Obs[dfTLF_Obs['FREQ']>0].groupby(['TLFTYPE'],as_index=False).agg(MAXBIN=('BIN','max')))"
   ]
  },
  {
   "cell_type": "code",
   "execution_count": 14,
   "metadata": {},
   "outputs": [],
   "source": [
    "# Check TLF Observed. FREQ should all sum to 1! Also show average trip length\n",
    "dfTLF_Obs['BINxFREQ'] = dfTLF_Obs['BIN'] * dfTLF_Obs['FREQ']\n",
    "dfTLF_Obs_Stats = dfTLF_Obs.groupby(['TRIPPURP','TLFTYPE'],as_index=False).agg(FREQ_SUM=('FREQ','sum'),AVG_TRIP_LEN=('BINxFREQ','sum'))\n",
    "dfTLF_Obs.drop(columns=('BINxFREQ'), inplace=True)\n",
    "if debug: display(dfTLF_Obs_Stats)"
   ]
  },
  {
   "cell_type": "markdown",
   "metadata": {},
   "source": [
    "# Observed Plots"
   ]
  },
  {
   "cell_type": "code",
   "execution_count": 15,
   "metadata": {},
   "outputs": [],
   "source": [
    "#PLOTTING FUNCTION\n",
    "\n",
    "# chart preset zoom extents\n",
    "dfZoomPresets = pd.DataFrame([\n",
    "    ['Begin' ,     0,   100,     0,np.NaN],\n",
    "    ['Mid'   ,    30,   160,     0, 0.018],\n",
    "    ['Tail'  ,   100,   400,     0, 0.001],\n",
    "    ['All'   ,np.NaN,np.NaN,np.NaN,np.NaN],\n",
    "    ['Custom',np.NaN,np.NaN,np.NaN,np.NaN],\n",
    "], columns=('PRESET','XMIN','XMAX','YMIN','YMAX'))\n",
    "dfZoomPresets\n",
    "\n",
    "def update_plot_obs(trippurps, tlftypes, zoompreset, xmin, xmax, ymin, ymax):\n",
    "\n",
    "    dfAvgTripLen = pd.DataFrame()\n",
    "    \n",
    "    data = []\n",
    "    for trippurp in trippurps:\n",
    "        for tlftype in tlftypes:\n",
    "\n",
    "            # data for plotting from filtered dataframe\n",
    "            plotdata = dfTLF_Obs[(dfTLF_Obs['TRIPPURP']==trippurp) & (dfTLF_Obs['TLFTYPE']==tlftype)].copy()\n",
    "\n",
    "            # fill any NaN values with zeros\n",
    "            plotdata = plotdata.fillna(0)\n",
    "            plotdata = plotdata.rename(columns={'FREQ_Obs':'FREQ'}) # temp fix, since this column gets renamed somewhere else\n",
    "            \n",
    "            xplot = plotdata['BIN']\n",
    "            yplot = plotdata['FREQ']\n",
    "            name  = trippurp + ' ' + tlftype \n",
    "\n",
    "            trace1 = go.Scatter(\n",
    "                x=xplot,\n",
    "                y=yplot,\n",
    "                mode='lines',\n",
    "                name=name,\n",
    "                line=dict(\n",
    "                    shape='spline'\n",
    "                )\n",
    "            )\n",
    "            data.append(trace1)\n",
    "                \n",
    "    # get zoom presets\n",
    "    if (zoompreset=='Custom'):\n",
    "        _xmin = xmin\n",
    "        _xmax = xmax\n",
    "        _ymin = ymin\n",
    "        _ymax = ymax\n",
    "    else:\n",
    "        _xmin = dfZoomPresets[dfZoomPresets['PRESET']==zoompreset]['XMIN'].values[0]\n",
    "        _xmax = dfZoomPresets[dfZoomPresets['PRESET']==zoompreset]['XMAX'].values[0]\n",
    "        _ymin = dfZoomPresets[dfZoomPresets['PRESET']==zoompreset]['YMIN'].values[0]\n",
    "        _ymax = dfZoomPresets[dfZoomPresets['PRESET']==zoompreset]['YMAX'].values[0]\n",
    "\n",
    "    layout = go.Layout(\n",
    "        title='Trip Length Frequencies - Observed Data',\n",
    "        yaxis=dict(\n",
    "            title='',\n",
    "            range=(_ymin,_ymax)\n",
    "        ),\n",
    "        xaxis=dict(\n",
    "            title='GC/Dist/Time',\n",
    "            range=(_xmin,_xmax)\n",
    "        ),\n",
    "        #width=1600,\n",
    "        height=450\n",
    "    )\n",
    "    \n",
    "    fig = go.Figure(data=data, layout=layout)\n",
    "    py.offline.iplot(fig)"
   ]
  },
  {
   "cell_type": "code",
   "execution_count": 16,
   "metadata": {},
   "outputs": [
    {
     "data": {
      "text/html": [
       "        <script type=\"text/javascript\">\n",
       "        window.PlotlyConfig = {MathJaxConfig: 'local'};\n",
       "        if (window.MathJax && window.MathJax.Hub && window.MathJax.Hub.Config) {window.MathJax.Hub.Config({SVG: {font: \"STIX-Web\"}});}\n",
       "        if (typeof require !== 'undefined') {\n",
       "        require.undef(\"plotly\");\n",
       "        requirejs.config({\n",
       "            paths: {\n",
       "                'plotly': ['https://cdn.plot.ly/plotly-2.12.1.min']\n",
       "            }\n",
       "        });\n",
       "        require(['plotly'], function(Plotly) {\n",
       "            window._Plotly = Plotly;\n",
       "        });\n",
       "        }\n",
       "        </script>\n",
       "        "
      ]
     },
     "metadata": {},
     "output_type": "display_data"
    },
    {
     "data": {
      "application/vnd.jupyter.widget-view+json": {
       "model_id": "6eee9cf34fb8421da447d566806cdf48",
       "version_major": 2,
       "version_minor": 0
      },
      "text/plain": [
       "interactive(children=(SelectMultiple(description='Trip Purpose', index=(0,), options=('HBW', 'HBShp', 'HBOth',…"
      ]
     },
     "metadata": {},
     "output_type": "display_data"
    },
    {
     "data": {
      "application/vnd.plotly.v1+json": {
       "config": {
        "linkText": "Export to plot.ly",
        "plotlyServerURL": "https://plot.ly",
        "showLink": false
       },
       "data": [
        {
         "line": {
          "shape": "spline"
         },
         "mode": "lines",
         "name": "HBW GC",
         "type": "scatter",
         "x": [
          0,
          2,
          4,
          6,
          8,
          10,
          12,
          14,
          16,
          18,
          20,
          22,
          24,
          26,
          28,
          30,
          32,
          34,
          36,
          38,
          40,
          42,
          44,
          46,
          48,
          50,
          52,
          54,
          56,
          58,
          60,
          62,
          64,
          66,
          68,
          70,
          72,
          74,
          76,
          78,
          80,
          82,
          84,
          86,
          88,
          90,
          92,
          94,
          96,
          98,
          100,
          102,
          104,
          106,
          108,
          110,
          112,
          114,
          116,
          118,
          120,
          122,
          124,
          126,
          128,
          130,
          132,
          134,
          136,
          138,
          140,
          142,
          144,
          146,
          148,
          150,
          152,
          154,
          156,
          158,
          160,
          162,
          164,
          166,
          168,
          170,
          172,
          174,
          176,
          178,
          180,
          182,
          184,
          186,
          188,
          190,
          192,
          194,
          196,
          198,
          200,
          202,
          204,
          206,
          208,
          210,
          212,
          214,
          216,
          218,
          220,
          222,
          224,
          226,
          228,
          230,
          232,
          234,
          236,
          238,
          240,
          242,
          244,
          246,
          248,
          250,
          252,
          254,
          256,
          258,
          260,
          262,
          264,
          266,
          268,
          270,
          272,
          274,
          276,
          278,
          280,
          282,
          284,
          286,
          288,
          290,
          292,
          294,
          296,
          298,
          300,
          302,
          304,
          306,
          308,
          310,
          312,
          314,
          316,
          318,
          320,
          322,
          324,
          326,
          328,
          330,
          332,
          334,
          336,
          338,
          340,
          342,
          344,
          346,
          348,
          350,
          352,
          354,
          356,
          358,
          360,
          362,
          364,
          366,
          368,
          370,
          372,
          374,
          376,
          378,
          380,
          382,
          384,
          386,
          388,
          390,
          392,
          394,
          396,
          398,
          400,
          402,
          404,
          406,
          408,
          410
         ],
         "y": [
          0,
          0.0119538,
          0.0228316,
          0.0335149,
          0.0420331,
          0.0485383,
          0.0535914,
          0.055372,
          0.0542562,
          0.0514845,
          0.0487137,
          0.045943,
          0.0431718,
          0.0404011,
          0.0376294,
          0.0352425,
          0.0328553,
          0.0304679,
          0.0280814,
          0.0256939,
          0.0236246,
          0.021556,
          0.0194868,
          0.0174183,
          0.0153492,
          0.0140439,
          0.0127386,
          0.0114331,
          0.0101277,
          0.0089226,
          0.0079165,
          0.0070609,
          0.00626,
          0.0055587,
          0.0050572,
          0.0046556,
          0.0042543,
          0.0039025,
          0.0035511,
          0.0032497,
          0.0030549,
          0.0029103,
          0.0027654,
          0.0026706,
          0.0025757,
          0.0024812,
          0.0023864,
          0.0022915,
          0.0021967,
          0.0021018,
          0.0020068,
          0.0019122,
          0.0018174,
          0.0017226,
          0.0016276,
          0.0015329,
          0.0014382,
          0.0013435,
          0.0012489,
          0.0011572,
          0.0010656,
          0.0009738,
          0.0008821,
          0.0007905,
          0.0006988,
          0.0006071,
          0.0005154,
          0.0004637,
          0.0004319,
          0.0004201,
          0.0003955,
          0.000371,
          0.0003466,
          0.0003221,
          0.0002976,
          0.0002731,
          0.0002486,
          0.0002241,
          0.0001996,
          0.0001752,
          0.0001507,
          0.0001261,
          0.0001066,
          0.0000921,
          0.0000776,
          0.0000682,
          0.0000592,
          0.0000512,
          0.0000452,
          0.0000392,
          0.0000332,
          0.0000272,
          0.0000237,
          0.0000212,
          0.0000191,
          0.0000181,
          0.0000171,
          0.0000161,
          0.0000151,
          0.0000141,
          0.0000131,
          0.0000121,
          0.0000111,
          0.0000101,
          0.0000091,
          0.0000081,
          0.0000071,
          0.000006,
          0.000005,
          0.000004,
          0.000003,
          0.000002,
          0.000001,
          0,
          0,
          0,
          0,
          0,
          0,
          0,
          0,
          0,
          0,
          0,
          0,
          0,
          0,
          0,
          0,
          0,
          0,
          0,
          0,
          0,
          0,
          0,
          0,
          0,
          0,
          0,
          0,
          0,
          0,
          0,
          0,
          0,
          0,
          0,
          0,
          0,
          0,
          0,
          0,
          0,
          0,
          0,
          0,
          0,
          0,
          0,
          0,
          0,
          0,
          0,
          0,
          0,
          0,
          0,
          0,
          0,
          0,
          0,
          0,
          0,
          0,
          0,
          0,
          0,
          0,
          0,
          0,
          0,
          0,
          0,
          0,
          0,
          0,
          0,
          0,
          0,
          0,
          0,
          0,
          0,
          0,
          0,
          0,
          0,
          0,
          0,
          0,
          0,
          0,
          0,
          0,
          0
         ]
        }
       ],
       "layout": {
        "height": 450,
        "template": {
         "data": {
          "bar": [
           {
            "error_x": {
             "color": "#2a3f5f"
            },
            "error_y": {
             "color": "#2a3f5f"
            },
            "marker": {
             "line": {
              "color": "#E5ECF6",
              "width": 0.5
             },
             "pattern": {
              "fillmode": "overlay",
              "size": 10,
              "solidity": 0.2
             }
            },
            "type": "bar"
           }
          ],
          "barpolar": [
           {
            "marker": {
             "line": {
              "color": "#E5ECF6",
              "width": 0.5
             },
             "pattern": {
              "fillmode": "overlay",
              "size": 10,
              "solidity": 0.2
             }
            },
            "type": "barpolar"
           }
          ],
          "carpet": [
           {
            "aaxis": {
             "endlinecolor": "#2a3f5f",
             "gridcolor": "white",
             "linecolor": "white",
             "minorgridcolor": "white",
             "startlinecolor": "#2a3f5f"
            },
            "baxis": {
             "endlinecolor": "#2a3f5f",
             "gridcolor": "white",
             "linecolor": "white",
             "minorgridcolor": "white",
             "startlinecolor": "#2a3f5f"
            },
            "type": "carpet"
           }
          ],
          "choropleth": [
           {
            "colorbar": {
             "outlinewidth": 0,
             "ticks": ""
            },
            "type": "choropleth"
           }
          ],
          "contour": [
           {
            "colorbar": {
             "outlinewidth": 0,
             "ticks": ""
            },
            "colorscale": [
             [
              0,
              "#0d0887"
             ],
             [
              0.1111111111111111,
              "#46039f"
             ],
             [
              0.2222222222222222,
              "#7201a8"
             ],
             [
              0.3333333333333333,
              "#9c179e"
             ],
             [
              0.4444444444444444,
              "#bd3786"
             ],
             [
              0.5555555555555556,
              "#d8576b"
             ],
             [
              0.6666666666666666,
              "#ed7953"
             ],
             [
              0.7777777777777778,
              "#fb9f3a"
             ],
             [
              0.8888888888888888,
              "#fdca26"
             ],
             [
              1,
              "#f0f921"
             ]
            ],
            "type": "contour"
           }
          ],
          "contourcarpet": [
           {
            "colorbar": {
             "outlinewidth": 0,
             "ticks": ""
            },
            "type": "contourcarpet"
           }
          ],
          "heatmap": [
           {
            "colorbar": {
             "outlinewidth": 0,
             "ticks": ""
            },
            "colorscale": [
             [
              0,
              "#0d0887"
             ],
             [
              0.1111111111111111,
              "#46039f"
             ],
             [
              0.2222222222222222,
              "#7201a8"
             ],
             [
              0.3333333333333333,
              "#9c179e"
             ],
             [
              0.4444444444444444,
              "#bd3786"
             ],
             [
              0.5555555555555556,
              "#d8576b"
             ],
             [
              0.6666666666666666,
              "#ed7953"
             ],
             [
              0.7777777777777778,
              "#fb9f3a"
             ],
             [
              0.8888888888888888,
              "#fdca26"
             ],
             [
              1,
              "#f0f921"
             ]
            ],
            "type": "heatmap"
           }
          ],
          "heatmapgl": [
           {
            "colorbar": {
             "outlinewidth": 0,
             "ticks": ""
            },
            "colorscale": [
             [
              0,
              "#0d0887"
             ],
             [
              0.1111111111111111,
              "#46039f"
             ],
             [
              0.2222222222222222,
              "#7201a8"
             ],
             [
              0.3333333333333333,
              "#9c179e"
             ],
             [
              0.4444444444444444,
              "#bd3786"
             ],
             [
              0.5555555555555556,
              "#d8576b"
             ],
             [
              0.6666666666666666,
              "#ed7953"
             ],
             [
              0.7777777777777778,
              "#fb9f3a"
             ],
             [
              0.8888888888888888,
              "#fdca26"
             ],
             [
              1,
              "#f0f921"
             ]
            ],
            "type": "heatmapgl"
           }
          ],
          "histogram": [
           {
            "marker": {
             "pattern": {
              "fillmode": "overlay",
              "size": 10,
              "solidity": 0.2
             }
            },
            "type": "histogram"
           }
          ],
          "histogram2d": [
           {
            "colorbar": {
             "outlinewidth": 0,
             "ticks": ""
            },
            "colorscale": [
             [
              0,
              "#0d0887"
             ],
             [
              0.1111111111111111,
              "#46039f"
             ],
             [
              0.2222222222222222,
              "#7201a8"
             ],
             [
              0.3333333333333333,
              "#9c179e"
             ],
             [
              0.4444444444444444,
              "#bd3786"
             ],
             [
              0.5555555555555556,
              "#d8576b"
             ],
             [
              0.6666666666666666,
              "#ed7953"
             ],
             [
              0.7777777777777778,
              "#fb9f3a"
             ],
             [
              0.8888888888888888,
              "#fdca26"
             ],
             [
              1,
              "#f0f921"
             ]
            ],
            "type": "histogram2d"
           }
          ],
          "histogram2dcontour": [
           {
            "colorbar": {
             "outlinewidth": 0,
             "ticks": ""
            },
            "colorscale": [
             [
              0,
              "#0d0887"
             ],
             [
              0.1111111111111111,
              "#46039f"
             ],
             [
              0.2222222222222222,
              "#7201a8"
             ],
             [
              0.3333333333333333,
              "#9c179e"
             ],
             [
              0.4444444444444444,
              "#bd3786"
             ],
             [
              0.5555555555555556,
              "#d8576b"
             ],
             [
              0.6666666666666666,
              "#ed7953"
             ],
             [
              0.7777777777777778,
              "#fb9f3a"
             ],
             [
              0.8888888888888888,
              "#fdca26"
             ],
             [
              1,
              "#f0f921"
             ]
            ],
            "type": "histogram2dcontour"
           }
          ],
          "mesh3d": [
           {
            "colorbar": {
             "outlinewidth": 0,
             "ticks": ""
            },
            "type": "mesh3d"
           }
          ],
          "parcoords": [
           {
            "line": {
             "colorbar": {
              "outlinewidth": 0,
              "ticks": ""
             }
            },
            "type": "parcoords"
           }
          ],
          "pie": [
           {
            "automargin": true,
            "type": "pie"
           }
          ],
          "scatter": [
           {
            "fillpattern": {
             "fillmode": "overlay",
             "size": 10,
             "solidity": 0.2
            },
            "type": "scatter"
           }
          ],
          "scatter3d": [
           {
            "line": {
             "colorbar": {
              "outlinewidth": 0,
              "ticks": ""
             }
            },
            "marker": {
             "colorbar": {
              "outlinewidth": 0,
              "ticks": ""
             }
            },
            "type": "scatter3d"
           }
          ],
          "scattercarpet": [
           {
            "marker": {
             "colorbar": {
              "outlinewidth": 0,
              "ticks": ""
             }
            },
            "type": "scattercarpet"
           }
          ],
          "scattergeo": [
           {
            "marker": {
             "colorbar": {
              "outlinewidth": 0,
              "ticks": ""
             }
            },
            "type": "scattergeo"
           }
          ],
          "scattergl": [
           {
            "marker": {
             "colorbar": {
              "outlinewidth": 0,
              "ticks": ""
             }
            },
            "type": "scattergl"
           }
          ],
          "scattermapbox": [
           {
            "marker": {
             "colorbar": {
              "outlinewidth": 0,
              "ticks": ""
             }
            },
            "type": "scattermapbox"
           }
          ],
          "scatterpolar": [
           {
            "marker": {
             "colorbar": {
              "outlinewidth": 0,
              "ticks": ""
             }
            },
            "type": "scatterpolar"
           }
          ],
          "scatterpolargl": [
           {
            "marker": {
             "colorbar": {
              "outlinewidth": 0,
              "ticks": ""
             }
            },
            "type": "scatterpolargl"
           }
          ],
          "scatterternary": [
           {
            "marker": {
             "colorbar": {
              "outlinewidth": 0,
              "ticks": ""
             }
            },
            "type": "scatterternary"
           }
          ],
          "surface": [
           {
            "colorbar": {
             "outlinewidth": 0,
             "ticks": ""
            },
            "colorscale": [
             [
              0,
              "#0d0887"
             ],
             [
              0.1111111111111111,
              "#46039f"
             ],
             [
              0.2222222222222222,
              "#7201a8"
             ],
             [
              0.3333333333333333,
              "#9c179e"
             ],
             [
              0.4444444444444444,
              "#bd3786"
             ],
             [
              0.5555555555555556,
              "#d8576b"
             ],
             [
              0.6666666666666666,
              "#ed7953"
             ],
             [
              0.7777777777777778,
              "#fb9f3a"
             ],
             [
              0.8888888888888888,
              "#fdca26"
             ],
             [
              1,
              "#f0f921"
             ]
            ],
            "type": "surface"
           }
          ],
          "table": [
           {
            "cells": {
             "fill": {
              "color": "#EBF0F8"
             },
             "line": {
              "color": "white"
             }
            },
            "header": {
             "fill": {
              "color": "#C8D4E3"
             },
             "line": {
              "color": "white"
             }
            },
            "type": "table"
           }
          ]
         },
         "layout": {
          "annotationdefaults": {
           "arrowcolor": "#2a3f5f",
           "arrowhead": 0,
           "arrowwidth": 1
          },
          "autotypenumbers": "strict",
          "coloraxis": {
           "colorbar": {
            "outlinewidth": 0,
            "ticks": ""
           }
          },
          "colorscale": {
           "diverging": [
            [
             0,
             "#8e0152"
            ],
            [
             0.1,
             "#c51b7d"
            ],
            [
             0.2,
             "#de77ae"
            ],
            [
             0.3,
             "#f1b6da"
            ],
            [
             0.4,
             "#fde0ef"
            ],
            [
             0.5,
             "#f7f7f7"
            ],
            [
             0.6,
             "#e6f5d0"
            ],
            [
             0.7,
             "#b8e186"
            ],
            [
             0.8,
             "#7fbc41"
            ],
            [
             0.9,
             "#4d9221"
            ],
            [
             1,
             "#276419"
            ]
           ],
           "sequential": [
            [
             0,
             "#0d0887"
            ],
            [
             0.1111111111111111,
             "#46039f"
            ],
            [
             0.2222222222222222,
             "#7201a8"
            ],
            [
             0.3333333333333333,
             "#9c179e"
            ],
            [
             0.4444444444444444,
             "#bd3786"
            ],
            [
             0.5555555555555556,
             "#d8576b"
            ],
            [
             0.6666666666666666,
             "#ed7953"
            ],
            [
             0.7777777777777778,
             "#fb9f3a"
            ],
            [
             0.8888888888888888,
             "#fdca26"
            ],
            [
             1,
             "#f0f921"
            ]
           ],
           "sequentialminus": [
            [
             0,
             "#0d0887"
            ],
            [
             0.1111111111111111,
             "#46039f"
            ],
            [
             0.2222222222222222,
             "#7201a8"
            ],
            [
             0.3333333333333333,
             "#9c179e"
            ],
            [
             0.4444444444444444,
             "#bd3786"
            ],
            [
             0.5555555555555556,
             "#d8576b"
            ],
            [
             0.6666666666666666,
             "#ed7953"
            ],
            [
             0.7777777777777778,
             "#fb9f3a"
            ],
            [
             0.8888888888888888,
             "#fdca26"
            ],
            [
             1,
             "#f0f921"
            ]
           ]
          },
          "colorway": [
           "#636efa",
           "#EF553B",
           "#00cc96",
           "#ab63fa",
           "#FFA15A",
           "#19d3f3",
           "#FF6692",
           "#B6E880",
           "#FF97FF",
           "#FECB52"
          ],
          "font": {
           "color": "#2a3f5f"
          },
          "geo": {
           "bgcolor": "white",
           "lakecolor": "white",
           "landcolor": "#E5ECF6",
           "showlakes": true,
           "showland": true,
           "subunitcolor": "white"
          },
          "hoverlabel": {
           "align": "left"
          },
          "hovermode": "closest",
          "mapbox": {
           "style": "light"
          },
          "paper_bgcolor": "white",
          "plot_bgcolor": "#E5ECF6",
          "polar": {
           "angularaxis": {
            "gridcolor": "white",
            "linecolor": "white",
            "ticks": ""
           },
           "bgcolor": "#E5ECF6",
           "radialaxis": {
            "gridcolor": "white",
            "linecolor": "white",
            "ticks": ""
           }
          },
          "scene": {
           "xaxis": {
            "backgroundcolor": "#E5ECF6",
            "gridcolor": "white",
            "gridwidth": 2,
            "linecolor": "white",
            "showbackground": true,
            "ticks": "",
            "zerolinecolor": "white"
           },
           "yaxis": {
            "backgroundcolor": "#E5ECF6",
            "gridcolor": "white",
            "gridwidth": 2,
            "linecolor": "white",
            "showbackground": true,
            "ticks": "",
            "zerolinecolor": "white"
           },
           "zaxis": {
            "backgroundcolor": "#E5ECF6",
            "gridcolor": "white",
            "gridwidth": 2,
            "linecolor": "white",
            "showbackground": true,
            "ticks": "",
            "zerolinecolor": "white"
           }
          },
          "shapedefaults": {
           "line": {
            "color": "#2a3f5f"
           }
          },
          "ternary": {
           "aaxis": {
            "gridcolor": "white",
            "linecolor": "white",
            "ticks": ""
           },
           "baxis": {
            "gridcolor": "white",
            "linecolor": "white",
            "ticks": ""
           },
           "bgcolor": "#E5ECF6",
           "caxis": {
            "gridcolor": "white",
            "linecolor": "white",
            "ticks": ""
           }
          },
          "title": {
           "x": 0.05
          },
          "xaxis": {
           "automargin": true,
           "gridcolor": "white",
           "linecolor": "white",
           "ticks": "",
           "title": {
            "standoff": 15
           },
           "zerolinecolor": "white",
           "zerolinewidth": 2
          },
          "yaxis": {
           "automargin": true,
           "gridcolor": "white",
           "linecolor": "white",
           "ticks": "",
           "title": {
            "standoff": 15
           },
           "zerolinecolor": "white",
           "zerolinewidth": 2
          }
         }
        },
        "title": {
         "text": "Trip Length Frequencies - Observed Data"
        },
        "xaxis": {
         "range": [
          null,
          null
         ],
         "title": {
          "text": "GC/Dist/Time"
         }
        },
        "yaxis": {
         "range": [
          null,
          null
         ],
         "title": {
          "text": ""
         }
        }
       }
      },
      "text/html": [
       "<div>                            <div id=\"e3ae319b-0816-4df4-9c64-a2c327e45f54\" class=\"plotly-graph-div\" style=\"height:450px; width:100%;\"></div>            <script type=\"text/javascript\">                require([\"plotly\"], function(Plotly) {                    window.PLOTLYENV=window.PLOTLYENV || {};                                    if (document.getElementById(\"e3ae319b-0816-4df4-9c64-a2c327e45f54\")) {                    Plotly.newPlot(                        \"e3ae319b-0816-4df4-9c64-a2c327e45f54\",                        [{\"line\":{\"shape\":\"spline\"},\"mode\":\"lines\",\"name\":\"HBW GC\",\"x\":[0.0,2.0,4.0,6.0,8.0,10.0,12.0,14.0,16.0,18.0,20.0,22.0,24.0,26.0,28.0,30.0,32.0,34.0,36.0,38.0,40.0,42.0,44.0,46.0,48.0,50.0,52.0,54.0,56.0,58.0,60.0,62.0,64.0,66.0,68.0,70.0,72.0,74.0,76.0,78.0,80.0,82.0,84.0,86.0,88.0,90.0,92.0,94.0,96.0,98.0,100.0,102.0,104.0,106.0,108.0,110.0,112.0,114.0,116.0,118.0,120.0,122.0,124.0,126.0,128.0,130.0,132.0,134.0,136.0,138.0,140.0,142.0,144.0,146.0,148.0,150.0,152.0,154.0,156.0,158.0,160.0,162.0,164.0,166.0,168.0,170.0,172.0,174.0,176.0,178.0,180.0,182.0,184.0,186.0,188.0,190.0,192.0,194.0,196.0,198.0,200.0,202.0,204.0,206.0,208.0,210.0,212.0,214.0,216.0,218.0,220.0,222.0,224.0,226.0,228.0,230.0,232.0,234.0,236.0,238.0,240.0,242.0,244.0,246.0,248.0,250.0,252.0,254.0,256.0,258.0,260.0,262.0,264.0,266.0,268.0,270.0,272.0,274.0,276.0,278.0,280.0,282.0,284.0,286.0,288.0,290.0,292.0,294.0,296.0,298.0,300.0,302.0,304.0,306.0,308.0,310.0,312.0,314.0,316.0,318.0,320.0,322.0,324.0,326.0,328.0,330.0,332.0,334.0,336.0,338.0,340.0,342.0,344.0,346.0,348.0,350.0,352.0,354.0,356.0,358.0,360.0,362.0,364.0,366.0,368.0,370.0,372.0,374.0,376.0,378.0,380.0,382.0,384.0,386.0,388.0,390.0,392.0,394.0,396.0,398.0,400.0,402.0,404.0,406.0,408.0,410.0],\"y\":[0.0,0.0119538,0.0228316,0.0335149,0.0420331,0.0485383,0.0535914,0.055372,0.0542562,0.0514845,0.0487137,0.045943,0.0431718,0.0404011,0.0376294,0.0352425,0.0328553,0.0304679,0.0280814,0.0256939,0.0236246,0.021556,0.0194868,0.0174183,0.0153492,0.0140439,0.0127386,0.0114331,0.0101277,0.0089226,0.0079165,0.0070609,0.00626,0.0055587,0.0050572,0.0046556,0.0042543,0.0039025,0.0035511,0.0032497,0.0030549,0.0029103,0.0027654,0.0026706,0.0025757,0.0024812,0.0023864,0.0022915,0.0021967,0.0021018,0.0020068,0.0019122,0.0018174,0.0017226,0.0016276,0.0015329,0.0014382,0.0013435,0.0012489,0.0011572,0.0010656,0.0009738,0.0008821,0.0007905,0.0006988,0.0006071,0.0005154,0.0004637,0.0004319,0.0004201,0.0003955,0.000371,0.0003466,0.0003221,0.0002976,0.0002731,0.0002486,0.0002241,0.0001996,0.0001752,0.0001507,0.0001261,0.0001066,9.21e-05,7.76e-05,6.82e-05,5.92e-05,5.12e-05,4.52e-05,3.92e-05,3.32e-05,2.72e-05,2.37e-05,2.12e-05,1.91e-05,1.81e-05,1.71e-05,1.61e-05,1.51e-05,1.41e-05,1.31e-05,1.21e-05,1.11e-05,1.01e-05,9.1e-06,8.1e-06,7.1e-06,6e-06,5e-06,4e-06,3e-06,2e-06,1e-06,0.0,0.0,0.0,0.0,0.0,0.0,0.0,0.0,0.0,0.0,0.0,0.0,0.0,0.0,0.0,0.0,0.0,0.0,0.0,0.0,0.0,0.0,0.0,0.0,0.0,0.0,0.0,0.0,0.0,0.0,0.0,0.0,0.0,0.0,0.0,0.0,0.0,0.0,0.0,0.0,0.0,0.0,0.0,0.0,0.0,0.0,0.0,0.0,0.0,0.0,0.0,0.0,0.0,0.0,0.0,0.0,0.0,0.0,0.0,0.0,0.0,0.0,0.0,0.0,0.0,0.0,0.0,0.0,0.0,0.0,0.0,0.0,0.0,0.0,0.0,0.0,0.0,0.0,0.0,0.0,0.0,0.0,0.0,0.0,0.0,0.0,0.0,0.0,0.0,0.0,0.0,0.0,0.0],\"type\":\"scatter\"}],                        {\"height\":450,\"template\":{\"data\":{\"barpolar\":[{\"marker\":{\"line\":{\"color\":\"#E5ECF6\",\"width\":0.5},\"pattern\":{\"fillmode\":\"overlay\",\"size\":10,\"solidity\":0.2}},\"type\":\"barpolar\"}],\"bar\":[{\"error_x\":{\"color\":\"#2a3f5f\"},\"error_y\":{\"color\":\"#2a3f5f\"},\"marker\":{\"line\":{\"color\":\"#E5ECF6\",\"width\":0.5},\"pattern\":{\"fillmode\":\"overlay\",\"size\":10,\"solidity\":0.2}},\"type\":\"bar\"}],\"carpet\":[{\"aaxis\":{\"endlinecolor\":\"#2a3f5f\",\"gridcolor\":\"white\",\"linecolor\":\"white\",\"minorgridcolor\":\"white\",\"startlinecolor\":\"#2a3f5f\"},\"baxis\":{\"endlinecolor\":\"#2a3f5f\",\"gridcolor\":\"white\",\"linecolor\":\"white\",\"minorgridcolor\":\"white\",\"startlinecolor\":\"#2a3f5f\"},\"type\":\"carpet\"}],\"choropleth\":[{\"colorbar\":{\"outlinewidth\":0,\"ticks\":\"\"},\"type\":\"choropleth\"}],\"contourcarpet\":[{\"colorbar\":{\"outlinewidth\":0,\"ticks\":\"\"},\"type\":\"contourcarpet\"}],\"contour\":[{\"colorbar\":{\"outlinewidth\":0,\"ticks\":\"\"},\"colorscale\":[[0.0,\"#0d0887\"],[0.1111111111111111,\"#46039f\"],[0.2222222222222222,\"#7201a8\"],[0.3333333333333333,\"#9c179e\"],[0.4444444444444444,\"#bd3786\"],[0.5555555555555556,\"#d8576b\"],[0.6666666666666666,\"#ed7953\"],[0.7777777777777778,\"#fb9f3a\"],[0.8888888888888888,\"#fdca26\"],[1.0,\"#f0f921\"]],\"type\":\"contour\"}],\"heatmapgl\":[{\"colorbar\":{\"outlinewidth\":0,\"ticks\":\"\"},\"colorscale\":[[0.0,\"#0d0887\"],[0.1111111111111111,\"#46039f\"],[0.2222222222222222,\"#7201a8\"],[0.3333333333333333,\"#9c179e\"],[0.4444444444444444,\"#bd3786\"],[0.5555555555555556,\"#d8576b\"],[0.6666666666666666,\"#ed7953\"],[0.7777777777777778,\"#fb9f3a\"],[0.8888888888888888,\"#fdca26\"],[1.0,\"#f0f921\"]],\"type\":\"heatmapgl\"}],\"heatmap\":[{\"colorbar\":{\"outlinewidth\":0,\"ticks\":\"\"},\"colorscale\":[[0.0,\"#0d0887\"],[0.1111111111111111,\"#46039f\"],[0.2222222222222222,\"#7201a8\"],[0.3333333333333333,\"#9c179e\"],[0.4444444444444444,\"#bd3786\"],[0.5555555555555556,\"#d8576b\"],[0.6666666666666666,\"#ed7953\"],[0.7777777777777778,\"#fb9f3a\"],[0.8888888888888888,\"#fdca26\"],[1.0,\"#f0f921\"]],\"type\":\"heatmap\"}],\"histogram2dcontour\":[{\"colorbar\":{\"outlinewidth\":0,\"ticks\":\"\"},\"colorscale\":[[0.0,\"#0d0887\"],[0.1111111111111111,\"#46039f\"],[0.2222222222222222,\"#7201a8\"],[0.3333333333333333,\"#9c179e\"],[0.4444444444444444,\"#bd3786\"],[0.5555555555555556,\"#d8576b\"],[0.6666666666666666,\"#ed7953\"],[0.7777777777777778,\"#fb9f3a\"],[0.8888888888888888,\"#fdca26\"],[1.0,\"#f0f921\"]],\"type\":\"histogram2dcontour\"}],\"histogram2d\":[{\"colorbar\":{\"outlinewidth\":0,\"ticks\":\"\"},\"colorscale\":[[0.0,\"#0d0887\"],[0.1111111111111111,\"#46039f\"],[0.2222222222222222,\"#7201a8\"],[0.3333333333333333,\"#9c179e\"],[0.4444444444444444,\"#bd3786\"],[0.5555555555555556,\"#d8576b\"],[0.6666666666666666,\"#ed7953\"],[0.7777777777777778,\"#fb9f3a\"],[0.8888888888888888,\"#fdca26\"],[1.0,\"#f0f921\"]],\"type\":\"histogram2d\"}],\"histogram\":[{\"marker\":{\"pattern\":{\"fillmode\":\"overlay\",\"size\":10,\"solidity\":0.2}},\"type\":\"histogram\"}],\"mesh3d\":[{\"colorbar\":{\"outlinewidth\":0,\"ticks\":\"\"},\"type\":\"mesh3d\"}],\"parcoords\":[{\"line\":{\"colorbar\":{\"outlinewidth\":0,\"ticks\":\"\"}},\"type\":\"parcoords\"}],\"pie\":[{\"automargin\":true,\"type\":\"pie\"}],\"scatter3d\":[{\"line\":{\"colorbar\":{\"outlinewidth\":0,\"ticks\":\"\"}},\"marker\":{\"colorbar\":{\"outlinewidth\":0,\"ticks\":\"\"}},\"type\":\"scatter3d\"}],\"scattercarpet\":[{\"marker\":{\"colorbar\":{\"outlinewidth\":0,\"ticks\":\"\"}},\"type\":\"scattercarpet\"}],\"scattergeo\":[{\"marker\":{\"colorbar\":{\"outlinewidth\":0,\"ticks\":\"\"}},\"type\":\"scattergeo\"}],\"scattergl\":[{\"marker\":{\"colorbar\":{\"outlinewidth\":0,\"ticks\":\"\"}},\"type\":\"scattergl\"}],\"scattermapbox\":[{\"marker\":{\"colorbar\":{\"outlinewidth\":0,\"ticks\":\"\"}},\"type\":\"scattermapbox\"}],\"scatterpolargl\":[{\"marker\":{\"colorbar\":{\"outlinewidth\":0,\"ticks\":\"\"}},\"type\":\"scatterpolargl\"}],\"scatterpolar\":[{\"marker\":{\"colorbar\":{\"outlinewidth\":0,\"ticks\":\"\"}},\"type\":\"scatterpolar\"}],\"scatter\":[{\"fillpattern\":{\"fillmode\":\"overlay\",\"size\":10,\"solidity\":0.2},\"type\":\"scatter\"}],\"scatterternary\":[{\"marker\":{\"colorbar\":{\"outlinewidth\":0,\"ticks\":\"\"}},\"type\":\"scatterternary\"}],\"surface\":[{\"colorbar\":{\"outlinewidth\":0,\"ticks\":\"\"},\"colorscale\":[[0.0,\"#0d0887\"],[0.1111111111111111,\"#46039f\"],[0.2222222222222222,\"#7201a8\"],[0.3333333333333333,\"#9c179e\"],[0.4444444444444444,\"#bd3786\"],[0.5555555555555556,\"#d8576b\"],[0.6666666666666666,\"#ed7953\"],[0.7777777777777778,\"#fb9f3a\"],[0.8888888888888888,\"#fdca26\"],[1.0,\"#f0f921\"]],\"type\":\"surface\"}],\"table\":[{\"cells\":{\"fill\":{\"color\":\"#EBF0F8\"},\"line\":{\"color\":\"white\"}},\"header\":{\"fill\":{\"color\":\"#C8D4E3\"},\"line\":{\"color\":\"white\"}},\"type\":\"table\"}]},\"layout\":{\"annotationdefaults\":{\"arrowcolor\":\"#2a3f5f\",\"arrowhead\":0,\"arrowwidth\":1},\"autotypenumbers\":\"strict\",\"coloraxis\":{\"colorbar\":{\"outlinewidth\":0,\"ticks\":\"\"}},\"colorscale\":{\"diverging\":[[0,\"#8e0152\"],[0.1,\"#c51b7d\"],[0.2,\"#de77ae\"],[0.3,\"#f1b6da\"],[0.4,\"#fde0ef\"],[0.5,\"#f7f7f7\"],[0.6,\"#e6f5d0\"],[0.7,\"#b8e186\"],[0.8,\"#7fbc41\"],[0.9,\"#4d9221\"],[1,\"#276419\"]],\"sequential\":[[0.0,\"#0d0887\"],[0.1111111111111111,\"#46039f\"],[0.2222222222222222,\"#7201a8\"],[0.3333333333333333,\"#9c179e\"],[0.4444444444444444,\"#bd3786\"],[0.5555555555555556,\"#d8576b\"],[0.6666666666666666,\"#ed7953\"],[0.7777777777777778,\"#fb9f3a\"],[0.8888888888888888,\"#fdca26\"],[1.0,\"#f0f921\"]],\"sequentialminus\":[[0.0,\"#0d0887\"],[0.1111111111111111,\"#46039f\"],[0.2222222222222222,\"#7201a8\"],[0.3333333333333333,\"#9c179e\"],[0.4444444444444444,\"#bd3786\"],[0.5555555555555556,\"#d8576b\"],[0.6666666666666666,\"#ed7953\"],[0.7777777777777778,\"#fb9f3a\"],[0.8888888888888888,\"#fdca26\"],[1.0,\"#f0f921\"]]},\"colorway\":[\"#636efa\",\"#EF553B\",\"#00cc96\",\"#ab63fa\",\"#FFA15A\",\"#19d3f3\",\"#FF6692\",\"#B6E880\",\"#FF97FF\",\"#FECB52\"],\"font\":{\"color\":\"#2a3f5f\"},\"geo\":{\"bgcolor\":\"white\",\"lakecolor\":\"white\",\"landcolor\":\"#E5ECF6\",\"showlakes\":true,\"showland\":true,\"subunitcolor\":\"white\"},\"hoverlabel\":{\"align\":\"left\"},\"hovermode\":\"closest\",\"mapbox\":{\"style\":\"light\"},\"paper_bgcolor\":\"white\",\"plot_bgcolor\":\"#E5ECF6\",\"polar\":{\"angularaxis\":{\"gridcolor\":\"white\",\"linecolor\":\"white\",\"ticks\":\"\"},\"bgcolor\":\"#E5ECF6\",\"radialaxis\":{\"gridcolor\":\"white\",\"linecolor\":\"white\",\"ticks\":\"\"}},\"scene\":{\"xaxis\":{\"backgroundcolor\":\"#E5ECF6\",\"gridcolor\":\"white\",\"gridwidth\":2,\"linecolor\":\"white\",\"showbackground\":true,\"ticks\":\"\",\"zerolinecolor\":\"white\"},\"yaxis\":{\"backgroundcolor\":\"#E5ECF6\",\"gridcolor\":\"white\",\"gridwidth\":2,\"linecolor\":\"white\",\"showbackground\":true,\"ticks\":\"\",\"zerolinecolor\":\"white\"},\"zaxis\":{\"backgroundcolor\":\"#E5ECF6\",\"gridcolor\":\"white\",\"gridwidth\":2,\"linecolor\":\"white\",\"showbackground\":true,\"ticks\":\"\",\"zerolinecolor\":\"white\"}},\"shapedefaults\":{\"line\":{\"color\":\"#2a3f5f\"}},\"ternary\":{\"aaxis\":{\"gridcolor\":\"white\",\"linecolor\":\"white\",\"ticks\":\"\"},\"baxis\":{\"gridcolor\":\"white\",\"linecolor\":\"white\",\"ticks\":\"\"},\"bgcolor\":\"#E5ECF6\",\"caxis\":{\"gridcolor\":\"white\",\"linecolor\":\"white\",\"ticks\":\"\"}},\"title\":{\"x\":0.05},\"xaxis\":{\"automargin\":true,\"gridcolor\":\"white\",\"linecolor\":\"white\",\"ticks\":\"\",\"title\":{\"standoff\":15},\"zerolinecolor\":\"white\",\"zerolinewidth\":2},\"yaxis\":{\"automargin\":true,\"gridcolor\":\"white\",\"linecolor\":\"white\",\"ticks\":\"\",\"title\":{\"standoff\":15},\"zerolinecolor\":\"white\",\"zerolinewidth\":2}}},\"title\":{\"text\":\"Trip Length Frequencies - Observed Data\"},\"xaxis\":{\"range\":[null,null],\"title\":{\"text\":\"GC/Dist/Time\"}},\"yaxis\":{\"range\":[null,null],\"title\":{\"text\":\"\"}}},                        {\"responsive\": true}                    ).then(function(){\n",
       "                            \n",
       "var gd = document.getElementById('e3ae319b-0816-4df4-9c64-a2c327e45f54');\n",
       "var x = new MutationObserver(function (mutations, observer) {{\n",
       "        var display = window.getComputedStyle(gd).display;\n",
       "        if (!display || display === 'none') {{\n",
       "            console.log([gd, 'removed!']);\n",
       "            Plotly.purge(gd);\n",
       "            observer.disconnect();\n",
       "        }}\n",
       "}});\n",
       "\n",
       "// Listen for the removal of the full notebook cells\n",
       "var notebookContainer = gd.closest('#notebook-container');\n",
       "if (notebookContainer) {{\n",
       "    x.observe(notebookContainer, {childList: true});\n",
       "}}\n",
       "\n",
       "// Listen for the clearing of the current output cell\n",
       "var outputEl = gd.closest('.output');\n",
       "if (outputEl) {{\n",
       "    x.observe(outputEl, {childList: true});\n",
       "}}\n",
       "\n",
       "                        })                };                });            </script>        </div>"
      ]
     },
     "metadata": {},
     "output_type": "display_data"
    }
   ],
   "source": [
    "# MAKE INTERACTIVE CHART\n",
    "py.offline.init_notebook_mode(connected=True)\n",
    "\n",
    "lstTripPurp  = dfTLF_Obs['TRIPPURP'].unique().tolist() # HBW, HBShp, HBOth,...\n",
    "lstTLFType   = dfTLF_Obs['TLFTYPE' ].unique().tolist() # GC, Time, Dist\n",
    "    \n",
    "selectTripPurp  = widgets.SelectMultiple(options=lstTripPurp, value=('HBW'        ,), description='Trip Purpose')\n",
    "selectTLFType   = widgets.SelectMultiple(options=lstTLFType , value=('GC'         ,), description='TLF Type'    )\n",
    "selectPreset    = widgets.Select(options=dfZoomPresets['PRESET'].tolist(), value='All', description='Zoom Presets')\n",
    "\n",
    "#custom extents\n",
    "xmin = widgets.Text(value='0', description='X Min')\n",
    "xmax = widgets.Text(value='60', description='X Max')\n",
    "ymin = widgets.Text(value='0', description='Y Min')\n",
    "ymax = widgets.Text(value='.01', description='Y Max')\n",
    "\n",
    "widgets.interactive(update_plot_obs, trippurps=selectTripPurp, tlftypes=selectTLFType, zoompreset=selectPreset, xmin=xmin, xmax=xmax, ymin=ymin, ymax=ymax)"
   ]
  },
  {
   "cell_type": "markdown",
   "metadata": {},
   "source": [
    "# Friction Factors"
   ]
  },
  {
   "cell_type": "code",
   "execution_count": 17,
   "metadata": {},
   "outputs": [
    {
     "data": {
      "text/plain": [
       "'Reading csv for 0-Initial from v832'"
      ]
     },
     "metadata": {},
     "output_type": "display_data"
    },
    {
     "data": {
      "text/plain": [
       "'Reading csv for 1-First'"
      ]
     },
     "metadata": {},
     "output_type": "display_data"
    },
    {
     "data": {
      "text/plain": [
       "'Reading csv for 2-no IXXI MH-HV changes'"
      ]
     },
     "metadata": {},
     "output_type": "display_data"
    },
    {
     "data": {
      "text/plain": [
       "'Reading csv for 3-Third Time'"
      ]
     },
     "metadata": {},
     "output_type": "display_data"
    },
    {
     "data": {
      "text/plain": [
       "'Reading csv for 4-Charm Time?'"
      ]
     },
     "metadata": {},
     "output_type": "display_data"
    },
    {
     "data": {
      "text/plain": [
       "'Reading csv for 5-Final Fifth?'"
      ]
     },
     "metadata": {},
     "output_type": "display_data"
    },
    {
     "data": {
      "text/plain": [
       "'Reading friction factors for 6-Just IX-XI_HV'"
      ]
     },
     "metadata": {},
     "output_type": "display_data"
    }
   ],
   "source": [
    "# read Friction Factors into array ordered by iteration\n",
    "\n",
    "# Friction Factors array that stores a separate dataframe for each Calibration Round\n",
    "dfsFF=[]\n",
    "\n",
    "for index, row in dfCalibrationRounds.iterrows():\n",
    "    filename = os.path.join(os.path.join(dirIntermediate,str(index)),'1-friction factors begin.csv')\n",
    "    if row['LOCKFF']==False:\n",
    "        display ('Reading friction factors for ' + row['FF_CALIB_ROUND'])\n",
    "        dfFF = pd.read_csv(row['FILENAMEFF'])\n",
    "\n",
    "        # make sure id column is always same: BIN\n",
    "        dfFF.rename(columns={';BIN':'BIN',';MINUTE':'BIN','Mile':'BIN','Mil':'BIN','Min':'BIN','Bin':'BIN'},inplace=True)\n",
    "        # rename columns\n",
    "        dfFF.rename(columns=colRenames,inplace=True)\n",
    "\n",
    "        if debug: display(dfFF)\n",
    "\n",
    "        # melt all columns but first\n",
    "        dfFF = pd.melt(dfFF, id_vars=['BIN'], value_vars=dfFF.columns[1:].tolist(), ignore_index=False, var_name='TRIPPURP', value_name='FF')\n",
    "\n",
    "        dfFF.to_csv(filename, index=False)\n",
    "\n",
    "    else:\n",
    "        display ('Reading csv for ' + row['FF_CALIB_ROUND'])\n",
    "        dfFF = pd.read_csv(filename)\n",
    "\n",
    "    # append to array of Friction Factors\n",
    "    dfsFF.append(dfFF)\n",
    "\n",
    "    if debug: display(dfFF)\n"
   ]
  },
  {
   "cell_type": "markdown",
   "metadata": {},
   "source": [
    "# Read in TDM Trip Length Frequencies"
   ]
  },
  {
   "cell_type": "code",
   "execution_count": 18,
   "metadata": {},
   "outputs": [
    {
     "data": {
      "text/html": [
       "<div>\n",
       "<style scoped>\n",
       "    .dataframe tbody tr th:only-of-type {\n",
       "        vertical-align: middle;\n",
       "    }\n",
       "\n",
       "    .dataframe tbody tr th {\n",
       "        vertical-align: top;\n",
       "    }\n",
       "\n",
       "    .dataframe thead th {\n",
       "        text-align: right;\n",
       "    }\n",
       "</style>\n",
       "<table border=\"1\" class=\"dataframe\">\n",
       "  <thead>\n",
       "    <tr style=\"text-align: right;\">\n",
       "      <th></th>\n",
       "      <th>FF_CALIB_ROUND</th>\n",
       "      <th>TDM_TLF_FOLDER</th>\n",
       "      <th>FILENAMEFF</th>\n",
       "      <th>LOCKFF</th>\n",
       "      <th>LOCKTLF</th>\n",
       "    </tr>\n",
       "  </thead>\n",
       "  <tbody>\n",
       "    <tr>\n",
       "      <th>0</th>\n",
       "      <td>0-Initial from v832</td>\n",
       "      <td>_r0</td>\n",
       "      <td>A:\\1 - TDM\\3 - Model Dev\\1 - WF\\2 - Sandbox\\v9...</td>\n",
       "      <td>True</td>\n",
       "      <td>True</td>\n",
       "    </tr>\n",
       "    <tr>\n",
       "      <th>1</th>\n",
       "      <td>1-First</td>\n",
       "      <td>_r1</td>\n",
       "      <td>A:\\1 - TDM\\3 - Model Dev\\1 - WF\\2 - Sandbox\\v9...</td>\n",
       "      <td>True</td>\n",
       "      <td>True</td>\n",
       "    </tr>\n",
       "    <tr>\n",
       "      <th>2</th>\n",
       "      <td>2-no IXXI MH-HV changes</td>\n",
       "      <td>_r2</td>\n",
       "      <td>A:\\1 - TDM\\3 - Model Dev\\1 - WF\\2 - Sandbox\\v9...</td>\n",
       "      <td>True</td>\n",
       "      <td>True</td>\n",
       "    </tr>\n",
       "    <tr>\n",
       "      <th>3</th>\n",
       "      <td>3-Third Time</td>\n",
       "      <td>_r3</td>\n",
       "      <td>A:\\1 - TDM\\3 - Model Dev\\1 - WF\\2 - Sandbox\\v9...</td>\n",
       "      <td>True</td>\n",
       "      <td>True</td>\n",
       "    </tr>\n",
       "    <tr>\n",
       "      <th>4</th>\n",
       "      <td>4-Charm Time?</td>\n",
       "      <td>_r4</td>\n",
       "      <td>A:\\1 - TDM\\3 - Model Dev\\1 - WF\\2 - Sandbox\\v9...</td>\n",
       "      <td>True</td>\n",
       "      <td>True</td>\n",
       "    </tr>\n",
       "    <tr>\n",
       "      <th>5</th>\n",
       "      <td>5-Final Fifth?</td>\n",
       "      <td>_r5</td>\n",
       "      <td>A:\\1 - TDM\\3 - Model Dev\\1 - WF\\2 - Sandbox\\v9...</td>\n",
       "      <td>True</td>\n",
       "      <td>True</td>\n",
       "    </tr>\n",
       "    <tr>\n",
       "      <th>6</th>\n",
       "      <td>6-Just IX-XI_HV</td>\n",
       "      <td>_r6</td>\n",
       "      <td>A:\\1 - TDM\\3 - Model Dev\\1 - WF\\2 - Sandbox\\v9...</td>\n",
       "      <td>False</td>\n",
       "      <td>False</td>\n",
       "    </tr>\n",
       "  </tbody>\n",
       "</table>\n",
       "</div>"
      ],
      "text/plain": [
       "            FF_CALIB_ROUND TDM_TLF_FOLDER  \\\n",
       "0      0-Initial from v832            _r0   \n",
       "1                  1-First            _r1   \n",
       "2  2-no IXXI MH-HV changes            _r2   \n",
       "3             3-Third Time            _r3   \n",
       "4            4-Charm Time?            _r4   \n",
       "5           5-Final Fifth?            _r5   \n",
       "6          6-Just IX-XI_HV            _r6   \n",
       "\n",
       "                                          FILENAMEFF  LOCKFF  LOCKTLF  \n",
       "0  A:\\1 - TDM\\3 - Model Dev\\1 - WF\\2 - Sandbox\\v9...    True     True  \n",
       "1  A:\\1 - TDM\\3 - Model Dev\\1 - WF\\2 - Sandbox\\v9...    True     True  \n",
       "2  A:\\1 - TDM\\3 - Model Dev\\1 - WF\\2 - Sandbox\\v9...    True     True  \n",
       "3  A:\\1 - TDM\\3 - Model Dev\\1 - WF\\2 - Sandbox\\v9...    True     True  \n",
       "4  A:\\1 - TDM\\3 - Model Dev\\1 - WF\\2 - Sandbox\\v9...    True     True  \n",
       "5  A:\\1 - TDM\\3 - Model Dev\\1 - WF\\2 - Sandbox\\v9...    True     True  \n",
       "6  A:\\1 - TDM\\3 - Model Dev\\1 - WF\\2 - Sandbox\\v9...   False    False  "
      ]
     },
     "execution_count": 18,
     "metadata": {},
     "output_type": "execute_result"
    }
   ],
   "source": [
    "dfCalibrationRounds"
   ]
  },
  {
   "cell_type": "code",
   "execution_count": 19,
   "metadata": {},
   "outputs": [
    {
     "data": {
      "text/plain": [
       "'Reading TLFs csv for 0-Initial from v832'"
      ]
     },
     "metadata": {},
     "output_type": "display_data"
    },
    {
     "data": {
      "text/plain": [
       "'Reading TLFs csv for 1-First'"
      ]
     },
     "metadata": {},
     "output_type": "display_data"
    },
    {
     "data": {
      "text/plain": [
       "'Reading TLFs csv for 2-no IXXI MH-HV changes'"
      ]
     },
     "metadata": {},
     "output_type": "display_data"
    },
    {
     "data": {
      "text/plain": [
       "'Reading TLFs csv for 3-Third Time'"
      ]
     },
     "metadata": {},
     "output_type": "display_data"
    },
    {
     "data": {
      "text/plain": [
       "'Reading TLFs csv for 4-Charm Time?'"
      ]
     },
     "metadata": {},
     "output_type": "display_data"
    },
    {
     "data": {
      "text/plain": [
       "'Reading TLFs csv for 5-Final Fifth?'"
      ]
     },
     "metadata": {},
     "output_type": "display_data"
    },
    {
     "data": {
      "text/plain": [
       "'Reading 6-Just IX-XI_HV TLFs'"
      ]
     },
     "metadata": {},
     "output_type": "display_data"
    },
    {
     "data": {
      "text/plain": [
       "'Not adding to 1 (if empty dataset, YAY!!!):'"
      ]
     },
     "metadata": {},
     "output_type": "display_data"
    },
    {
     "data": {
      "text/html": [
       "<div>\n",
       "<style scoped>\n",
       "    .dataframe tbody tr th:only-of-type {\n",
       "        vertical-align: middle;\n",
       "    }\n",
       "\n",
       "    .dataframe tbody tr th {\n",
       "        vertical-align: top;\n",
       "    }\n",
       "\n",
       "    .dataframe thead th {\n",
       "        text-align: right;\n",
       "    }\n",
       "</style>\n",
       "<table border=\"1\" class=\"dataframe\">\n",
       "  <thead>\n",
       "    <tr style=\"text-align: right;\">\n",
       "      <th></th>\n",
       "      <th>TLFTYPE</th>\n",
       "      <th>TRIPPURP</th>\n",
       "      <th>FREQ_SUM</th>\n",
       "    </tr>\n",
       "  </thead>\n",
       "  <tbody>\n",
       "  </tbody>\n",
       "</table>\n",
       "</div>"
      ],
      "text/plain": [
       "Empty DataFrame\n",
       "Columns: [TLFTYPE, TRIPPURP, FREQ_SUM]\n",
       "Index: []"
      ]
     },
     "metadata": {},
     "output_type": "display_data"
    },
    {
     "name": "stderr",
     "output_type": "stream",
     "text": [
      "C:\\Users\\bhereth\\AppData\\Local\\Temp\\ipykernel_16148\\587220598.py:92: SettingWithCopyWarning:\n",
      "\n",
      "\n",
      "A value is trying to be set on a copy of a slice from a DataFrame.\n",
      "Try using .loc[row_indexer,col_indexer] = value instead\n",
      "\n",
      "See the caveats in the documentation: https://pandas.pydata.org/pandas-docs/stable/user_guide/indexing.html#returning-a-view-versus-a-copy\n",
      "\n"
     ]
    }
   ],
   "source": [
    "# read in trips from TDM sorted into TLF bins\n",
    "\n",
    "# array of dataframes to hold TLFs from each round of calibration\n",
    "dfsTLF_TDM = []\n",
    "\n",
    "for index, row in dfCalibrationRounds.iterrows():\n",
    "    \n",
    "    filename = os.path.join(os.path.join(dirIntermediate,str(index)),'2-tlfs.csv')\n",
    "\n",
    "    if row['LOCKTLF']==False:\n",
    "\n",
    "        display('Reading ' + row['FF_CALIB_ROUND'] + ' TLFs')\n",
    "\n",
    "        tlfs=['Cost','Dist','Time']\n",
    "\n",
    "        dfTLFTDMTrips = pd.DataFrame()\n",
    "\n",
    "        for tlf in tlfs:\n",
    "            \n",
    "            # read in csv for tlf\n",
    "            dfRead = pd.read_csv(os.path.join(folderTDMTLFLoc, row['TDM_TLF_FOLDER'] + '\\\\TLF_' + tlf + '.csv'))\n",
    "            \n",
    "            # make sure id column is always same: BIN\n",
    "            dfRead.rename(columns={';BIN':'BIN',';MINUTE':'BIN','Mile':'BIN','Mil':'BIN','Min':'BIN','Bin':'BIN'}, inplace=True)\n",
    "            # rename columns\n",
    "            dfRead.rename(columns=colRenames,inplace=True)\n",
    "\n",
    "            dfRead = pd.melt(dfRead, id_vars=['BIN'], value_vars=dfRead.columns[1:].tolist(), ignore_index=False, var_name='TRIPPURP', value_name='TRIPS')\n",
    "\n",
    "            # set TLF value, rename Cost to GC\n",
    "            if tlf=='Cost':\n",
    "                dfRead['TLFTYPE'] = 'GC'\n",
    "            else:\n",
    "                dfRead['TLFTYPE'] = tlf\n",
    "\n",
    "            # reorder columns\n",
    "            dfRead = dfRead[['TLFTYPE','TRIPPURP','BIN','TRIPS']]\n",
    "\n",
    "            # concat data into single dataframe\n",
    "            dfTLFTDMTrips = pd.concat([dfTLFTDMTrips, dfRead], ignore_index=True)\n",
    "\n",
    "        if debug: display(dfTLFTDMTrips)\n",
    "\n",
    "        # create subtotals\n",
    "        dfTLFTDMTripsForSubtotals = pd.DataFrame.merge(dfTLFTDMTrips, dfTripPurpSubtotals, on=('TRIPPURP'))\n",
    "        dfTLFTDMTripsForSubtotals = dfTLFTDMTripsForSubtotals.groupby(['TLFTYPE','TRIPPURP_SUB','BIN'],as_index=False).agg(TRIPS=('TRIPS','sum'),COUNT=('TRIPS','size'))\n",
    "        dfTLFTDMTripsForSubtotals = dfTLFTDMTripsForSubtotals[['TLFTYPE','TRIPPURP_SUB','BIN','TRIPS']]\n",
    "        dfTLFTDMTripsForSubtotals = dfTLFTDMTripsForSubtotals.rename(columns={'TRIPPURP_SUB':'TRIPPURP'})\n",
    "        if debug: display (dfTLFTDMTripsForSubtotals)\n",
    "\n",
    "        # concat subtotals\n",
    "        dfTLFTDMTrips = pd.concat([dfTLFTDMTrips,dfTLFTDMTripsForSubtotals], ignore_index=True)\n",
    "        if debug: display(dfTLFTDMTrips)\n",
    "\n",
    "        # calculated collapsed bins\n",
    "        from math import floor\n",
    "        def round_to_binsize(x):\n",
    "            return int(binsize * floor(float(x)/binsize))\n",
    "        dfTLFTDMTrips['BIN_COLLAPSE'] = dfTLFTDMTrips['BIN'].apply(lambda x: round_to_binsize(x))\n",
    "        if debug: display(dfTLFTDMTrips)\n",
    "\n",
    "        # aggregate to collapsed bins\n",
    "        dfTLFTDMTrips = dfTLFTDMTrips.groupby(['TLFTYPE','TRIPPURP','BIN_COLLAPSE'], as_index=False).agg(TRIPS=('TRIPS','sum'))\n",
    "        dfTLFTDMTrips = dfTLFTDMTrips.rename(columns={'BIN_COLLAPSE':'BIN'})\n",
    "        if debug: display(dfTLFTDMTrips)\n",
    "\n",
    "        # calculate percent distribution\n",
    "        dfTLFTDMTripTotals = dfTLFTDMTrips.groupby(['TLFTYPE','TRIPPURP'], as_index=False).agg(TRIP_TOTAL=('TRIPS','sum'))\n",
    "        if debug: display(dfTLFTDMTripTotals)\n",
    "\n",
    "        # join to toals\n",
    "        dfTLFTDMTripDist = pd.DataFrame.merge(dfTLFTDMTrips, dfTLFTDMTripTotals, on=('TLFTYPE','TRIPPURP'))\n",
    "        dfTLFTDMTripDist['FREQ'] = dfTLFTDMTripDist['TRIPS'] / dfTLFTDMTripDist['TRIP_TOTAL']\n",
    "        if debug: display(dfTLFTDMTripDist)\n",
    "\n",
    "        dfTLF_TDM = dfTLFTDMTripDist[['TLFTYPE','TRIPPURP','BIN','FREQ']]\n",
    "        if debug: display(dfTLF_TDM)\n",
    "\n",
    "        # check to see if add up to 1.0\n",
    "        dfCheck = dfTLF_TDM.groupby(['TLFTYPE','TRIPPURP'], as_index=False).agg(FREQ_SUM=('FREQ','sum'))\n",
    "        # only display results out of range\n",
    "        display('Not adding to 1 (if empty dataset, YAY!!!):')\n",
    "        display(dfCheck[(dfCheck['FREQ_SUM']<0.9999999) | (dfCheck['FREQ_SUM']>1.0000001)])\n",
    "\n",
    "        dfTLF_TDM.to_csv(filename, index=False)\n",
    "\n",
    "    else:\n",
    "        display('Reading TLFs csv for ' + row['FF_CALIB_ROUND'])\n",
    "        dfTLF_TDM = pd.read_csv(filename)\n",
    "\n",
    "    #add calibration round back into table\n",
    "    dfTLF_TDM['FF_CALIB_ROUND'] = row['FF_CALIB_ROUND']\n",
    "\n",
    "    # append dataframe to array\n",
    "    dfsTLF_TDM.append(dfTLF_TDM)\n"
   ]
  },
  {
   "cell_type": "markdown",
   "metadata": {},
   "source": [
    "# Model vs Observed Plots"
   ]
  },
  {
   "cell_type": "markdown",
   "metadata": {},
   "source": [
    "Compare Average Trip Length Between Modeled and Observed Data"
   ]
  },
  {
   "cell_type": "code",
   "execution_count": 36,
   "metadata": {},
   "outputs": [
    {
     "name": "stderr",
     "output_type": "stream",
     "text": [
      "C:\\Users\\bhereth\\AppData\\Local\\Temp\\ipykernel_16148\\2064765655.py:6: FutureWarning:\n",
      "\n",
      "The frame.append method is deprecated and will be removed from pandas in a future version. Use pandas.concat instead.\n",
      "\n"
     ]
    },
    {
     "data": {
      "text/html": [
       "<div>\n",
       "<style scoped>\n",
       "    .dataframe tbody tr th:only-of-type {\n",
       "        vertical-align: middle;\n",
       "    }\n",
       "\n",
       "    .dataframe tbody tr th {\n",
       "        vertical-align: top;\n",
       "    }\n",
       "\n",
       "    .dataframe thead th {\n",
       "        text-align: right;\n",
       "    }\n",
       "</style>\n",
       "<table border=\"1\" class=\"dataframe\">\n",
       "  <thead>\n",
       "    <tr style=\"text-align: right;\">\n",
       "      <th></th>\n",
       "      <th>FF_CALIB_ROUND</th>\n",
       "      <th>TRIPPURP</th>\n",
       "      <th>TLFTYPE</th>\n",
       "      <th>FREQ_SUM</th>\n",
       "      <th>AVG_TRIP_LEN</th>\n",
       "    </tr>\n",
       "  </thead>\n",
       "  <tbody>\n",
       "    <tr>\n",
       "      <th>0</th>\n",
       "      <td>0-Initial from v832</td>\n",
       "      <td>HBO</td>\n",
       "      <td>Dist</td>\n",
       "      <td>1.0</td>\n",
       "      <td>3.85901090</td>\n",
       "    </tr>\n",
       "    <tr>\n",
       "      <th>1</th>\n",
       "      <td>0-Initial from v832</td>\n",
       "      <td>HBO</td>\n",
       "      <td>GC</td>\n",
       "      <td>1.0</td>\n",
       "      <td>16.79816741</td>\n",
       "    </tr>\n",
       "    <tr>\n",
       "      <th>2</th>\n",
       "      <td>0-Initial from v832</td>\n",
       "      <td>HBO</td>\n",
       "      <td>Time</td>\n",
       "      <td>1.0</td>\n",
       "      <td>10.66604000</td>\n",
       "    </tr>\n",
       "    <tr>\n",
       "      <th>3</th>\n",
       "      <td>0-Initial from v832</td>\n",
       "      <td>HBOth</td>\n",
       "      <td>Dist</td>\n",
       "      <td>1.0</td>\n",
       "      <td>4.02842825</td>\n",
       "    </tr>\n",
       "    <tr>\n",
       "      <th>4</th>\n",
       "      <td>0-Initial from v832</td>\n",
       "      <td>HBOth</td>\n",
       "      <td>GC</td>\n",
       "      <td>1.0</td>\n",
       "      <td>17.19945867</td>\n",
       "    </tr>\n",
       "    <tr>\n",
       "      <th>...</th>\n",
       "      <td>...</td>\n",
       "      <td>...</td>\n",
       "      <td>...</td>\n",
       "      <td>...</td>\n",
       "      <td>...</td>\n",
       "    </tr>\n",
       "    <tr>\n",
       "      <th>523</th>\n",
       "      <td>Observed</td>\n",
       "      <td>XI_HV</td>\n",
       "      <td>GC</td>\n",
       "      <td>1.0</td>\n",
       "      <td>162.17048320</td>\n",
       "    </tr>\n",
       "    <tr>\n",
       "      <th>524</th>\n",
       "      <td>Observed</td>\n",
       "      <td>XI_HV</td>\n",
       "      <td>Time</td>\n",
       "      <td>1.0</td>\n",
       "      <td>72.56099400</td>\n",
       "    </tr>\n",
       "    <tr>\n",
       "      <th>525</th>\n",
       "      <td>Observed</td>\n",
       "      <td>XI_MD</td>\n",
       "      <td>Dist</td>\n",
       "      <td>1.0</td>\n",
       "      <td>42.12514280</td>\n",
       "    </tr>\n",
       "    <tr>\n",
       "      <th>526</th>\n",
       "      <td>Observed</td>\n",
       "      <td>XI_MD</td>\n",
       "      <td>GC</td>\n",
       "      <td>1.0</td>\n",
       "      <td>99.29019360</td>\n",
       "    </tr>\n",
       "    <tr>\n",
       "      <th>527</th>\n",
       "      <td>Observed</td>\n",
       "      <td>XI_MD</td>\n",
       "      <td>Time</td>\n",
       "      <td>1.0</td>\n",
       "      <td>48.00736760</td>\n",
       "    </tr>\n",
       "  </tbody>\n",
       "</table>\n",
       "<p>528 rows × 5 columns</p>\n",
       "</div>"
      ],
      "text/plain": [
       "          FF_CALIB_ROUND TRIPPURP TLFTYPE  FREQ_SUM  AVG_TRIP_LEN\n",
       "0    0-Initial from v832      HBO    Dist       1.0    3.85901090\n",
       "1    0-Initial from v832      HBO      GC       1.0   16.79816741\n",
       "2    0-Initial from v832      HBO    Time       1.0   10.66604000\n",
       "3    0-Initial from v832    HBOth    Dist       1.0    4.02842825\n",
       "4    0-Initial from v832    HBOth      GC       1.0   17.19945867\n",
       "..                   ...      ...     ...       ...           ...\n",
       "523             Observed    XI_HV      GC       1.0  162.17048320\n",
       "524             Observed    XI_HV    Time       1.0   72.56099400\n",
       "525             Observed    XI_MD    Dist       1.0   42.12514280\n",
       "526             Observed    XI_MD      GC       1.0   99.29019360\n",
       "527             Observed    XI_MD    Time       1.0   48.00736760\n",
       "\n",
       "[528 rows x 5 columns]"
      ]
     },
     "metadata": {},
     "output_type": "display_data"
    }
   ],
   "source": [
    "dfTLF_Obs_N = dfTLF_Obs\n",
    "dfTLF_Obs_N['FF_CALIB_ROUND'] = 'Observed'\n",
    "dfTLF_Obs_N.rename(columns={'FREQ_Obs':'FREQ'},inplace=True) # temp fix\n",
    "\n",
    "#Merge together all Modeled data and Observed data\n",
    "dfObsModelMerge = (pd.concat(dfsTLF_TDM).append(dfTLF_Obs_N))   \n",
    "\n",
    "#CALCUATE TRIP LENGTH AVERAGES AS TABLE\n",
    "dfObsModelMerge['BINxFREQ'] = dfObsModelMerge['BIN'] * dfObsModelMerge['FREQ']\n",
    "dfObsModelMerge_Stats = (dfObsModelMerge\n",
    "    .groupby(['FF_CALIB_ROUND','TRIPPURP','TLFTYPE'],as_index=False)\n",
    "        .agg(FREQ_SUM=('FREQ','sum'),AVG_TRIP_LEN=('BINxFREQ','sum')))\n",
    "\n",
    "if debug: display(dfObsModelMerge_Stats)\n",
    "display(dfObsModelMerge_Stats)"
   ]
  },
  {
   "cell_type": "code",
   "execution_count": 21,
   "metadata": {},
   "outputs": [],
   "source": [
    "def update_df_mod_vs_obs(modeloption,tlfoption,trippurpoption):\n",
    "    modellist = list(modeloption)\n",
    "    \n",
    "    # setup custom coloring\n",
    "    colorlist = []\n",
    "    tablefillcolorlist = ['lightgrey','lightgrey'] # first two columns\n",
    "    for i in range(len(modellist)):\n",
    "        if i == (len(modellist) - 1):\n",
    "            colorlist.append('blue')\n",
    "            tablefillcolorlist.append('lavender')\n",
    "            # and next to last\n",
    "            tablefillcolorlist[-1] = 'lavender'\n",
    "        else:\n",
    "            colorlist.append('cornflowerblue')\n",
    "            tablefillcolorlist.append('lightgrey')\n",
    "    # append observed\n",
    "    modellist.append('Observed')\n",
    "    colorlist.append('red')\n",
    "    tablefillcolorlist.append('lavender')\n",
    "\n",
    "    dfObsModelMerge_Stats2 =(dfObsModelMerge_Stats\n",
    "        .loc[dfObsModelMerge_Stats['FF_CALIB_ROUND'].isin(modellist)])\n",
    "    dfObsModelMerge_Stats3 = (dfObsModelMerge_Stats2\n",
    "        .loc[dfObsModelMerge_Stats2['TLFTYPE'].isin(tlfoption)])\n",
    "    dfObsModelMerge_Stats4 = (dfObsModelMerge_Stats3\n",
    "        .loc[dfObsModelMerge_Stats3['TRIPPURP'].isin(trippurpoption)])\n",
    "\n",
    "    if len(modellist) > 2:\n",
    "        dfTLF_MvO_Wide2 = (dfObsModelMerge_Stats4\n",
    "            .pivot(index=['TRIPPURP','TLFTYPE'],columns=\"FF_CALIB_ROUND\",values=\"AVG_TRIP_LEN\")\n",
    "            .reset_index(['TRIPPURP','TLFTYPE'])\n",
    "            .assign(PercentDiff = lambda x: (x[modellist[len(modellist)-2]] - x['Observed'])/(x['Observed'])))\n",
    "    else:\n",
    "        dfTLF_MvO_Wide2 = (dfObsModelMerge_Stats4\n",
    "            .pivot(index=['TRIPPURP','TLFTYPE'],columns=\"FF_CALIB_ROUND\",values=\"AVG_TRIP_LEN\")\n",
    "            .reset_index(['TRIPPURP','TLFTYPE'])\n",
    "            .assign(PercentDiff = lambda x: (x[modellist[0]] - x['Observed'])/(x['Observed'])))\n",
    "\n",
    "    fig = go.Figure(data=[go.Table(\n",
    "                    header = dict(values=list(dfTLF_MvO_Wide2.columns),\n",
    "                                  fill_color='paleturquoise',\n",
    "                                  align='left'),\n",
    "                    cells =  dict(values=round(dfTLF_MvO_Wide2,2).transpose().values.tolist(),\n",
    "                                  fill_color=tablefillcolorlist,\n",
    "                                  align='left'))\n",
    "                    ])\n",
    "\n",
    "    figbar2 = px.bar(dfObsModelMerge_Stats4, \n",
    "                     x = 'TRIPPURP', \n",
    "                     y = 'AVG_TRIP_LEN', \n",
    "                     color = 'FF_CALIB_ROUND', \n",
    "                     barmode = 'group',\n",
    "                     color_discrete_sequence=colorlist\n",
    "                    )\n",
    "\n",
    "    figbar2.show()\n",
    "    py.offline.iplot(fig)  "
   ]
  },
  {
   "cell_type": "code",
   "execution_count": 22,
   "metadata": {},
   "outputs": [
    {
     "data": {
      "text/plain": [
       "['HBW',\n",
       " 'HBShp',\n",
       " 'HBOth',\n",
       " 'HBSchPr',\n",
       " 'HBSchSc',\n",
       " 'IX',\n",
       " 'XI',\n",
       " 'NHBW',\n",
       " 'NHBNW',\n",
       " 'MD',\n",
       " 'HV',\n",
       " 'IX_MD',\n",
       " 'IX_HV',\n",
       " 'XI_MD',\n",
       " 'XI_HV']"
      ]
     },
     "execution_count": 22,
     "metadata": {},
     "output_type": "execute_result"
    }
   ],
   "source": [
    "lstTripPurp"
   ]
  },
  {
   "cell_type": "code",
   "execution_count": 23,
   "metadata": {},
   "outputs": [
    {
     "data": {
      "text/html": [
       "        <script type=\"text/javascript\">\n",
       "        window.PlotlyConfig = {MathJaxConfig: 'local'};\n",
       "        if (window.MathJax && window.MathJax.Hub && window.MathJax.Hub.Config) {window.MathJax.Hub.Config({SVG: {font: \"STIX-Web\"}});}\n",
       "        if (typeof require !== 'undefined') {\n",
       "        require.undef(\"plotly\");\n",
       "        requirejs.config({\n",
       "            paths: {\n",
       "                'plotly': ['https://cdn.plot.ly/plotly-2.12.1.min']\n",
       "            }\n",
       "        });\n",
       "        require(['plotly'], function(Plotly) {\n",
       "            window._Plotly = Plotly;\n",
       "        });\n",
       "        }\n",
       "        </script>\n",
       "        "
      ]
     },
     "metadata": {},
     "output_type": "display_data"
    },
    {
     "data": {
      "application/vnd.jupyter.widget-view+json": {
       "model_id": "80afbca135634484823e9da2164e888d",
       "version_major": 2,
       "version_minor": 0
      },
      "text/plain": [
       "interactive(children=(SelectMultiple(description='Model Run', index=(0, 1, 2, 3, 4, 5, 6), options=('0-Initial…"
      ]
     },
     "metadata": {},
     "output_type": "display_data"
    },
    {
     "data": {
      "application/vnd.plotly.v1+json": {
       "config": {
        "plotlyServerURL": "https://plot.ly"
       },
       "data": [
        {
         "alignmentgroup": "True",
         "hovertemplate": "FF_CALIB_ROUND=0-Initial from v832<br>TRIPPURP=%{x}<br>AVG_TRIP_LEN=%{y}<extra></extra>",
         "legendgroup": "0-Initial from v832",
         "marker": {
          "color": "cornflowerblue",
          "pattern": {
           "shape": ""
          }
         },
         "name": "0-Initial from v832",
         "offsetgroup": "0-Initial from v832",
         "orientation": "v",
         "showlegend": true,
         "textposition": "auto",
         "type": "bar",
         "x": [
          "HBOth",
          "HBSchPr",
          "HBSchSc",
          "HBShp",
          "HBW",
          "HV",
          "IX",
          "IX_HV",
          "IX_MD",
          "MD",
          "NHBNW",
          "NHBW",
          "XI",
          "XI_HV",
          "XI_MD"
         ],
         "xaxis": "x",
         "y": [
          17.19945866803615,
          7.164557298096161,
          12.079778834037263,
          15.127555264802547,
          31.76710527648196,
          22.007762383008146,
          71.96268965183373,
          94.94134456977538,
          84.59982392050789,
          22.938852221066224,
          16.737683724346688,
          20.84829637286958,
          61.05466407267001,
          94.94134456977538,
          84.59982392050789
         ],
         "yaxis": "y"
        },
        {
         "alignmentgroup": "True",
         "hovertemplate": "FF_CALIB_ROUND=1-First<br>TRIPPURP=%{x}<br>AVG_TRIP_LEN=%{y}<extra></extra>",
         "legendgroup": "1-First",
         "marker": {
          "color": "cornflowerblue",
          "pattern": {
           "shape": ""
          }
         },
         "name": "1-First",
         "offsetgroup": "1-First",
         "orientation": "v",
         "showlegend": true,
         "textposition": "auto",
         "type": "bar",
         "x": [
          "HBOth",
          "HBSchPr",
          "HBSchSc",
          "HBShp",
          "HBW",
          "HV",
          "IX",
          "IX_HV",
          "IX_MD",
          "MD",
          "NHBNW",
          "NHBW",
          "XI",
          "XI_HV",
          "XI_MD"
         ],
         "xaxis": "x",
         "y": [
          16.319504329584195,
          7.539229842056663,
          11.67862619703994,
          14.739553987767652,
          34.12057225947045,
          62.35671406199214,
          69.85895607795793,
          82.60764365754255,
          64.04599634067459,
          56.12298150114918,
          16.194330806222546,
          21.296850183350333,
          66.95918722675198,
          82.60764365754255,
          64.04599634067459
         ],
         "yaxis": "y"
        },
        {
         "alignmentgroup": "True",
         "hovertemplate": "FF_CALIB_ROUND=2-no IXXI MH-HV changes<br>TRIPPURP=%{x}<br>AVG_TRIP_LEN=%{y}<extra></extra>",
         "legendgroup": "2-no IXXI MH-HV changes",
         "marker": {
          "color": "cornflowerblue",
          "pattern": {
           "shape": ""
          }
         },
         "name": "2-no IXXI MH-HV changes",
         "offsetgroup": "2-no IXXI MH-HV changes",
         "orientation": "v",
         "showlegend": true,
         "textposition": "auto",
         "type": "bar",
         "x": [
          "HBOth",
          "HBSchPr",
          "HBSchSc",
          "HBShp",
          "HBW",
          "HV",
          "IX",
          "IX_HV",
          "IX_MD",
          "MD",
          "NHBNW",
          "NHBW",
          "XI",
          "XI_HV",
          "XI_MD"
         ],
         "xaxis": "x",
         "y": [
          16.007042059095625,
          7.749886479757097,
          11.326035199480378,
          14.680813096145942,
          32.32147834467489,
          56.37720198180369,
          76.91873973474544,
          66.26603309696947,
          56.39909827294845,
          45.13800729894265,
          17.185999972059264,
          22.746290254959728,
          65.10519548091284,
          61.14790125292497,
          59.890535100786465
         ],
         "yaxis": "y"
        },
        {
         "alignmentgroup": "True",
         "hovertemplate": "FF_CALIB_ROUND=3-Third Time<br>TRIPPURP=%{x}<br>AVG_TRIP_LEN=%{y}<extra></extra>",
         "legendgroup": "3-Third Time",
         "marker": {
          "color": "cornflowerblue",
          "pattern": {
           "shape": ""
          }
         },
         "name": "3-Third Time",
         "offsetgroup": "3-Third Time",
         "orientation": "v",
         "showlegend": true,
         "textposition": "auto",
         "type": "bar",
         "x": [
          "HBOth",
          "HBSchPr",
          "HBSchSc",
          "HBShp",
          "HBW",
          "HV",
          "IX",
          "IX_HV",
          "IX_MD",
          "MD",
          "NHBNW",
          "NHBW",
          "XI",
          "XI_HV",
          "XI_MD"
         ],
         "xaxis": "x",
         "y": [
          16.226837207336715,
          7.731774682112262,
          11.331709595049588,
          14.838955727020831,
          31.83972213064907,
          50.56550813434087,
          80.64941195891312,
          135.46246751514235,
          110.02135510419902,
          42.41359444667104,
          17.361573725688267,
          22.94901409374263,
          69.61102537064345,
          139.1267443017307,
          128.32729532441957
         ],
         "yaxis": "y"
        },
        {
         "alignmentgroup": "True",
         "hovertemplate": "FF_CALIB_ROUND=4-Charm Time?<br>TRIPPURP=%{x}<br>AVG_TRIP_LEN=%{y}<extra></extra>",
         "legendgroup": "4-Charm Time?",
         "marker": {
          "color": "cornflowerblue",
          "pattern": {
           "shape": ""
          }
         },
         "name": "4-Charm Time?",
         "offsetgroup": "4-Charm Time?",
         "orientation": "v",
         "showlegend": true,
         "textposition": "auto",
         "type": "bar",
         "x": [
          "HBOth",
          "HBSchPr",
          "HBSchSc",
          "HBShp",
          "HBW",
          "HV",
          "IX",
          "IX_HV",
          "IX_MD",
          "MD",
          "NHBNW",
          "NHBW",
          "XI",
          "XI_HV",
          "XI_MD"
         ],
         "xaxis": "x",
         "y": [
          16.47268497144622,
          7.797163172092504,
          11.269018438812425,
          14.847204187258932,
          31.653135085963623,
          48.129143575391154,
          81.09575143263007,
          138.90342012677291,
          98.61619679035871,
          39.722149460720644,
          17.44062714580882,
          23.033903102244413,
          66.14357183447441,
          134.64339652778435,
          101.1362251707014
         ],
         "yaxis": "y"
        },
        {
         "alignmentgroup": "True",
         "hovertemplate": "FF_CALIB_ROUND=5-Final Fifth?<br>TRIPPURP=%{x}<br>AVG_TRIP_LEN=%{y}<extra></extra>",
         "legendgroup": "5-Final Fifth?",
         "marker": {
          "color": "cornflowerblue",
          "pattern": {
           "shape": ""
          }
         },
         "name": "5-Final Fifth?",
         "offsetgroup": "5-Final Fifth?",
         "orientation": "v",
         "showlegend": true,
         "textposition": "auto",
         "type": "bar",
         "x": [
          "HBOth",
          "HBSchPr",
          "HBSchSc",
          "HBShp",
          "HBW",
          "HV",
          "IX",
          "IX_HV",
          "IX_MD",
          "MD",
          "NHBNW",
          "NHBW",
          "XI",
          "XI_HV",
          "XI_MD"
         ],
         "xaxis": "x",
         "y": [
          16.572016316927275,
          8.067207913663848,
          11.31644694670207,
          14.910489040112886,
          31.60238187248585,
          46.86961318691686,
          83.06430435899973,
          129.5907396807439,
          95.17543111073967,
          36.502600844923855,
          17.61834472118903,
          23.278697895568392,
          68.40419711292974,
          139.4834518292877,
          100.31083119651653
         ],
         "yaxis": "y"
        },
        {
         "alignmentgroup": "True",
         "hovertemplate": "FF_CALIB_ROUND=6-Just IX-XI_HV<br>TRIPPURP=%{x}<br>AVG_TRIP_LEN=%{y}<extra></extra>",
         "legendgroup": "6-Just IX-XI_HV",
         "marker": {
          "color": "blue",
          "pattern": {
           "shape": ""
          }
         },
         "name": "6-Just IX-XI_HV",
         "offsetgroup": "6-Just IX-XI_HV",
         "orientation": "v",
         "showlegend": true,
         "textposition": "auto",
         "type": "bar",
         "x": [
          "HBOth",
          "HBSchPr",
          "HBSchSc",
          "HBShp",
          "HBW",
          "HV",
          "IX",
          "IX_HV",
          "IX_MD",
          "MD",
          "NHBNW",
          "NHBW",
          "XI",
          "XI_HV",
          "XI_MD"
         ],
         "xaxis": "x",
         "y": [
          16.568690542848575,
          8.331148920671186,
          11.328727287507002,
          14.952420698477388,
          31.04345897635583,
          45.435869949707644,
          83.68096970716361,
          132.15852750449076,
          91.52535770427262,
          32.953614723046634,
          17.72445348750586,
          23.337233730362314,
          68.73337961300683,
          133.42679333814866,
          97.33819097032399
         ],
         "yaxis": "y"
        },
        {
         "alignmentgroup": "True",
         "hovertemplate": "FF_CALIB_ROUND=Observed<br>TRIPPURP=%{x}<br>AVG_TRIP_LEN=%{y}<extra></extra>",
         "legendgroup": "Observed",
         "marker": {
          "color": "red",
          "pattern": {
           "shape": ""
          }
         },
         "name": "Observed",
         "offsetgroup": "Observed",
         "orientation": "v",
         "showlegend": true,
         "textposition": "auto",
         "type": "bar",
         "x": [
          "HBOth",
          "HBSchPr",
          "HBSchSc",
          "HBShp",
          "HBW",
          "HV",
          "IX",
          "IX_HV",
          "IX_MD",
          "MD",
          "NHBNW",
          "NHBW",
          "XI",
          "XI_HV",
          "XI_MD"
         ],
         "xaxis": "x",
         "y": [
          16.1863774,
          8.149783399999999,
          11.3329304,
          14.3307142,
          30.8287214,
          46.1877652,
          81.28004039999999,
          150.6659554,
          95.6560144,
          36.3511874,
          16.9488736,
          22.897688,
          68.7995292,
          162.1704832,
          99.2901936
         ],
         "yaxis": "y"
        }
       ],
       "layout": {
        "barmode": "group",
        "legend": {
         "title": {
          "text": "FF_CALIB_ROUND"
         },
         "tracegroupgap": 0
        },
        "margin": {
         "t": 60
        },
        "template": {
         "data": {
          "bar": [
           {
            "error_x": {
             "color": "#2a3f5f"
            },
            "error_y": {
             "color": "#2a3f5f"
            },
            "marker": {
             "line": {
              "color": "#E5ECF6",
              "width": 0.5
             },
             "pattern": {
              "fillmode": "overlay",
              "size": 10,
              "solidity": 0.2
             }
            },
            "type": "bar"
           }
          ],
          "barpolar": [
           {
            "marker": {
             "line": {
              "color": "#E5ECF6",
              "width": 0.5
             },
             "pattern": {
              "fillmode": "overlay",
              "size": 10,
              "solidity": 0.2
             }
            },
            "type": "barpolar"
           }
          ],
          "carpet": [
           {
            "aaxis": {
             "endlinecolor": "#2a3f5f",
             "gridcolor": "white",
             "linecolor": "white",
             "minorgridcolor": "white",
             "startlinecolor": "#2a3f5f"
            },
            "baxis": {
             "endlinecolor": "#2a3f5f",
             "gridcolor": "white",
             "linecolor": "white",
             "minorgridcolor": "white",
             "startlinecolor": "#2a3f5f"
            },
            "type": "carpet"
           }
          ],
          "choropleth": [
           {
            "colorbar": {
             "outlinewidth": 0,
             "ticks": ""
            },
            "type": "choropleth"
           }
          ],
          "contour": [
           {
            "colorbar": {
             "outlinewidth": 0,
             "ticks": ""
            },
            "colorscale": [
             [
              0,
              "#0d0887"
             ],
             [
              0.1111111111111111,
              "#46039f"
             ],
             [
              0.2222222222222222,
              "#7201a8"
             ],
             [
              0.3333333333333333,
              "#9c179e"
             ],
             [
              0.4444444444444444,
              "#bd3786"
             ],
             [
              0.5555555555555556,
              "#d8576b"
             ],
             [
              0.6666666666666666,
              "#ed7953"
             ],
             [
              0.7777777777777778,
              "#fb9f3a"
             ],
             [
              0.8888888888888888,
              "#fdca26"
             ],
             [
              1,
              "#f0f921"
             ]
            ],
            "type": "contour"
           }
          ],
          "contourcarpet": [
           {
            "colorbar": {
             "outlinewidth": 0,
             "ticks": ""
            },
            "type": "contourcarpet"
           }
          ],
          "heatmap": [
           {
            "colorbar": {
             "outlinewidth": 0,
             "ticks": ""
            },
            "colorscale": [
             [
              0,
              "#0d0887"
             ],
             [
              0.1111111111111111,
              "#46039f"
             ],
             [
              0.2222222222222222,
              "#7201a8"
             ],
             [
              0.3333333333333333,
              "#9c179e"
             ],
             [
              0.4444444444444444,
              "#bd3786"
             ],
             [
              0.5555555555555556,
              "#d8576b"
             ],
             [
              0.6666666666666666,
              "#ed7953"
             ],
             [
              0.7777777777777778,
              "#fb9f3a"
             ],
             [
              0.8888888888888888,
              "#fdca26"
             ],
             [
              1,
              "#f0f921"
             ]
            ],
            "type": "heatmap"
           }
          ],
          "heatmapgl": [
           {
            "colorbar": {
             "outlinewidth": 0,
             "ticks": ""
            },
            "colorscale": [
             [
              0,
              "#0d0887"
             ],
             [
              0.1111111111111111,
              "#46039f"
             ],
             [
              0.2222222222222222,
              "#7201a8"
             ],
             [
              0.3333333333333333,
              "#9c179e"
             ],
             [
              0.4444444444444444,
              "#bd3786"
             ],
             [
              0.5555555555555556,
              "#d8576b"
             ],
             [
              0.6666666666666666,
              "#ed7953"
             ],
             [
              0.7777777777777778,
              "#fb9f3a"
             ],
             [
              0.8888888888888888,
              "#fdca26"
             ],
             [
              1,
              "#f0f921"
             ]
            ],
            "type": "heatmapgl"
           }
          ],
          "histogram": [
           {
            "marker": {
             "pattern": {
              "fillmode": "overlay",
              "size": 10,
              "solidity": 0.2
             }
            },
            "type": "histogram"
           }
          ],
          "histogram2d": [
           {
            "colorbar": {
             "outlinewidth": 0,
             "ticks": ""
            },
            "colorscale": [
             [
              0,
              "#0d0887"
             ],
             [
              0.1111111111111111,
              "#46039f"
             ],
             [
              0.2222222222222222,
              "#7201a8"
             ],
             [
              0.3333333333333333,
              "#9c179e"
             ],
             [
              0.4444444444444444,
              "#bd3786"
             ],
             [
              0.5555555555555556,
              "#d8576b"
             ],
             [
              0.6666666666666666,
              "#ed7953"
             ],
             [
              0.7777777777777778,
              "#fb9f3a"
             ],
             [
              0.8888888888888888,
              "#fdca26"
             ],
             [
              1,
              "#f0f921"
             ]
            ],
            "type": "histogram2d"
           }
          ],
          "histogram2dcontour": [
           {
            "colorbar": {
             "outlinewidth": 0,
             "ticks": ""
            },
            "colorscale": [
             [
              0,
              "#0d0887"
             ],
             [
              0.1111111111111111,
              "#46039f"
             ],
             [
              0.2222222222222222,
              "#7201a8"
             ],
             [
              0.3333333333333333,
              "#9c179e"
             ],
             [
              0.4444444444444444,
              "#bd3786"
             ],
             [
              0.5555555555555556,
              "#d8576b"
             ],
             [
              0.6666666666666666,
              "#ed7953"
             ],
             [
              0.7777777777777778,
              "#fb9f3a"
             ],
             [
              0.8888888888888888,
              "#fdca26"
             ],
             [
              1,
              "#f0f921"
             ]
            ],
            "type": "histogram2dcontour"
           }
          ],
          "mesh3d": [
           {
            "colorbar": {
             "outlinewidth": 0,
             "ticks": ""
            },
            "type": "mesh3d"
           }
          ],
          "parcoords": [
           {
            "line": {
             "colorbar": {
              "outlinewidth": 0,
              "ticks": ""
             }
            },
            "type": "parcoords"
           }
          ],
          "pie": [
           {
            "automargin": true,
            "type": "pie"
           }
          ],
          "scatter": [
           {
            "fillpattern": {
             "fillmode": "overlay",
             "size": 10,
             "solidity": 0.2
            },
            "type": "scatter"
           }
          ],
          "scatter3d": [
           {
            "line": {
             "colorbar": {
              "outlinewidth": 0,
              "ticks": ""
             }
            },
            "marker": {
             "colorbar": {
              "outlinewidth": 0,
              "ticks": ""
             }
            },
            "type": "scatter3d"
           }
          ],
          "scattercarpet": [
           {
            "marker": {
             "colorbar": {
              "outlinewidth": 0,
              "ticks": ""
             }
            },
            "type": "scattercarpet"
           }
          ],
          "scattergeo": [
           {
            "marker": {
             "colorbar": {
              "outlinewidth": 0,
              "ticks": ""
             }
            },
            "type": "scattergeo"
           }
          ],
          "scattergl": [
           {
            "marker": {
             "colorbar": {
              "outlinewidth": 0,
              "ticks": ""
             }
            },
            "type": "scattergl"
           }
          ],
          "scattermapbox": [
           {
            "marker": {
             "colorbar": {
              "outlinewidth": 0,
              "ticks": ""
             }
            },
            "type": "scattermapbox"
           }
          ],
          "scatterpolar": [
           {
            "marker": {
             "colorbar": {
              "outlinewidth": 0,
              "ticks": ""
             }
            },
            "type": "scatterpolar"
           }
          ],
          "scatterpolargl": [
           {
            "marker": {
             "colorbar": {
              "outlinewidth": 0,
              "ticks": ""
             }
            },
            "type": "scatterpolargl"
           }
          ],
          "scatterternary": [
           {
            "marker": {
             "colorbar": {
              "outlinewidth": 0,
              "ticks": ""
             }
            },
            "type": "scatterternary"
           }
          ],
          "surface": [
           {
            "colorbar": {
             "outlinewidth": 0,
             "ticks": ""
            },
            "colorscale": [
             [
              0,
              "#0d0887"
             ],
             [
              0.1111111111111111,
              "#46039f"
             ],
             [
              0.2222222222222222,
              "#7201a8"
             ],
             [
              0.3333333333333333,
              "#9c179e"
             ],
             [
              0.4444444444444444,
              "#bd3786"
             ],
             [
              0.5555555555555556,
              "#d8576b"
             ],
             [
              0.6666666666666666,
              "#ed7953"
             ],
             [
              0.7777777777777778,
              "#fb9f3a"
             ],
             [
              0.8888888888888888,
              "#fdca26"
             ],
             [
              1,
              "#f0f921"
             ]
            ],
            "type": "surface"
           }
          ],
          "table": [
           {
            "cells": {
             "fill": {
              "color": "#EBF0F8"
             },
             "line": {
              "color": "white"
             }
            },
            "header": {
             "fill": {
              "color": "#C8D4E3"
             },
             "line": {
              "color": "white"
             }
            },
            "type": "table"
           }
          ]
         },
         "layout": {
          "annotationdefaults": {
           "arrowcolor": "#2a3f5f",
           "arrowhead": 0,
           "arrowwidth": 1
          },
          "autotypenumbers": "strict",
          "coloraxis": {
           "colorbar": {
            "outlinewidth": 0,
            "ticks": ""
           }
          },
          "colorscale": {
           "diverging": [
            [
             0,
             "#8e0152"
            ],
            [
             0.1,
             "#c51b7d"
            ],
            [
             0.2,
             "#de77ae"
            ],
            [
             0.3,
             "#f1b6da"
            ],
            [
             0.4,
             "#fde0ef"
            ],
            [
             0.5,
             "#f7f7f7"
            ],
            [
             0.6,
             "#e6f5d0"
            ],
            [
             0.7,
             "#b8e186"
            ],
            [
             0.8,
             "#7fbc41"
            ],
            [
             0.9,
             "#4d9221"
            ],
            [
             1,
             "#276419"
            ]
           ],
           "sequential": [
            [
             0,
             "#0d0887"
            ],
            [
             0.1111111111111111,
             "#46039f"
            ],
            [
             0.2222222222222222,
             "#7201a8"
            ],
            [
             0.3333333333333333,
             "#9c179e"
            ],
            [
             0.4444444444444444,
             "#bd3786"
            ],
            [
             0.5555555555555556,
             "#d8576b"
            ],
            [
             0.6666666666666666,
             "#ed7953"
            ],
            [
             0.7777777777777778,
             "#fb9f3a"
            ],
            [
             0.8888888888888888,
             "#fdca26"
            ],
            [
             1,
             "#f0f921"
            ]
           ],
           "sequentialminus": [
            [
             0,
             "#0d0887"
            ],
            [
             0.1111111111111111,
             "#46039f"
            ],
            [
             0.2222222222222222,
             "#7201a8"
            ],
            [
             0.3333333333333333,
             "#9c179e"
            ],
            [
             0.4444444444444444,
             "#bd3786"
            ],
            [
             0.5555555555555556,
             "#d8576b"
            ],
            [
             0.6666666666666666,
             "#ed7953"
            ],
            [
             0.7777777777777778,
             "#fb9f3a"
            ],
            [
             0.8888888888888888,
             "#fdca26"
            ],
            [
             1,
             "#f0f921"
            ]
           ]
          },
          "colorway": [
           "#636efa",
           "#EF553B",
           "#00cc96",
           "#ab63fa",
           "#FFA15A",
           "#19d3f3",
           "#FF6692",
           "#B6E880",
           "#FF97FF",
           "#FECB52"
          ],
          "font": {
           "color": "#2a3f5f"
          },
          "geo": {
           "bgcolor": "white",
           "lakecolor": "white",
           "landcolor": "#E5ECF6",
           "showlakes": true,
           "showland": true,
           "subunitcolor": "white"
          },
          "hoverlabel": {
           "align": "left"
          },
          "hovermode": "closest",
          "mapbox": {
           "style": "light"
          },
          "paper_bgcolor": "white",
          "plot_bgcolor": "#E5ECF6",
          "polar": {
           "angularaxis": {
            "gridcolor": "white",
            "linecolor": "white",
            "ticks": ""
           },
           "bgcolor": "#E5ECF6",
           "radialaxis": {
            "gridcolor": "white",
            "linecolor": "white",
            "ticks": ""
           }
          },
          "scene": {
           "xaxis": {
            "backgroundcolor": "#E5ECF6",
            "gridcolor": "white",
            "gridwidth": 2,
            "linecolor": "white",
            "showbackground": true,
            "ticks": "",
            "zerolinecolor": "white"
           },
           "yaxis": {
            "backgroundcolor": "#E5ECF6",
            "gridcolor": "white",
            "gridwidth": 2,
            "linecolor": "white",
            "showbackground": true,
            "ticks": "",
            "zerolinecolor": "white"
           },
           "zaxis": {
            "backgroundcolor": "#E5ECF6",
            "gridcolor": "white",
            "gridwidth": 2,
            "linecolor": "white",
            "showbackground": true,
            "ticks": "",
            "zerolinecolor": "white"
           }
          },
          "shapedefaults": {
           "line": {
            "color": "#2a3f5f"
           }
          },
          "ternary": {
           "aaxis": {
            "gridcolor": "white",
            "linecolor": "white",
            "ticks": ""
           },
           "baxis": {
            "gridcolor": "white",
            "linecolor": "white",
            "ticks": ""
           },
           "bgcolor": "#E5ECF6",
           "caxis": {
            "gridcolor": "white",
            "linecolor": "white",
            "ticks": ""
           }
          },
          "title": {
           "x": 0.05
          },
          "xaxis": {
           "automargin": true,
           "gridcolor": "white",
           "linecolor": "white",
           "ticks": "",
           "title": {
            "standoff": 15
           },
           "zerolinecolor": "white",
           "zerolinewidth": 2
          },
          "yaxis": {
           "automargin": true,
           "gridcolor": "white",
           "linecolor": "white",
           "ticks": "",
           "title": {
            "standoff": 15
           },
           "zerolinecolor": "white",
           "zerolinewidth": 2
          }
         }
        },
        "xaxis": {
         "anchor": "y",
         "domain": [
          0,
          1
         ],
         "title": {
          "text": "TRIPPURP"
         }
        },
        "yaxis": {
         "anchor": "x",
         "domain": [
          0,
          1
         ],
         "title": {
          "text": "AVG_TRIP_LEN"
         }
        }
       }
      },
      "text/html": [
       "<div>                            <div id=\"43579042-e305-4287-afd1-a6f4404be80f\" class=\"plotly-graph-div\" style=\"height:525px; width:100%;\"></div>            <script type=\"text/javascript\">                require([\"plotly\"], function(Plotly) {                    window.PLOTLYENV=window.PLOTLYENV || {};                                    if (document.getElementById(\"43579042-e305-4287-afd1-a6f4404be80f\")) {                    Plotly.newPlot(                        \"43579042-e305-4287-afd1-a6f4404be80f\",                        [{\"alignmentgroup\":\"True\",\"hovertemplate\":\"FF_CALIB_ROUND=0-Initial from v832<br>TRIPPURP=%{x}<br>AVG_TRIP_LEN=%{y}<extra></extra>\",\"legendgroup\":\"0-Initial from v832\",\"marker\":{\"color\":\"cornflowerblue\",\"pattern\":{\"shape\":\"\"}},\"name\":\"0-Initial from v832\",\"offsetgroup\":\"0-Initial from v832\",\"orientation\":\"v\",\"showlegend\":true,\"textposition\":\"auto\",\"x\":[\"HBOth\",\"HBSchPr\",\"HBSchSc\",\"HBShp\",\"HBW\",\"HV\",\"IX\",\"IX_HV\",\"IX_MD\",\"MD\",\"NHBNW\",\"NHBW\",\"XI\",\"XI_HV\",\"XI_MD\"],\"xaxis\":\"x\",\"y\":[17.19945866803615,7.164557298096161,12.079778834037263,15.127555264802547,31.76710527648196,22.007762383008146,71.96268965183373,94.94134456977538,84.59982392050789,22.938852221066224,16.737683724346688,20.84829637286958,61.05466407267001,94.94134456977538,84.59982392050789],\"yaxis\":\"y\",\"type\":\"bar\"},{\"alignmentgroup\":\"True\",\"hovertemplate\":\"FF_CALIB_ROUND=1-First<br>TRIPPURP=%{x}<br>AVG_TRIP_LEN=%{y}<extra></extra>\",\"legendgroup\":\"1-First\",\"marker\":{\"color\":\"cornflowerblue\",\"pattern\":{\"shape\":\"\"}},\"name\":\"1-First\",\"offsetgroup\":\"1-First\",\"orientation\":\"v\",\"showlegend\":true,\"textposition\":\"auto\",\"x\":[\"HBOth\",\"HBSchPr\",\"HBSchSc\",\"HBShp\",\"HBW\",\"HV\",\"IX\",\"IX_HV\",\"IX_MD\",\"MD\",\"NHBNW\",\"NHBW\",\"XI\",\"XI_HV\",\"XI_MD\"],\"xaxis\":\"x\",\"y\":[16.319504329584195,7.539229842056663,11.67862619703994,14.739553987767652,34.12057225947045,62.35671406199214,69.85895607795793,82.60764365754255,64.04599634067459,56.12298150114918,16.194330806222546,21.296850183350333,66.95918722675198,82.60764365754255,64.04599634067459],\"yaxis\":\"y\",\"type\":\"bar\"},{\"alignmentgroup\":\"True\",\"hovertemplate\":\"FF_CALIB_ROUND=2-no IXXI MH-HV changes<br>TRIPPURP=%{x}<br>AVG_TRIP_LEN=%{y}<extra></extra>\",\"legendgroup\":\"2-no IXXI MH-HV changes\",\"marker\":{\"color\":\"cornflowerblue\",\"pattern\":{\"shape\":\"\"}},\"name\":\"2-no IXXI MH-HV changes\",\"offsetgroup\":\"2-no IXXI MH-HV changes\",\"orientation\":\"v\",\"showlegend\":true,\"textposition\":\"auto\",\"x\":[\"HBOth\",\"HBSchPr\",\"HBSchSc\",\"HBShp\",\"HBW\",\"HV\",\"IX\",\"IX_HV\",\"IX_MD\",\"MD\",\"NHBNW\",\"NHBW\",\"XI\",\"XI_HV\",\"XI_MD\"],\"xaxis\":\"x\",\"y\":[16.007042059095625,7.749886479757097,11.326035199480378,14.680813096145942,32.32147834467489,56.37720198180369,76.91873973474544,66.26603309696947,56.39909827294845,45.13800729894265,17.185999972059264,22.746290254959728,65.10519548091284,61.14790125292497,59.890535100786465],\"yaxis\":\"y\",\"type\":\"bar\"},{\"alignmentgroup\":\"True\",\"hovertemplate\":\"FF_CALIB_ROUND=3-Third Time<br>TRIPPURP=%{x}<br>AVG_TRIP_LEN=%{y}<extra></extra>\",\"legendgroup\":\"3-Third Time\",\"marker\":{\"color\":\"cornflowerblue\",\"pattern\":{\"shape\":\"\"}},\"name\":\"3-Third Time\",\"offsetgroup\":\"3-Third Time\",\"orientation\":\"v\",\"showlegend\":true,\"textposition\":\"auto\",\"x\":[\"HBOth\",\"HBSchPr\",\"HBSchSc\",\"HBShp\",\"HBW\",\"HV\",\"IX\",\"IX_HV\",\"IX_MD\",\"MD\",\"NHBNW\",\"NHBW\",\"XI\",\"XI_HV\",\"XI_MD\"],\"xaxis\":\"x\",\"y\":[16.226837207336715,7.731774682112262,11.331709595049588,14.838955727020831,31.83972213064907,50.56550813434087,80.64941195891312,135.46246751514235,110.02135510419902,42.41359444667104,17.361573725688267,22.94901409374263,69.61102537064345,139.1267443017307,128.32729532441957],\"yaxis\":\"y\",\"type\":\"bar\"},{\"alignmentgroup\":\"True\",\"hovertemplate\":\"FF_CALIB_ROUND=4-Charm Time?<br>TRIPPURP=%{x}<br>AVG_TRIP_LEN=%{y}<extra></extra>\",\"legendgroup\":\"4-Charm Time?\",\"marker\":{\"color\":\"cornflowerblue\",\"pattern\":{\"shape\":\"\"}},\"name\":\"4-Charm Time?\",\"offsetgroup\":\"4-Charm Time?\",\"orientation\":\"v\",\"showlegend\":true,\"textposition\":\"auto\",\"x\":[\"HBOth\",\"HBSchPr\",\"HBSchSc\",\"HBShp\",\"HBW\",\"HV\",\"IX\",\"IX_HV\",\"IX_MD\",\"MD\",\"NHBNW\",\"NHBW\",\"XI\",\"XI_HV\",\"XI_MD\"],\"xaxis\":\"x\",\"y\":[16.47268497144622,7.797163172092504,11.269018438812425,14.847204187258932,31.653135085963623,48.129143575391154,81.09575143263007,138.90342012677291,98.61619679035871,39.722149460720644,17.44062714580882,23.033903102244413,66.14357183447441,134.64339652778435,101.1362251707014],\"yaxis\":\"y\",\"type\":\"bar\"},{\"alignmentgroup\":\"True\",\"hovertemplate\":\"FF_CALIB_ROUND=5-Final Fifth?<br>TRIPPURP=%{x}<br>AVG_TRIP_LEN=%{y}<extra></extra>\",\"legendgroup\":\"5-Final Fifth?\",\"marker\":{\"color\":\"cornflowerblue\",\"pattern\":{\"shape\":\"\"}},\"name\":\"5-Final Fifth?\",\"offsetgroup\":\"5-Final Fifth?\",\"orientation\":\"v\",\"showlegend\":true,\"textposition\":\"auto\",\"x\":[\"HBOth\",\"HBSchPr\",\"HBSchSc\",\"HBShp\",\"HBW\",\"HV\",\"IX\",\"IX_HV\",\"IX_MD\",\"MD\",\"NHBNW\",\"NHBW\",\"XI\",\"XI_HV\",\"XI_MD\"],\"xaxis\":\"x\",\"y\":[16.572016316927275,8.067207913663848,11.31644694670207,14.910489040112886,31.60238187248585,46.86961318691686,83.06430435899973,129.5907396807439,95.17543111073967,36.502600844923855,17.61834472118903,23.278697895568392,68.40419711292974,139.4834518292877,100.31083119651653],\"yaxis\":\"y\",\"type\":\"bar\"},{\"alignmentgroup\":\"True\",\"hovertemplate\":\"FF_CALIB_ROUND=6-Just IX-XI_HV<br>TRIPPURP=%{x}<br>AVG_TRIP_LEN=%{y}<extra></extra>\",\"legendgroup\":\"6-Just IX-XI_HV\",\"marker\":{\"color\":\"blue\",\"pattern\":{\"shape\":\"\"}},\"name\":\"6-Just IX-XI_HV\",\"offsetgroup\":\"6-Just IX-XI_HV\",\"orientation\":\"v\",\"showlegend\":true,\"textposition\":\"auto\",\"x\":[\"HBOth\",\"HBSchPr\",\"HBSchSc\",\"HBShp\",\"HBW\",\"HV\",\"IX\",\"IX_HV\",\"IX_MD\",\"MD\",\"NHBNW\",\"NHBW\",\"XI\",\"XI_HV\",\"XI_MD\"],\"xaxis\":\"x\",\"y\":[16.568690542848575,8.331148920671186,11.328727287507002,14.952420698477388,31.04345897635583,45.435869949707644,83.68096970716361,132.15852750449076,91.52535770427262,32.953614723046634,17.72445348750586,23.337233730362314,68.73337961300683,133.42679333814866,97.33819097032399],\"yaxis\":\"y\",\"type\":\"bar\"},{\"alignmentgroup\":\"True\",\"hovertemplate\":\"FF_CALIB_ROUND=Observed<br>TRIPPURP=%{x}<br>AVG_TRIP_LEN=%{y}<extra></extra>\",\"legendgroup\":\"Observed\",\"marker\":{\"color\":\"red\",\"pattern\":{\"shape\":\"\"}},\"name\":\"Observed\",\"offsetgroup\":\"Observed\",\"orientation\":\"v\",\"showlegend\":true,\"textposition\":\"auto\",\"x\":[\"HBOth\",\"HBSchPr\",\"HBSchSc\",\"HBShp\",\"HBW\",\"HV\",\"IX\",\"IX_HV\",\"IX_MD\",\"MD\",\"NHBNW\",\"NHBW\",\"XI\",\"XI_HV\",\"XI_MD\"],\"xaxis\":\"x\",\"y\":[16.1863774,8.149783399999999,11.3329304,14.3307142,30.8287214,46.1877652,81.28004039999999,150.6659554,95.6560144,36.3511874,16.9488736,22.897688,68.7995292,162.1704832,99.2901936],\"yaxis\":\"y\",\"type\":\"bar\"}],                        {\"template\":{\"data\":{\"histogram2dcontour\":[{\"type\":\"histogram2dcontour\",\"colorbar\":{\"outlinewidth\":0,\"ticks\":\"\"},\"colorscale\":[[0.0,\"#0d0887\"],[0.1111111111111111,\"#46039f\"],[0.2222222222222222,\"#7201a8\"],[0.3333333333333333,\"#9c179e\"],[0.4444444444444444,\"#bd3786\"],[0.5555555555555556,\"#d8576b\"],[0.6666666666666666,\"#ed7953\"],[0.7777777777777778,\"#fb9f3a\"],[0.8888888888888888,\"#fdca26\"],[1.0,\"#f0f921\"]]}],\"choropleth\":[{\"type\":\"choropleth\",\"colorbar\":{\"outlinewidth\":0,\"ticks\":\"\"}}],\"histogram2d\":[{\"type\":\"histogram2d\",\"colorbar\":{\"outlinewidth\":0,\"ticks\":\"\"},\"colorscale\":[[0.0,\"#0d0887\"],[0.1111111111111111,\"#46039f\"],[0.2222222222222222,\"#7201a8\"],[0.3333333333333333,\"#9c179e\"],[0.4444444444444444,\"#bd3786\"],[0.5555555555555556,\"#d8576b\"],[0.6666666666666666,\"#ed7953\"],[0.7777777777777778,\"#fb9f3a\"],[0.8888888888888888,\"#fdca26\"],[1.0,\"#f0f921\"]]}],\"heatmap\":[{\"type\":\"heatmap\",\"colorbar\":{\"outlinewidth\":0,\"ticks\":\"\"},\"colorscale\":[[0.0,\"#0d0887\"],[0.1111111111111111,\"#46039f\"],[0.2222222222222222,\"#7201a8\"],[0.3333333333333333,\"#9c179e\"],[0.4444444444444444,\"#bd3786\"],[0.5555555555555556,\"#d8576b\"],[0.6666666666666666,\"#ed7953\"],[0.7777777777777778,\"#fb9f3a\"],[0.8888888888888888,\"#fdca26\"],[1.0,\"#f0f921\"]]}],\"heatmapgl\":[{\"type\":\"heatmapgl\",\"colorbar\":{\"outlinewidth\":0,\"ticks\":\"\"},\"colorscale\":[[0.0,\"#0d0887\"],[0.1111111111111111,\"#46039f\"],[0.2222222222222222,\"#7201a8\"],[0.3333333333333333,\"#9c179e\"],[0.4444444444444444,\"#bd3786\"],[0.5555555555555556,\"#d8576b\"],[0.6666666666666666,\"#ed7953\"],[0.7777777777777778,\"#fb9f3a\"],[0.8888888888888888,\"#fdca26\"],[1.0,\"#f0f921\"]]}],\"contourcarpet\":[{\"type\":\"contourcarpet\",\"colorbar\":{\"outlinewidth\":0,\"ticks\":\"\"}}],\"contour\":[{\"type\":\"contour\",\"colorbar\":{\"outlinewidth\":0,\"ticks\":\"\"},\"colorscale\":[[0.0,\"#0d0887\"],[0.1111111111111111,\"#46039f\"],[0.2222222222222222,\"#7201a8\"],[0.3333333333333333,\"#9c179e\"],[0.4444444444444444,\"#bd3786\"],[0.5555555555555556,\"#d8576b\"],[0.6666666666666666,\"#ed7953\"],[0.7777777777777778,\"#fb9f3a\"],[0.8888888888888888,\"#fdca26\"],[1.0,\"#f0f921\"]]}],\"surface\":[{\"type\":\"surface\",\"colorbar\":{\"outlinewidth\":0,\"ticks\":\"\"},\"colorscale\":[[0.0,\"#0d0887\"],[0.1111111111111111,\"#46039f\"],[0.2222222222222222,\"#7201a8\"],[0.3333333333333333,\"#9c179e\"],[0.4444444444444444,\"#bd3786\"],[0.5555555555555556,\"#d8576b\"],[0.6666666666666666,\"#ed7953\"],[0.7777777777777778,\"#fb9f3a\"],[0.8888888888888888,\"#fdca26\"],[1.0,\"#f0f921\"]]}],\"mesh3d\":[{\"type\":\"mesh3d\",\"colorbar\":{\"outlinewidth\":0,\"ticks\":\"\"}}],\"scatter\":[{\"fillpattern\":{\"fillmode\":\"overlay\",\"size\":10,\"solidity\":0.2},\"type\":\"scatter\"}],\"parcoords\":[{\"type\":\"parcoords\",\"line\":{\"colorbar\":{\"outlinewidth\":0,\"ticks\":\"\"}}}],\"scatterpolargl\":[{\"type\":\"scatterpolargl\",\"marker\":{\"colorbar\":{\"outlinewidth\":0,\"ticks\":\"\"}}}],\"bar\":[{\"error_x\":{\"color\":\"#2a3f5f\"},\"error_y\":{\"color\":\"#2a3f5f\"},\"marker\":{\"line\":{\"color\":\"#E5ECF6\",\"width\":0.5},\"pattern\":{\"fillmode\":\"overlay\",\"size\":10,\"solidity\":0.2}},\"type\":\"bar\"}],\"scattergeo\":[{\"type\":\"scattergeo\",\"marker\":{\"colorbar\":{\"outlinewidth\":0,\"ticks\":\"\"}}}],\"scatterpolar\":[{\"type\":\"scatterpolar\",\"marker\":{\"colorbar\":{\"outlinewidth\":0,\"ticks\":\"\"}}}],\"histogram\":[{\"marker\":{\"pattern\":{\"fillmode\":\"overlay\",\"size\":10,\"solidity\":0.2}},\"type\":\"histogram\"}],\"scattergl\":[{\"type\":\"scattergl\",\"marker\":{\"colorbar\":{\"outlinewidth\":0,\"ticks\":\"\"}}}],\"scatter3d\":[{\"type\":\"scatter3d\",\"line\":{\"colorbar\":{\"outlinewidth\":0,\"ticks\":\"\"}},\"marker\":{\"colorbar\":{\"outlinewidth\":0,\"ticks\":\"\"}}}],\"scattermapbox\":[{\"type\":\"scattermapbox\",\"marker\":{\"colorbar\":{\"outlinewidth\":0,\"ticks\":\"\"}}}],\"scatterternary\":[{\"type\":\"scatterternary\",\"marker\":{\"colorbar\":{\"outlinewidth\":0,\"ticks\":\"\"}}}],\"scattercarpet\":[{\"type\":\"scattercarpet\",\"marker\":{\"colorbar\":{\"outlinewidth\":0,\"ticks\":\"\"}}}],\"carpet\":[{\"aaxis\":{\"endlinecolor\":\"#2a3f5f\",\"gridcolor\":\"white\",\"linecolor\":\"white\",\"minorgridcolor\":\"white\",\"startlinecolor\":\"#2a3f5f\"},\"baxis\":{\"endlinecolor\":\"#2a3f5f\",\"gridcolor\":\"white\",\"linecolor\":\"white\",\"minorgridcolor\":\"white\",\"startlinecolor\":\"#2a3f5f\"},\"type\":\"carpet\"}],\"table\":[{\"cells\":{\"fill\":{\"color\":\"#EBF0F8\"},\"line\":{\"color\":\"white\"}},\"header\":{\"fill\":{\"color\":\"#C8D4E3\"},\"line\":{\"color\":\"white\"}},\"type\":\"table\"}],\"barpolar\":[{\"marker\":{\"line\":{\"color\":\"#E5ECF6\",\"width\":0.5},\"pattern\":{\"fillmode\":\"overlay\",\"size\":10,\"solidity\":0.2}},\"type\":\"barpolar\"}],\"pie\":[{\"automargin\":true,\"type\":\"pie\"}]},\"layout\":{\"autotypenumbers\":\"strict\",\"colorway\":[\"#636efa\",\"#EF553B\",\"#00cc96\",\"#ab63fa\",\"#FFA15A\",\"#19d3f3\",\"#FF6692\",\"#B6E880\",\"#FF97FF\",\"#FECB52\"],\"font\":{\"color\":\"#2a3f5f\"},\"hovermode\":\"closest\",\"hoverlabel\":{\"align\":\"left\"},\"paper_bgcolor\":\"white\",\"plot_bgcolor\":\"#E5ECF6\",\"polar\":{\"bgcolor\":\"#E5ECF6\",\"angularaxis\":{\"gridcolor\":\"white\",\"linecolor\":\"white\",\"ticks\":\"\"},\"radialaxis\":{\"gridcolor\":\"white\",\"linecolor\":\"white\",\"ticks\":\"\"}},\"ternary\":{\"bgcolor\":\"#E5ECF6\",\"aaxis\":{\"gridcolor\":\"white\",\"linecolor\":\"white\",\"ticks\":\"\"},\"baxis\":{\"gridcolor\":\"white\",\"linecolor\":\"white\",\"ticks\":\"\"},\"caxis\":{\"gridcolor\":\"white\",\"linecolor\":\"white\",\"ticks\":\"\"}},\"coloraxis\":{\"colorbar\":{\"outlinewidth\":0,\"ticks\":\"\"}},\"colorscale\":{\"sequential\":[[0.0,\"#0d0887\"],[0.1111111111111111,\"#46039f\"],[0.2222222222222222,\"#7201a8\"],[0.3333333333333333,\"#9c179e\"],[0.4444444444444444,\"#bd3786\"],[0.5555555555555556,\"#d8576b\"],[0.6666666666666666,\"#ed7953\"],[0.7777777777777778,\"#fb9f3a\"],[0.8888888888888888,\"#fdca26\"],[1.0,\"#f0f921\"]],\"sequentialminus\":[[0.0,\"#0d0887\"],[0.1111111111111111,\"#46039f\"],[0.2222222222222222,\"#7201a8\"],[0.3333333333333333,\"#9c179e\"],[0.4444444444444444,\"#bd3786\"],[0.5555555555555556,\"#d8576b\"],[0.6666666666666666,\"#ed7953\"],[0.7777777777777778,\"#fb9f3a\"],[0.8888888888888888,\"#fdca26\"],[1.0,\"#f0f921\"]],\"diverging\":[[0,\"#8e0152\"],[0.1,\"#c51b7d\"],[0.2,\"#de77ae\"],[0.3,\"#f1b6da\"],[0.4,\"#fde0ef\"],[0.5,\"#f7f7f7\"],[0.6,\"#e6f5d0\"],[0.7,\"#b8e186\"],[0.8,\"#7fbc41\"],[0.9,\"#4d9221\"],[1,\"#276419\"]]},\"xaxis\":{\"gridcolor\":\"white\",\"linecolor\":\"white\",\"ticks\":\"\",\"title\":{\"standoff\":15},\"zerolinecolor\":\"white\",\"automargin\":true,\"zerolinewidth\":2},\"yaxis\":{\"gridcolor\":\"white\",\"linecolor\":\"white\",\"ticks\":\"\",\"title\":{\"standoff\":15},\"zerolinecolor\":\"white\",\"automargin\":true,\"zerolinewidth\":2},\"scene\":{\"xaxis\":{\"backgroundcolor\":\"#E5ECF6\",\"gridcolor\":\"white\",\"linecolor\":\"white\",\"showbackground\":true,\"ticks\":\"\",\"zerolinecolor\":\"white\",\"gridwidth\":2},\"yaxis\":{\"backgroundcolor\":\"#E5ECF6\",\"gridcolor\":\"white\",\"linecolor\":\"white\",\"showbackground\":true,\"ticks\":\"\",\"zerolinecolor\":\"white\",\"gridwidth\":2},\"zaxis\":{\"backgroundcolor\":\"#E5ECF6\",\"gridcolor\":\"white\",\"linecolor\":\"white\",\"showbackground\":true,\"ticks\":\"\",\"zerolinecolor\":\"white\",\"gridwidth\":2}},\"shapedefaults\":{\"line\":{\"color\":\"#2a3f5f\"}},\"annotationdefaults\":{\"arrowcolor\":\"#2a3f5f\",\"arrowhead\":0,\"arrowwidth\":1},\"geo\":{\"bgcolor\":\"white\",\"landcolor\":\"#E5ECF6\",\"subunitcolor\":\"white\",\"showland\":true,\"showlakes\":true,\"lakecolor\":\"white\"},\"title\":{\"x\":0.05},\"mapbox\":{\"style\":\"light\"}}},\"xaxis\":{\"anchor\":\"y\",\"domain\":[0.0,1.0],\"title\":{\"text\":\"TRIPPURP\"}},\"yaxis\":{\"anchor\":\"x\",\"domain\":[0.0,1.0],\"title\":{\"text\":\"AVG_TRIP_LEN\"}},\"legend\":{\"title\":{\"text\":\"FF_CALIB_ROUND\"},\"tracegroupgap\":0},\"margin\":{\"t\":60},\"barmode\":\"group\"},                        {\"responsive\": true}                    ).then(function(){\n",
       "                            \n",
       "var gd = document.getElementById('43579042-e305-4287-afd1-a6f4404be80f');\n",
       "var x = new MutationObserver(function (mutations, observer) {{\n",
       "        var display = window.getComputedStyle(gd).display;\n",
       "        if (!display || display === 'none') {{\n",
       "            console.log([gd, 'removed!']);\n",
       "            Plotly.purge(gd);\n",
       "            observer.disconnect();\n",
       "        }}\n",
       "}});\n",
       "\n",
       "// Listen for the removal of the full notebook cells\n",
       "var notebookContainer = gd.closest('#notebook-container');\n",
       "if (notebookContainer) {{\n",
       "    x.observe(notebookContainer, {childList: true});\n",
       "}}\n",
       "\n",
       "// Listen for the clearing of the current output cell\n",
       "var outputEl = gd.closest('.output');\n",
       "if (outputEl) {{\n",
       "    x.observe(outputEl, {childList: true});\n",
       "}}\n",
       "\n",
       "                        })                };                });            </script>        </div>"
      ]
     },
     "metadata": {},
     "output_type": "display_data"
    },
    {
     "data": {
      "application/vnd.plotly.v1+json": {
       "config": {
        "linkText": "Export to plot.ly",
        "plotlyServerURL": "https://plot.ly",
        "showLink": false
       },
       "data": [
        {
         "cells": {
          "align": "left",
          "fill": {
           "color": [
            "lightgrey",
            "lightgrey",
            "lightgrey",
            "lightgrey",
            "lightgrey",
            "lightgrey",
            "lightgrey",
            "lightgrey",
            "lavender",
            "lavender"
           ]
          },
          "values": [
           [
            "HBOth",
            "HBSchPr",
            "HBSchSc",
            "HBShp",
            "HBW",
            "HV",
            "IX",
            "IX_HV",
            "IX_MD",
            "MD",
            "NHBNW",
            "NHBW",
            "XI",
            "XI_HV",
            "XI_MD"
           ],
           [
            "GC",
            "GC",
            "GC",
            "GC",
            "GC",
            "GC",
            "GC",
            "GC",
            "GC",
            "GC",
            "GC",
            "GC",
            "GC",
            "GC",
            "GC"
           ],
           [
            17.2,
            7.16,
            12.08,
            15.13,
            31.77,
            22.01,
            71.96,
            94.94,
            84.6,
            22.94,
            16.74,
            20.85,
            61.05,
            94.94,
            84.6
           ],
           [
            16.32,
            7.54,
            11.68,
            14.74,
            34.12,
            62.36,
            69.86,
            82.61,
            64.05,
            56.12,
            16.19,
            21.3,
            66.96,
            82.61,
            64.05
           ],
           [
            16.01,
            7.75,
            11.33,
            14.68,
            32.32,
            56.38,
            76.92,
            66.27,
            56.4,
            45.14,
            17.19,
            22.75,
            65.11,
            61.15,
            59.89
           ],
           [
            16.23,
            7.73,
            11.33,
            14.84,
            31.84,
            50.57,
            80.65,
            135.46,
            110.02,
            42.41,
            17.36,
            22.95,
            69.61,
            139.13,
            128.33
           ],
           [
            16.47,
            7.8,
            11.27,
            14.85,
            31.65,
            48.13,
            81.1,
            138.9,
            98.62,
            39.72,
            17.44,
            23.03,
            66.14,
            134.64,
            101.14
           ],
           [
            16.57,
            8.07,
            11.32,
            14.91,
            31.6,
            46.87,
            83.06,
            129.59,
            95.18,
            36.5,
            17.62,
            23.28,
            68.4,
            139.48,
            100.31
           ],
           [
            16.57,
            8.33,
            11.33,
            14.95,
            31.04,
            45.44,
            83.68,
            132.16,
            91.53,
            32.95,
            17.72,
            23.34,
            68.73,
            133.43,
            97.34
           ],
           [
            16.19,
            8.15,
            11.33,
            14.33,
            30.83,
            46.19,
            81.28,
            150.67,
            95.66,
            36.35,
            16.95,
            22.9,
            68.8,
            162.17,
            99.29
           ],
           [
            0.02,
            0.02,
            0,
            0.04,
            0.01,
            -0.02,
            0.03,
            -0.12,
            -0.04,
            -0.09,
            0.05,
            0.02,
            0,
            -0.18,
            -0.02
           ]
          ]
         },
         "header": {
          "align": "left",
          "fill": {
           "color": "paleturquoise"
          },
          "values": [
           "TRIPPURP",
           "TLFTYPE",
           "0-Initial from v832",
           "1-First",
           "2-no IXXI MH-HV changes",
           "3-Third Time",
           "4-Charm Time?",
           "5-Final Fifth?",
           "6-Just IX-XI_HV",
           "Observed",
           "PercentDiff"
          ]
         },
         "type": "table"
        }
       ],
       "layout": {
        "template": {
         "data": {
          "bar": [
           {
            "error_x": {
             "color": "#2a3f5f"
            },
            "error_y": {
             "color": "#2a3f5f"
            },
            "marker": {
             "line": {
              "color": "#E5ECF6",
              "width": 0.5
             },
             "pattern": {
              "fillmode": "overlay",
              "size": 10,
              "solidity": 0.2
             }
            },
            "type": "bar"
           }
          ],
          "barpolar": [
           {
            "marker": {
             "line": {
              "color": "#E5ECF6",
              "width": 0.5
             },
             "pattern": {
              "fillmode": "overlay",
              "size": 10,
              "solidity": 0.2
             }
            },
            "type": "barpolar"
           }
          ],
          "carpet": [
           {
            "aaxis": {
             "endlinecolor": "#2a3f5f",
             "gridcolor": "white",
             "linecolor": "white",
             "minorgridcolor": "white",
             "startlinecolor": "#2a3f5f"
            },
            "baxis": {
             "endlinecolor": "#2a3f5f",
             "gridcolor": "white",
             "linecolor": "white",
             "minorgridcolor": "white",
             "startlinecolor": "#2a3f5f"
            },
            "type": "carpet"
           }
          ],
          "choropleth": [
           {
            "colorbar": {
             "outlinewidth": 0,
             "ticks": ""
            },
            "type": "choropleth"
           }
          ],
          "contour": [
           {
            "colorbar": {
             "outlinewidth": 0,
             "ticks": ""
            },
            "colorscale": [
             [
              0,
              "#0d0887"
             ],
             [
              0.1111111111111111,
              "#46039f"
             ],
             [
              0.2222222222222222,
              "#7201a8"
             ],
             [
              0.3333333333333333,
              "#9c179e"
             ],
             [
              0.4444444444444444,
              "#bd3786"
             ],
             [
              0.5555555555555556,
              "#d8576b"
             ],
             [
              0.6666666666666666,
              "#ed7953"
             ],
             [
              0.7777777777777778,
              "#fb9f3a"
             ],
             [
              0.8888888888888888,
              "#fdca26"
             ],
             [
              1,
              "#f0f921"
             ]
            ],
            "type": "contour"
           }
          ],
          "contourcarpet": [
           {
            "colorbar": {
             "outlinewidth": 0,
             "ticks": ""
            },
            "type": "contourcarpet"
           }
          ],
          "heatmap": [
           {
            "colorbar": {
             "outlinewidth": 0,
             "ticks": ""
            },
            "colorscale": [
             [
              0,
              "#0d0887"
             ],
             [
              0.1111111111111111,
              "#46039f"
             ],
             [
              0.2222222222222222,
              "#7201a8"
             ],
             [
              0.3333333333333333,
              "#9c179e"
             ],
             [
              0.4444444444444444,
              "#bd3786"
             ],
             [
              0.5555555555555556,
              "#d8576b"
             ],
             [
              0.6666666666666666,
              "#ed7953"
             ],
             [
              0.7777777777777778,
              "#fb9f3a"
             ],
             [
              0.8888888888888888,
              "#fdca26"
             ],
             [
              1,
              "#f0f921"
             ]
            ],
            "type": "heatmap"
           }
          ],
          "heatmapgl": [
           {
            "colorbar": {
             "outlinewidth": 0,
             "ticks": ""
            },
            "colorscale": [
             [
              0,
              "#0d0887"
             ],
             [
              0.1111111111111111,
              "#46039f"
             ],
             [
              0.2222222222222222,
              "#7201a8"
             ],
             [
              0.3333333333333333,
              "#9c179e"
             ],
             [
              0.4444444444444444,
              "#bd3786"
             ],
             [
              0.5555555555555556,
              "#d8576b"
             ],
             [
              0.6666666666666666,
              "#ed7953"
             ],
             [
              0.7777777777777778,
              "#fb9f3a"
             ],
             [
              0.8888888888888888,
              "#fdca26"
             ],
             [
              1,
              "#f0f921"
             ]
            ],
            "type": "heatmapgl"
           }
          ],
          "histogram": [
           {
            "marker": {
             "pattern": {
              "fillmode": "overlay",
              "size": 10,
              "solidity": 0.2
             }
            },
            "type": "histogram"
           }
          ],
          "histogram2d": [
           {
            "colorbar": {
             "outlinewidth": 0,
             "ticks": ""
            },
            "colorscale": [
             [
              0,
              "#0d0887"
             ],
             [
              0.1111111111111111,
              "#46039f"
             ],
             [
              0.2222222222222222,
              "#7201a8"
             ],
             [
              0.3333333333333333,
              "#9c179e"
             ],
             [
              0.4444444444444444,
              "#bd3786"
             ],
             [
              0.5555555555555556,
              "#d8576b"
             ],
             [
              0.6666666666666666,
              "#ed7953"
             ],
             [
              0.7777777777777778,
              "#fb9f3a"
             ],
             [
              0.8888888888888888,
              "#fdca26"
             ],
             [
              1,
              "#f0f921"
             ]
            ],
            "type": "histogram2d"
           }
          ],
          "histogram2dcontour": [
           {
            "colorbar": {
             "outlinewidth": 0,
             "ticks": ""
            },
            "colorscale": [
             [
              0,
              "#0d0887"
             ],
             [
              0.1111111111111111,
              "#46039f"
             ],
             [
              0.2222222222222222,
              "#7201a8"
             ],
             [
              0.3333333333333333,
              "#9c179e"
             ],
             [
              0.4444444444444444,
              "#bd3786"
             ],
             [
              0.5555555555555556,
              "#d8576b"
             ],
             [
              0.6666666666666666,
              "#ed7953"
             ],
             [
              0.7777777777777778,
              "#fb9f3a"
             ],
             [
              0.8888888888888888,
              "#fdca26"
             ],
             [
              1,
              "#f0f921"
             ]
            ],
            "type": "histogram2dcontour"
           }
          ],
          "mesh3d": [
           {
            "colorbar": {
             "outlinewidth": 0,
             "ticks": ""
            },
            "type": "mesh3d"
           }
          ],
          "parcoords": [
           {
            "line": {
             "colorbar": {
              "outlinewidth": 0,
              "ticks": ""
             }
            },
            "type": "parcoords"
           }
          ],
          "pie": [
           {
            "automargin": true,
            "type": "pie"
           }
          ],
          "scatter": [
           {
            "fillpattern": {
             "fillmode": "overlay",
             "size": 10,
             "solidity": 0.2
            },
            "type": "scatter"
           }
          ],
          "scatter3d": [
           {
            "line": {
             "colorbar": {
              "outlinewidth": 0,
              "ticks": ""
             }
            },
            "marker": {
             "colorbar": {
              "outlinewidth": 0,
              "ticks": ""
             }
            },
            "type": "scatter3d"
           }
          ],
          "scattercarpet": [
           {
            "marker": {
             "colorbar": {
              "outlinewidth": 0,
              "ticks": ""
             }
            },
            "type": "scattercarpet"
           }
          ],
          "scattergeo": [
           {
            "marker": {
             "colorbar": {
              "outlinewidth": 0,
              "ticks": ""
             }
            },
            "type": "scattergeo"
           }
          ],
          "scattergl": [
           {
            "marker": {
             "colorbar": {
              "outlinewidth": 0,
              "ticks": ""
             }
            },
            "type": "scattergl"
           }
          ],
          "scattermapbox": [
           {
            "marker": {
             "colorbar": {
              "outlinewidth": 0,
              "ticks": ""
             }
            },
            "type": "scattermapbox"
           }
          ],
          "scatterpolar": [
           {
            "marker": {
             "colorbar": {
              "outlinewidth": 0,
              "ticks": ""
             }
            },
            "type": "scatterpolar"
           }
          ],
          "scatterpolargl": [
           {
            "marker": {
             "colorbar": {
              "outlinewidth": 0,
              "ticks": ""
             }
            },
            "type": "scatterpolargl"
           }
          ],
          "scatterternary": [
           {
            "marker": {
             "colorbar": {
              "outlinewidth": 0,
              "ticks": ""
             }
            },
            "type": "scatterternary"
           }
          ],
          "surface": [
           {
            "colorbar": {
             "outlinewidth": 0,
             "ticks": ""
            },
            "colorscale": [
             [
              0,
              "#0d0887"
             ],
             [
              0.1111111111111111,
              "#46039f"
             ],
             [
              0.2222222222222222,
              "#7201a8"
             ],
             [
              0.3333333333333333,
              "#9c179e"
             ],
             [
              0.4444444444444444,
              "#bd3786"
             ],
             [
              0.5555555555555556,
              "#d8576b"
             ],
             [
              0.6666666666666666,
              "#ed7953"
             ],
             [
              0.7777777777777778,
              "#fb9f3a"
             ],
             [
              0.8888888888888888,
              "#fdca26"
             ],
             [
              1,
              "#f0f921"
             ]
            ],
            "type": "surface"
           }
          ],
          "table": [
           {
            "cells": {
             "fill": {
              "color": "#EBF0F8"
             },
             "line": {
              "color": "white"
             }
            },
            "header": {
             "fill": {
              "color": "#C8D4E3"
             },
             "line": {
              "color": "white"
             }
            },
            "type": "table"
           }
          ]
         },
         "layout": {
          "annotationdefaults": {
           "arrowcolor": "#2a3f5f",
           "arrowhead": 0,
           "arrowwidth": 1
          },
          "autotypenumbers": "strict",
          "coloraxis": {
           "colorbar": {
            "outlinewidth": 0,
            "ticks": ""
           }
          },
          "colorscale": {
           "diverging": [
            [
             0,
             "#8e0152"
            ],
            [
             0.1,
             "#c51b7d"
            ],
            [
             0.2,
             "#de77ae"
            ],
            [
             0.3,
             "#f1b6da"
            ],
            [
             0.4,
             "#fde0ef"
            ],
            [
             0.5,
             "#f7f7f7"
            ],
            [
             0.6,
             "#e6f5d0"
            ],
            [
             0.7,
             "#b8e186"
            ],
            [
             0.8,
             "#7fbc41"
            ],
            [
             0.9,
             "#4d9221"
            ],
            [
             1,
             "#276419"
            ]
           ],
           "sequential": [
            [
             0,
             "#0d0887"
            ],
            [
             0.1111111111111111,
             "#46039f"
            ],
            [
             0.2222222222222222,
             "#7201a8"
            ],
            [
             0.3333333333333333,
             "#9c179e"
            ],
            [
             0.4444444444444444,
             "#bd3786"
            ],
            [
             0.5555555555555556,
             "#d8576b"
            ],
            [
             0.6666666666666666,
             "#ed7953"
            ],
            [
             0.7777777777777778,
             "#fb9f3a"
            ],
            [
             0.8888888888888888,
             "#fdca26"
            ],
            [
             1,
             "#f0f921"
            ]
           ],
           "sequentialminus": [
            [
             0,
             "#0d0887"
            ],
            [
             0.1111111111111111,
             "#46039f"
            ],
            [
             0.2222222222222222,
             "#7201a8"
            ],
            [
             0.3333333333333333,
             "#9c179e"
            ],
            [
             0.4444444444444444,
             "#bd3786"
            ],
            [
             0.5555555555555556,
             "#d8576b"
            ],
            [
             0.6666666666666666,
             "#ed7953"
            ],
            [
             0.7777777777777778,
             "#fb9f3a"
            ],
            [
             0.8888888888888888,
             "#fdca26"
            ],
            [
             1,
             "#f0f921"
            ]
           ]
          },
          "colorway": [
           "#636efa",
           "#EF553B",
           "#00cc96",
           "#ab63fa",
           "#FFA15A",
           "#19d3f3",
           "#FF6692",
           "#B6E880",
           "#FF97FF",
           "#FECB52"
          ],
          "font": {
           "color": "#2a3f5f"
          },
          "geo": {
           "bgcolor": "white",
           "lakecolor": "white",
           "landcolor": "#E5ECF6",
           "showlakes": true,
           "showland": true,
           "subunitcolor": "white"
          },
          "hoverlabel": {
           "align": "left"
          },
          "hovermode": "closest",
          "mapbox": {
           "style": "light"
          },
          "paper_bgcolor": "white",
          "plot_bgcolor": "#E5ECF6",
          "polar": {
           "angularaxis": {
            "gridcolor": "white",
            "linecolor": "white",
            "ticks": ""
           },
           "bgcolor": "#E5ECF6",
           "radialaxis": {
            "gridcolor": "white",
            "linecolor": "white",
            "ticks": ""
           }
          },
          "scene": {
           "xaxis": {
            "backgroundcolor": "#E5ECF6",
            "gridcolor": "white",
            "gridwidth": 2,
            "linecolor": "white",
            "showbackground": true,
            "ticks": "",
            "zerolinecolor": "white"
           },
           "yaxis": {
            "backgroundcolor": "#E5ECF6",
            "gridcolor": "white",
            "gridwidth": 2,
            "linecolor": "white",
            "showbackground": true,
            "ticks": "",
            "zerolinecolor": "white"
           },
           "zaxis": {
            "backgroundcolor": "#E5ECF6",
            "gridcolor": "white",
            "gridwidth": 2,
            "linecolor": "white",
            "showbackground": true,
            "ticks": "",
            "zerolinecolor": "white"
           }
          },
          "shapedefaults": {
           "line": {
            "color": "#2a3f5f"
           }
          },
          "ternary": {
           "aaxis": {
            "gridcolor": "white",
            "linecolor": "white",
            "ticks": ""
           },
           "baxis": {
            "gridcolor": "white",
            "linecolor": "white",
            "ticks": ""
           },
           "bgcolor": "#E5ECF6",
           "caxis": {
            "gridcolor": "white",
            "linecolor": "white",
            "ticks": ""
           }
          },
          "title": {
           "x": 0.05
          },
          "xaxis": {
           "automargin": true,
           "gridcolor": "white",
           "linecolor": "white",
           "ticks": "",
           "title": {
            "standoff": 15
           },
           "zerolinecolor": "white",
           "zerolinewidth": 2
          },
          "yaxis": {
           "automargin": true,
           "gridcolor": "white",
           "linecolor": "white",
           "ticks": "",
           "title": {
            "standoff": 15
           },
           "zerolinecolor": "white",
           "zerolinewidth": 2
          }
         }
        }
       }
      },
      "text/html": [
       "<div>                            <div id=\"6840f294-944c-4226-b56e-782bab1e1268\" class=\"plotly-graph-div\" style=\"height:525px; width:100%;\"></div>            <script type=\"text/javascript\">                require([\"plotly\"], function(Plotly) {                    window.PLOTLYENV=window.PLOTLYENV || {};                                    if (document.getElementById(\"6840f294-944c-4226-b56e-782bab1e1268\")) {                    Plotly.newPlot(                        \"6840f294-944c-4226-b56e-782bab1e1268\",                        [{\"cells\":{\"align\":\"left\",\"fill\":{\"color\":[\"lightgrey\",\"lightgrey\",\"lightgrey\",\"lightgrey\",\"lightgrey\",\"lightgrey\",\"lightgrey\",\"lightgrey\",\"lavender\",\"lavender\"]},\"values\":[[\"HBOth\",\"HBSchPr\",\"HBSchSc\",\"HBShp\",\"HBW\",\"HV\",\"IX\",\"IX_HV\",\"IX_MD\",\"MD\",\"NHBNW\",\"NHBW\",\"XI\",\"XI_HV\",\"XI_MD\"],[\"GC\",\"GC\",\"GC\",\"GC\",\"GC\",\"GC\",\"GC\",\"GC\",\"GC\",\"GC\",\"GC\",\"GC\",\"GC\",\"GC\",\"GC\"],[17.2,7.16,12.08,15.13,31.77,22.01,71.96,94.94,84.6,22.94,16.74,20.85,61.05,94.94,84.6],[16.32,7.54,11.68,14.74,34.12,62.36,69.86,82.61,64.05,56.12,16.19,21.3,66.96,82.61,64.05],[16.01,7.75,11.33,14.68,32.32,56.38,76.92,66.27,56.4,45.14,17.19,22.75,65.11,61.15,59.89],[16.23,7.73,11.33,14.84,31.84,50.57,80.65,135.46,110.02,42.41,17.36,22.95,69.61,139.13,128.33],[16.47,7.8,11.27,14.85,31.65,48.13,81.1,138.9,98.62,39.72,17.44,23.03,66.14,134.64,101.14],[16.57,8.07,11.32,14.91,31.6,46.87,83.06,129.59,95.18,36.5,17.62,23.28,68.4,139.48,100.31],[16.57,8.33,11.33,14.95,31.04,45.44,83.68,132.16,91.53,32.95,17.72,23.34,68.73,133.43,97.34],[16.19,8.15,11.33,14.33,30.83,46.19,81.28,150.67,95.66,36.35,16.95,22.9,68.8,162.17,99.29],[0.02,0.02,-0.0,0.04,0.01,-0.02,0.03,-0.12,-0.04,-0.09,0.05,0.02,-0.0,-0.18,-0.02]]},\"header\":{\"align\":\"left\",\"fill\":{\"color\":\"paleturquoise\"},\"values\":[\"TRIPPURP\",\"TLFTYPE\",\"0-Initial from v832\",\"1-First\",\"2-no IXXI MH-HV changes\",\"3-Third Time\",\"4-Charm Time?\",\"5-Final Fifth?\",\"6-Just IX-XI_HV\",\"Observed\",\"PercentDiff\"]},\"type\":\"table\"}],                        {\"template\":{\"data\":{\"barpolar\":[{\"marker\":{\"line\":{\"color\":\"#E5ECF6\",\"width\":0.5},\"pattern\":{\"fillmode\":\"overlay\",\"size\":10,\"solidity\":0.2}},\"type\":\"barpolar\"}],\"bar\":[{\"error_x\":{\"color\":\"#2a3f5f\"},\"error_y\":{\"color\":\"#2a3f5f\"},\"marker\":{\"line\":{\"color\":\"#E5ECF6\",\"width\":0.5},\"pattern\":{\"fillmode\":\"overlay\",\"size\":10,\"solidity\":0.2}},\"type\":\"bar\"}],\"carpet\":[{\"aaxis\":{\"endlinecolor\":\"#2a3f5f\",\"gridcolor\":\"white\",\"linecolor\":\"white\",\"minorgridcolor\":\"white\",\"startlinecolor\":\"#2a3f5f\"},\"baxis\":{\"endlinecolor\":\"#2a3f5f\",\"gridcolor\":\"white\",\"linecolor\":\"white\",\"minorgridcolor\":\"white\",\"startlinecolor\":\"#2a3f5f\"},\"type\":\"carpet\"}],\"choropleth\":[{\"colorbar\":{\"outlinewidth\":0,\"ticks\":\"\"},\"type\":\"choropleth\"}],\"contourcarpet\":[{\"colorbar\":{\"outlinewidth\":0,\"ticks\":\"\"},\"type\":\"contourcarpet\"}],\"contour\":[{\"colorbar\":{\"outlinewidth\":0,\"ticks\":\"\"},\"colorscale\":[[0.0,\"#0d0887\"],[0.1111111111111111,\"#46039f\"],[0.2222222222222222,\"#7201a8\"],[0.3333333333333333,\"#9c179e\"],[0.4444444444444444,\"#bd3786\"],[0.5555555555555556,\"#d8576b\"],[0.6666666666666666,\"#ed7953\"],[0.7777777777777778,\"#fb9f3a\"],[0.8888888888888888,\"#fdca26\"],[1.0,\"#f0f921\"]],\"type\":\"contour\"}],\"heatmapgl\":[{\"colorbar\":{\"outlinewidth\":0,\"ticks\":\"\"},\"colorscale\":[[0.0,\"#0d0887\"],[0.1111111111111111,\"#46039f\"],[0.2222222222222222,\"#7201a8\"],[0.3333333333333333,\"#9c179e\"],[0.4444444444444444,\"#bd3786\"],[0.5555555555555556,\"#d8576b\"],[0.6666666666666666,\"#ed7953\"],[0.7777777777777778,\"#fb9f3a\"],[0.8888888888888888,\"#fdca26\"],[1.0,\"#f0f921\"]],\"type\":\"heatmapgl\"}],\"heatmap\":[{\"colorbar\":{\"outlinewidth\":0,\"ticks\":\"\"},\"colorscale\":[[0.0,\"#0d0887\"],[0.1111111111111111,\"#46039f\"],[0.2222222222222222,\"#7201a8\"],[0.3333333333333333,\"#9c179e\"],[0.4444444444444444,\"#bd3786\"],[0.5555555555555556,\"#d8576b\"],[0.6666666666666666,\"#ed7953\"],[0.7777777777777778,\"#fb9f3a\"],[0.8888888888888888,\"#fdca26\"],[1.0,\"#f0f921\"]],\"type\":\"heatmap\"}],\"histogram2dcontour\":[{\"colorbar\":{\"outlinewidth\":0,\"ticks\":\"\"},\"colorscale\":[[0.0,\"#0d0887\"],[0.1111111111111111,\"#46039f\"],[0.2222222222222222,\"#7201a8\"],[0.3333333333333333,\"#9c179e\"],[0.4444444444444444,\"#bd3786\"],[0.5555555555555556,\"#d8576b\"],[0.6666666666666666,\"#ed7953\"],[0.7777777777777778,\"#fb9f3a\"],[0.8888888888888888,\"#fdca26\"],[1.0,\"#f0f921\"]],\"type\":\"histogram2dcontour\"}],\"histogram2d\":[{\"colorbar\":{\"outlinewidth\":0,\"ticks\":\"\"},\"colorscale\":[[0.0,\"#0d0887\"],[0.1111111111111111,\"#46039f\"],[0.2222222222222222,\"#7201a8\"],[0.3333333333333333,\"#9c179e\"],[0.4444444444444444,\"#bd3786\"],[0.5555555555555556,\"#d8576b\"],[0.6666666666666666,\"#ed7953\"],[0.7777777777777778,\"#fb9f3a\"],[0.8888888888888888,\"#fdca26\"],[1.0,\"#f0f921\"]],\"type\":\"histogram2d\"}],\"histogram\":[{\"marker\":{\"pattern\":{\"fillmode\":\"overlay\",\"size\":10,\"solidity\":0.2}},\"type\":\"histogram\"}],\"mesh3d\":[{\"colorbar\":{\"outlinewidth\":0,\"ticks\":\"\"},\"type\":\"mesh3d\"}],\"parcoords\":[{\"line\":{\"colorbar\":{\"outlinewidth\":0,\"ticks\":\"\"}},\"type\":\"parcoords\"}],\"pie\":[{\"automargin\":true,\"type\":\"pie\"}],\"scatter3d\":[{\"line\":{\"colorbar\":{\"outlinewidth\":0,\"ticks\":\"\"}},\"marker\":{\"colorbar\":{\"outlinewidth\":0,\"ticks\":\"\"}},\"type\":\"scatter3d\"}],\"scattercarpet\":[{\"marker\":{\"colorbar\":{\"outlinewidth\":0,\"ticks\":\"\"}},\"type\":\"scattercarpet\"}],\"scattergeo\":[{\"marker\":{\"colorbar\":{\"outlinewidth\":0,\"ticks\":\"\"}},\"type\":\"scattergeo\"}],\"scattergl\":[{\"marker\":{\"colorbar\":{\"outlinewidth\":0,\"ticks\":\"\"}},\"type\":\"scattergl\"}],\"scattermapbox\":[{\"marker\":{\"colorbar\":{\"outlinewidth\":0,\"ticks\":\"\"}},\"type\":\"scattermapbox\"}],\"scatterpolargl\":[{\"marker\":{\"colorbar\":{\"outlinewidth\":0,\"ticks\":\"\"}},\"type\":\"scatterpolargl\"}],\"scatterpolar\":[{\"marker\":{\"colorbar\":{\"outlinewidth\":0,\"ticks\":\"\"}},\"type\":\"scatterpolar\"}],\"scatter\":[{\"fillpattern\":{\"fillmode\":\"overlay\",\"size\":10,\"solidity\":0.2},\"type\":\"scatter\"}],\"scatterternary\":[{\"marker\":{\"colorbar\":{\"outlinewidth\":0,\"ticks\":\"\"}},\"type\":\"scatterternary\"}],\"surface\":[{\"colorbar\":{\"outlinewidth\":0,\"ticks\":\"\"},\"colorscale\":[[0.0,\"#0d0887\"],[0.1111111111111111,\"#46039f\"],[0.2222222222222222,\"#7201a8\"],[0.3333333333333333,\"#9c179e\"],[0.4444444444444444,\"#bd3786\"],[0.5555555555555556,\"#d8576b\"],[0.6666666666666666,\"#ed7953\"],[0.7777777777777778,\"#fb9f3a\"],[0.8888888888888888,\"#fdca26\"],[1.0,\"#f0f921\"]],\"type\":\"surface\"}],\"table\":[{\"cells\":{\"fill\":{\"color\":\"#EBF0F8\"},\"line\":{\"color\":\"white\"}},\"header\":{\"fill\":{\"color\":\"#C8D4E3\"},\"line\":{\"color\":\"white\"}},\"type\":\"table\"}]},\"layout\":{\"annotationdefaults\":{\"arrowcolor\":\"#2a3f5f\",\"arrowhead\":0,\"arrowwidth\":1},\"autotypenumbers\":\"strict\",\"coloraxis\":{\"colorbar\":{\"outlinewidth\":0,\"ticks\":\"\"}},\"colorscale\":{\"diverging\":[[0,\"#8e0152\"],[0.1,\"#c51b7d\"],[0.2,\"#de77ae\"],[0.3,\"#f1b6da\"],[0.4,\"#fde0ef\"],[0.5,\"#f7f7f7\"],[0.6,\"#e6f5d0\"],[0.7,\"#b8e186\"],[0.8,\"#7fbc41\"],[0.9,\"#4d9221\"],[1,\"#276419\"]],\"sequential\":[[0.0,\"#0d0887\"],[0.1111111111111111,\"#46039f\"],[0.2222222222222222,\"#7201a8\"],[0.3333333333333333,\"#9c179e\"],[0.4444444444444444,\"#bd3786\"],[0.5555555555555556,\"#d8576b\"],[0.6666666666666666,\"#ed7953\"],[0.7777777777777778,\"#fb9f3a\"],[0.8888888888888888,\"#fdca26\"],[1.0,\"#f0f921\"]],\"sequentialminus\":[[0.0,\"#0d0887\"],[0.1111111111111111,\"#46039f\"],[0.2222222222222222,\"#7201a8\"],[0.3333333333333333,\"#9c179e\"],[0.4444444444444444,\"#bd3786\"],[0.5555555555555556,\"#d8576b\"],[0.6666666666666666,\"#ed7953\"],[0.7777777777777778,\"#fb9f3a\"],[0.8888888888888888,\"#fdca26\"],[1.0,\"#f0f921\"]]},\"colorway\":[\"#636efa\",\"#EF553B\",\"#00cc96\",\"#ab63fa\",\"#FFA15A\",\"#19d3f3\",\"#FF6692\",\"#B6E880\",\"#FF97FF\",\"#FECB52\"],\"font\":{\"color\":\"#2a3f5f\"},\"geo\":{\"bgcolor\":\"white\",\"lakecolor\":\"white\",\"landcolor\":\"#E5ECF6\",\"showlakes\":true,\"showland\":true,\"subunitcolor\":\"white\"},\"hoverlabel\":{\"align\":\"left\"},\"hovermode\":\"closest\",\"mapbox\":{\"style\":\"light\"},\"paper_bgcolor\":\"white\",\"plot_bgcolor\":\"#E5ECF6\",\"polar\":{\"angularaxis\":{\"gridcolor\":\"white\",\"linecolor\":\"white\",\"ticks\":\"\"},\"bgcolor\":\"#E5ECF6\",\"radialaxis\":{\"gridcolor\":\"white\",\"linecolor\":\"white\",\"ticks\":\"\"}},\"scene\":{\"xaxis\":{\"backgroundcolor\":\"#E5ECF6\",\"gridcolor\":\"white\",\"gridwidth\":2,\"linecolor\":\"white\",\"showbackground\":true,\"ticks\":\"\",\"zerolinecolor\":\"white\"},\"yaxis\":{\"backgroundcolor\":\"#E5ECF6\",\"gridcolor\":\"white\",\"gridwidth\":2,\"linecolor\":\"white\",\"showbackground\":true,\"ticks\":\"\",\"zerolinecolor\":\"white\"},\"zaxis\":{\"backgroundcolor\":\"#E5ECF6\",\"gridcolor\":\"white\",\"gridwidth\":2,\"linecolor\":\"white\",\"showbackground\":true,\"ticks\":\"\",\"zerolinecolor\":\"white\"}},\"shapedefaults\":{\"line\":{\"color\":\"#2a3f5f\"}},\"ternary\":{\"aaxis\":{\"gridcolor\":\"white\",\"linecolor\":\"white\",\"ticks\":\"\"},\"baxis\":{\"gridcolor\":\"white\",\"linecolor\":\"white\",\"ticks\":\"\"},\"bgcolor\":\"#E5ECF6\",\"caxis\":{\"gridcolor\":\"white\",\"linecolor\":\"white\",\"ticks\":\"\"}},\"title\":{\"x\":0.05},\"xaxis\":{\"automargin\":true,\"gridcolor\":\"white\",\"linecolor\":\"white\",\"ticks\":\"\",\"title\":{\"standoff\":15},\"zerolinecolor\":\"white\",\"zerolinewidth\":2},\"yaxis\":{\"automargin\":true,\"gridcolor\":\"white\",\"linecolor\":\"white\",\"ticks\":\"\",\"title\":{\"standoff\":15},\"zerolinecolor\":\"white\",\"zerolinewidth\":2}}}},                        {\"responsive\": true}                    ).then(function(){\n",
       "                            \n",
       "var gd = document.getElementById('6840f294-944c-4226-b56e-782bab1e1268');\n",
       "var x = new MutationObserver(function (mutations, observer) {{\n",
       "        var display = window.getComputedStyle(gd).display;\n",
       "        if (!display || display === 'none') {{\n",
       "            console.log([gd, 'removed!']);\n",
       "            Plotly.purge(gd);\n",
       "            observer.disconnect();\n",
       "        }}\n",
       "}});\n",
       "\n",
       "// Listen for the removal of the full notebook cells\n",
       "var notebookContainer = gd.closest('#notebook-container');\n",
       "if (notebookContainer) {{\n",
       "    x.observe(notebookContainer, {childList: true});\n",
       "}}\n",
       "\n",
       "// Listen for the clearing of the current output cell\n",
       "var outputEl = gd.closest('.output');\n",
       "if (outputEl) {{\n",
       "    x.observe(outputEl, {childList: true});\n",
       "}}\n",
       "\n",
       "                        })                };                });            </script>        </div>"
      ]
     },
     "metadata": {},
     "output_type": "display_data"
    }
   ],
   "source": [
    "py.offline.init_notebook_mode(connected=True)\n",
    "\n",
    "lstModOpt  = dfObsModelMerge['FF_CALIB_ROUND'].unique().tolist()\n",
    "lstModOptShort = [round for round in lstModOpt if round != 'Observed']  \n",
    "lstTLFType   = dfObsModelMerge['TLFTYPE'].unique().tolist() # GC, Time, Dist\n",
    "lstTripPurp  = dfTLF_Obs['TRIPPURP'].unique().tolist() # HBW, HBShp, HBOth,...\n",
    "    \n",
    "selectModelOption  = widgets.SelectMultiple(options=lstModOptShort, value=lstModOptShort, description='Model Run'   )\n",
    "selectTLFOption    = widgets.SelectMultiple(options=lstTLFType    , value=('GC' ,)      , description='TLF Type'    )\n",
    "selectTripPurp     = widgets.SelectMultiple(options=lstTripPurp   , value=lstTripPurp   , description='Trip Purpose')\n",
    "\n",
    "widgets.interactive(update_df_mod_vs_obs,modeloption=selectModelOption, tlfoption=selectTLFOption, trippurpoption=selectTripPurp)\n",
    "\n",
    "#OBSERVED RED COLOR"
   ]
  },
  {
   "cell_type": "markdown",
   "metadata": {},
   "source": [
    "Comparing Trip Length Frequency Graphs between Modeled and Observed"
   ]
  },
  {
   "cell_type": "code",
   "execution_count": 24,
   "metadata": {},
   "outputs": [],
   "source": [
    "#PLOTTING FUNCTION\n",
    "\n",
    "# chart preset zoom extents\n",
    "dfZoomPresets = pd.DataFrame([\n",
    "    ['Begin' ,     0,   100,     0, np.NaN],\n",
    "    ['Mid'   ,    30,   160,     0, 0.0018],\n",
    "    ['Tail'  ,   100,   200,     0,0.0001],\n",
    "    ['All'   ,np.NaN,200,np.NaN, np.NaN],\n",
    "    ['Custom',np.NaN,np.NaN,np.NaN, np.NaN],\n",
    "], columns=('PRESET','XMIN','XMAX','YMIN','YMAX'))\n",
    "dfZoomPresets\n",
    "\n",
    "def update_plot_mod_vs_obs(modeloption, trippurps, tlftypes, zoompreset, xmin, xmax, ymin, ymax):\n",
    "\n",
    "    data = []\n",
    "    for modelspace in modeloption:\n",
    "        for trippurp in trippurps:\n",
    "            for tlftype in tlftypes:\n",
    "            \n",
    "                # data for plotting from filtered dataframe\n",
    "                plotdata1 = dfObsModelMerge[(dfObsModelMerge['TRIPPURP']==trippurp) & (dfObsModelMerge['TLFTYPE']==tlftype)]\n",
    "                plotdata = plotdata1[(plotdata1['FF_CALIB_ROUND']==modelspace)]\n",
    "\n",
    "                # fill any NaN values with zeros\n",
    "                plotdata = plotdata.fillna(0)\n",
    "\n",
    "                xplot = plotdata['BIN']\n",
    "                yplot = plotdata['FREQ']\n",
    "                name  = trippurp + ' ' + tlftype + ' (' + modelspace + ')'\n",
    "\n",
    "                trace1 = go.Scatter(\n",
    "                    x=xplot,\n",
    "                    y=yplot,\n",
    "                    mode='lines',\n",
    "                    name=name,\n",
    "                    line=dict(\n",
    "                        shape='spline'\n",
    "                    )\n",
    "                )\n",
    "                data.append(trace1)\n",
    "                \n",
    "    # get zoom presets\n",
    "    if (zoompreset=='Custom'):\n",
    "        _xmin = xmin\n",
    "        _xmax = xmax\n",
    "        _ymin = ymin\n",
    "        _ymax = ymax\n",
    "    else:\n",
    "        _xmin = dfZoomPresets[dfZoomPresets['PRESET']==zoompreset]['XMIN'].values[0]\n",
    "        _xmax = dfZoomPresets[dfZoomPresets['PRESET']==zoompreset]['XMAX'].values[0]\n",
    "        _ymin = dfZoomPresets[dfZoomPresets['PRESET']==zoompreset]['YMIN'].values[0]\n",
    "        _ymax = dfZoomPresets[dfZoomPresets['PRESET']==zoompreset]['YMAX'].values[0]\n",
    "\n",
    "    layout = go.Layout(\n",
    "        title='Trip Length Frequencies - Observed Data',\n",
    "        yaxis=dict(\n",
    "            title='',\n",
    "            range=(_ymin,_ymax)\n",
    "        ),\n",
    "        xaxis=dict(\n",
    "            title='GC/Dist/Time',\n",
    "            range=(_xmin,_xmax)\n",
    "        ),\n",
    "        #width=1600,\n",
    "        height=450\n",
    "    )\n",
    "    \n",
    "    fig = go.Figure(data=data, layout=layout)\n",
    "    py.offline.iplot(fig)"
   ]
  },
  {
   "cell_type": "code",
   "execution_count": 25,
   "metadata": {},
   "outputs": [
    {
     "data": {
      "text/html": [
       "        <script type=\"text/javascript\">\n",
       "        window.PlotlyConfig = {MathJaxConfig: 'local'};\n",
       "        if (window.MathJax && window.MathJax.Hub && window.MathJax.Hub.Config) {window.MathJax.Hub.Config({SVG: {font: \"STIX-Web\"}});}\n",
       "        if (typeof require !== 'undefined') {\n",
       "        require.undef(\"plotly\");\n",
       "        requirejs.config({\n",
       "            paths: {\n",
       "                'plotly': ['https://cdn.plot.ly/plotly-2.12.1.min']\n",
       "            }\n",
       "        });\n",
       "        require(['plotly'], function(Plotly) {\n",
       "            window._Plotly = Plotly;\n",
       "        });\n",
       "        }\n",
       "        </script>\n",
       "        "
      ]
     },
     "metadata": {},
     "output_type": "display_data"
    },
    {
     "data": {
      "application/vnd.jupyter.widget-view+json": {
       "model_id": "c7bdb5bc9c9e4c0cb397a14e4bbe426f",
       "version_major": 2,
       "version_minor": 0
      },
      "text/plain": [
       "interactive(children=(SelectMultiple(description='Model Runs', index=(7, 6), options=('0-Initial from v832', '…"
      ]
     },
     "metadata": {},
     "output_type": "display_data"
    },
    {
     "data": {
      "application/vnd.plotly.v1+json": {
       "config": {
        "linkText": "Export to plot.ly",
        "plotlyServerURL": "https://plot.ly",
        "showLink": false
       },
       "data": [
        {
         "line": {
          "shape": "spline"
         },
         "mode": "lines",
         "name": "HBW GC (Observed)",
         "type": "scatter",
         "x": [
          0,
          2,
          4,
          6,
          8,
          10,
          12,
          14,
          16,
          18,
          20,
          22,
          24,
          26,
          28,
          30,
          32,
          34,
          36,
          38,
          40,
          42,
          44,
          46,
          48,
          50,
          52,
          54,
          56,
          58,
          60,
          62,
          64,
          66,
          68,
          70,
          72,
          74,
          76,
          78,
          80,
          82,
          84,
          86,
          88,
          90,
          92,
          94,
          96,
          98,
          100,
          102,
          104,
          106,
          108,
          110,
          112,
          114,
          116,
          118,
          120,
          122,
          124,
          126,
          128,
          130,
          132,
          134,
          136,
          138,
          140,
          142,
          144,
          146,
          148,
          150,
          152,
          154,
          156,
          158,
          160,
          162,
          164,
          166,
          168,
          170,
          172,
          174,
          176,
          178,
          180,
          182,
          184,
          186,
          188,
          190,
          192,
          194,
          196,
          198,
          200,
          202,
          204,
          206,
          208,
          210,
          212,
          214,
          216,
          218,
          220,
          222,
          224,
          226,
          228,
          230,
          232,
          234,
          236,
          238,
          240,
          242,
          244,
          246,
          248,
          250,
          252,
          254,
          256,
          258,
          260,
          262,
          264,
          266,
          268,
          270,
          272,
          274,
          276,
          278,
          280,
          282,
          284,
          286,
          288,
          290,
          292,
          294,
          296,
          298,
          300,
          302,
          304,
          306,
          308,
          310,
          312,
          314,
          316,
          318,
          320,
          322,
          324,
          326,
          328,
          330,
          332,
          334,
          336,
          338,
          340,
          342,
          344,
          346,
          348,
          350,
          352,
          354,
          356,
          358,
          360,
          362,
          364,
          366,
          368,
          370,
          372,
          374,
          376,
          378,
          380,
          382,
          384,
          386,
          388,
          390,
          392,
          394,
          396,
          398,
          400,
          402,
          404,
          406,
          408,
          410
         ],
         "y": [
          0,
          0.0119538,
          0.0228316,
          0.0335149,
          0.0420331,
          0.0485383,
          0.0535914,
          0.055372,
          0.0542562,
          0.0514845,
          0.0487137,
          0.045943,
          0.0431718,
          0.0404011,
          0.0376294,
          0.0352425,
          0.0328553,
          0.0304679,
          0.0280814,
          0.0256939,
          0.0236246,
          0.021556,
          0.0194868,
          0.0174183,
          0.0153492,
          0.0140439,
          0.0127386,
          0.0114331,
          0.0101277,
          0.0089226,
          0.0079165,
          0.0070609,
          0.00626,
          0.0055587,
          0.0050572,
          0.0046556,
          0.0042543,
          0.0039025,
          0.0035511,
          0.0032497,
          0.0030549,
          0.0029103,
          0.0027654,
          0.0026706,
          0.0025757,
          0.0024812,
          0.0023864,
          0.0022915,
          0.0021967,
          0.0021018,
          0.0020068,
          0.0019122,
          0.0018174,
          0.0017226,
          0.0016276,
          0.0015329,
          0.0014382,
          0.0013435,
          0.0012489,
          0.0011572,
          0.0010656,
          0.0009738,
          0.0008821,
          0.0007905,
          0.0006988,
          0.0006071,
          0.0005154,
          0.0004637,
          0.0004319,
          0.0004201,
          0.0003955,
          0.000371,
          0.0003466,
          0.0003221,
          0.0002976,
          0.0002731,
          0.0002486,
          0.0002241,
          0.0001996,
          0.0001752,
          0.0001507,
          0.0001261,
          0.0001066,
          0.0000921,
          0.0000776,
          0.0000682,
          0.0000592,
          0.0000512,
          0.0000452,
          0.0000392,
          0.0000332,
          0.0000272,
          0.0000237,
          0.0000212,
          0.0000191,
          0.0000181,
          0.0000171,
          0.0000161,
          0.0000151,
          0.0000141,
          0.0000131,
          0.0000121,
          0.0000111,
          0.0000101,
          0.0000091,
          0.0000081,
          0.0000071,
          0.000006,
          0.000005,
          0.000004,
          0.000003,
          0.000002,
          0.000001,
          0,
          0,
          0,
          0,
          0,
          0,
          0,
          0,
          0,
          0,
          0,
          0,
          0,
          0,
          0,
          0,
          0,
          0,
          0,
          0,
          0,
          0,
          0,
          0,
          0,
          0,
          0,
          0,
          0,
          0,
          0,
          0,
          0,
          0,
          0,
          0,
          0,
          0,
          0,
          0,
          0,
          0,
          0,
          0,
          0,
          0,
          0,
          0,
          0,
          0,
          0,
          0,
          0,
          0,
          0,
          0,
          0,
          0,
          0,
          0,
          0,
          0,
          0,
          0,
          0,
          0,
          0,
          0,
          0,
          0,
          0,
          0,
          0,
          0,
          0,
          0,
          0,
          0,
          0,
          0,
          0,
          0,
          0,
          0,
          0,
          0,
          0,
          0,
          0,
          0,
          0,
          0,
          0
         ]
        },
        {
         "line": {
          "shape": "spline"
         },
         "mode": "lines",
         "name": "HBW GC (6-Just IX-XI_HV)",
         "type": "scatter",
         "x": [
          0,
          2,
          4,
          6,
          8,
          10,
          12,
          14,
          16,
          18,
          20,
          22,
          24,
          26,
          28,
          30,
          32,
          34,
          36,
          38,
          40,
          42,
          44,
          46,
          48,
          50,
          52,
          54,
          56,
          58,
          60,
          62,
          64,
          66,
          68,
          70,
          72,
          74,
          76,
          78,
          80,
          82,
          84,
          86,
          88,
          90,
          92,
          94,
          96,
          98,
          100,
          102,
          104,
          106,
          108,
          110,
          112,
          114,
          116,
          118,
          120,
          122,
          124,
          126,
          128,
          130,
          132,
          134,
          136,
          138,
          140,
          142,
          144,
          146,
          148,
          150,
          152,
          154,
          156,
          158,
          160,
          162,
          164,
          166,
          168,
          170,
          172,
          174,
          176,
          178,
          180,
          182,
          184,
          186,
          188,
          190,
          192,
          194,
          196,
          198,
          200,
          202,
          204,
          206,
          208,
          210,
          212,
          214,
          216,
          218,
          220,
          222,
          224,
          226,
          228,
          230,
          232,
          234,
          236,
          238,
          240,
          242,
          244,
          246,
          248,
          250,
          252,
          254,
          256,
          258,
          260,
          262,
          264,
          266,
          268,
          270,
          272,
          274,
          276,
          278,
          280,
          282,
          284,
          286,
          288,
          290,
          292,
          294,
          296,
          298,
          300,
          302,
          304,
          306,
          308,
          310,
          312,
          314,
          316,
          318,
          320,
          322,
          324,
          326,
          328,
          330,
          332,
          334,
          336,
          338,
          340,
          342,
          344,
          346,
          348,
          350,
          352,
          354,
          356,
          358,
          360,
          362,
          364,
          366,
          368,
          370,
          372,
          374,
          376,
          378,
          380,
          382,
          384,
          386,
          388,
          390,
          392,
          394,
          396,
          398,
          400
         ],
         "y": [
          0,
          0.012755830001927532,
          0.019104460095160605,
          0.03204377873388174,
          0.03790924498173215,
          0.04411008902327271,
          0.04897702160828876,
          0.0515563771172781,
          0.05321416777100845,
          0.05382142115250866,
          0.051259356859115174,
          0.04746541413408222,
          0.0451070878895903,
          0.04206659410297264,
          0.03958083023802628,
          0.03772813899275687,
          0.034402290639242626,
          0.03161137457007286,
          0.029303102495852676,
          0.027004076332906725,
          0.0247280597403206,
          0.02243886741473392,
          0.020470484693319625,
          0.018458038459005385,
          0.016347736569357722,
          0.014562792975171981,
          0.012575677072079579,
          0.01122787199386121,
          0.009957512252781879,
          0.008922855173543465,
          0.007982315777476736,
          0.007120861722891525,
          0.006181312518125916,
          0.005441410634449109,
          0.004809600508681075,
          0.004463596724590754,
          0.004198281154150643,
          0.0037378793313025257,
          0.0034752991643317646,
          0.0032231469495009493,
          0.003026395937967931,
          0.002775574292697999,
          0.0026781394686675565,
          0.0025151539805028118,
          0.0025141947326798495,
          0.002401182961743625,
          0.0023809335496356725,
          0.002276326027367724,
          0.0023130002376830446,
          0.0022691718952171152,
          0.0021792439589883063,
          0.0020683672880451275,
          0.0018806703382217471,
          0.0018351710479351732,
          0.0017330947021807195,
          0.0016295021259964217,
          0.0015198941376578059,
          0.0013716996320535769,
          0.0012316061290316553,
          0.0011591983901370808,
          0.0010828484521249128,
          0.0009826472811469594,
          0.0008611198650210827,
          0.0007683389401059151,
          0.000680700821260952,
          0.0006020610658649385,
          0.000524621917421536,
          0.0004765481297520441,
          0.00043272597598174655,
          0.00039485734740944727,
          0.0003441781188788772,
          0.00028940816253554525,
          0.00026558787304791984,
          0.00021091074713906814,
          0.00018246750201432764,
          0.00015159828820183723,
          0.00012018446917372954,
          0.00010601235617641542,
          0.00008972370927295217,
          0.00007181981280953304,
          0.00005470806938701181,
          0.00004450291028981922,
          0.00003514560249421268,
          0.00002740354425856202,
          0.000020979678192530543,
          0.000016090608643238765,
          0.000013485167782160488,
          0.000010378442574889004,
          0.000008435192146436321,
          0.000006634281717519984,
          0.00000513042867894036,
          0.000003855557378745289,
          0.0000028777434688869334,
          0.00000239502520958977,
          0.000001763778255124249,
          0.000001441966082259474,
          0.0000010582669530745497,
          7.61209562737834e-7,
          6.18869563201491e-7,
          2.8467999907268583e-7,
          2.2279304275253676e-7,
          1.5471739080037274e-7,
          8.664173884820875e-8,
          1.1139652137626838e-7,
          3.7132173792089464e-8,
          3.713217379208946e-8,
          3.7132173792089464e-8,
          4.3320869424104377e-8,
          4.3320869424104377e-8,
          4.3320869424104377e-8,
          3.713217379208946e-8,
          1.237739126402982e-8,
          2.475478252805964e-8,
          6.18869563201491e-9,
          0,
          1.237739126402982e-8,
          0,
          0,
          0,
          0,
          0,
          0,
          0,
          0,
          0,
          0,
          0,
          0,
          0,
          0,
          0,
          0,
          0,
          0,
          0,
          0,
          0,
          0,
          0,
          0,
          0,
          0,
          0,
          0,
          0,
          0,
          0,
          0,
          0,
          0,
          0,
          0,
          0,
          0,
          0,
          0,
          0,
          0,
          0,
          0,
          0,
          0,
          0,
          0,
          0,
          0,
          0,
          0,
          0,
          0,
          0,
          0,
          0,
          0,
          0,
          0,
          0,
          0,
          0,
          0,
          0,
          0,
          0,
          0,
          0,
          0,
          0,
          0,
          0,
          0,
          0,
          0,
          0,
          0,
          0,
          0,
          0,
          0,
          0,
          0,
          0
         ]
        }
       ],
       "layout": {
        "height": 450,
        "template": {
         "data": {
          "bar": [
           {
            "error_x": {
             "color": "#2a3f5f"
            },
            "error_y": {
             "color": "#2a3f5f"
            },
            "marker": {
             "line": {
              "color": "#E5ECF6",
              "width": 0.5
             },
             "pattern": {
              "fillmode": "overlay",
              "size": 10,
              "solidity": 0.2
             }
            },
            "type": "bar"
           }
          ],
          "barpolar": [
           {
            "marker": {
             "line": {
              "color": "#E5ECF6",
              "width": 0.5
             },
             "pattern": {
              "fillmode": "overlay",
              "size": 10,
              "solidity": 0.2
             }
            },
            "type": "barpolar"
           }
          ],
          "carpet": [
           {
            "aaxis": {
             "endlinecolor": "#2a3f5f",
             "gridcolor": "white",
             "linecolor": "white",
             "minorgridcolor": "white",
             "startlinecolor": "#2a3f5f"
            },
            "baxis": {
             "endlinecolor": "#2a3f5f",
             "gridcolor": "white",
             "linecolor": "white",
             "minorgridcolor": "white",
             "startlinecolor": "#2a3f5f"
            },
            "type": "carpet"
           }
          ],
          "choropleth": [
           {
            "colorbar": {
             "outlinewidth": 0,
             "ticks": ""
            },
            "type": "choropleth"
           }
          ],
          "contour": [
           {
            "colorbar": {
             "outlinewidth": 0,
             "ticks": ""
            },
            "colorscale": [
             [
              0,
              "#0d0887"
             ],
             [
              0.1111111111111111,
              "#46039f"
             ],
             [
              0.2222222222222222,
              "#7201a8"
             ],
             [
              0.3333333333333333,
              "#9c179e"
             ],
             [
              0.4444444444444444,
              "#bd3786"
             ],
             [
              0.5555555555555556,
              "#d8576b"
             ],
             [
              0.6666666666666666,
              "#ed7953"
             ],
             [
              0.7777777777777778,
              "#fb9f3a"
             ],
             [
              0.8888888888888888,
              "#fdca26"
             ],
             [
              1,
              "#f0f921"
             ]
            ],
            "type": "contour"
           }
          ],
          "contourcarpet": [
           {
            "colorbar": {
             "outlinewidth": 0,
             "ticks": ""
            },
            "type": "contourcarpet"
           }
          ],
          "heatmap": [
           {
            "colorbar": {
             "outlinewidth": 0,
             "ticks": ""
            },
            "colorscale": [
             [
              0,
              "#0d0887"
             ],
             [
              0.1111111111111111,
              "#46039f"
             ],
             [
              0.2222222222222222,
              "#7201a8"
             ],
             [
              0.3333333333333333,
              "#9c179e"
             ],
             [
              0.4444444444444444,
              "#bd3786"
             ],
             [
              0.5555555555555556,
              "#d8576b"
             ],
             [
              0.6666666666666666,
              "#ed7953"
             ],
             [
              0.7777777777777778,
              "#fb9f3a"
             ],
             [
              0.8888888888888888,
              "#fdca26"
             ],
             [
              1,
              "#f0f921"
             ]
            ],
            "type": "heatmap"
           }
          ],
          "heatmapgl": [
           {
            "colorbar": {
             "outlinewidth": 0,
             "ticks": ""
            },
            "colorscale": [
             [
              0,
              "#0d0887"
             ],
             [
              0.1111111111111111,
              "#46039f"
             ],
             [
              0.2222222222222222,
              "#7201a8"
             ],
             [
              0.3333333333333333,
              "#9c179e"
             ],
             [
              0.4444444444444444,
              "#bd3786"
             ],
             [
              0.5555555555555556,
              "#d8576b"
             ],
             [
              0.6666666666666666,
              "#ed7953"
             ],
             [
              0.7777777777777778,
              "#fb9f3a"
             ],
             [
              0.8888888888888888,
              "#fdca26"
             ],
             [
              1,
              "#f0f921"
             ]
            ],
            "type": "heatmapgl"
           }
          ],
          "histogram": [
           {
            "marker": {
             "pattern": {
              "fillmode": "overlay",
              "size": 10,
              "solidity": 0.2
             }
            },
            "type": "histogram"
           }
          ],
          "histogram2d": [
           {
            "colorbar": {
             "outlinewidth": 0,
             "ticks": ""
            },
            "colorscale": [
             [
              0,
              "#0d0887"
             ],
             [
              0.1111111111111111,
              "#46039f"
             ],
             [
              0.2222222222222222,
              "#7201a8"
             ],
             [
              0.3333333333333333,
              "#9c179e"
             ],
             [
              0.4444444444444444,
              "#bd3786"
             ],
             [
              0.5555555555555556,
              "#d8576b"
             ],
             [
              0.6666666666666666,
              "#ed7953"
             ],
             [
              0.7777777777777778,
              "#fb9f3a"
             ],
             [
              0.8888888888888888,
              "#fdca26"
             ],
             [
              1,
              "#f0f921"
             ]
            ],
            "type": "histogram2d"
           }
          ],
          "histogram2dcontour": [
           {
            "colorbar": {
             "outlinewidth": 0,
             "ticks": ""
            },
            "colorscale": [
             [
              0,
              "#0d0887"
             ],
             [
              0.1111111111111111,
              "#46039f"
             ],
             [
              0.2222222222222222,
              "#7201a8"
             ],
             [
              0.3333333333333333,
              "#9c179e"
             ],
             [
              0.4444444444444444,
              "#bd3786"
             ],
             [
              0.5555555555555556,
              "#d8576b"
             ],
             [
              0.6666666666666666,
              "#ed7953"
             ],
             [
              0.7777777777777778,
              "#fb9f3a"
             ],
             [
              0.8888888888888888,
              "#fdca26"
             ],
             [
              1,
              "#f0f921"
             ]
            ],
            "type": "histogram2dcontour"
           }
          ],
          "mesh3d": [
           {
            "colorbar": {
             "outlinewidth": 0,
             "ticks": ""
            },
            "type": "mesh3d"
           }
          ],
          "parcoords": [
           {
            "line": {
             "colorbar": {
              "outlinewidth": 0,
              "ticks": ""
             }
            },
            "type": "parcoords"
           }
          ],
          "pie": [
           {
            "automargin": true,
            "type": "pie"
           }
          ],
          "scatter": [
           {
            "fillpattern": {
             "fillmode": "overlay",
             "size": 10,
             "solidity": 0.2
            },
            "type": "scatter"
           }
          ],
          "scatter3d": [
           {
            "line": {
             "colorbar": {
              "outlinewidth": 0,
              "ticks": ""
             }
            },
            "marker": {
             "colorbar": {
              "outlinewidth": 0,
              "ticks": ""
             }
            },
            "type": "scatter3d"
           }
          ],
          "scattercarpet": [
           {
            "marker": {
             "colorbar": {
              "outlinewidth": 0,
              "ticks": ""
             }
            },
            "type": "scattercarpet"
           }
          ],
          "scattergeo": [
           {
            "marker": {
             "colorbar": {
              "outlinewidth": 0,
              "ticks": ""
             }
            },
            "type": "scattergeo"
           }
          ],
          "scattergl": [
           {
            "marker": {
             "colorbar": {
              "outlinewidth": 0,
              "ticks": ""
             }
            },
            "type": "scattergl"
           }
          ],
          "scattermapbox": [
           {
            "marker": {
             "colorbar": {
              "outlinewidth": 0,
              "ticks": ""
             }
            },
            "type": "scattermapbox"
           }
          ],
          "scatterpolar": [
           {
            "marker": {
             "colorbar": {
              "outlinewidth": 0,
              "ticks": ""
             }
            },
            "type": "scatterpolar"
           }
          ],
          "scatterpolargl": [
           {
            "marker": {
             "colorbar": {
              "outlinewidth": 0,
              "ticks": ""
             }
            },
            "type": "scatterpolargl"
           }
          ],
          "scatterternary": [
           {
            "marker": {
             "colorbar": {
              "outlinewidth": 0,
              "ticks": ""
             }
            },
            "type": "scatterternary"
           }
          ],
          "surface": [
           {
            "colorbar": {
             "outlinewidth": 0,
             "ticks": ""
            },
            "colorscale": [
             [
              0,
              "#0d0887"
             ],
             [
              0.1111111111111111,
              "#46039f"
             ],
             [
              0.2222222222222222,
              "#7201a8"
             ],
             [
              0.3333333333333333,
              "#9c179e"
             ],
             [
              0.4444444444444444,
              "#bd3786"
             ],
             [
              0.5555555555555556,
              "#d8576b"
             ],
             [
              0.6666666666666666,
              "#ed7953"
             ],
             [
              0.7777777777777778,
              "#fb9f3a"
             ],
             [
              0.8888888888888888,
              "#fdca26"
             ],
             [
              1,
              "#f0f921"
             ]
            ],
            "type": "surface"
           }
          ],
          "table": [
           {
            "cells": {
             "fill": {
              "color": "#EBF0F8"
             },
             "line": {
              "color": "white"
             }
            },
            "header": {
             "fill": {
              "color": "#C8D4E3"
             },
             "line": {
              "color": "white"
             }
            },
            "type": "table"
           }
          ]
         },
         "layout": {
          "annotationdefaults": {
           "arrowcolor": "#2a3f5f",
           "arrowhead": 0,
           "arrowwidth": 1
          },
          "autotypenumbers": "strict",
          "coloraxis": {
           "colorbar": {
            "outlinewidth": 0,
            "ticks": ""
           }
          },
          "colorscale": {
           "diverging": [
            [
             0,
             "#8e0152"
            ],
            [
             0.1,
             "#c51b7d"
            ],
            [
             0.2,
             "#de77ae"
            ],
            [
             0.3,
             "#f1b6da"
            ],
            [
             0.4,
             "#fde0ef"
            ],
            [
             0.5,
             "#f7f7f7"
            ],
            [
             0.6,
             "#e6f5d0"
            ],
            [
             0.7,
             "#b8e186"
            ],
            [
             0.8,
             "#7fbc41"
            ],
            [
             0.9,
             "#4d9221"
            ],
            [
             1,
             "#276419"
            ]
           ],
           "sequential": [
            [
             0,
             "#0d0887"
            ],
            [
             0.1111111111111111,
             "#46039f"
            ],
            [
             0.2222222222222222,
             "#7201a8"
            ],
            [
             0.3333333333333333,
             "#9c179e"
            ],
            [
             0.4444444444444444,
             "#bd3786"
            ],
            [
             0.5555555555555556,
             "#d8576b"
            ],
            [
             0.6666666666666666,
             "#ed7953"
            ],
            [
             0.7777777777777778,
             "#fb9f3a"
            ],
            [
             0.8888888888888888,
             "#fdca26"
            ],
            [
             1,
             "#f0f921"
            ]
           ],
           "sequentialminus": [
            [
             0,
             "#0d0887"
            ],
            [
             0.1111111111111111,
             "#46039f"
            ],
            [
             0.2222222222222222,
             "#7201a8"
            ],
            [
             0.3333333333333333,
             "#9c179e"
            ],
            [
             0.4444444444444444,
             "#bd3786"
            ],
            [
             0.5555555555555556,
             "#d8576b"
            ],
            [
             0.6666666666666666,
             "#ed7953"
            ],
            [
             0.7777777777777778,
             "#fb9f3a"
            ],
            [
             0.8888888888888888,
             "#fdca26"
            ],
            [
             1,
             "#f0f921"
            ]
           ]
          },
          "colorway": [
           "#636efa",
           "#EF553B",
           "#00cc96",
           "#ab63fa",
           "#FFA15A",
           "#19d3f3",
           "#FF6692",
           "#B6E880",
           "#FF97FF",
           "#FECB52"
          ],
          "font": {
           "color": "#2a3f5f"
          },
          "geo": {
           "bgcolor": "white",
           "lakecolor": "white",
           "landcolor": "#E5ECF6",
           "showlakes": true,
           "showland": true,
           "subunitcolor": "white"
          },
          "hoverlabel": {
           "align": "left"
          },
          "hovermode": "closest",
          "mapbox": {
           "style": "light"
          },
          "paper_bgcolor": "white",
          "plot_bgcolor": "#E5ECF6",
          "polar": {
           "angularaxis": {
            "gridcolor": "white",
            "linecolor": "white",
            "ticks": ""
           },
           "bgcolor": "#E5ECF6",
           "radialaxis": {
            "gridcolor": "white",
            "linecolor": "white",
            "ticks": ""
           }
          },
          "scene": {
           "xaxis": {
            "backgroundcolor": "#E5ECF6",
            "gridcolor": "white",
            "gridwidth": 2,
            "linecolor": "white",
            "showbackground": true,
            "ticks": "",
            "zerolinecolor": "white"
           },
           "yaxis": {
            "backgroundcolor": "#E5ECF6",
            "gridcolor": "white",
            "gridwidth": 2,
            "linecolor": "white",
            "showbackground": true,
            "ticks": "",
            "zerolinecolor": "white"
           },
           "zaxis": {
            "backgroundcolor": "#E5ECF6",
            "gridcolor": "white",
            "gridwidth": 2,
            "linecolor": "white",
            "showbackground": true,
            "ticks": "",
            "zerolinecolor": "white"
           }
          },
          "shapedefaults": {
           "line": {
            "color": "#2a3f5f"
           }
          },
          "ternary": {
           "aaxis": {
            "gridcolor": "white",
            "linecolor": "white",
            "ticks": ""
           },
           "baxis": {
            "gridcolor": "white",
            "linecolor": "white",
            "ticks": ""
           },
           "bgcolor": "#E5ECF6",
           "caxis": {
            "gridcolor": "white",
            "linecolor": "white",
            "ticks": ""
           }
          },
          "title": {
           "x": 0.05
          },
          "xaxis": {
           "automargin": true,
           "gridcolor": "white",
           "linecolor": "white",
           "ticks": "",
           "title": {
            "standoff": 15
           },
           "zerolinecolor": "white",
           "zerolinewidth": 2
          },
          "yaxis": {
           "automargin": true,
           "gridcolor": "white",
           "linecolor": "white",
           "ticks": "",
           "title": {
            "standoff": 15
           },
           "zerolinecolor": "white",
           "zerolinewidth": 2
          }
         }
        },
        "title": {
         "text": "Trip Length Frequencies - Observed Data"
        },
        "xaxis": {
         "range": [
          0,
          100
         ],
         "title": {
          "text": "GC/Dist/Time"
         }
        },
        "yaxis": {
         "range": [
          0,
          null
         ],
         "title": {
          "text": ""
         }
        }
       }
      },
      "text/html": [
       "<div>                            <div id=\"6f8ba837-c6bd-4ecf-b532-90f03709cf23\" class=\"plotly-graph-div\" style=\"height:450px; width:100%;\"></div>            <script type=\"text/javascript\">                require([\"plotly\"], function(Plotly) {                    window.PLOTLYENV=window.PLOTLYENV || {};                                    if (document.getElementById(\"6f8ba837-c6bd-4ecf-b532-90f03709cf23\")) {                    Plotly.newPlot(                        \"6f8ba837-c6bd-4ecf-b532-90f03709cf23\",                        [{\"line\":{\"shape\":\"spline\"},\"mode\":\"lines\",\"name\":\"HBW GC (Observed)\",\"x\":[0.0,2.0,4.0,6.0,8.0,10.0,12.0,14.0,16.0,18.0,20.0,22.0,24.0,26.0,28.0,30.0,32.0,34.0,36.0,38.0,40.0,42.0,44.0,46.0,48.0,50.0,52.0,54.0,56.0,58.0,60.0,62.0,64.0,66.0,68.0,70.0,72.0,74.0,76.0,78.0,80.0,82.0,84.0,86.0,88.0,90.0,92.0,94.0,96.0,98.0,100.0,102.0,104.0,106.0,108.0,110.0,112.0,114.0,116.0,118.0,120.0,122.0,124.0,126.0,128.0,130.0,132.0,134.0,136.0,138.0,140.0,142.0,144.0,146.0,148.0,150.0,152.0,154.0,156.0,158.0,160.0,162.0,164.0,166.0,168.0,170.0,172.0,174.0,176.0,178.0,180.0,182.0,184.0,186.0,188.0,190.0,192.0,194.0,196.0,198.0,200.0,202.0,204.0,206.0,208.0,210.0,212.0,214.0,216.0,218.0,220.0,222.0,224.0,226.0,228.0,230.0,232.0,234.0,236.0,238.0,240.0,242.0,244.0,246.0,248.0,250.0,252.0,254.0,256.0,258.0,260.0,262.0,264.0,266.0,268.0,270.0,272.0,274.0,276.0,278.0,280.0,282.0,284.0,286.0,288.0,290.0,292.0,294.0,296.0,298.0,300.0,302.0,304.0,306.0,308.0,310.0,312.0,314.0,316.0,318.0,320.0,322.0,324.0,326.0,328.0,330.0,332.0,334.0,336.0,338.0,340.0,342.0,344.0,346.0,348.0,350.0,352.0,354.0,356.0,358.0,360.0,362.0,364.0,366.0,368.0,370.0,372.0,374.0,376.0,378.0,380.0,382.0,384.0,386.0,388.0,390.0,392.0,394.0,396.0,398.0,400.0,402.0,404.0,406.0,408.0,410.0],\"y\":[0.0,0.0119538,0.0228316,0.0335149,0.0420331,0.0485383,0.0535914,0.055372,0.0542562,0.0514845,0.0487137,0.045943,0.0431718,0.0404011,0.0376294,0.0352425,0.0328553,0.0304679,0.0280814,0.0256939,0.0236246,0.021556,0.0194868,0.0174183,0.0153492,0.0140439,0.0127386,0.0114331,0.0101277,0.0089226,0.0079165,0.0070609,0.00626,0.0055587,0.0050572,0.0046556,0.0042543,0.0039025,0.0035511,0.0032497,0.0030549,0.0029103,0.0027654,0.0026706,0.0025757,0.0024812,0.0023864,0.0022915,0.0021967,0.0021018,0.0020068,0.0019122,0.0018174,0.0017226,0.0016276,0.0015329,0.0014382,0.0013435,0.0012489,0.0011572,0.0010656,0.0009738,0.0008821,0.0007905,0.0006988,0.0006071,0.0005154,0.0004637,0.0004319,0.0004201,0.0003955,0.000371,0.0003466,0.0003221,0.0002976,0.0002731,0.0002486,0.0002241,0.0001996,0.0001752,0.0001507,0.0001261,0.0001066,9.21e-05,7.76e-05,6.82e-05,5.92e-05,5.12e-05,4.52e-05,3.92e-05,3.32e-05,2.72e-05,2.37e-05,2.12e-05,1.91e-05,1.81e-05,1.71e-05,1.61e-05,1.51e-05,1.41e-05,1.31e-05,1.21e-05,1.11e-05,1.01e-05,9.1e-06,8.1e-06,7.1e-06,6e-06,5e-06,4e-06,3e-06,2e-06,1e-06,0.0,0.0,0.0,0.0,0.0,0.0,0.0,0.0,0.0,0.0,0.0,0.0,0.0,0.0,0.0,0.0,0.0,0.0,0.0,0.0,0.0,0.0,0.0,0.0,0.0,0.0,0.0,0.0,0.0,0.0,0.0,0.0,0.0,0.0,0.0,0.0,0.0,0.0,0.0,0.0,0.0,0.0,0.0,0.0,0.0,0.0,0.0,0.0,0.0,0.0,0.0,0.0,0.0,0.0,0.0,0.0,0.0,0.0,0.0,0.0,0.0,0.0,0.0,0.0,0.0,0.0,0.0,0.0,0.0,0.0,0.0,0.0,0.0,0.0,0.0,0.0,0.0,0.0,0.0,0.0,0.0,0.0,0.0,0.0,0.0,0.0,0.0,0.0,0.0,0.0,0.0,0.0,0.0],\"type\":\"scatter\"},{\"line\":{\"shape\":\"spline\"},\"mode\":\"lines\",\"name\":\"HBW GC (6-Just IX-XI_HV)\",\"x\":[0.0,2.0,4.0,6.0,8.0,10.0,12.0,14.0,16.0,18.0,20.0,22.0,24.0,26.0,28.0,30.0,32.0,34.0,36.0,38.0,40.0,42.0,44.0,46.0,48.0,50.0,52.0,54.0,56.0,58.0,60.0,62.0,64.0,66.0,68.0,70.0,72.0,74.0,76.0,78.0,80.0,82.0,84.0,86.0,88.0,90.0,92.0,94.0,96.0,98.0,100.0,102.0,104.0,106.0,108.0,110.0,112.0,114.0,116.0,118.0,120.0,122.0,124.0,126.0,128.0,130.0,132.0,134.0,136.0,138.0,140.0,142.0,144.0,146.0,148.0,150.0,152.0,154.0,156.0,158.0,160.0,162.0,164.0,166.0,168.0,170.0,172.0,174.0,176.0,178.0,180.0,182.0,184.0,186.0,188.0,190.0,192.0,194.0,196.0,198.0,200.0,202.0,204.0,206.0,208.0,210.0,212.0,214.0,216.0,218.0,220.0,222.0,224.0,226.0,228.0,230.0,232.0,234.0,236.0,238.0,240.0,242.0,244.0,246.0,248.0,250.0,252.0,254.0,256.0,258.0,260.0,262.0,264.0,266.0,268.0,270.0,272.0,274.0,276.0,278.0,280.0,282.0,284.0,286.0,288.0,290.0,292.0,294.0,296.0,298.0,300.0,302.0,304.0,306.0,308.0,310.0,312.0,314.0,316.0,318.0,320.0,322.0,324.0,326.0,328.0,330.0,332.0,334.0,336.0,338.0,340.0,342.0,344.0,346.0,348.0,350.0,352.0,354.0,356.0,358.0,360.0,362.0,364.0,366.0,368.0,370.0,372.0,374.0,376.0,378.0,380.0,382.0,384.0,386.0,388.0,390.0,392.0,394.0,396.0,398.0,400.0],\"y\":[0.0,0.012755830001927532,0.019104460095160605,0.03204377873388174,0.03790924498173215,0.04411008902327271,0.04897702160828876,0.0515563771172781,0.05321416777100845,0.05382142115250866,0.051259356859115174,0.04746541413408222,0.0451070878895903,0.04206659410297264,0.03958083023802628,0.03772813899275687,0.034402290639242626,0.03161137457007286,0.029303102495852676,0.027004076332906725,0.0247280597403206,0.02243886741473392,0.020470484693319625,0.018458038459005385,0.016347736569357722,0.014562792975171981,0.012575677072079579,0.01122787199386121,0.009957512252781879,0.008922855173543465,0.007982315777476736,0.007120861722891525,0.006181312518125916,0.005441410634449109,0.004809600508681075,0.004463596724590754,0.004198281154150643,0.0037378793313025257,0.0034752991643317646,0.0032231469495009493,0.003026395937967931,0.002775574292697999,0.0026781394686675565,0.0025151539805028118,0.0025141947326798495,0.002401182961743625,0.0023809335496356725,0.002276326027367724,0.0023130002376830446,0.0022691718952171152,0.0021792439589883063,0.0020683672880451275,0.0018806703382217471,0.0018351710479351732,0.0017330947021807195,0.0016295021259964217,0.0015198941376578059,0.0013716996320535769,0.0012316061290316553,0.0011591983901370808,0.0010828484521249128,0.0009826472811469594,0.0008611198650210827,0.0007683389401059151,0.000680700821260952,0.0006020610658649385,0.000524621917421536,0.0004765481297520441,0.00043272597598174655,0.00039485734740944727,0.0003441781188788772,0.00028940816253554525,0.00026558787304791984,0.00021091074713906814,0.00018246750201432764,0.00015159828820183723,0.00012018446917372954,0.00010601235617641542,8.972370927295217e-05,7.181981280953304e-05,5.470806938701181e-05,4.450291028981922e-05,3.514560249421268e-05,2.740354425856202e-05,2.0979678192530543e-05,1.6090608643238765e-05,1.3485167782160488e-05,1.0378442574889004e-05,8.435192146436321e-06,6.634281717519984e-06,5.13042867894036e-06,3.855557378745289e-06,2.8777434688869334e-06,2.39502520958977e-06,1.763778255124249e-06,1.441966082259474e-06,1.0582669530745497e-06,7.61209562737834e-07,6.18869563201491e-07,2.8467999907268583e-07,2.2279304275253676e-07,1.5471739080037274e-07,8.664173884820875e-08,1.1139652137626838e-07,3.7132173792089464e-08,3.713217379208946e-08,3.7132173792089464e-08,4.3320869424104377e-08,4.3320869424104377e-08,4.3320869424104377e-08,3.713217379208946e-08,1.237739126402982e-08,2.475478252805964e-08,6.18869563201491e-09,0.0,1.237739126402982e-08,0.0,0.0,0.0,0.0,0.0,0.0,0.0,0.0,0.0,0.0,0.0,0.0,0.0,0.0,0.0,0.0,0.0,0.0,0.0,0.0,0.0,0.0,0.0,0.0,0.0,0.0,0.0,0.0,0.0,0.0,0.0,0.0,0.0,0.0,0.0,0.0,0.0,0.0,0.0,0.0,0.0,0.0,0.0,0.0,0.0,0.0,0.0,0.0,0.0,0.0,0.0,0.0,0.0,0.0,0.0,0.0,0.0,0.0,0.0,0.0,0.0,0.0,0.0,0.0,0.0,0.0,0.0,0.0,0.0,0.0,0.0,0.0,0.0,0.0,0.0,0.0,0.0,0.0,0.0,0.0,0.0,0.0,0.0,0.0,0.0],\"type\":\"scatter\"}],                        {\"height\":450,\"template\":{\"data\":{\"barpolar\":[{\"marker\":{\"line\":{\"color\":\"#E5ECF6\",\"width\":0.5},\"pattern\":{\"fillmode\":\"overlay\",\"size\":10,\"solidity\":0.2}},\"type\":\"barpolar\"}],\"bar\":[{\"error_x\":{\"color\":\"#2a3f5f\"},\"error_y\":{\"color\":\"#2a3f5f\"},\"marker\":{\"line\":{\"color\":\"#E5ECF6\",\"width\":0.5},\"pattern\":{\"fillmode\":\"overlay\",\"size\":10,\"solidity\":0.2}},\"type\":\"bar\"}],\"carpet\":[{\"aaxis\":{\"endlinecolor\":\"#2a3f5f\",\"gridcolor\":\"white\",\"linecolor\":\"white\",\"minorgridcolor\":\"white\",\"startlinecolor\":\"#2a3f5f\"},\"baxis\":{\"endlinecolor\":\"#2a3f5f\",\"gridcolor\":\"white\",\"linecolor\":\"white\",\"minorgridcolor\":\"white\",\"startlinecolor\":\"#2a3f5f\"},\"type\":\"carpet\"}],\"choropleth\":[{\"colorbar\":{\"outlinewidth\":0,\"ticks\":\"\"},\"type\":\"choropleth\"}],\"contourcarpet\":[{\"colorbar\":{\"outlinewidth\":0,\"ticks\":\"\"},\"type\":\"contourcarpet\"}],\"contour\":[{\"colorbar\":{\"outlinewidth\":0,\"ticks\":\"\"},\"colorscale\":[[0.0,\"#0d0887\"],[0.1111111111111111,\"#46039f\"],[0.2222222222222222,\"#7201a8\"],[0.3333333333333333,\"#9c179e\"],[0.4444444444444444,\"#bd3786\"],[0.5555555555555556,\"#d8576b\"],[0.6666666666666666,\"#ed7953\"],[0.7777777777777778,\"#fb9f3a\"],[0.8888888888888888,\"#fdca26\"],[1.0,\"#f0f921\"]],\"type\":\"contour\"}],\"heatmapgl\":[{\"colorbar\":{\"outlinewidth\":0,\"ticks\":\"\"},\"colorscale\":[[0.0,\"#0d0887\"],[0.1111111111111111,\"#46039f\"],[0.2222222222222222,\"#7201a8\"],[0.3333333333333333,\"#9c179e\"],[0.4444444444444444,\"#bd3786\"],[0.5555555555555556,\"#d8576b\"],[0.6666666666666666,\"#ed7953\"],[0.7777777777777778,\"#fb9f3a\"],[0.8888888888888888,\"#fdca26\"],[1.0,\"#f0f921\"]],\"type\":\"heatmapgl\"}],\"heatmap\":[{\"colorbar\":{\"outlinewidth\":0,\"ticks\":\"\"},\"colorscale\":[[0.0,\"#0d0887\"],[0.1111111111111111,\"#46039f\"],[0.2222222222222222,\"#7201a8\"],[0.3333333333333333,\"#9c179e\"],[0.4444444444444444,\"#bd3786\"],[0.5555555555555556,\"#d8576b\"],[0.6666666666666666,\"#ed7953\"],[0.7777777777777778,\"#fb9f3a\"],[0.8888888888888888,\"#fdca26\"],[1.0,\"#f0f921\"]],\"type\":\"heatmap\"}],\"histogram2dcontour\":[{\"colorbar\":{\"outlinewidth\":0,\"ticks\":\"\"},\"colorscale\":[[0.0,\"#0d0887\"],[0.1111111111111111,\"#46039f\"],[0.2222222222222222,\"#7201a8\"],[0.3333333333333333,\"#9c179e\"],[0.4444444444444444,\"#bd3786\"],[0.5555555555555556,\"#d8576b\"],[0.6666666666666666,\"#ed7953\"],[0.7777777777777778,\"#fb9f3a\"],[0.8888888888888888,\"#fdca26\"],[1.0,\"#f0f921\"]],\"type\":\"histogram2dcontour\"}],\"histogram2d\":[{\"colorbar\":{\"outlinewidth\":0,\"ticks\":\"\"},\"colorscale\":[[0.0,\"#0d0887\"],[0.1111111111111111,\"#46039f\"],[0.2222222222222222,\"#7201a8\"],[0.3333333333333333,\"#9c179e\"],[0.4444444444444444,\"#bd3786\"],[0.5555555555555556,\"#d8576b\"],[0.6666666666666666,\"#ed7953\"],[0.7777777777777778,\"#fb9f3a\"],[0.8888888888888888,\"#fdca26\"],[1.0,\"#f0f921\"]],\"type\":\"histogram2d\"}],\"histogram\":[{\"marker\":{\"pattern\":{\"fillmode\":\"overlay\",\"size\":10,\"solidity\":0.2}},\"type\":\"histogram\"}],\"mesh3d\":[{\"colorbar\":{\"outlinewidth\":0,\"ticks\":\"\"},\"type\":\"mesh3d\"}],\"parcoords\":[{\"line\":{\"colorbar\":{\"outlinewidth\":0,\"ticks\":\"\"}},\"type\":\"parcoords\"}],\"pie\":[{\"automargin\":true,\"type\":\"pie\"}],\"scatter3d\":[{\"line\":{\"colorbar\":{\"outlinewidth\":0,\"ticks\":\"\"}},\"marker\":{\"colorbar\":{\"outlinewidth\":0,\"ticks\":\"\"}},\"type\":\"scatter3d\"}],\"scattercarpet\":[{\"marker\":{\"colorbar\":{\"outlinewidth\":0,\"ticks\":\"\"}},\"type\":\"scattercarpet\"}],\"scattergeo\":[{\"marker\":{\"colorbar\":{\"outlinewidth\":0,\"ticks\":\"\"}},\"type\":\"scattergeo\"}],\"scattergl\":[{\"marker\":{\"colorbar\":{\"outlinewidth\":0,\"ticks\":\"\"}},\"type\":\"scattergl\"}],\"scattermapbox\":[{\"marker\":{\"colorbar\":{\"outlinewidth\":0,\"ticks\":\"\"}},\"type\":\"scattermapbox\"}],\"scatterpolargl\":[{\"marker\":{\"colorbar\":{\"outlinewidth\":0,\"ticks\":\"\"}},\"type\":\"scatterpolargl\"}],\"scatterpolar\":[{\"marker\":{\"colorbar\":{\"outlinewidth\":0,\"ticks\":\"\"}},\"type\":\"scatterpolar\"}],\"scatter\":[{\"fillpattern\":{\"fillmode\":\"overlay\",\"size\":10,\"solidity\":0.2},\"type\":\"scatter\"}],\"scatterternary\":[{\"marker\":{\"colorbar\":{\"outlinewidth\":0,\"ticks\":\"\"}},\"type\":\"scatterternary\"}],\"surface\":[{\"colorbar\":{\"outlinewidth\":0,\"ticks\":\"\"},\"colorscale\":[[0.0,\"#0d0887\"],[0.1111111111111111,\"#46039f\"],[0.2222222222222222,\"#7201a8\"],[0.3333333333333333,\"#9c179e\"],[0.4444444444444444,\"#bd3786\"],[0.5555555555555556,\"#d8576b\"],[0.6666666666666666,\"#ed7953\"],[0.7777777777777778,\"#fb9f3a\"],[0.8888888888888888,\"#fdca26\"],[1.0,\"#f0f921\"]],\"type\":\"surface\"}],\"table\":[{\"cells\":{\"fill\":{\"color\":\"#EBF0F8\"},\"line\":{\"color\":\"white\"}},\"header\":{\"fill\":{\"color\":\"#C8D4E3\"},\"line\":{\"color\":\"white\"}},\"type\":\"table\"}]},\"layout\":{\"annotationdefaults\":{\"arrowcolor\":\"#2a3f5f\",\"arrowhead\":0,\"arrowwidth\":1},\"autotypenumbers\":\"strict\",\"coloraxis\":{\"colorbar\":{\"outlinewidth\":0,\"ticks\":\"\"}},\"colorscale\":{\"diverging\":[[0,\"#8e0152\"],[0.1,\"#c51b7d\"],[0.2,\"#de77ae\"],[0.3,\"#f1b6da\"],[0.4,\"#fde0ef\"],[0.5,\"#f7f7f7\"],[0.6,\"#e6f5d0\"],[0.7,\"#b8e186\"],[0.8,\"#7fbc41\"],[0.9,\"#4d9221\"],[1,\"#276419\"]],\"sequential\":[[0.0,\"#0d0887\"],[0.1111111111111111,\"#46039f\"],[0.2222222222222222,\"#7201a8\"],[0.3333333333333333,\"#9c179e\"],[0.4444444444444444,\"#bd3786\"],[0.5555555555555556,\"#d8576b\"],[0.6666666666666666,\"#ed7953\"],[0.7777777777777778,\"#fb9f3a\"],[0.8888888888888888,\"#fdca26\"],[1.0,\"#f0f921\"]],\"sequentialminus\":[[0.0,\"#0d0887\"],[0.1111111111111111,\"#46039f\"],[0.2222222222222222,\"#7201a8\"],[0.3333333333333333,\"#9c179e\"],[0.4444444444444444,\"#bd3786\"],[0.5555555555555556,\"#d8576b\"],[0.6666666666666666,\"#ed7953\"],[0.7777777777777778,\"#fb9f3a\"],[0.8888888888888888,\"#fdca26\"],[1.0,\"#f0f921\"]]},\"colorway\":[\"#636efa\",\"#EF553B\",\"#00cc96\",\"#ab63fa\",\"#FFA15A\",\"#19d3f3\",\"#FF6692\",\"#B6E880\",\"#FF97FF\",\"#FECB52\"],\"font\":{\"color\":\"#2a3f5f\"},\"geo\":{\"bgcolor\":\"white\",\"lakecolor\":\"white\",\"landcolor\":\"#E5ECF6\",\"showlakes\":true,\"showland\":true,\"subunitcolor\":\"white\"},\"hoverlabel\":{\"align\":\"left\"},\"hovermode\":\"closest\",\"mapbox\":{\"style\":\"light\"},\"paper_bgcolor\":\"white\",\"plot_bgcolor\":\"#E5ECF6\",\"polar\":{\"angularaxis\":{\"gridcolor\":\"white\",\"linecolor\":\"white\",\"ticks\":\"\"},\"bgcolor\":\"#E5ECF6\",\"radialaxis\":{\"gridcolor\":\"white\",\"linecolor\":\"white\",\"ticks\":\"\"}},\"scene\":{\"xaxis\":{\"backgroundcolor\":\"#E5ECF6\",\"gridcolor\":\"white\",\"gridwidth\":2,\"linecolor\":\"white\",\"showbackground\":true,\"ticks\":\"\",\"zerolinecolor\":\"white\"},\"yaxis\":{\"backgroundcolor\":\"#E5ECF6\",\"gridcolor\":\"white\",\"gridwidth\":2,\"linecolor\":\"white\",\"showbackground\":true,\"ticks\":\"\",\"zerolinecolor\":\"white\"},\"zaxis\":{\"backgroundcolor\":\"#E5ECF6\",\"gridcolor\":\"white\",\"gridwidth\":2,\"linecolor\":\"white\",\"showbackground\":true,\"ticks\":\"\",\"zerolinecolor\":\"white\"}},\"shapedefaults\":{\"line\":{\"color\":\"#2a3f5f\"}},\"ternary\":{\"aaxis\":{\"gridcolor\":\"white\",\"linecolor\":\"white\",\"ticks\":\"\"},\"baxis\":{\"gridcolor\":\"white\",\"linecolor\":\"white\",\"ticks\":\"\"},\"bgcolor\":\"#E5ECF6\",\"caxis\":{\"gridcolor\":\"white\",\"linecolor\":\"white\",\"ticks\":\"\"}},\"title\":{\"x\":0.05},\"xaxis\":{\"automargin\":true,\"gridcolor\":\"white\",\"linecolor\":\"white\",\"ticks\":\"\",\"title\":{\"standoff\":15},\"zerolinecolor\":\"white\",\"zerolinewidth\":2},\"yaxis\":{\"automargin\":true,\"gridcolor\":\"white\",\"linecolor\":\"white\",\"ticks\":\"\",\"title\":{\"standoff\":15},\"zerolinecolor\":\"white\",\"zerolinewidth\":2}}},\"title\":{\"text\":\"Trip Length Frequencies - Observed Data\"},\"xaxis\":{\"range\":[0.0,100.0],\"title\":{\"text\":\"GC/Dist/Time\"}},\"yaxis\":{\"range\":[0.0,null],\"title\":{\"text\":\"\"}}},                        {\"responsive\": true}                    ).then(function(){\n",
       "                            \n",
       "var gd = document.getElementById('6f8ba837-c6bd-4ecf-b532-90f03709cf23');\n",
       "var x = new MutationObserver(function (mutations, observer) {{\n",
       "        var display = window.getComputedStyle(gd).display;\n",
       "        if (!display || display === 'none') {{\n",
       "            console.log([gd, 'removed!']);\n",
       "            Plotly.purge(gd);\n",
       "            observer.disconnect();\n",
       "        }}\n",
       "}});\n",
       "\n",
       "// Listen for the removal of the full notebook cells\n",
       "var notebookContainer = gd.closest('#notebook-container');\n",
       "if (notebookContainer) {{\n",
       "    x.observe(notebookContainer, {childList: true});\n",
       "}}\n",
       "\n",
       "// Listen for the clearing of the current output cell\n",
       "var outputEl = gd.closest('.output');\n",
       "if (outputEl) {{\n",
       "    x.observe(outputEl, {childList: true});\n",
       "}}\n",
       "\n",
       "                        })                };                });            </script>        </div>"
      ]
     },
     "metadata": {},
     "output_type": "display_data"
    }
   ],
   "source": [
    "# MAKE INTERACTIVE CHART\n",
    "py.offline.init_notebook_mode(connected=True)\n",
    "\n",
    "lstTripPurp  = dfObsModelMerge['TRIPPURP'].unique().tolist() # HBW, HBShp, HBOth,...\n",
    "lstTLFType   = dfObsModelMerge['TLFTYPE' ].unique().tolist() # GC, Time, Dist\n",
    "lstModOpt    = dfObsModelMerge['FF_CALIB_ROUND'].unique().tolist()\n",
    "    \n",
    "selectTripPurp     = widgets.SelectMultiple(options=lstTripPurp                     , value=('HBW',)                     , description='Trip Purpose')\n",
    "selectTLFType      = widgets.SelectMultiple(options=lstTLFType                      , value=('GC' ,)                     , description='TLF Type'    )\n",
    "selectPreset       = widgets.Select        (options=dfZoomPresets['PRESET'].tolist(), value= 'Begin'                     , description='Zoom Presets')\n",
    "selectModelOption  = widgets.SelectMultiple(options=lstModOpt                       , value=(lstModOpt[-1],lstModOpt[-2]), description='Model Runs'  )\n",
    "\n",
    "#custom extents\n",
    "xmin = widgets.Text(value='0'  , description='X Min')\n",
    "xmax = widgets.Text(value='160' , description='X Max')\n",
    "ymin = widgets.Text(value='0'  , description='Y Min')\n",
    "ymax = widgets.Text(value='.10', description='Y Max')\n",
    "\n",
    "widgets.interactive(update_plot_mod_vs_obs, modeloption=selectModelOption,trippurps=selectTripPurp, tlftypes=selectTLFType, zoompreset=selectPreset, xmin=xmin, xmax=xmax, ymin=ymin, ymax=ymax)\n",
    "\n",
    "#ADD RAW OBSERVED CURVES"
   ]
  },
  {
   "cell_type": "markdown",
   "metadata": {},
   "source": [
    "# Friction Factor Adjustment and Smoothing"
   ]
  },
  {
   "cell_type": "code",
   "execution_count": 26,
   "metadata": {},
   "outputs": [
    {
     "data": {
      "text/plain": [
       "['LT', 'MD', 'IX_LT', 'IX_HV', 'XI_LT', 'XI_HV']"
      ]
     },
     "metadata": {},
     "output_type": "display_data"
    }
   ],
   "source": [
    "# function check which trip urposes are unlocked for a given round\n",
    " \n",
    "def getUnlockedListForCalibRound(roundindex):\n",
    "\n",
    "    aUnlockedTripPurp = []\n",
    "\n",
    "    # list trip purposes. must have dfsFF[0] loaded with complete set\n",
    "    trippurps = dfsFF[0]['TRIPPURP'].unique().tolist()\n",
    "    \n",
    "    if debug: print('Calib Round Index: ' + str(roundindex))\n",
    "\n",
    "    for trippurp in trippurps:\n",
    "        \n",
    "        #get round of lock\n",
    "        lockedRoundIndices = dfTripPurpLocks[dfTripPurpLocks['TRIPPURP']==trippurp]['LOCK_FF_CALIB_ROUND_INDEX'].values\n",
    "\n",
    "        if lockedRoundIndices.size > 0:\n",
    "            lockedRoundIndex = lockedRoundIndices[0]\n",
    "            if roundindex < lockedRoundIndex:\n",
    "                aUnlockedTripPurp.append(trippurp)\n",
    "        else:\n",
    "            aUnlockedTripPurp.append(trippurp)\n",
    "\n",
    "    return aUnlockedTripPurp\n",
    "\n",
    "display(getUnlockedListForCalibRound(6))"
   ]
  },
  {
   "cell_type": "code",
   "execution_count": 27,
   "metadata": {},
   "outputs": [
    {
     "name": "stdout",
     "output_type": "stream",
     "text": [
      "Calbration Round: 0\n",
      "Calbration Round: 1\n",
      "Calbration Round: 2\n",
      "Calbration Round: 3\n",
      "Calbration Round: 4\n",
      "Calbration Round: 5\n",
      "Calbration Round: 6\n"
     ]
    }
   ],
   "source": [
    "# calculated new friction factors for each round of calibration\n",
    "\n",
    "# dataframe array of adjusted friction factors\n",
    "dfsFFAdj=[]\n",
    "\n",
    "for index, row in dfCalibrationRounds.iterrows():\n",
    "    print('Calbration Round: ' + str(index))\n",
    "\n",
    "    filename = os.path.join(os.path.join(dirIntermediate,str(index)),'3-friction factors adjusted.csv')\n",
    "    \n",
    "    # if friction factors locked\n",
    "    if row['LOCKFF']==True:\n",
    "        dfsFFAdj.append(pd.read_csv(filename))\n",
    "\n",
    "    # if friction factors not locked\n",
    "    else:\n",
    "\n",
    "        # initialize dataframes with round data, round index should be same as indexes for TLF and FF\n",
    "        dfTLF_TDM = dfsTLF_TDM[index][dfsTLF_TDM[index]['TLFTYPE']=='GC'].copy()\n",
    "        dfFF      = dfsFF[index].copy()\n",
    "\n",
    "        # filter out locked\n",
    "        dfTLF_TDM = dfTLF_TDM[dfTLF_TDM['TRIPPURP'].isin(getUnlockedListForCalibRound(index))].copy()\n",
    "        dfFF      = dfFF     [dfFF     ['TRIPPURP'].isin(getUnlockedListForCalibRound(index))].copy()\n",
    "        \n",
    "        # calculate adjustment factor\n",
    "        dfTLF_TDM.rename(columns={'FREQ':'FREQ_TDM'},inplace=True)\n",
    "        dfTLF_Obs.rename(columns={'FREQ':'FREQ_Obs'},inplace=True)\n",
    "\n",
    "        dfModVsObs = pd.DataFrame.merge(dfTLF_TDM,dfTLF_Obs,on=('TRIPPURP','TLFTYPE','BIN'))\n",
    "\n",
    "        # adjustment factor is observed divided by model\n",
    "        dfModVsObs.loc[dfModVsObs['FREQ_TDM']>0 , 'ADJFACTOR'] = dfModVsObs['FREQ_Obs'] / dfModVsObs['FREQ_TDM']\n",
    "\n",
    "        # if BIN 0 is empty, then use BIN 2 factor, unless empty as well\n",
    "        dfModVsObs['ADJFACTOR_NEXTBIN'] = dfModVsObs['ADJFACTOR'].shift(-1) # create temp field for next bin factor... should be ok to not filter by TRIPPURP and TLFTYPE since ends of curves are always 0\n",
    "        if debug: display(dfModVsObs)\n",
    "        \n",
    "        dfModVsObs.fillna(0,inplace=True) # fill NaNs with zeros\n",
    "        \n",
    "        dfModVsObs['ADJFACTOR'] = dfModVsObs.apply(lambda x: x['ADJFACTOR_NEXTBIN'] if (x['BIN']==0) & (x['ADJFACTOR']==0) & (x['ADJFACTOR_NEXTBIN']>=0) else x['ADJFACTOR'] ,axis=1)\n",
    "        \n",
    "        dfModVsObs.drop(columns=('ADJFACTOR_NEXTBIN'),inplace=True) # drop next bin factor column\n",
    "        \n",
    "        if debug: display(dfModVsObs)      \n",
    "\n",
    "        # don't know if this is needed \n",
    "        #dfModVsObs.loc[dfModVsObs['FREQ_TDM']==0, 'ADJFACTOR'] = 1\n",
    "\n",
    "        # raw adjusted friction factor: multiply friction factor from previous round by adjustment factor\n",
    "        dfModVsObsWithFF = pd.DataFrame.merge(dfModVsObs,dfFF,on=('TRIPPURP','BIN'))\n",
    "\n",
    "        dfModVsObsWithFF['FF_ADJ_RAW'] = dfModVsObsWithFF['FF'] * dfModVsObsWithFF['ADJFACTOR']\n",
    "\n",
    "        # normalized adj friction factor: divide by max (round to seven decimals) of first 100 bins (because trucks have some real tails, so just want beginning)\n",
    "        dfModVsObsWithFF_MaxAdj = (dfModVsObsWithFF[dfModVsObsWithFF['BIN']<=nrmlz_max_bin]\n",
    "            .groupby(['TLFTYPE','TRIPPURP'], as_index=False)\n",
    "                .agg(FF_ADJ_MAX=('FF_ADJ_RAW','max')))\n",
    "\n",
    "        dfModVsObsWithFFAdjNrml = pd.DataFrame.merge(dfModVsObsWithFF,dfModVsObsWithFF_MaxAdj, on=('TLFTYPE','TRIPPURP'))\n",
    "\n",
    "        dfModVsObsWithFFAdjNrml['FF_ADJ'] = round(dfModVsObsWithFFAdjNrml['FF_ADJ_RAW'] / dfModVsObsWithFFAdjNrml['FF_ADJ_MAX'],round_precision)\n",
    "\n",
    "        #cap adjustment at 1.0 (for those beyond bin nrmlz_max_bin)\n",
    "        dfModVsObsWithFFAdjNrml.loc[dfModVsObsWithFFAdjNrml['FF_ADJ']>1, 'FF_ADJ'] = 1\n",
    "\n",
    "        dfModVsObsWithFFAdjNrml = dfModVsObsWithFFAdjNrml.rename(columns=({'FF':'FF_ORIG'}))\n",
    "\n",
    "        # write out intermediate csv        \n",
    "        dfFFAdj = dfModVsObsWithFFAdjNrml[['TRIPPURP','TLFTYPE','BIN','FF_ORIG','FF_ADJ']]\n",
    "        dfFFAdj.to_csv(filename, index=False)\n",
    "                \n",
    "        if debug:\n",
    "            display(dfModVsObsWithFFAdjNrml)\n",
    "            dfCheck = (dfModVsObsWithFFAdjNrml\n",
    "                .groupby(['TLFTYPE','TRIPPURP'])\n",
    "                    .agg(FF_ADJ_MAX=('FF_ADJ','max')))\n",
    "            print('These all should be 1:')\n",
    "            display(dfCheck)\n",
    "\n",
    "        # append to dataframe\n",
    "        dfsFFAdj.append(dfFFAdj)\n",
    "        \n",
    "    if debug: display(dfsFFAdj)"
   ]
  },
  {
   "cell_type": "code",
   "execution_count": 28,
   "metadata": {},
   "outputs": [],
   "source": [
    "#PLOTTING FUNCTION\n",
    "# chart preset zoom extents\n",
    "dfZoomPresets = pd.DataFrame([\n",
    "    ['Begin' ,     0,    30,     0,np.NaN],\n",
    "    ['Mid'   ,     0,   200,     0, 0.03],\n",
    "    ['Tail'  ,   150,   400,     0, 0.001],\n",
    "    ['All'   ,np.NaN,np.NaN,np.NaN,np.NaN],\n",
    "    ['Custom',np.NaN,np.NaN,np.NaN,np.NaN],\n",
    "], columns=('PRESET','XMIN','XMAX','YMIN','YMAX'))\n",
    "dfZoomPresets\n",
    "\n",
    "aOAS=['Original','Adjusted','Smoothed']\n",
    "linewidths=[1.5,4,2]\n",
    "linedashes=['solid','dash','solid']\n",
    "\n",
    "def update_plot_ff(calibrnds, trippurps, oass, zoompreset):\n",
    "#def update_plot_ff(calibrnds, trippurps, oass, zoompreset, xmin, xmax, ymin, ymax):\n",
    "\n",
    "    dfAvgTripLen = pd.DataFrame()\n",
    "    \n",
    "    data = []\n",
    "    for calibrnd in calibrnds:\n",
    "        for oas in oass:\n",
    "            \n",
    "            linewidth = linewidths[aOAS.index(oas)]\n",
    "            linedash  = linedashes[aOAS.index(oas)]\n",
    "\n",
    "            for trippurp in trippurps:\n",
    "\n",
    "                # data for plotting from filtered dataframe\n",
    "                plotdata = dfFFsForCharts[(dfFFsForCharts['FF_CALIB_ROUND']==calibrnd) & (dfFFsForCharts['TRIPPURP']==trippurp) & (dfFFsForCharts['OAS']==oas) & (dfFFsForCharts['BIN']<400)]\n",
    "\n",
    "                # fill any NaN values with zeros\n",
    "                plotdata = plotdata.fillna(0)\n",
    "                \n",
    "                xplot = plotdata['BIN']\n",
    "                yplot = plotdata['FF']\n",
    "                name  = str(calibrnd) + ' ' + trippurp + ' ' + oas\n",
    "\n",
    "                trace1 = go.Scatter(\n",
    "                    x=xplot,\n",
    "                    y=yplot,\n",
    "                    mode='lines',\n",
    "                    name=name,\n",
    "                    line=dict(\n",
    "                        shape='spline',\n",
    "                        width=linewidth,\n",
    "                        dash=linedash\n",
    "                    )\n",
    "                )\n",
    "                data.append(trace1)\n",
    "                \n",
    "    # get zoom presets\n",
    "    if (zoompreset=='Custom'):\n",
    "        _xmin = xmin\n",
    "        _xmax = xmax\n",
    "        _ymin = ymin\n",
    "        _ymax = ymax\n",
    "    else:\n",
    "        _xmin = dfZoomPresets[dfZoomPresets['PRESET']==zoompreset]['XMIN'].values[0]\n",
    "        _xmax = dfZoomPresets[dfZoomPresets['PRESET']==zoompreset]['XMAX'].values[0]\n",
    "        _ymin = dfZoomPresets[dfZoomPresets['PRESET']==zoompreset]['YMIN'].values[0]\n",
    "        _ymax = dfZoomPresets[dfZoomPresets['PRESET']==zoompreset]['YMAX'].values[0]\n",
    "\n",
    "    layout = go.Layout(\n",
    "        title='Friction Factors',\n",
    "        yaxis=dict(\n",
    "            title='',\n",
    "            range=(_ymin,_ymax)\n",
    "        ),\n",
    "        xaxis=dict(\n",
    "            title='GC',\n",
    "            range=(_xmin,_xmax)\n",
    "        ),\n",
    "        #width=1600,\n",
    "        height=600\n",
    "    )\n",
    "    \n",
    "    fig = go.Figure(data=data, layout=layout)\n",
    "    #py.offline.iplot(fig)\n",
    "    fig.show()"
   ]
  },
  {
   "cell_type": "code",
   "execution_count": 29,
   "metadata": {},
   "outputs": [
    {
     "data": {
      "text/html": [
       "        <script type=\"text/javascript\">\n",
       "        window.PlotlyConfig = {MathJaxConfig: 'local'};\n",
       "        if (window.MathJax && window.MathJax.Hub && window.MathJax.Hub.Config) {window.MathJax.Hub.Config({SVG: {font: \"STIX-Web\"}});}\n",
       "        if (typeof require !== 'undefined') {\n",
       "        require.undef(\"plotly\");\n",
       "        requirejs.config({\n",
       "            paths: {\n",
       "                'plotly': ['https://cdn.plot.ly/plotly-2.12.1.min']\n",
       "            }\n",
       "        });\n",
       "        require(['plotly'], function(Plotly) {\n",
       "            window._Plotly = Plotly;\n",
       "        });\n",
       "        }\n",
       "        </script>\n",
       "        "
      ]
     },
     "metadata": {},
     "output_type": "display_data"
    },
    {
     "data": {
      "application/vnd.jupyter.widget-view+json": {
       "model_id": "93063007ae784b409d8acb77416a86b9",
       "version_major": 2,
       "version_minor": 0
      },
      "text/plain": [
       "interactive(children=(SelectMultiple(description='Calib Round', index=(6,), options=(0, 1, 2, 3, 4, 5, 6), val…"
      ]
     },
     "metadata": {},
     "output_type": "display_data"
    },
    {
     "data": {
      "application/vnd.plotly.v1+json": {
       "config": {
        "plotlyServerURL": "https://plot.ly"
       },
       "data": [
        {
         "line": {
          "dash": "solid",
          "shape": "spline",
          "width": 1.5
         },
         "mode": "lines",
         "name": "6 IX_HV Original",
         "type": "scatter",
         "x": [
          0,
          2,
          4,
          6,
          8,
          10,
          12,
          14,
          16,
          18,
          20,
          22,
          24,
          26,
          28,
          30,
          32,
          34,
          36,
          38,
          40,
          42,
          44,
          46,
          48,
          50,
          52,
          54,
          56,
          58,
          60,
          62,
          64,
          66,
          68,
          70,
          72,
          74,
          76,
          78,
          80,
          82,
          84,
          86,
          88,
          90,
          92,
          94,
          96,
          98,
          100,
          102,
          104,
          106,
          108,
          110,
          112,
          114,
          116,
          118,
          120,
          122,
          124,
          126,
          128,
          130,
          132,
          134,
          136,
          138,
          140,
          142,
          144,
          146,
          148,
          150,
          152,
          154,
          156,
          158,
          160,
          162,
          164,
          166,
          168,
          170,
          172,
          174,
          176,
          178,
          180,
          182,
          184,
          186,
          188,
          190,
          192,
          194,
          196,
          198,
          200,
          202,
          204,
          206,
          208,
          210,
          212,
          214,
          216,
          218,
          220,
          222,
          224,
          226,
          228,
          230,
          232,
          234,
          236,
          238,
          240,
          242,
          244,
          246,
          248,
          250,
          252,
          254,
          256,
          258,
          260,
          262,
          264,
          266,
          268,
          270,
          272,
          274,
          276,
          278,
          280,
          282,
          284,
          286,
          288,
          290,
          292,
          294,
          296,
          298,
          300,
          302,
          304,
          306,
          308,
          310,
          312,
          314,
          316,
          318,
          320,
          322,
          324,
          326,
          328,
          330,
          332,
          334,
          336,
          338,
          340,
          342,
          344,
          346,
          348,
          350,
          352,
          354,
          356,
          358,
          360,
          362,
          364,
          366,
          368,
          370,
          372,
          374,
          376,
          378,
          380,
          382,
          384,
          386,
          388,
          390,
          392,
          394,
          396,
          398
         ],
         "y": [
          1,
          0.85,
          0.7,
          0.55,
          0.4,
          0.2997427,
          0.2642281,
          0.2484563,
          0.2476844,
          0.2469126,
          0.2461407,
          0.2453688,
          0.244597,
          0.2438251,
          0.2430533,
          0.2422814,
          0.2415095,
          0.2407377,
          0.2399658,
          0.239194,
          0.2384221,
          0.2376502,
          0.2368784,
          0.2361065,
          0.2353346,
          0.2345628,
          0.2337909,
          0.2330191,
          0.2322472,
          0.2314753,
          0.2307035,
          0.2299316,
          0.2291598,
          0.2283879,
          0.227616,
          0.2268442,
          0.2260723,
          0.2253005,
          0.2245286,
          0.2237567,
          0.2229849,
          0.222213,
          0.2214412,
          0.2206693,
          0.2198974,
          0.2191256,
          0.2183537,
          0.2175819,
          0.21681,
          0.2160381,
          0.2152663,
          0.2144944,
          0.2137225,
          0.2129507,
          0.2121788,
          0.211407,
          0.2106351,
          0.2098632,
          0.2090914,
          0.2083195,
          0.2075477,
          0.2067758,
          0.2060039,
          0.2052321,
          0.2044602,
          0.2036884,
          0.2029165,
          0.2021446,
          0.2013728,
          0.2006009,
          0.1998291,
          0.1990572,
          0.1982853,
          0.1975135,
          0.1967416,
          0.1959698,
          0.1951979,
          0.194426,
          0.1936542,
          0.1928823,
          0.1921104,
          0.1913386,
          0.1905667,
          0.1897949,
          0.189023,
          0.1882511,
          0.1874793,
          0.1867074,
          0.1859356,
          0.1851637,
          0.1843918,
          0.18362,
          0.1828481,
          0.1820763,
          0.1813044,
          0.1805325,
          0.1797607,
          0.1789888,
          0.178217,
          0.1774451,
          0.1766732,
          0.1759014,
          0.1751295,
          0.1743577,
          0.1735858,
          0.1728139,
          0.1720421,
          0.1712702,
          0.1704983,
          0.1697265,
          0.1689546,
          0.1681828,
          0.1674109,
          0.166639,
          0.1658672,
          0.1650953,
          0.1643235,
          0.1635516,
          0.1627797,
          0.1620079,
          0.161236,
          0.1604642,
          0.1596923,
          0.1589204,
          0.1581486,
          0.1573767,
          0.1566049,
          0.155833,
          0.1550611,
          0.1542893,
          0.1535174,
          0.1527456,
          0.1519737,
          0.1512018,
          0.15043,
          0.1496581,
          0.1488862,
          0.1481144,
          0.1473425,
          0.1465707,
          0.1457988,
          0.1450269,
          0.1442551,
          0.1434832,
          0.1427114,
          0.1419395,
          0.1411676,
          0.1401247,
          0.1388108,
          0.1372259,
          0.1353699,
          0.1332428,
          0.1308448,
          0.1281757,
          0.1252355,
          0.1220244,
          0.1188132,
          0.115602,
          0.1123909,
          0.1091797,
          0.1059685,
          0.1027574,
          0.0995462,
          0.096335,
          0.0931239,
          0.0899127,
          0.0867015,
          0.0834904,
          0.0802792,
          0.077068,
          0.0738569,
          0.0706457,
          0.0674345,
          0.0642233,
          0.0610122,
          0.057801,
          0.0545898,
          0.0513787,
          0.0481675,
          0.0449563,
          0.0417452,
          0.038534,
          0.0353228,
          0.0321117,
          0.0289005,
          0.0256893,
          0.0224782,
          0.019267,
          0.0160558,
          0.0128447,
          0.0096335,
          0.0064223,
          0.0032112,
          0,
          0,
          0,
          0,
          0,
          0,
          0
         ]
        },
        {
         "line": {
          "dash": "dash",
          "shape": "spline",
          "width": 4
         },
         "mode": "lines",
         "name": "6 IX_HV Adjusted",
         "type": "scatter",
         "x": [
          0,
          2,
          4,
          6,
          8,
          10,
          12,
          14,
          16,
          18,
          20,
          22,
          24,
          26,
          28,
          30,
          32,
          34,
          36,
          38,
          40,
          42,
          44,
          46,
          48,
          50,
          52,
          54,
          56,
          58,
          60,
          62,
          64,
          66,
          68,
          70,
          72,
          74,
          76,
          78,
          80,
          82,
          84,
          86,
          88,
          90,
          92,
          94,
          96,
          98,
          100,
          102,
          104,
          106,
          108,
          110,
          112,
          114,
          116,
          118,
          120,
          122,
          124,
          126,
          128,
          130,
          132,
          134,
          136,
          138,
          140,
          142,
          144,
          146,
          148,
          150,
          152,
          154,
          156,
          158,
          160,
          162,
          164,
          166,
          168,
          170,
          172,
          174,
          176,
          178,
          180,
          182,
          184,
          186,
          188,
          190,
          192,
          194,
          196,
          198,
          200,
          202,
          204,
          206,
          208,
          210,
          212,
          214,
          216,
          218,
          220,
          222,
          224,
          226,
          228,
          230,
          232,
          234,
          236,
          238,
          240,
          242,
          244,
          246,
          248,
          250,
          252,
          254,
          256,
          258,
          260,
          262,
          264,
          266,
          268,
          270,
          272,
          274,
          276,
          278,
          280,
          282,
          284,
          286,
          288,
          290,
          292,
          294,
          296,
          298,
          300,
          302,
          304,
          306,
          308,
          310,
          312,
          314,
          316,
          318,
          320,
          322,
          324,
          326,
          328,
          330,
          332,
          334,
          336,
          338,
          340,
          342,
          344,
          346,
          348,
          350,
          352,
          354,
          356,
          358,
          360,
          362,
          364,
          366,
          368,
          370,
          372,
          374,
          376,
          378,
          380,
          382,
          384,
          386,
          388,
          390,
          392,
          394,
          396,
          398
         ],
         "y": [
          0,
          0,
          1,
          0.1803855,
          0.1833574,
          0.2147601,
          0.2032931,
          0.3040539,
          0.437131,
          0.2149836,
          0.353966,
          0.2535251,
          0.2981443,
          0.3803995,
          0.2223175,
          0.2945907,
          0.1412166,
          0.1494436,
          0.1714208,
          0.0939797,
          0.0616911,
          0.0795529,
          0.0765822,
          0.0582936,
          0.051537,
          0.058399,
          0.0620187,
          0.0510772,
          0.0467082,
          0.0679548,
          0.049294,
          0.0752268,
          0.0516772,
          0.0399125,
          0.0681031,
          0.0623831,
          0.0672841,
          0.0603922,
          0.0492457,
          0.0461535,
          0.0508442,
          0.0624089,
          0.0597964,
          0.0690642,
          0.0746247,
          0.0490592,
          0.0481907,
          0.0565198,
          0.0469454,
          0.1079394,
          0.0967907,
          0.0774434,
          0.1149391,
          0.0851392,
          0.1903913,
          0.1632329,
          0.1793954,
          0.1744437,
          0.2172417,
          0.1515095,
          0.209915,
          0.118308,
          0.174155,
          0.1388607,
          0.1337887,
          0.1402523,
          0.1448377,
          0.1583682,
          0.0941466,
          0.0823429,
          0.1079662,
          0.0731647,
          0.067506,
          0.1109438,
          0.0679627,
          0.0629521,
          0.0558977,
          0.0689788,
          0.0654313,
          0.0713543,
          0.0576827,
          0.0459685,
          0.0698145,
          0.0700861,
          0.0587776,
          0.0649648,
          0.0640774,
          0.0683063,
          0.0601177,
          0.0598502,
          0.0567852,
          0.0586587,
          0.0636754,
          0.0350432,
          0.0498856,
          0.0621068,
          0.049245,
          0.0430712,
          0.0472501,
          0.0616857,
          0.0563661,
          0.034771,
          0.0449625,
          0.0384897,
          0.0482544,
          0.0361841,
          0.0386686,
          0.0354517,
          0.0451865,
          0.0366827,
          0.0407777,
          0.0559383,
          0.0556908,
          0.0526279,
          0.0721098,
          0.0707964,
          0.0747386,
          0.0997412,
          0.0957796,
          0.1178508,
          0.1878108,
          0.1416962,
          0.1337737,
          0.1273298,
          0.1153206,
          0.1372114,
          0.1210021,
          0.1299734,
          0.1293589,
          0.1687305,
          0.1522508,
          0.1510224,
          0.101583,
          0.1876892,
          0.1481436,
          0.2008592,
          0.1923021,
          0.2342348,
          0.2136459,
          0.1956621,
          0.2191152,
          0.2660819,
          0.2747777,
          0.3036909,
          0.2468932,
          0.1930911,
          0.2639841,
          0.1556409,
          0.1299835,
          0.1493795,
          0.138253,
          0.1861605,
          0.0906633,
          0.1036357,
          0.1068257,
          0.1180224,
          0.0998185,
          0.0920211,
          0.0955813,
          0.0827574,
          0.100128,
          0.0963074,
          0.0887858,
          0.0993205,
          0.0973558,
          0.0507365,
          0.0845746,
          0.0781576,
          0.0916629,
          0.0710393,
          0.0765623,
          0.0737843,
          0.0502176,
          0.0675104,
          0.0458269,
          0.0828783,
          0.0315403,
          0.0178799,
          0.028141,
          0.0245428,
          0.0143638,
          0.0191272,
          0.0141382,
          0.0196294,
          0.0088859,
          0.0110154,
          0.0099273,
          0.0066245,
          0.0076456,
          0.0025905,
          0.0022311,
          0.0009254,
          0,
          0,
          0,
          0,
          0,
          0,
          0,
          0
         ]
        },
        {
         "line": {
          "dash": "solid",
          "shape": "spline",
          "width": 2
         },
         "mode": "lines",
         "name": "6 IX_HV Smoothed",
         "type": "scatter",
         "x": [
          0,
          2,
          4,
          6,
          8,
          10,
          12,
          14,
          16,
          18,
          20,
          22,
          24,
          26,
          28,
          30,
          32,
          34,
          36,
          38,
          40,
          42,
          44,
          46,
          48,
          50,
          52,
          54,
          56,
          58,
          60,
          62,
          64,
          66,
          68,
          70,
          72,
          74,
          76,
          78,
          80,
          82,
          84,
          86,
          88,
          90,
          92,
          94,
          96,
          98,
          100,
          102,
          104,
          106,
          108,
          110,
          112,
          114,
          116,
          118,
          120,
          122,
          124,
          126,
          128,
          130,
          132,
          134,
          136,
          138,
          140,
          142,
          144,
          146,
          148,
          150,
          152,
          154,
          156,
          158,
          160,
          162,
          164,
          166,
          168,
          170,
          172,
          174,
          176,
          178,
          180,
          182,
          184,
          186,
          188,
          190,
          192,
          194,
          196,
          198,
          200,
          202,
          204,
          206,
          208,
          210,
          212,
          214,
          216,
          218,
          220,
          222,
          224,
          226,
          228,
          230,
          232,
          234,
          236,
          238,
          240,
          242,
          244,
          246,
          248,
          250,
          252,
          254,
          256,
          258,
          260,
          262,
          264,
          266,
          268,
          270,
          272,
          274,
          276,
          278,
          280,
          282,
          284,
          286,
          288,
          290,
          292,
          294,
          296,
          298,
          300,
          302,
          304,
          306,
          308,
          310,
          312,
          314,
          316,
          318,
          320,
          322,
          324,
          326,
          328,
          330,
          332,
          334,
          336,
          338,
          340,
          342,
          344,
          346,
          348,
          350,
          352,
          354,
          356,
          358,
          360,
          362,
          364,
          366,
          368,
          370,
          372,
          374,
          376,
          378,
          380,
          382,
          384,
          386,
          388,
          390,
          392,
          394,
          396,
          398
         ],
         "y": [
          1,
          0.8125,
          0.625,
          0.4375,
          0.3,
          0.2492346095890411,
          0.24846921917808218,
          0.2477038287671233,
          0.24693843835616439,
          0.24617304794520548,
          0.24540765753424656,
          0.24464226712328768,
          0.24387687671232877,
          0.24311148630136986,
          0.24234609589041095,
          0.24158070547945204,
          0.24081531506849316,
          0.24004992465753425,
          0.23928453424657534,
          0.23851914383561643,
          0.23775375342465754,
          0.23698836301369863,
          0.23622297260273972,
          0.2354575821917808,
          0.2346921917808219,
          0.23392680136986302,
          0.2331614109589041,
          0.2323960205479452,
          0.23163063013698632,
          0.2308652397260274,
          0.2300998493150685,
          0.22933445890410958,
          0.22856906849315067,
          0.2278036780821918,
          0.22703828767123288,
          0.22627289726027397,
          0.22550750684931506,
          0.22474211643835618,
          0.22397672602739727,
          0.22321133561643836,
          0.22244594520547945,
          0.22168055479452053,
          0.22091516438356165,
          0.22014977397260274,
          0.21938438356164383,
          0.21861899315068492,
          0.21785360273972604,
          0.21708821232876713,
          0.21632282191780822,
          0.2155574315068493,
          0.2147920410958904,
          0.2140266506849315,
          0.2132612602739726,
          0.2124958698630137,
          0.21173047945205478,
          0.2109650890410959,
          0.210199698630137,
          0.20943430821917808,
          0.20866891780821917,
          0.20790352739726026,
          0.20713813698630137,
          0.20637274657534246,
          0.20560735616438355,
          0.20484196575342464,
          0.20407657534246576,
          0.20331118493150685,
          0.20254579452054794,
          0.20178040410958903,
          0.20101501369863012,
          0.20024962328767124,
          0.19948423287671233,
          0.19871884246575341,
          0.1979534520547945,
          0.1971880616438356,
          0.1964226712328767,
          0.19565728082191783,
          0.1948918904109589,
          0.1941265,
          0.19336110958904107,
          0.19259571917808221,
          0.19183032876712328,
          0.1910649383561644,
          0.19029954794520546,
          0.18953415753424657,
          0.18876876712328766,
          0.18800337671232875,
          0.18723798630136984,
          0.18647259589041096,
          0.18570720547945205,
          0.18494181506849316,
          0.18417642465753425,
          0.18341103424657534,
          0.18264564383561643,
          0.18188025342465752,
          0.1811148630136986,
          0.1803494726027397,
          0.17958408219178082,
          0.1788186917808219,
          0.17805330136986303,
          0.17728791095890412,
          0.1765225205479452,
          0.1757571301369863,
          0.17499173972602738,
          0.17422634931506847,
          0.17346095890410956,
          0.17269556849315068,
          0.17193017808219177,
          0.1711647876712329,
          0.17039939726027398,
          0.16963400684931507,
          0.16886861643835616,
          0.16810322602739725,
          0.16733783561643834,
          0.16657244520547942,
          0.16580705479452054,
          0.16504166438356163,
          0.16427627397260275,
          0.16351088356164384,
          0.16274549315068493,
          0.16198010273972602,
          0.1612147123287671,
          0.1604493219178082,
          0.15968393150684929,
          0.1589185410958904,
          0.1581531506849315,
          0.1573877602739726,
          0.1566223698630137,
          0.1558569794520548,
          0.15509158904109588,
          0.15432619863013697,
          0.15356080821917806,
          0.15279541780821917,
          0.15203002739726026,
          0.15126463698630135,
          0.15049924657534247,
          0.14973385616438356,
          0.14896846575342465,
          0.14820307534246574,
          0.14743768493150683,
          0.14667229452054792,
          0.14590690410958904,
          0.14514151369863013,
          0.14437612328767124,
          0.14361073287671233,
          0.14284534246575342,
          0.1420799520547945,
          0.1413145616438356,
          0.14052957387113138,
          0.1397249887366819,
          0.13890080624048706,
          0.1380570263825469,
          0.13719364916286148,
          0.13631067458143076,
          0.13540810263825467,
          0.13448593333333334,
          0.13354416666666666,
          0.13260239999999998,
          0.13166063333333333,
          0.13071886666666666,
          0.12977709999999998,
          0.12883533333333333,
          0.12789356666666665,
          0.1269518,
          0.12601003333333333,
          0.12506826666666665,
          0.1241265,
          0.12318473333333332,
          0.12224296666666666,
          0.1213012,
          0.12035943333333332,
          0.11941766666666666,
          0.1184759,
          0.11753413333333333,
          0.11659236666666667,
          0.11565059999999999,
          0.11470883333333333,
          0.11376706666666667,
          0.1128253,
          0.11188353333333334,
          0.11094176666666666,
          0.11,
          0.10083333333333333,
          0.09166666666666667,
          0.0825,
          0.07333333333333333,
          0.06416666666666666,
          0.055,
          0.04583333333333334,
          0.03666666666666667,
          0.027499999999999997,
          0.018333333333333326,
          0.00916666666666667,
          0,
          0,
          0,
          0,
          0,
          0,
          0,
          0
         ]
        }
       ],
       "layout": {
        "height": 600,
        "template": {
         "data": {
          "bar": [
           {
            "error_x": {
             "color": "#2a3f5f"
            },
            "error_y": {
             "color": "#2a3f5f"
            },
            "marker": {
             "line": {
              "color": "#E5ECF6",
              "width": 0.5
             },
             "pattern": {
              "fillmode": "overlay",
              "size": 10,
              "solidity": 0.2
             }
            },
            "type": "bar"
           }
          ],
          "barpolar": [
           {
            "marker": {
             "line": {
              "color": "#E5ECF6",
              "width": 0.5
             },
             "pattern": {
              "fillmode": "overlay",
              "size": 10,
              "solidity": 0.2
             }
            },
            "type": "barpolar"
           }
          ],
          "carpet": [
           {
            "aaxis": {
             "endlinecolor": "#2a3f5f",
             "gridcolor": "white",
             "linecolor": "white",
             "minorgridcolor": "white",
             "startlinecolor": "#2a3f5f"
            },
            "baxis": {
             "endlinecolor": "#2a3f5f",
             "gridcolor": "white",
             "linecolor": "white",
             "minorgridcolor": "white",
             "startlinecolor": "#2a3f5f"
            },
            "type": "carpet"
           }
          ],
          "choropleth": [
           {
            "colorbar": {
             "outlinewidth": 0,
             "ticks": ""
            },
            "type": "choropleth"
           }
          ],
          "contour": [
           {
            "colorbar": {
             "outlinewidth": 0,
             "ticks": ""
            },
            "colorscale": [
             [
              0,
              "#0d0887"
             ],
             [
              0.1111111111111111,
              "#46039f"
             ],
             [
              0.2222222222222222,
              "#7201a8"
             ],
             [
              0.3333333333333333,
              "#9c179e"
             ],
             [
              0.4444444444444444,
              "#bd3786"
             ],
             [
              0.5555555555555556,
              "#d8576b"
             ],
             [
              0.6666666666666666,
              "#ed7953"
             ],
             [
              0.7777777777777778,
              "#fb9f3a"
             ],
             [
              0.8888888888888888,
              "#fdca26"
             ],
             [
              1,
              "#f0f921"
             ]
            ],
            "type": "contour"
           }
          ],
          "contourcarpet": [
           {
            "colorbar": {
             "outlinewidth": 0,
             "ticks": ""
            },
            "type": "contourcarpet"
           }
          ],
          "heatmap": [
           {
            "colorbar": {
             "outlinewidth": 0,
             "ticks": ""
            },
            "colorscale": [
             [
              0,
              "#0d0887"
             ],
             [
              0.1111111111111111,
              "#46039f"
             ],
             [
              0.2222222222222222,
              "#7201a8"
             ],
             [
              0.3333333333333333,
              "#9c179e"
             ],
             [
              0.4444444444444444,
              "#bd3786"
             ],
             [
              0.5555555555555556,
              "#d8576b"
             ],
             [
              0.6666666666666666,
              "#ed7953"
             ],
             [
              0.7777777777777778,
              "#fb9f3a"
             ],
             [
              0.8888888888888888,
              "#fdca26"
             ],
             [
              1,
              "#f0f921"
             ]
            ],
            "type": "heatmap"
           }
          ],
          "heatmapgl": [
           {
            "colorbar": {
             "outlinewidth": 0,
             "ticks": ""
            },
            "colorscale": [
             [
              0,
              "#0d0887"
             ],
             [
              0.1111111111111111,
              "#46039f"
             ],
             [
              0.2222222222222222,
              "#7201a8"
             ],
             [
              0.3333333333333333,
              "#9c179e"
             ],
             [
              0.4444444444444444,
              "#bd3786"
             ],
             [
              0.5555555555555556,
              "#d8576b"
             ],
             [
              0.6666666666666666,
              "#ed7953"
             ],
             [
              0.7777777777777778,
              "#fb9f3a"
             ],
             [
              0.8888888888888888,
              "#fdca26"
             ],
             [
              1,
              "#f0f921"
             ]
            ],
            "type": "heatmapgl"
           }
          ],
          "histogram": [
           {
            "marker": {
             "pattern": {
              "fillmode": "overlay",
              "size": 10,
              "solidity": 0.2
             }
            },
            "type": "histogram"
           }
          ],
          "histogram2d": [
           {
            "colorbar": {
             "outlinewidth": 0,
             "ticks": ""
            },
            "colorscale": [
             [
              0,
              "#0d0887"
             ],
             [
              0.1111111111111111,
              "#46039f"
             ],
             [
              0.2222222222222222,
              "#7201a8"
             ],
             [
              0.3333333333333333,
              "#9c179e"
             ],
             [
              0.4444444444444444,
              "#bd3786"
             ],
             [
              0.5555555555555556,
              "#d8576b"
             ],
             [
              0.6666666666666666,
              "#ed7953"
             ],
             [
              0.7777777777777778,
              "#fb9f3a"
             ],
             [
              0.8888888888888888,
              "#fdca26"
             ],
             [
              1,
              "#f0f921"
             ]
            ],
            "type": "histogram2d"
           }
          ],
          "histogram2dcontour": [
           {
            "colorbar": {
             "outlinewidth": 0,
             "ticks": ""
            },
            "colorscale": [
             [
              0,
              "#0d0887"
             ],
             [
              0.1111111111111111,
              "#46039f"
             ],
             [
              0.2222222222222222,
              "#7201a8"
             ],
             [
              0.3333333333333333,
              "#9c179e"
             ],
             [
              0.4444444444444444,
              "#bd3786"
             ],
             [
              0.5555555555555556,
              "#d8576b"
             ],
             [
              0.6666666666666666,
              "#ed7953"
             ],
             [
              0.7777777777777778,
              "#fb9f3a"
             ],
             [
              0.8888888888888888,
              "#fdca26"
             ],
             [
              1,
              "#f0f921"
             ]
            ],
            "type": "histogram2dcontour"
           }
          ],
          "mesh3d": [
           {
            "colorbar": {
             "outlinewidth": 0,
             "ticks": ""
            },
            "type": "mesh3d"
           }
          ],
          "parcoords": [
           {
            "line": {
             "colorbar": {
              "outlinewidth": 0,
              "ticks": ""
             }
            },
            "type": "parcoords"
           }
          ],
          "pie": [
           {
            "automargin": true,
            "type": "pie"
           }
          ],
          "scatter": [
           {
            "fillpattern": {
             "fillmode": "overlay",
             "size": 10,
             "solidity": 0.2
            },
            "type": "scatter"
           }
          ],
          "scatter3d": [
           {
            "line": {
             "colorbar": {
              "outlinewidth": 0,
              "ticks": ""
             }
            },
            "marker": {
             "colorbar": {
              "outlinewidth": 0,
              "ticks": ""
             }
            },
            "type": "scatter3d"
           }
          ],
          "scattercarpet": [
           {
            "marker": {
             "colorbar": {
              "outlinewidth": 0,
              "ticks": ""
             }
            },
            "type": "scattercarpet"
           }
          ],
          "scattergeo": [
           {
            "marker": {
             "colorbar": {
              "outlinewidth": 0,
              "ticks": ""
             }
            },
            "type": "scattergeo"
           }
          ],
          "scattergl": [
           {
            "marker": {
             "colorbar": {
              "outlinewidth": 0,
              "ticks": ""
             }
            },
            "type": "scattergl"
           }
          ],
          "scattermapbox": [
           {
            "marker": {
             "colorbar": {
              "outlinewidth": 0,
              "ticks": ""
             }
            },
            "type": "scattermapbox"
           }
          ],
          "scatterpolar": [
           {
            "marker": {
             "colorbar": {
              "outlinewidth": 0,
              "ticks": ""
             }
            },
            "type": "scatterpolar"
           }
          ],
          "scatterpolargl": [
           {
            "marker": {
             "colorbar": {
              "outlinewidth": 0,
              "ticks": ""
             }
            },
            "type": "scatterpolargl"
           }
          ],
          "scatterternary": [
           {
            "marker": {
             "colorbar": {
              "outlinewidth": 0,
              "ticks": ""
             }
            },
            "type": "scatterternary"
           }
          ],
          "surface": [
           {
            "colorbar": {
             "outlinewidth": 0,
             "ticks": ""
            },
            "colorscale": [
             [
              0,
              "#0d0887"
             ],
             [
              0.1111111111111111,
              "#46039f"
             ],
             [
              0.2222222222222222,
              "#7201a8"
             ],
             [
              0.3333333333333333,
              "#9c179e"
             ],
             [
              0.4444444444444444,
              "#bd3786"
             ],
             [
              0.5555555555555556,
              "#d8576b"
             ],
             [
              0.6666666666666666,
              "#ed7953"
             ],
             [
              0.7777777777777778,
              "#fb9f3a"
             ],
             [
              0.8888888888888888,
              "#fdca26"
             ],
             [
              1,
              "#f0f921"
             ]
            ],
            "type": "surface"
           }
          ],
          "table": [
           {
            "cells": {
             "fill": {
              "color": "#EBF0F8"
             },
             "line": {
              "color": "white"
             }
            },
            "header": {
             "fill": {
              "color": "#C8D4E3"
             },
             "line": {
              "color": "white"
             }
            },
            "type": "table"
           }
          ]
         },
         "layout": {
          "annotationdefaults": {
           "arrowcolor": "#2a3f5f",
           "arrowhead": 0,
           "arrowwidth": 1
          },
          "autotypenumbers": "strict",
          "coloraxis": {
           "colorbar": {
            "outlinewidth": 0,
            "ticks": ""
           }
          },
          "colorscale": {
           "diverging": [
            [
             0,
             "#8e0152"
            ],
            [
             0.1,
             "#c51b7d"
            ],
            [
             0.2,
             "#de77ae"
            ],
            [
             0.3,
             "#f1b6da"
            ],
            [
             0.4,
             "#fde0ef"
            ],
            [
             0.5,
             "#f7f7f7"
            ],
            [
             0.6,
             "#e6f5d0"
            ],
            [
             0.7,
             "#b8e186"
            ],
            [
             0.8,
             "#7fbc41"
            ],
            [
             0.9,
             "#4d9221"
            ],
            [
             1,
             "#276419"
            ]
           ],
           "sequential": [
            [
             0,
             "#0d0887"
            ],
            [
             0.1111111111111111,
             "#46039f"
            ],
            [
             0.2222222222222222,
             "#7201a8"
            ],
            [
             0.3333333333333333,
             "#9c179e"
            ],
            [
             0.4444444444444444,
             "#bd3786"
            ],
            [
             0.5555555555555556,
             "#d8576b"
            ],
            [
             0.6666666666666666,
             "#ed7953"
            ],
            [
             0.7777777777777778,
             "#fb9f3a"
            ],
            [
             0.8888888888888888,
             "#fdca26"
            ],
            [
             1,
             "#f0f921"
            ]
           ],
           "sequentialminus": [
            [
             0,
             "#0d0887"
            ],
            [
             0.1111111111111111,
             "#46039f"
            ],
            [
             0.2222222222222222,
             "#7201a8"
            ],
            [
             0.3333333333333333,
             "#9c179e"
            ],
            [
             0.4444444444444444,
             "#bd3786"
            ],
            [
             0.5555555555555556,
             "#d8576b"
            ],
            [
             0.6666666666666666,
             "#ed7953"
            ],
            [
             0.7777777777777778,
             "#fb9f3a"
            ],
            [
             0.8888888888888888,
             "#fdca26"
            ],
            [
             1,
             "#f0f921"
            ]
           ]
          },
          "colorway": [
           "#636efa",
           "#EF553B",
           "#00cc96",
           "#ab63fa",
           "#FFA15A",
           "#19d3f3",
           "#FF6692",
           "#B6E880",
           "#FF97FF",
           "#FECB52"
          ],
          "font": {
           "color": "#2a3f5f"
          },
          "geo": {
           "bgcolor": "white",
           "lakecolor": "white",
           "landcolor": "#E5ECF6",
           "showlakes": true,
           "showland": true,
           "subunitcolor": "white"
          },
          "hoverlabel": {
           "align": "left"
          },
          "hovermode": "closest",
          "mapbox": {
           "style": "light"
          },
          "paper_bgcolor": "white",
          "plot_bgcolor": "#E5ECF6",
          "polar": {
           "angularaxis": {
            "gridcolor": "white",
            "linecolor": "white",
            "ticks": ""
           },
           "bgcolor": "#E5ECF6",
           "radialaxis": {
            "gridcolor": "white",
            "linecolor": "white",
            "ticks": ""
           }
          },
          "scene": {
           "xaxis": {
            "backgroundcolor": "#E5ECF6",
            "gridcolor": "white",
            "gridwidth": 2,
            "linecolor": "white",
            "showbackground": true,
            "ticks": "",
            "zerolinecolor": "white"
           },
           "yaxis": {
            "backgroundcolor": "#E5ECF6",
            "gridcolor": "white",
            "gridwidth": 2,
            "linecolor": "white",
            "showbackground": true,
            "ticks": "",
            "zerolinecolor": "white"
           },
           "zaxis": {
            "backgroundcolor": "#E5ECF6",
            "gridcolor": "white",
            "gridwidth": 2,
            "linecolor": "white",
            "showbackground": true,
            "ticks": "",
            "zerolinecolor": "white"
           }
          },
          "shapedefaults": {
           "line": {
            "color": "#2a3f5f"
           }
          },
          "ternary": {
           "aaxis": {
            "gridcolor": "white",
            "linecolor": "white",
            "ticks": ""
           },
           "baxis": {
            "gridcolor": "white",
            "linecolor": "white",
            "ticks": ""
           },
           "bgcolor": "#E5ECF6",
           "caxis": {
            "gridcolor": "white",
            "linecolor": "white",
            "ticks": ""
           }
          },
          "title": {
           "x": 0.05
          },
          "xaxis": {
           "automargin": true,
           "gridcolor": "white",
           "linecolor": "white",
           "ticks": "",
           "title": {
            "standoff": 15
           },
           "zerolinecolor": "white",
           "zerolinewidth": 2
          },
          "yaxis": {
           "automargin": true,
           "gridcolor": "white",
           "linecolor": "white",
           "ticks": "",
           "title": {
            "standoff": 15
           },
           "zerolinecolor": "white",
           "zerolinewidth": 2
          }
         }
        },
        "title": {
         "text": "Friction Factors"
        },
        "xaxis": {
         "range": [
          null,
          null
         ],
         "title": {
          "text": "GC"
         }
        },
        "yaxis": {
         "range": [
          null,
          null
         ],
         "title": {
          "text": ""
         }
        }
       }
      },
      "text/html": [
       "<div>                            <div id=\"51d3b494-2bf5-4c50-a821-d4b077ce2178\" class=\"plotly-graph-div\" style=\"height:600px; width:100%;\"></div>            <script type=\"text/javascript\">                require([\"plotly\"], function(Plotly) {                    window.PLOTLYENV=window.PLOTLYENV || {};                                    if (document.getElementById(\"51d3b494-2bf5-4c50-a821-d4b077ce2178\")) {                    Plotly.newPlot(                        \"51d3b494-2bf5-4c50-a821-d4b077ce2178\",                        [{\"line\":{\"dash\":\"solid\",\"shape\":\"spline\",\"width\":1.5},\"mode\":\"lines\",\"name\":\"6 IX_HV Original\",\"x\":[0,2,4,6,8,10,12,14,16,18,20,22,24,26,28,30,32,34,36,38,40,42,44,46,48,50,52,54,56,58,60,62,64,66,68,70,72,74,76,78,80,82,84,86,88,90,92,94,96,98,100,102,104,106,108,110,112,114,116,118,120,122,124,126,128,130,132,134,136,138,140,142,144,146,148,150,152,154,156,158,160,162,164,166,168,170,172,174,176,178,180,182,184,186,188,190,192,194,196,198,200,202,204,206,208,210,212,214,216,218,220,222,224,226,228,230,232,234,236,238,240,242,244,246,248,250,252,254,256,258,260,262,264,266,268,270,272,274,276,278,280,282,284,286,288,290,292,294,296,298,300,302,304,306,308,310,312,314,316,318,320,322,324,326,328,330,332,334,336,338,340,342,344,346,348,350,352,354,356,358,360,362,364,366,368,370,372,374,376,378,380,382,384,386,388,390,392,394,396,398],\"y\":[1.0,0.85,0.7,0.55,0.4,0.2997427,0.2642281,0.2484563,0.2476844,0.2469126,0.2461407,0.2453688,0.244597,0.2438251,0.2430533,0.2422814,0.2415095,0.2407377,0.2399658,0.239194,0.2384221,0.2376502,0.2368784,0.2361065,0.2353346,0.2345628,0.2337909,0.2330191,0.2322472,0.2314753,0.2307035,0.2299316,0.2291598,0.2283879,0.227616,0.2268442,0.2260723,0.2253005,0.2245286,0.2237567,0.2229849,0.222213,0.2214412,0.2206693,0.2198974,0.2191256,0.2183537,0.2175819,0.21681,0.2160381,0.2152663,0.2144944,0.2137225,0.2129507,0.2121788,0.211407,0.2106351,0.2098632,0.2090914,0.2083195,0.2075477,0.2067758,0.2060039,0.2052321,0.2044602,0.2036884,0.2029165,0.2021446,0.2013728,0.2006009,0.1998291,0.1990572,0.1982853,0.1975135,0.1967416,0.1959698,0.1951979,0.194426,0.1936542,0.1928823,0.1921104,0.1913386,0.1905667,0.1897949,0.189023,0.1882511,0.1874793,0.1867074,0.1859356,0.1851637,0.1843918,0.18362,0.1828481,0.1820763,0.1813044,0.1805325,0.1797607,0.1789888,0.178217,0.1774451,0.1766732,0.1759014,0.1751295,0.1743577,0.1735858,0.1728139,0.1720421,0.1712702,0.1704983,0.1697265,0.1689546,0.1681828,0.1674109,0.166639,0.1658672,0.1650953,0.1643235,0.1635516,0.1627797,0.1620079,0.161236,0.1604642,0.1596923,0.1589204,0.1581486,0.1573767,0.1566049,0.155833,0.1550611,0.1542893,0.1535174,0.1527456,0.1519737,0.1512018,0.15043,0.1496581,0.1488862,0.1481144,0.1473425,0.1465707,0.1457988,0.1450269,0.1442551,0.1434832,0.1427114,0.1419395,0.1411676,0.1401247,0.1388108,0.1372259,0.1353699,0.1332428,0.1308448,0.1281757,0.1252355,0.1220244,0.1188132,0.115602,0.1123909,0.1091797,0.1059685,0.1027574,0.0995462,0.096335,0.0931239,0.0899127,0.0867015,0.0834904,0.0802792,0.077068,0.0738569,0.0706457,0.0674345,0.0642233,0.0610122,0.057801,0.0545898,0.0513787,0.0481675,0.0449563,0.0417452,0.038534,0.0353228,0.0321117,0.0289005,0.0256893,0.0224782,0.019267,0.0160558,0.0128447,0.0096335,0.0064223,0.0032112,0.0,0.0,0.0,0.0,0.0,0.0,0.0],\"type\":\"scatter\"},{\"line\":{\"dash\":\"dash\",\"shape\":\"spline\",\"width\":4},\"mode\":\"lines\",\"name\":\"6 IX_HV Adjusted\",\"x\":[0,2,4,6,8,10,12,14,16,18,20,22,24,26,28,30,32,34,36,38,40,42,44,46,48,50,52,54,56,58,60,62,64,66,68,70,72,74,76,78,80,82,84,86,88,90,92,94,96,98,100,102,104,106,108,110,112,114,116,118,120,122,124,126,128,130,132,134,136,138,140,142,144,146,148,150,152,154,156,158,160,162,164,166,168,170,172,174,176,178,180,182,184,186,188,190,192,194,196,198,200,202,204,206,208,210,212,214,216,218,220,222,224,226,228,230,232,234,236,238,240,242,244,246,248,250,252,254,256,258,260,262,264,266,268,270,272,274,276,278,280,282,284,286,288,290,292,294,296,298,300,302,304,306,308,310,312,314,316,318,320,322,324,326,328,330,332,334,336,338,340,342,344,346,348,350,352,354,356,358,360,362,364,366,368,370,372,374,376,378,380,382,384,386,388,390,392,394,396,398],\"y\":[0.0,0.0,1.0,0.1803855,0.1833574,0.2147601,0.2032931,0.3040539,0.437131,0.2149836,0.353966,0.2535251,0.2981443,0.3803995,0.2223175,0.2945907,0.1412166,0.1494436,0.1714208,0.0939797,0.0616911,0.0795529,0.0765822,0.0582936,0.051537,0.058399,0.0620187,0.0510772,0.0467082,0.0679548,0.049294,0.0752268,0.0516772,0.0399125,0.0681031,0.0623831,0.0672841,0.0603922,0.0492457,0.0461535,0.0508442,0.0624089,0.0597964,0.0690642,0.0746247,0.0490592,0.0481907,0.0565198,0.0469454,0.1079394,0.0967907,0.0774434,0.1149391,0.0851392,0.1903913,0.1632329,0.1793954,0.1744437,0.2172417,0.1515095,0.209915,0.118308,0.174155,0.1388607,0.1337887,0.1402523,0.1448377,0.1583682,0.0941466,0.0823429,0.1079662,0.0731647,0.067506,0.1109438,0.0679627,0.0629521,0.0558977,0.0689788,0.0654313,0.0713543,0.0576827,0.0459685,0.0698145,0.0700861,0.0587776,0.0649648,0.0640774,0.0683063,0.0601177,0.0598502,0.0567852,0.0586587,0.0636754,0.0350432,0.0498856,0.0621068,0.049245,0.0430712,0.0472501,0.0616857,0.0563661,0.034771,0.0449625,0.0384897,0.0482544,0.0361841,0.0386686,0.0354517,0.0451865,0.0366827,0.0407777,0.0559383,0.0556908,0.0526279,0.0721098,0.0707964,0.0747386,0.0997412,0.0957796,0.1178508,0.1878108,0.1416962,0.1337737,0.1273298,0.1153206,0.1372114,0.1210021,0.1299734,0.1293589,0.1687305,0.1522508,0.1510224,0.101583,0.1876892,0.1481436,0.2008592,0.1923021,0.2342348,0.2136459,0.1956621,0.2191152,0.2660819,0.2747777,0.3036909,0.2468932,0.1930911,0.2639841,0.1556409,0.1299835,0.1493795,0.138253,0.1861605,0.0906633,0.1036357,0.1068257,0.1180224,0.0998185,0.0920211,0.0955813,0.0827574,0.100128,0.0963074,0.0887858,0.0993205,0.0973558,0.0507365,0.0845746,0.0781576,0.0916629,0.0710393,0.0765623,0.0737843,0.0502176,0.0675104,0.0458269,0.0828783,0.0315403,0.0178799,0.028141,0.0245428,0.0143638,0.0191272,0.0141382,0.0196294,0.0088859,0.0110154,0.0099273,0.0066245,0.0076456,0.0025905,0.0022311,0.0009254,0.0,0.0,0.0,0.0,0.0,0.0,0.0,0.0],\"type\":\"scatter\"},{\"line\":{\"dash\":\"solid\",\"shape\":\"spline\",\"width\":2},\"mode\":\"lines\",\"name\":\"6 IX_HV Smoothed\",\"x\":[0,2,4,6,8,10,12,14,16,18,20,22,24,26,28,30,32,34,36,38,40,42,44,46,48,50,52,54,56,58,60,62,64,66,68,70,72,74,76,78,80,82,84,86,88,90,92,94,96,98,100,102,104,106,108,110,112,114,116,118,120,122,124,126,128,130,132,134,136,138,140,142,144,146,148,150,152,154,156,158,160,162,164,166,168,170,172,174,176,178,180,182,184,186,188,190,192,194,196,198,200,202,204,206,208,210,212,214,216,218,220,222,224,226,228,230,232,234,236,238,240,242,244,246,248,250,252,254,256,258,260,262,264,266,268,270,272,274,276,278,280,282,284,286,288,290,292,294,296,298,300,302,304,306,308,310,312,314,316,318,320,322,324,326,328,330,332,334,336,338,340,342,344,346,348,350,352,354,356,358,360,362,364,366,368,370,372,374,376,378,380,382,384,386,388,390,392,394,396,398],\"y\":[1.0,0.8125,0.625,0.4375,0.3,0.2492346095890411,0.24846921917808218,0.2477038287671233,0.24693843835616439,0.24617304794520548,0.24540765753424656,0.24464226712328768,0.24387687671232877,0.24311148630136986,0.24234609589041095,0.24158070547945204,0.24081531506849316,0.24004992465753425,0.23928453424657534,0.23851914383561643,0.23775375342465754,0.23698836301369863,0.23622297260273972,0.2354575821917808,0.2346921917808219,0.23392680136986302,0.2331614109589041,0.2323960205479452,0.23163063013698632,0.2308652397260274,0.2300998493150685,0.22933445890410958,0.22856906849315067,0.2278036780821918,0.22703828767123288,0.22627289726027397,0.22550750684931506,0.22474211643835618,0.22397672602739727,0.22321133561643836,0.22244594520547945,0.22168055479452053,0.22091516438356165,0.22014977397260274,0.21938438356164383,0.21861899315068492,0.21785360273972604,0.21708821232876713,0.21632282191780822,0.2155574315068493,0.2147920410958904,0.2140266506849315,0.2132612602739726,0.2124958698630137,0.21173047945205478,0.2109650890410959,0.210199698630137,0.20943430821917808,0.20866891780821917,0.20790352739726026,0.20713813698630137,0.20637274657534246,0.20560735616438355,0.20484196575342464,0.20407657534246576,0.20331118493150685,0.20254579452054794,0.20178040410958903,0.20101501369863012,0.20024962328767124,0.19948423287671233,0.19871884246575341,0.1979534520547945,0.1971880616438356,0.1964226712328767,0.19565728082191783,0.1948918904109589,0.1941265,0.19336110958904107,0.19259571917808221,0.19183032876712328,0.1910649383561644,0.19029954794520546,0.18953415753424657,0.18876876712328766,0.18800337671232875,0.18723798630136984,0.18647259589041096,0.18570720547945205,0.18494181506849316,0.18417642465753425,0.18341103424657534,0.18264564383561643,0.18188025342465752,0.1811148630136986,0.1803494726027397,0.17958408219178082,0.1788186917808219,0.17805330136986303,0.17728791095890412,0.1765225205479452,0.1757571301369863,0.17499173972602738,0.17422634931506847,0.17346095890410956,0.17269556849315068,0.17193017808219177,0.1711647876712329,0.17039939726027398,0.16963400684931507,0.16886861643835616,0.16810322602739725,0.16733783561643834,0.16657244520547942,0.16580705479452054,0.16504166438356163,0.16427627397260275,0.16351088356164384,0.16274549315068493,0.16198010273972602,0.1612147123287671,0.1604493219178082,0.15968393150684929,0.1589185410958904,0.1581531506849315,0.1573877602739726,0.1566223698630137,0.1558569794520548,0.15509158904109588,0.15432619863013697,0.15356080821917806,0.15279541780821917,0.15203002739726026,0.15126463698630135,0.15049924657534247,0.14973385616438356,0.14896846575342465,0.14820307534246574,0.14743768493150683,0.14667229452054792,0.14590690410958904,0.14514151369863013,0.14437612328767124,0.14361073287671233,0.14284534246575342,0.1420799520547945,0.1413145616438356,0.14052957387113138,0.1397249887366819,0.13890080624048706,0.1380570263825469,0.13719364916286148,0.13631067458143076,0.13540810263825467,0.13448593333333334,0.13354416666666666,0.13260239999999998,0.13166063333333333,0.13071886666666666,0.12977709999999998,0.12883533333333333,0.12789356666666665,0.1269518,0.12601003333333333,0.12506826666666665,0.1241265,0.12318473333333332,0.12224296666666666,0.1213012,0.12035943333333332,0.11941766666666666,0.1184759,0.11753413333333333,0.11659236666666667,0.11565059999999999,0.11470883333333333,0.11376706666666667,0.1128253,0.11188353333333334,0.11094176666666666,0.11,0.10083333333333333,0.09166666666666667,0.0825,0.07333333333333333,0.06416666666666666,0.055,0.04583333333333334,0.03666666666666667,0.027499999999999997,0.018333333333333326,0.00916666666666667,0.0,0.0,0.0,0.0,0.0,0.0,0.0,0.0],\"type\":\"scatter\"}],                        {\"height\":600,\"title\":{\"text\":\"Friction Factors\"},\"xaxis\":{\"range\":[null,null],\"title\":{\"text\":\"GC\"}},\"yaxis\":{\"range\":[null,null],\"title\":{\"text\":\"\"}},\"template\":{\"data\":{\"histogram2dcontour\":[{\"type\":\"histogram2dcontour\",\"colorbar\":{\"outlinewidth\":0,\"ticks\":\"\"},\"colorscale\":[[0.0,\"#0d0887\"],[0.1111111111111111,\"#46039f\"],[0.2222222222222222,\"#7201a8\"],[0.3333333333333333,\"#9c179e\"],[0.4444444444444444,\"#bd3786\"],[0.5555555555555556,\"#d8576b\"],[0.6666666666666666,\"#ed7953\"],[0.7777777777777778,\"#fb9f3a\"],[0.8888888888888888,\"#fdca26\"],[1.0,\"#f0f921\"]]}],\"choropleth\":[{\"type\":\"choropleth\",\"colorbar\":{\"outlinewidth\":0,\"ticks\":\"\"}}],\"histogram2d\":[{\"type\":\"histogram2d\",\"colorbar\":{\"outlinewidth\":0,\"ticks\":\"\"},\"colorscale\":[[0.0,\"#0d0887\"],[0.1111111111111111,\"#46039f\"],[0.2222222222222222,\"#7201a8\"],[0.3333333333333333,\"#9c179e\"],[0.4444444444444444,\"#bd3786\"],[0.5555555555555556,\"#d8576b\"],[0.6666666666666666,\"#ed7953\"],[0.7777777777777778,\"#fb9f3a\"],[0.8888888888888888,\"#fdca26\"],[1.0,\"#f0f921\"]]}],\"heatmap\":[{\"type\":\"heatmap\",\"colorbar\":{\"outlinewidth\":0,\"ticks\":\"\"},\"colorscale\":[[0.0,\"#0d0887\"],[0.1111111111111111,\"#46039f\"],[0.2222222222222222,\"#7201a8\"],[0.3333333333333333,\"#9c179e\"],[0.4444444444444444,\"#bd3786\"],[0.5555555555555556,\"#d8576b\"],[0.6666666666666666,\"#ed7953\"],[0.7777777777777778,\"#fb9f3a\"],[0.8888888888888888,\"#fdca26\"],[1.0,\"#f0f921\"]]}],\"heatmapgl\":[{\"type\":\"heatmapgl\",\"colorbar\":{\"outlinewidth\":0,\"ticks\":\"\"},\"colorscale\":[[0.0,\"#0d0887\"],[0.1111111111111111,\"#46039f\"],[0.2222222222222222,\"#7201a8\"],[0.3333333333333333,\"#9c179e\"],[0.4444444444444444,\"#bd3786\"],[0.5555555555555556,\"#d8576b\"],[0.6666666666666666,\"#ed7953\"],[0.7777777777777778,\"#fb9f3a\"],[0.8888888888888888,\"#fdca26\"],[1.0,\"#f0f921\"]]}],\"contourcarpet\":[{\"type\":\"contourcarpet\",\"colorbar\":{\"outlinewidth\":0,\"ticks\":\"\"}}],\"contour\":[{\"type\":\"contour\",\"colorbar\":{\"outlinewidth\":0,\"ticks\":\"\"},\"colorscale\":[[0.0,\"#0d0887\"],[0.1111111111111111,\"#46039f\"],[0.2222222222222222,\"#7201a8\"],[0.3333333333333333,\"#9c179e\"],[0.4444444444444444,\"#bd3786\"],[0.5555555555555556,\"#d8576b\"],[0.6666666666666666,\"#ed7953\"],[0.7777777777777778,\"#fb9f3a\"],[0.8888888888888888,\"#fdca26\"],[1.0,\"#f0f921\"]]}],\"surface\":[{\"type\":\"surface\",\"colorbar\":{\"outlinewidth\":0,\"ticks\":\"\"},\"colorscale\":[[0.0,\"#0d0887\"],[0.1111111111111111,\"#46039f\"],[0.2222222222222222,\"#7201a8\"],[0.3333333333333333,\"#9c179e\"],[0.4444444444444444,\"#bd3786\"],[0.5555555555555556,\"#d8576b\"],[0.6666666666666666,\"#ed7953\"],[0.7777777777777778,\"#fb9f3a\"],[0.8888888888888888,\"#fdca26\"],[1.0,\"#f0f921\"]]}],\"mesh3d\":[{\"type\":\"mesh3d\",\"colorbar\":{\"outlinewidth\":0,\"ticks\":\"\"}}],\"scatter\":[{\"fillpattern\":{\"fillmode\":\"overlay\",\"size\":10,\"solidity\":0.2},\"type\":\"scatter\"}],\"parcoords\":[{\"type\":\"parcoords\",\"line\":{\"colorbar\":{\"outlinewidth\":0,\"ticks\":\"\"}}}],\"scatterpolargl\":[{\"type\":\"scatterpolargl\",\"marker\":{\"colorbar\":{\"outlinewidth\":0,\"ticks\":\"\"}}}],\"bar\":[{\"error_x\":{\"color\":\"#2a3f5f\"},\"error_y\":{\"color\":\"#2a3f5f\"},\"marker\":{\"line\":{\"color\":\"#E5ECF6\",\"width\":0.5},\"pattern\":{\"fillmode\":\"overlay\",\"size\":10,\"solidity\":0.2}},\"type\":\"bar\"}],\"scattergeo\":[{\"type\":\"scattergeo\",\"marker\":{\"colorbar\":{\"outlinewidth\":0,\"ticks\":\"\"}}}],\"scatterpolar\":[{\"type\":\"scatterpolar\",\"marker\":{\"colorbar\":{\"outlinewidth\":0,\"ticks\":\"\"}}}],\"histogram\":[{\"marker\":{\"pattern\":{\"fillmode\":\"overlay\",\"size\":10,\"solidity\":0.2}},\"type\":\"histogram\"}],\"scattergl\":[{\"type\":\"scattergl\",\"marker\":{\"colorbar\":{\"outlinewidth\":0,\"ticks\":\"\"}}}],\"scatter3d\":[{\"type\":\"scatter3d\",\"line\":{\"colorbar\":{\"outlinewidth\":0,\"ticks\":\"\"}},\"marker\":{\"colorbar\":{\"outlinewidth\":0,\"ticks\":\"\"}}}],\"scattermapbox\":[{\"type\":\"scattermapbox\",\"marker\":{\"colorbar\":{\"outlinewidth\":0,\"ticks\":\"\"}}}],\"scatterternary\":[{\"type\":\"scatterternary\",\"marker\":{\"colorbar\":{\"outlinewidth\":0,\"ticks\":\"\"}}}],\"scattercarpet\":[{\"type\":\"scattercarpet\",\"marker\":{\"colorbar\":{\"outlinewidth\":0,\"ticks\":\"\"}}}],\"carpet\":[{\"aaxis\":{\"endlinecolor\":\"#2a3f5f\",\"gridcolor\":\"white\",\"linecolor\":\"white\",\"minorgridcolor\":\"white\",\"startlinecolor\":\"#2a3f5f\"},\"baxis\":{\"endlinecolor\":\"#2a3f5f\",\"gridcolor\":\"white\",\"linecolor\":\"white\",\"minorgridcolor\":\"white\",\"startlinecolor\":\"#2a3f5f\"},\"type\":\"carpet\"}],\"table\":[{\"cells\":{\"fill\":{\"color\":\"#EBF0F8\"},\"line\":{\"color\":\"white\"}},\"header\":{\"fill\":{\"color\":\"#C8D4E3\"},\"line\":{\"color\":\"white\"}},\"type\":\"table\"}],\"barpolar\":[{\"marker\":{\"line\":{\"color\":\"#E5ECF6\",\"width\":0.5},\"pattern\":{\"fillmode\":\"overlay\",\"size\":10,\"solidity\":0.2}},\"type\":\"barpolar\"}],\"pie\":[{\"automargin\":true,\"type\":\"pie\"}]},\"layout\":{\"autotypenumbers\":\"strict\",\"colorway\":[\"#636efa\",\"#EF553B\",\"#00cc96\",\"#ab63fa\",\"#FFA15A\",\"#19d3f3\",\"#FF6692\",\"#B6E880\",\"#FF97FF\",\"#FECB52\"],\"font\":{\"color\":\"#2a3f5f\"},\"hovermode\":\"closest\",\"hoverlabel\":{\"align\":\"left\"},\"paper_bgcolor\":\"white\",\"plot_bgcolor\":\"#E5ECF6\",\"polar\":{\"bgcolor\":\"#E5ECF6\",\"angularaxis\":{\"gridcolor\":\"white\",\"linecolor\":\"white\",\"ticks\":\"\"},\"radialaxis\":{\"gridcolor\":\"white\",\"linecolor\":\"white\",\"ticks\":\"\"}},\"ternary\":{\"bgcolor\":\"#E5ECF6\",\"aaxis\":{\"gridcolor\":\"white\",\"linecolor\":\"white\",\"ticks\":\"\"},\"baxis\":{\"gridcolor\":\"white\",\"linecolor\":\"white\",\"ticks\":\"\"},\"caxis\":{\"gridcolor\":\"white\",\"linecolor\":\"white\",\"ticks\":\"\"}},\"coloraxis\":{\"colorbar\":{\"outlinewidth\":0,\"ticks\":\"\"}},\"colorscale\":{\"sequential\":[[0.0,\"#0d0887\"],[0.1111111111111111,\"#46039f\"],[0.2222222222222222,\"#7201a8\"],[0.3333333333333333,\"#9c179e\"],[0.4444444444444444,\"#bd3786\"],[0.5555555555555556,\"#d8576b\"],[0.6666666666666666,\"#ed7953\"],[0.7777777777777778,\"#fb9f3a\"],[0.8888888888888888,\"#fdca26\"],[1.0,\"#f0f921\"]],\"sequentialminus\":[[0.0,\"#0d0887\"],[0.1111111111111111,\"#46039f\"],[0.2222222222222222,\"#7201a8\"],[0.3333333333333333,\"#9c179e\"],[0.4444444444444444,\"#bd3786\"],[0.5555555555555556,\"#d8576b\"],[0.6666666666666666,\"#ed7953\"],[0.7777777777777778,\"#fb9f3a\"],[0.8888888888888888,\"#fdca26\"],[1.0,\"#f0f921\"]],\"diverging\":[[0,\"#8e0152\"],[0.1,\"#c51b7d\"],[0.2,\"#de77ae\"],[0.3,\"#f1b6da\"],[0.4,\"#fde0ef\"],[0.5,\"#f7f7f7\"],[0.6,\"#e6f5d0\"],[0.7,\"#b8e186\"],[0.8,\"#7fbc41\"],[0.9,\"#4d9221\"],[1,\"#276419\"]]},\"xaxis\":{\"gridcolor\":\"white\",\"linecolor\":\"white\",\"ticks\":\"\",\"title\":{\"standoff\":15},\"zerolinecolor\":\"white\",\"automargin\":true,\"zerolinewidth\":2},\"yaxis\":{\"gridcolor\":\"white\",\"linecolor\":\"white\",\"ticks\":\"\",\"title\":{\"standoff\":15},\"zerolinecolor\":\"white\",\"automargin\":true,\"zerolinewidth\":2},\"scene\":{\"xaxis\":{\"backgroundcolor\":\"#E5ECF6\",\"gridcolor\":\"white\",\"linecolor\":\"white\",\"showbackground\":true,\"ticks\":\"\",\"zerolinecolor\":\"white\",\"gridwidth\":2},\"yaxis\":{\"backgroundcolor\":\"#E5ECF6\",\"gridcolor\":\"white\",\"linecolor\":\"white\",\"showbackground\":true,\"ticks\":\"\",\"zerolinecolor\":\"white\",\"gridwidth\":2},\"zaxis\":{\"backgroundcolor\":\"#E5ECF6\",\"gridcolor\":\"white\",\"linecolor\":\"white\",\"showbackground\":true,\"ticks\":\"\",\"zerolinecolor\":\"white\",\"gridwidth\":2}},\"shapedefaults\":{\"line\":{\"color\":\"#2a3f5f\"}},\"annotationdefaults\":{\"arrowcolor\":\"#2a3f5f\",\"arrowhead\":0,\"arrowwidth\":1},\"geo\":{\"bgcolor\":\"white\",\"landcolor\":\"#E5ECF6\",\"subunitcolor\":\"white\",\"showland\":true,\"showlakes\":true,\"lakecolor\":\"white\"},\"title\":{\"x\":0.05},\"mapbox\":{\"style\":\"light\"}}}},                        {\"responsive\": true}                    ).then(function(){\n",
       "                            \n",
       "var gd = document.getElementById('51d3b494-2bf5-4c50-a821-d4b077ce2178');\n",
       "var x = new MutationObserver(function (mutations, observer) {{\n",
       "        var display = window.getComputedStyle(gd).display;\n",
       "        if (!display || display === 'none') {{\n",
       "            console.log([gd, 'removed!']);\n",
       "            Plotly.purge(gd);\n",
       "            observer.disconnect();\n",
       "        }}\n",
       "}});\n",
       "\n",
       "// Listen for the removal of the full notebook cells\n",
       "var notebookContainer = gd.closest('#notebook-container');\n",
       "if (notebookContainer) {{\n",
       "    x.observe(notebookContainer, {childList: true});\n",
       "}}\n",
       "\n",
       "// Listen for the clearing of the current output cell\n",
       "var outputEl = gd.closest('.output');\n",
       "if (outputEl) {{\n",
       "    x.observe(outputEl, {childList: true});\n",
       "}}\n",
       "\n",
       "                        })                };                });            </script>        </div>"
      ]
     },
     "metadata": {},
     "output_type": "display_data"
    }
   ],
   "source": [
    "# SMOOTHING\n",
    "\n",
    "# backup will output a new CSV each time function is run... just to be safe\n",
    "backup = False\n",
    "\n",
    "dfSmoothedSetHolder = pd.DataFrame()\n",
    "dfFFsForCharts = pd.DataFrame() # master dataframe\n",
    "\n",
    "# loop through input dataframe\n",
    "for index, row in dfCalibrationRounds.iterrows():\n",
    "    \n",
    "    rndindex = index\n",
    "\n",
    "    # get trip purposes and tlf types for looping\n",
    "    tps  = dfsFF[rndindex]['TRIPPURP'].unique().tolist()\n",
    "\n",
    "    dfSmoothParams = pd.DataFrame()\n",
    "\n",
    "    # r=root, d=directories, f = files\n",
    "    for r, d, f in os.walk(os.path.join(os.path.join(os.path.join(dirIntermediate,str(index)),'manual_smoothing'))):\n",
    "        for file in f:\n",
    "            if file.endswith('.csv'):\n",
    "                dfSmoothParams = pd.concat([dfSmoothParams,pd.read_csv(os.path.join(r, file))])\n",
    "    if debug: display(dfSmoothParams)\n",
    "\n",
    "    # create sets for give index\n",
    "    dfOriginalSet = dfsFF[rndindex].copy()\n",
    "    dfAdjustedSet = dfsFFAdj[rndindex][['TRIPPURP','TLFTYPE','BIN','FF_ADJ']].copy()\n",
    "    dfAdjustedSet.columns = (['TRIPPURP','TLFTYPE','BIN','FF'])\n",
    "    dfSmoothedSet = dfAdjustedSet.copy() # copy of adjusted since this is where it starts\n",
    "    \n",
    "    # add column for round values\n",
    "    dfOriginalSet['FF_CALIB_ROUND'] = rndindex\n",
    "    dfAdjustedSet['FF_CALIB_ROUND'] = rndindex\n",
    "    dfSmoothedSet['FF_CALIB_ROUND'] = rndindex\n",
    "\n",
    "    dfOriginalSet['OAS'] = 'Original'\n",
    "    dfAdjustedSet['OAS'] = 'Adjusted'\n",
    "    dfSmoothedSet['OAS'] = 'Smoothed'\n",
    "\n",
    "    if debug: display(dfAdjustedSet)\n",
    "\n",
    "    # go through all trip purposes\n",
    "    for tp in tps:\n",
    "        if debug: print (tp)\n",
    "\n",
    "        # make copy of filtered dataframe for working\n",
    "        dfSmthSetTP = dfSmoothedSet[(dfSmoothedSet['TRIPPURP']==tp)].copy()\n",
    "\n",
    "        # make copy of filtered manual adjustments for working\n",
    "        dfSmthPrmForTP = dfSmoothParams[(dfSmoothParams['TRIPPURP']==tp)].copy()\n",
    "\n",
    "        # smoothing is done row-by-row from the parameters file\n",
    "        for index, row in dfSmthPrmForTP.iterrows():\n",
    "\n",
    "            paramindex = index\n",
    "            _binfrom = row['BIN_FROM']\n",
    "            _binto   = row['BIN_TO']\n",
    "\n",
    "            # show before if debug set to 1\n",
    "            if(row['DEBUG_TOGGLE']==1):\n",
    "                pd.set_option('display.max_rows', None)\n",
    "                display(dfSmthSetTP[(dfSmthSetTP['BIN'].between(_binfrom,_binto))])\n",
    "                pd.set_option('display.max_rows', 10)\n",
    "\n",
    "            # linear adjustment\n",
    "            if row['LINEAR_TOGGLE']:\n",
    "                #print('linear')\n",
    "\n",
    "                numPNTS = len(dfSmthSetTP[(dfSmthSetTP['BIN'].between(_binfrom,_binto))].index)\n",
    "                bgnFFAdj = dfSmthSetTP[(dfSmthSetTP['BIN']==_binfrom)]['FF'].values[0]\n",
    "                endFFAdj = dfSmthSetTP[(dfSmthSetTP['BIN']==_binto  )]['FF'].values[0]\n",
    "\n",
    "                # interpolate with np\n",
    "                interpolates = np.linspace(bgnFFAdj, endFFAdj, numPNTS)\n",
    "\n",
    "                # display for debugging\n",
    "                if(row['DEBUG_TOGGLE']==1):\n",
    "                    display('Bgn Freq ' + str(bgnFFAdj))\n",
    "                    display('End Freq ' + str(endFFAdj))\n",
    "                    display('Size ' + str(numPNTS))\n",
    "                    display('Interpolates ' + str(interpolates))\n",
    "\n",
    "                dfSmthSetTP.loc[(dfSmthSetTP['BIN'].between(_binfrom,_binto)), 'FF'] = interpolates\n",
    "\n",
    "            # moving average adjustment\n",
    "            if row['MOVAVG_REACH']>0:\n",
    "                \n",
    "                maxbin = dfSmthSetTP.loc[dfSmthSetTP['BIN'].idxmax()]['BIN']\n",
    "                \n",
    "                # add zeros to keep moving average\n",
    "                dfZeros = dfSmthSetTP.copy()\n",
    "                dfZeros['BIN'] += maxbin + binsize\n",
    "                dfZeros['FF'] = 0\n",
    "                dfSmthSetTP = pd.concat([dfSmthSetTP, dfZeros], ignore_index=True)\n",
    "                \n",
    "                # reach is on either side, so average extents is reach 2 + 1 with min periods for the shoulders, shift moves the avergage to center on bin\n",
    "                # moving average is calculated for entire dataset and then only applied to BIN_FROM-BIN_TO range\n",
    "                dfRolling = dfSmthSetTP['FF'].rolling(row['MOVAVG_REACH']*2+1, min_periods=1).mean().shift(-1 * row['MOVAVG_REACH'])\n",
    "\n",
    "                # debug\n",
    "                if(row['DEBUG_TOGGLE']==1): display(dfRolling)\n",
    "                    \n",
    "                dfSmthSetTP.loc[dfSmthSetTP['BIN'].between(_binfrom,_binto),'FF'] = dfRolling                \n",
    "                \n",
    "                # trim back to maxbin\n",
    "                dfSmthSetTP = dfSmthSetTP[dfSmthSetTP['BIN']<=maxbin]\n",
    "            \n",
    "            # adjust frequency by override\n",
    "            if row['FF_OVERRIDE']>0:\n",
    "                dfSmthSetTP.loc[(dfSmthSetTP['BIN'].between(_binfrom,_binto)),'FF'] = row['FF_OVERRIDE']\n",
    "\n",
    "            # adjust frequency by relative amount\n",
    "            dfSmthSetTP.loc[(dfSmthSetTP['BIN'].between(_binfrom,_binto)),'FF'] += row['FFADJ_REL']\n",
    "\n",
    "            # set frequency to zero\n",
    "            if row['FF_ZERO_TOGGLE']==1:\n",
    "                dfSmthSetTP.loc[(dfSmthSetTP['BIN'].between(_binfrom,_binto)),'FF'] = 0\n",
    "\n",
    "            # copy from previous round\n",
    "            if row['NOADJ_TOGGLE']==1:\n",
    "                dfNoAdj = dfOriginalSet[(dfOriginalSet['TRIPPURP']==tp)].copy()\n",
    "                dfSmthSetTP.loc[(dfSmthSetTP['BIN'].between(_binfrom,_binto)),'FF'] = dfNoAdj[(dfNoAdj['BIN'].between(_binfrom,_binto))]['FF'].tolist()\n",
    "\n",
    "            # show after if debug set to 1\n",
    "            if(row['DEBUG_TOGGLE']==1):\n",
    "                pd.set_option('display.max_rows', None)\n",
    "                display(dfSmthSetTP[(dfSmthSetTP['BIN'].between(_binfrom,_binto))])\n",
    "                pd.set_option('display.max_rows', 10)\n",
    "\n",
    "            if debug: display(dfSmthSetTP)\n",
    "\n",
    "        dfSmoothedSetHolder = pd.concat([dfSmoothedSetHolder, dfSmthSetTP], ignore_index=True)\n",
    "\n",
    "    if debug: display(dfSmoothedSetHolder)\n",
    "\n",
    "    # combine dataframes... smoothed with observed\n",
    "    dfFFsForCharts = pd.concat([dfFFsForCharts,dfOriginalSet,dfAdjustedSet,dfSmoothedSetHolder], ignore_index=True)\n",
    "\n",
    "if debug: display(dfFFsForCharts)\n",
    "\n",
    "# MAKE INTERACTIVE CHART\n",
    "py.offline.init_notebook_mode(connected=True)\n",
    "\n",
    "lstCalibRnd  = dfFFsForCharts['FF_CALIB_ROUND'].unique().tolist() # iterative round names\n",
    "lstTripPurp  = dfFFsForCharts['TRIPPURP'      ].unique().tolist() # HBW, HBShp, HBOth,...\n",
    "lstOAS       = dfFFsForCharts['OAS'           ].unique().tolist() # Original, Adjusted, Smoothed\n",
    "\n",
    "# multi select\n",
    "selectCalibRnd  = widgets.SelectMultiple(options=lstCalibRnd, value=(lstCalibRnd[-1],), description='Calib Round')\n",
    "selectTripPurp  = widgets.SelectMultiple(options=lstTripPurp, value=('IX_HV',), description='Trip Purpose')\n",
    "selectOAS       = widgets.SelectMultiple(options=lstOAS, value=('Original','Adjusted','Smoothed'), description='OAS')\n",
    "\n",
    "# single select\n",
    "selectPreset    = widgets.Select(options=dfZoomPresets['PRESET'].tolist(), value='All', description='Zoom Presets')\n",
    "\n",
    "##custom extents\n",
    "#xmin = widgets.Text(value='0', description='X Min',style={'width':50, 'description_width': '30'})\n",
    "#xmax = widgets.Text(value='60', description='X Max',style={'width':50, 'description_width': '30'})\n",
    "#ymin = widgets.Text(value='0', description='Y Min',style={'width':'50', 'description_width': '30'})\n",
    "#ymax = widgets.Text(value='.01', description='Y Max',style={'width':50, 'description_width': '30'})\n",
    "\n",
    "#container1 = widgets.HBox([selectCalibRnd, selectTripPurp, selectOAS, selectPreset])\n",
    "#container2 = widgets.VBox([xmin, xmax, ymin, ymax])\n",
    "#container3 = widgets.HBox([container1, container2])\n",
    "\n",
    "#ui = container3\n",
    "\n",
    "#out = widgets.interactive_output(update_plot_ff, {'calibrnds':selectCalibRnd, 'trippurps':selectTripPurp, 'oass':selectOAS, 'zoompreset':selectPreset, 'xmin':xmin, 'xmax':xmax, 'ymin':ymin, 'ymax':ymax})\n",
    "#display(ui, out)\n",
    "\n",
    "#widgets.interactive(update_plot_ff, calibrnds=selectCalibRnd, trippurps=selectTripPurp, oass=selectOAS, zoompreset=selectPreset, xmin=xmin, xmax=xmax, ymin=ymin, ymax=ymax)\n",
    "widgets.interactive(update_plot_ff, calibrnds=selectCalibRnd, trippurps=selectTripPurp, oass=selectOAS, zoompreset=selectPreset)\n"
   ]
  },
  {
   "cell_type": "code",
   "execution_count": 30,
   "metadata": {},
   "outputs": [
    {
     "data": {
      "text/html": [
       "<div>\n",
       "<style scoped>\n",
       "    .dataframe tbody tr th:only-of-type {\n",
       "        vertical-align: middle;\n",
       "    }\n",
       "\n",
       "    .dataframe tbody tr th {\n",
       "        vertical-align: top;\n",
       "    }\n",
       "\n",
       "    .dataframe thead th {\n",
       "        text-align: right;\n",
       "    }\n",
       "</style>\n",
       "<table border=\"1\" class=\"dataframe\">\n",
       "  <thead>\n",
       "    <tr style=\"text-align: right;\">\n",
       "      <th></th>\n",
       "      <th>BIN</th>\n",
       "      <th>TRIPPURP</th>\n",
       "      <th>FREQ_Obs</th>\n",
       "      <th>TLFTYPE</th>\n",
       "      <th>FF_CALIB_ROUND</th>\n",
       "    </tr>\n",
       "  </thead>\n",
       "  <tbody>\n",
       "    <tr>\n",
       "      <th>41726</th>\n",
       "      <td>0.0</td>\n",
       "      <td>HBW</td>\n",
       "      <td>0.1517700</td>\n",
       "      <td>Dist</td>\n",
       "      <td>Observed</td>\n",
       "    </tr>\n",
       "    <tr>\n",
       "      <th>41727</th>\n",
       "      <td>2.0</td>\n",
       "      <td>HBW</td>\n",
       "      <td>0.1489535</td>\n",
       "      <td>Dist</td>\n",
       "      <td>Observed</td>\n",
       "    </tr>\n",
       "    <tr>\n",
       "      <th>41728</th>\n",
       "      <td>4.0</td>\n",
       "      <td>HBW</td>\n",
       "      <td>0.1281221</td>\n",
       "      <td>Dist</td>\n",
       "      <td>Observed</td>\n",
       "    </tr>\n",
       "    <tr>\n",
       "      <th>41729</th>\n",
       "      <td>6.0</td>\n",
       "      <td>HBW</td>\n",
       "      <td>0.1060259</td>\n",
       "      <td>Dist</td>\n",
       "      <td>Observed</td>\n",
       "    </tr>\n",
       "    <tr>\n",
       "      <th>41730</th>\n",
       "      <td>8.0</td>\n",
       "      <td>HBW</td>\n",
       "      <td>0.0907928</td>\n",
       "      <td>Dist</td>\n",
       "      <td>Observed</td>\n",
       "    </tr>\n",
       "    <tr>\n",
       "      <th>...</th>\n",
       "      <td>...</td>\n",
       "      <td>...</td>\n",
       "      <td>...</td>\n",
       "      <td>...</td>\n",
       "      <td>...</td>\n",
       "    </tr>\n",
       "    <tr>\n",
       "      <th>47871</th>\n",
       "      <td>402.0</td>\n",
       "      <td>XI_HV</td>\n",
       "      <td>0.0000000</td>\n",
       "      <td>GC</td>\n",
       "      <td>Observed</td>\n",
       "    </tr>\n",
       "    <tr>\n",
       "      <th>47872</th>\n",
       "      <td>404.0</td>\n",
       "      <td>XI_HV</td>\n",
       "      <td>0.0000000</td>\n",
       "      <td>GC</td>\n",
       "      <td>Observed</td>\n",
       "    </tr>\n",
       "    <tr>\n",
       "      <th>47873</th>\n",
       "      <td>406.0</td>\n",
       "      <td>XI_HV</td>\n",
       "      <td>0.0000000</td>\n",
       "      <td>GC</td>\n",
       "      <td>Observed</td>\n",
       "    </tr>\n",
       "    <tr>\n",
       "      <th>47874</th>\n",
       "      <td>408.0</td>\n",
       "      <td>XI_HV</td>\n",
       "      <td>0.0000000</td>\n",
       "      <td>GC</td>\n",
       "      <td>Observed</td>\n",
       "    </tr>\n",
       "    <tr>\n",
       "      <th>47875</th>\n",
       "      <td>410.0</td>\n",
       "      <td>XI_HV</td>\n",
       "      <td>0.0000000</td>\n",
       "      <td>GC</td>\n",
       "      <td>Observed</td>\n",
       "    </tr>\n",
       "  </tbody>\n",
       "</table>\n",
       "<p>6150 rows × 5 columns</p>\n",
       "</div>"
      ],
      "text/plain": [
       "         BIN TRIPPURP   FREQ_Obs TLFTYPE FF_CALIB_ROUND\n",
       "41726    0.0      HBW  0.1517700    Dist       Observed\n",
       "41727    2.0      HBW  0.1489535    Dist       Observed\n",
       "41728    4.0      HBW  0.1281221    Dist       Observed\n",
       "41729    6.0      HBW  0.1060259    Dist       Observed\n",
       "41730    8.0      HBW  0.0907928    Dist       Observed\n",
       "...      ...      ...        ...     ...            ...\n",
       "47871  402.0    XI_HV  0.0000000      GC       Observed\n",
       "47872  404.0    XI_HV  0.0000000      GC       Observed\n",
       "47873  406.0    XI_HV  0.0000000      GC       Observed\n",
       "47874  408.0    XI_HV  0.0000000      GC       Observed\n",
       "47875  410.0    XI_HV  0.0000000      GC       Observed\n",
       "\n",
       "[6150 rows x 5 columns]"
      ]
     },
     "execution_count": 30,
     "metadata": {},
     "output_type": "execute_result"
    }
   ],
   "source": [
    "dfTLF_Obs"
   ]
  },
  {
   "cell_type": "code",
   "execution_count": 31,
   "metadata": {},
   "outputs": [
    {
     "name": "stderr",
     "output_type": "stream",
     "text": [
      "C:\\Users\\bhereth\\AppData\\Local\\Temp\\ipykernel_16148\\2441155201.py:14: SettingWithCopyWarning:\n",
      "\n",
      "\n",
      "A value is trying to be set on a copy of a slice from a DataFrame.\n",
      "Try using .loc[row_indexer,col_indexer] = value instead\n",
      "\n",
      "See the caveats in the documentation: https://pandas.pydata.org/pandas-docs/stable/user_guide/indexing.html#returning-a-view-versus-a-copy\n",
      "\n"
     ]
    },
    {
     "data": {
      "text/html": [
       "<div>\n",
       "<style scoped>\n",
       "    .dataframe tbody tr th:only-of-type {\n",
       "        vertical-align: middle;\n",
       "    }\n",
       "\n",
       "    .dataframe tbody tr th {\n",
       "        vertical-align: top;\n",
       "    }\n",
       "\n",
       "    .dataframe thead th {\n",
       "        text-align: right;\n",
       "    }\n",
       "</style>\n",
       "<table border=\"1\" class=\"dataframe\">\n",
       "  <thead>\n",
       "    <tr style=\"text-align: right;\">\n",
       "      <th></th>\n",
       "      <th>BIN</th>\n",
       "      <th>TRIPPURP</th>\n",
       "      <th>FF</th>\n",
       "      <th>FF_CALIB_ROUND</th>\n",
       "      <th>OAS</th>\n",
       "      <th>TLFTYPE</th>\n",
       "    </tr>\n",
       "  </thead>\n",
       "  <tbody>\n",
       "    <tr>\n",
       "      <th>0</th>\n",
       "      <td>0</td>\n",
       "      <td>MD</td>\n",
       "      <td>1.0000000</td>\n",
       "      <td>6</td>\n",
       "      <td>Smoothed</td>\n",
       "      <td>GC</td>\n",
       "    </tr>\n",
       "    <tr>\n",
       "      <th>1</th>\n",
       "      <td>2</td>\n",
       "      <td>MD</td>\n",
       "      <td>0.3331734</td>\n",
       "      <td>6</td>\n",
       "      <td>Smoothed</td>\n",
       "      <td>GC</td>\n",
       "    </tr>\n",
       "    <tr>\n",
       "      <th>2</th>\n",
       "      <td>4</td>\n",
       "      <td>MD</td>\n",
       "      <td>0.1136208</td>\n",
       "      <td>6</td>\n",
       "      <td>Smoothed</td>\n",
       "      <td>GC</td>\n",
       "    </tr>\n",
       "    <tr>\n",
       "      <th>3</th>\n",
       "      <td>6</td>\n",
       "      <td>MD</td>\n",
       "      <td>0.0346836</td>\n",
       "      <td>6</td>\n",
       "      <td>Smoothed</td>\n",
       "      <td>GC</td>\n",
       "    </tr>\n",
       "    <tr>\n",
       "      <th>4</th>\n",
       "      <td>8</td>\n",
       "      <td>MD</td>\n",
       "      <td>0.0079474</td>\n",
       "      <td>6</td>\n",
       "      <td>Smoothed</td>\n",
       "      <td>GC</td>\n",
       "    </tr>\n",
       "    <tr>\n",
       "      <th>...</th>\n",
       "      <td>...</td>\n",
       "      <td>...</td>\n",
       "      <td>...</td>\n",
       "      <td>...</td>\n",
       "      <td>...</td>\n",
       "      <td>...</td>\n",
       "    </tr>\n",
       "    <tr>\n",
       "      <th>3613</th>\n",
       "      <td>392</td>\n",
       "      <td>LT</td>\n",
       "      <td>0.0000000</td>\n",
       "      <td>6</td>\n",
       "      <td>Smoothed</td>\n",
       "      <td>GC</td>\n",
       "    </tr>\n",
       "    <tr>\n",
       "      <th>3614</th>\n",
       "      <td>394</td>\n",
       "      <td>LT</td>\n",
       "      <td>0.0000000</td>\n",
       "      <td>6</td>\n",
       "      <td>Smoothed</td>\n",
       "      <td>GC</td>\n",
       "    </tr>\n",
       "    <tr>\n",
       "      <th>3615</th>\n",
       "      <td>396</td>\n",
       "      <td>LT</td>\n",
       "      <td>0.0000000</td>\n",
       "      <td>6</td>\n",
       "      <td>Smoothed</td>\n",
       "      <td>GC</td>\n",
       "    </tr>\n",
       "    <tr>\n",
       "      <th>3616</th>\n",
       "      <td>398</td>\n",
       "      <td>LT</td>\n",
       "      <td>0.0000000</td>\n",
       "      <td>6</td>\n",
       "      <td>Smoothed</td>\n",
       "      <td>GC</td>\n",
       "    </tr>\n",
       "    <tr>\n",
       "      <th>3617</th>\n",
       "      <td>400</td>\n",
       "      <td>LT</td>\n",
       "      <td>0.0000000</td>\n",
       "      <td>6</td>\n",
       "      <td>Smoothed</td>\n",
       "      <td>GC</td>\n",
       "    </tr>\n",
       "  </tbody>\n",
       "</table>\n",
       "<p>3618 rows × 6 columns</p>\n",
       "</div>"
      ],
      "text/plain": [
       "      BIN TRIPPURP         FF  FF_CALIB_ROUND       OAS TLFTYPE\n",
       "0       0       MD  1.0000000               6  Smoothed      GC\n",
       "1       2       MD  0.3331734               6  Smoothed      GC\n",
       "2       4       MD  0.1136208               6  Smoothed      GC\n",
       "3       6       MD  0.0346836               6  Smoothed      GC\n",
       "4       8       MD  0.0079474               6  Smoothed      GC\n",
       "...   ...      ...        ...             ...       ...     ...\n",
       "3613  392       LT  0.0000000               6  Smoothed      GC\n",
       "3614  394       LT  0.0000000               6  Smoothed      GC\n",
       "3615  396       LT  0.0000000               6  Smoothed      GC\n",
       "3616  398       LT  0.0000000               6  Smoothed      GC\n",
       "3617  400       LT  0.0000000               6  Smoothed      GC\n",
       "\n",
       "[3618 rows x 6 columns]"
      ]
     },
     "metadata": {},
     "output_type": "display_data"
    }
   ],
   "source": [
    "# PREP FF FILE FOR NEXT MODEL RUN\n",
    "\n",
    "# get last round data\n",
    "lastRun = dfCalibrationRounds[dfCalibrationRounds.index==dfCalibrationRounds.shape[0]-1].index.values[0]\n",
    "if debug: display(lastRun)\n",
    "\n",
    "dfNextRoundFF = dfFFsForCharts[(dfFFsForCharts['FF_CALIB_ROUND']==lastRun) & (dfFFsForCharts['OAS']=='Smoothed')]\n",
    "if debug: display(dfNextRoundFF)\n",
    "\n",
    "# set initial bin to 1 -- DON'T USE THIS UNLESS YOU REALLY WANT TO\n",
    "#dfNextRoundFF.loc[(dfNextRoundFF['BIN']==0),'FF'] = 1.0\n",
    "\n",
    "# round to seven decimals \n",
    "dfNextRoundFF['BIN'] = round(dfNextRoundFF['BIN'],7)\n",
    "\n",
    "dfNextRoundFF_Locked = pd.DataFrame()\n",
    "\n",
    "# get locked friction factors\n",
    "for index, row in dfCalibrationRounds.iterrows():\n",
    "    trippurps = dfTripPurpLocks[dfTripPurpLocks['LOCK_FF_CALIB_ROUND_INDEX']==index]['TRIPPURP'].unique().tolist()\n",
    "    dfLocked = dfFFsForCharts[(dfFFsForCharts['FF_CALIB_ROUND']==index) & (dfFFsForCharts['TRIPPURP'].isin(trippurps)) & (dfFFsForCharts['OAS']=='Smoothed')]\n",
    "    dfNextRoundFF_Locked = pd.concat([dfNextRoundFF_Locked,dfLocked],ignore_index=True)\n",
    "    if debug:\n",
    "        print(index)\n",
    "        print(trippurps)\n",
    "        display (dfLocked)\n",
    "\n",
    "\n",
    "#temp fix of duplicates\n",
    "dfNextRoundFF_Locked = dfNextRoundFF_Locked.drop_duplicates()\n",
    "\n",
    "dfNextRoundFF = pd.concat([dfNextRoundFF,dfNextRoundFF_Locked],ignore_index=True)\n",
    "\n",
    "# set LT equal to MD\n",
    "dfNextRoundFF_IXLT = dfNextRoundFF[dfNextRoundFF['TRIPPURP']=='IX_MD'].copy()\n",
    "dfNextRoundFF_IXLT['TRIPPURP'] = 'IX_LT'\n",
    "dfNextRoundFF_XILT = dfNextRoundFF[dfNextRoundFF['TRIPPURP']=='XI_MD'].copy()\n",
    "dfNextRoundFF_XILT['TRIPPURP'] = 'XI_LT'\n",
    "dfNextRoundFF_LT = dfNextRoundFF[dfNextRoundFF['TRIPPURP']=='MD'].copy()\n",
    "dfNextRoundFF_LT['TRIPPURP'] = 'LT'\n",
    "\n",
    "dfNextRoundFF = pd.concat([dfNextRoundFF,dfNextRoundFF_IXLT,dfNextRoundFF_XILT,dfNextRoundFF_LT],ignore_index=True)\n",
    "\n",
    "display(dfNextRoundFF)"
   ]
  },
  {
   "cell_type": "code",
   "execution_count": 32,
   "metadata": {},
   "outputs": [
    {
     "data": {
      "text/html": [
       "<div>\n",
       "<style scoped>\n",
       "    .dataframe tbody tr th:only-of-type {\n",
       "        vertical-align: middle;\n",
       "    }\n",
       "\n",
       "    .dataframe tbody tr th {\n",
       "        vertical-align: top;\n",
       "    }\n",
       "\n",
       "    .dataframe thead th {\n",
       "        text-align: right;\n",
       "    }\n",
       "</style>\n",
       "<table border=\"1\" class=\"dataframe\">\n",
       "  <thead>\n",
       "    <tr style=\"text-align: right;\">\n",
       "      <th></th>\n",
       "      <th>TRIPPURP</th>\n",
       "      <th>MAXBIN_Mod</th>\n",
       "      <th>MAXBIN_Obs</th>\n",
       "    </tr>\n",
       "  </thead>\n",
       "  <tbody>\n",
       "    <tr>\n",
       "      <th>0</th>\n",
       "      <td>HBOth</td>\n",
       "      <td>246</td>\n",
       "      <td>244.0</td>\n",
       "    </tr>\n",
       "    <tr>\n",
       "      <th>1</th>\n",
       "      <td>HBSchPr</td>\n",
       "      <td>48</td>\n",
       "      <td>48.0</td>\n",
       "    </tr>\n",
       "    <tr>\n",
       "      <th>2</th>\n",
       "      <td>HBSchSc</td>\n",
       "      <td>68</td>\n",
       "      <td>68.0</td>\n",
       "    </tr>\n",
       "    <tr>\n",
       "      <th>3</th>\n",
       "      <td>HBShp</td>\n",
       "      <td>176</td>\n",
       "      <td>174.0</td>\n",
       "    </tr>\n",
       "    <tr>\n",
       "      <th>4</th>\n",
       "      <td>HBW</td>\n",
       "      <td>230</td>\n",
       "      <td>224.0</td>\n",
       "    </tr>\n",
       "    <tr>\n",
       "      <th>5</th>\n",
       "      <td>HV</td>\n",
       "      <td>358</td>\n",
       "      <td>358.0</td>\n",
       "    </tr>\n",
       "    <tr>\n",
       "      <th>6</th>\n",
       "      <td>IX</td>\n",
       "      <td>290</td>\n",
       "      <td>290.0</td>\n",
       "    </tr>\n",
       "    <tr>\n",
       "      <th>7</th>\n",
       "      <td>IX_HV</td>\n",
       "      <td>382</td>\n",
       "      <td>382.0</td>\n",
       "    </tr>\n",
       "    <tr>\n",
       "      <th>8</th>\n",
       "      <td>IX_MD</td>\n",
       "      <td>356</td>\n",
       "      <td>350.0</td>\n",
       "    </tr>\n",
       "    <tr>\n",
       "      <th>9</th>\n",
       "      <td>MD</td>\n",
       "      <td>278</td>\n",
       "      <td>278.0</td>\n",
       "    </tr>\n",
       "    <tr>\n",
       "      <th>10</th>\n",
       "      <td>NHBNW</td>\n",
       "      <td>194</td>\n",
       "      <td>190.0</td>\n",
       "    </tr>\n",
       "    <tr>\n",
       "      <th>11</th>\n",
       "      <td>NHBW</td>\n",
       "      <td>228</td>\n",
       "      <td>228.0</td>\n",
       "    </tr>\n",
       "    <tr>\n",
       "      <th>12</th>\n",
       "      <td>XI</td>\n",
       "      <td>368</td>\n",
       "      <td>368.0</td>\n",
       "    </tr>\n",
       "    <tr>\n",
       "      <th>13</th>\n",
       "      <td>XI_HV</td>\n",
       "      <td>392</td>\n",
       "      <td>392.0</td>\n",
       "    </tr>\n",
       "    <tr>\n",
       "      <th>14</th>\n",
       "      <td>XI_MD</td>\n",
       "      <td>350</td>\n",
       "      <td>350.0</td>\n",
       "    </tr>\n",
       "  </tbody>\n",
       "</table>\n",
       "</div>"
      ],
      "text/plain": [
       "   TRIPPURP  MAXBIN_Mod  MAXBIN_Obs\n",
       "0     HBOth         246       244.0\n",
       "1   HBSchPr          48        48.0\n",
       "2   HBSchSc          68        68.0\n",
       "3     HBShp         176       174.0\n",
       "4       HBW         230       224.0\n",
       "5        HV         358       358.0\n",
       "6        IX         290       290.0\n",
       "7     IX_HV         382       382.0\n",
       "8     IX_MD         356       350.0\n",
       "9        MD         278       278.0\n",
       "10    NHBNW         194       190.0\n",
       "11     NHBW         228       228.0\n",
       "12       XI         368       368.0\n",
       "13    XI_HV         392       392.0\n",
       "14    XI_MD         350       350.0"
      ]
     },
     "execution_count": 32,
     "metadata": {},
     "output_type": "execute_result"
    }
   ],
   "source": [
    "#Check if Tail Zero Point same as observed\n",
    "\n",
    "dfTLF_Obs_nonzerobins = dfTLF_Obs[dfTLF_Obs['FREQ_Obs']>0]\n",
    "dfTLF_Obs_MaxBin = dfTLF_Obs_nonzerobins.groupby(['TRIPPURP'],as_index=False).agg(MAXBIN_Obs=('BIN','max'))\n",
    "#dfTLF_Obs_MaxBin\n",
    "\n",
    "dfTLF_Mod_nonzerobins = dfNextRoundFF[dfNextRoundFF['FF']>0]\n",
    "dfTLF_Mod_MaxBin = dfTLF_Mod_nonzerobins.groupby(['TRIPPURP'],as_index=False).agg(MAXBIN_Mod=('BIN','max'))\n",
    "#dfTLF_Mod_MaxBin\n",
    "\n",
    "dfCompareMaxBins = pd.DataFrame.merge(dfTLF_Mod_MaxBin,dfTLF_Obs_MaxBin,on='TRIPPURP')\n",
    "dfCompareMaxBins"
   ]
  },
  {
   "cell_type": "code",
   "execution_count": 33,
   "metadata": {},
   "outputs": [
    {
     "data": {
      "text/plain": [
       "'a:\\\\1 - TDM\\\\3 - Model Dev\\\\1 - WF\\\\2 - Sandbox\\\\v9.0Beta\\\\0 - CalibValid\\\\3 - Distribution\\\\_Friction_Factors\\\\6\\\\factors for next round\\\\FricFactor_AllPurp.csv'"
      ]
     },
     "metadata": {},
     "output_type": "display_data"
    },
    {
     "data": {
      "text/html": [
       "<div>\n",
       "<style scoped>\n",
       "    .dataframe tbody tr th:only-of-type {\n",
       "        vertical-align: middle;\n",
       "    }\n",
       "\n",
       "    .dataframe tbody tr th {\n",
       "        vertical-align: top;\n",
       "    }\n",
       "\n",
       "    .dataframe thead th {\n",
       "        text-align: right;\n",
       "    }\n",
       "</style>\n",
       "<table border=\"1\" class=\"dataframe\">\n",
       "  <thead>\n",
       "    <tr style=\"text-align: right;\">\n",
       "      <th>TRIPPURP</th>\n",
       "      <th>;BIN</th>\n",
       "      <th>HBW</th>\n",
       "      <th>HBShp</th>\n",
       "      <th>HBOth</th>\n",
       "      <th>HBSchPr</th>\n",
       "      <th>HBSchSc</th>\n",
       "      <th>NHBW</th>\n",
       "      <th>NHBNW</th>\n",
       "      <th>LT</th>\n",
       "      <th>MD</th>\n",
       "      <th>HV</th>\n",
       "      <th>IX</th>\n",
       "      <th>IX_LT</th>\n",
       "      <th>IX_MD</th>\n",
       "      <th>IX_HV</th>\n",
       "      <th>XI</th>\n",
       "      <th>XI_LT</th>\n",
       "      <th>XI_MD</th>\n",
       "      <th>XI_HV</th>\n",
       "    </tr>\n",
       "  </thead>\n",
       "  <tbody>\n",
       "    <tr>\n",
       "      <th>0</th>\n",
       "      <td>0</td>\n",
       "      <td>1.000000</td>\n",
       "      <td>1.0000000</td>\n",
       "      <td>1.0000000</td>\n",
       "      <td>1.000000</td>\n",
       "      <td>1.0000000</td>\n",
       "      <td>1.0000000</td>\n",
       "      <td>1.0000000</td>\n",
       "      <td>1.0000000</td>\n",
       "      <td>1.0000000</td>\n",
       "      <td>1.00000000</td>\n",
       "      <td>0.6000000</td>\n",
       "      <td>1.0000000</td>\n",
       "      <td>1.0000000</td>\n",
       "      <td>1.0000</td>\n",
       "      <td>0.8000000</td>\n",
       "      <td>1.00000000</td>\n",
       "      <td>1.00000000</td>\n",
       "      <td>1.00000000</td>\n",
       "    </tr>\n",
       "    <tr>\n",
       "      <th>1</th>\n",
       "      <td>2</td>\n",
       "      <td>0.975000</td>\n",
       "      <td>0.9973000</td>\n",
       "      <td>0.9516710</td>\n",
       "      <td>0.950000</td>\n",
       "      <td>0.9192479</td>\n",
       "      <td>0.9563057</td>\n",
       "      <td>0.9980000</td>\n",
       "      <td>0.3331734</td>\n",
       "      <td>0.3331734</td>\n",
       "      <td>0.30658480</td>\n",
       "      <td>0.5700000</td>\n",
       "      <td>0.9300000</td>\n",
       "      <td>0.9300000</td>\n",
       "      <td>0.8125</td>\n",
       "      <td>0.7850000</td>\n",
       "      <td>0.98000000</td>\n",
       "      <td>0.98000000</td>\n",
       "      <td>0.90000000</td>\n",
       "    </tr>\n",
       "    <tr>\n",
       "      <th>2</th>\n",
       "      <td>4</td>\n",
       "      <td>0.850000</td>\n",
       "      <td>0.7380811</td>\n",
       "      <td>0.6721603</td>\n",
       "      <td>0.800000</td>\n",
       "      <td>0.6719900</td>\n",
       "      <td>0.8400000</td>\n",
       "      <td>0.6722939</td>\n",
       "      <td>0.1136208</td>\n",
       "      <td>0.1136208</td>\n",
       "      <td>0.13410070</td>\n",
       "      <td>0.5200000</td>\n",
       "      <td>0.4752302</td>\n",
       "      <td>0.4752302</td>\n",
       "      <td>0.6250</td>\n",
       "      <td>0.7000000</td>\n",
       "      <td>0.95000000</td>\n",
       "      <td>0.95000000</td>\n",
       "      <td>0.67500000</td>\n",
       "    </tr>\n",
       "    <tr>\n",
       "      <th>3</th>\n",
       "      <td>6</td>\n",
       "      <td>0.326694</td>\n",
       "      <td>0.4301406</td>\n",
       "      <td>0.2039939</td>\n",
       "      <td>0.540000</td>\n",
       "      <td>0.1541891</td>\n",
       "      <td>0.5350000</td>\n",
       "      <td>0.3445940</td>\n",
       "      <td>0.0346836</td>\n",
       "      <td>0.0346836</td>\n",
       "      <td>0.07885117</td>\n",
       "      <td>0.4200000</td>\n",
       "      <td>0.1363834</td>\n",
       "      <td>0.1363834</td>\n",
       "      <td>0.4375</td>\n",
       "      <td>0.6318079</td>\n",
       "      <td>0.85761910</td>\n",
       "      <td>0.85761910</td>\n",
       "      <td>0.36471580</td>\n",
       "    </tr>\n",
       "    <tr>\n",
       "      <th>4</th>\n",
       "      <td>8</td>\n",
       "      <td>0.176000</td>\n",
       "      <td>0.2228886</td>\n",
       "      <td>0.0859674</td>\n",
       "      <td>0.249795</td>\n",
       "      <td>0.0381702</td>\n",
       "      <td>0.3510495</td>\n",
       "      <td>0.1797357</td>\n",
       "      <td>0.0079474</td>\n",
       "      <td>0.0079474</td>\n",
       "      <td>0.05669583</td>\n",
       "      <td>0.0424812</td>\n",
       "      <td>0.0856060</td>\n",
       "      <td>0.0856060</td>\n",
       "      <td>0.3000</td>\n",
       "      <td>0.1831125</td>\n",
       "      <td>0.75632664</td>\n",
       "      <td>0.75632664</td>\n",
       "      <td>0.07443150</td>\n",
       "    </tr>\n",
       "    <tr>\n",
       "      <th>...</th>\n",
       "      <td>...</td>\n",
       "      <td>...</td>\n",
       "      <td>...</td>\n",
       "      <td>...</td>\n",
       "      <td>...</td>\n",
       "      <td>...</td>\n",
       "      <td>...</td>\n",
       "      <td>...</td>\n",
       "      <td>...</td>\n",
       "      <td>...</td>\n",
       "      <td>...</td>\n",
       "      <td>...</td>\n",
       "      <td>...</td>\n",
       "      <td>...</td>\n",
       "      <td>...</td>\n",
       "      <td>...</td>\n",
       "      <td>...</td>\n",
       "      <td>...</td>\n",
       "      <td>...</td>\n",
       "    </tr>\n",
       "    <tr>\n",
       "      <th>196</th>\n",
       "      <td>392</td>\n",
       "      <td>0.000000</td>\n",
       "      <td>0.0000000</td>\n",
       "      <td>0.0000000</td>\n",
       "      <td>0.000000</td>\n",
       "      <td>0.0000000</td>\n",
       "      <td>0.0000000</td>\n",
       "      <td>0.0000000</td>\n",
       "      <td>0.0000000</td>\n",
       "      <td>0.0000000</td>\n",
       "      <td>0.00000000</td>\n",
       "      <td>0.0000000</td>\n",
       "      <td>0.0000000</td>\n",
       "      <td>0.0000000</td>\n",
       "      <td>0.0000</td>\n",
       "      <td>0.0000000</td>\n",
       "      <td>0.00000000</td>\n",
       "      <td>0.00000000</td>\n",
       "      <td>0.00094167</td>\n",
       "    </tr>\n",
       "    <tr>\n",
       "      <th>197</th>\n",
       "      <td>394</td>\n",
       "      <td>0.000000</td>\n",
       "      <td>0.0000000</td>\n",
       "      <td>0.0000000</td>\n",
       "      <td>0.000000</td>\n",
       "      <td>0.0000000</td>\n",
       "      <td>0.0000000</td>\n",
       "      <td>0.0000000</td>\n",
       "      <td>0.0000000</td>\n",
       "      <td>0.0000000</td>\n",
       "      <td>0.00000000</td>\n",
       "      <td>0.0000000</td>\n",
       "      <td>0.0000000</td>\n",
       "      <td>0.0000000</td>\n",
       "      <td>0.0000</td>\n",
       "      <td>0.0000000</td>\n",
       "      <td>0.00000000</td>\n",
       "      <td>0.00000000</td>\n",
       "      <td>0.00000000</td>\n",
       "    </tr>\n",
       "    <tr>\n",
       "      <th>198</th>\n",
       "      <td>396</td>\n",
       "      <td>0.000000</td>\n",
       "      <td>0.0000000</td>\n",
       "      <td>0.0000000</td>\n",
       "      <td>0.000000</td>\n",
       "      <td>0.0000000</td>\n",
       "      <td>0.0000000</td>\n",
       "      <td>0.0000000</td>\n",
       "      <td>0.0000000</td>\n",
       "      <td>0.0000000</td>\n",
       "      <td>0.00000000</td>\n",
       "      <td>0.0000000</td>\n",
       "      <td>0.0000000</td>\n",
       "      <td>0.0000000</td>\n",
       "      <td>0.0000</td>\n",
       "      <td>0.0000000</td>\n",
       "      <td>0.00000000</td>\n",
       "      <td>0.00000000</td>\n",
       "      <td>0.00000000</td>\n",
       "    </tr>\n",
       "    <tr>\n",
       "      <th>199</th>\n",
       "      <td>398</td>\n",
       "      <td>0.000000</td>\n",
       "      <td>0.0000000</td>\n",
       "      <td>0.0000000</td>\n",
       "      <td>0.000000</td>\n",
       "      <td>0.0000000</td>\n",
       "      <td>0.0000000</td>\n",
       "      <td>0.0000000</td>\n",
       "      <td>0.0000000</td>\n",
       "      <td>0.0000000</td>\n",
       "      <td>0.00000000</td>\n",
       "      <td>0.0000000</td>\n",
       "      <td>0.0000000</td>\n",
       "      <td>0.0000000</td>\n",
       "      <td>0.0000</td>\n",
       "      <td>0.0000000</td>\n",
       "      <td>0.00000000</td>\n",
       "      <td>0.00000000</td>\n",
       "      <td>0.00000000</td>\n",
       "    </tr>\n",
       "    <tr>\n",
       "      <th>200</th>\n",
       "      <td>400</td>\n",
       "      <td>0.000000</td>\n",
       "      <td>0.0000000</td>\n",
       "      <td>0.0000000</td>\n",
       "      <td>0.000000</td>\n",
       "      <td>0.0000000</td>\n",
       "      <td>0.0000000</td>\n",
       "      <td>0.0000000</td>\n",
       "      <td>0.0000000</td>\n",
       "      <td>0.0000000</td>\n",
       "      <td>0.00000000</td>\n",
       "      <td>0.0000000</td>\n",
       "      <td>0.0000000</td>\n",
       "      <td>0.0000000</td>\n",
       "      <td>0.0000</td>\n",
       "      <td>0.0000000</td>\n",
       "      <td>0.00000000</td>\n",
       "      <td>0.00000000</td>\n",
       "      <td>0.00000000</td>\n",
       "    </tr>\n",
       "  </tbody>\n",
       "</table>\n",
       "<p>201 rows × 19 columns</p>\n",
       "</div>"
      ],
      "text/plain": [
       "TRIPPURP  ;BIN       HBW      HBShp      HBOth   HBSchPr    HBSchSc  \\\n",
       "0            0  1.000000  1.0000000  1.0000000  1.000000  1.0000000   \n",
       "1            2  0.975000  0.9973000  0.9516710  0.950000  0.9192479   \n",
       "2            4  0.850000  0.7380811  0.6721603  0.800000  0.6719900   \n",
       "3            6  0.326694  0.4301406  0.2039939  0.540000  0.1541891   \n",
       "4            8  0.176000  0.2228886  0.0859674  0.249795  0.0381702   \n",
       "..         ...       ...        ...        ...       ...        ...   \n",
       "196        392  0.000000  0.0000000  0.0000000  0.000000  0.0000000   \n",
       "197        394  0.000000  0.0000000  0.0000000  0.000000  0.0000000   \n",
       "198        396  0.000000  0.0000000  0.0000000  0.000000  0.0000000   \n",
       "199        398  0.000000  0.0000000  0.0000000  0.000000  0.0000000   \n",
       "200        400  0.000000  0.0000000  0.0000000  0.000000  0.0000000   \n",
       "\n",
       "TRIPPURP       NHBW      NHBNW         LT         MD          HV         IX  \\\n",
       "0         1.0000000  1.0000000  1.0000000  1.0000000  1.00000000  0.6000000   \n",
       "1         0.9563057  0.9980000  0.3331734  0.3331734  0.30658480  0.5700000   \n",
       "2         0.8400000  0.6722939  0.1136208  0.1136208  0.13410070  0.5200000   \n",
       "3         0.5350000  0.3445940  0.0346836  0.0346836  0.07885117  0.4200000   \n",
       "4         0.3510495  0.1797357  0.0079474  0.0079474  0.05669583  0.0424812   \n",
       "..              ...        ...        ...        ...         ...        ...   \n",
       "196       0.0000000  0.0000000  0.0000000  0.0000000  0.00000000  0.0000000   \n",
       "197       0.0000000  0.0000000  0.0000000  0.0000000  0.00000000  0.0000000   \n",
       "198       0.0000000  0.0000000  0.0000000  0.0000000  0.00000000  0.0000000   \n",
       "199       0.0000000  0.0000000  0.0000000  0.0000000  0.00000000  0.0000000   \n",
       "200       0.0000000  0.0000000  0.0000000  0.0000000  0.00000000  0.0000000   \n",
       "\n",
       "TRIPPURP      IX_LT      IX_MD   IX_HV         XI       XI_LT       XI_MD  \\\n",
       "0         1.0000000  1.0000000  1.0000  0.8000000  1.00000000  1.00000000   \n",
       "1         0.9300000  0.9300000  0.8125  0.7850000  0.98000000  0.98000000   \n",
       "2         0.4752302  0.4752302  0.6250  0.7000000  0.95000000  0.95000000   \n",
       "3         0.1363834  0.1363834  0.4375  0.6318079  0.85761910  0.85761910   \n",
       "4         0.0856060  0.0856060  0.3000  0.1831125  0.75632664  0.75632664   \n",
       "..              ...        ...     ...        ...         ...         ...   \n",
       "196       0.0000000  0.0000000  0.0000  0.0000000  0.00000000  0.00000000   \n",
       "197       0.0000000  0.0000000  0.0000  0.0000000  0.00000000  0.00000000   \n",
       "198       0.0000000  0.0000000  0.0000  0.0000000  0.00000000  0.00000000   \n",
       "199       0.0000000  0.0000000  0.0000  0.0000000  0.00000000  0.00000000   \n",
       "200       0.0000000  0.0000000  0.0000  0.0000000  0.00000000  0.00000000   \n",
       "\n",
       "TRIPPURP       XI_HV  \n",
       "0         1.00000000  \n",
       "1         0.90000000  \n",
       "2         0.67500000  \n",
       "3         0.36471580  \n",
       "4         0.07443150  \n",
       "..               ...  \n",
       "196       0.00094167  \n",
       "197       0.00000000  \n",
       "198       0.00000000  \n",
       "199       0.00000000  \n",
       "200       0.00000000  \n",
       "\n",
       "[201 rows x 19 columns]"
      ]
     },
     "metadata": {},
     "output_type": "display_data"
    }
   ],
   "source": [
    "# EXPORT CSV\n",
    "\n",
    "dfNextRoundFF_Pivot = dfNextRoundFF.pivot(index=('BIN'), columns=('TRIPPURP'), values=('FF'))\n",
    "dfNextRoundFF_Pivot.reset_index(inplace=True)\n",
    "dfNextRoundFF_Pivot.rename(columns={'BIN':';BIN'},inplace=True)\n",
    "\n",
    "colOrder = [';BIN','HBW','HBShp','HBOth','HBSchPr','HBSchSc','NHBW','NHBNW','LT','MD','HV','IX','IX_LT','IX_MD','IX_HV','XI','XI_LT','XI_MD','XI_HV']\n",
    "dfNextRoundFF_Pivot = dfNextRoundFF_Pivot[colOrder]\n",
    "\n",
    "path = os.path.join(dirIntermediate, str(lastRun) + '\\\\factors for next round\\\\FricFactor_AllPurp.csv')\n",
    "dfNextRoundFF_Pivot.to_csv(path, index=False, float_format=\"%.7f\")\n",
    "\n",
    "display(path)\n",
    "display(dfNextRoundFF_Pivot)"
   ]
  },
  {
   "cell_type": "code",
   "execution_count": 34,
   "metadata": {},
   "outputs": [
    {
     "data": {
      "application/vnd.jupyter.widget-view+json": {
       "model_id": "53b5076722b84aa586862883cd9f5934",
       "version_major": 2,
       "version_minor": 0
      },
      "text/plain": [
       "Output()"
      ]
     },
     "metadata": {},
     "output_type": "display_data"
    },
    {
     "data": {
      "application/vnd.jupyter.widget-view+json": {
       "model_id": "1a6d2a51191942b28d147b5dc42cc5ba",
       "version_major": 2,
       "version_minor": 0
      },
      "text/plain": [
       "HBox(children=(FloatSlider(value=0.0, description='Slope', max=5.0, min=-5.0, step=0.5), FloatSlider(value=0.0…"
      ]
     },
     "metadata": {},
     "output_type": "display_data"
    }
   ],
   "source": [
    "import matplotlib.pyplot as plt\n",
    "import numpy as np\n",
    "\n",
    "m = widgets.FloatSlider(min=-5,max=5,step=0.5, description=\"Slope\")\n",
    "c = widgets.FloatSlider(min=-5,max=5,step=0.5, description=\"Intercept\")\n",
    "\n",
    "# An HBox lays out its children horizontally\n",
    "ui = widgets.HBox([m, c])\n",
    "\n",
    "def plot(m, c):\n",
    "    x = np.random.rand(10)\n",
    "    y = m *x + c\n",
    "    plt.plot(x,y)\n",
    "    plt.show()\n",
    "\n",
    "out = widgets.interactive_output(plot, {'m': m, 'c': c})\n",
    "\n",
    "display(out, ui)"
   ]
  },
  {
   "cell_type": "code",
   "execution_count": null,
   "metadata": {},
   "outputs": [],
   "source": []
  }
 ],
 "metadata": {
  "kernelspec": {
   "display_name": "Python 3.9.13 ('base')",
   "language": "python",
   "name": "python3"
  },
  "language_info": {
   "codemirror_mode": {
    "name": "ipython",
    "version": 3
   },
   "file_extension": ".py",
   "mimetype": "text/x-python",
   "name": "python",
   "nbconvert_exporter": "python",
   "pygments_lexer": "ipython3",
   "version": "3.9.13"
  },
  "vscode": {
   "interpreter": {
    "hash": "4bb4605dfc804e0302ccd2292d0e6a4e9288eed266a860dfac34a70f30ea53a4"
   }
  }
 },
 "nbformat": 4,
 "nbformat_minor": 4
}
